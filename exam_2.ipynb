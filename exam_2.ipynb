{
 "cells": [
  {
   "cell_type": "markdown",
   "metadata": {
    "deletable": true,
    "editable": true
   },
   "source": [
    "# 修了試験（提出）"
   ]
  },
  {
   "cell_type": "markdown",
   "metadata": {
    "deletable": true,
    "editable": true
   },
   "source": [
    "## Chapter 3-4"
   ]
  },
  {
   "cell_type": "markdown",
   "metadata": {
    "deletable": true,
    "editable": true
   },
   "source": [
    "### 2 マーケティング分析"
   ]
  },
  {
   "cell_type": "markdown",
   "metadata": {
    "deletable": true,
    "editable": true
   },
   "source": [
    "4章の総合問題で扱った購買データをベースに以下の問いに答えて、課題を提出してください。（データの前処理は、以下の記載の通りに使ってください。）\n",
    "    \n",
    "購買者（CustomerID）の各合計購買金額を算出し、さらに金額をベースに降順に並び替えをします。カラムがCustomerIDと合計金額のあるテーブルを作成してください。そこから、購買者を10等分にグループ分けします（例：100人いたら、10人ずつにグループ分けします。）。それぞれのグループでの合計購買金額の範囲と、それぞれの金額合計値を算出してください（このアプローチをデシル分析といいます。）。この結果を用いて、パレートの法則（上位2割の顧客が売上全体の8割を占める）を確かめるため、**それぞれのグループが売上の何割を占めるか（Pandas.Series形式で売上が小さいグループが先頭、大きいほど後になるようにしてください）**提出してください。\n",
    "(なお、マーケティング戦略では、このように顧客を分けることをセグメンテーションといい、上位2割に絞ってアプローチを仕掛けることをターゲティングといいます。それぞれの戦略によりますが、優良顧客に的を絞った方が投資対効果が高いことが多いため、このようなアプローチを取ることがあります。)\n",
    "\n",
    "提出するときは、以下の点に注意してください。  \n",
    ">- 以下の関数homework2の!!WRITE ME!!に処理を書いてください。(**「!!WRITE ME!!」は消して、記入してください。**)\n",
    ">- 実際の提出は記述されたhomework関数全てになり、提出場所はilect上にあるHomeworkからsubmitしてください。\n",
    ">- 前処理は以下のコードを使ってください。  \n",
    ">- 返り値がPandas.Series形式になるようにしてください。  \n",
    ">- 解答は、my_result=pd.Series([0,0.01,0.02,0.021,0.022,0.025,0.025,0.1,0.2,0.6]) のような形になります。(売上割合は降順にして、合計は1になるようにします。)"
   ]
  },
  {
   "cell_type": "code",
<<<<<<< HEAD
   "execution_count": 3,
=======
   "execution_count": 1,
>>>>>>> 6f202dc7798dd7f621b45be1bbcb6cd601838fca
   "metadata": {
    "collapsed": false,
    "deletable": true,
    "editable": true
   },
   "outputs": [],
   "source": [
    "# common\n",
    "import pandas as pd\n",
    "\n",
    "## init part(データの読み込みと前処理)\n",
    "file_url = \"http://archive.ics.uci.edu/ml/machine-learning-databases/00352/Online%20Retail.xlsx\"\n",
    "online_retail_data = pd.ExcelFile(file_url)\n",
    "online_retail_data_table = online_retail_data.parse('Online Retail')\n",
    "\n",
    "online_retail_data_table['cancel_flg'] = online_retail_data_table.InvoiceNo.map(lambda x:str(x)[0])\n",
    "\n",
    "# 数字があるものとIDがNullでないものが対象\n",
    "target_online_retail_data_tb = online_retail_data_table[(online_retail_data_table.cancel_flg == '5') \n",
    "                                                        & (online_retail_data_table.CustomerID.notnull())]\n",
    "\n",
    "target_online_retail_data_tb = target_online_retail_data_tb.assign(TotalPrice=target_online_retail_data_tb.Quantity * target_online_retail_data_tb.UnitPrice)"
   ]
  },
  {
   "cell_type": "code",
<<<<<<< HEAD
   "execution_count": null,
   "metadata": {
    "collapsed": false,
    "deletable": true,
    "editable": true
   },
   "outputs": [],
   "source": [
    "target_online_retail_data_tb"
=======
   "execution_count": 86,
   "metadata": {
    "collapsed": false
   },
   "outputs": [
    {
     "data": {
      "text/plain": [
       "0    0.005156\n",
       "1    0.009779\n",
       "2    0.014826\n",
       "3    0.020183\n",
       "4    0.028380\n",
       "5    0.038579\n",
       "6    0.055182\n",
       "7    0.081744\n",
       "8    0.132421\n",
       "9    0.613751\n",
       "dtype: float64"
      ]
     },
     "execution_count": 86,
     "metadata": {},
     "output_type": "execute_result"
    }
   ],
   "source": [
    "df_sum = target_online_retail_data_tb.ix[:,['CustomerID','TotalPrice']].groupby('CustomerID').sum()\n",
    "series_sorted = pd.Series(list(df_sum['TotalPrice'].sort_values(ascending=False)))\n",
    "key = pd.qcut((series_sorted).reset_index(drop=True),10,labels=['J','I','H','G','F','E','D','C','B','A'])\n",
    "group_sum = series_sorted.groupby(key).sum()\n",
    "all_sum = group_sum.sum()\n",
    "my_result = (group_sum/all_sum).reset_index(drop=True)\n",
    "my_result"
>>>>>>> 6f202dc7798dd7f621b45be1bbcb6cd601838fca
   ]
  },
  {
   "cell_type": "code",
<<<<<<< HEAD
   "execution_count": 69,
=======
   "execution_count": 87,
>>>>>>> 6f202dc7798dd7f621b45be1bbcb6cd601838fca
   "metadata": {
    "collapsed": true,
    "deletable": true,
    "editable": true
   },
   "outputs": [],
   "source": [
    "# working place. everything \n",
    "def homework2(target_online_retail_data_tb):\n",
    "    df_sum = target_online_retail_data_tb.ix[:,['CustomerID','TotalPrice']].groupby('CustomerID').sum()\n",
    "    series_sorted = pd.Series(list(df_sum['TotalPrice'].sort_values(ascending=False)))\n",
    "    key = pd.qcut((series_sorted).reset_index(drop=True),10,labels=['J','I','H','G','F','E','D','C','B','A'])\n",
    "    group_sum = series_sorted.groupby(key).sum()\n",
    "    all_sum = group_sum.sum()\n",
    "    my_result = (group_sum/all_sum).reset_index(drop=True)\n",
    "    return my_result  "
   ]
  },
  {
   "cell_type": "code",
   "execution_count": 88,
   "metadata": {
    "collapsed": false
   },
   "outputs": [
    {
     "data": {
      "text/plain": [
       "0    0.005156\n",
       "1    0.009779\n",
       "2    0.014826\n",
       "3    0.020183\n",
       "4    0.028380\n",
       "5    0.038579\n",
       "6    0.055182\n",
       "7    0.081744\n",
       "8    0.132421\n",
       "9    0.613751\n",
       "dtype: float64"
      ]
     },
     "execution_count": 88,
     "metadata": {},
     "output_type": "execute_result"
    }
   ],
   "source": [
    "homework2(target_online_retail_data_tb)"
   ]
  },
  {
   "cell_type": "code",
   "execution_count": null,
   "metadata": {
    "collapsed": true
   },
   "outputs": [],
   "source": []
  }
 ],
 "metadata": {
  "anaconda-cloud": {},
  "kernelspec": {
   "display_name": "Python 3",
   "language": "python",
   "name": "python3"
  }
 },
 "nbformat": 4,
 "nbformat_minor": 0
}

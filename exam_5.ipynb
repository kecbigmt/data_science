{
 "cells": [
  {
   "cell_type": "markdown",
   "metadata": {
    "deletable": true,
    "editable": true
   },
   "source": [
    "# 修了試験（提出）"
   ]
  },
  {
   "cell_type": "markdown",
   "metadata": {
    "deletable": true,
    "editable": true
   },
   "source": [
    "## Chapter 8-9"
   ]
  },
  {
   "cell_type": "markdown",
   "metadata": {
    "deletable": true,
    "editable": true
   },
   "source": [
    "### 5 機械学習の基礎"
   ]
  },
  {
   "cell_type": "markdown",
   "metadata": {
    "deletable": true,
    "editable": true
   },
   "source": [
    "分析対象データとして、sklearnのdatasetsからload_iris(アヤメの花)を読み込んで、目的変数をiris.target、説明変数をiris.dataとして、決定木、ロジスティック回帰分析とk-NN(k=6で固定）、SVMのモデルを使って、予測と検証（学習データと検証データに分けます）を実施してください。これらの中で、一番正解率が高いモデルは何でしょうか。"
   ]
  },
  {
   "cell_type": "markdown",
   "metadata": {
    "deletable": true,
    "editable": true
   },
   "source": [
    "提出するときは、以下の点に注意してください。  \n",
    ">- 以下の関数homework5の!!WRITE ME!!に処理を書いてください。(**「!!WRITE ME!!」は消して、記入してください。**)\n",
    ">- 実際の提出は記述されたhomework関数全てになり、**提出場所はilect上にあるHomeworkからsubmitしてください。Contentsに関数を貼り付けます。**  \n",
    ">- 前処理は以下のコードを使って、これを引数としてください。今回は特に標準化等は実施していません。    \n",
    ">- 学習データと検証データの分け方に違いが生じないように、 train_test_splitのrandom_stateは0にしています。  \n",
    ">- 返り値は一番正解率が高いモデル名として、文字型にしてください。model.__class__.__name__がモデル名になります。  \n",
    "(例)tree.__class__.__name__は「DecisionTreeClassifier」"
   ]
  },
  {
   "cell_type": "code",
   "execution_count": 8,
   "metadata": {
    "collapsed": false,
    "deletable": true,
    "editable": true
   },
   "outputs": [
    {
     "name": "stdout",
     "output_type": "stream",
     "text": [
      "LogisticRegression 0.973684210526\n",
      "DecisionTreeClassifier 0.973684210526\n",
      "KNeighborsClassifier 1.0\n",
      "LinearSVC 0.973684210526\n",
      "BEST: KNeighborsClassifier 1.0\n"
     ]
    }
   ],
   "source": [
    "# common\n",
    "# ロジスティック回帰\n",
    "from sklearn.linear_model import LogisticRegression\n",
    "# SVM\n",
    "from sklearn.svm import LinearSVC\n",
    "# 決定木\n",
    "from sklearn.tree import  DecisionTreeClassifier\n",
    "# k-NN\n",
    "from sklearn.neighbors import  KNeighborsClassifier\n",
    "\n",
    "# データ分割\n",
    "from sklearn.cross_validation import train_test_split\n",
    "\n",
    "#分析対象データ\n",
    "from sklearn.datasets import load_iris\n",
    "\n",
    "# data\n",
    "iris = load_iris()\n",
    "X_train, X_test, y_train, y_test = train_test_split(\n",
    "    iris.data, iris.target, stratify = iris.target, random_state=0)\n",
    "\n",
    "logi_model = LogisticRegression()\n",
    "tree_model = DecisionTreeClassifier()\n",
    "knn_model = KNeighborsClassifier(n_neighbors=6)\n",
    "svm_model = LinearSVC()\n",
    "\n",
    "# initial value\n",
    "best_score = 0\n",
    "best_method = \"\"\n",
    "\n",
    "for model in [logi_model, tree_model, knn_model, svm_model]:\n",
    "    clf = model.fit(X_train,y_train)\n",
    "    name = clf.__class__.__name__\n",
    "    score = clf.score(X_test, y_test)\n",
    "    print(name, score)\n",
    "    if score > best_score:\n",
    "        best_score = score\n",
    "        best_method = name\n",
    "\n",
    "print(\"BEST:\", best_method, best_score)"
   ]
  },
  {
   "cell_type": "code",
   "execution_count": 9,
   "metadata": {
    "collapsed": true,
    "deletable": true,
    "editable": true
   },
   "outputs": [],
   "source": [
    "# working place. everything \n",
    "def homework5(X_train, X_test, y_train, y_test,best_score,best_method):\n",
    "    logi_model = LogisticRegression()\n",
    "    tree_model = DecisionTreeClassifier()\n",
    "    knn_model = KNeighborsClassifier(n_neighbors=6)\n",
    "    svm_model = LinearSVC()\n",
    "\n",
    "    for model in [logi_model, tree_model, knn_model, svm_model]:\n",
    "        clf = model.fit(X_train,y_train)\n",
    "        name = clf.__class__.__name__\n",
    "        score = clf.score(X_test, y_test)\n",
    "        print(name, score)\n",
    "        if score > best_score:\n",
    "            best_score = score\n",
    "            best_method = name\n",
    "    my_result = best_method\n",
    "    return my_result"
   ]
  },
  {
   "cell_type": "code",
   "execution_count": 10,
   "metadata": {
    "collapsed": false,
    "deletable": true,
    "editable": true
   },
   "outputs": [
    {
     "name": "stdout",
     "output_type": "stream",
     "text": [
      "LogisticRegression 0.973684210526\n",
      "DecisionTreeClassifier 0.973684210526\n",
      "KNeighborsClassifier 1.0\n",
      "LinearSVC 0.973684210526\n"
     ]
    },
    {
     "data": {
      "text/plain": [
       "'KNeighborsClassifier'"
      ]
     },
     "execution_count": 10,
     "metadata": {},
     "output_type": "execute_result"
    }
   ],
   "source": [
    "homework5(X_train, X_test, y_train, y_test,best_score=0,best_method='')"
   ]
  },
  {
   "cell_type": "code",
   "execution_count": null,
   "metadata": {
    "collapsed": true,
    "deletable": true,
    "editable": true
   },
   "outputs": [],
   "source": []
  }
 ],
 "metadata": {
  "anaconda-cloud": {},
  "kernelspec": {
   "display_name": "Python 3",
   "language": "python",
   "name": "python3"
  },
  "language_info": {
   "codemirror_mode": {
    "name": "ipython",
    "version": 3
   },
   "file_extension": ".py",
   "mimetype": "text/x-python",
   "name": "python",
   "nbconvert_exporter": "python",
   "pygments_lexer": "ipython3",
   "version": "3.5.2"
  }
 },
 "nbformat": 4,
 "nbformat_minor": 0
}

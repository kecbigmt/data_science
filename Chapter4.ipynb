{
 "cells": [
  {
   "cell_type": "markdown",
   "metadata": {},
   "source": [
    "# 4 データサイエンスにおけるデータ加工処理と可視化（PandasとMatplotlib）"
   ]
  },
  {
   "cell_type": "markdown",
   "metadata": {},
   "source": [
    "- **[4.1 Pandas](#4.1-Pandas)**\n",
    "    - [4.1.1 階層型インデックス](#4.1.1-階層型インデックス)\n",
    "    - [4.1.2 データのマージ](#4.1.2-データのマージ)\n",
    "    - [4.1.3 データの変換](#4.1.3-データの変換)\n",
    "    - [4.1.4 データの集約とグループ演算](#4.1.4-データの集約とグループ演算)\n",
    "<br><br>\n",
    "- **[4.2 データの可視化](#4.2-データの可視化)**\n",
    "    - [4.2.1 データ可視化の基礎](#4.2.1-データ可視化の基礎)\n",
    "    - [4.2.2 応用：金融データの可視化](#4.2.2-応用：金融データの可視化)\n",
    "<br><br>\n",
    "- **[4.3 欠損データと異常値の取り扱いの基礎](#4.3-欠損データと異常値の取り扱いの基礎)**\n",
    "    - [4.3.1 欠損データの扱い方](#4.3.1-欠損データの扱い方)\n",
    "    - [4.3.2 異常データの扱い方](#4.3.2-異常データの扱い方)\n",
    "<br><br>\n",
    "- **[4.4 総合問題](#4.4-総合問題)**\n",
    "    - [4.4.1 時系列データ分析](#4.4.1-時系列データ分析)\n",
    "    - [4.4.2 マーケティング分析](#4.4.2-マーケティング分析)"
   ]
  },
  {
   "cell_type": "markdown",
   "metadata": {},
   "source": [
    "***"
   ]
  },
  {
   "cell_type": "markdown",
   "metadata": {},
   "source": [
    "## 4.1 Pandas\n",
    "ゴール：Pandasの階層型インデックスを使える、データの結合ができる、group byなどを使って集計処理ができる"
   ]
  },
  {
   "cell_type": "code",
   "execution_count": 1,
   "metadata": {
    "collapsed": false
   },
   "outputs": [
    {
     "data": {
      "text/plain": [
       "'%.3f'"
      ]
     },
     "execution_count": 1,
     "metadata": {},
     "output_type": "execute_result"
    }
   ],
   "source": [
    "# 以下のモジュールを使うので、あらかじめ読み込んでおいてください\n",
    "import numpy as np\n",
    "import numpy.random as random\n",
    "import scipy as sp\n",
    "import pandas as pd\n",
    "from pandas import Series,DataFrame\n",
    "\n",
    "# 可視化モジュール\n",
    "import matplotlib.pyplot as plt\n",
    "import matplotlib as mpl\n",
    "import seaborn as sns\n",
    "%matplotlib inline\n",
    "\n",
    "# 小数第３まで表示\n",
    "%precision 3"
   ]
  },
  {
   "cell_type": "markdown",
   "metadata": {},
   "source": [
    "### 4.1.1 階層型インデックス\n",
    "キーワード：階層型インデックス\n"
   ]
  },
  {
   "cell_type": "markdown",
   "metadata": {},
   "source": [
    "この章では、データを自由にハンドリングするためのPandasの応用的な処理と、可視化のためのライブラリーmatplotlibについて扱っていきます。まずは、Pandasの**階層型インデックス**です。以下のデータセットでは、インデックスを2段構造で設定しており、indexを使います。はじめがaとb、次が1と2でインデックスを設定しています。"
   ]
  },
  {
   "cell_type": "code",
   "execution_count": 2,
   "metadata": {
    "collapsed": false
   },
   "outputs": [
    {
     "data": {
      "text/html": [
       "<div>\n",
       "<table border=\"1\" class=\"dataframe\">\n",
       "  <thead>\n",
       "    <tr>\n",
       "      <th></th>\n",
       "      <th></th>\n",
       "      <th>Osaka</th>\n",
       "      <th>Tokyo</th>\n",
       "      <th>Osaka</th>\n",
       "    </tr>\n",
       "    <tr>\n",
       "      <th></th>\n",
       "      <th></th>\n",
       "      <th>Blue</th>\n",
       "      <th>Red</th>\n",
       "      <th>Red</th>\n",
       "    </tr>\n",
       "  </thead>\n",
       "  <tbody>\n",
       "    <tr>\n",
       "      <th rowspan=\"2\" valign=\"top\">a</th>\n",
       "      <th>1</th>\n",
       "      <td>0</td>\n",
       "      <td>1</td>\n",
       "      <td>2</td>\n",
       "    </tr>\n",
       "    <tr>\n",
       "      <th>2</th>\n",
       "      <td>3</td>\n",
       "      <td>4</td>\n",
       "      <td>5</td>\n",
       "    </tr>\n",
       "    <tr>\n",
       "      <th>b</th>\n",
       "      <th>2</th>\n",
       "      <td>6</td>\n",
       "      <td>7</td>\n",
       "      <td>8</td>\n",
       "    </tr>\n",
       "  </tbody>\n",
       "</table>\n",
       "</div>"
      ],
      "text/plain": [
       "    Osaka Tokyo Osaka\n",
       "     Blue   Red   Red\n",
       "a 1     0     1     2\n",
       "  2     3     4     5\n",
       "b 2     6     7     8"
      ]
     },
     "execution_count": 2,
     "metadata": {},
     "output_type": "execute_result"
    }
   ],
   "source": [
    "hier_data_frame = DataFrame(np.arange(9).reshape((3,3))\n",
    "                           ,index = [['a','a','b'],[1,2,2]]\n",
    "                           ,columns = [['Osaka','Tokyo','Osaka']\n",
    "                                      ,['Blue','Red','Red']]\n",
    "                           )\n",
    "hier_data_frame"
   ]
  },
  {
   "cell_type": "markdown",
   "metadata": {},
   "source": [
    "先ほど設定したインデックスに名前をつけることも可能です。"
   ]
  },
  {
   "cell_type": "code",
   "execution_count": 3,
   "metadata": {
    "collapsed": false
   },
   "outputs": [
    {
     "data": {
      "text/html": [
       "<div>\n",
       "<table border=\"1\" class=\"dataframe\">\n",
       "  <thead>\n",
       "    <tr>\n",
       "      <th></th>\n",
       "      <th>city</th>\n",
       "      <th>Osaka</th>\n",
       "      <th>Tokyo</th>\n",
       "      <th>Osaka</th>\n",
       "    </tr>\n",
       "    <tr>\n",
       "      <th></th>\n",
       "      <th>color</th>\n",
       "      <th>Blue</th>\n",
       "      <th>Red</th>\n",
       "      <th>Red</th>\n",
       "    </tr>\n",
       "    <tr>\n",
       "      <th>key1</th>\n",
       "      <th>key2</th>\n",
       "      <th></th>\n",
       "      <th></th>\n",
       "      <th></th>\n",
       "    </tr>\n",
       "  </thead>\n",
       "  <tbody>\n",
       "    <tr>\n",
       "      <th rowspan=\"2\" valign=\"top\">a</th>\n",
       "      <th>1</th>\n",
       "      <td>0</td>\n",
       "      <td>1</td>\n",
       "      <td>2</td>\n",
       "    </tr>\n",
       "    <tr>\n",
       "      <th>2</th>\n",
       "      <td>3</td>\n",
       "      <td>4</td>\n",
       "      <td>5</td>\n",
       "    </tr>\n",
       "    <tr>\n",
       "      <th>b</th>\n",
       "      <th>2</th>\n",
       "      <td>6</td>\n",
       "      <td>7</td>\n",
       "      <td>8</td>\n",
       "    </tr>\n",
       "  </tbody>\n",
       "</table>\n",
       "</div>"
      ],
      "text/plain": [
       "city      Osaka Tokyo Osaka\n",
       "color      Blue   Red   Red\n",
       "key1 key2                  \n",
       "a    1        0     1     2\n",
       "     2        3     4     5\n",
       "b    2        6     7     8"
      ]
     },
     "execution_count": 3,
     "metadata": {},
     "output_type": "execute_result"
    }
   ],
   "source": [
    "# indexに名前を付ける\n",
    "hier_data_frame.index.names =['key1','key2']\n",
    "# カラムに名前を付ける\n",
    "hier_data_frame.columns.names =['city','color']\n",
    "hier_data_frame"
   ]
  },
  {
   "cell_type": "markdown",
   "metadata": {},
   "source": [
    "ここで例えば、カラムのcityについて、「Osaka」のデータだけ見たいとしましょう。グループの絞り込みで、データを抽出しています。"
   ]
  },
  {
   "cell_type": "code",
   "execution_count": 4,
   "metadata": {
    "collapsed": false
   },
   "outputs": [
    {
     "data": {
      "text/html": [
       "<div>\n",
       "<table border=\"1\" class=\"dataframe\">\n",
       "  <thead>\n",
       "    <tr style=\"text-align: right;\">\n",
       "      <th></th>\n",
       "      <th>color</th>\n",
       "      <th>Blue</th>\n",
       "      <th>Red</th>\n",
       "    </tr>\n",
       "    <tr>\n",
       "      <th>key1</th>\n",
       "      <th>key2</th>\n",
       "      <th></th>\n",
       "      <th></th>\n",
       "    </tr>\n",
       "  </thead>\n",
       "  <tbody>\n",
       "    <tr>\n",
       "      <th rowspan=\"2\" valign=\"top\">a</th>\n",
       "      <th>1</th>\n",
       "      <td>0</td>\n",
       "      <td>2</td>\n",
       "    </tr>\n",
       "    <tr>\n",
       "      <th>2</th>\n",
       "      <td>3</td>\n",
       "      <td>5</td>\n",
       "    </tr>\n",
       "    <tr>\n",
       "      <th>b</th>\n",
       "      <th>2</th>\n",
       "      <td>6</td>\n",
       "      <td>8</td>\n",
       "    </tr>\n",
       "  </tbody>\n",
       "</table>\n",
       "</div>"
      ],
      "text/plain": [
       "color      Blue  Red\n",
       "key1 key2           \n",
       "a    1        0    2\n",
       "     2        3    5\n",
       "b    2        6    8"
      ]
     },
     "execution_count": 4,
     "metadata": {},
     "output_type": "execute_result"
    }
   ],
   "source": [
    "hier_data_frame['Osaka']"
   ]
  },
  {
   "cell_type": "markdown",
   "metadata": {},
   "source": [
    "次はあるインデックスを軸にした集計で、以下はkey2ごとに合計を計算しています。"
   ]
  },
  {
   "cell_type": "code",
   "execution_count": 5,
   "metadata": {
    "collapsed": false
   },
   "outputs": [
    {
     "data": {
      "text/html": [
       "<div>\n",
       "<table border=\"1\" class=\"dataframe\">\n",
       "  <thead>\n",
       "    <tr>\n",
       "      <th>city</th>\n",
       "      <th>Osaka</th>\n",
       "      <th>Tokyo</th>\n",
       "      <th>Osaka</th>\n",
       "    </tr>\n",
       "    <tr>\n",
       "      <th>color</th>\n",
       "      <th>Blue</th>\n",
       "      <th>Red</th>\n",
       "      <th>Red</th>\n",
       "    </tr>\n",
       "    <tr>\n",
       "      <th>key2</th>\n",
       "      <th></th>\n",
       "      <th></th>\n",
       "      <th></th>\n",
       "    </tr>\n",
       "  </thead>\n",
       "  <tbody>\n",
       "    <tr>\n",
       "      <th>1</th>\n",
       "      <td>0</td>\n",
       "      <td>1</td>\n",
       "      <td>2</td>\n",
       "    </tr>\n",
       "    <tr>\n",
       "      <th>2</th>\n",
       "      <td>9</td>\n",
       "      <td>11</td>\n",
       "      <td>13</td>\n",
       "    </tr>\n",
       "  </tbody>\n",
       "</table>\n",
       "</div>"
      ],
      "text/plain": [
       "city  Osaka Tokyo Osaka\n",
       "color  Blue   Red   Red\n",
       "key2                   \n",
       "1         0     1     2\n",
       "2         9    11    13"
      ]
     },
     "execution_count": 5,
     "metadata": {},
     "output_type": "execute_result"
    }
   ],
   "source": [
    "# 階層ごとの要約統計量：行合計\n",
    "hier_data_frame.sum(level='key2')"
   ]
  },
  {
   "cell_type": "markdown",
   "metadata": {},
   "source": [
    "次は、「color」ごとの合計値です。軸はaxisで設定しています。"
   ]
  },
  {
   "cell_type": "code",
   "execution_count": 6,
   "metadata": {
    "collapsed": false
   },
   "outputs": [
    {
     "data": {
      "text/html": [
       "<div>\n",
       "<table border=\"1\" class=\"dataframe\">\n",
       "  <thead>\n",
       "    <tr style=\"text-align: right;\">\n",
       "      <th></th>\n",
       "      <th>color</th>\n",
       "      <th>Blue</th>\n",
       "      <th>Red</th>\n",
       "    </tr>\n",
       "    <tr>\n",
       "      <th>key1</th>\n",
       "      <th>key2</th>\n",
       "      <th></th>\n",
       "      <th></th>\n",
       "    </tr>\n",
       "  </thead>\n",
       "  <tbody>\n",
       "    <tr>\n",
       "      <th rowspan=\"2\" valign=\"top\">a</th>\n",
       "      <th>1</th>\n",
       "      <td>0</td>\n",
       "      <td>3</td>\n",
       "    </tr>\n",
       "    <tr>\n",
       "      <th>2</th>\n",
       "      <td>3</td>\n",
       "      <td>9</td>\n",
       "    </tr>\n",
       "    <tr>\n",
       "      <th>b</th>\n",
       "      <th>2</th>\n",
       "      <td>6</td>\n",
       "      <td>15</td>\n",
       "    </tr>\n",
       "  </tbody>\n",
       "</table>\n",
       "</div>"
      ],
      "text/plain": [
       "color      Blue  Red\n",
       "key1 key2           \n",
       "a    1        0    3\n",
       "     2        3    9\n",
       "b    2        6   15"
      ]
     },
     "execution_count": 6,
     "metadata": {},
     "output_type": "execute_result"
    }
   ],
   "source": [
    "# 列合計\n",
    "hier_data_frame.sum(level='color',axis=1)"
   ]
  },
  {
   "cell_type": "markdown",
   "metadata": {},
   "source": [
    "なお、あるインデックスを削除したい場合は、dropを使うことでインデックスの要素を削除できます。以下は　key1のbを削除しています。"
   ]
  },
  {
   "cell_type": "code",
   "execution_count": 7,
   "metadata": {
    "collapsed": false
   },
   "outputs": [
    {
     "data": {
      "text/html": [
       "<div>\n",
       "<table border=\"1\" class=\"dataframe\">\n",
       "  <thead>\n",
       "    <tr>\n",
       "      <th></th>\n",
       "      <th>city</th>\n",
       "      <th>Osaka</th>\n",
       "      <th>Tokyo</th>\n",
       "      <th>Osaka</th>\n",
       "    </tr>\n",
       "    <tr>\n",
       "      <th></th>\n",
       "      <th>color</th>\n",
       "      <th>Blue</th>\n",
       "      <th>Red</th>\n",
       "      <th>Red</th>\n",
       "    </tr>\n",
       "    <tr>\n",
       "      <th>key1</th>\n",
       "      <th>key2</th>\n",
       "      <th></th>\n",
       "      <th></th>\n",
       "      <th></th>\n",
       "    </tr>\n",
       "  </thead>\n",
       "  <tbody>\n",
       "    <tr>\n",
       "      <th rowspan=\"2\" valign=\"top\">a</th>\n",
       "      <th>1</th>\n",
       "      <td>0</td>\n",
       "      <td>1</td>\n",
       "      <td>2</td>\n",
       "    </tr>\n",
       "    <tr>\n",
       "      <th>2</th>\n",
       "      <td>3</td>\n",
       "      <td>4</td>\n",
       "      <td>5</td>\n",
       "    </tr>\n",
       "  </tbody>\n",
       "</table>\n",
       "</div>"
      ],
      "text/plain": [
       "city      Osaka Tokyo Osaka\n",
       "color      Blue   Red   Red\n",
       "key1 key2                  \n",
       "a    1        0     1     2\n",
       "     2        3     4     5"
      ]
     },
     "execution_count": 7,
     "metadata": {},
     "output_type": "execute_result"
    }
   ],
   "source": [
    "hier_data_frame.drop([\"b\"])"
   ]
  },
  {
   "cell_type": "markdown",
   "metadata": {},
   "source": [
    "以上で、階層型インデックスの説明を終わります。"
   ]
  },
  {
   "cell_type": "markdown",
   "metadata": {},
   "source": [
    "#### <練習問題 1>\n",
    "\n",
    "次のデータに対して、Kyotoの列だけ抜き出してみましょう。"
   ]
  },
  {
   "cell_type": "code",
   "execution_count": 8,
   "metadata": {
    "collapsed": false
   },
   "outputs": [
    {
     "data": {
      "text/html": [
       "<div>\n",
       "<table border=\"1\" class=\"dataframe\">\n",
       "  <thead>\n",
       "    <tr>\n",
       "      <th></th>\n",
       "      <th>city</th>\n",
       "      <th>Kyoto</th>\n",
       "      <th>Nagoya</th>\n",
       "      <th>Hokkaido</th>\n",
       "      <th>Kyoto</th>\n",
       "    </tr>\n",
       "    <tr>\n",
       "      <th></th>\n",
       "      <th>color</th>\n",
       "      <th>Yellow</th>\n",
       "      <th>Yellow</th>\n",
       "      <th>Red</th>\n",
       "      <th>Blue</th>\n",
       "    </tr>\n",
       "    <tr>\n",
       "      <th>key1</th>\n",
       "      <th>key2</th>\n",
       "      <th></th>\n",
       "      <th></th>\n",
       "      <th></th>\n",
       "      <th></th>\n",
       "    </tr>\n",
       "  </thead>\n",
       "  <tbody>\n",
       "    <tr>\n",
       "      <th>c</th>\n",
       "      <th>1</th>\n",
       "      <td>0</td>\n",
       "      <td>1</td>\n",
       "      <td>2</td>\n",
       "      <td>3</td>\n",
       "    </tr>\n",
       "    <tr>\n",
       "      <th rowspan=\"2\" valign=\"top\">d</th>\n",
       "      <th>2</th>\n",
       "      <td>4</td>\n",
       "      <td>5</td>\n",
       "      <td>6</td>\n",
       "      <td>7</td>\n",
       "    </tr>\n",
       "    <tr>\n",
       "      <th>1</th>\n",
       "      <td>8</td>\n",
       "      <td>9</td>\n",
       "      <td>10</td>\n",
       "      <td>11</td>\n",
       "    </tr>\n",
       "  </tbody>\n",
       "</table>\n",
       "</div>"
      ],
      "text/plain": [
       "city       Kyoto Nagoya Hokkaido Kyoto\n",
       "color     Yellow Yellow      Red  Blue\n",
       "key1 key2                             \n",
       "c    1         0      1        2     3\n",
       "d    2         4      5        6     7\n",
       "     1         8      9       10    11"
      ]
     },
     "execution_count": 8,
     "metadata": {},
     "output_type": "execute_result"
    }
   ],
   "source": [
    "hier_data_frame1 = DataFrame(np.arange(12).reshape((3,4))\n",
    "                           ,index = [['c','d','d'],[1,2,1]]\n",
    "                           ,columns = [['Kyoto','Nagoya','Hokkaido','Kyoto']\n",
    "                                      ,['Yellow','Yellow','Red','Blue']]\n",
    "                           )\n",
    "\n",
    "hier_data_frame1.index.names =['key1','key2']\n",
    "hier_data_frame1.columns.names =['city','color']\n",
    "hier_data_frame1"
   ]
  },
  {
   "cell_type": "markdown",
   "metadata": {},
   "source": [
    "#### <練習問題 2>\n",
    "\n",
    "練習問題1のデータに対して、cityをまとめて列同士の平均値を出してください。"
   ]
  },
  {
   "cell_type": "markdown",
   "metadata": {},
   "source": [
    "#### <練習問題 3>\n",
    "\n",
    "練習問題1のデータに対して、key2ごとに行の合計値を算出してみましょう。\n"
   ]
  },
  {
   "cell_type": "markdown",
   "metadata": {},
   "source": [
    "### 4.1.2 データのマージ\n",
    "キーワード：内部結合、外部結合"
   ]
  },
  {
   "cell_type": "markdown",
   "metadata": {},
   "source": [
    "データの結合については1章で少し学びました。結合と言っても色々なパターンがあります。以下でそれらを紹介していきます。まずは、ここで学ぶマージの対象となるデータを準備します。5章のSQLでも同じデータ操作を学びます。"
   ]
  },
  {
   "cell_type": "code",
   "execution_count": 10,
   "metadata": {
    "collapsed": false
   },
   "outputs": [
    {
     "data": {
      "text/html": [
       "<div>\n",
       "<table border=\"1\" class=\"dataframe\">\n",
       "  <thead>\n",
       "    <tr style=\"text-align: right;\">\n",
       "      <th></th>\n",
       "      <th>ID</th>\n",
       "      <th>birth_year</th>\n",
       "      <th>city</th>\n",
       "      <th>name</th>\n",
       "    </tr>\n",
       "  </thead>\n",
       "  <tbody>\n",
       "    <tr>\n",
       "      <th>e</th>\n",
       "      <td>100</td>\n",
       "      <td>1990</td>\n",
       "      <td>Tokyo</td>\n",
       "      <td>Hiroshi</td>\n",
       "    </tr>\n",
       "    <tr>\n",
       "      <th>b</th>\n",
       "      <td>101</td>\n",
       "      <td>1989</td>\n",
       "      <td>Osaka</td>\n",
       "      <td>Akiko</td>\n",
       "    </tr>\n",
       "    <tr>\n",
       "      <th>a</th>\n",
       "      <td>102</td>\n",
       "      <td>1992</td>\n",
       "      <td>Kyoto</td>\n",
       "      <td>Yuki</td>\n",
       "    </tr>\n",
       "    <tr>\n",
       "      <th>d</th>\n",
       "      <td>103</td>\n",
       "      <td>1997</td>\n",
       "      <td>Hokkaido</td>\n",
       "      <td>Satoru</td>\n",
       "    </tr>\n",
       "    <tr>\n",
       "      <th>c</th>\n",
       "      <td>104</td>\n",
       "      <td>1982</td>\n",
       "      <td>Tokyo</td>\n",
       "      <td>Steeve</td>\n",
       "    </tr>\n",
       "    <tr>\n",
       "      <th>f</th>\n",
       "      <td>106</td>\n",
       "      <td>1991</td>\n",
       "      <td>Tokyo</td>\n",
       "      <td>Mituru</td>\n",
       "    </tr>\n",
       "    <tr>\n",
       "      <th>g</th>\n",
       "      <td>108</td>\n",
       "      <td>1988</td>\n",
       "      <td>Osaka</td>\n",
       "      <td>Aoi</td>\n",
       "    </tr>\n",
       "    <tr>\n",
       "      <th>h</th>\n",
       "      <td>110</td>\n",
       "      <td>1990</td>\n",
       "      <td>Kyoto</td>\n",
       "      <td>Tarou</td>\n",
       "    </tr>\n",
       "    <tr>\n",
       "      <th>j</th>\n",
       "      <td>111</td>\n",
       "      <td>1995</td>\n",
       "      <td>Hokkaido</td>\n",
       "      <td>Suguru</td>\n",
       "    </tr>\n",
       "    <tr>\n",
       "      <th>i</th>\n",
       "      <td>113</td>\n",
       "      <td>1981</td>\n",
       "      <td>Tokyo</td>\n",
       "      <td>Mitsuo</td>\n",
       "    </tr>\n",
       "  </tbody>\n",
       "</table>\n",
       "</div>"
      ],
      "text/plain": [
       "    ID  birth_year      city     name\n",
       "e  100        1990     Tokyo  Hiroshi\n",
       "b  101        1989     Osaka    Akiko\n",
       "a  102        1992     Kyoto     Yuki\n",
       "d  103        1997  Hokkaido   Satoru\n",
       "c  104        1982     Tokyo   Steeve\n",
       "f  106        1991     Tokyo   Mituru\n",
       "g  108        1988     Osaka      Aoi\n",
       "h  110        1990     Kyoto    Tarou\n",
       "j  111        1995  Hokkaido   Suguru\n",
       "i  113        1981     Tokyo   Mitsuo"
      ]
     },
     "execution_count": 10,
     "metadata": {},
     "output_type": "execute_result"
    }
   ],
   "source": [
    "# データ1の準備\n",
    "attri_data1 = {'ID':['100','101','102','103','104','106','108','110','111','113']\n",
    "        ,'city':['Tokyo','Osaka','Kyoto','Hokkaido','Tokyo','Tokyo','Osaka','Kyoto','Hokkaido','Tokyo']\n",
    "        ,'birth_year':[1990,1989,1992,1997,1982,1991,1988,1990,1995,1981]\n",
    "        ,'name':['Hiroshi','Akiko','Yuki','Satoru','Steeve','Mituru','Aoi','Tarou','Suguru','Mitsuo']}\n",
    "attri_data_frame1 = DataFrame(attri_data1)\n",
    "attri_data_frame_index1 = DataFrame(attri_data1,index=['e','b','a','d','c','f','g','h','j','i'])\n",
    "attri_data_frame_index1"
   ]
  },
  {
   "cell_type": "code",
   "execution_count": 11,
   "metadata": {
    "collapsed": false
   },
   "outputs": [
    {
     "data": {
      "text/html": [
       "<div>\n",
       "<table border=\"1\" class=\"dataframe\">\n",
       "  <thead>\n",
       "    <tr style=\"text-align: right;\">\n",
       "      <th></th>\n",
       "      <th>English</th>\n",
       "      <th>ID</th>\n",
       "      <th>index_num</th>\n",
       "      <th>math</th>\n",
       "      <th>sex</th>\n",
       "    </tr>\n",
       "  </thead>\n",
       "  <tbody>\n",
       "    <tr>\n",
       "      <th>0</th>\n",
       "      <td>90</td>\n",
       "      <td>100</td>\n",
       "      <td>0</td>\n",
       "      <td>50</td>\n",
       "      <td>M</td>\n",
       "    </tr>\n",
       "    <tr>\n",
       "      <th>1</th>\n",
       "      <td>30</td>\n",
       "      <td>101</td>\n",
       "      <td>1</td>\n",
       "      <td>43</td>\n",
       "      <td>F</td>\n",
       "    </tr>\n",
       "    <tr>\n",
       "      <th>2</th>\n",
       "      <td>20</td>\n",
       "      <td>102</td>\n",
       "      <td>2</td>\n",
       "      <td>33</td>\n",
       "      <td>F</td>\n",
       "    </tr>\n",
       "    <tr>\n",
       "      <th>3</th>\n",
       "      <td>50</td>\n",
       "      <td>105</td>\n",
       "      <td>3</td>\n",
       "      <td>76</td>\n",
       "      <td>M</td>\n",
       "    </tr>\n",
       "    <tr>\n",
       "      <th>4</th>\n",
       "      <td>30</td>\n",
       "      <td>107</td>\n",
       "      <td>4</td>\n",
       "      <td>98</td>\n",
       "      <td>M</td>\n",
       "    </tr>\n",
       "  </tbody>\n",
       "</table>\n",
       "</div>"
      ],
      "text/plain": [
       "   English   ID  index_num  math sex\n",
       "0       90  100          0    50   M\n",
       "1       30  101          1    43   F\n",
       "2       20  102          2    33   F\n",
       "3       50  105          3    76   M\n",
       "4       30  107          4    98   M"
      ]
     },
     "execution_count": 11,
     "metadata": {},
     "output_type": "execute_result"
    }
   ],
   "source": [
    "# データ2の準備\n",
    "attri_data2 = {'ID':['100','101','102','105','107']\n",
    "        ,'math':[50,43,33,76,98]\n",
    "        ,'English':[90,30,20,50,30]\n",
    "        ,'sex':['M','F','F','M','M']\n",
    "        ,'index_num':[0,1,2,3,4]}\n",
    "attri_data_frame2 = DataFrame(attri_data2)\n",
    "attri_data_frame2"
   ]
  },
  {
   "cell_type": "markdown",
   "metadata": {},
   "source": [
    "上記のデータ2つに対して、IDをキーとして結合すると、以下のようになります。onをキーとして設定します。"
   ]
  },
  {
   "cell_type": "code",
   "execution_count": 104,
   "metadata": {
    "collapsed": false
   },
   "outputs": [
    {
     "name": "stdout",
     "output_type": "stream",
     "text": [
      "・結合テーブル\n"
     ]
    },
    {
     "data": {
      "text/html": [
       "<div>\n",
       "<table border=\"1\" class=\"dataframe\">\n",
       "  <thead>\n",
       "    <tr style=\"text-align: right;\">\n",
       "      <th></th>\n",
       "      <th>ID</th>\n",
       "      <th>birth_year</th>\n",
       "      <th>city</th>\n",
       "      <th>name</th>\n",
       "      <th>English</th>\n",
       "      <th>index_num</th>\n",
       "      <th>math</th>\n",
       "      <th>sex</th>\n",
       "    </tr>\n",
       "  </thead>\n",
       "  <tbody>\n",
       "    <tr>\n",
       "      <th>0</th>\n",
       "      <td>100</td>\n",
       "      <td>1990</td>\n",
       "      <td>Tokyo</td>\n",
       "      <td>Hiroshi</td>\n",
       "      <td>90</td>\n",
       "      <td>0</td>\n",
       "      <td>50</td>\n",
       "      <td>M</td>\n",
       "    </tr>\n",
       "    <tr>\n",
       "      <th>1</th>\n",
       "      <td>101</td>\n",
       "      <td>1989</td>\n",
       "      <td>Osaka</td>\n",
       "      <td>Akiko</td>\n",
       "      <td>30</td>\n",
       "      <td>1</td>\n",
       "      <td>43</td>\n",
       "      <td>F</td>\n",
       "    </tr>\n",
       "    <tr>\n",
       "      <th>2</th>\n",
       "      <td>102</td>\n",
       "      <td>1992</td>\n",
       "      <td>Kyoto</td>\n",
       "      <td>Yuki</td>\n",
       "      <td>20</td>\n",
       "      <td>2</td>\n",
       "      <td>33</td>\n",
       "      <td>F</td>\n",
       "    </tr>\n",
       "  </tbody>\n",
       "</table>\n",
       "</div>"
      ],
      "text/plain": [
       "    ID  birth_year   city     name  English  index_num  math sex\n",
       "0  100        1990  Tokyo  Hiroshi       90          0    50   M\n",
       "1  101        1989  Osaka    Akiko       30          1    43   F\n",
       "2  102        1992  Kyoto     Yuki       20          2    33   F"
      ]
     },
     "execution_count": 104,
     "metadata": {},
     "output_type": "execute_result"
    }
   ],
   "source": [
    "# データのマージ（内部結合、inner　join が略、またキーは自動的に認識されるが、onで明示的に指定可能）\n",
    "# また複数キーも可能、リストで指定\n",
    "print(\"・結合テーブル\")\n",
    "pd.merge(attri_data_frame1,attri_data_frame2,on='ID')"
   ]
  },
  {
   "cell_type": "markdown",
   "metadata": {},
   "source": [
    "次は、左側のテーブルに合わせて、データフレーム2のデータを結合しています。左側に対応するデータが右にない場合は、NaNになります。"
   ]
  },
  {
   "cell_type": "code",
   "execution_count": 105,
   "metadata": {
    "collapsed": false
   },
   "outputs": [
    {
     "data": {
      "text/html": [
       "<div>\n",
       "<table border=\"1\" class=\"dataframe\">\n",
       "  <thead>\n",
       "    <tr style=\"text-align: right;\">\n",
       "      <th></th>\n",
       "      <th>ID</th>\n",
       "      <th>birth_year</th>\n",
       "      <th>city</th>\n",
       "      <th>name</th>\n",
       "      <th>English</th>\n",
       "      <th>index_num</th>\n",
       "      <th>math</th>\n",
       "      <th>sex</th>\n",
       "    </tr>\n",
       "  </thead>\n",
       "  <tbody>\n",
       "    <tr>\n",
       "      <th>0</th>\n",
       "      <td>100</td>\n",
       "      <td>1990</td>\n",
       "      <td>Tokyo</td>\n",
       "      <td>Hiroshi</td>\n",
       "      <td>90.0</td>\n",
       "      <td>0.0</td>\n",
       "      <td>50.0</td>\n",
       "      <td>M</td>\n",
       "    </tr>\n",
       "    <tr>\n",
       "      <th>1</th>\n",
       "      <td>101</td>\n",
       "      <td>1989</td>\n",
       "      <td>Osaka</td>\n",
       "      <td>Akiko</td>\n",
       "      <td>30.0</td>\n",
       "      <td>1.0</td>\n",
       "      <td>43.0</td>\n",
       "      <td>F</td>\n",
       "    </tr>\n",
       "    <tr>\n",
       "      <th>2</th>\n",
       "      <td>102</td>\n",
       "      <td>1992</td>\n",
       "      <td>Kyoto</td>\n",
       "      <td>Yuki</td>\n",
       "      <td>20.0</td>\n",
       "      <td>2.0</td>\n",
       "      <td>33.0</td>\n",
       "      <td>F</td>\n",
       "    </tr>\n",
       "    <tr>\n",
       "      <th>3</th>\n",
       "      <td>103</td>\n",
       "      <td>1997</td>\n",
       "      <td>Hokkaido</td>\n",
       "      <td>Satoru</td>\n",
       "      <td>NaN</td>\n",
       "      <td>NaN</td>\n",
       "      <td>NaN</td>\n",
       "      <td>NaN</td>\n",
       "    </tr>\n",
       "    <tr>\n",
       "      <th>4</th>\n",
       "      <td>104</td>\n",
       "      <td>1982</td>\n",
       "      <td>Tokyo</td>\n",
       "      <td>Steeve</td>\n",
       "      <td>NaN</td>\n",
       "      <td>NaN</td>\n",
       "      <td>NaN</td>\n",
       "      <td>NaN</td>\n",
       "    </tr>\n",
       "    <tr>\n",
       "      <th>5</th>\n",
       "      <td>106</td>\n",
       "      <td>1991</td>\n",
       "      <td>Tokyo</td>\n",
       "      <td>Mituru</td>\n",
       "      <td>NaN</td>\n",
       "      <td>NaN</td>\n",
       "      <td>NaN</td>\n",
       "      <td>NaN</td>\n",
       "    </tr>\n",
       "    <tr>\n",
       "      <th>6</th>\n",
       "      <td>108</td>\n",
       "      <td>1988</td>\n",
       "      <td>Osaka</td>\n",
       "      <td>Aoi</td>\n",
       "      <td>NaN</td>\n",
       "      <td>NaN</td>\n",
       "      <td>NaN</td>\n",
       "      <td>NaN</td>\n",
       "    </tr>\n",
       "    <tr>\n",
       "      <th>7</th>\n",
       "      <td>110</td>\n",
       "      <td>1990</td>\n",
       "      <td>Kyoto</td>\n",
       "      <td>Tarou</td>\n",
       "      <td>NaN</td>\n",
       "      <td>NaN</td>\n",
       "      <td>NaN</td>\n",
       "      <td>NaN</td>\n",
       "    </tr>\n",
       "    <tr>\n",
       "      <th>8</th>\n",
       "      <td>111</td>\n",
       "      <td>1995</td>\n",
       "      <td>Hokkaido</td>\n",
       "      <td>Suguru</td>\n",
       "      <td>NaN</td>\n",
       "      <td>NaN</td>\n",
       "      <td>NaN</td>\n",
       "      <td>NaN</td>\n",
       "    </tr>\n",
       "    <tr>\n",
       "      <th>9</th>\n",
       "      <td>113</td>\n",
       "      <td>1981</td>\n",
       "      <td>Tokyo</td>\n",
       "      <td>Mitsuo</td>\n",
       "      <td>NaN</td>\n",
       "      <td>NaN</td>\n",
       "      <td>NaN</td>\n",
       "      <td>NaN</td>\n",
       "    </tr>\n",
       "  </tbody>\n",
       "</table>\n",
       "</div>"
      ],
      "text/plain": [
       "    ID  birth_year      city     name  English  index_num  math  sex\n",
       "0  100        1990     Tokyo  Hiroshi     90.0        0.0  50.0    M\n",
       "1  101        1989     Osaka    Akiko     30.0        1.0  43.0    F\n",
       "2  102        1992     Kyoto     Yuki     20.0        2.0  33.0    F\n",
       "3  103        1997  Hokkaido   Satoru      NaN        NaN   NaN  NaN\n",
       "4  104        1982     Tokyo   Steeve      NaN        NaN   NaN  NaN\n",
       "5  106        1991     Tokyo   Mituru      NaN        NaN   NaN  NaN\n",
       "6  108        1988     Osaka      Aoi      NaN        NaN   NaN  NaN\n",
       "7  110        1990     Kyoto    Tarou      NaN        NaN   NaN  NaN\n",
       "8  111        1995  Hokkaido   Suguru      NaN        NaN   NaN  NaN\n",
       "9  113        1981     Tokyo   Mitsuo      NaN        NaN   NaN  NaN"
      ]
     },
     "execution_count": 105,
     "metadata": {},
     "output_type": "execute_result"
    }
   ],
   "source": [
    "# データのマージ（left）\n",
    "pd.merge(attri_data_frame1,attri_data_frame2,how='left')"
   ]
  },
  {
   "cell_type": "markdown",
   "metadata": {},
   "source": [
    "次は、どちらのデータにも存在するデータで結合しています。値がない場合は、NaNになります。"
   ]
  },
  {
   "cell_type": "code",
   "execution_count": 106,
   "metadata": {
    "collapsed": false
   },
   "outputs": [
    {
     "data": {
      "text/html": [
       "<div>\n",
       "<table border=\"1\" class=\"dataframe\">\n",
       "  <thead>\n",
       "    <tr style=\"text-align: right;\">\n",
       "      <th></th>\n",
       "      <th>ID</th>\n",
       "      <th>birth_year</th>\n",
       "      <th>city</th>\n",
       "      <th>name</th>\n",
       "      <th>English</th>\n",
       "      <th>index_num</th>\n",
       "      <th>math</th>\n",
       "      <th>sex</th>\n",
       "    </tr>\n",
       "  </thead>\n",
       "  <tbody>\n",
       "    <tr>\n",
       "      <th>0</th>\n",
       "      <td>100</td>\n",
       "      <td>1990.0</td>\n",
       "      <td>Tokyo</td>\n",
       "      <td>Hiroshi</td>\n",
       "      <td>90.0</td>\n",
       "      <td>0.0</td>\n",
       "      <td>50.0</td>\n",
       "      <td>M</td>\n",
       "    </tr>\n",
       "    <tr>\n",
       "      <th>1</th>\n",
       "      <td>101</td>\n",
       "      <td>1989.0</td>\n",
       "      <td>Osaka</td>\n",
       "      <td>Akiko</td>\n",
       "      <td>30.0</td>\n",
       "      <td>1.0</td>\n",
       "      <td>43.0</td>\n",
       "      <td>F</td>\n",
       "    </tr>\n",
       "    <tr>\n",
       "      <th>2</th>\n",
       "      <td>102</td>\n",
       "      <td>1992.0</td>\n",
       "      <td>Kyoto</td>\n",
       "      <td>Yuki</td>\n",
       "      <td>20.0</td>\n",
       "      <td>2.0</td>\n",
       "      <td>33.0</td>\n",
       "      <td>F</td>\n",
       "    </tr>\n",
       "    <tr>\n",
       "      <th>3</th>\n",
       "      <td>103</td>\n",
       "      <td>1997.0</td>\n",
       "      <td>Hokkaido</td>\n",
       "      <td>Satoru</td>\n",
       "      <td>NaN</td>\n",
       "      <td>NaN</td>\n",
       "      <td>NaN</td>\n",
       "      <td>NaN</td>\n",
       "    </tr>\n",
       "    <tr>\n",
       "      <th>4</th>\n",
       "      <td>104</td>\n",
       "      <td>1982.0</td>\n",
       "      <td>Tokyo</td>\n",
       "      <td>Steeve</td>\n",
       "      <td>NaN</td>\n",
       "      <td>NaN</td>\n",
       "      <td>NaN</td>\n",
       "      <td>NaN</td>\n",
       "    </tr>\n",
       "    <tr>\n",
       "      <th>5</th>\n",
       "      <td>106</td>\n",
       "      <td>1991.0</td>\n",
       "      <td>Tokyo</td>\n",
       "      <td>Mituru</td>\n",
       "      <td>NaN</td>\n",
       "      <td>NaN</td>\n",
       "      <td>NaN</td>\n",
       "      <td>NaN</td>\n",
       "    </tr>\n",
       "    <tr>\n",
       "      <th>6</th>\n",
       "      <td>108</td>\n",
       "      <td>1988.0</td>\n",
       "      <td>Osaka</td>\n",
       "      <td>Aoi</td>\n",
       "      <td>NaN</td>\n",
       "      <td>NaN</td>\n",
       "      <td>NaN</td>\n",
       "      <td>NaN</td>\n",
       "    </tr>\n",
       "    <tr>\n",
       "      <th>7</th>\n",
       "      <td>110</td>\n",
       "      <td>1990.0</td>\n",
       "      <td>Kyoto</td>\n",
       "      <td>Tarou</td>\n",
       "      <td>NaN</td>\n",
       "      <td>NaN</td>\n",
       "      <td>NaN</td>\n",
       "      <td>NaN</td>\n",
       "    </tr>\n",
       "    <tr>\n",
       "      <th>8</th>\n",
       "      <td>111</td>\n",
       "      <td>1995.0</td>\n",
       "      <td>Hokkaido</td>\n",
       "      <td>Suguru</td>\n",
       "      <td>NaN</td>\n",
       "      <td>NaN</td>\n",
       "      <td>NaN</td>\n",
       "      <td>NaN</td>\n",
       "    </tr>\n",
       "    <tr>\n",
       "      <th>9</th>\n",
       "      <td>113</td>\n",
       "      <td>1981.0</td>\n",
       "      <td>Tokyo</td>\n",
       "      <td>Mitsuo</td>\n",
       "      <td>NaN</td>\n",
       "      <td>NaN</td>\n",
       "      <td>NaN</td>\n",
       "      <td>NaN</td>\n",
       "    </tr>\n",
       "    <tr>\n",
       "      <th>10</th>\n",
       "      <td>105</td>\n",
       "      <td>NaN</td>\n",
       "      <td>NaN</td>\n",
       "      <td>NaN</td>\n",
       "      <td>50.0</td>\n",
       "      <td>3.0</td>\n",
       "      <td>76.0</td>\n",
       "      <td>M</td>\n",
       "    </tr>\n",
       "    <tr>\n",
       "      <th>11</th>\n",
       "      <td>107</td>\n",
       "      <td>NaN</td>\n",
       "      <td>NaN</td>\n",
       "      <td>NaN</td>\n",
       "      <td>30.0</td>\n",
       "      <td>4.0</td>\n",
       "      <td>98.0</td>\n",
       "      <td>M</td>\n",
       "    </tr>\n",
       "  </tbody>\n",
       "</table>\n",
       "</div>"
      ],
      "text/plain": [
       "     ID  birth_year      city     name  English  index_num  math  sex\n",
       "0   100      1990.0     Tokyo  Hiroshi     90.0        0.0  50.0    M\n",
       "1   101      1989.0     Osaka    Akiko     30.0        1.0  43.0    F\n",
       "2   102      1992.0     Kyoto     Yuki     20.0        2.0  33.0    F\n",
       "3   103      1997.0  Hokkaido   Satoru      NaN        NaN   NaN  NaN\n",
       "4   104      1982.0     Tokyo   Steeve      NaN        NaN   NaN  NaN\n",
       "5   106      1991.0     Tokyo   Mituru      NaN        NaN   NaN  NaN\n",
       "6   108      1988.0     Osaka      Aoi      NaN        NaN   NaN  NaN\n",
       "7   110      1990.0     Kyoto    Tarou      NaN        NaN   NaN  NaN\n",
       "8   111      1995.0  Hokkaido   Suguru      NaN        NaN   NaN  NaN\n",
       "9   113      1981.0     Tokyo   Mitsuo      NaN        NaN   NaN  NaN\n",
       "10  105         NaN       NaN      NaN     50.0        3.0  76.0    M\n",
       "11  107         NaN       NaN      NaN     30.0        4.0  98.0    M"
      ]
     },
     "execution_count": 106,
     "metadata": {},
     "output_type": "execute_result"
    }
   ],
   "source": [
    "# データのマージ（outer）\n",
    "pd.merge(attri_data_frame1,attri_data_frame2,how='outer')"
   ]
  },
  {
   "cell_type": "markdown",
   "metadata": {},
   "source": [
    "インデックスを指定することでも、結合は可能です。"
   ]
  },
  {
   "cell_type": "code",
   "execution_count": 107,
   "metadata": {
    "collapsed": false
   },
   "outputs": [
    {
     "data": {
      "text/html": [
       "<div>\n",
       "<table border=\"1\" class=\"dataframe\">\n",
       "  <thead>\n",
       "    <tr style=\"text-align: right;\">\n",
       "      <th></th>\n",
       "      <th>ID_x</th>\n",
       "      <th>birth_year</th>\n",
       "      <th>city</th>\n",
       "      <th>name</th>\n",
       "      <th>English</th>\n",
       "      <th>ID_y</th>\n",
       "      <th>index_num</th>\n",
       "      <th>math</th>\n",
       "      <th>sex</th>\n",
       "    </tr>\n",
       "  </thead>\n",
       "  <tbody>\n",
       "    <tr>\n",
       "      <th>0</th>\n",
       "      <td>100</td>\n",
       "      <td>1990</td>\n",
       "      <td>Tokyo</td>\n",
       "      <td>Hiroshi</td>\n",
       "      <td>90</td>\n",
       "      <td>100</td>\n",
       "      <td>0</td>\n",
       "      <td>50</td>\n",
       "      <td>M</td>\n",
       "    </tr>\n",
       "    <tr>\n",
       "      <th>1</th>\n",
       "      <td>101</td>\n",
       "      <td>1989</td>\n",
       "      <td>Osaka</td>\n",
       "      <td>Akiko</td>\n",
       "      <td>30</td>\n",
       "      <td>101</td>\n",
       "      <td>1</td>\n",
       "      <td>43</td>\n",
       "      <td>F</td>\n",
       "    </tr>\n",
       "    <tr>\n",
       "      <th>2</th>\n",
       "      <td>102</td>\n",
       "      <td>1992</td>\n",
       "      <td>Kyoto</td>\n",
       "      <td>Yuki</td>\n",
       "      <td>20</td>\n",
       "      <td>102</td>\n",
       "      <td>2</td>\n",
       "      <td>33</td>\n",
       "      <td>F</td>\n",
       "    </tr>\n",
       "    <tr>\n",
       "      <th>3</th>\n",
       "      <td>103</td>\n",
       "      <td>1997</td>\n",
       "      <td>Hokkaido</td>\n",
       "      <td>Satoru</td>\n",
       "      <td>50</td>\n",
       "      <td>105</td>\n",
       "      <td>3</td>\n",
       "      <td>76</td>\n",
       "      <td>M</td>\n",
       "    </tr>\n",
       "    <tr>\n",
       "      <th>4</th>\n",
       "      <td>104</td>\n",
       "      <td>1982</td>\n",
       "      <td>Tokyo</td>\n",
       "      <td>Steeve</td>\n",
       "      <td>30</td>\n",
       "      <td>107</td>\n",
       "      <td>4</td>\n",
       "      <td>98</td>\n",
       "      <td>M</td>\n",
       "    </tr>\n",
       "  </tbody>\n",
       "</table>\n",
       "</div>"
      ],
      "text/plain": [
       "  ID_x  birth_year      city     name  English ID_y  index_num  math sex\n",
       "0  100        1990     Tokyo  Hiroshi       90  100          0    50   M\n",
       "1  101        1989     Osaka    Akiko       30  101          1    43   F\n",
       "2  102        1992     Kyoto     Yuki       20  102          2    33   F\n",
       "3  103        1997  Hokkaido   Satoru       50  105          3    76   M\n",
       "4  104        1982     Tokyo   Steeve       30  107          4    98   M"
      ]
     },
     "execution_count": 107,
     "metadata": {},
     "output_type": "execute_result"
    }
   ],
   "source": [
    "# index によるマージ\n",
    "pd.merge(attri_data_frame1,attri_data_frame2,left_index=True,right_on='index_num')"
   ]
  },
  {
   "cell_type": "markdown",
   "metadata": {},
   "source": [
    "次は、データのピボット操作について学びます。先ほどの階層テーブルhier_data_frameを使って、以下の処理でデータフレームの再構成ができます。stackで列にあったものが行にきます。"
   ]
  },
  {
   "cell_type": "code",
   "execution_count": 108,
   "metadata": {
    "collapsed": false
   },
   "outputs": [
    {
     "data": {
      "text/html": [
       "<div>\n",
       "<table border=\"1\" class=\"dataframe\">\n",
       "  <thead>\n",
       "    <tr style=\"text-align: right;\">\n",
       "      <th></th>\n",
       "      <th></th>\n",
       "      <th>city</th>\n",
       "      <th>Osaka</th>\n",
       "      <th>Tokyo</th>\n",
       "    </tr>\n",
       "    <tr>\n",
       "      <th>key1</th>\n",
       "      <th>key2</th>\n",
       "      <th>color</th>\n",
       "      <th></th>\n",
       "      <th></th>\n",
       "    </tr>\n",
       "  </thead>\n",
       "  <tbody>\n",
       "    <tr>\n",
       "      <th rowspan=\"4\" valign=\"top\">a</th>\n",
       "      <th rowspan=\"2\" valign=\"top\">1</th>\n",
       "      <th>Blue</th>\n",
       "      <td>0</td>\n",
       "      <td>NaN</td>\n",
       "    </tr>\n",
       "    <tr>\n",
       "      <th>Red</th>\n",
       "      <td>2</td>\n",
       "      <td>1.0</td>\n",
       "    </tr>\n",
       "    <tr>\n",
       "      <th rowspan=\"2\" valign=\"top\">2</th>\n",
       "      <th>Blue</th>\n",
       "      <td>3</td>\n",
       "      <td>NaN</td>\n",
       "    </tr>\n",
       "    <tr>\n",
       "      <th>Red</th>\n",
       "      <td>5</td>\n",
       "      <td>4.0</td>\n",
       "    </tr>\n",
       "    <tr>\n",
       "      <th rowspan=\"2\" valign=\"top\">b</th>\n",
       "      <th rowspan=\"2\" valign=\"top\">2</th>\n",
       "      <th>Blue</th>\n",
       "      <td>6</td>\n",
       "      <td>NaN</td>\n",
       "    </tr>\n",
       "    <tr>\n",
       "      <th>Red</th>\n",
       "      <td>8</td>\n",
       "      <td>7.0</td>\n",
       "    </tr>\n",
       "  </tbody>\n",
       "</table>\n",
       "</div>"
      ],
      "text/plain": [
       "city             Osaka  Tokyo\n",
       "key1 key2 color              \n",
       "a    1    Blue       0    NaN\n",
       "          Red        2    1.0\n",
       "     2    Blue       3    NaN\n",
       "          Red        5    4.0\n",
       "b    2    Blue       6    NaN\n",
       "          Red        8    7.0"
      ]
     },
     "execution_count": 108,
     "metadata": {},
     "output_type": "execute_result"
    }
   ],
   "source": [
    "#　ピボット　列が行に \n",
    "hier_data_frame.stack()"
   ]
  },
  {
   "cell_type": "markdown",
   "metadata": {},
   "source": [
    "一方、unstackを使うことで逆の操作が可能です。"
   ]
  },
  {
   "cell_type": "code",
   "execution_count": 109,
   "metadata": {
    "collapsed": false
   },
   "outputs": [
    {
     "data": {
      "text/html": [
       "<div>\n",
       "<table border=\"1\" class=\"dataframe\">\n",
       "  <thead>\n",
       "    <tr>\n",
       "      <th></th>\n",
       "      <th>city</th>\n",
       "      <th colspan=\"2\" halign=\"left\">Osaka</th>\n",
       "      <th colspan=\"2\" halign=\"left\">Tokyo</th>\n",
       "    </tr>\n",
       "    <tr>\n",
       "      <th></th>\n",
       "      <th>color</th>\n",
       "      <th>Blue</th>\n",
       "      <th>Red</th>\n",
       "      <th>Blue</th>\n",
       "      <th>Red</th>\n",
       "    </tr>\n",
       "    <tr>\n",
       "      <th>key1</th>\n",
       "      <th>key2</th>\n",
       "      <th></th>\n",
       "      <th></th>\n",
       "      <th></th>\n",
       "      <th></th>\n",
       "    </tr>\n",
       "  </thead>\n",
       "  <tbody>\n",
       "    <tr>\n",
       "      <th rowspan=\"2\" valign=\"top\">a</th>\n",
       "      <th>1</th>\n",
       "      <td>0</td>\n",
       "      <td>2</td>\n",
       "      <td>NaN</td>\n",
       "      <td>1.0</td>\n",
       "    </tr>\n",
       "    <tr>\n",
       "      <th>2</th>\n",
       "      <td>3</td>\n",
       "      <td>5</td>\n",
       "      <td>NaN</td>\n",
       "      <td>4.0</td>\n",
       "    </tr>\n",
       "    <tr>\n",
       "      <th>b</th>\n",
       "      <th>2</th>\n",
       "      <td>6</td>\n",
       "      <td>8</td>\n",
       "      <td>NaN</td>\n",
       "      <td>7.0</td>\n",
       "    </tr>\n",
       "  </tbody>\n",
       "</table>\n",
       "</div>"
      ],
      "text/plain": [
       "city      Osaka     Tokyo     \n",
       "color      Blue Red  Blue  Red\n",
       "key1 key2                     \n",
       "a    1        0   2   NaN  1.0\n",
       "     2        3   5   NaN  4.0\n",
       "b    2        6   8   NaN  7.0"
      ]
     },
     "execution_count": 109,
     "metadata": {},
     "output_type": "execute_result"
    }
   ],
   "source": [
    "# 再配置\n",
    "hier_data_frame.stack().unstack()"
   ]
  },
  {
   "cell_type": "markdown",
   "metadata": {},
   "source": [
    "次は、concatを使ってデータの縦結合をしています。これまでは、何らかのキーに紐付いてデータをマージしていましたが、次の処理ではそのまま縦に積み上げています。"
   ]
  },
  {
   "cell_type": "code",
   "execution_count": 110,
   "metadata": {
    "collapsed": false
   },
   "outputs": [],
   "source": [
    "# データの準備\n",
    "attri_data3 = {'ID':['117','118','119','120','125']\n",
    "        ,'city':['Chiba','Kanagawa','Tokyo','Fukuoka','Okinawa']\n",
    "        ,'birth_year':[1990,1989,1992,1997,1982]\n",
    "        ,'name':['Suguru','Kouichi','Satochi','Yukie','Akari']}\n",
    "attri_data_frame3 = DataFrame(attri_data3)\n"
   ]
  },
  {
   "cell_type": "code",
   "execution_count": 111,
   "metadata": {
    "collapsed": false
   },
   "outputs": [
    {
     "data": {
      "text/html": [
       "<div>\n",
       "<table border=\"1\" class=\"dataframe\">\n",
       "  <thead>\n",
       "    <tr style=\"text-align: right;\">\n",
       "      <th></th>\n",
       "      <th>ID</th>\n",
       "      <th>birth_year</th>\n",
       "      <th>city</th>\n",
       "      <th>name</th>\n",
       "    </tr>\n",
       "  </thead>\n",
       "  <tbody>\n",
       "    <tr>\n",
       "      <th>0</th>\n",
       "      <td>100</td>\n",
       "      <td>1990</td>\n",
       "      <td>Tokyo</td>\n",
       "      <td>Hiroshi</td>\n",
       "    </tr>\n",
       "    <tr>\n",
       "      <th>1</th>\n",
       "      <td>101</td>\n",
       "      <td>1989</td>\n",
       "      <td>Osaka</td>\n",
       "      <td>Akiko</td>\n",
       "    </tr>\n",
       "    <tr>\n",
       "      <th>2</th>\n",
       "      <td>102</td>\n",
       "      <td>1992</td>\n",
       "      <td>Kyoto</td>\n",
       "      <td>Yuki</td>\n",
       "    </tr>\n",
       "    <tr>\n",
       "      <th>3</th>\n",
       "      <td>103</td>\n",
       "      <td>1997</td>\n",
       "      <td>Hokkaido</td>\n",
       "      <td>Satoru</td>\n",
       "    </tr>\n",
       "    <tr>\n",
       "      <th>4</th>\n",
       "      <td>104</td>\n",
       "      <td>1982</td>\n",
       "      <td>Tokyo</td>\n",
       "      <td>Steeve</td>\n",
       "    </tr>\n",
       "    <tr>\n",
       "      <th>5</th>\n",
       "      <td>106</td>\n",
       "      <td>1991</td>\n",
       "      <td>Tokyo</td>\n",
       "      <td>Mituru</td>\n",
       "    </tr>\n",
       "    <tr>\n",
       "      <th>6</th>\n",
       "      <td>108</td>\n",
       "      <td>1988</td>\n",
       "      <td>Osaka</td>\n",
       "      <td>Aoi</td>\n",
       "    </tr>\n",
       "    <tr>\n",
       "      <th>7</th>\n",
       "      <td>110</td>\n",
       "      <td>1990</td>\n",
       "      <td>Kyoto</td>\n",
       "      <td>Tarou</td>\n",
       "    </tr>\n",
       "    <tr>\n",
       "      <th>8</th>\n",
       "      <td>111</td>\n",
       "      <td>1995</td>\n",
       "      <td>Hokkaido</td>\n",
       "      <td>Suguru</td>\n",
       "    </tr>\n",
       "    <tr>\n",
       "      <th>9</th>\n",
       "      <td>113</td>\n",
       "      <td>1981</td>\n",
       "      <td>Tokyo</td>\n",
       "      <td>Mitsuo</td>\n",
       "    </tr>\n",
       "    <tr>\n",
       "      <th>0</th>\n",
       "      <td>117</td>\n",
       "      <td>1990</td>\n",
       "      <td>Chiba</td>\n",
       "      <td>Suguru</td>\n",
       "    </tr>\n",
       "    <tr>\n",
       "      <th>1</th>\n",
       "      <td>118</td>\n",
       "      <td>1989</td>\n",
       "      <td>Kanagawa</td>\n",
       "      <td>Kouichi</td>\n",
       "    </tr>\n",
       "    <tr>\n",
       "      <th>2</th>\n",
       "      <td>119</td>\n",
       "      <td>1992</td>\n",
       "      <td>Tokyo</td>\n",
       "      <td>Satochi</td>\n",
       "    </tr>\n",
       "    <tr>\n",
       "      <th>3</th>\n",
       "      <td>120</td>\n",
       "      <td>1997</td>\n",
       "      <td>Fukuoka</td>\n",
       "      <td>Yukie</td>\n",
       "    </tr>\n",
       "    <tr>\n",
       "      <th>4</th>\n",
       "      <td>125</td>\n",
       "      <td>1982</td>\n",
       "      <td>Okinawa</td>\n",
       "      <td>Akari</td>\n",
       "    </tr>\n",
       "  </tbody>\n",
       "</table>\n",
       "</div>"
      ],
      "text/plain": [
       "    ID  birth_year      city     name\n",
       "0  100        1990     Tokyo  Hiroshi\n",
       "1  101        1989     Osaka    Akiko\n",
       "2  102        1992     Kyoto     Yuki\n",
       "3  103        1997  Hokkaido   Satoru\n",
       "4  104        1982     Tokyo   Steeve\n",
       "5  106        1991     Tokyo   Mituru\n",
       "6  108        1988     Osaka      Aoi\n",
       "7  110        1990     Kyoto    Tarou\n",
       "8  111        1995  Hokkaido   Suguru\n",
       "9  113        1981     Tokyo   Mitsuo\n",
       "0  117        1990     Chiba   Suguru\n",
       "1  118        1989  Kanagawa  Kouichi\n",
       "2  119        1992     Tokyo  Satochi\n",
       "3  120        1997   Fukuoka    Yukie\n",
       "4  125        1982   Okinawa    Akari"
      ]
     },
     "execution_count": 111,
     "metadata": {},
     "output_type": "execute_result"
    }
   ],
   "source": [
    "# concat 縦結合\n",
    "concat_data = pd.concat([attri_data_frame1,attri_data_frame3])\n",
    "# 注意：カラムがないとNaNになる\n",
    "concat_data"
   ]
  },
  {
   "cell_type": "markdown",
   "metadata": {},
   "source": [
    "#### <練習問題 1>\n",
    "\n",
    "下記の2つのデータテーブルに対して、内部結合してみましょう。"
   ]
  },
  {
   "cell_type": "code",
   "execution_count": 12,
   "metadata": {
    "collapsed": false
   },
   "outputs": [
    {
     "data": {
      "text/html": [
       "<div>\n",
       "<table border=\"1\" class=\"dataframe\">\n",
       "  <thead>\n",
       "    <tr style=\"text-align: right;\">\n",
       "      <th></th>\n",
       "      <th>ID</th>\n",
       "      <th>birth_year</th>\n",
       "      <th>city</th>\n",
       "      <th>name</th>\n",
       "    </tr>\n",
       "  </thead>\n",
       "  <tbody>\n",
       "    <tr>\n",
       "      <th>0</th>\n",
       "      <td>0</td>\n",
       "      <td>1990</td>\n",
       "      <td>Tokyo</td>\n",
       "      <td>Hiroshi</td>\n",
       "    </tr>\n",
       "    <tr>\n",
       "      <th>1</th>\n",
       "      <td>1</td>\n",
       "      <td>1989</td>\n",
       "      <td>Osaka</td>\n",
       "      <td>Akiko</td>\n",
       "    </tr>\n",
       "    <tr>\n",
       "      <th>2</th>\n",
       "      <td>2</td>\n",
       "      <td>1992</td>\n",
       "      <td>Kyoto</td>\n",
       "      <td>Yuki</td>\n",
       "    </tr>\n",
       "    <tr>\n",
       "      <th>3</th>\n",
       "      <td>3</td>\n",
       "      <td>1997</td>\n",
       "      <td>Hokkaido</td>\n",
       "      <td>Satoru</td>\n",
       "    </tr>\n",
       "    <tr>\n",
       "      <th>4</th>\n",
       "      <td>4</td>\n",
       "      <td>1982</td>\n",
       "      <td>Tokyo</td>\n",
       "      <td>Steeve</td>\n",
       "    </tr>\n",
       "    <tr>\n",
       "      <th>5</th>\n",
       "      <td>6</td>\n",
       "      <td>1991</td>\n",
       "      <td>Tokyo</td>\n",
       "      <td>Mituru</td>\n",
       "    </tr>\n",
       "    <tr>\n",
       "      <th>6</th>\n",
       "      <td>8</td>\n",
       "      <td>1988</td>\n",
       "      <td>Osaka</td>\n",
       "      <td>Aoi</td>\n",
       "    </tr>\n",
       "    <tr>\n",
       "      <th>7</th>\n",
       "      <td>11</td>\n",
       "      <td>1990</td>\n",
       "      <td>Kyoto</td>\n",
       "      <td>Tarou</td>\n",
       "    </tr>\n",
       "    <tr>\n",
       "      <th>8</th>\n",
       "      <td>12</td>\n",
       "      <td>1995</td>\n",
       "      <td>Hokkaido</td>\n",
       "      <td>Suguru</td>\n",
       "    </tr>\n",
       "    <tr>\n",
       "      <th>9</th>\n",
       "      <td>13</td>\n",
       "      <td>1981</td>\n",
       "      <td>Tokyo</td>\n",
       "      <td>Mitsuo</td>\n",
       "    </tr>\n",
       "  </tbody>\n",
       "</table>\n",
       "</div>"
      ],
      "text/plain": [
       "   ID  birth_year      city     name\n",
       "0   0        1990     Tokyo  Hiroshi\n",
       "1   1        1989     Osaka    Akiko\n",
       "2   2        1992     Kyoto     Yuki\n",
       "3   3        1997  Hokkaido   Satoru\n",
       "4   4        1982     Tokyo   Steeve\n",
       "5   6        1991     Tokyo   Mituru\n",
       "6   8        1988     Osaka      Aoi\n",
       "7  11        1990     Kyoto    Tarou\n",
       "8  12        1995  Hokkaido   Suguru\n",
       "9  13        1981     Tokyo   Mitsuo"
      ]
     },
     "execution_count": 12,
     "metadata": {},
     "output_type": "execute_result"
    }
   ],
   "source": [
    "# データ4の準備\n",
    "attri_data4 = {'ID':['0','1','2','3','4','6','8','11','12','13']\n",
    "        ,'city':['Tokyo','Osaka','Kyoto','Hokkaido','Tokyo','Tokyo','Osaka','Kyoto','Hokkaido','Tokyo']\n",
    "        ,'birth_year':[1990,1989,1992,1997,1982,1991,1988,1990,1995,1981]\n",
    "        ,'name':['Hiroshi','Akiko','Yuki','Satoru','Steeve','Mituru','Aoi','Tarou','Suguru','Mitsuo']}\n",
    "attri_data_frame4 = DataFrame(attri_data4)\n",
    "attri_data_frame4"
   ]
  },
  {
   "cell_type": "code",
   "execution_count": 13,
   "metadata": {
    "collapsed": false
   },
   "outputs": [
    {
     "data": {
      "text/html": [
       "<div>\n",
       "<table border=\"1\" class=\"dataframe\">\n",
       "  <thead>\n",
       "    <tr style=\"text-align: right;\">\n",
       "      <th></th>\n",
       "      <th>English</th>\n",
       "      <th>ID</th>\n",
       "      <th>index_num</th>\n",
       "      <th>math</th>\n",
       "      <th>sex</th>\n",
       "    </tr>\n",
       "  </thead>\n",
       "  <tbody>\n",
       "    <tr>\n",
       "      <th>0</th>\n",
       "      <td>30</td>\n",
       "      <td>0</td>\n",
       "      <td>0</td>\n",
       "      <td>20</td>\n",
       "      <td>M</td>\n",
       "    </tr>\n",
       "    <tr>\n",
       "      <th>1</th>\n",
       "      <td>50</td>\n",
       "      <td>1</td>\n",
       "      <td>1</td>\n",
       "      <td>30</td>\n",
       "      <td>F</td>\n",
       "    </tr>\n",
       "    <tr>\n",
       "      <th>2</th>\n",
       "      <td>50</td>\n",
       "      <td>3</td>\n",
       "      <td>2</td>\n",
       "      <td>50</td>\n",
       "      <td>F</td>\n",
       "    </tr>\n",
       "    <tr>\n",
       "      <th>3</th>\n",
       "      <td>70</td>\n",
       "      <td>6</td>\n",
       "      <td>3</td>\n",
       "      <td>70</td>\n",
       "      <td>M</td>\n",
       "    </tr>\n",
       "    <tr>\n",
       "      <th>4</th>\n",
       "      <td>20</td>\n",
       "      <td>8</td>\n",
       "      <td>4</td>\n",
       "      <td>90</td>\n",
       "      <td>M</td>\n",
       "    </tr>\n",
       "  </tbody>\n",
       "</table>\n",
       "</div>"
      ],
      "text/plain": [
       "   English ID  index_num  math sex\n",
       "0       30  0          0    20   M\n",
       "1       50  1          1    30   F\n",
       "2       50  3          2    50   F\n",
       "3       70  6          3    70   M\n",
       "4       20  8          4    90   M"
      ]
     },
     "execution_count": 13,
     "metadata": {},
     "output_type": "execute_result"
    }
   ],
   "source": [
    "# データ5の準備\n",
    "attri_data5 = {'ID':['0','1','3','6','8']\n",
    "        ,'math':[20,30,50,70,90]\n",
    "        ,'English':[30,50,50,70,20]\n",
    "        ,'sex':['M','F','F','M','M']\n",
    "        ,'index_num':[0,1,2,3,4]}\n",
    "attri_data_frame5 = DataFrame(attri_data5)\n",
    "attri_data_frame5"
   ]
  },
  {
   "cell_type": "markdown",
   "metadata": {},
   "source": [
    "#### <練習問題 2>\n",
    "\n",
    "attri_data_frame4をベースにattri_data_frame5のテーブルを外部結合してみましょう。"
   ]
  },
  {
   "cell_type": "markdown",
   "metadata": {},
   "source": [
    "#### <練習問題 3>\n",
    "attri_data_frame4に対して、以下のデータを縦結合してみましょう。"
   ]
  },
  {
   "cell_type": "code",
   "execution_count": 115,
   "metadata": {
    "collapsed": false
   },
   "outputs": [],
   "source": [
    "# データの準備\n",
    "attri_data6 = {'ID':['70','80','90','120','150']\n",
    "        ,'city':['Chiba','Kanagawa','Tokyo','Fukuoka','Okinawa']\n",
    "        ,'birth_year':[1980,1999,1995,1994,1994]\n",
    "        ,'name':['Suguru','Kouichi','Satochi','Yukie','Akari']}\n",
    "attri_data_frame6 = DataFrame(attri_data6)"
   ]
  },
  {
   "cell_type": "markdown",
   "metadata": {},
   "source": [
    "### 4.1.3 データの変換\n",
    "キーワード：重複データ、マッピング、ビン分割"
   ]
  },
  {
   "cell_type": "markdown",
   "metadata": {},
   "source": [
    "ここでは、データの重複があった場合の処理、マッピング、ビン分割について扱っていきましょう。\n",
    "\n",
    "まず、重複するデータを準備しましょう。"
   ]
  },
  {
   "cell_type": "code",
   "execution_count": 17,
   "metadata": {
    "collapsed": false,
    "scrolled": true
   },
   "outputs": [
    {
     "name": "stdout",
     "output_type": "stream",
     "text": [
      "・元のデータ\n"
     ]
    },
    {
     "data": {
      "text/html": [
       "<div>\n",
       "<table border=\"1\" class=\"dataframe\">\n",
       "  <thead>\n",
       "    <tr style=\"text-align: right;\">\n",
       "      <th></th>\n",
       "      <th>col1</th>\n",
       "      <th>col2</th>\n",
       "    </tr>\n",
       "  </thead>\n",
       "  <tbody>\n",
       "    <tr>\n",
       "      <th>0</th>\n",
       "      <td>1</td>\n",
       "      <td>a</td>\n",
       "    </tr>\n",
       "    <tr>\n",
       "      <th>1</th>\n",
       "      <td>1</td>\n",
       "      <td>b</td>\n",
       "    </tr>\n",
       "    <tr>\n",
       "      <th>2</th>\n",
       "      <td>2</td>\n",
       "      <td>b</td>\n",
       "    </tr>\n",
       "    <tr>\n",
       "      <th>3</th>\n",
       "      <td>3</td>\n",
       "      <td>b</td>\n",
       "    </tr>\n",
       "    <tr>\n",
       "      <th>4</th>\n",
       "      <td>4</td>\n",
       "      <td>c</td>\n",
       "    </tr>\n",
       "    <tr>\n",
       "      <th>5</th>\n",
       "      <td>4</td>\n",
       "      <td>c</td>\n",
       "    </tr>\n",
       "    <tr>\n",
       "      <th>6</th>\n",
       "      <td>6</td>\n",
       "      <td>b</td>\n",
       "    </tr>\n",
       "    <tr>\n",
       "      <th>7</th>\n",
       "      <td>6</td>\n",
       "      <td>b</td>\n",
       "    </tr>\n",
       "  </tbody>\n",
       "</table>\n",
       "</div>"
      ],
      "text/plain": [
       "   col1 col2\n",
       "0     1    a\n",
       "1     1    b\n",
       "2     2    b\n",
       "3     3    b\n",
       "4     4    c\n",
       "5     4    c\n",
       "6     6    b\n",
       "7     6    b"
      ]
     },
     "execution_count": 17,
     "metadata": {},
     "output_type": "execute_result"
    }
   ],
   "source": [
    "#　重複データ\n",
    "dupli_data = DataFrame({'col1':[1,1,2,3,4,4,6,6]\n",
    "                       ,'col2':['a','b','b','b','c','c','b','b']})\n",
    "print(\"・元のデータ\")\n",
    "dupli_data"
   ]
  },
  {
   "cell_type": "markdown",
   "metadata": {},
   "source": [
    "重複の判定はdublicated()を使います。それぞれの行をみて、重複がある場合は、Trueと表示されます。"
   ]
  },
  {
   "cell_type": "code",
   "execution_count": 18,
   "metadata": {
    "collapsed": false
   },
   "outputs": [
    {
     "name": "stdout",
     "output_type": "stream",
     "text": [
      "・重複ありの行\n"
     ]
    },
    {
     "data": {
      "text/plain": [
       "0    False\n",
       "1    False\n",
       "2    False\n",
       "3    False\n",
       "4    False\n",
       "5     True\n",
       "6    False\n",
       "7     True\n",
       "dtype: bool"
      ]
     },
     "execution_count": 18,
     "metadata": {},
     "output_type": "execute_result"
    }
   ],
   "source": [
    "#　重複判定\n",
    "print(\"・重複ありの行\")\n",
    "dupli_data.duplicated()"
   ]
  },
  {
   "cell_type": "markdown",
   "metadata": {},
   "source": [
    "drop_duplicates()で重複したデータを削除後のデータを表示します。"
   ]
  },
  {
   "cell_type": "code",
   "execution_count": 19,
   "metadata": {
    "collapsed": false
   },
   "outputs": [
    {
     "name": "stdout",
     "output_type": "stream",
     "text": [
      "・重複削除後のデータ\n"
     ]
    },
    {
     "data": {
      "text/html": [
       "<div>\n",
       "<table border=\"1\" class=\"dataframe\">\n",
       "  <thead>\n",
       "    <tr style=\"text-align: right;\">\n",
       "      <th></th>\n",
       "      <th>col1</th>\n",
       "      <th>col2</th>\n",
       "    </tr>\n",
       "  </thead>\n",
       "  <tbody>\n",
       "    <tr>\n",
       "      <th>0</th>\n",
       "      <td>1</td>\n",
       "      <td>a</td>\n",
       "    </tr>\n",
       "    <tr>\n",
       "      <th>1</th>\n",
       "      <td>1</td>\n",
       "      <td>b</td>\n",
       "    </tr>\n",
       "    <tr>\n",
       "      <th>2</th>\n",
       "      <td>2</td>\n",
       "      <td>b</td>\n",
       "    </tr>\n",
       "    <tr>\n",
       "      <th>3</th>\n",
       "      <td>3</td>\n",
       "      <td>b</td>\n",
       "    </tr>\n",
       "    <tr>\n",
       "      <th>4</th>\n",
       "      <td>4</td>\n",
       "      <td>c</td>\n",
       "    </tr>\n",
       "    <tr>\n",
       "      <th>6</th>\n",
       "      <td>6</td>\n",
       "      <td>b</td>\n",
       "    </tr>\n",
       "  </tbody>\n",
       "</table>\n",
       "</div>"
      ],
      "text/plain": [
       "   col1 col2\n",
       "0     1    a\n",
       "1     1    b\n",
       "2     2    b\n",
       "3     3    b\n",
       "4     4    c\n",
       "6     6    b"
      ]
     },
     "execution_count": 19,
     "metadata": {},
     "output_type": "execute_result"
    }
   ],
   "source": [
    "#　重複削除\n",
    "print(\"・重複削除後のデータ\")\n",
    "dupli_data.drop_duplicates()"
   ]
  },
  {
   "cell_type": "markdown",
   "metadata": {},
   "source": [
    "次は、マッピング処理です。これは、Excelの関数のvlookupのような処理です。共通のキーとなるデータに対して、一方の（参照）テーブルからそのキーに対応するデータをもってきます。以下は、都道府県名と地域名を対応付けた参照データです。"
   ]
  },
  {
   "cell_type": "code",
   "execution_count": 120,
   "metadata": {
    "collapsed": false
   },
   "outputs": [
    {
     "data": {
      "text/plain": [
       "{'Hokkaido': 'Hokkaido',\n",
       " 'Kyoto': 'Kansai',\n",
       " 'Osaka': 'Kansai',\n",
       " 'Tokyo': 'Kanto'}"
      ]
     },
     "execution_count": 120,
     "metadata": {},
     "output_type": "execute_result"
    }
   ],
   "source": [
    "# 参照データ\n",
    "city_map ={'Tokyo':'Kanto'\n",
    "          ,'Hokkaido':'Hokkaido'\n",
    "          ,'Osaka':'Kansai'\n",
    "          ,'Kyoto':'Kansai'}\n",
    "city_map"
   ]
  },
  {
   "cell_type": "markdown",
   "metadata": {},
   "source": [
    "はじめに用意したattri_data_frame1のcityカラムをベースとして、上の参照データに対応する地域名データを持ってきて、新しいカラムを追加しています。"
   ]
  },
  {
   "cell_type": "code",
   "execution_count": 121,
   "metadata": {
    "collapsed": false
   },
   "outputs": [
    {
     "data": {
      "text/html": [
       "<div>\n",
       "<table border=\"1\" class=\"dataframe\">\n",
       "  <thead>\n",
       "    <tr style=\"text-align: right;\">\n",
       "      <th></th>\n",
       "      <th>ID</th>\n",
       "      <th>birth_year</th>\n",
       "      <th>city</th>\n",
       "      <th>name</th>\n",
       "      <th>region</th>\n",
       "    </tr>\n",
       "  </thead>\n",
       "  <tbody>\n",
       "    <tr>\n",
       "      <th>0</th>\n",
       "      <td>100</td>\n",
       "      <td>1990</td>\n",
       "      <td>Tokyo</td>\n",
       "      <td>Hiroshi</td>\n",
       "      <td>Kanto</td>\n",
       "    </tr>\n",
       "    <tr>\n",
       "      <th>1</th>\n",
       "      <td>101</td>\n",
       "      <td>1989</td>\n",
       "      <td>Osaka</td>\n",
       "      <td>Akiko</td>\n",
       "      <td>Kansai</td>\n",
       "    </tr>\n",
       "    <tr>\n",
       "      <th>2</th>\n",
       "      <td>102</td>\n",
       "      <td>1992</td>\n",
       "      <td>Kyoto</td>\n",
       "      <td>Yuki</td>\n",
       "      <td>Kansai</td>\n",
       "    </tr>\n",
       "    <tr>\n",
       "      <th>3</th>\n",
       "      <td>103</td>\n",
       "      <td>1997</td>\n",
       "      <td>Hokkaido</td>\n",
       "      <td>Satoru</td>\n",
       "      <td>Hokkaido</td>\n",
       "    </tr>\n",
       "    <tr>\n",
       "      <th>4</th>\n",
       "      <td>104</td>\n",
       "      <td>1982</td>\n",
       "      <td>Tokyo</td>\n",
       "      <td>Steeve</td>\n",
       "      <td>Kanto</td>\n",
       "    </tr>\n",
       "    <tr>\n",
       "      <th>5</th>\n",
       "      <td>106</td>\n",
       "      <td>1991</td>\n",
       "      <td>Tokyo</td>\n",
       "      <td>Mituru</td>\n",
       "      <td>Kanto</td>\n",
       "    </tr>\n",
       "    <tr>\n",
       "      <th>6</th>\n",
       "      <td>108</td>\n",
       "      <td>1988</td>\n",
       "      <td>Osaka</td>\n",
       "      <td>Aoi</td>\n",
       "      <td>Kansai</td>\n",
       "    </tr>\n",
       "    <tr>\n",
       "      <th>7</th>\n",
       "      <td>110</td>\n",
       "      <td>1990</td>\n",
       "      <td>Kyoto</td>\n",
       "      <td>Tarou</td>\n",
       "      <td>Kansai</td>\n",
       "    </tr>\n",
       "    <tr>\n",
       "      <th>8</th>\n",
       "      <td>111</td>\n",
       "      <td>1995</td>\n",
       "      <td>Hokkaido</td>\n",
       "      <td>Suguru</td>\n",
       "      <td>Hokkaido</td>\n",
       "    </tr>\n",
       "    <tr>\n",
       "      <th>9</th>\n",
       "      <td>113</td>\n",
       "      <td>1981</td>\n",
       "      <td>Tokyo</td>\n",
       "      <td>Mitsuo</td>\n",
       "      <td>Kanto</td>\n",
       "    </tr>\n",
       "  </tbody>\n",
       "</table>\n",
       "</div>"
      ],
      "text/plain": [
       "    ID  birth_year      city     name    region\n",
       "0  100        1990     Tokyo  Hiroshi     Kanto\n",
       "1  101        1989     Osaka    Akiko    Kansai\n",
       "2  102        1992     Kyoto     Yuki    Kansai\n",
       "3  103        1997  Hokkaido   Satoru  Hokkaido\n",
       "4  104        1982     Tokyo   Steeve     Kanto\n",
       "5  106        1991     Tokyo   Mituru     Kanto\n",
       "6  108        1988     Osaka      Aoi    Kansai\n",
       "7  110        1990     Kyoto    Tarou    Kansai\n",
       "8  111        1995  Hokkaido   Suguru  Hokkaido\n",
       "9  113        1981     Tokyo   Mitsuo     Kanto"
      ]
     },
     "execution_count": 121,
     "metadata": {},
     "output_type": "execute_result"
    }
   ],
   "source": [
    "#　参照データを結合\n",
    "# もし対応するデータがなかったら、NANになる。\n",
    "attri_data_frame1['region'] = attri_data_frame1['city'].map(city_map)\n",
    "attri_data_frame1"
   ]
  },
  {
   "cell_type": "markdown",
   "metadata": {},
   "source": [
    "次は、1章で学んだ無名関数とmapを使って、カラムの中の一部のデータを取り出す処理をしています。具体的には、birth_yearの上3桁を取得します。関数適応やループなどを使って要素を1つ1つ取り出して処理するより断然早いので、まとめて処理したい場合は、このようなやり方を検討することをおすすめします。"
   ]
  },
  {
   "cell_type": "code",
   "execution_count": 122,
   "metadata": {
    "collapsed": false
   },
   "outputs": [
    {
     "data": {
      "text/html": [
       "<div>\n",
       "<table border=\"1\" class=\"dataframe\">\n",
       "  <thead>\n",
       "    <tr style=\"text-align: right;\">\n",
       "      <th></th>\n",
       "      <th>ID</th>\n",
       "      <th>birth_year</th>\n",
       "      <th>city</th>\n",
       "      <th>name</th>\n",
       "      <th>region</th>\n",
       "      <th>up_two_num</th>\n",
       "    </tr>\n",
       "  </thead>\n",
       "  <tbody>\n",
       "    <tr>\n",
       "      <th>0</th>\n",
       "      <td>100</td>\n",
       "      <td>1990</td>\n",
       "      <td>Tokyo</td>\n",
       "      <td>Hiroshi</td>\n",
       "      <td>Kanto</td>\n",
       "      <td>199</td>\n",
       "    </tr>\n",
       "    <tr>\n",
       "      <th>1</th>\n",
       "      <td>101</td>\n",
       "      <td>1989</td>\n",
       "      <td>Osaka</td>\n",
       "      <td>Akiko</td>\n",
       "      <td>Kansai</td>\n",
       "      <td>198</td>\n",
       "    </tr>\n",
       "    <tr>\n",
       "      <th>2</th>\n",
       "      <td>102</td>\n",
       "      <td>1992</td>\n",
       "      <td>Kyoto</td>\n",
       "      <td>Yuki</td>\n",
       "      <td>Kansai</td>\n",
       "      <td>199</td>\n",
       "    </tr>\n",
       "    <tr>\n",
       "      <th>3</th>\n",
       "      <td>103</td>\n",
       "      <td>1997</td>\n",
       "      <td>Hokkaido</td>\n",
       "      <td>Satoru</td>\n",
       "      <td>Hokkaido</td>\n",
       "      <td>199</td>\n",
       "    </tr>\n",
       "    <tr>\n",
       "      <th>4</th>\n",
       "      <td>104</td>\n",
       "      <td>1982</td>\n",
       "      <td>Tokyo</td>\n",
       "      <td>Steeve</td>\n",
       "      <td>Kanto</td>\n",
       "      <td>198</td>\n",
       "    </tr>\n",
       "    <tr>\n",
       "      <th>5</th>\n",
       "      <td>106</td>\n",
       "      <td>1991</td>\n",
       "      <td>Tokyo</td>\n",
       "      <td>Mituru</td>\n",
       "      <td>Kanto</td>\n",
       "      <td>199</td>\n",
       "    </tr>\n",
       "    <tr>\n",
       "      <th>6</th>\n",
       "      <td>108</td>\n",
       "      <td>1988</td>\n",
       "      <td>Osaka</td>\n",
       "      <td>Aoi</td>\n",
       "      <td>Kansai</td>\n",
       "      <td>198</td>\n",
       "    </tr>\n",
       "    <tr>\n",
       "      <th>7</th>\n",
       "      <td>110</td>\n",
       "      <td>1990</td>\n",
       "      <td>Kyoto</td>\n",
       "      <td>Tarou</td>\n",
       "      <td>Kansai</td>\n",
       "      <td>199</td>\n",
       "    </tr>\n",
       "    <tr>\n",
       "      <th>8</th>\n",
       "      <td>111</td>\n",
       "      <td>1995</td>\n",
       "      <td>Hokkaido</td>\n",
       "      <td>Suguru</td>\n",
       "      <td>Hokkaido</td>\n",
       "      <td>199</td>\n",
       "    </tr>\n",
       "    <tr>\n",
       "      <th>9</th>\n",
       "      <td>113</td>\n",
       "      <td>1981</td>\n",
       "      <td>Tokyo</td>\n",
       "      <td>Mitsuo</td>\n",
       "      <td>Kanto</td>\n",
       "      <td>198</td>\n",
       "    </tr>\n",
       "  </tbody>\n",
       "</table>\n",
       "</div>"
      ],
      "text/plain": [
       "    ID  birth_year      city     name    region up_two_num\n",
       "0  100        1990     Tokyo  Hiroshi     Kanto        199\n",
       "1  101        1989     Osaka    Akiko    Kansai        198\n",
       "2  102        1992     Kyoto     Yuki    Kansai        199\n",
       "3  103        1997  Hokkaido   Satoru  Hokkaido        199\n",
       "4  104        1982     Tokyo   Steeve     Kanto        198\n",
       "5  106        1991     Tokyo   Mituru     Kanto        199\n",
       "6  108        1988     Osaka      Aoi    Kansai        198\n",
       "7  110        1990     Kyoto    Tarou    Kansai        199\n",
       "8  111        1995  Hokkaido   Suguru  Hokkaido        199\n",
       "9  113        1981     Tokyo   Mitsuo     Kanto        198"
      ]
     },
     "execution_count": 122,
     "metadata": {},
     "output_type": "execute_result"
    }
   ],
   "source": [
    "#　birth_year Aの上3つの数字・文字を取り出す\n",
    "attri_data_frame1['up_two_num'] = attri_data_frame1['birth_year'].map(lambda x:str(x)[0:3])\n",
    "attri_data_frame1"
   ]
  },
  {
   "cell_type": "markdown",
   "metadata": {},
   "source": [
    "最後にビン分割です。これは、ある離散的な範囲にデータを分割して集計したい場合に、便利な機能です。具体的には、上のデータのbirth_yearに対して、5年区切りで集計をしたい場合や、ある特定の分割で計算をしたい場合に、以下のようにビン分割したリストを用意し、pandasのcut関数を使って、処理しています。"
   ]
  },
  {
   "cell_type": "code",
   "execution_count": 123,
   "metadata": {
    "collapsed": false
   },
   "outputs": [
    {
     "data": {
      "text/plain": [
       "0    (1985, 1990]\n",
       "1    (1985, 1990]\n",
       "2    (1990, 1995]\n",
       "3    (1995, 2000]\n",
       "4    (1980, 1985]\n",
       "5    (1990, 1995]\n",
       "6    (1985, 1990]\n",
       "7    (1985, 1990]\n",
       "8    (1990, 1995]\n",
       "9    (1980, 1985]\n",
       "Name: birth_year, dtype: category\n",
       "Categories (4, object): [(1980, 1985] < (1985, 1990] < (1990, 1995] < (1995, 2000]]"
      ]
     },
     "execution_count": 123,
     "metadata": {},
     "output_type": "execute_result"
    }
   ],
   "source": [
    "#　分割の粒度\n",
    "birth_year_bins = [1980,1985,1990,1995,2000]\n",
    "\n",
    "# ビン分割の実施\n",
    "birth_year_cut_data = pd.cut(attri_data_frame1.birth_year,birth_year_bins)\n",
    "birth_year_cut_data"
   ]
  },
  {
   "cell_type": "markdown",
   "metadata": {},
   "source": [
    "上記の結果を使いそれぞれの数を集計したい場合は、value_countsを使います。"
   ]
  },
  {
   "cell_type": "code",
   "execution_count": 124,
   "metadata": {
    "collapsed": false
   },
   "outputs": [
    {
     "data": {
      "text/plain": [
       "(1985, 1990]    4\n",
       "(1990, 1995]    3\n",
       "(1980, 1985]    2\n",
       "(1995, 2000]    1\n",
       "Name: birth_year, dtype: int64"
      ]
     },
     "execution_count": 124,
     "metadata": {},
     "output_type": "execute_result"
    }
   ],
   "source": [
    "# 集計結果\n",
    "pd.value_counts(birth_year_cut_data)"
   ]
  },
  {
   "cell_type": "markdown",
   "metadata": {},
   "source": [
    "それぞれのビンに名前をつけることも可能です。"
   ]
  },
  {
   "cell_type": "code",
   "execution_count": 125,
   "metadata": {
    "collapsed": false
   },
   "outputs": [
    {
     "data": {
      "text/plain": [
       "second1980    4\n",
       "first1990     3\n",
       "first1980     2\n",
       "second1990    1\n",
       "Name: birth_year, dtype: int64"
      ]
     },
     "execution_count": 125,
     "metadata": {},
     "output_type": "execute_result"
    }
   ],
   "source": [
    "# 名前付き\n",
    "group_names = [\"first1980\",\"second1980\",\"first1990\",\"second1990\"]\n",
    "birth_year_cut_data = pd.cut(attri_data_frame1.birth_year,birth_year_bins,labels = group_names)\n",
    "pd.value_counts(birth_year_cut_data)"
   ]
  },
  {
   "cell_type": "markdown",
   "metadata": {},
   "source": [
    "上記では、ビン分割のリストを用意しましたが、あらかじめ分割数を指定したい場合は、以下のように設定可能です。"
   ]
  },
  {
   "cell_type": "code",
   "execution_count": 126,
   "metadata": {
    "collapsed": false
   },
   "outputs": [
    {
     "data": {
      "text/plain": [
       "0        (1989, 1997]\n",
       "1    (1980.984, 1989]\n",
       "2        (1989, 1997]\n",
       "3        (1989, 1997]\n",
       "4    (1980.984, 1989]\n",
       "5        (1989, 1997]\n",
       "6    (1980.984, 1989]\n",
       "7        (1989, 1997]\n",
       "8        (1989, 1997]\n",
       "9    (1980.984, 1989]\n",
       "Name: birth_year, dtype: category\n",
       "Categories (2, object): [(1980.984, 1989] < (1989, 1997]]"
      ]
     },
     "execution_count": 126,
     "metadata": {},
     "output_type": "execute_result"
    }
   ],
   "source": [
    "# 数字で分割数指定可能。\n",
    "# ここでは2つに分割\n",
    "pd.cut(attri_data_frame1.birth_year,2)"
   ]
  },
  {
   "cell_type": "markdown",
   "metadata": {},
   "source": [
    "分位点での分割も可能で、qcutを使います。これを使うことで、ほぼ同じサイズのビンを作成することができます。"
   ]
  },
  {
   "cell_type": "code",
   "execution_count": 127,
   "metadata": {
    "collapsed": false
   },
   "outputs": [
    {
     "data": {
      "text/plain": [
       "[1981, 1990]    6\n",
       "(1990, 1997]    4\n",
       "Name: birth_year, dtype: int64"
      ]
     },
     "execution_count": 127,
     "metadata": {},
     "output_type": "execute_result"
    }
   ],
   "source": [
    "pd.value_counts(pd.qcut(attri_data_frame1.birth_year,2))"
   ]
  },
  {
   "cell_type": "markdown",
   "metadata": {},
   "source": [
    "このビン分割は、具体的には、顧客の購買金額合計を分けて分析をしたい場合など、マーケティング分析にも使えます。詳しいことは、総合問題演習で扱っていくことにしましょう。"
   ]
  },
  {
   "cell_type": "markdown",
   "metadata": {},
   "source": [
    "#### <練習問題 1>\n",
    "\n",
    "一章で使用した「student-mat.csv」を使います。ageの2倍をしたカラムを追加してみましょう。"
   ]
  },
  {
   "cell_type": "code",
   "execution_count": null,
   "metadata": {
    "collapsed": true
   },
   "outputs": [],
   "source": [
    "# chapter1で用意したデータがあるpathに移動して、以下を実行してください。例） cd pathの名前\n",
    "import pandas as pd\n",
    "student_data_math = pd.read_csv(\"student-mat.csv\",sep=\";\")"
   ]
  },
  {
   "cell_type": "markdown",
   "metadata": {},
   "source": [
    "#### <練習問題 2>\n",
    "\n",
    "上記と同じデータで、「absences」のカラムについて、以下の3つのビンに分けてそれぞれの人数を数えてみましょう。なお、cutのオプション設定で、デフォルトは右側が閉区間になっていますが、今回は0が入るためのright=Falseを追加してください。"
   ]
  },
  {
   "cell_type": "code",
   "execution_count": 131,
   "metadata": {
    "collapsed": true
   },
   "outputs": [],
   "source": [
    "#　分割の粒度\n",
    "absences_bins = [0,1,5,100]"
   ]
  },
  {
   "cell_type": "markdown",
   "metadata": {},
   "source": [
    "#### <練習問題 3>\n",
    "\n",
    "上記と同じデータで、「absences」のカラムについて、qcutを用いて3つのビンに分けてみましょう。"
   ]
  },
  {
   "cell_type": "markdown",
   "metadata": {},
   "source": [
    "### 4.1.4 データの集約とグループ演算\n",
    "キーワード：group by"
   ]
  },
  {
   "cell_type": "markdown",
   "metadata": {},
   "source": [
    "ここでは、あるカラムを軸にして、集計する処理を学びます。1章で少し扱いましたが、group byを使うことで、ある変数を軸として、その単位で集計処理をします。以下は、cityをベースにそれぞれの数量を計算しています、"
   ]
  },
  {
   "cell_type": "code",
   "execution_count": 135,
   "metadata": {
    "collapsed": false
   },
   "outputs": [
    {
     "data": {
      "text/plain": [
       "city\n",
       "Hokkaido    2\n",
       "Kyoto       2\n",
       "Osaka       2\n",
       "Tokyo       4\n",
       "dtype: int64"
      ]
     },
     "execution_count": 135,
     "metadata": {},
     "output_type": "execute_result"
    }
   ],
   "source": [
    "# サイズ情報\n",
    "attri_data_frame1.groupby(\"city\").size()"
   ]
  },
  {
   "cell_type": "markdown",
   "metadata": {},
   "source": [
    "次は、cityを軸に、birth_yearの平均値を算出しています。"
   ]
  },
  {
   "cell_type": "code",
   "execution_count": 136,
   "metadata": {
    "collapsed": false
   },
   "outputs": [
    {
     "data": {
      "text/plain": [
       "city\n",
       "Hokkaido    1996.0\n",
       "Kyoto       1991.0\n",
       "Osaka       1988.5\n",
       "Tokyo       1986.0\n",
       "Name: birth_year, dtype: float64"
      ]
     },
     "execution_count": 136,
     "metadata": {},
     "output_type": "execute_result"
    }
   ],
   "source": [
    "# Cityを軸に、birth_yearの平均値を求める\n",
    "attri_data_frame1.groupby(\"city\")[\"birth_year\"].mean()"
   ]
  },
  {
   "cell_type": "markdown",
   "metadata": {},
   "source": [
    "軸は複数でも設定可能で、次は、region, Cityを2軸に、birth_yearの平均値を求めています。"
   ]
  },
  {
   "cell_type": "code",
   "execution_count": 137,
   "metadata": {
    "collapsed": false
   },
   "outputs": [
    {
     "data": {
      "text/plain": [
       "region    city    \n",
       "Hokkaido  Hokkaido    1996.0\n",
       "Kansai    Kyoto       1991.0\n",
       "          Osaka       1988.5\n",
       "Kanto     Tokyo       1986.0\n",
       "Name: birth_year, dtype: float64"
      ]
     },
     "execution_count": 137,
     "metadata": {},
     "output_type": "execute_result"
    }
   ],
   "source": [
    "attri_data_frame1.groupby([\"region\",\"city\"])[\"birth_year\"].mean()"
   ]
  },
  {
   "cell_type": "markdown",
   "metadata": {},
   "source": [
    "as_index=Falseにすることで、インデックスを設定しません。そのままテーブルとして扱いたいときに便利です。"
   ]
  },
  {
   "cell_type": "code",
   "execution_count": 138,
   "metadata": {
    "collapsed": false
   },
   "outputs": [
    {
     "data": {
      "text/html": [
       "<div>\n",
       "<table border=\"1\" class=\"dataframe\">\n",
       "  <thead>\n",
       "    <tr style=\"text-align: right;\">\n",
       "      <th></th>\n",
       "      <th>region</th>\n",
       "      <th>city</th>\n",
       "      <th>birth_year</th>\n",
       "    </tr>\n",
       "  </thead>\n",
       "  <tbody>\n",
       "    <tr>\n",
       "      <th>0</th>\n",
       "      <td>Hokkaido</td>\n",
       "      <td>Hokkaido</td>\n",
       "      <td>1996.0</td>\n",
       "    </tr>\n",
       "    <tr>\n",
       "      <th>1</th>\n",
       "      <td>Kansai</td>\n",
       "      <td>Kyoto</td>\n",
       "      <td>1991.0</td>\n",
       "    </tr>\n",
       "    <tr>\n",
       "      <th>2</th>\n",
       "      <td>Kansai</td>\n",
       "      <td>Osaka</td>\n",
       "      <td>1988.5</td>\n",
       "    </tr>\n",
       "    <tr>\n",
       "      <th>3</th>\n",
       "      <td>Kanto</td>\n",
       "      <td>Tokyo</td>\n",
       "      <td>1986.0</td>\n",
       "    </tr>\n",
       "  </tbody>\n",
       "</table>\n",
       "</div>"
      ],
      "text/plain": [
       "     region      city  birth_year\n",
       "0  Hokkaido  Hokkaido      1996.0\n",
       "1    Kansai     Kyoto      1991.0\n",
       "2    Kansai     Osaka      1988.5\n",
       "3     Kanto     Tokyo      1986.0"
      ]
     },
     "execution_count": 138,
     "metadata": {},
     "output_type": "execute_result"
    }
   ],
   "source": [
    "attri_data_frame1.groupby([\"region\",\"city\"],as_index=False)[\"birth_year\"].mean()"
   ]
  },
  {
   "cell_type": "markdown",
   "metadata": {},
   "source": [
    "最後に複数の異なる値を算出したい場合に、aggを使うと便利です。aggの引数には、関数名のリストを設定しています。以下は、カウント、平均、最大、最小を計算しています。"
   ]
  },
  {
   "cell_type": "code",
   "execution_count": 139,
   "metadata": {
    "collapsed": false
   },
   "outputs": [
    {
     "data": {
      "text/html": [
       "<div>\n",
       "<table border=\"1\" class=\"dataframe\">\n",
       "  <thead>\n",
       "    <tr>\n",
       "      <th></th>\n",
       "      <th></th>\n",
       "      <th colspan=\"4\" halign=\"left\">age</th>\n",
       "      <th colspan=\"4\" halign=\"left\">G1</th>\n",
       "    </tr>\n",
       "    <tr>\n",
       "      <th></th>\n",
       "      <th></th>\n",
       "      <th>count</th>\n",
       "      <th>mean</th>\n",
       "      <th>max</th>\n",
       "      <th>min</th>\n",
       "      <th>count</th>\n",
       "      <th>mean</th>\n",
       "      <th>max</th>\n",
       "      <th>min</th>\n",
       "    </tr>\n",
       "    <tr>\n",
       "      <th>sex</th>\n",
       "      <th>address</th>\n",
       "      <th></th>\n",
       "      <th></th>\n",
       "      <th></th>\n",
       "      <th></th>\n",
       "      <th></th>\n",
       "      <th></th>\n",
       "      <th></th>\n",
       "      <th></th>\n",
       "    </tr>\n",
       "  </thead>\n",
       "  <tbody>\n",
       "    <tr>\n",
       "      <th rowspan=\"2\" valign=\"top\">F</th>\n",
       "      <th>R</th>\n",
       "      <td>44</td>\n",
       "      <td>16.977273</td>\n",
       "      <td>19</td>\n",
       "      <td>15</td>\n",
       "      <td>44</td>\n",
       "      <td>10.295455</td>\n",
       "      <td>19</td>\n",
       "      <td>6</td>\n",
       "    </tr>\n",
       "    <tr>\n",
       "      <th>U</th>\n",
       "      <td>164</td>\n",
       "      <td>16.664634</td>\n",
       "      <td>20</td>\n",
       "      <td>15</td>\n",
       "      <td>164</td>\n",
       "      <td>10.707317</td>\n",
       "      <td>18</td>\n",
       "      <td>4</td>\n",
       "    </tr>\n",
       "    <tr>\n",
       "      <th rowspan=\"2\" valign=\"top\">M</th>\n",
       "      <th>R</th>\n",
       "      <td>44</td>\n",
       "      <td>17.113636</td>\n",
       "      <td>21</td>\n",
       "      <td>15</td>\n",
       "      <td>44</td>\n",
       "      <td>10.659091</td>\n",
       "      <td>18</td>\n",
       "      <td>3</td>\n",
       "    </tr>\n",
       "    <tr>\n",
       "      <th>U</th>\n",
       "      <td>143</td>\n",
       "      <td>16.517483</td>\n",
       "      <td>22</td>\n",
       "      <td>15</td>\n",
       "      <td>143</td>\n",
       "      <td>11.405594</td>\n",
       "      <td>19</td>\n",
       "      <td>5</td>\n",
       "    </tr>\n",
       "  </tbody>\n",
       "</table>\n",
       "</div>"
      ],
      "text/plain": [
       "              age                       G1                   \n",
       "            count       mean max min count       mean max min\n",
       "sex address                                                  \n",
       "F   R          44  16.977273  19  15    44  10.295455  19   6\n",
       "    U         164  16.664634  20  15   164  10.707317  18   4\n",
       "M   R          44  17.113636  21  15    44  10.659091  18   3\n",
       "    U         143  16.517483  22  15   143  11.405594  19   5"
      ]
     },
     "execution_count": 139,
     "metadata": {},
     "output_type": "execute_result"
    }
   ],
   "source": [
    "# 列に複数の関数を適応\n",
    "functions = ['count','mean','max','min']\n",
    "grouped_student_math_data1 = student_data_math.groupby(['sex','address'])\n",
    "grouped_student_math_data1['age','G1'].agg(functions)"
   ]
  },
  {
   "cell_type": "markdown",
   "metadata": {},
   "source": [
    "以上で、Pandasの章は終了です。説明を読んでいるだけではなかなかイメージを掴みにくい箇所もあったかもしれません。しかし、実際に「本章のようにデータ加工したいなあ」と思ったときに、参考にしてプログラミングをしてみてください。データ加工処理のニーズが出てきて、実際に使うことで一層理解が進む箇所かもしれません。また、ここで紹介したテクニックはほんの一部です。この他にも色々なデータ処理・加工方法があるので、以下の参考文献等を読んで、手を動かして実行してみてください。"
   ]
  },
  {
   "cell_type": "markdown",
   "metadata": {},
   "source": [
    ">**[やってみよう]**\n",
    "\n",
    ">ここで扱った例題の軸以外にも、いろいろな軸で集計をしてみましょう。"
   ]
  },
  {
   "cell_type": "markdown",
   "metadata": {},
   "source": [
    ">[参考文献]\n",
    "\n",
    ">『Pythonによるデータ分析入門 ―NumPy、pandasを使ったデータ処理』（Wes McKinney (著), 小林 儀匡 (翻訳), 鈴木 宏尚 (翻訳), 瀬戸山 雅人  (翻訳)、オライリージャパン）"
   ]
  },
  {
   "cell_type": "markdown",
   "metadata": {},
   "source": [
    "データ分析は、データの前処理が8割だとよく言われます。世の中には実に様々な形式のデータが存在し、それらを整えるだけでも大変な作業です。テクニックも重要ですが、それらに対してどのように対処していくのか戦略を立てることも重要です。以下の文献等も参考になりますので、ぜひ目を通してみてください。"
   ]
  },
  {
   "cell_type": "markdown",
   "metadata": {},
   "source": [
    ">[参考文献]\n",
    "\n",
    ">『バッドデータハンドブック』（磯蘭水等訳、オイラリージャパン）"
   ]
  },
  {
   "cell_type": "markdown",
   "metadata": {},
   "source": [
    "#### <練習問題 1>\n",
    "\n",
    "一章で使用した「student-mat.csv」を使って、pandasの集計処理してみましょう。まずは、schoolを軸にして、G1の平均点をそれぞれ求めてみましょう。"
   ]
  },
  {
   "cell_type": "markdown",
   "metadata": {},
   "source": [
    "#### <練習問題 2>\n",
    "\n",
    "次は、schoolと性別を軸にして、G1,G2,G3の平均点をそれぞれ求めてみましょう。"
   ]
  },
  {
   "cell_type": "markdown",
   "metadata": {},
   "source": [
    "#### <練習問題 3>\n",
    "\n",
    "次は、schoolと性別を軸にして、G1,G2,G3の最大値、最小値をまとめて算出してみましょう。"
   ]
  },
  {
   "cell_type": "markdown",
   "metadata": {},
   "source": [
    "***"
   ]
  },
  {
   "cell_type": "markdown",
   "metadata": {},
   "source": [
    "## 4.2 データの可視化\n",
    "ゴール：matplotlibを使って、様々なデータを可視化することができる"
   ]
  },
  {
   "cell_type": "markdown",
   "metadata": {},
   "source": [
    "### 4.2.1 データ可視化の基礎\n",
    "キーワード：棒グラフ、円グラフ、バブルチャート、積み上げグラフ"
   ]
  },
  {
   "cell_type": "markdown",
   "metadata": {},
   "source": [
    "ここでは、データを可視化するmatplotlibについてもう少し詳しく学んでいきましょう。これまで折れ線グラフ、ヒストグラムなどのグラフを使ってきました。ここでは、棒グラフや円グラフ、積み上げグラフなどについても紹介していきます。"
   ]
  },
  {
   "cell_type": "markdown",
   "metadata": {},
   "source": [
    "まずは、棒グラフからです。これは、カテゴリーごと（地域別、部門別など）に数値を比較したい場合に使います。棒グラフは、barを使います。ラベルがある場合は、xtickで以下のように指定します。また、そのまま実行するとグラフが左に寄ってあまり見栄えが良くないので、グラフを中央に寄せるために、align=\"center\"を使います。他、xのラベルやyのラベルなどは、以前と同様です。"
   ]
  },
  {
   "cell_type": "code",
   "execution_count": 143,
   "metadata": {
    "collapsed": false
   },
   "outputs": [
    {
     "data": {
      "image/png": "[encoded data removed]",
      "text/plain": [
       "<matplotlib.figure.Figure at 0x11b469f98>"
      ]
     },
     "metadata": {},
     "output_type": "display_data"
    }
   ],
   "source": [
    "import matplotlib.pyplot as plt\n",
    "\n",
    "#画像の大きさとバッグカラーの設定\n",
    "plt.figure(figsize=(4,3),facecolor=\"white\")\n",
    "\n",
    "# 表示するデータ\n",
    "X = [1,2,3]\n",
    "Y = [10,1,4]\n",
    "\n",
    "# 棒グラフの表示、中央に寄せている\n",
    "plt.bar(X,Y, align=\"center\")\n",
    "\n",
    "# グラフそれぞれのレベル\n",
    "plt.xticks(X, ['A Class','B Class','C Class'])\n",
    "\n",
    "# XとYのラベル\n",
    "plt.xlabel(\"Class\")\n",
    "plt.ylabel(\"Score\")\n",
    "plt.grid(True)"
   ]
  },
  {
   "cell_type": "markdown",
   "metadata": {},
   "source": [
    "先ほどは縦の棒グラフでしたが、横にしたい場合は、barhを使います。なお、xの軸とyの軸が入れかわるので、再設定しています。"
   ]
  },
  {
   "cell_type": "code",
   "execution_count": 144,
   "metadata": {
    "collapsed": false
   },
   "outputs": [
    {
     "data": {
      "image/png": "[encoded data removed]",
      "text/plain": [
       "<matplotlib.figure.Figure at 0x11b4697b8>"
      ]
     },
     "metadata": {},
     "output_type": "display_data"
    }
   ],
   "source": [
    "import matplotlib.pyplot as plt\n",
    "\n",
    "#画像の大きさとバッグカラーの設定\n",
    "plt.figure(figsize=(4,3),facecolor=\"white\")\n",
    "\n",
    "X = [1,2,3]\n",
    "Y = [10,1,4]\n",
    "\n",
    "plt.barh(X,Y, align=\"center\")\n",
    "plt.yticks(X, ['A Class','B Class','C Class'])\n",
    "plt.ylabel(\"Class\")\n",
    "plt.xlabel(\"Score\")\n",
    "plt.grid(True)"
   ]
  },
  {
   "cell_type": "markdown",
   "metadata": {},
   "source": [
    "複数の棒グラフをそれぞれ比較したいという場合があります。以下では、クラスごとに数学の一期目の成績と最終成績を比較できるようにしています。"
   ]
  },
  {
   "cell_type": "code",
   "execution_count": 145,
   "metadata": {
    "collapsed": false,
    "scrolled": true
   },
   "outputs": [
    {
     "data": {
      "image/png": "[encoded data removed]",
      "text/plain": [
       "<matplotlib.figure.Figure at 0x11b5a8080>"
      ]
     },
     "metadata": {},
     "output_type": "display_data"
    }
   ],
   "source": [
    "import matplotlib.pyplot as plt\n",
    "import numpy as np\n",
    "\n",
    "plt.figure(figsize=(4,3),facecolor=\"white\")\n",
    "\n",
    "Y1 = np.array([30,10,40])\n",
    "Y2 = np.array([10,50,90])\n",
    "\n",
    "X = np.arange(len(Y1))\n",
    "\n",
    "w=0.4\n",
    "\n",
    "plt.bar(X, Y1, color='b', width=w, label='Math first', align=\"center\")\n",
    "plt.bar(X + w, Y2, color='g', width=w, label='Math final', align=\"center\")\n",
    "\n",
    "plt.legend(loc=\"best\")\n",
    "\n",
    "plt.xticks(X + w/2, ['Class A','Class B','Class C'])\n",
    "plt.grid(True)"
   ]
  },
  {
   "cell_type": "markdown",
   "metadata": {},
   "source": [
    "次は、積み上げの棒グラフです。同じくbarを使い、bottomパラメータの設定に注意してください。"
   ]
  },
  {
   "cell_type": "code",
   "execution_count": 146,
   "metadata": {
    "collapsed": false
   },
   "outputs": [
    {
     "data": {
      "text/plain": [
       "<matplotlib.legend.Legend at 0x11ace3978>"
      ]
     },
     "execution_count": 146,
     "metadata": {},
     "output_type": "execute_result"
    },
    {
     "data": {
      "image/png": "[encoded data removed]",
      "text/plain": [
       "<matplotlib.figure.Figure at 0x11b5b1e80>"
      ]
     },
     "metadata": {},
     "output_type": "display_data"
    }
   ],
   "source": [
    "import numpy as np\n",
    "import matplotlib.pyplot as plt\n",
    "plt.figure(figsize=(7,3),facecolor=\"white\")\n",
    "\n",
    "left = np.array([1, 2, 3, 4, 5])\n",
    "\n",
    "height1 = np.array([100, 200, 300, 400, 500])\n",
    "height2 = np.array([1000, 800, 600, 400, 200])\n",
    "\n",
    "p1 = plt.bar(left, height1, color=\"blue\")\n",
    "p2 = plt.bar(left, height2, bottom=height1, color=\"lightblue\")\n",
    "\n",
    "plt.legend((p1[0], p2[0]), (\"Class 1\", \"Class 2\"))"
   ]
  },
  {
   "cell_type": "markdown",
   "metadata": {},
   "source": [
    "次は、円グラフです。これは、全体的な割合が各々どれくらいあるのか見るときに使います。pieを使い、それぞれのサイズやラベル等を設定します。axisでグラフの調整をします。autopctでそれぞれの割合を、explodeで特定のカテゴリーだけ、円グラフの全体から離す調整ができます。（ここでは、Hogsを0.1と設定しています。）"
   ]
  },
  {
   "cell_type": "code",
   "execution_count": 147,
   "metadata": {
    "collapsed": false
   },
   "outputs": [
    {
     "data": {
      "text/plain": [
       "(-1.107, 1.028, -1.025, 1.000)"
      ]
     },
     "execution_count": 147,
     "metadata": {},
     "output_type": "execute_result"
    },
    {
     "data": {
      "image/png": "[encoded data removed]",
      "text/plain": [
       "<matplotlib.figure.Figure at 0x11ad07b70>"
      ]
     },
     "metadata": {},
     "output_type": "display_data"
    }
   ],
   "source": [
    "import matplotlib.pyplot as plt\n",
    "plt.figure(figsize=(5,3),facecolor=\"white\")\n",
    "\n",
    "labels = 'Frogs', 'Hogs', 'Dogs', 'Logs'\n",
    "sizes = [15, 30, 45, 10]\n",
    "colors = ['yellowgreen', 'gold', 'lightskyblue', 'lightcoral']\n",
    "explode = (0, 0.1, 0, 0) \n",
    "\n",
    "plt.pie(sizes, explode=explode, labels=labels, colors=colors,\n",
    "        autopct='%1.1f%%', shadow=True, startangle=90)\n",
    "plt.axis('equal')"
   ]
  },
  {
   "cell_type": "markdown",
   "metadata": {},
   "source": [
    "scatterを使うことで、バブルチャートも作成できます。"
   ]
  },
  {
   "cell_type": "code",
   "execution_count": 7,
   "metadata": {
    "collapsed": false
   },
   "outputs": [
    {
     "data": {
      "image/png": "[encoded data removed]",
      "text/plain": [
       "<matplotlib.figure.Figure at 0x11a87c2e8>"
      ]
     },
     "metadata": {},
     "output_type": "display_data"
    }
   ],
   "source": [
    "import numpy as np\n",
    "import matplotlib.pyplot as plt\n",
    "plt.figure(figsize=(5,3),facecolor=\"white\")\n",
    "\n",
    "N = 25\n",
    "\n",
    "# X,Y軸\n",
    "x = np.random.rand(N)\n",
    "y = np.random.rand(N)\n",
    "\n",
    "# color番号\n",
    "colors = np.random.rand(N)\n",
    "\n",
    "# バブルの大きさ\n",
    "area = 10*np.pi * (15 * np.random.rand(N))**2\n",
    "\n",
    "plt.scatter(x, y, s=area, c=colors, alpha=0.5)\n",
    "plt.grid(True)"
   ]
  },
  {
   "cell_type": "markdown",
   "metadata": {},
   "source": [
    "以上で、データの可視化は終了です。なお、pandasにも可視化機能が備わっており、.plot()でグラフ化可能です。具体的には、データの後に.plot(kind=\"bar\")で縦の棒グラフが、kind=\"barh\"で横の棒グラフが、kind=\"pie\"で円グラフを表示できます。必要なときに使ってください。また、本節の練習問題以外にも1章のデータ等を使って、色々とグラフ化できますので、実際にどのようなグラフができるか、作成してみましょう。"
   ]
  },
  {
   "cell_type": "markdown",
   "metadata": {},
   "source": [
    ">**[やってみよう]**\n",
    "\n",
    ">以下の練習問題以外にもデータを色々とグラフ化してみましょう。どのような目的を持って、どんなグラフを作成しますか?"
   ]
  },
  {
   "cell_type": "markdown",
   "metadata": {},
   "source": [
    "これまでデータの可視化についてPythonの機能を紹介・実行してきました。しかし、データ分析やデータの可視化が注目されている現在、様々なデータ可視化ツール（タブロ、Excel、PowerBIなど）があるため、ビジネスの現場ではそれらを使う場面が多くなっておりPythonや他のプログラミング言語で可視化する機会は減ってきそうな雰囲気はあります。ただし、可視化レポートの自動化、アプリケーションとの連携、可視化の細かい設定等はプログラミングが勝っているケースもあります。そういった用途でデータの可視化を行うときは是非活用してください。"
   ]
  },
  {
   "cell_type": "markdown",
   "metadata": {},
   "source": [
    "#### <練習問題 1>\n",
    "\n",
    "1章で使った学生のデータ（数学）を使って、学校を選んだ理由（reason）を円グラフ化して、それぞれの割合を出してください。"
   ]
  },
  {
   "cell_type": "markdown",
   "metadata": {},
   "source": [
    "#### <練習問題 2>\n",
    "\n",
    "上記と同じデータで、higher - 高い教育を受けたいかどうか(binary: yes or no)を軸にして、それぞれの数学の最終成績G3の平均値を棒グラフで表示してください。ここから何か推測できることはありますか？"
   ]
  },
  {
   "cell_type": "markdown",
   "metadata": {},
   "source": [
    "#### <練習問題 3>\n",
    "\n",
    "上記と同じデータで、通学時間（trabeltime）を軸にして、それぞれの数学の最終成績G3の平均値を横棒グラフで表示してください。何か推測できることはありますか？"
   ]
  },
  {
   "cell_type": "markdown",
   "metadata": {},
   "source": [
    "### 4.2.2 応用：金融データの可視化\n",
    "キーワード：ローソクチャート"
   ]
  },
  {
   "cell_type": "markdown",
   "metadata": {},
   "source": [
    "ここでは、金融データの可視化について扱っていきます。ただし、応用範囲ですので、スキップしても問題ありません。練習問題もありません。"
   ]
  },
  {
   "cell_type": "markdown",
   "metadata": {},
   "source": [
    "\n",
    ">pip install plotlyが必要\n",
    "\n",
    "\n",
    ">[参考URL]\n",
    "\n",
    "\n",
    ">http://qiita.com/toyolab/items/db8a1e539d4f995079d5\n",
    "\n"
   ]
  },
  {
   "cell_type": "code",
   "execution_count": 152,
   "metadata": {
    "collapsed": false
   },
   "outputs": [],
   "source": [
    "# 日付データの設定、Tで1分ごとにデータ生成\n",
    "idx = pd.date_range('2015/01/01', '2015/12/31 23:59', freq='T')\n",
    "# 乱数の発生、１か−１\n",
    "dn = np.random.randint(2, size=len(idx))*2-1\n",
    "# ランダムウォーク\n",
    "rnd_walk = np.cumprod(np.exp(dn*0.0002))*100\n",
    "# Pandas\n",
    "df = pd.Series(rnd_walk, index=idx).resample('B').ohlc()"
   ]
  },
  {
   "cell_type": "markdown",
   "metadata": {},
   "source": [
    "そのままプロットすると以下のようになります。なお、ここではpandasの可視化機能を使っています。"
   ]
  },
  {
   "cell_type": "code",
   "execution_count": 153,
   "metadata": {
    "collapsed": false
   },
   "outputs": [
    {
     "data": {
      "text/plain": [
       "<matplotlib.axes._subplots.AxesSubplot at 0x119f3b908>"
      ]
     },
     "execution_count": 153,
     "metadata": {},
     "output_type": "execute_result"
    },
    {
     "data": {
      "image/png": "[encoded data removed]",
      "text/plain": [
       "<matplotlib.figure.Figure at 0x11ae70be0>"
      ]
     },
     "metadata": {},
     "output_type": "display_data"
    }
   ],
   "source": [
    "df.plot(figsize=(7,4),legend=\"best\",grid=True)"
   ]
  },
  {
   "cell_type": "markdown",
   "metadata": {},
   "source": [
    "plotlyのツール、ローソクチャート作成を使えば、以下のように綺麗に表示することが可能です。さらにインタラクティブにグラフをズームインしたり、カーソルを載せると、数字が表示され便利です。"
   ]
  },
  {
   "cell_type": "code",
   "execution_count": 155,
   "metadata": {
    "collapsed": false,
    "scrolled": false
   },
   "outputs": [
    {
     "data": {
      "text/html": [
       "<script>requirejs.config({paths: { 'plotly': ['https://cdn.plot.ly/plotly-latest.min']},});if(!window.Plotly) {{require(['plotly'],function(plotly) {window.Plotly=plotly;});}}</script>"
      ],
      "text/plain": [
       "<IPython.core.display.HTML object>"
      ]
     },
     "metadata": {},
     "output_type": "display_data"
    },
    {
     "data": {
      "text/html": [
       "<div id=\"e952c8d4-dc06-4321-a1dd-bea1cd0c23af\" style=\"height: 525px; width: 100%;\" class=\"plotly-graph-div\"></div><script type=\"text/javascript\">require([\"plotly\"], function(Plotly) { window.PLOTLYENV=window.PLOTLYENV || {};window.PLOTLYENV.BASE_URL=\"https://plot.ly\";Plotly.newPlot(\"e952c8d4-dc06-4321-a1dd-bea1cd0c23af\", [{\"whiskerwidth\": 0, \"name\": \"Increasing\", \"x\": [\"2015-01-01\", \"2015-01-01\", \"2015-01-01\", \"2015-01-01\", \"2015-01-01\", \"2015-01-01\", \"2015-01-02\", \"2015-01-02\", \"2015-01-02\", \"2015-01-02\", \"2015-01-02\", \"2015-01-02\", \"2015-01-06\", \"2015-01-06\", \"2015-01-06\", \"2015-01-06\", \"2015-01-06\", \"2015-01-06\", \"2015-01-07\", \"2015-01-07\", \"2015-01-07\", \"2015-01-07\", \"2015-01-07\", \"2015-01-07\", \"2015-01-08\", \"2015-01-08\", \"2015-01-08\", \"2015-01-08\", \"2015-01-08\", \"2015-01-08\", \"2015-01-09\", \"2015-01-09\", \"2015-01-09\", \"2015-01-09\", \"2015-01-09\", \"2015-01-09\", \"2015-01-16\", \"2015-01-16\", \"2015-01-16\", \"2015-01-16\", \"2015-01-16\", \"2015-01-16\", \"2015-01-21\", \"2015-01-21\", \"2015-01-21\", \"2015-01-21\", \"2015-01-21\", \"2015-01-21\", \"2015-01-22\", \"2015-01-22\", \"2015-01-22\", \"2015-01-22\", \"2015-01-22\", \"2015-01-22\", \"2015-01-23\", \"2015-01-23\", \"2015-01-23\", \"2015-01-23\", \"2015-01-23\", \"2015-01-23\", \"2015-01-26\", \"2015-01-26\", \"2015-01-26\", \"2015-01-26\", \"2015-01-26\", \"2015-01-26\", \"2015-01-28\", \"2015-01-28\", \"2015-01-28\", \"2015-01-28\", \"2015-01-28\", \"2015-01-28\", \"2015-01-29\", \"2015-01-29\", \"2015-01-29\", \"2015-01-29\", \"2015-01-29\", \"2015-01-29\", \"2015-02-03\", \"2015-02-03\", \"2015-02-03\", \"2015-02-03\", \"2015-02-03\", \"2015-02-03\", \"2015-02-04\", \"2015-02-04\", \"2015-02-04\", \"2015-02-04\", \"2015-02-04\", \"2015-02-04\", \"2015-02-09\", \"2015-02-09\", \"2015-02-09\", \"2015-02-09\", \"2015-02-09\", \"2015-02-09\", \"2015-02-11\", \"2015-02-11\", \"2015-02-11\", \"2015-02-11\", \"2015-02-11\", \"2015-02-11\", \"2015-02-16\", \"2015-02-16\", \"2015-02-16\", \"2015-02-16\", \"2015-02-16\", \"2015-02-16\", \"2015-02-17\", \"2015-02-17\", \"2015-02-17\", \"2015-02-17\", \"2015-02-17\", \"2015-02-17\", \"2015-02-18\", \"2015-02-18\", \"2015-02-18\", \"2015-02-18\", \"2015-02-18\", \"2015-02-18\", \"2015-02-19\", \"2015-02-19\", \"2015-02-19\", \"2015-02-19\", \"2015-02-19\", \"2015-02-19\", \"2015-02-23\", \"2015-02-23\", \"2015-02-23\", \"2015-02-23\", \"2015-02-23\", \"2015-02-23\", \"2015-02-26\", \"2015-02-26\", \"2015-02-26\", \"2015-02-26\", \"2015-02-26\", \"2015-02-26\", \"2015-02-27\", \"2015-02-27\", \"2015-02-27\", \"2015-02-27\", \"2015-02-27\", \"2015-02-27\", \"2015-03-04\", \"2015-03-04\", \"2015-03-04\", \"2015-03-04\", \"2015-03-04\", \"2015-03-04\", \"2015-03-06\", \"2015-03-06\", \"2015-03-06\", \"2015-03-06\", \"2015-03-06\", \"2015-03-06\", \"2015-03-11\", \"2015-03-11\", \"2015-03-11\", \"2015-03-11\", \"2015-03-11\", \"2015-03-11\", \"2015-03-18\", \"2015-03-18\", \"2015-03-18\", \"2015-03-18\", \"2015-03-18\", \"2015-03-18\", \"2015-03-19\", \"2015-03-19\", \"2015-03-19\", \"2015-03-19\", \"2015-03-19\", \"2015-03-19\", \"2015-03-20\", \"2015-03-20\", \"2015-03-20\", \"2015-03-20\", \"2015-03-20\", \"2015-03-20\", \"2015-03-25\", \"2015-03-25\", \"2015-03-25\", \"2015-03-25\", \"2015-03-25\", \"2015-03-25\", \"2015-03-26\", \"2015-03-26\", \"2015-03-26\", \"2015-03-26\", \"2015-03-26\", \"2015-03-26\", \"2015-03-27\", \"2015-03-27\", \"2015-03-27\", \"2015-03-27\", \"2015-03-27\", \"2015-03-27\", \"2015-03-30\", \"2015-03-30\", \"2015-03-30\", \"2015-03-30\", \"2015-03-30\", \"2015-03-30\", \"2015-03-31\", \"2015-03-31\", \"2015-03-31\", \"2015-03-31\", \"2015-03-31\", \"2015-03-31\", \"2015-04-02\", \"2015-04-02\", \"2015-04-02\", \"2015-04-02\", \"2015-04-02\", \"2015-04-02\", \"2015-04-03\", \"2015-04-03\", \"2015-04-03\", \"2015-04-03\", \"2015-04-03\", \"2015-04-03\", \"2015-04-06\", \"2015-04-06\", \"2015-04-06\", \"2015-04-06\", \"2015-04-06\", \"2015-04-06\", \"2015-04-07\", \"2015-04-07\", \"2015-04-07\", \"2015-04-07\", \"2015-04-07\", \"2015-04-07\", \"2015-04-10\", \"2015-04-10\", \"2015-04-10\", \"2015-04-10\", \"2015-04-10\", \"2015-04-10\", \"2015-04-13\", \"2015-04-13\", \"2015-04-13\", \"2015-04-13\", \"2015-04-13\", \"2015-04-13\", \"2015-04-14\", \"2015-04-14\", \"2015-04-14\", \"2015-04-14\", \"2015-04-14\", \"2015-04-14\", \"2015-04-15\", \"2015-04-15\", \"2015-04-15\", \"2015-04-15\", \"2015-04-15\", \"2015-04-15\", \"2015-04-17\", \"2015-04-17\", \"2015-04-17\", \"2015-04-17\", \"2015-04-17\", \"2015-04-17\", \"2015-04-22\", \"2015-04-22\", \"2015-04-22\", \"2015-04-22\", \"2015-04-22\", \"2015-04-22\", \"2015-04-23\", \"2015-04-23\", \"2015-04-23\", \"2015-04-23\", \"2015-04-23\", \"2015-04-23\", \"2015-04-24\", \"2015-04-24\", \"2015-04-24\", \"2015-04-24\", \"2015-04-24\", \"2015-04-24\", \"2015-04-28\", \"2015-04-28\", \"2015-04-28\", \"2015-04-28\", \"2015-04-28\", \"2015-04-28\", \"2015-04-29\", \"2015-04-29\", \"2015-04-29\", \"2015-04-29\", \"2015-04-29\", \"2015-04-29\", \"2015-05-07\", \"2015-05-07\", \"2015-05-07\", \"2015-05-07\", \"2015-05-07\", \"2015-05-07\", \"2015-05-08\", \"2015-05-08\", \"2015-05-08\", \"2015-05-08\", \"2015-05-08\", \"2015-05-08\", \"2015-05-11\", \"2015-05-11\", \"2015-05-11\", \"2015-05-11\", \"2015-05-11\", \"2015-05-11\", \"2015-05-13\", \"2015-05-13\", \"2015-05-13\", \"2015-05-13\", \"2015-05-13\", \"2015-05-13\", \"2015-05-14\", \"2015-05-14\", \"2015-05-14\", \"2015-05-14\", \"2015-05-14\", \"2015-05-14\", \"2015-05-22\", \"2015-05-22\", \"2015-05-22\", \"2015-05-22\", \"2015-05-22\", \"2015-05-22\", \"2015-05-25\", \"2015-05-25\", \"2015-05-25\", \"2015-05-25\", \"2015-05-25\", \"2015-05-25\", \"2015-05-26\", \"2015-05-26\", \"2015-05-26\", \"2015-05-26\", \"2015-05-26\", \"2015-05-26\", \"2015-05-28\", \"2015-05-28\", \"2015-05-28\", \"2015-05-28\", \"2015-05-28\", \"2015-05-28\", \"2015-06-01\", \"2015-06-01\", \"2015-06-01\", \"2015-06-01\", \"2015-06-01\", \"2015-06-01\", \"2015-06-02\", \"2015-06-02\", \"2015-06-02\", \"2015-06-02\", \"2015-06-02\", \"2015-06-02\", \"2015-06-04\", \"2015-06-04\", \"2015-06-04\", \"2015-06-04\", \"2015-06-04\", \"2015-06-04\", \"2015-06-05\", \"2015-06-05\", \"2015-06-05\", \"2015-06-05\", \"2015-06-05\", \"2015-06-05\", \"2015-06-08\", \"2015-06-08\", \"2015-06-08\", \"2015-06-08\", \"2015-06-08\", \"2015-06-08\", \"2015-06-09\", \"2015-06-09\", \"2015-06-09\", \"2015-06-09\", \"2015-06-09\", \"2015-06-09\", \"2015-06-15\", \"2015-06-15\", \"2015-06-15\", \"2015-06-15\", \"2015-06-15\", \"2015-06-15\", \"2015-06-16\", \"2015-06-16\", \"2015-06-16\", \"2015-06-16\", \"2015-06-16\", \"2015-06-16\", \"2015-06-18\", \"2015-06-18\", \"2015-06-18\", \"2015-06-18\", \"2015-06-18\", \"2015-06-18\", \"2015-06-19\", \"2015-06-19\", \"2015-06-19\", \"2015-06-19\", \"2015-06-19\", \"2015-06-19\", \"2015-06-22\", \"2015-06-22\", \"2015-06-22\", \"2015-06-22\", \"2015-06-22\", \"2015-06-22\", \"2015-06-25\", \"2015-06-25\", \"2015-06-25\", \"2015-06-25\", \"2015-06-25\", \"2015-06-25\", \"2015-06-26\", \"2015-06-26\", \"2015-06-26\", \"2015-06-26\", \"2015-06-26\", \"2015-06-26\", \"2015-06-29\", \"2015-06-29\", \"2015-06-29\", \"2015-06-29\", \"2015-06-29\", \"2015-06-29\", \"2015-06-30\", \"2015-06-30\", \"2015-06-30\", \"2015-06-30\", \"2015-06-30\", \"2015-06-30\", \"2015-07-01\", \"2015-07-01\", \"2015-07-01\", \"2015-07-01\", \"2015-07-01\", \"2015-07-01\", \"2015-07-06\", \"2015-07-06\", \"2015-07-06\", \"2015-07-06\", \"2015-07-06\", \"2015-07-06\", \"2015-07-07\", \"2015-07-07\", \"2015-07-07\", \"2015-07-07\", \"2015-07-07\", \"2015-07-07\", \"2015-07-09\", \"2015-07-09\", \"2015-07-09\", \"2015-07-09\", \"2015-07-09\", \"2015-07-09\", \"2015-07-13\", \"2015-07-13\", \"2015-07-13\", \"2015-07-13\", \"2015-07-13\", \"2015-07-13\", \"2015-07-15\", \"2015-07-15\", \"2015-07-15\", \"2015-07-15\", \"2015-07-15\", \"2015-07-15\", \"2015-07-16\", \"2015-07-16\", \"2015-07-16\", \"2015-07-16\", \"2015-07-16\", \"2015-07-16\", \"2015-07-17\", \"2015-07-17\", \"2015-07-17\", \"2015-07-17\", \"2015-07-17\", \"2015-07-17\", \"2015-07-21\", \"2015-07-21\", \"2015-07-21\", \"2015-07-21\", \"2015-07-21\", \"2015-07-21\", \"2015-07-22\", \"2015-07-22\", \"2015-07-22\", \"2015-07-22\", \"2015-07-22\", \"2015-07-22\", \"2015-07-23\", \"2015-07-23\", \"2015-07-23\", \"2015-07-23\", \"2015-07-23\", \"2015-07-23\", \"2015-07-24\", \"2015-07-24\", \"2015-07-24\", \"2015-07-24\", \"2015-07-24\", \"2015-07-24\", \"2015-07-27\", \"2015-07-27\", \"2015-07-27\", \"2015-07-27\", \"2015-07-27\", \"2015-07-27\", \"2015-07-28\", \"2015-07-28\", \"2015-07-28\", \"2015-07-28\", \"2015-07-28\", \"2015-07-28\", \"2015-07-29\", \"2015-07-29\", \"2015-07-29\", \"2015-07-29\", \"2015-07-29\", \"2015-07-29\", \"2015-07-30\", \"2015-07-30\", \"2015-07-30\", \"2015-07-30\", \"2015-07-30\", \"2015-07-30\", \"2015-07-31\", \"2015-07-31\", \"2015-07-31\", \"2015-07-31\", \"2015-07-31\", \"2015-07-31\", \"2015-08-03\", \"2015-08-03\", \"2015-08-03\", \"2015-08-03\", \"2015-08-03\", \"2015-08-03\", \"2015-08-05\", \"2015-08-05\", \"2015-08-05\", \"2015-08-05\", \"2015-08-05\", \"2015-08-05\", \"2015-08-06\", \"2015-08-06\", \"2015-08-06\", \"2015-08-06\", \"2015-08-06\", \"2015-08-06\", \"2015-08-10\", \"2015-08-10\", \"2015-08-10\", \"2015-08-10\", \"2015-08-10\", \"2015-08-10\", \"2015-08-11\", \"2015-08-11\", \"2015-08-11\", \"2015-08-11\", \"2015-08-11\", \"2015-08-11\", \"2015-08-13\", \"2015-08-13\", \"2015-08-13\", \"2015-08-13\", \"2015-08-13\", \"2015-08-13\", \"2015-08-17\", \"2015-08-17\", \"2015-08-17\", \"2015-08-17\", \"2015-08-17\", \"2015-08-17\", \"2015-08-19\", \"2015-08-19\", \"2015-08-19\", \"2015-08-19\", \"2015-08-19\", \"2015-08-19\", \"2015-08-20\", \"2015-08-20\", \"2015-08-20\", \"2015-08-20\", \"2015-08-20\", \"2015-08-20\", \"2015-08-21\", \"2015-08-21\", \"2015-08-21\", \"2015-08-21\", \"2015-08-21\", \"2015-08-21\", \"2015-08-24\", \"2015-08-24\", \"2015-08-24\", \"2015-08-24\", \"2015-08-24\", \"2015-08-24\", \"2015-08-28\", \"2015-08-28\", \"2015-08-28\", \"2015-08-28\", \"2015-08-28\", \"2015-08-28\", \"2015-08-31\", \"2015-08-31\", \"2015-08-31\", \"2015-08-31\", \"2015-08-31\", \"2015-08-31\", \"2015-09-01\", \"2015-09-01\", \"2015-09-01\", \"2015-09-01\", \"2015-09-01\", \"2015-09-01\", \"2015-09-09\", \"2015-09-09\", \"2015-09-09\", \"2015-09-09\", \"2015-09-09\", \"2015-09-09\", \"2015-09-10\", \"2015-09-10\", \"2015-09-10\", \"2015-09-10\", \"2015-09-10\", \"2015-09-10\", \"2015-09-15\", \"2015-09-15\", \"2015-09-15\", \"2015-09-15\", \"2015-09-15\", \"2015-09-15\", \"2015-09-16\", \"2015-09-16\", \"2015-09-16\", \"2015-09-16\", \"2015-09-16\", \"2015-09-16\", \"2015-09-22\", \"2015-09-22\", \"2015-09-22\", \"2015-09-22\", \"2015-09-22\", \"2015-09-22\", \"2015-09-23\", \"2015-09-23\", \"2015-09-23\", \"2015-09-23\", \"2015-09-23\", \"2015-09-23\", \"2015-09-28\", \"2015-09-28\", \"2015-09-28\", \"2015-09-28\", \"2015-09-28\", \"2015-09-28\", \"2015-10-02\", \"2015-10-02\", \"2015-10-02\", \"2015-10-02\", \"2015-10-02\", \"2015-10-02\", \"2015-10-08\", \"2015-10-08\", \"2015-10-08\", \"2015-10-08\", \"2015-10-08\", \"2015-10-08\", \"2015-10-12\", \"2015-10-12\", \"2015-10-12\", \"2015-10-12\", \"2015-10-12\", \"2015-10-12\", \"2015-10-13\", \"2015-10-13\", \"2015-10-13\", \"2015-10-13\", \"2015-10-13\", \"2015-10-13\", \"2015-10-16\", \"2015-10-16\", \"2015-10-16\", \"2015-10-16\", \"2015-10-16\", \"2015-10-16\", \"2015-10-20\", \"2015-10-20\", \"2015-10-20\", \"2015-10-20\", \"2015-10-20\", \"2015-10-20\", \"2015-10-28\", \"2015-10-28\", \"2015-10-28\", \"2015-10-28\", \"2015-10-28\", \"2015-10-28\", \"2015-10-29\", \"2015-10-29\", \"2015-10-29\", \"2015-10-29\", \"2015-10-29\", \"2015-10-29\", \"2015-11-03\", \"2015-11-03\", \"2015-11-03\", \"2015-11-03\", \"2015-11-03\", \"2015-11-03\", \"2015-11-04\", \"2015-11-04\", \"2015-11-04\", \"2015-11-04\", \"2015-11-04\", \"2015-11-04\", \"2015-11-06\", \"2015-11-06\", \"2015-11-06\", \"2015-11-06\", \"2015-11-06\", \"2015-11-06\", \"2015-11-09\", \"2015-11-09\", \"2015-11-09\", \"2015-11-09\", \"2015-11-09\", \"2015-11-09\", \"2015-11-10\", \"2015-11-10\", \"2015-11-10\", \"2015-11-10\", \"2015-11-10\", \"2015-11-10\", \"2015-11-12\", \"2015-11-12\", \"2015-11-12\", \"2015-11-12\", \"2015-11-12\", \"2015-11-12\", \"2015-11-17\", \"2015-11-17\", \"2015-11-17\", \"2015-11-17\", \"2015-11-17\", \"2015-11-17\", \"2015-11-19\", \"2015-11-19\", \"2015-11-19\", \"2015-11-19\", \"2015-11-19\", \"2015-11-19\", \"2015-11-23\", \"2015-11-23\", \"2015-11-23\", \"2015-11-23\", \"2015-11-23\", \"2015-11-23\", \"2015-12-03\", \"2015-12-03\", \"2015-12-03\", \"2015-12-03\", \"2015-12-03\", \"2015-12-03\", \"2015-12-04\", \"2015-12-04\", \"2015-12-04\", \"2015-12-04\", \"2015-12-04\", \"2015-12-04\", \"2015-12-08\", \"2015-12-08\", \"2015-12-08\", \"2015-12-08\", \"2015-12-08\", \"2015-12-08\", \"2015-12-11\", \"2015-12-11\", \"2015-12-11\", \"2015-12-11\", \"2015-12-11\", \"2015-12-11\", \"2015-12-14\", \"2015-12-14\", \"2015-12-14\", \"2015-12-14\", \"2015-12-14\", \"2015-12-14\", \"2015-12-15\", \"2015-12-15\", \"2015-12-15\", \"2015-12-15\", \"2015-12-15\", \"2015-12-15\", \"2015-12-18\", \"2015-12-18\", \"2015-12-18\", \"2015-12-18\", \"2015-12-18\", \"2015-12-18\", \"2015-12-22\", \"2015-12-22\", \"2015-12-22\", \"2015-12-22\", \"2015-12-22\", \"2015-12-22\"], \"y\": [99.78024182263374, 100.02000200013335, 100.56157093104028, 100.56157093104028, 100.56157093104028, 100.72259823201803, 100.280392366128, 100.54146062795142, 101.85703230444452, 101.85703230444452, 101.85703230444452, 102.49050764906467, 100.92424500806361, 101.18698946486555, 102.47001159722599, 102.47001159722599, 102.47001159722599, 102.63409484737673, 102.32665395475577, 102.44951964417017, 103.49985233490098, 103.49985233490098, 103.49985233490098, 103.56197088000161, 102.81900258514844, 103.47915443429305, 103.79005801980144, 103.79005801980144, 103.79005801980144, 103.93546586276672, 103.37572700220193, 103.81081810734496, 104.12271817785934, 104.12271817785934, 104.12271817785934, 105.48515013435728, 100.58168525666333, 101.02521973206866, 101.85703230451368, 101.85703230451368, 101.85703230451368, 102.47001159728069, 100.10005001676903, 100.14009804584596, 100.32051254667151, 100.32051254667151, 100.32051254667151, 100.94443187575999, 99.70044955043804, 100.34057865572488, 100.92424500814383, 100.92424500814383, 100.92424500814383, 101.22747235676974, 100.8032085505332, 100.90406217749255, 101.69419136035232, 101.69419136035232, 101.69419136035232, 102.28573147829681, 101.470710058929, 101.71453223264382, 102.55202040574676, 102.55202040574676, 102.55202040574676, 102.73678027647331, 100.68231724958568, 101.106072244603, 102.18349687266479, 102.18349687266479, 102.18349687266479, 102.30619067046733, 101.89778326713672, 102.20393561584551, 102.34712133232931, 102.34712133232931, 102.34712133232931, 102.65462371927913, 100.34057865578836, 100.5012520861047, 101.45041794624625, 101.45041794624625, 101.45041794624625, 101.47071005897914, 101.22747235683526, 101.4301298915301, 102.88071249795823, 102.88071249795823, 102.88071249795823, 102.96304999856551, 100.96462278125249, 101.63319314690347, 101.65352181833849, 101.65352181833849, 101.65352181833849, 101.85703230461985, 99.82016190304688, 100.34057865582578, 100.60180360561357, 100.60180360561357, 100.60180360561357, 100.74274476645357, 98.68867379358703, 98.9851843584319, 100.32051254680034, 100.32051254680034, 100.32051254680034, 100.48115384564358, 100.1400980459791, 100.30045045056748, 100.80320855066327, 100.80320855066327, 100.80320855066327, 100.86370862400047, 100.72259823224957, 100.82337120857198, 101.6128685408543, 101.6128685408543, 101.6128685408543, 101.81629763922078, 101.2679714451315, 101.59254799926802, 101.97933410984955, 101.97933410984955, 101.97933410984955, 102.06095021922823, 101.20722888687601, 101.5925479992902, 101.81629763925118, 101.81629763925118, 101.81629763925118, 102.06095021924769, 100.64205237634287, 100.94443187593602, 101.69419136051418, 101.69419136051418, 101.69419136051418, 101.93855053349455, 101.49100623065144, 101.67385455599032, 103.37572700245543, 103.37572700245543, 103.37572700245543, 103.58268534581711, 101.87740574846981, 102.12220516406106, 102.14263164767776, 102.14263164767776, 102.14263164767776, 102.83956844245499, 101.1667540908672, 101.87740574847639, 103.12792274173881, 103.12792274173881, 103.12792274173881, 103.41708556444773, 101.67385455604804, 101.91816486207692, 102.02013400301666, 102.02013400301666, 102.02013400301666, 102.65462371947294, 99.32230676872574, 99.46145537950154, 99.84012793212949, 99.84012793212949, 99.84012793212949, 100.28039236649242, 98.96538930127794, 99.8201619032125, 100.00000000037448, 100.00000000037448, 100.00000000037448, 100.10005001704523, 98.68867379373803, 100.02000200050789, 100.80320855082041, 100.80320855082041, 100.80320855082041, 101.45041794647081, 98.15719124964686, 98.74790476554928, 98.80717128659127, 98.80717128659127, 98.80717128659127, 99.2031914841031, 98.49149369200381, 98.78741182834564, 100.36064877871016, 100.36064877871016, 100.36064877871016, 100.60180360581587, 99.76028777015216, 100.34057865603359, 100.9646227814849, 100.9646227814849, 100.9646227814849, 101.02521973242024, 100.82337120876291, 100.98481772546828, 101.49100623080474, 101.49100623080474, 101.49100623080474, 101.83666293540432, 100.58168525702061, 101.4707100592434, 101.53161075366471, 101.53161075366471, 101.53161075366471, 101.67385455614841, 100.00000000043643, 100.06001800403723, 100.64205237651029, 100.64205237651029, 100.64205237651029, 100.78304992509086, 99.92003199191419, 100.62192597874187, 102.30619067079675, 102.30619067079675, 102.30619067079675, 102.59304941950799, 101.99973201660981, 102.28573147865, 102.92187301481471, 102.92187301481471, 102.92187301481471, 103.04545339583122, 102.90129069851275, 102.94245944799236, 103.08667982193033, 103.08667982193033, 103.08667982193033, 103.52055437594825, 101.87740574866196, 102.73678027684335, 103.21045808984938, 103.21045808984938, 103.21045808984938, 103.6863198399768, 102.98364466829743, 103.18981806230299, 105.04304158212534, 105.04304158212534, 105.04304158212534, 105.10608631860421, 104.31030785110387, 105.0220350745297, 105.59068804513142, 105.59068804513142, 105.59068804513142, 105.73861853557587, 105.3375742518699, 105.61180829469498, 107.42255678926414, 107.42255678926414, 107.42255678926414, 107.46553440693035, 106.43880147997837, 107.14362091538725, 107.63761689127902, 107.63761689127902, 107.63761689127902, 107.74530834492275, 104.56095324414643, 104.85413417498617, 105.2533378915422, 105.2533378915422, 105.2533378915422, 105.56957201923167, 104.64463547517514, 105.23228932889033, 105.33757425191139, 105.33757425191139, 105.33757425191139, 105.88675627378821, 104.8751070990531, 105.35864387365372, 107.68068055022475, 107.68068055022475, 107.68068055022475, 108.4587792440981, 106.46009136924081, 106.58792016081932, 106.86540933284702, 106.86540933284702, 106.86540933284702, 107.33665310994726, 106.2686355666997, 106.84403838814616, 106.95093586636928, 106.95093586636928, 106.95093586636928, 107.61609152055198, 101.3895659533512, 101.3895659533512, 103.2517505311467, 103.2517505311467, 103.2517505311467, 103.2517505311467, 103.00424345716625, 103.27240294642563, 105.12710963826706, 105.12710963826706, 105.12710963826706, 105.42187802841687, 105.00103276795258, 105.14813716287708, 106.99372479800002, 106.99372479800002, 106.99372479800002, 107.27227043488861, 106.35368449025788, 106.46009136932042, 107.59457045450374, 107.59457045450374, 107.59457045450374, 108.02581064170882, 107.29372703457156, 107.5730536921608, 108.98063283121706, 108.98063283121706, 108.98063283121706, 109.26435115056495, 107.16505178275537, 107.18648693655585, 107.85310754405441, 107.85310754405441, 107.85310754405441, 109.0242338039984, 107.48702966345849, 107.8746803227692, 108.15551942423889, 108.15551942423889, 108.15551942423889, 108.58900790090358, 107.68068055036932, 108.17715269137835, 108.328706768251, 108.328706768251, 108.328706768251, 108.74113897887285, 107.74530834510736, 108.22043220779001, 108.28538395069307, 108.28538395069307, 108.28538395069307, 108.82816669651372, 106.58792016098462, 107.10077203758546, 108.06902960927285, 108.06902960927285, 108.06902960927285, 108.35037467635244, 108.0474179645875, 108.0474179645875, 108.8499345065906, 108.8499345065906, 108.8499345065906, 109.43931404548697, 108.26372903950269, 108.26372903950269, 108.50217143385767, 108.50217143385767, 108.50217143385767, 109.70228383673441, 107.55154123285197, 108.48047316946968, 110.16400235904142, 110.16400235904142, 110.16400235904142, 110.51709180840395, 109.65841169823479, 110.14197176170279, 110.47289381187717, 110.47289381187717, 110.47289381187717, 110.6719240942521, 110.1860373629464, 110.45080144242539, 111.40477453950635, 111.40477453950635, 111.40477453950635, 111.44934536289254, 109.04604083151244, 109.04604083151244, 109.37367015227164, 109.37367015227164, 109.37367015227164, 110.03188484261177, 108.91526406427663, 109.35179760556876, 110.29627851173484, 110.29627851173484, 110.29627851173484, 110.31833997350984, 109.30806563351561, 109.79008077796688, 109.89992577209415, 109.89992577209415, 109.89992577209415, 110.11994557009206, 108.82816669664355, 109.92190795539362, 110.2962785117623, 110.2962785117623, 110.2962785117623, 110.2962785117623, 109.92190795541181, 110.31833997353728, 110.7826513728301, 110.7826513728301, 110.7826513728301, 111.13772366990263, 107.85310754421864, 108.91526406431862, 108.98063283143216, 108.98063283143216, 108.98063283143216, 109.59263638587191, 108.523874038444, 108.95883888433322, 109.9878808901253, 109.9878808901253, 109.9878808901253, 111.07106103652413, 109.11148808830569, 110.00988066620761, 110.03188484269226, 110.03188484269226, 110.03188484269226, 110.49499060035347, 109.9438945356338, 110.00988066621471, 111.22666942244557, 111.22666942244557, 111.22666942244557, 111.53854051259886, 111.0488490456073, 111.20442631294618, 111.76184081950315, 111.76184081950315, 111.76184081950315, 111.98558817391324, 109.6145571052068, 109.6145571052068, 110.60554085691219, 110.60554085691219, 110.60554085691219, 111.18218765165655, 110.60554085691219, 110.62766417734187, 111.36022154103631, 111.36022154103631, 111.36022154103631, 111.42705772280672, 110.69406069282286, 111.11549834786851, 111.89603552925509, 111.89603552925509, 111.89603552925509, 111.91841697443085, 110.03188484275745, 110.31833997364903, 110.38455083890864, 110.38455083890864, 110.38455083890864, 110.9822397210361, 109.19881220384171, 109.39554707407193, 109.72422648791176, 109.72422648791176, 109.72422648791176, 110.16400235923707, 109.395547074081, 109.74617352784017, 110.20807677448381, 110.20807677448381, 110.20807677448381, 110.45080144262232, 108.87170667087751, 110.18603736314351, 110.96004549262759, 110.96004549262759, 110.96004549262759, 111.02664149672215, 109.89992577227557, 110.00988066632445, 110.03188484280975, 110.03188484280975, 110.03188484280975, 110.84914090867875, 109.79008077815975, 110.05389342056273, 110.2080767745222, 110.2080767745222, 110.2080767745222, 110.71620171906058, 110.09792378342664, 110.23012059418559, 111.67246710122274, 111.67246710122274, 111.67246710122274, 111.71714502305188, 111.02664149676353, 111.65013484110295, 112.65952148121761, 112.65952148121761, 112.65952148121761, 112.90764526455047, 112.43442760716145, 112.6820556388545, 112.93022905192305, 112.93022905192305, 112.93022905192305, 113.51899570961328, 111.80655449811445, 112.95281735648861, 113.24687679323388, 113.24687679323388, 113.24687679323388, 113.26952843368107, 112.95281735649306, 113.26952843368107, 113.38285461576747, 113.38285461576747, 113.38285461576747, 113.74626089046878, 112.77223735125807, 113.40553345449891, 113.56441239064483, 113.56441239064483, 113.56441239064483, 113.72351391306681, 113.4055334545035, 113.54170177930354, 115.99767943069084, 115.99767943069084, 115.99767943069084, 116.46259936839007, 115.97448221460363, 115.97448221460363, 116.55580672586892, 116.55580672586892, 116.55580672586892, 116.97616381886313, 116.11373512831081, 116.20666328271886, 117.72721205810397, 117.72721205810397, 117.72721205810397, 117.96290209369238, 117.63306795112133, 117.75075985521681, 119.1007991204889, 119.1007991204889, 119.1007991204889, 119.19611788220628, 115.78907141129866, 116.4393091776597, 117.96290209372393, 117.96290209372393, 117.96290209372393, 118.29366106605102, 117.58602413336565, 117.93931187240597, 118.01009669285803, 118.01009669285803, 118.01009669285803, 118.5067814067389, 117.3510871004537, 117.4215188801349, 118.48308242044922, 118.48308242044922, 118.48308242044922, 118.69654402661673, 116.81251177275591, 116.90599917214666, 118.19906398111848, 118.19906398111848, 118.19906398111848, 118.43569866488517, 116.60243837435588, 116.76579611181414, 117.53899912939106, 117.53899912939106, 117.53899912939106, 117.72721205818799, 117.1400451384617, 117.51549368018846, 118.62534746134745, 118.62534746134745, 118.62534746134745, 118.79153925490291, 116.76579611183526, 118.60162476420398, 118.72028570956783, 118.72028570956783, 118.72028570956783, 119.26765701262056, 118.48308242050636, 118.74403214127376, 119.38698432336132, 119.38698432336132, 119.38698432336132, 119.64992481736196, 117.25724377321013, 118.12816581436837, 118.91039020979284, 118.91039020979284, 118.91039020979284, 119.53033469760983, 118.45938817357032, 118.93417466620116, 119.29151292959463, 119.29151292959463, 119.29151292959463, 119.74568305544777, 119.02936007502467, 119.31537361816989, 120.10545949945548, 120.10545949945548, 120.10545949945548, 120.29778205166555, 118.60162476431317, 118.74403214136761, 120.10545949949925, 120.10545949949925, 120.10545949949925, 120.3940587829085, 119.9854140727183, 120.08144080954841, 121.65269053492321, 121.65269053492321, 121.65269053492321, 121.94500763241136, 118.05731017379888, 118.31732216449937, 119.053168327874, 119.053168327874, 119.053168327874, 120.03341783849619, 118.53048513352418, 119.0769813427617, 119.24380586656613, 119.24380586656613, 119.24380586656613, 119.60207441829125, 116.22990693994173, 116.81251177295917, 117.16347549063934, 117.16347549063934, 117.16347549063934, 117.3745596652863, 117.04637057736605, 117.18691052916321, 117.30415605268693, 117.30415605268693, 117.30415605268693, 117.91572636891128, 112.70459430411857, 113.22422968299755, 114.01957976840573, 114.01957976840573, 114.01957976840573, 114.04238596490303, 110.1860373635567, 110.3183399740826, 111.27116899004676, 111.27116899004676, 111.27116899004676, 111.7618408200052, 108.71939292647023, 109.08966797329789, 110.07590640088753, 110.07590640088753, 110.07590640088753, 110.11994557069438, 108.67591386571507, 109.61455710572632, 109.6364822095887, 109.6364822095887, 109.6364822095887, 109.94389453618707, 109.22065415088372, 109.65841169890646, 109.85597459323158, 109.85597459323158, 109.85597459323158, 110.25216882348978, 108.71939292650983, 109.35179760621338, 110.64979192342832, 110.64979192342832, 110.64979192342832, 111.00443838929166, 110.23012059465292, 110.40662995743911, 110.87131295447594, 110.87131295447594, 110.87131295447594, 111.13772367054683, 106.92954781901203, 107.14362091638725, 107.63761689227226, 107.63761689227226, 107.63761689227226, 107.83153908028558, 107.25081812698048, 107.61609152150264, 108.06902961006499, 108.06902961006499, 108.06902961006499, 108.26372904028061, 106.37495735526099, 106.37495735526099, 107.37959636024708, 107.37959636024708, 107.37959636024708, 107.89625741732219, 107.03653084946414, 107.40107442725424, 107.72376143904265, 107.72376143904265, 107.72376143904265, 107.8099749289918, 106.43880148101171, 107.14362091642766, 108.11226586862847, 108.11226586862847, 108.11226586862847, 109.30806563426869, 107.87468032364669, 108.09064557755592, 108.37204691928513, 108.37204691928513, 108.37204691928513, 108.7193929266352, 107.40107442728169, 108.35037467719772, 108.84993450743701, 108.84993450743701, 108.84993450743701, 108.95883888505753, 107.91783882691313, 107.96101459702223, 108.58900790180124, 108.58900790180124, 108.58900790180124, 108.98063283216321, 106.07752407565327, 106.20489351091769, 106.69456139375653, 106.69456139375653, 106.69456139375653, 106.88678455320826, 106.26863556774191, 106.33241588125955, 106.56660470945849, 106.56660470945849, 106.56660470945849, 106.9081640480031, 103.99784585599751, 104.31030785221319, 106.14118968790247, 106.14118968790247, 106.14118968790247, 106.20489351095092, 100.86370862539758, 100.86370862539758, 101.49100623201741, 101.49100623201741, 101.49100623201741, 101.63319314835914, 101.02521973364134, 101.51130646321927, 101.57223152279941, 101.57223152279941, 101.57223152279941, 102.06095022063819, 101.30848673764181, 101.59254800068835, 102.67515669879317, 102.67515669879317, 102.67515669879317, 102.88071249947266, 101.87740574985202, 102.40854803284537, 102.67515669882343, 102.67515669882343, 102.67515669882343, 103.56197088168888, 102.2857314798936, 102.69569378380325, 102.83956844386641, 102.83956844386641, 102.83956844386641, 103.14855039037887, 102.63409484906548, 102.86013841448369, 103.12792274314182, 103.12792274314182, 103.12792274314182, 103.35505392586641, 101.8366629367035, 102.61357008265351, 102.8807124995356, 102.8807124995356, 102.8807124995356, 103.02484636718904, 102.08136445211858, 102.28573147992788, 102.67515669886409, 102.67515669886409, 102.67515669886409, 103.10729922104467], \"type\": \"box\", \"line\": {\"color\": \"#3D9970\"}, \"fillcolor\": \"#3D9970\", \"boxpoints\": false, \"showlegend\": false}, {\"whiskerwidth\": 0, \"name\": \"Decreasing\", \"x\": [\"2015-01-05\", \"2015-01-05\", \"2015-01-05\", \"2015-01-05\", \"2015-01-05\", \"2015-01-05\", \"2015-01-12\", \"2015-01-12\", \"2015-01-12\", \"2015-01-12\", \"2015-01-12\", \"2015-01-12\", \"2015-01-13\", \"2015-01-13\", \"2015-01-13\", \"2015-01-13\", \"2015-01-13\", \"2015-01-13\", \"2015-01-14\", \"2015-01-14\", \"2015-01-14\", \"2015-01-14\", \"2015-01-14\", \"2015-01-14\", \"2015-01-15\", \"2015-01-15\", \"2015-01-15\", \"2015-01-15\", \"2015-01-15\", \"2015-01-15\", \"2015-01-19\", \"2015-01-19\", \"2015-01-19\", \"2015-01-19\", \"2015-01-19\", \"2015-01-19\", \"2015-01-20\", \"2015-01-20\", \"2015-01-20\", \"2015-01-20\", \"2015-01-20\", \"2015-01-20\", \"2015-01-27\", \"2015-01-27\", \"2015-01-27\", \"2015-01-27\", \"2015-01-27\", \"2015-01-27\", \"2015-01-30\", \"2015-01-30\", \"2015-01-30\", \"2015-01-30\", \"2015-01-30\", \"2015-01-30\", \"2015-02-02\", \"2015-02-02\", \"2015-02-02\", \"2015-02-02\", \"2015-02-02\", \"2015-02-02\", \"2015-02-05\", \"2015-02-05\", \"2015-02-05\", \"2015-02-05\", \"2015-02-05\", \"2015-02-05\", \"2015-02-06\", \"2015-02-06\", \"2015-02-06\", \"2015-02-06\", \"2015-02-06\", \"2015-02-06\", \"2015-02-10\", \"2015-02-10\", \"2015-02-10\", \"2015-02-10\", \"2015-02-10\", \"2015-02-10\", \"2015-02-12\", \"2015-02-12\", \"2015-02-12\", \"2015-02-12\", \"2015-02-12\", \"2015-02-12\", \"2015-02-13\", \"2015-02-13\", \"2015-02-13\", \"2015-02-13\", \"2015-02-13\", \"2015-02-13\", \"2015-02-20\", \"2015-02-20\", \"2015-02-20\", \"2015-02-20\", \"2015-02-20\", \"2015-02-20\", \"2015-02-24\", \"2015-02-24\", \"2015-02-24\", \"2015-02-24\", \"2015-02-24\", \"2015-02-24\", \"2015-02-25\", \"2015-02-25\", \"2015-02-25\", \"2015-02-25\", \"2015-02-25\", \"2015-02-25\", \"2015-03-02\", \"2015-03-02\", \"2015-03-02\", \"2015-03-02\", \"2015-03-02\", \"2015-03-02\", \"2015-03-03\", \"2015-03-03\", \"2015-03-03\", \"2015-03-03\", \"2015-03-03\", \"2015-03-03\", \"2015-03-05\", \"2015-03-05\", \"2015-03-05\", \"2015-03-05\", \"2015-03-05\", \"2015-03-05\", \"2015-03-09\", \"2015-03-09\", \"2015-03-09\", \"2015-03-09\", \"2015-03-09\", \"2015-03-09\", \"2015-03-10\", \"2015-03-10\", \"2015-03-10\", \"2015-03-10\", \"2015-03-10\", \"2015-03-10\", \"2015-03-12\", \"2015-03-12\", \"2015-03-12\", \"2015-03-12\", \"2015-03-12\", \"2015-03-12\", \"2015-03-13\", \"2015-03-13\", \"2015-03-13\", \"2015-03-13\", \"2015-03-13\", \"2015-03-13\", \"2015-03-16\", \"2015-03-16\", \"2015-03-16\", \"2015-03-16\", \"2015-03-16\", \"2015-03-16\", \"2015-03-17\", \"2015-03-17\", \"2015-03-17\", \"2015-03-17\", \"2015-03-17\", \"2015-03-17\", \"2015-03-23\", \"2015-03-23\", \"2015-03-23\", \"2015-03-23\", \"2015-03-23\", \"2015-03-23\", \"2015-03-24\", \"2015-03-24\", \"2015-03-24\", \"2015-03-24\", \"2015-03-24\", \"2015-03-24\", \"2015-04-01\", \"2015-04-01\", \"2015-04-01\", \"2015-04-01\", \"2015-04-01\", \"2015-04-01\", \"2015-04-08\", \"2015-04-08\", \"2015-04-08\", \"2015-04-08\", \"2015-04-08\", \"2015-04-08\", \"2015-04-09\", \"2015-04-09\", \"2015-04-09\", \"2015-04-09\", \"2015-04-09\", \"2015-04-09\", \"2015-04-16\", \"2015-04-16\", \"2015-04-16\", \"2015-04-16\", \"2015-04-16\", \"2015-04-16\", \"2015-04-20\", \"2015-04-20\", \"2015-04-20\", \"2015-04-20\", \"2015-04-20\", \"2015-04-20\", \"2015-04-21\", \"2015-04-21\", \"2015-04-21\", \"2015-04-21\", \"2015-04-21\", \"2015-04-21\", \"2015-04-27\", \"2015-04-27\", \"2015-04-27\", \"2015-04-27\", \"2015-04-27\", \"2015-04-27\", \"2015-04-30\", \"2015-04-30\", \"2015-04-30\", \"2015-04-30\", \"2015-04-30\", \"2015-04-30\", \"2015-05-01\", \"2015-05-01\", \"2015-05-01\", \"2015-05-01\", \"2015-05-01\", \"2015-05-01\", \"2015-05-04\", \"2015-05-04\", \"2015-05-04\", \"2015-05-04\", \"2015-05-04\", \"2015-05-04\", \"2015-05-05\", \"2015-05-05\", \"2015-05-05\", \"2015-05-05\", \"2015-05-05\", \"2015-05-05\", \"2015-05-06\", \"2015-05-06\", \"2015-05-06\", \"2015-05-06\", \"2015-05-06\", \"2015-05-06\", \"2015-05-12\", \"2015-05-12\", \"2015-05-12\", \"2015-05-12\", \"2015-05-12\", \"2015-05-12\", \"2015-05-15\", \"2015-05-15\", \"2015-05-15\", \"2015-05-15\", \"2015-05-15\", \"2015-05-15\", \"2015-05-18\", \"2015-05-18\", \"2015-05-18\", \"2015-05-18\", \"2015-05-18\", \"2015-05-18\", \"2015-05-19\", \"2015-05-19\", \"2015-05-19\", \"2015-05-19\", \"2015-05-19\", \"2015-05-19\", \"2015-05-20\", \"2015-05-20\", \"2015-05-20\", \"2015-05-20\", \"2015-05-20\", \"2015-05-20\", \"2015-05-21\", \"2015-05-21\", \"2015-05-21\", \"2015-05-21\", \"2015-05-21\", \"2015-05-21\", \"2015-05-27\", \"2015-05-27\", \"2015-05-27\", \"2015-05-27\", \"2015-05-27\", \"2015-05-27\", \"2015-05-29\", \"2015-05-29\", \"2015-05-29\", \"2015-05-29\", \"2015-05-29\", \"2015-05-29\", \"2015-06-03\", \"2015-06-03\", \"2015-06-03\", \"2015-06-03\", \"2015-06-03\", \"2015-06-03\", \"2015-06-10\", \"2015-06-10\", \"2015-06-10\", \"2015-06-10\", \"2015-06-10\", \"2015-06-10\", \"2015-06-11\", \"2015-06-11\", \"2015-06-11\", \"2015-06-11\", \"2015-06-11\", \"2015-06-11\", \"2015-06-12\", \"2015-06-12\", \"2015-06-12\", \"2015-06-12\", \"2015-06-12\", \"2015-06-12\", \"2015-06-17\", \"2015-06-17\", \"2015-06-17\", \"2015-06-17\", \"2015-06-17\", \"2015-06-17\", \"2015-06-23\", \"2015-06-23\", \"2015-06-23\", \"2015-06-23\", \"2015-06-23\", \"2015-06-23\", \"2015-06-24\", \"2015-06-24\", \"2015-06-24\", \"2015-06-24\", \"2015-06-24\", \"2015-06-24\", \"2015-07-02\", \"2015-07-02\", \"2015-07-02\", \"2015-07-02\", \"2015-07-02\", \"2015-07-02\", \"2015-07-03\", \"2015-07-03\", \"2015-07-03\", \"2015-07-03\", \"2015-07-03\", \"2015-07-03\", \"2015-07-08\", \"2015-07-08\", \"2015-07-08\", \"2015-07-08\", \"2015-07-08\", \"2015-07-08\", \"2015-07-10\", \"2015-07-10\", \"2015-07-10\", \"2015-07-10\", \"2015-07-10\", \"2015-07-10\", \"2015-07-14\", \"2015-07-14\", \"2015-07-14\", \"2015-07-14\", \"2015-07-14\", \"2015-07-14\", \"2015-07-20\", \"2015-07-20\", \"2015-07-20\", \"2015-07-20\", \"2015-07-20\", \"2015-07-20\", \"2015-08-04\", \"2015-08-04\", \"2015-08-04\", \"2015-08-04\", \"2015-08-04\", \"2015-08-04\", \"2015-08-07\", \"2015-08-07\", \"2015-08-07\", \"2015-08-07\", \"2015-08-07\", \"2015-08-07\", \"2015-08-12\", \"2015-08-12\", \"2015-08-12\", \"2015-08-12\", \"2015-08-12\", \"2015-08-12\", \"2015-08-14\", \"2015-08-14\", \"2015-08-14\", \"2015-08-14\", \"2015-08-14\", \"2015-08-14\", \"2015-08-18\", \"2015-08-18\", \"2015-08-18\", \"2015-08-18\", \"2015-08-18\", \"2015-08-18\", \"2015-08-25\", \"2015-08-25\", \"2015-08-25\", \"2015-08-25\", \"2015-08-25\", \"2015-08-25\", \"2015-08-26\", \"2015-08-26\", \"2015-08-26\", \"2015-08-26\", \"2015-08-26\", \"2015-08-26\", \"2015-08-27\", \"2015-08-27\", \"2015-08-27\", \"2015-08-27\", \"2015-08-27\", \"2015-08-27\", \"2015-09-02\", \"2015-09-02\", \"2015-09-02\", \"2015-09-02\", \"2015-09-02\", \"2015-09-02\", \"2015-09-03\", \"2015-09-03\", \"2015-09-03\", \"2015-09-03\", \"2015-09-03\", \"2015-09-03\", \"2015-09-04\", \"2015-09-04\", \"2015-09-04\", \"2015-09-04\", \"2015-09-04\", \"2015-09-04\", \"2015-09-07\", \"2015-09-07\", \"2015-09-07\", \"2015-09-07\", \"2015-09-07\", \"2015-09-07\", \"2015-09-08\", \"2015-09-08\", \"2015-09-08\", \"2015-09-08\", \"2015-09-08\", \"2015-09-08\", \"2015-09-11\", \"2015-09-11\", \"2015-09-11\", \"2015-09-11\", \"2015-09-11\", \"2015-09-11\", \"2015-09-14\", \"2015-09-14\", \"2015-09-14\", \"2015-09-14\", \"2015-09-14\", \"2015-09-14\", \"2015-09-17\", \"2015-09-17\", \"2015-09-17\", \"2015-09-17\", \"2015-09-17\", \"2015-09-17\", \"2015-09-18\", \"2015-09-18\", \"2015-09-18\", \"2015-09-18\", \"2015-09-18\", \"2015-09-18\", \"2015-09-21\", \"2015-09-21\", \"2015-09-21\", \"2015-09-21\", \"2015-09-21\", \"2015-09-21\", \"2015-09-24\", \"2015-09-24\", \"2015-09-24\", \"2015-09-24\", \"2015-09-24\", \"2015-09-24\", \"2015-09-25\", \"2015-09-25\", \"2015-09-25\", \"2015-09-25\", \"2015-09-25\", \"2015-09-25\", \"2015-09-29\", \"2015-09-29\", \"2015-09-29\", \"2015-09-29\", \"2015-09-29\", \"2015-09-29\", \"2015-09-30\", \"2015-09-30\", \"2015-09-30\", \"2015-09-30\", \"2015-09-30\", \"2015-09-30\", \"2015-10-01\", \"2015-10-01\", \"2015-10-01\", \"2015-10-01\", \"2015-10-01\", \"2015-10-01\", \"2015-10-05\", \"2015-10-05\", \"2015-10-05\", \"2015-10-05\", \"2015-10-05\", \"2015-10-05\", \"2015-10-06\", \"2015-10-06\", \"2015-10-06\", \"2015-10-06\", \"2015-10-06\", \"2015-10-06\", \"2015-10-07\", \"2015-10-07\", \"2015-10-07\", \"2015-10-07\", \"2015-10-07\", \"2015-10-07\", \"2015-10-09\", \"2015-10-09\", \"2015-10-09\", \"2015-10-09\", \"2015-10-09\", \"2015-10-09\", \"2015-10-14\", \"2015-10-14\", \"2015-10-14\", \"2015-10-14\", \"2015-10-14\", \"2015-10-14\", \"2015-10-15\", \"2015-10-15\", \"2015-10-15\", \"2015-10-15\", \"2015-10-15\", \"2015-10-15\", \"2015-10-19\", \"2015-10-19\", \"2015-10-19\", \"2015-10-19\", \"2015-10-19\", \"2015-10-19\", \"2015-10-21\", \"2015-10-21\", \"2015-10-21\", \"2015-10-21\", \"2015-10-21\", \"2015-10-21\", \"2015-10-22\", \"2015-10-22\", \"2015-10-22\", \"2015-10-22\", \"2015-10-22\", \"2015-10-22\", \"2015-10-23\", \"2015-10-23\", \"2015-10-23\", \"2015-10-23\", \"2015-10-23\", \"2015-10-23\", \"2015-10-26\", \"2015-10-26\", \"2015-10-26\", \"2015-10-26\", \"2015-10-26\", \"2015-10-26\", \"2015-10-27\", \"2015-10-27\", \"2015-10-27\", \"2015-10-27\", \"2015-10-27\", \"2015-10-27\", \"2015-10-30\", \"2015-10-30\", \"2015-10-30\", \"2015-10-30\", \"2015-10-30\", \"2015-10-30\", \"2015-11-02\", \"2015-11-02\", \"2015-11-02\", \"2015-11-02\", \"2015-11-02\", \"2015-11-02\", \"2015-11-05\", \"2015-11-05\", \"2015-11-05\", \"2015-11-05\", \"2015-11-05\", \"2015-11-05\", \"2015-11-11\", \"2015-11-11\", \"2015-11-11\", \"2015-11-11\", \"2015-11-11\", \"2015-11-11\", \"2015-11-13\", \"2015-11-13\", \"2015-11-13\", \"2015-11-13\", \"2015-11-13\", \"2015-11-13\", \"2015-11-16\", \"2015-11-16\", \"2015-11-16\", \"2015-11-16\", \"2015-11-16\", \"2015-11-16\", \"2015-11-18\", \"2015-11-18\", \"2015-11-18\", \"2015-11-18\", \"2015-11-18\", \"2015-11-18\", \"2015-11-20\", \"2015-11-20\", \"2015-11-20\", \"2015-11-20\", \"2015-11-20\", \"2015-11-20\", \"2015-11-24\", \"2015-11-24\", \"2015-11-24\", \"2015-11-24\", \"2015-11-24\", \"2015-11-24\", \"2015-11-25\", \"2015-11-25\", \"2015-11-25\", \"2015-11-25\", \"2015-11-25\", \"2015-11-25\", \"2015-11-26\", \"2015-11-26\", \"2015-11-26\", \"2015-11-26\", \"2015-11-26\", \"2015-11-26\", \"2015-11-27\", \"2015-11-27\", \"2015-11-27\", \"2015-11-27\", \"2015-11-27\", \"2015-11-27\", \"2015-11-30\", \"2015-11-30\", \"2015-11-30\", \"2015-11-30\", \"2015-11-30\", \"2015-11-30\", \"2015-12-01\", \"2015-12-01\", \"2015-12-01\", \"2015-12-01\", \"2015-12-01\", \"2015-12-01\", \"2015-12-02\", \"2015-12-02\", \"2015-12-02\", \"2015-12-02\", \"2015-12-02\", \"2015-12-02\", \"2015-12-07\", \"2015-12-07\", \"2015-12-07\", \"2015-12-07\", \"2015-12-07\", \"2015-12-07\", \"2015-12-09\", \"2015-12-09\", \"2015-12-09\", \"2015-12-09\", \"2015-12-09\", \"2015-12-09\", \"2015-12-10\", \"2015-12-10\", \"2015-12-10\", \"2015-12-10\", \"2015-12-10\", \"2015-12-10\", \"2015-12-16\", \"2015-12-16\", \"2015-12-16\", \"2015-12-16\", \"2015-12-16\", \"2015-12-16\", \"2015-12-17\", \"2015-12-17\", \"2015-12-17\", \"2015-12-17\", \"2015-12-17\", \"2015-12-17\", \"2015-12-21\", \"2015-12-21\", \"2015-12-21\", \"2015-12-21\", \"2015-12-21\", \"2015-12-21\", \"2015-12-23\", \"2015-12-23\", \"2015-12-23\", \"2015-12-23\", \"2015-12-23\", \"2015-12-23\", \"2015-12-24\", \"2015-12-24\", \"2015-12-24\", \"2015-12-24\", \"2015-12-24\", \"2015-12-24\", \"2015-12-25\", \"2015-12-25\", \"2015-12-25\", \"2015-12-25\", \"2015-12-25\", \"2015-12-25\", \"2015-12-28\", \"2015-12-28\", \"2015-12-28\", \"2015-12-28\", \"2015-12-28\", \"2015-12-28\", \"2015-12-29\", \"2015-12-29\", \"2015-12-29\", \"2015-12-29\", \"2015-12-29\", \"2015-12-29\", \"2015-12-30\", \"2015-12-30\", \"2015-12-30\", \"2015-12-30\", \"2015-12-30\", \"2015-12-30\", \"2015-12-31\", \"2015-12-31\", \"2015-12-31\", \"2015-12-31\", \"2015-12-31\", \"2015-12-31\"], \"y\": [100.74274476626874, 101.83666293498848, 101.20722888663323, 101.20722888663323, 101.20722888663323, 101.97933410961686, 103.76930208387662, 104.14354480408812, 103.87312328791083, 103.87312328791083, 103.87312328791083, 104.81220090802503, 102.73678027641382, 103.85235074057721, 102.83956844220752, 102.83956844220752, 102.83956844220752, 104.4355553535348, 102.10178276509798, 102.81900258517334, 102.38806836964751, 102.38806836964751, 102.38806836964751, 103.41708556418503, 100.46105962420798, 102.40854803121935, 101.04542679665418, 101.04542679665418, 101.04542679665418, 102.42903178913316, 101.47071005890011, 101.83666293505762, 101.73487717348905, 101.73487717348905, 101.73487717348905, 102.36759280361865, 99.96000799902892, 101.71453223261626, 100.1601280683906, 100.1601280683906, 100.1601280683906, 101.71453223261626, 101.04542679670921, 102.57253286100507, 101.12629548130818, 101.12629548130818, 101.12629548130818, 102.59304941916471, 100.5012520860995, 102.32665395486882, 100.7628953303489, 100.7628953303489, 100.7628953303489, 102.59304941918627, 99.74033770741899, 100.78304992480724, 100.48115384557852, 100.48115384557852, 100.48115384557852, 100.98481772520158, 101.73487717357501, 102.86013841293571, 101.93855053339107, 101.93855053339107, 101.93855053339107, 102.94245944769112, 101.65352181832002, 101.9181648619195, 101.65352181833222, 101.65352181833222, 101.65352181833222, 103.04545339553997, 99.98000200006756, 101.63319314690973, 100.32051254677239, 100.32051254677239, 100.32051254677239, 101.71453223272415, 98.92581106157309, 100.58168525679439, 99.04459328993049, 99.04459328993049, 99.04459328993049, 100.5816852567944, 98.59003444768354, 99.06440418961242, 98.9653893011319, 98.9653893011319, 98.9653893011319, 99.80019986695298, 100.66218279977825, 101.9589402824783, 101.57223152140584, 101.57223152140584, 101.57223152140584, 102.98364466804537, 101.12629548145075, 101.83666293524074, 101.57223152141444, 101.57223152141444, 101.57223152141444, 102.04054007028829, 100.86370862404061, 101.5925479992988, 100.96462278133444, 100.96462278133444, 100.96462278133444, 101.85703230470217, 102.6135700812206, 103.39640421550831, 103.37572700246173, 103.37572700246173, 103.37572700246173, 103.89389999041462, 102.04054007032275, 103.39640421551462, 102.1017827653362, 102.1017827653362, 102.1017827653362, 103.62412670768325, 101.49100623068053, 102.12220516406467, 101.85703230473896, 101.85703230473896, 101.85703230473896, 102.51100780084069, 102.1834968728543, 103.14855038898313, 103.08667982178012, 103.08667982178012, 103.08667982178012, 103.27240294612221, 101.89778326733192, 103.06606454741191, 101.89778326733192, 101.89778326733192, 101.89778326733192, 103.18981806212729, 101.3287504599725, 102.04054007035599, 102.02013400302077, 102.02013400302077, 102.02013400302077, 102.20393561604966, 100.1000500170248, 101.99973201648682, 100.20020013375455, 100.20020013375455, 100.20020013375455, 102.18349687287163, 98.96538930126401, 100.18016209759821, 99.52115015936684, 99.52115015936684, 99.52115015936684, 100.24028823089324, 99.0049833752728, 99.50124791962529, 99.48134965993917, 99.48134965993917, 99.48134965993917, 99.72039163475068, 100.02000200052797, 100.78304992504002, 100.20020013379538, 100.20020013379538, 100.20020013379538, 101.57223152153747, 98.49149369199885, 100.18016209763903, 98.76765632159216, 98.76765632159216, 98.76765632159216, 100.24028823093383, 100.00000000043639, 101.51130646201081, 100.08003200897181, 100.08003200897181, 100.08003200897181, 101.85703230486642, 102.44951964462375, 103.0660645475621, 102.75732968776501, 102.75732968776501, 102.75732968776501, 103.52055437595142, 102.55202040611375, 102.73678027683705, 102.7162349753866, 102.7162349753866, 102.7162349753866, 103.41708556461138, 106.92954781800836, 107.40107442621421, 107.12219433393373, 107.12219433393373, 107.12219433393373, 107.85310754386659, 106.39623447337179, 107.6160915205096, 106.6092398767202, 106.6092398767202, 106.6092398767202, 107.96101459596304, 104.54004314457394, 106.6305638570225, 104.83316544509404, 104.83316544509404, 104.83316544509404, 106.86540933281104, 106.56660470840345, 107.65914656758476, 106.60923987675201, 106.60923987675201, 106.60923987675201, 108.00420763986484, 105.71747292657507, 106.97232819270388, 106.05631069122433, 106.05631069122433, 106.05631069122433, 107.01512568290848, 104.28944787569185, 106.03510155007089, 104.95904075376987, 104.95904075376987, 104.95904075376987, 106.9295478180807, 103.35505392475098, 104.98003466124139, 103.74855029926984, 103.74855029926984, 103.74855029926984, 105.06405229154171, 101.5722315217529, 103.76930208443905, 102.06095021959311, 102.06095021959311, 102.06095021959311, 103.95625503537002, 101.30848673659933, 102.04054007063212, 101.36929006781668, 101.36929006781668, 101.36929006781668, 102.24482536797585, 106.1199635716567, 106.97232819277227, 106.43880148010642, 106.43880148010642, 106.43880148010642, 107.01512568297689, 108.41540440804947, 108.95883888411817, 108.71939292571966, 108.71939292571966, 108.71939292571966, 110.00988066597355, 107.72376143816011, 108.69765122137743, 107.93942455226335, 107.93942455226335, 107.93942455226335, 109.26435115058337, 106.92954781817237, 107.96101459610622, 107.85310754403228, 107.85310754403228, 107.85310754403228, 108.00420763997765, 107.18648693655017, 107.83153907944182, 107.80997492811699, 107.80997492811699, 107.80997492811699, 108.22043220775801, 107.05794029564206, 107.83153907944588, 107.20792637781582, 107.20792637781582, 107.20792637781582, 108.06902960921612, 107.72376143819847, 108.35037467632323, 108.2420784587845, 108.2420784587845, 108.2420784587845, 108.82816669650704, 106.26863556685157, 108.30704319333529, 107.07935402505058, 107.07935402505058, 107.07935402505058, 108.80640323959616, 108.19879028565289, 108.87170667063575, 108.28538395072952, 108.28538395072952, 108.28538395072952, 109.46120409723359, 110.38455083873787, 111.42705772265829, 110.56130748769422, 110.56130748769422, 110.56130748769422, 111.47163746110064, 109.1114880882144, 110.53919743727543, 109.50499733699064, 109.50499733699064, 109.50499733699064, 110.69406069267318, 108.24207845887814, 109.526900526704, 109.02423380412156, 109.02423380412156, 109.02423380412156, 109.76812495744504, 109.24250046564836, 110.27422146181101, 109.76812495746651, 109.76812495746651, 109.76812495746651, 110.38455083876741, 109.32992943297617, 110.80481011890542, 109.63648220899455, 109.63648220899455, 109.63648220899455, 110.96004549247837, 108.76288938179415, 109.6584116983122, 108.93704929558199, 108.93704929558199, 108.93704929558199, 109.9219079554188, 110.89348943405639, 111.7841954230529, 111.22666942245758, 111.22666942245758, 111.22666942245758, 112.29958721431414, 109.28620620649853, 111.24891698102377, 109.63648220906515, 109.63648220906515, 109.63648220906515, 111.31568636002301, 110.45080144258598, 111.38249581269744, 111.13772366999622, 111.13772366999622, 111.13772366999622, 111.87365855990859, 109.98788089019398, 111.91841697443085, 110.34040584815767, 110.34040584815767, 110.34040584815767, 112.27712954275857, 109.08966797284658, 110.3624761362847, 109.3736701524222, 109.3736701524222, 109.3736701524222, 110.56130748786205, 109.68034557411386, 110.93785570258203, 110.03188484280201, 110.03188484280201, 110.03188484280201, 111.85128606558368, 115.85856570031436, 116.53249789548448, 116.18342427404065, 116.18342427404065, 116.18342427404065, 116.88262031020183, 116.41602364445507, 119.07698134252198, 116.4160236444551, 116.4160236444551, 116.4160236444551, 119.24380586632297, 117.39803692463269, 117.98649703356405, 117.39803692463269, 117.39803692463269, 117.39803692463269, 119.00555658332482, 116.5324978955505, 118.50678140675295, 116.92938271025695, 116.92938271025695, 116.92938271025695, 118.95796387987654, 116.67242083001723, 118.17542653214595, 116.78915160650814, 116.78915160650814, 116.78915160650814, 118.19906398111854, 118.7677833227502, 119.41086410812487, 119.1484489695865, 119.1484489695865, 119.1484489695865, 120.1535112929248, 118.45938817354393, 119.17228104250827, 118.957963879951, 118.957963879951, 118.957963879951, 119.55424315528455, 117.89214558163947, 118.98175785204488, 118.10454254361132, 118.10454254361132, 118.10454254361132, 119.0055565834093, 119.5542431553318, 120.12948299362472, 119.76963458714538, 119.76963458714538, 119.76963458714538, 120.87659945596059, 118.6965440267367, 119.74568305546096, 119.43474866938357, 119.43474866938357, 119.43474866938357, 119.76963458714538, 118.03370107270412, 119.45863800797167, 118.91039020982927, 118.91039020982927, 118.91039020982927, 119.96141938942064, 118.55419360126258, 118.93417466623761, 118.81529993884803, 118.81529993884803, 118.81529993884803, 119.31537361820814, 118.4356986650134, 118.83906537530022, 118.76778332283486, 118.76778332283486, 118.76778332283486, 119.69779436064667, 118.60162476433804, 121.6770235062462, 118.76778332286331, 118.76778332286331, 118.76778332286331, 121.87186257354468, 118.01009669305465, 118.74403214139606, 118.34098799543649, 118.34098799543649, 118.34098799543649, 119.67385719560579, 118.03370107276854, 119.21995949010994, 118.81529993890958, 118.81529993890958, 118.81529993890958, 119.33923907945507, 116.90599917234397, 118.8390653753618, 118.15179381038612, 118.15179381038612, 118.15179381038612, 119.02936007512635, 116.7190991335783, 118.12816581450238, 116.83587661171974, 116.83587661171974, 116.83587661171974, 118.12816581450238, 115.92810169873809, 117.28069756740311, 115.9512896377945, 115.9512896377945, 115.9512896377945, 117.51549368038559, 112.47941037449645, 115.97448221490248, 113.24687679356971, 113.24687679356971, 113.24687679356971, 116.16018991298778, 112.32204937838458, 114.04238596490306, 112.43442760751267, 112.43442760751267, 112.43442760751267, 114.06519672309582, 111.89603552970048, 112.41194297052984, 111.9408028967889, 111.9408028967889, 111.9408028967889, 113.2695284340278, 110.1419717623182, 111.91841697487635, 110.3404058485913, 110.3404058485913, 110.3404058485913, 111.985588174406, 110.49499060087535, 111.24891698152379, 110.51709180904268, 110.51709180904268, 110.51709180904268, 111.7171450234404, 109.11148808882562, 110.49499060087535, 109.11148808882562, 109.11148808882562, 109.11148808882562, 110.9822397214901, 108.2420784594832, 109.08966797329217, 109.06785222135113, 109.06785222135113, 109.06785222135113, 109.24250046623727, 108.8934831902452, 110.05389342097874, 109.63648220958477, 109.63648220958477, 109.63648220958477, 110.42871349166377, 109.39554707456045, 109.83400559528596, 109.50499733764696, 109.50499733764696, 109.50499733764696, 110.36247613678074, 109.15514141419204, 109.48309852813338, 109.37367015291639, 109.37367015291639, 109.37367015291639, 109.9438945362013, 109.85597459325874, 110.67192409495638, 110.42871349171041, 110.42871349171041, 110.42871349171041, 110.98223972156048, 109.48309852816556, 110.89348943464094, 110.07590640095464, 110.07590640095464, 110.07590640095464, 110.93785570307699, 108.67591386576424, 110.05389342104581, 109.15514141422919, 109.15514141422919, 109.15514141422919, 110.07590640095464, 107.59457045535396, 109.13331256890363, 108.71939292656351, 108.71939292656351, 108.71939292656351, 109.39554707460724, 107.50852922008471, 108.74113897968168, 107.6806805511766, 107.6806805511766, 107.6806805511766, 109.26435115143151, 106.56660470934543, 107.65914656853639, 107.12219433493352, 107.12219433493352, 107.12219433493352, 108.13389048413373, 106.07752407557473, 108.09064557751171, 106.99372479889422, 106.99372479889422, 106.99372479889422, 108.4154044089298, 106.28989142028762, 107.01512568387118, 106.35368449114726, 106.35368449114726, 106.35368449114726, 107.68068055120854, 106.67322461516181, 107.74530834594933, 107.16505178362623, 107.16505178362623, 107.16505178362623, 107.74530834594935, 107.87468032365646, 108.87170667148234, 107.98260895930589, 107.98260895930589, 107.98260895930589, 108.89348319039594, 106.03510155108431, 108.56729227185626, 106.2686355677235, 106.2686355677235, 106.2686355677235, 108.58900790180155, 106.035101551089, 106.28989142035145, 106.22613661385935, 106.22613661385935, 106.22613661385935, 107.03653084952194, 105.59068804623007, 106.67322461522674, 106.3536844912259, 106.3536844912259, 106.3536844912259, 106.75859733945559, 104.26859207278436, 106.58792016187458, 104.28944787670981, 104.28944787670981, 104.28944787670981, 106.9509358674206, 105.06405229257231, 106.11996357264717, 105.08506720445199, 105.08506720445199, 105.08506720445199, 106.39623447447602, 104.43555535512392, 105.10608631973435, 104.58186752724419, 104.58186752724419, 104.58186752724419, 105.31650884475845, 103.87312328949496, 104.60278599252644, 103.95625503639567, 103.95625503639567, 103.95625503639567, 104.79124056554613, 103.04545339700017, 103.9354658643749, 103.54126055854968, 103.54126055854968, 103.54126055854968, 104.3311720001672, 102.22437844868824, 103.56197088162466, 102.26527637910911, 102.26527637910911, 102.26527637910911, 103.64485360699976, 101.83666293661288, 102.28573147982682, 101.93855053485822, 101.93855053485822, 101.93855053485822, 102.94245944917377, 100.80320855205929, 101.95894028387214, 100.88388338453132, 100.88388338453132, 100.88388338453132, 102.16306221833374, 101.2882270663243, 101.59254800068405, 101.57223152280372, 101.57223152280372, 101.57223152280372, 102.22437844871683, 102.10178276671229, 102.65462372081966, 102.63409484903865, 102.63409484903865, 102.63409484903865, 102.86013841445521, 102.26527637915204, 102.6546237208272, 102.42903179075947, 102.42903179075947, 102.42903179075947, 103.39640421691902, 102.59304942076363, 103.10729922101416, 103.04545339708848, 103.04545339708848, 103.04545339708848, 103.35505392587191, 101.85703230614381, 103.06606454881437, 102.63409484907827, 102.63409484907827, 102.63409484907827, 103.12792274314626, 102.2243784487897, 102.90129069978695, 102.30619067207488, 102.30619067207488, 102.30619067207488, 103.3137201716252, 102.36759280528096, 102.65462372089056, 102.55202040738276, 102.55202040738276, 102.55202040738276, 103.0248463672135, 101.22747235840865, 102.53151205420497, 101.36929006894515, 101.36929006894515, 101.36929006894515, 102.69569378385182, 99.48134966130625, 101.38956595447992, 99.48134966130625, 99.48134966130625, 99.48134966130625, 102.67515669887915, 98.49149369332302, 99.46145538086834, 98.49149369332306, 98.49149369332306, 98.49149369332306, 99.80019986846932, 97.53099120453709, 98.47179736428295, 97.55049935352875, 97.55049935352875, 97.55049935352875, 98.80717128791535, 96.8506582096178, 97.57001140453953, 96.8506582096178, 96.8506582096178, 96.8506582096178, 97.92189645866047, 95.44691089033608, 96.87003027840203, 95.54240554059426, 95.54240554059426, 95.54240554059426, 97.23883668183039], \"type\": \"box\", \"line\": {\"color\": \"#FF4136\"}, \"fillcolor\": \"#FF4136\", \"boxpoints\": false, \"showlegend\": false}], {}, {\"linkText\": \"Export to plot.ly\", \"showLink\": true})});</script>"
      ],
      "text/plain": [
       "<IPython.core.display.HTML object>"
      ]
     },
     "metadata": {},
     "output_type": "display_data"
    }
   ],
   "source": [
    "# plotly モジュール\n",
    "from plotly.offline import init_notebook_mode, iplot\n",
    "from plotly.tools import FigureFactory as FF\n",
    "\n",
    "# Jupyter notebook用設定\n",
    "init_notebook_mode(connected=True) \n",
    "\n",
    "# ローソクチャートの設定\n",
    "fig = FF.create_candlestick(df.open, df.high, df.low, df.close, dates=df.index)\n",
    "iplot(fig)"
   ]
  },
  {
   "cell_type": "markdown",
   "metadata": {},
   "source": [
    "***"
   ]
  },
  {
   "cell_type": "markdown",
   "metadata": {},
   "source": [
    "## 4.3 欠損データと異常値の取り扱いの基礎\n",
    "ゴール：欠損データと異常値に対する基本的な対処方法を知る"
   ]
  },
  {
   "cell_type": "markdown",
   "metadata": {},
   "source": [
    "### 4.3.1 欠損データの扱い方\n",
    "キーワード：リストワイズ削除、ペアワイズ削除、単一代入（平均値代入法）、最尤法、回帰代入法、スプライン補間"
   ]
  },
  {
   "cell_type": "markdown",
   "metadata": {},
   "source": [
    "データを扱っていると必ずといっていいほど、欠損しているデータや異常値データの存在があります。それぞれ深い分野ですが、ここでは基礎の基礎レベルで欠損データや異常データについての判定や扱い方について学ぶことにします。もっと深く学びたい方は、ぜひ参考文献を読んでください。"
   ]
  },
  {
   "cell_type": "markdown",
   "metadata": {},
   "source": [
    ">[参考文献]\n",
    "\n",
    ">『欠損データの統計科学』（高井啓二等、岩波書店）\n",
    "\n",
    ">『データ分析のプロセス』の第3章（福島真太郎、共立出版）"
   ]
  },
  {
   "cell_type": "markdown",
   "metadata": {},
   "source": [
    "まずは、欠損データの取り扱いについてです。データの欠損は、入力忘れ、無回答、システム上の問題など様々な要因があります。「ない」データについては、無視をするのがいいのか、除外をするのがいいのか、最もらいしい値を入れるのがいいのか、それが問題です。アプローチによっては、大きなバイアスのある結果を与え、誤った意思決定につながり、大きな損失につながる可能性もあります。慎重に扱っていきましょう。"
   ]
  },
  {
   "cell_type": "markdown",
   "metadata": {},
   "source": [
    "以下では、欠損データに対して、削除や、0や直前の数字、平均値等で穴埋めをしています。ここでは、これらの単純な方法のみ紹介しますが、他の方法には最尤推定法で推定したり、回帰代入やScipyで実施したスプライン補間などがあります。注意が必要なのは、これらの方法がバイアスを生む可能性があることです。深く学びたい方はぜひ上で紹介した参考文献などを読んで、欠損データを埋める方法への理解を深めてください。"
   ]
  },
  {
   "cell_type": "code",
   "execution_count": 156,
   "metadata": {
    "collapsed": false
   },
   "outputs": [
    {
     "data": {
      "text/html": [
       "<div>\n",
       "<table border=\"1\" class=\"dataframe\">\n",
       "  <thead>\n",
       "    <tr style=\"text-align: right;\">\n",
       "      <th></th>\n",
       "      <th>0</th>\n",
       "      <th>1</th>\n",
       "      <th>2</th>\n",
       "      <th>3</th>\n",
       "    </tr>\n",
       "  </thead>\n",
       "  <tbody>\n",
       "    <tr>\n",
       "      <th>0</th>\n",
       "      <td>0.177819</td>\n",
       "      <td>0.222117</td>\n",
       "      <td>0.486475</td>\n",
       "      <td>0.006296</td>\n",
       "    </tr>\n",
       "    <tr>\n",
       "      <th>1</th>\n",
       "      <td>NaN</td>\n",
       "      <td>0.158295</td>\n",
       "      <td>0.673255</td>\n",
       "      <td>0.827461</td>\n",
       "    </tr>\n",
       "    <tr>\n",
       "      <th>2</th>\n",
       "      <td>0.901311</td>\n",
       "      <td>0.734064</td>\n",
       "      <td>NaN</td>\n",
       "      <td>0.342624</td>\n",
       "    </tr>\n",
       "    <tr>\n",
       "      <th>3</th>\n",
       "      <td>0.755374</td>\n",
       "      <td>0.636622</td>\n",
       "      <td>NaN</td>\n",
       "      <td>0.867675</td>\n",
       "    </tr>\n",
       "    <tr>\n",
       "      <th>4</th>\n",
       "      <td>0.528520</td>\n",
       "      <td>0.868874</td>\n",
       "      <td>0.423066</td>\n",
       "      <td>0.263671</td>\n",
       "    </tr>\n",
       "    <tr>\n",
       "      <th>5</th>\n",
       "      <td>0.126543</td>\n",
       "      <td>0.991663</td>\n",
       "      <td>0.475745</td>\n",
       "      <td>NaN</td>\n",
       "    </tr>\n",
       "    <tr>\n",
       "      <th>6</th>\n",
       "      <td>0.439666</td>\n",
       "      <td>0.737574</td>\n",
       "      <td>0.316719</td>\n",
       "      <td>NaN</td>\n",
       "    </tr>\n",
       "    <tr>\n",
       "      <th>7</th>\n",
       "      <td>0.314023</td>\n",
       "      <td>0.726507</td>\n",
       "      <td>0.944106</td>\n",
       "      <td>NaN</td>\n",
       "    </tr>\n",
       "    <tr>\n",
       "      <th>8</th>\n",
       "      <td>0.664903</td>\n",
       "      <td>0.353893</td>\n",
       "      <td>0.526415</td>\n",
       "      <td>NaN</td>\n",
       "    </tr>\n",
       "    <tr>\n",
       "      <th>9</th>\n",
       "      <td>0.623824</td>\n",
       "      <td>0.287629</td>\n",
       "      <td>0.468715</td>\n",
       "      <td>NaN</td>\n",
       "    </tr>\n",
       "  </tbody>\n",
       "</table>\n",
       "</div>"
      ],
      "text/plain": [
       "          0         1         2         3\n",
       "0  0.177819  0.222117  0.486475  0.006296\n",
       "1       NaN  0.158295  0.673255  0.827461\n",
       "2  0.901311  0.734064       NaN  0.342624\n",
       "3  0.755374  0.636622       NaN  0.867675\n",
       "4  0.528520  0.868874  0.423066  0.263671\n",
       "5  0.126543  0.991663  0.475745       NaN\n",
       "6  0.439666  0.737574  0.316719       NaN\n",
       "7  0.314023  0.726507  0.944106       NaN\n",
       "8  0.664903  0.353893  0.526415       NaN\n",
       "9  0.623824  0.287629  0.468715       NaN"
      ]
     },
     "execution_count": 156,
     "metadata": {},
     "output_type": "execute_result"
    }
   ],
   "source": [
    "# データの準備\n",
    "import numpy as np\n",
    "from numpy import nan as NA\n",
    "import pandas as pd\n",
    "\n",
    "\n",
    "sample_data_frame = pd.DataFrame(np.random.rand(10,4))\n",
    "\n",
    "# NAにする\n",
    "sample_data_frame.ix[1,0] = NA\n",
    "sample_data_frame.ix[2:3,2] = NA\n",
    "sample_data_frame.ix[5:,3] = NA\n",
    "\n",
    "sample_data_frame"
   ]
  },
  {
   "cell_type": "markdown",
   "metadata": {},
   "source": [
    "NaNがある行はすべて取り除くのは、dropnaを使います。これを**リストワイズ削除**といいます。以下は、すべてのカラムにデータがある行だけ表示しています。"
   ]
  },
  {
   "cell_type": "code",
   "execution_count": 157,
   "metadata": {
    "collapsed": false
   },
   "outputs": [
    {
     "data": {
      "text/html": [
       "<div>\n",
       "<table border=\"1\" class=\"dataframe\">\n",
       "  <thead>\n",
       "    <tr style=\"text-align: right;\">\n",
       "      <th></th>\n",
       "      <th>0</th>\n",
       "      <th>1</th>\n",
       "      <th>2</th>\n",
       "      <th>3</th>\n",
       "    </tr>\n",
       "  </thead>\n",
       "  <tbody>\n",
       "    <tr>\n",
       "      <th>0</th>\n",
       "      <td>0.177819</td>\n",
       "      <td>0.222117</td>\n",
       "      <td>0.486475</td>\n",
       "      <td>0.006296</td>\n",
       "    </tr>\n",
       "    <tr>\n",
       "      <th>4</th>\n",
       "      <td>0.528520</td>\n",
       "      <td>0.868874</td>\n",
       "      <td>0.423066</td>\n",
       "      <td>0.263671</td>\n",
       "    </tr>\n",
       "  </tbody>\n",
       "</table>\n",
       "</div>"
      ],
      "text/plain": [
       "          0         1         2         3\n",
       "0  0.177819  0.222117  0.486475  0.006296\n",
       "4  0.528520  0.868874  0.423066  0.263671"
      ]
     },
     "execution_count": 157,
     "metadata": {},
     "output_type": "execute_result"
    }
   ],
   "source": [
    "sample_data_frame.dropna()"
   ]
  },
  {
   "cell_type": "markdown",
   "metadata": {},
   "source": [
    "一方、元々10行あったデータが極端に少なくなって2行になり、データが全く使えないという状況を考えましょう。このとき、欠損している列のデータを無視して、利用可能なデータのみ（例：列の0番目と1番目のみ存在）を使う方法があります。これを**ペアワイズ削除**といいます。"
   ]
  },
  {
   "cell_type": "code",
   "execution_count": 158,
   "metadata": {
    "collapsed": false
   },
   "outputs": [
    {
     "data": {
      "text/html": [
       "<div>\n",
       "<table border=\"1\" class=\"dataframe\">\n",
       "  <thead>\n",
       "    <tr style=\"text-align: right;\">\n",
       "      <th></th>\n",
       "      <th>0</th>\n",
       "      <th>1</th>\n",
       "    </tr>\n",
       "  </thead>\n",
       "  <tbody>\n",
       "    <tr>\n",
       "      <th>0</th>\n",
       "      <td>0.177819</td>\n",
       "      <td>0.222117</td>\n",
       "    </tr>\n",
       "    <tr>\n",
       "      <th>2</th>\n",
       "      <td>0.901311</td>\n",
       "      <td>0.734064</td>\n",
       "    </tr>\n",
       "    <tr>\n",
       "      <th>3</th>\n",
       "      <td>0.755374</td>\n",
       "      <td>0.636622</td>\n",
       "    </tr>\n",
       "    <tr>\n",
       "      <th>4</th>\n",
       "      <td>0.528520</td>\n",
       "      <td>0.868874</td>\n",
       "    </tr>\n",
       "    <tr>\n",
       "      <th>5</th>\n",
       "      <td>0.126543</td>\n",
       "      <td>0.991663</td>\n",
       "    </tr>\n",
       "    <tr>\n",
       "      <th>6</th>\n",
       "      <td>0.439666</td>\n",
       "      <td>0.737574</td>\n",
       "    </tr>\n",
       "    <tr>\n",
       "      <th>7</th>\n",
       "      <td>0.314023</td>\n",
       "      <td>0.726507</td>\n",
       "    </tr>\n",
       "    <tr>\n",
       "      <th>8</th>\n",
       "      <td>0.664903</td>\n",
       "      <td>0.353893</td>\n",
       "    </tr>\n",
       "    <tr>\n",
       "      <th>9</th>\n",
       "      <td>0.623824</td>\n",
       "      <td>0.287629</td>\n",
       "    </tr>\n",
       "  </tbody>\n",
       "</table>\n",
       "</div>"
      ],
      "text/plain": [
       "          0         1\n",
       "0  0.177819  0.222117\n",
       "2  0.901311  0.734064\n",
       "3  0.755374  0.636622\n",
       "4  0.528520  0.868874\n",
       "5  0.126543  0.991663\n",
       "6  0.439666  0.737574\n",
       "7  0.314023  0.726507\n",
       "8  0.664903  0.353893\n",
       "9  0.623824  0.287629"
      ]
     },
     "execution_count": 158,
     "metadata": {},
     "output_type": "execute_result"
    }
   ],
   "source": [
    "sample_data_frame[[0,1]].dropna()"
   ]
  },
  {
   "cell_type": "markdown",
   "metadata": {},
   "source": [
    "fillna(値)で、値で埋めます。以下は0で置き換えています。"
   ]
  },
  {
   "cell_type": "code",
   "execution_count": 159,
   "metadata": {
    "collapsed": false,
    "scrolled": true
   },
   "outputs": [
    {
     "data": {
      "text/html": [
       "<div>\n",
       "<table border=\"1\" class=\"dataframe\">\n",
       "  <thead>\n",
       "    <tr style=\"text-align: right;\">\n",
       "      <th></th>\n",
       "      <th>0</th>\n",
       "      <th>1</th>\n",
       "      <th>2</th>\n",
       "      <th>3</th>\n",
       "    </tr>\n",
       "  </thead>\n",
       "  <tbody>\n",
       "    <tr>\n",
       "      <th>0</th>\n",
       "      <td>0.177819</td>\n",
       "      <td>0.222117</td>\n",
       "      <td>0.486475</td>\n",
       "      <td>0.006296</td>\n",
       "    </tr>\n",
       "    <tr>\n",
       "      <th>1</th>\n",
       "      <td>0.000000</td>\n",
       "      <td>0.158295</td>\n",
       "      <td>0.673255</td>\n",
       "      <td>0.827461</td>\n",
       "    </tr>\n",
       "    <tr>\n",
       "      <th>2</th>\n",
       "      <td>0.901311</td>\n",
       "      <td>0.734064</td>\n",
       "      <td>0.000000</td>\n",
       "      <td>0.342624</td>\n",
       "    </tr>\n",
       "    <tr>\n",
       "      <th>3</th>\n",
       "      <td>0.755374</td>\n",
       "      <td>0.636622</td>\n",
       "      <td>0.000000</td>\n",
       "      <td>0.867675</td>\n",
       "    </tr>\n",
       "    <tr>\n",
       "      <th>4</th>\n",
       "      <td>0.528520</td>\n",
       "      <td>0.868874</td>\n",
       "      <td>0.423066</td>\n",
       "      <td>0.263671</td>\n",
       "    </tr>\n",
       "    <tr>\n",
       "      <th>5</th>\n",
       "      <td>0.126543</td>\n",
       "      <td>0.991663</td>\n",
       "      <td>0.475745</td>\n",
       "      <td>0.000000</td>\n",
       "    </tr>\n",
       "    <tr>\n",
       "      <th>6</th>\n",
       "      <td>0.439666</td>\n",
       "      <td>0.737574</td>\n",
       "      <td>0.316719</td>\n",
       "      <td>0.000000</td>\n",
       "    </tr>\n",
       "    <tr>\n",
       "      <th>7</th>\n",
       "      <td>0.314023</td>\n",
       "      <td>0.726507</td>\n",
       "      <td>0.944106</td>\n",
       "      <td>0.000000</td>\n",
       "    </tr>\n",
       "    <tr>\n",
       "      <th>8</th>\n",
       "      <td>0.664903</td>\n",
       "      <td>0.353893</td>\n",
       "      <td>0.526415</td>\n",
       "      <td>0.000000</td>\n",
       "    </tr>\n",
       "    <tr>\n",
       "      <th>9</th>\n",
       "      <td>0.623824</td>\n",
       "      <td>0.287629</td>\n",
       "      <td>0.468715</td>\n",
       "      <td>0.000000</td>\n",
       "    </tr>\n",
       "  </tbody>\n",
       "</table>\n",
       "</div>"
      ],
      "text/plain": [
       "          0         1         2         3\n",
       "0  0.177819  0.222117  0.486475  0.006296\n",
       "1  0.000000  0.158295  0.673255  0.827461\n",
       "2  0.901311  0.734064  0.000000  0.342624\n",
       "3  0.755374  0.636622  0.000000  0.867675\n",
       "4  0.528520  0.868874  0.423066  0.263671\n",
       "5  0.126543  0.991663  0.475745  0.000000\n",
       "6  0.439666  0.737574  0.316719  0.000000\n",
       "7  0.314023  0.726507  0.944106  0.000000\n",
       "8  0.664903  0.353893  0.526415  0.000000\n",
       "9  0.623824  0.287629  0.468715  0.000000"
      ]
     },
     "execution_count": 159,
     "metadata": {},
     "output_type": "execute_result"
    }
   ],
   "source": [
    "sample_data_frame.fillna(0)"
   ]
  },
  {
   "cell_type": "markdown",
   "metadata": {},
   "source": [
    "methodを指定することで、前の値で埋めてくれます。"
   ]
  },
  {
   "cell_type": "code",
   "execution_count": 160,
   "metadata": {
    "collapsed": false
   },
   "outputs": [
    {
     "data": {
      "text/html": [
       "<div>\n",
       "<table border=\"1\" class=\"dataframe\">\n",
       "  <thead>\n",
       "    <tr style=\"text-align: right;\">\n",
       "      <th></th>\n",
       "      <th>0</th>\n",
       "      <th>1</th>\n",
       "      <th>2</th>\n",
       "      <th>3</th>\n",
       "    </tr>\n",
       "  </thead>\n",
       "  <tbody>\n",
       "    <tr>\n",
       "      <th>0</th>\n",
       "      <td>0.177819</td>\n",
       "      <td>0.222117</td>\n",
       "      <td>0.486475</td>\n",
       "      <td>0.006296</td>\n",
       "    </tr>\n",
       "    <tr>\n",
       "      <th>1</th>\n",
       "      <td>0.177819</td>\n",
       "      <td>0.158295</td>\n",
       "      <td>0.673255</td>\n",
       "      <td>0.827461</td>\n",
       "    </tr>\n",
       "    <tr>\n",
       "      <th>2</th>\n",
       "      <td>0.901311</td>\n",
       "      <td>0.734064</td>\n",
       "      <td>0.673255</td>\n",
       "      <td>0.342624</td>\n",
       "    </tr>\n",
       "    <tr>\n",
       "      <th>3</th>\n",
       "      <td>0.755374</td>\n",
       "      <td>0.636622</td>\n",
       "      <td>0.673255</td>\n",
       "      <td>0.867675</td>\n",
       "    </tr>\n",
       "    <tr>\n",
       "      <th>4</th>\n",
       "      <td>0.528520</td>\n",
       "      <td>0.868874</td>\n",
       "      <td>0.423066</td>\n",
       "      <td>0.263671</td>\n",
       "    </tr>\n",
       "    <tr>\n",
       "      <th>5</th>\n",
       "      <td>0.126543</td>\n",
       "      <td>0.991663</td>\n",
       "      <td>0.475745</td>\n",
       "      <td>0.263671</td>\n",
       "    </tr>\n",
       "    <tr>\n",
       "      <th>6</th>\n",
       "      <td>0.439666</td>\n",
       "      <td>0.737574</td>\n",
       "      <td>0.316719</td>\n",
       "      <td>0.263671</td>\n",
       "    </tr>\n",
       "    <tr>\n",
       "      <th>7</th>\n",
       "      <td>0.314023</td>\n",
       "      <td>0.726507</td>\n",
       "      <td>0.944106</td>\n",
       "      <td>0.263671</td>\n",
       "    </tr>\n",
       "    <tr>\n",
       "      <th>8</th>\n",
       "      <td>0.664903</td>\n",
       "      <td>0.353893</td>\n",
       "      <td>0.526415</td>\n",
       "      <td>0.263671</td>\n",
       "    </tr>\n",
       "    <tr>\n",
       "      <th>9</th>\n",
       "      <td>0.623824</td>\n",
       "      <td>0.287629</td>\n",
       "      <td>0.468715</td>\n",
       "      <td>0.263671</td>\n",
       "    </tr>\n",
       "  </tbody>\n",
       "</table>\n",
       "</div>"
      ],
      "text/plain": [
       "          0         1         2         3\n",
       "0  0.177819  0.222117  0.486475  0.006296\n",
       "1  0.177819  0.158295  0.673255  0.827461\n",
       "2  0.901311  0.734064  0.673255  0.342624\n",
       "3  0.755374  0.636622  0.673255  0.867675\n",
       "4  0.528520  0.868874  0.423066  0.263671\n",
       "5  0.126543  0.991663  0.475745  0.263671\n",
       "6  0.439666  0.737574  0.316719  0.263671\n",
       "7  0.314023  0.726507  0.944106  0.263671\n",
       "8  0.664903  0.353893  0.526415  0.263671\n",
       "9  0.623824  0.287629  0.468715  0.263671"
      ]
     },
     "execution_count": 160,
     "metadata": {},
     "output_type": "execute_result"
    }
   ],
   "source": [
    "sample_data_frame.fillna(method=\"ffill\")"
   ]
  },
  {
   "cell_type": "markdown",
   "metadata": {},
   "source": [
    "他、平均値でも穴埋めすることができます。これを**平均値代入法**といいます。"
   ]
  },
  {
   "cell_type": "code",
   "execution_count": 161,
   "metadata": {
    "collapsed": false
   },
   "outputs": [
    {
     "data": {
      "text/plain": [
       "0    0.503554\n",
       "1    0.571724\n",
       "2    0.539312\n",
       "3    0.461545\n",
       "dtype: float64"
      ]
     },
     "execution_count": 161,
     "metadata": {},
     "output_type": "execute_result"
    }
   ],
   "source": [
    "# 各カラムの平均値(確認用)\n",
    "sample_data_frame.mean()"
   ]
  },
  {
   "cell_type": "code",
   "execution_count": 162,
   "metadata": {
    "collapsed": false
   },
   "outputs": [
    {
     "data": {
      "text/html": [
       "<div>\n",
       "<table border=\"1\" class=\"dataframe\">\n",
       "  <thead>\n",
       "    <tr style=\"text-align: right;\">\n",
       "      <th></th>\n",
       "      <th>0</th>\n",
       "      <th>1</th>\n",
       "      <th>2</th>\n",
       "      <th>3</th>\n",
       "    </tr>\n",
       "  </thead>\n",
       "  <tbody>\n",
       "    <tr>\n",
       "      <th>0</th>\n",
       "      <td>0.177819</td>\n",
       "      <td>0.222117</td>\n",
       "      <td>0.486475</td>\n",
       "      <td>0.006296</td>\n",
       "    </tr>\n",
       "    <tr>\n",
       "      <th>1</th>\n",
       "      <td>0.503554</td>\n",
       "      <td>0.158295</td>\n",
       "      <td>0.673255</td>\n",
       "      <td>0.827461</td>\n",
       "    </tr>\n",
       "    <tr>\n",
       "      <th>2</th>\n",
       "      <td>0.901311</td>\n",
       "      <td>0.734064</td>\n",
       "      <td>0.539312</td>\n",
       "      <td>0.342624</td>\n",
       "    </tr>\n",
       "    <tr>\n",
       "      <th>3</th>\n",
       "      <td>0.755374</td>\n",
       "      <td>0.636622</td>\n",
       "      <td>0.539312</td>\n",
       "      <td>0.867675</td>\n",
       "    </tr>\n",
       "    <tr>\n",
       "      <th>4</th>\n",
       "      <td>0.528520</td>\n",
       "      <td>0.868874</td>\n",
       "      <td>0.423066</td>\n",
       "      <td>0.263671</td>\n",
       "    </tr>\n",
       "    <tr>\n",
       "      <th>5</th>\n",
       "      <td>0.126543</td>\n",
       "      <td>0.991663</td>\n",
       "      <td>0.475745</td>\n",
       "      <td>0.461545</td>\n",
       "    </tr>\n",
       "    <tr>\n",
       "      <th>6</th>\n",
       "      <td>0.439666</td>\n",
       "      <td>0.737574</td>\n",
       "      <td>0.316719</td>\n",
       "      <td>0.461545</td>\n",
       "    </tr>\n",
       "    <tr>\n",
       "      <th>7</th>\n",
       "      <td>0.314023</td>\n",
       "      <td>0.726507</td>\n",
       "      <td>0.944106</td>\n",
       "      <td>0.461545</td>\n",
       "    </tr>\n",
       "    <tr>\n",
       "      <th>8</th>\n",
       "      <td>0.664903</td>\n",
       "      <td>0.353893</td>\n",
       "      <td>0.526415</td>\n",
       "      <td>0.461545</td>\n",
       "    </tr>\n",
       "    <tr>\n",
       "      <th>9</th>\n",
       "      <td>0.623824</td>\n",
       "      <td>0.287629</td>\n",
       "      <td>0.468715</td>\n",
       "      <td>0.461545</td>\n",
       "    </tr>\n",
       "  </tbody>\n",
       "</table>\n",
       "</div>"
      ],
      "text/plain": [
       "          0         1         2         3\n",
       "0  0.177819  0.222117  0.486475  0.006296\n",
       "1  0.503554  0.158295  0.673255  0.827461\n",
       "2  0.901311  0.734064  0.539312  0.342624\n",
       "3  0.755374  0.636622  0.539312  0.867675\n",
       "4  0.528520  0.868874  0.423066  0.263671\n",
       "5  0.126543  0.991663  0.475745  0.461545\n",
       "6  0.439666  0.737574  0.316719  0.461545\n",
       "7  0.314023  0.726507  0.944106  0.461545\n",
       "8  0.664903  0.353893  0.526415  0.461545\n",
       "9  0.623824  0.287629  0.468715  0.461545"
      ]
     },
     "execution_count": 162,
     "metadata": {},
     "output_type": "execute_result"
    }
   ],
   "source": [
    "sample_data_frame.fillna(sample_data_frame.mean())"
   ]
  },
  {
   "cell_type": "markdown",
   "metadata": {},
   "source": [
    "他にも色々とオプションがあるので、?sample_data_frame.fillna等で調べてみてください。\n",
    "\n",
    "欠損データについて、今回はサンプルデータにおいて、一定の値を機械的に置換しました。ただし、これらの方法はいつも使えるというわけではありません。データの状況、背景等を考え、適切に対処することが重要です。"
   ]
  },
  {
   "cell_type": "markdown",
   "metadata": {},
   "source": [
    "#### <練習問題 1>\n",
    "\n",
    "以下のデータに対して、1列でもNaNがある場合は削除し、その結果を表示してください。"
   ]
  },
  {
   "cell_type": "code",
   "execution_count": 163,
   "metadata": {
    "collapsed": false
   },
   "outputs": [
    {
     "data": {
      "text/html": [
       "<div>\n",
       "<table border=\"1\" class=\"dataframe\">\n",
       "  <thead>\n",
       "    <tr style=\"text-align: right;\">\n",
       "      <th></th>\n",
       "      <th>0</th>\n",
       "      <th>1</th>\n",
       "      <th>2</th>\n",
       "      <th>3</th>\n",
       "      <th>4</th>\n",
       "      <th>5</th>\n",
       "    </tr>\n",
       "  </thead>\n",
       "  <tbody>\n",
       "    <tr>\n",
       "      <th>0</th>\n",
       "      <td>0.415247</td>\n",
       "      <td>0.550350</td>\n",
       "      <td>0.557778</td>\n",
       "      <td>0.383570</td>\n",
       "      <td>0.482254</td>\n",
       "      <td>0.142117</td>\n",
       "    </tr>\n",
       "    <tr>\n",
       "      <th>1</th>\n",
       "      <td>0.066697</td>\n",
       "      <td>0.908009</td>\n",
       "      <td>0.197264</td>\n",
       "      <td>0.227380</td>\n",
       "      <td>0.291084</td>\n",
       "      <td>0.305750</td>\n",
       "    </tr>\n",
       "    <tr>\n",
       "      <th>2</th>\n",
       "      <td>NaN</td>\n",
       "      <td>0.481305</td>\n",
       "      <td>0.963701</td>\n",
       "      <td>0.289538</td>\n",
       "      <td>0.662069</td>\n",
       "      <td>0.883058</td>\n",
       "    </tr>\n",
       "    <tr>\n",
       "      <th>3</th>\n",
       "      <td>0.469084</td>\n",
       "      <td>0.717253</td>\n",
       "      <td>0.467172</td>\n",
       "      <td>0.661786</td>\n",
       "      <td>0.539626</td>\n",
       "      <td>0.862264</td>\n",
       "    </tr>\n",
       "    <tr>\n",
       "      <th>4</th>\n",
       "      <td>0.314643</td>\n",
       "      <td>0.129364</td>\n",
       "      <td>0.291149</td>\n",
       "      <td>0.210694</td>\n",
       "      <td>0.891432</td>\n",
       "      <td>0.583443</td>\n",
       "    </tr>\n",
       "    <tr>\n",
       "      <th>5</th>\n",
       "      <td>0.672456</td>\n",
       "      <td>0.111327</td>\n",
       "      <td>NaN</td>\n",
       "      <td>0.197844</td>\n",
       "      <td>0.361385</td>\n",
       "      <td>0.703919</td>\n",
       "    </tr>\n",
       "    <tr>\n",
       "      <th>6</th>\n",
       "      <td>0.943599</td>\n",
       "      <td>0.047140</td>\n",
       "      <td>NaN</td>\n",
       "      <td>0.222312</td>\n",
       "      <td>0.270678</td>\n",
       "      <td>0.985113</td>\n",
       "    </tr>\n",
       "    <tr>\n",
       "      <th>7</th>\n",
       "      <td>0.172857</td>\n",
       "      <td>0.359706</td>\n",
       "      <td>NaN</td>\n",
       "      <td>NaN</td>\n",
       "      <td>0.559918</td>\n",
       "      <td>0.181495</td>\n",
       "    </tr>\n",
       "    <tr>\n",
       "      <th>8</th>\n",
       "      <td>0.650042</td>\n",
       "      <td>0.845300</td>\n",
       "      <td>NaN</td>\n",
       "      <td>NaN</td>\n",
       "      <td>0.706246</td>\n",
       "      <td>0.634860</td>\n",
       "    </tr>\n",
       "    <tr>\n",
       "      <th>9</th>\n",
       "      <td>0.696152</td>\n",
       "      <td>0.353721</td>\n",
       "      <td>0.999253</td>\n",
       "      <td>NaN</td>\n",
       "      <td>0.616951</td>\n",
       "      <td>0.278251</td>\n",
       "    </tr>\n",
       "    <tr>\n",
       "      <th>10</th>\n",
       "      <td>0.126199</td>\n",
       "      <td>0.791196</td>\n",
       "      <td>0.856410</td>\n",
       "      <td>0.959452</td>\n",
       "      <td>0.826969</td>\n",
       "      <td>NaN</td>\n",
       "    </tr>\n",
       "    <tr>\n",
       "      <th>11</th>\n",
       "      <td>0.700689</td>\n",
       "      <td>0.894851</td>\n",
       "      <td>0.918055</td>\n",
       "      <td>0.108752</td>\n",
       "      <td>0.502343</td>\n",
       "      <td>0.749123</td>\n",
       "    </tr>\n",
       "    <tr>\n",
       "      <th>12</th>\n",
       "      <td>0.393294</td>\n",
       "      <td>0.468172</td>\n",
       "      <td>0.711183</td>\n",
       "      <td>0.725584</td>\n",
       "      <td>0.355825</td>\n",
       "      <td>0.562409</td>\n",
       "    </tr>\n",
       "    <tr>\n",
       "      <th>13</th>\n",
       "      <td>0.403318</td>\n",
       "      <td>0.076329</td>\n",
       "      <td>0.642033</td>\n",
       "      <td>0.344418</td>\n",
       "      <td>0.453335</td>\n",
       "      <td>0.916017</td>\n",
       "    </tr>\n",
       "    <tr>\n",
       "      <th>14</th>\n",
       "      <td>0.898894</td>\n",
       "      <td>0.926813</td>\n",
       "      <td>0.620625</td>\n",
       "      <td>0.089307</td>\n",
       "      <td>0.362026</td>\n",
       "      <td>0.497475</td>\n",
       "    </tr>\n",
       "  </tbody>\n",
       "</table>\n",
       "</div>"
      ],
      "text/plain": [
       "           0         1         2         3         4         5\n",
       "0   0.415247  0.550350  0.557778  0.383570  0.482254  0.142117\n",
       "1   0.066697  0.908009  0.197264  0.227380  0.291084  0.305750\n",
       "2        NaN  0.481305  0.963701  0.289538  0.662069  0.883058\n",
       "3   0.469084  0.717253  0.467172  0.661786  0.539626  0.862264\n",
       "4   0.314643  0.129364  0.291149  0.210694  0.891432  0.583443\n",
       "5   0.672456  0.111327       NaN  0.197844  0.361385  0.703919\n",
       "6   0.943599  0.047140       NaN  0.222312  0.270678  0.985113\n",
       "7   0.172857  0.359706       NaN       NaN  0.559918  0.181495\n",
       "8   0.650042  0.845300       NaN       NaN  0.706246  0.634860\n",
       "9   0.696152  0.353721  0.999253       NaN  0.616951  0.278251\n",
       "10  0.126199  0.791196  0.856410  0.959452  0.826969       NaN\n",
       "11  0.700689  0.894851  0.918055  0.108752  0.502343  0.749123\n",
       "12  0.393294  0.468172  0.711183  0.725584  0.355825  0.562409\n",
       "13  0.403318  0.076329  0.642033  0.344418  0.453335  0.916017\n",
       "14  0.898894  0.926813  0.620625  0.089307  0.362026  0.497475"
      ]
     },
     "execution_count": 163,
     "metadata": {},
     "output_type": "execute_result"
    }
   ],
   "source": [
    "# データの準備\n",
    "import numpy as np\n",
    "from numpy import nan as NA\n",
    "import pandas as pd\n",
    "\n",
    "\n",
    "sample_data_frame2 = pd.DataFrame(np.random.rand(15,6))\n",
    "\n",
    "# NAにする\n",
    "sample_data_frame2.ix[2,0] = NA\n",
    "sample_data_frame2.ix[5:8,2] = NA\n",
    "sample_data_frame2.ix[7:9,3] = NA\n",
    "sample_data_frame2.ix[10,5] = NA\n",
    "\n",
    "\n",
    "sample_data_frame2"
   ]
  },
  {
   "cell_type": "markdown",
   "metadata": {},
   "source": [
    "#### <練習問題 2>\n",
    "\n",
    "上記で準備したデータに対して、NaNを0で埋めてください。"
   ]
  },
  {
   "cell_type": "markdown",
   "metadata": {},
   "source": [
    "#### <練習問題 3>\n",
    "\n",
    "上記で準備したデータに対して、NaNをそれぞれの列の平均値で埋めてください。"
   ]
  },
  {
   "cell_type": "markdown",
   "metadata": {},
   "source": [
    "### 4.3.2 異常データの扱い方\n",
    "キーワード：異常値、箱ひげ図、パーセンタイル、VaR(Value At Risk)"
   ]
  },
  {
   "cell_type": "markdown",
   "metadata": {},
   "source": [
    "異常値（外れ値）データの扱いは、そのままにして何もしないのか、異常値を除去するか、もっともらしい値に入れかえて使うかが問題になります。そもそも異常値とは一体何でしょうか。実は、統一的な見解というものはなく、そのデータを扱うアナリストや意思決定者が判断することもあります。ビジネスの現場では、不正アクセスのパターン（セキュリティ分野）や機械の故障、金融リスク管理（VaR）など、様々な分野で使われており、それぞれ色々な方法でアプローチされています。"
   ]
  },
  {
   "cell_type": "markdown",
   "metadata": {},
   "source": [
    "異常値検出のアプローチには、単純には箱ひげ図などを書いて、あるパーセンタイル以上のデータを異常値としてみなす方法、正規分布を利用する方法、データの空間的な近さに基づく方法などがあります。他には以降の章で学ぶ機械学習（教師なし学習も含む）を用いた方法があります。\n",
    "\n",
    "ここでは特に練習問題はありませんが、興味のある方は以下の参考文献などでぜひ学んでください。"
   ]
  },
  {
   "cell_type": "markdown",
   "metadata": {},
   "source": [
    ">[参考文献]\n",
    "\n",
    ">『入門 機械学習による異常検知―Rによる実践ガイド』（井手剛、コロナ社）\n",
    "\n",
    ">『異常検知と変化検知』（井手剛等、講談社）\n",
    "\n",
    "\n",
    ">[参考URL]\n",
    "\n",
    ">http://qiita.com/GushiSnow/items/f032806cfa8cec046318\n",
    "\n",
    ">http://qiita.com/shopetan/items/ceb7744facc21c3881d2\n",
    "\n",
    ">http://www.slideshare.net/shoheihido/fit2012"
   ]
  },
  {
   "cell_type": "markdown",
   "metadata": {},
   "source": [
    "以上で、2章の解説は終了です。長い時間、お疲れさまでした。少し単調な説明が多かったかもしれませんが、次の総合問題で、実践していきましょう。"
   ]
  },
  {
   "cell_type": "markdown",
   "metadata": {},
   "source": [
    "***"
   ]
  },
  {
   "cell_type": "markdown",
   "metadata": {},
   "source": [
    "## 4.4 総合問題"
   ]
  },
  {
   "cell_type": "markdown",
   "metadata": {},
   "source": [
    "### 4.4.1 時系列データ分析\n",
    "\n",
    "ここでは、本章で身に付けたpandasやscipyなどを使って、時系列データや購買データについて扱っていきましょう。まずは、時系列のデータです。\n",
    "\n",
    "（1）（データの取得と確認）下記のサイトより、dow_jones_index.zipをダウンロードし、中にあるdow_jones_index.dataを使って、データを読み込み、はじめの5行を表示してください。またデータのそれぞれのカラム情報等を見て、nullなどがあるか確認してください。　　\n",
    "\n",
    "https://archive.ics.uci.edu/ml/machine-learning-databases/00312/dow_jones_index.zip　　\n",
    "\n",
    "（2）（データの加工）カラムのopen、high、low、close等のデータは数字の前に$マークが付いているため、これを取り除いてください。また、日時をdate型で読み込んでいない場合は、date型に変換しましょう。\n",
    "\n",
    "（3）カラムのcloseについて、各stockごとの要約統計量を算出してください。\n",
    "\n",
    "（4）カラムのcloseについて、各stockの相関を算出する相関行列を出してください。また、seabornのheatmapを使って、相関行列のヒートマップを描いてみましょう。（ヒント：pandasのcorr()を使います。）\n",
    "\n",
    "（5）(4)で算出した相関行列の中で一番相関係数が高いstockの組み合わせを抽出してください。さらに、その中でもっとも相関係数が高いペアを抜き出し、それぞれの時系列グラフを書いてください。\n",
    "\n",
    "（6） pandasのrollingとwindow関数（窓関数）を使って、上記で使った各stockごとに、closeの過去5期（5週間）移動平均時系列データを計算してください。\n",
    "\n",
    "（7） pandasのshift()を使って、上記で使った各stockごとに、closeの前期（1週前）との比の対数時系列データを計算してください。さらに、この中で、一番ボラティリティ（標準偏差）が一番大きいstockと小さいstockを抜き出し、その対数変化率グラフを書いてください。"
   ]
  },
  {
   "cell_type": "markdown",
   "metadata": {},
   "source": [
    "※(6),(7)の補足\n",
    "\n",
    "時系列データ$(\\cdots ,y_{t-1},y_t,y_{t+1}, \\cdots )$の過去n期の移動平均データとは、過去5期のデータの平均、"
   ]
  },
  {
   "cell_type": "markdown",
   "metadata": {},
   "source": [
    "\\begin{eqnarray}\n",
    "ma_t = \\sum_{s=t-n+1}^t \\frac{y_s}{n}\n",
    "\\end{eqnarray}"
   ]
  },
  {
   "cell_type": "markdown",
   "metadata": {},
   "source": [
    "時系列データ$(\\cdots ,y_{t-1},y_t,y_{t+1}, \\cdots )$の前期（1週前）との比の対数時系列データとは、$\\log \\frac{y_t} {y_{t-1}}$から成るデータの事です。増減率$r_t = \\frac{y_t - y_{t-1}}{y_t}$が小さいとき、$r_t \\approx \\log \\frac{y_t} {y_{t-1}}$の関係が成り立ちます。これは、$x$が十分小さいときに成り立つ、$\\log (1+x) \\approx x$から導かれます。増減率データ$(r_1,\\cdots ,r_N )$のボラティリティとは、標準偏差"
   ]
  },
  {
   "cell_type": "markdown",
   "metadata": {},
   "source": [
    "\\begin{eqnarray}\n",
    "\\sqrt{\\frac{1}{N}\\sum_{t=1}^N (r_t - \\frac{1}{N}\\sum_{t=1}^N r_t)^2}\n",
    "\\end{eqnarray}"
   ]
  },
  {
   "cell_type": "markdown",
   "metadata": {},
   "source": [
    "の事で、価格変動の大きさを示す指標として利用されます。"
   ]
  },
  {
   "cell_type": "markdown",
   "metadata": {},
   "source": [
    "### 4.4.2 マーケティング分析\n",
    "\n",
    "次は、マーケティング分析でよく扱われる購買データです。一般ユーザーとは異なる法人の購買データですが、分析する軸は基本的に同じです。\n",
    "\n",
    "（1）下記のURLよりデータをpandasで読み込んでください（件数50万以上のデータで比較的大きいため、少し時間がかかります。）\n",
    "\n",
    "    \"http://archive.ics.uci.edu/ml/machine-learning-databases/00352/Online%20Retail.xlsx\"\n",
    "    \n",
    "    (ヒント)pd.ExcelFileを使って、シートを.parse('Online Retail')で指定してください。\n",
    "    \n",
    "    また、今回の分析対象は、CustomerIDにデータが入っているレコードのみ対象にするため、そのための処理をしてください。さらに、カラムのInvoiceNoには数字の前にCがあるものはキャンセルのため、このデータを取り除いてください。他にもデータとして取り除く必要なものがあれば、適宜処理してください。以下、このデータをベースに分析していきます。\n",
    "\n",
    "（2）このデータのカラムには、購買日時や商品名、数量、回数、購買者のIDなどがあります。ここで、購買者（CustomerID）のユニーク数、バスケット数（InvoiceNoのユニーク数）、商品の種類（StockCodeベースとDescriptionベースのユニーク数）を求めてください。\n",
    "\n",
    "（3）このデータのカラムには、Countryがあります。このカラムを軸に、それぞれの国の購買合計金額（単位あたりの金額×数量の合計）を求め、降順にならべて、上位5つの国の結果を表示してください。\n",
    "\n",
    "（4）上の上位5つの国について、それぞれの国の商品売り上げ（合計金額）の月別の時系列推移をグラフにしてください。ここで、グラフは分けて表示してください。\n",
    "\n",
    "（5）上の上位5つの国について、それぞれの国における商品の売り上げTOP5の商品を抽出してください。また、それらを国ごとに円グラフにしてください。なお、商品は「Description」ベースで集計してください。"
   ]
  }
 ],
 "metadata": {
  "anaconda-cloud": {},
  "kernelspec": {
   "display_name": "Python 3",
   "language": "python",
   "name": "python3"
  },
  "language_info": {
   "codemirror_mode": {
    "name": "ipython",
    "version": 3
   },
   "file_extension": ".py",
   "mimetype": "text/x-python",
   "name": "python",
   "nbconvert_exporter": "python",
   "pygments_lexer": "ipython3",
   "version": "3.6.0"
  }
 },
 "nbformat": 4,
 "nbformat_minor": 0
}

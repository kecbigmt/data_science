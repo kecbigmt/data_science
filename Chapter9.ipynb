{
 "cells": [
  {
   "cell_type": "markdown",
   "metadata": {
    "nbpresent": {
     "id": "0d4629d5-02e5-446b-8945-77a14085a9db"
    },
    "slideshow": {
     "slide_type": "slide"
    }
   },
   "source": [
    "# 9 モデルの検証方法とチューニング方法"
   ]
  },
  {
   "cell_type": "markdown",
   "metadata": {
    "nbpresent": {
     "id": "b1148877-ff04-4635-a794-1de257853078"
    },
    "slideshow": {
     "slide_type": "slide"
    }
   },
   "source": [
    "- **[9.1 この章で学ぶこと](#9.1-この章で学ぶこと)**\n",
    "    - [9.1.1 過学習の対処法とモデルチューニング方法](#9.1.1-過学習の対処法とモデルチューニング方法)\n",
    "    - [9.1.2 混同行列とROC曲線](#9.1.2-混同行列とROC曲線)\n",
    "    - [9.1.3 シミュレーションと計算統計学の基礎](#9.1.3-シミュレーションと計算統計学の基礎)\n",
    "    - [9.1.4 アンサンブル学習](#9.1.4-アンサンブル学習)\n",
    "<br><br>\n",
    "- **[9.2 過学習の対処法とモデルチューニング方法](#9.2-過学習の対処法とモデルチューニング方法)** \n",
    "    - [9.2.1 ホールドアウト法と交差検証法](#9.2.1-ホールドアウト法と交差検証法)\n",
    "    - [9.2.2 グリッドサーチ](#9.2.2-グリッドサーチ)\n",
    "    - [9.2.3 モデル構築期間やその他](#9.2.3-モデル構築期間やその他)\n",
    "    - [9.2.4 特徴量の扱い](#9.2.4-特徴量の扱い)\n",
    "<br><br> \n",
    "- **[9.3 混同行列とROC曲線](#9.3-混同行列とROC曲線)** \n",
    "    - [9.3.1 混同行列](#9.3.1-混同行列)\n",
    "    - [9.3.2 ROC曲線とAUC](#9.3.2-ROC曲線とAUC)\n",
    "<br><br>\n",
    "- **[9.4 シミュレーションと計算統計学の基礎](#9.4-シミュレーションと計算統計学の基礎)**\n",
    "    - [9.4.1 ジャックナイフ法](#9.4.1-ジャックナイフ法)\n",
    "    - [9.4.2 ブートストラップ法](#9.4.2-ブートストラップ法)\n",
    "    - [9.4.3 EMアルゴリズム](#9.4.3-EMアルゴリズム)\n",
    "<br><br>\n",
    "- **[9.5 アンサンブル学習](#9.5-アンサンブル学習)**\n",
    "    - [9.5.1 バギング](#9.5.1-バギング)\n",
    "    - [9.5.2 ブースティング](#9.5.2-ブースティング)\n",
    "    - [9.5.3 ランダムフォレスト](#9.5.3-ランダムフォレスト)\n",
    "<br><br>\n",
    "- **[9.6 総合問題](#9.6-総合問題)**\n",
    "    - [9.6.1 総合問題1](#9.6.1-総合問題1)\n",
    "    - [9.6.2 総合問題2](#9.6.2-総合問題2)"
   ]
  },
  {
   "cell_type": "markdown",
   "metadata": {
    "nbpresent": {
     "id": "94019007-0a8e-4fb5-ade4-82a9a51f163f"
    }
   },
   "source": [
    "## 9.1 この章で学ぶこと\n",
    "ゴール：モデルを構築するときの注意点や検証の方法の概要を知る"
   ]
  },
  {
   "cell_type": "code",
   "execution_count": 22,
   "metadata": {
    "collapsed": false
   },
   "outputs": [
    {
     "data": {
      "text/plain": [
       "'%.5f'"
      ]
     },
     "execution_count": 22,
     "metadata": {},
     "output_type": "execute_result"
    }
   ],
   "source": [
    "# 途中で使用するため、あらかじめ読み込んでおいてください。\n",
    "# データ加工・処理・分析モジュール\n",
    "import numpy as np\n",
    "import numpy.random as random\n",
    "import scipy as sp\n",
    "from pandas import Series,DataFrame\n",
    "import pandas as pd\n",
    "\n",
    "# 可視化モジュール\n",
    "import matplotlib.pyplot as plt\n",
    "import matplotlib as mpl\n",
    "import seaborn as sns\n",
    "%matplotlib inline\n",
    "\n",
    "# 機械学習モジュール\n",
    "import sklearn\n",
    "\n",
    "# 小数第5まで表示\n",
    "%precision 5"
   ]
  },
  {
   "cell_type": "markdown",
   "metadata": {
    "nbpresent": {
     "id": "98afe8a4-5fd6-44b5-8ef0-a492b6a3cd17"
    }
   },
   "source": [
    "### 9.1.1 過学習の対処法とモデルチューニング方法\n",
    "キーワード：ホールドアウト法、交差検証法、グリッドサーチ、特徴選択、特徴抽出"
   ]
  },
  {
   "cell_type": "markdown",
   "metadata": {
    "collapsed": true,
    "nbpresent": {
     "id": "3bc35a66-a51f-4263-9d77-a7193214766f"
    }
   },
   "source": [
    "前章で学んだ機械学習の教師あり学習では、学習データとテストデータに分けてモデルを構築・検証してきました。モデリングする前に、チェック用のデータを除いておいて、後からうまくいくかどうか確認するという作業はとても大切です。現在持っているデータに対してだけ良いモデルを作成すればいいというわけではありません。今あるデータにうまく適合させてモデルを作成しても、新しいデータや将来のデータに対してうまく予測できないとあまり意味はありません。\n",
    "\n",
    "このように現在のデータにあてはまりすぎて、新しいデータに適合できていない状態を**オーバーフィッティング（過学習）**といいます。それを防ぐために、あらかじめテスト用にデータを抜き出しておく**ホールドアウト法**や**交差検証法**について学びます。また、モデルの中にあるあらかじめ設定しなければならないパラメータをうまく見つけていく方法**グリッドサーチ**についても学びます。"
   ]
  },
  {
   "cell_type": "markdown",
   "metadata": {
    "collapsed": true
   },
   "source": [
    "他、モデリングする際の注意点（データ期間、**特徴選択**と**特徴抽出**など）についても述べます。"
   ]
  },
  {
   "cell_type": "markdown",
   "metadata": {
    "nbpresent": {
     "id": "694a72c9-64c6-4fec-8630-b540ddb35d21"
    }
   },
   "source": [
    "### 9.1.2 混同行列とROC曲線\n",
    "キーワード：混同行列、ROC曲線"
   ]
  },
  {
   "cell_type": "markdown",
   "metadata": {
    "collapsed": true,
    "nbpresent": {
     "id": "33b470fb-251e-41fb-b7e3-6dab4e00c281"
    }
   },
   "source": [
    "さて、モデルの良さというのは実は色々な指標があります。今まで、モデルの予測精度や良さという話をしてきましたが、そもそも予測精度とは一体なんでしょうか。単にモデルがうまく予測できたからといって、手放しで喜んでいいわけではありません。ここでは、それらに関連する概念（**混同行列**や**ROC曲線**など）や注意点について学びます。"
   ]
  },
  {
   "cell_type": "markdown",
   "metadata": {
    "nbpresent": {
     "id": "631753f8-6993-4148-bb9b-387bf0f8416a"
    }
   },
   "source": [
    "### 9.1.3 シミュレーションと計算統計学の基礎\n",
    "キーワード：ジャックナイフ法、ブートストラップ法、EMアルゴリズム"
   ]
  },
  {
   "cell_type": "markdown",
   "metadata": {
    "collapsed": true,
    "nbpresent": {
     "id": "6547c502-cef8-4f3e-8ae2-8174ecf9678d"
    }
   },
   "source": [
    "モデルを構築するにはデータが必要ですが、いつも十分にデータがあるわけではありません。またこの講座の前半で紹介したように、欠損しているデータもあります。そこで、今ある限られたデータの中から予測や妥当な計算をしたいというモチベーションがあります。さらに、理論的なアプローチが難しい問題について、コンピューター（計算機）を使って解析的にアプローチしたいというケースもあるでしょう。\n",
    "\n",
    "ここではそういった問題にアプローチするシミュレーションや計算統計学の基礎を学びます。具体的には、リサンプリングの手法である**ジャックナイフ法**や**ブートストラップ法**などがあります。ジャックナイフ法は、対象となるデータから1つだけデータを取っておいて、残りのデータを使って計算する手法です。ブートストラップ法は、1章で学んだ復元抽出を実行します。次のアンサンブル学習で使うため、ここで簡単に紹介します。昨今、コンピューターの性能が向上していますので、このような大量反復計算が気軽にできるようになっています。"
   ]
  },
  {
   "cell_type": "markdown",
   "metadata": {
    "collapsed": true
   },
   "source": [
    "また、関連して計算統計学の方法（**EMアルゴリズム**など）についても少し紹介します。EMアルゴリズムは、1章で学んだ確率統計の最尤法や、前章で学んだk-meansとも関係があり、幅広い分野で応用されています。"
   ]
  },
  {
   "cell_type": "markdown",
   "metadata": {
    "nbpresent": {
     "id": "922fbd92-aa0d-4711-9dee-cc7cd9f6e0e6"
    }
   },
   "source": [
    "### 9.1.4 アンサンブル学習\n",
    "キーワード：バギング、ブースティング、ランダムフォレスト"
   ]
  },
  {
   "cell_type": "markdown",
   "metadata": {
    "collapsed": true,
    "nbpresent": {
     "id": "e8bc4be6-0638-435b-8ab2-201cdaa15fa4"
    }
   },
   "source": [
    "予測モデルについて、前章の機械学習の基礎で色々な方法（決定木、ロジスティック回帰などのモデル）を個別に学びました。ここでは、複数のモデルを組み合わせて分類を実施する方法、**アンサンブル学習**について学びます。個々の学習結果を組み合わせて、複数の結果で評価します。具体的には**バギング、ブースティング**などがあります。\n",
    "\n",
    "バギングは上で説明したブートストラップ法によって弱識別器（それほど精度が高くないですが、ランダムな識別器より少し良いモデル）を生成し、それらを使って最終的な識別器を構築する方法です。データを復元抽出して、その標本で識別器を学習させます。そのバギングの一種であるランダムフォレストという手法があり、決定木を弱識別器として構築する方法です。このアンサンブル学習も、識別器の精度を高めていくためのモデルチューニング方法だと考えることができます。ブースティング（アダブースト）は、逐次的に弱識別器を構築する方法です。"
   ]
  },
  {
   "cell_type": "markdown",
   "metadata": {
    "nbpresent": {
     "id": "df54733d-5dde-4079-9e9f-03f27b8b5a97"
    }
   },
   "source": [
    ">[参考URL]\n",
    "\n",
    ">http://scikit-learn.org/stable/modules/ensemble.html"
   ]
  },
  {
   "cell_type": "markdown",
   "metadata": {
    "nbpresent": {
     "id": "8eb8fc4e-5670-44d5-9ba4-88b78495d88a"
    }
   },
   "source": [
    "## 9.2 過学習の対処法とモデルチューニング方法\n",
    "ゴール：モデルの過学習を防ぎ、より良い予測モデルを構築する方法を知る"
   ]
  },
  {
   "cell_type": "markdown",
   "metadata": {
    "nbpresent": {
     "id": "6691bdfb-77c1-4f01-b394-85590cc685fe"
    }
   },
   "source": [
    "### 9.2.1 ホールドアウト法と交差検証法\n",
    "キーワード：過学習、ホールドアウト法、交差検証法"
   ]
  },
  {
   "cell_type": "markdown",
   "metadata": {
    "collapsed": true,
    "nbpresent": {
     "id": "687db9f1-4877-48ca-821f-3a15ab3aa344"
    }
   },
   "source": [
    "前章では、機械学習のモデルを構築する際に、学習データとテストデータを分けてモデル構築・検証をしました。要するに、検証データにおいてモデルのあてはまり評価指標が高くなるようにモデルパラメータを決定しました。この方法を**ホールドアウト法**といいます。私たちがやりたいことは、今あるデータだけに使えるのではなく、将来のデータや新しいデータを予測することです。今持っているデータはもう既に答えがわかっているので、その予測精度が上がったとしてもあまり意味がありません。先ほども述べましたが、このデータに適合し過ぎて汎用化できてない状態を、**過学習（オーバーフィッティング）**といいます。このオーバーフィッティングを防ぐために、ホールドアウト法を使って、未知のデータの予測結果を評価します。\n",
    "\n",
    "ただ、このホールドアウト法には、問題点があります。それは、学習データとテストデータの選び方によって、性能の評価が変わってくることがあるということです。分割をするときに、シードを指定しなければ、基本ランダムにデータを取ってきますので、たまたまある学習データとテストデータの分割で性能が高くなってしまう可能性もあります。"
   ]
  },
  {
   "cell_type": "markdown",
   "metadata": {},
   "source": [
    "そこで、1回の分割だけではなく、k回分割をして検証を繰り返して実施する方法があり、これが**k分割交差検証法**です。上記でのホールドアウト方の欠点を補うだけでなく、データを無駄なくモデル作成に利用できるので、計算コストはかさみますが、好まれる手法です。具体的にk=5の場合を試してみます。下の図を見てください、5組のデータグループができます。4つのグループを学習データ用、1つをテスト用のグループとして検証します。これは5パターンありますので、5回、あるモデルに対して計算が行われることになります。"
   ]
  },
  {
   "cell_type": "markdown",
   "metadata": {},
   "source": [
    "![comment](https://i.stack.imgur.com/1fXzJ.png)"
   ]
  },
  {
   "cell_type": "markdown",
   "metadata": {},
   "source": [
    "参照URL：https://i.stack.imgur.com/1fXzJ.png"
   ]
  },
  {
   "cell_type": "markdown",
   "metadata": {
    "nbpresent": {
     "id": "8fdc47c7-42c1-4e9c-b311-e068ee0c56d0"
    }
   },
   "source": [
    "以下は、前章の機械学習で学んだ決定木を使って、交差検証を実施しています。交差検証はcross_val_scoreを使用し、パラメータは、「手法（ここでは決定木）、対象データ、ターゲットとなる目的変数、分割数(k)」を設定します。"
   ]
  },
  {
   "cell_type": "code",
   "execution_count": 16,
   "metadata": {
    "collapsed": false,
    "nbpresent": {
     "id": "f7e61986-6734-419e-8c8c-2b3a9028fc07"
    }
   },
   "outputs": [],
   "source": [
    "# 分析対象データ\n",
    "from sklearn.datasets import load_breast_cancer\n",
    "# 決定木\n",
    "from sklearn.tree import  DecisionTreeClassifier\n",
    "\n",
    "# データの読み込み\n",
    "cancer = load_breast_cancer()\n",
    "\n",
    "# 決定木インスタンス（エントロピー）\n",
    "tree = DecisionTreeClassifier(criterion='entropy',max_depth=3, random_state=0)"
   ]
  },
  {
   "cell_type": "markdown",
   "metadata": {
    "collapsed": true
   },
   "source": [
    "交差検証は、以下のように実装します。"
   ]
  },
  {
   "cell_type": "code",
   "execution_count": 17,
   "metadata": {
    "collapsed": false
   },
   "outputs": [
    {
     "name": "stdout",
     "output_type": "stream",
     "text": [
      "Cross validation scores:[ 0.90434783  0.91304348  0.95575221  0.9380531   0.95575221]\n"
     ]
    }
   ],
   "source": [
    "# 交差検証法\n",
    "from sklearn.model_selection import cross_val_score\n",
    "\n",
    "# cv　で分割数を決定する。デフォルトは3。\n",
    "scores = cross_val_score(tree,cancer.data,cancer.target,cv=5)\n",
    "\n",
    "print(\"Cross validation scores:{}\".format(scores))"
   ]
  },
  {
   "cell_type": "markdown",
   "metadata": {
    "collapsed": true,
    "nbpresent": {
     "id": "2fb0e314-22d8-4d4d-8023-11289596d73d"
    }
   },
   "source": [
    "cross_val_scoreのパラメータのcvを5と設定したので、上記では5つの正解率が表示されています。総合評価するため、それぞれのスコアの平均は以下のように算出します。"
   ]
  },
  {
   "cell_type": "code",
   "execution_count": 18,
   "metadata": {
    "collapsed": false,
    "nbpresent": {
     "id": "c4857cf7-fe35-4a80-a0fc-b084b8461453"
    }
   },
   "outputs": [
    {
     "name": "stdout",
     "output_type": "stream",
     "text": [
      "Cross validation scores(mean):0.933389765294344\n"
     ]
    }
   ],
   "source": [
    "print(\"Cross validation scores(mean):{}\".format(scores.mean()))"
   ]
  },
  {
   "cell_type": "markdown",
   "metadata": {
    "collapsed": true
   },
   "source": [
    "このモデル交差検証の結果、スコアが90%~95%になっており、比較的安定しているのがわかります。"
   ]
  },
  {
   "cell_type": "markdown",
   "metadata": {},
   "source": [
    ">**[やってみよう]**\n",
    "\n",
    ">他のモデルやデータで交差検証するとどうなるか試してみましょう。CVの数等も変えて実行してみてください。"
   ]
  },
  {
   "cell_type": "markdown",
   "metadata": {},
   "source": [
    "#### <練習問題 1>\n",
    "\n",
    "上記のデータに対して、異なるモデル（ロジスティック回帰分析など）を作成し、交差検証を実施してみましょう。上記のモデルの結果と比較して、違いはありますか。"
   ]
  },
  {
   "cell_type": "markdown",
   "metadata": {
    "nbpresent": {
     "id": "6f0eec39-4efb-4ee4-b8f3-c7145f918c2a"
    }
   },
   "source": [
    "### 9.2.2 グリッドサーチ\n",
    "キーワード：グリッドサーチ"
   ]
  },
  {
   "cell_type": "markdown",
   "metadata": {
    "collapsed": true,
    "nbpresent": {
     "id": "04886829-c17b-4e93-96df-6bab75fdc4b0"
    }
   },
   "source": [
    "前はモデルの汎用化をチェックするために、学習データとテストデータを分けて、検証を実施しました。次は、より良いモデルを作成するために、パラメータのチューニング方法について学びましょう。ここで学ぶ**グリッドサーチ**とは、基本的に注目しているパラメーターのいくつかの組み合わせについて、それら全ての計算を試みる方法をいいます。"
   ]
  },
  {
   "cell_type": "markdown",
   "metadata": {},
   "source": [
    "具体的には、サポートベクターマシンにはパラメータのgammaとCがあります。以下は、そのパラメータであるgammaとCをいくつかセットして、ベストなスコアになる組み合わせを探しています。"
   ]
  },
  {
   "cell_type": "code",
   "execution_count": 20,
   "metadata": {
    "collapsed": false,
    "nbpresent": {
     "id": "b4a1a2b4-ed34-46a8-872f-39803c69b7df"
    },
    "scrolled": true
   },
   "outputs": [
    {
     "name": "stdout",
     "output_type": "stream",
     "text": [
      "ベストスコア:0.91\n",
      "その時のパラメータ:{'C': 1, 'gamma': 0.001}\n"
     ]
    }
   ],
   "source": [
    "from sklearn.svm import SVC\n",
    "from sklearn.model_selection import train_test_split\n",
    "from sklearn.datasets import load_breast_cancer\n",
    "\n",
    "cancer = load_breast_cancer()\n",
    "X_train, X_test, y_train, y_test = train_test_split(\n",
    "    cancer.data, cancer.target, stratify = cancer.target, random_state=0)\n",
    "\n",
    "best_score = 0\n",
    "\n",
    "for gamma in [0.001,0.01,0.1,1,10,100]:\n",
    "    for C in [0.001,0.01,0.1,1,10,100]:\n",
    "        svm = SVC(gamma=gamma,C=C)\n",
    "        svm.fit(X_train,y_train)\n",
    "        score = svm.score(X_test,y_test)\n",
    "        if score > best_score:\n",
    "            best_score = score\n",
    "            best_param = {'C':C,'gamma':gamma }\n",
    "\n",
    "print(\"ベストスコア:{:.2f}\".format(best_score))\n",
    "print(\"その時のパラメータ:{}\".format(best_param))"
   ]
  },
  {
   "cell_type": "markdown",
   "metadata": {},
   "source": [
    "上記より、スコアが0.91がベストで、その時のパラメータは、Cは1、gammaは0.001になります。"
   ]
  },
  {
   "cell_type": "markdown",
   "metadata": {
    "nbpresent": {
     "id": "77df5f92-ba69-4bcc-b0e1-0765fcb8c58a"
    }
   },
   "source": [
    "次は、グリッドサーチと交差検証をやります。GridSearchCVを使います。"
   ]
  },
  {
   "cell_type": "code",
   "execution_count": 21,
   "metadata": {
    "collapsed": false
   },
   "outputs": [
    {
     "name": "stdout",
     "output_type": "stream",
     "text": [
      "Test set score:0.91\n",
      "Best parameters:{'C': 1, 'gamma': 0.001}\n",
      "Best cross-validation score:0.93\n"
     ]
    }
   ],
   "source": [
    "from sklearn.model_selection import GridSearchCV\n",
    "from sklearn.svm import SVC\n",
    "from sklearn.datasets import load_breast_cancer\n",
    "from sklearn.model_selection import train_test_split\n",
    "\n",
    "# パラメータの設定\n",
    "param_grid = { 'C':[0.001,0.01,0.1,1,10,100]\n",
    "              ,'gamma':[0.001,0.01,0.1,1,10,100]}\n",
    "\n",
    "grid_search = GridSearchCV(SVC(),param_grid,cv=5)\n",
    "\n",
    "# データの読み込み\n",
    "cancer = load_breast_cancer()\n",
    "X_train, X_test, y_train, y_test = train_test_split(\n",
    "    cancer.data, cancer.target, stratify = cancer.target, random_state=0)\n",
    "\n",
    "grid_search.fit(X_train,y_train)\n",
    "\n",
    "print(\"Test set score:{:.2f}\".format(grid_search.score(X_test,y_test)))\n",
    "print(\"Best parameters:{}\".format(grid_search.best_params_))\n",
    "print(\"Best cross-validation score:{:.2f}\".format(grid_search.best_score_))"
   ]
  },
  {
   "cell_type": "markdown",
   "metadata": {},
   "source": [
    "交差検証におけるベストスコアは0.93になりました。このグリッドサーチもモデルによってパラメータは異なりますので、モデルのそれぞれについてチューニングできるパラメータを見つけて、実行してみましょう。"
   ]
  },
  {
   "cell_type": "markdown",
   "metadata": {},
   "source": [
    ">**[やってみよう]**\n",
    "\n",
    ">他のモデルやデータでどうやってグリッドサーチを実施しますか。パラメータを見るなどして、実行してみましょう。"
   ]
  },
  {
   "cell_type": "markdown",
   "metadata": {},
   "source": [
    "#### <練習問題 1>\n",
    "\n",
    "上記のデータに対して、決定木を使って、交差検証とグリッドサーチを実施してみましょう。なお、決定木のパラメータは深さなので、それをparam_grid = {'max_depth': [2, 3, 4, 5], 'min_samples_leaf': [2, 3, 4, 5]}のように設定して計算しましょう。"
   ]
  },
  {
   "cell_type": "markdown",
   "metadata": {},
   "source": [
    "### 9.2.3 モデル構築期間やその他\n",
    "キーワード：データ期間、プロファイリングモデル、予測モデル、検証データ"
   ]
  },
  {
   "cell_type": "markdown",
   "metadata": {
    "collapsed": true
   },
   "source": [
    "これまではモデリングをするときに、特に「データの期間」についてはあまり意識していませんでした。ここでは、対象データが時系列の場合やその他の注意事項について述べます。\n",
    "\n",
    "モデル構築時に、データを説明変数と目的変数をセットしますが、モデルによってそれぞれのデータ期間の取り方を考える必要があります。以下の参考文献では、モデルを**プロファイリングモデル**と**予測モデル**に分けて説明しています。\n",
    "\n",
    "プロファイリングモデルは説明変数と目的変数のデータ期間が同じ期間で構築します。一方、予測モデルは、説明変数が前の期間データ、目的変数が後の期間データにする必要があります。予測モデルはその名の通り、将来を予測することですから、その将来の説明変数はデータとして取得できないため、その前のデータ期間を説明変数として設定する必要があります。基本的に、将来の購買予測や離反予測をする場合には、プロファイリングモデルではありません。なぜならば、将来の予測をするのに同時期のデータはなく、説明変数は過去のデータを使うことになります。データで前処理をする場合には注意しましょう。"
   ]
  },
  {
   "cell_type": "markdown",
   "metadata": {
    "collapsed": true
   },
   "source": [
    ">[参考文献]\n",
    "\n",
    ">『データマイニング手法 予測・スコアリング編―営業、マーケティング、CRMのための顧客分析』（ゴードン S.リノフ (著), マイケル J.A.ベリー (著), 佐藤 栄作 (翻訳), 斉藤 史朗 (翻訳)、海文堂出版）\n",
    "\n",
    ">『データマイニング手法 探索的知識発見編―営業、マーケティング、CRMのための顧客分析』（ゴードン S.リノフ (著), マイケル J.A.ベリー (著), 佐藤 栄作 (翻訳), 斉藤 史朗 (翻訳)、海文堂出版）"
   ]
  },
  {
   "cell_type": "markdown",
   "metadata": {
    "collapsed": true
   },
   "source": [
    "なお、モデルを構築する際に、学習データとテストデータについて分けましたが、さらにモデリング時に学習データの中から検証データを抜いて構築することがあります。学習データと検証データでモデルパラメータを決定し、モデルパラメータの決定に関わっていないテストデータでさらに精度を確認する入念な方法です。専門書などによって説明やアプローチ等が異なりますので、注意しましょう。\n"
   ]
  },
  {
   "cell_type": "markdown",
   "metadata": {},
   "source": [
    "### 9.2.4 特徴量の扱い\n",
    "キーワード：特徴選択、特徴抽出"
   ]
  },
  {
   "cell_type": "markdown",
   "metadata": {
    "collapsed": true
   },
   "source": [
    "ここでは、モデルのチューニングを考える上で必要になってくる**特徴量**について少し触れたいと思います。（注：統計学では変数と呼ばれ、機械学習では特徴量(Feature)と呼ばれることが多いようです。）\n",
    "\n",
    "モデリングを実施する際に、説明変数をどのように選ぶのかという問題がありました。この説明変数は特徴量ともいわれますが、特徴量をどうやって扱うかによって、モデルの予測精度が変わってきます。いろいろなモデルを試すより、この特徴量をしっかりと見極める方がより良いモデルが構築できることも多いです。\n",
    "\n",
    "前章で述べた変数選択法もその1つですし、似ている変数があると多重共線性等の問題があり、それらをどうやってまとめるかという問題もありました。このように、**特徴選択**(変数を選ぶイメージです)や**特徴抽出**(変数合成のイメージです)にも気をつけてモデリングする必要があります。\n",
    "\n",
    "さらに、ビジネス的な視点が重要になってくる作業でもあります。なぜならば、どの変数を使うか、どの変数が効いているのかということは、そのビジネスの現場にいる人たちの方が経験豊富なため、無駄な回り道をせず、特徴量の選択や抽出ができる可能性が高いからです。その業界の特有の問題、ビジネス的な背景などというのは、業界未経験者がすぐに把握するのは困難でしょう。（もちろん、新しい視点を加えるという意味では、良い面もあります。）\n",
    "\n",
    "この作業をしっかりとできるようになれば、データサイエンティスト入門は卒業でしょう。特徴量に関する文献としては、以下がありますので、ぜひ参考にしてください。"
   ]
  },
  {
   "cell_type": "markdown",
   "metadata": {
    "collapsed": true
   },
   "source": [
    ">[参考文献]\n",
    "\n",
    ">『Introduction to Machine Learning with Pyton』（Andreas C.Muller & Sarah Guido、O'REILLY）\n",
    "\n",
    ">『データサイエンス講義』（Rachel Schutt (著), Cathy O'Neil (著), 瀬戸山 雅人  (翻訳), 石井 弓美子 (翻訳), & 7 その他、オライリージャパン）\n",
    "\n",
    ">『Building Machine Learning Systems with Python』（Willi Richert (著), Luis Pedro Coelho (著), 斎藤 康毅  (翻訳)、翻訳：実践機械学習システム、オイラリージャパン）\n",
    "\n",
    ">『Python Machine Learning』（Sebastian Raschka、Packt Publishing Ltd.、翻訳：Python機械学習プログラミング）"
   ]
  },
  {
   "cell_type": "markdown",
   "metadata": {
    "nbpresent": {
     "id": "7d39acee-646e-4821-a34b-07455623ced4"
    }
   },
   "source": [
    "## 9.3 混同行列とROC曲線\n",
    "ゴール：混同行列とROC曲線を理解して、実装できる"
   ]
  },
  {
   "cell_type": "markdown",
   "metadata": {
    "nbpresent": {
     "id": "68f8e56f-776d-47fa-b5d7-d6a2f58e8c4a"
    }
   },
   "source": [
    "### 9.3.1 混同行列\n",
    "キーワード：混同行列、正解率、適合率、再現率、F1値"
   ]
  },
  {
   "cell_type": "markdown",
   "metadata": {
    "collapsed": true,
    "nbpresent": {
     "id": "37437a40-9f41-459c-964a-0c12078bf50b"
    }
   },
   "source": [
    "さて、これまではモデルの評価について正解率を見てきましたが、実はモデルの良さを見るためには、様々な指標があります。それらの指標を詳しく見る前に、まずは**混同行列**についてみていきます。"
   ]
  },
  {
   "cell_type": "markdown",
   "metadata": {
    "collapsed": true
   },
   "source": [
    "以下では、前に扱ったcancerデータを使って、モデリングしています。"
   ]
  },
  {
   "cell_type": "code",
   "execution_count": 100,
   "metadata": {
    "collapsed": false,
    "nbpresent": {
     "id": "9defd69f-a850-4317-9c5f-ff3d98c807ad"
    }
   },
   "outputs": [
    {
     "name": "stdout",
     "output_type": "stream",
     "text": [
      "train: SVC 0.978873239437\n",
      "test: SVC 0.909090909091\n"
     ]
    }
   ],
   "source": [
    "# SVM\n",
    "from sklearn.svm import SVC\n",
    "\n",
    "from sklearn.model_selection import train_test_split\n",
    "from sklearn.datasets import load_breast_cancer\n",
    "\n",
    "cancer = load_breast_cancer()\n",
    "X_train, X_test, y_train, y_test = train_test_split(\n",
    "    cancer.data, cancer.target, stratify = cancer.target, random_state=66)\n",
    "\n",
    "model = SVC(gamma=0.001,C=1)\n",
    "clf = model.fit(X_train,y_train)\n",
    "print(\"train:\",clf.__class__.__name__ ,clf.score(X_train,y_train))\n",
    "print(\"test:\",clf.__class__.__name__ , clf.score(X_test,y_test))"
   ]
  },
  {
   "cell_type": "markdown",
   "metadata": {
    "collapsed": true
   },
   "source": [
    "上記のモデリングでは、目的変数について実績は0と1で、予測は0か1ですので、その組み合わせは4通あります。気になるのは例えば1と予測してどれくらい実績値として1になっていたのか、また0の場合や外れた場合なども同様です。それらのパターンごとに、それぞれ数がどれくらいになるか示したのが**混同行列**です。以下では、それを表示しています。confusion_matrixを使います。"
   ]
  },
  {
   "cell_type": "markdown",
   "metadata": {},
   "source": [
    "上の混同行列の行が観測値(y_test)で、列が予測値(pred_svc)になります。例えば、0と予測して0の実績(True Negative))は48つ、1の実績(False Negative)は8つという具合です。実績と予測のクロス集計（カウントベース）になっています。次にこの混同行列を使って、**正解率**、**適合率**、**再現率**、**F1スコア**について説明します。"
   ]
  },
  {
   "cell_type": "markdown",
   "metadata": {},
   "source": [
    "|| 予測(0)|予測(1)|\n",
    "|:------|------:|------:|\n",
    "| 観測(0) |48|5|\n",
    "| 観測(1) |8|82|"
   ]
  },
  {
   "cell_type": "markdown",
   "metadata": {
    "collapsed": true,
    "nbpresent": {
     "id": "3d722816-e994-4d90-98dc-0e670652c3ce"
    }
   },
   "source": [
    "正解率はモジュールで計算してきましたが、混同行列を使って詳細を書くと、以下のように計算しています。上と同じ値（score）になっていることが確かめられます。"
   ]
  },
  {
   "cell_type": "code",
   "execution_count": 25,
   "metadata": {
    "collapsed": false,
    "nbpresent": {
     "id": "d4502852-8712-429c-940b-eef6bd0560e2"
    }
   },
   "outputs": [
    {
     "data": {
      "text/plain": [
       "0.90909090909090906"
      ]
     },
     "execution_count": 25,
     "metadata": {},
     "output_type": "execute_result"
    }
   ],
   "source": [
    "(confusion_m[0,0]+confusion_m[1,1])/(confusion_m[0,0]+confusion_m[0,1]+confusion_m[1,0]+confusion_m[1,1])"
   ]
  },
  {
   "cell_type": "markdown",
   "metadata": {},
   "source": [
    "上の混同行列や計算式からわかる通り、ターゲット変数（y）を0と予測して実績が0であった数(48)と、1と予測して実績が1であった数（82）の合計(48+82=130)を全体の数(143)で割った割合になっています。全体として、どれだけ1と0を正確に予測できているかを見るための指標です。"
   ]
  },
  {
   "cell_type": "markdown",
   "metadata": {
    "collapsed": true
   },
   "source": [
    "次に考えられるのが、1と予測した中で、どれだけ実現値が占めていたかという指標です。これを**適合率**といい、以下のように計算しています。"
   ]
  },
  {
   "cell_type": "code",
   "execution_count": 26,
   "metadata": {
    "collapsed": false,
    "nbpresent": {
     "id": "5977723d-8b54-40b7-b94e-a4be91af7037"
    }
   },
   "outputs": [
    {
     "data": {
      "text/plain": [
       "0.94252873563218387"
      ]
     },
     "execution_count": 26,
     "metadata": {},
     "output_type": "execute_result"
    }
   ],
   "source": [
    "Precision = (confusion_m[1,1])/(confusion_m[0,1]+confusion_m[1,1])\n",
    "Precision"
   ]
  },
  {
   "cell_type": "markdown",
   "metadata": {
    "collapsed": true
   },
   "source": [
    "そして次に、1の実現値の中でどれだけ予測値が実際にあたっているのかという指標もあり、これを**再現率**といいます。以下のように計算しています。"
   ]
  },
  {
   "cell_type": "code",
   "execution_count": 27,
   "metadata": {
    "collapsed": false,
    "nbpresent": {
     "id": "76e41b45-e6cb-478b-9514-a2c9b490dc08"
    },
    "scrolled": true
   },
   "outputs": [
    {
     "data": {
      "text/plain": [
       "0.91111111111111109"
      ]
     },
     "execution_count": 27,
     "metadata": {},
     "output_type": "execute_result"
    }
   ],
   "source": [
    "Recall = (confusion_m[1,1])/(confusion_m[1,0]+confusion_m[1,1])\n",
    "Recall"
   ]
  },
  {
   "cell_type": "markdown",
   "metadata": {
    "collapsed": true,
    "nbpresent": {
     "id": "df60a6da-fb64-43c9-96a6-bab2ad1670ad"
    }
   },
   "source": [
    "再現率と適合率にはトレードオフ関係になりますので、その2つを考慮した調和平均のF1値もあります。"
   ]
  },
  {
   "cell_type": "code",
   "execution_count": 28,
   "metadata": {
    "collapsed": false,
    "nbpresent": {
     "id": "351a485c-47cc-4e6b-89de-d20dc1ee2d86"
    }
   },
   "outputs": [
    {
     "data": {
      "text/plain": [
       "0.92655367231638419"
      ]
     },
     "execution_count": 28,
     "metadata": {},
     "output_type": "execute_result"
    }
   ],
   "source": [
    "F1 = 2 * (Precision * Recall)/(Precision + Recall)\n",
    "F1"
   ]
  },
  {
   "cell_type": "markdown",
   "metadata": {
    "collapsed": true,
    "nbpresent": {
     "id": "5bd2cf70-59a7-4e83-859e-63199d3ca56f"
    }
   },
   "source": [
    "なお、上のように計算式を都度書くのは面倒なので、適合率、再現率、F1スコアを計算するときには、以下のようなモジュールを使います。"
   ]
  },
  {
   "cell_type": "code",
   "execution_count": 29,
   "metadata": {
    "collapsed": false,
    "nbpresent": {
     "id": "7fb7a671-8650-4a3f-8d72-7b182a1911d4"
    },
    "scrolled": true
   },
   "outputs": [
    {
     "name": "stdout",
     "output_type": "stream",
     "text": [
      "適合率:0.943\n",
      "再現率:0.911\n",
      "F1値:0.927\n"
     ]
    }
   ],
   "source": [
    "from sklearn.metrics import precision_score,recall_score,f1_score\n",
    "\n",
    "print(\"適合率:%.3f\" % precision_score(y_true=y_test,y_pred=pred_svc))\n",
    "print(\"再現率:%.3f\" % recall_score(y_true=y_test,y_pred=pred_svc))\n",
    "print(\"F1値:%.3f\" % f1_score(y_true=y_test,y_pred=pred_svc))"
   ]
  },
  {
   "cell_type": "markdown",
   "metadata": {
    "collapsed": true
   },
   "source": [
    "以下は混同行列の図になります。すべての用語については説明しませんが、**真陽性率（True Positive Rate）**と**偽陽性率（False Positive Rate）**はあとで使うので、覚えておいてください。上の例でいうと、真陽性率が1（正例）のものをどれだけ1（正例）と予測したかの割合(TP/(TP+FN))、偽陽性率は0（負例）のものをどれだけ1（正例）と予測したかの割合(FP/(FP+TN))です。真陽性率は大きければ大きいほど良く、偽陽性率は小さければ小さいほど良いです。"
   ]
  },
  {
   "cell_type": "markdown",
   "metadata": {},
   "source": [
    "||負例（予測）|正例（予測）|\n",
    "|:------|------:|------:|\n",
    "| 負例（実績） |True Negative(TN)|False Positive(FP)|\n",
    "|正例（実績） |False Negative(FN)|True Positive(TP)|"
   ]
  },
  {
   "cell_type": "markdown",
   "metadata": {},
   "source": [
    "#### <練習問題 1>\n",
    "\n",
    "上記のデータに対して、異なるモデル（ロジスティック回帰分析など）を作成し、混同行列を作り、テストデータにおける正解率、適合率、再現率、F1値を計算してみましょう。"
   ]
  },
  {
   "cell_type": "markdown",
   "metadata": {
    "nbpresent": {
     "id": "8d1b3f15-702b-4766-ad41-ab596c266c23"
    }
   },
   "source": [
    "### 9.3.2 ROC曲線とAUC\n",
    "キーワード：ROC曲線、AUC"
   ]
  },
  {
   "cell_type": "markdown",
   "metadata": {},
   "source": [
    "上記で混同行列と様々な指標について学び、主に正解率を見てきました。しかし、正解率だけを見るだけでは不十分なケースがあります。\n",
    "例えば、あるスーパーである商品Aを買う人は全体の5%とします(100人中5人の場合を考えます)。モデルを構築し、予測スコア上位の5人が商品Aを買うと予測されたとしましょう。かつ、買うと予測された5人（フラグ1の人）のいずれも正解ではなかった（未購買であった）とします。上で学んだ混同行列に当てはめると、以下のような行列になります。"
   ]
  },
  {
   "cell_type": "markdown",
   "metadata": {},
   "source": [
    "|| 予測(0)|予測(1)|\n",
    "|:------|------:|------:|\n",
    "| 観測(0) |90|5|\n",
    "| 観測(1) |5|0|"
   ]
  },
  {
   "cell_type": "markdown",
   "metadata": {},
   "source": [
    "つまり、1と予測した人の中で本当に1だった人は0人になので、適合率は0%です。一方、残り95人に対して買わないと予測した90人を当たてているので、正解率は90％（＝90/100）となります。モデルの精度を正解率だけでみると、90%の正解率は一見良さそうなモデルにも見えます。しかし、予測したい人は買う人ですから、適合率0%のモデルは、意味のあるモデリングの結果とは言えないのです。\n",
    "\n",
    "このように、データに偏りがあったり、目的によっては見るべき指標が変わってきますので、注意しましょう。なお、実務的にはこのようなケースはウェブでの広告クリック率など、cv（コンバージョン）率が低い場合にもよく出てきます"
   ]
  },
  {
   "cell_type": "markdown",
   "metadata": {
    "collapsed": true
   },
   "source": [
    "次で学ぶ**ROC曲線**と**AUC**は、データの正例と負例に差があっても影響を受けず、安定した性能評価ができます。また、分類を実施する時に、閾値を変えることで、適合率や再現率等も変わってきますので、それを観察することもできます。"
   ]
  },
  {
   "cell_type": "markdown",
   "metadata": {
    "collapsed": true
   },
   "source": [
    "ROC曲線について、cancerデータを使って、閾値を変化させてROC曲線を描くとはどういうことか、簡単に見ていくことにしましょう。\n",
    "\n",
    "ロジスティック回帰のフィッティング後にpredict_probaを使って、各レコードで癌が良性（benign、1）であるかそうでないかを予測します。predict_probaは、確率的にスコアリングしていくことになり、それぞれのレコードにて、癌が良性（benign）である確率を算出します。"
   ]
  },
  {
   "cell_type": "code",
   "execution_count": 203,
   "metadata": {
    "collapsed": false,
    "nbpresent": {
     "id": "9defd69f-a850-4317-9c5f-ff3d98c807ad"
    },
    "scrolled": true
   },
   "outputs": [],
   "source": [
    "# ロジスティック回帰\n",
    "from sklearn.linear_model import LogisticRegression\n",
    "\n",
    "from sklearn.model_selection import train_test_split\n",
    "from sklearn.datasets import load_breast_cancer\n",
    "\n",
    "cancer = load_breast_cancer()\n",
    "X_train, X_test, y_train, y_test = train_test_split(\n",
    "    cancer.data, cancer.target, stratify = cancer.target, random_state=66)\n",
    "\n",
    "model = LogisticRegression()\n",
    "lrmodelfit = model.fit(X_train,y_train)"
   ]
  },
  {
   "cell_type": "code",
   "execution_count": 204,
   "metadata": {
    "collapsed": false
   },
   "outputs": [
    {
     "data": {
      "text/html": [
       "<div>\n",
       "<table border=\"1\" class=\"dataframe\">\n",
       "  <thead>\n",
       "    <tr style=\"text-align: right;\">\n",
       "      <th></th>\n",
       "      <th>malignant</th>\n",
       "      <th>benign</th>\n",
       "    </tr>\n",
       "  </thead>\n",
       "  <tbody>\n",
       "    <tr>\n",
       "      <th>0</th>\n",
       "      <td>0.003665</td>\n",
       "      <td>0.996335</td>\n",
       "    </tr>\n",
       "    <tr>\n",
       "      <th>1</th>\n",
       "      <td>0.000497</td>\n",
       "      <td>0.999503</td>\n",
       "    </tr>\n",
       "    <tr>\n",
       "      <th>2</th>\n",
       "      <td>0.030020</td>\n",
       "      <td>0.969980</td>\n",
       "    </tr>\n",
       "    <tr>\n",
       "      <th>3</th>\n",
       "      <td>0.006884</td>\n",
       "      <td>0.993116</td>\n",
       "    </tr>\n",
       "    <tr>\n",
       "      <th>4</th>\n",
       "      <td>0.003226</td>\n",
       "      <td>0.996774</td>\n",
       "    </tr>\n",
       "  </tbody>\n",
       "</table>\n",
       "</div>"
      ],
      "text/plain": [
       "   malignant    benign\n",
       "0   0.003665  0.996335\n",
       "1   0.000497  0.999503\n",
       "2   0.030020  0.969980\n",
       "3   0.006884  0.993116\n",
       "4   0.003226  0.996774"
      ]
     },
     "execution_count": 204,
     "metadata": {},
     "output_type": "execute_result"
    }
   ],
   "source": [
    "# データフレームに変更\n",
    "prob_result = pd.DataFrame(lrmodelfit.predict_proba(X_test))\n",
    "# カラム名を作る\n",
    "prob_result.columns = [\"malignant\",\"benign\"]\n",
    "prob_result.head()"
   ]
  },
  {
   "cell_type": "markdown",
   "metadata": {
    "collapsed": true
   },
   "source": [
    "上記を見ると、それぞれのレコードでbenignかmalignantである確率がそれぞれ算出され、スコアリングされているのがわかります。\n",
    "\n",
    "一般的に考えると、0.5（50%）が閾値ですが、この閾値を変更することで、benign（1）であると予測した数も変わってきて、それがあたっているあたっていない（正解率や適合率など）も変わってくるのです。具体的には、以下のように、閾値を0.4、0.3、0.15、0.05と4パターン実行して、それぞれの混同行列を表示させ、偽陽性率と真陽性率の点をプロットしてみます。"
   ]
  },
  {
   "cell_type": "code",
   "execution_count": 209,
   "metadata": {
    "collapsed": false,
    "scrolled": false
   },
   "outputs": [
    {
     "name": "stdout",
     "output_type": "stream",
     "text": [
      "◆Threhold: 0.4\n",
      "Confution matrix:\n",
      "[[48  5]\n",
      " [ 4 86]]\n",
      "◆Threhold: 0.3\n",
      "Confution matrix:\n",
      "[[47  6]\n",
      " [ 2 88]]\n",
      "◆Threhold: 0.15\n",
      "Confution matrix:\n",
      "[[44  9]\n",
      " [ 1 89]]\n",
      "◆Threhold: 0.05\n",
      "Confution matrix:\n",
      "[[42 11]\n",
      " [ 1 89]]\n"
     ]
    },
    {
     "data": {
      "image/png": "[encoded data removed]",
      "text/plain": [
       "<matplotlib.figure.Figure at 0x119b55358>"
      ]
     },
     "metadata": {},
     "output_type": "display_data"
    }
   ],
   "source": [
    "fig, ax = plt.subplots()\n",
    "for threhold in [0.4,0.3,0.15,0.05]:\n",
    "    prob_result[\"new_flg\"] = prob_result[\"benign\"].map(lambda x: 1 if x > threhold else 0)\n",
    "    confusion_m = confusion_matrix(y_test,prob_result[\"new_flg\"])\n",
    "    print(\"◆Threhold:\",threhold)\n",
    "    print(\"Confution matrix:\\n{}\".format(confusion_m))\n",
    "    fpr = (confusion_m[0,1])/(confusion_m[0,0]+confusion_m[0,1])\n",
    "    tpr = (confusion_m[1,1])/(confusion_m[1,0]+confusion_m[1,1])\n",
    "    plt.scatter(fpr,tpr)\n",
    "    plt.xlabel(\"fpr\")\n",
    "    plt.ylabel(\"tpr\")\n",
    "    ax.annotate(threhold, (fpr,tpr))"
   ]
  },
  {
   "cell_type": "markdown",
   "metadata": {},
   "source": [
    "上記の結果を見ていただくと、閾値を変化させた時の混同行列のそれぞれの要素数も変化していますし、それぞれのプロットの位置も違う位置にいる（偽陽性率や真陽性率も異なる）のがわかります。これを連続的に変化させたのがROC曲線になります（なお、上記はそれほどレコード数が多くないので、プロットをつなぐとグラフがカクカクしてしまいますが、データ量が多いとなめらかな曲線になります）。これは確率分布の考え方に基づいており、以下の参照URLが図も動いてイメージしやすいと思いますので、参考にしてください。"
   ]
  },
  {
   "cell_type": "markdown",
   "metadata": {
    "collapsed": true
   },
   "source": [
    ">[参考URL]\n",
    "\n",
    "> http://qiita.com/kenmatsu4/items/550b38f4fa31e9af6f4f"
   ]
  },
  {
   "cell_type": "markdown",
   "metadata": {},
   "source": [
    "他、以下の参考文献の8章（Evaluation）なども説明がわかりやすいので、参考にしてください。"
   ]
  },
  {
   "cell_type": "markdown",
   "metadata": {
    "collapsed": true,
    "nbpresent": {
     "id": "13330cae-4baf-4bc9-b98b-b500d6fcb83d"
    }
   },
   "source": [
    ">[参考文献]\n",
    "\n",
    ">『Fundamentals of Machine Learning for Predictive Data Analytics: Algorithms, Worked Examples, and Case Studies (MIT Press) 』（John D. Kelleher  (著), Brian Mac Namee  (著), Aoife D'Arcy  (著), The MIT Press ）"
   ]
  },
  {
   "cell_type": "markdown",
   "metadata": {
    "collapsed": true
   },
   "source": [
    "それでは、もう少し一般的な実装を見ていきましょう。使うモデルは異なりますが、同じくcancerデータを使います。"
   ]
  },
  {
   "cell_type": "code",
   "execution_count": 154,
   "metadata": {
    "collapsed": false,
    "nbpresent": {
     "id": "0bc4227a-07d3-464b-8be1-bfcceea9c872"
    }
   },
   "outputs": [],
   "source": [
    "# 必要なモジュール\n",
    "import numpy as np\n",
    "import matplotlib.pyplot as plt\n",
    "from itertools import cycle\n",
    "from sklearn import svm, datasets\n",
    "from sklearn.metrics import roc_curve, auc\n",
    "from sklearn.model_selection import train_test_split\n",
    "from sklearn.preprocessing import label_binarize\n",
    "from sklearn.multiclass import OneVsRestClassifier\n",
    "from scipy import interp\n",
    "from sklearn.datasets import load_breast_cancer\n",
    "\n",
    "# データの読み込みと目的変数と説明変数の分離\n",
    "cancer = load_breast_cancer()\n",
    "\n",
    "X = cancer.data\n",
    "y = cancer.target\n",
    "\n",
    "# ラベル\n",
    "y = label_binarize(y, classes=[0, 1])\n",
    "n_classes = y.shape[1]\n",
    "\n",
    "random_state = np.random.RandomState(0)\n",
    "n_samples, n_features = X.shape\n",
    "X = np.c_[X, random_state.randn(n_samples, 200 * n_features)]\n",
    "\n",
    "X_train, X_test, y_train, y_test = train_test_split(X, y, test_size=.5,random_state=0)"
   ]
  },
  {
   "cell_type": "markdown",
   "metadata": {
    "collapsed": true
   },
   "source": [
    "次にモデリングを実施し、閾値を変えた値をそれぞれ取得しています。fprが偽陽性率、tprが真陽性率になります。なお、OneVsRestClassifierを使っており、これは多クラスを分類するためのモジュールですが、のちの練習問題に使うため、ここで実装しています。次の練習問題を解く時に参考にしてください。"
   ]
  },
  {
   "cell_type": "code",
   "execution_count": 155,
   "metadata": {
    "collapsed": false
   },
   "outputs": [],
   "source": [
    "classifier = OneVsRestClassifier(svm.SVC(kernel='linear', probability=True,\n",
    "                                 random_state=random_state))\n",
    "y_score = classifier.fit(X_train, y_train).decision_function(X_test)\n",
    "\n",
    "fpr = dict()\n",
    "tpr = dict()\n",
    "roc_auc = dict()\n",
    "for i in range(n_classes):\n",
    "    fpr[i], tpr[i], _ = roc_curve(y_test[:, i], y_score[:, i])\n",
    "    roc_auc[i] = auc(fpr[i], tpr[i])"
   ]
  },
  {
   "cell_type": "markdown",
   "metadata": {
    "collapsed": true
   },
   "source": [
    "ROC曲線は横軸に偽陽性率、縦軸に真陽性率をとり、曲線を引いていきます。このROC曲線が左上に寄っていればいるほどほど良いモデルといえます。"
   ]
  },
  {
   "cell_type": "code",
   "execution_count": 89,
   "metadata": {
    "collapsed": false,
    "nbpresent": {
     "id": "ced115d8-5130-4f40-b7d2-391137bc044d"
    }
   },
   "outputs": [
    {
     "data": {
      "text/plain": [
       "<matplotlib.legend.Legend at 0x113f85710>"
      ]
     },
     "execution_count": 89,
     "metadata": {},
     "output_type": "execute_result"
    },
    {
     "data": {
      "image/png": "[encoded data removed]",
      "text/plain": [
       "<matplotlib.figure.Figure at 0x1107e3a20>"
      ]
     },
     "metadata": {},
     "output_type": "display_data"
    }
   ],
   "source": [
    "%matplotlib inline\n",
    "\n",
    "#点のプロット\n",
    "plt.plot(fpr[0], tpr[0], color='red',lw= 2, label='ROC curve (area = %0.2f)' % roc_auc[0])\n",
    "plt.plot([0, 1], [0, 1], color='black', lw= 2, linestyle='--')\n",
    "plt.xlim([0.0, 1.0])\n",
    "plt.ylim([0.0, 1.05])\n",
    "\n",
    "#ラベルなど\n",
    "plt.xlabel('False Positive Rate')\n",
    "plt.ylabel('True Positive Rate')\n",
    "plt.title('Receiver operating characteristic')\n",
    "plt.legend(loc=\"best\")"
   ]
  },
  {
   "cell_type": "markdown",
   "metadata": {
    "nbpresent": {
     "id": "4d56f93e-9077-4c05-a919-47a89c207c02"
    }
   },
   "source": [
    "参照URL：http://scikit-learn.org/stable/auto_examples/model_selection/plot_roc.html#sphx-glr-auto-examples-model-selection-plot-roc-py"
   ]
  },
  {
   "cell_type": "markdown",
   "metadata": {
    "collapsed": true
   },
   "source": [
    "上記の黒点線はランダムな場合の結果で、ROCは赤の曲線になります。AUC(Area Under the Curve)というROC曲線を利用したモデル評価の指標もあります。その名の通り、ROC曲線の下側の面積（area=0.99）のことで、最大値は1になり、1に近ければ近いほど良いモデルになります。"
   ]
  },
  {
   "cell_type": "markdown",
   "metadata": {
    "collapsed": true
   },
   "source": [
    "以上でROC曲線の説明は終わりになります。このROC曲線やAUCも数値が良ければいいというだけではなく、ビジネス的な要求や背景を理解して、閾値を設定する必要があります。適合率を重視するのか、再現率を重視するのか、目的によって用途は異なってきます。\n",
    "\n",
    "例えば、ある商品を買う確率を予測して、その確率を高めるために、高い人たちに何かのサービスを提供するとします。その確率が50%以上の人を選ぶのと、30%以上の人を選ぶのでは、指標の大きさも異なってきますし、そのコストも変わってきます。例えば、確率が高い人たちを選んで、何かのインセンティブ（おまけ、クーポンなど）を付与する場合には、その費用を考慮する必要があります。このようなコスト（ROIとの関係性）も考えて、利益を出せるのかどうか、本当にその人たち全員にアプローチできるかどうかなど様々なことを考慮する必要があります。\n",
    "\n",
    "ここが、ビジネスでは大変な部分でもあります。もし現場で使う場合には、ただ正解率やROC曲線を出すだけではなく、これらの結果をどう使ったら良いのかよく考えて、分析業務を進めていきましょう。"
   ]
  },
  {
   "cell_type": "markdown",
   "metadata": {
    "collapsed": true
   },
   "source": [
    "以下の参考文献は、Python等の実装はありませんが、上記で説明したROC曲線や混同行列について詳しく載っていますので、復習のためにぜひ目を通してください。また、ビジネス的な視点でデータサイエンスを記載されていますので、参考になります。"
   ]
  },
  {
   "cell_type": "markdown",
   "metadata": {
    "collapsed": true
   },
   "source": [
    ">[参考文献]\n",
    "\n",
    ">『戦略的データサイエンス入門 ―ビジネスに活かすコンセプトとテクニック』（Foster Provost (著), Tom Fawcett (著), 竹田 正和(監訳) (翻訳), 古畠 敦 (翻訳)、オライリージャパン）"
   ]
  },
  {
   "cell_type": "markdown",
   "metadata": {},
   "source": [
    "#### <練習問題 1>\n",
    "\n",
    "irisデータに対して、モデリングを実施（目的変数iris.targetを予測）し、ROC曲線とAUCを計算してみましょう。"
   ]
  },
  {
   "cell_type": "markdown",
   "metadata": {
    "nbpresent": {
     "id": "5cc57df7-9470-4e17-94f9-856397f3b500"
    }
   },
   "source": [
    "## 9.4 シミュレーションと計算統計学の基礎\n",
    "ゴール：シミュレーションと計算統計学の基本的な考え方を理解し、簡単な実装できること"
   ]
  },
  {
   "cell_type": "markdown",
   "metadata": {
    "collapsed": true
   },
   "source": [
    "### 9.4.1 ジャックナイフ法\n",
    "キーワード：ジャックナイフ法、交差検証法"
   ]
  },
  {
   "cell_type": "markdown",
   "metadata": {},
   "source": [
    "ここからシミュレーションや計算統計学の基礎について学びます。これらの分野を学ぶモチベーションとしては、前述した通りで、現実的にデータは完全ではないことが多く、また理論的な計算が困難なモデルもあり、それらに対していかにアプローチしていくかを考えます。\n",
    "\n",
    "まずは、**ジャックナイフ法**です。これは、先ほど学んだ交差検証法の1つデータ抜きバージョンに近いイメージです。データがN個あった場合に、1個だけデータを取り除き、残りのN-1個で推定量の値を計算します。ここでデータは重複を許さずに抽出して（非復元抽出）、計算します。これをN個のデータに対して繰り返し計算し、推定量の標準誤差を推定します。"
   ]
  },
  {
   "cell_type": "markdown",
   "metadata": {},
   "source": [
    "ここでジャックナイフ法を使って、簡単な例を見てみましょう。以下は、1章と同じデータを標準正規分布から1000個生成して、標準誤差を推定しています。"
   ]
  },
  {
   "cell_type": "code",
   "execution_count": 35,
   "metadata": {
    "collapsed": false
   },
   "outputs": [],
   "source": [
    "# 乱数の発生のためのモジュール読み込み\n",
    "import numpy.random as random\n",
    "import numpy as np\n",
    "%precision 3\n",
    "\n",
    "random.seed(0)\n",
    "\n",
    "# 正規分布（平均0、分散1）の乱数を1000個発生\n",
    "norm_random_sample_data = random.randn(1000)"
   ]
  },
  {
   "cell_type": "code",
   "execution_count": 36,
   "metadata": {
    "collapsed": false
   },
   "outputs": [],
   "source": [
    "i = 0\n",
    "mean_array = np.array([])\n",
    "for i in range(0,len(norm_random_sample_data)):\n",
    "    ind = np.ones(1000, dtype=bool)\n",
    "    extract_num = [i]\n",
    "    ind[i] = False\n",
    "    mean_array = np.append(mean_array,norm_random_sample_data[ind].mean())"
   ]
  },
  {
   "cell_type": "code",
   "execution_count": 37,
   "metadata": {
    "collapsed": false
   },
   "outputs": [],
   "source": [
    "x = (mean_array - mean_array.mean())**2"
   ]
  },
  {
   "cell_type": "code",
   "execution_count": 38,
   "metadata": {
    "collapsed": false
   },
   "outputs": [
    {
     "data": {
      "text/plain": [
       "0.031"
      ]
     },
     "execution_count": 38,
     "metadata": {},
     "output_type": "execute_result"
    }
   ],
   "source": [
    "np.sqrt(x.sum() * 99/100)"
   ]
  },
  {
   "cell_type": "markdown",
   "metadata": {},
   "source": [
    "なお、ジャックナイフ法は以下で紹介するブートストラップ法よりも計算量が減りますが、適応できる推定量の範囲が多少狭くなったりするなど課題もあります。"
   ]
  },
  {
   "cell_type": "markdown",
   "metadata": {
    "collapsed": true,
    "nbpresent": {
     "id": "45924e69-07ed-4274-85b8-2c6ac3827c57"
    }
   },
   "source": [
    "### 9.4.2 ブートストラップ法\n",
    "キーワード：ブートストラップ法、復元抽出"
   ]
  },
  {
   "cell_type": "markdown",
   "metadata": {
    "nbpresent": {
     "id": "eca17617-2ea3-4c3b-ba1c-2ca28d1ebfec"
    }
   },
   "source": [
    "次は、**ブートストラップ法**です。先ほどは、データの非復元抽出でデータを抜き出しましたが、このブートストラップ法は復元抽出でデータを取り出します。後で学ぶアンサンブル学習で使います。\n",
    "\n",
    "以下は簡単な例ですが、データ1000個の中から、500個をリサンプリグして平均を計算し、標準誤差を算出しています。"
   ]
  },
  {
   "cell_type": "code",
   "execution_count": 39,
   "metadata": {
    "collapsed": false
   },
   "outputs": [],
   "source": [
    "i = 0\n",
    "random.seed(0)\n",
    "mean_array_boot = np.array([])\n",
    "for i in range(0,len(norm_random_sample_data)):\n",
    "    mean_array_boot = np.append(mean_array_boot,random.choice(norm_random_sample_data,500,replace=True).mean())"
   ]
  },
  {
   "cell_type": "code",
   "execution_count": 40,
   "metadata": {
    "collapsed": false
   },
   "outputs": [],
   "source": [
    "x = (mean_array_boot - mean_array_boot.mean())**2"
   ]
  },
  {
   "cell_type": "code",
   "execution_count": 41,
   "metadata": {
    "collapsed": false
   },
   "outputs": [
    {
     "data": {
      "text/plain": [
       "0.042"
      ]
     },
     "execution_count": 41,
     "metadata": {},
     "output_type": "execute_result"
    }
   ],
   "source": [
    "np.sqrt(x.sum() /1000)"
   ]
  },
  {
   "cell_type": "markdown",
   "metadata": {},
   "source": [
    "このブートストラップ法は、以下で学ぶアンサンブル学習以外にも、様々な場面で応用されており、データサイエンスを学んでいると必ず見る手法になると思いますので、基本的なイメージはできるようにしておきましょう。"
   ]
  },
  {
   "cell_type": "markdown",
   "metadata": {
    "collapsed": true
   },
   "source": [
    "### 9.4.3 EMアルゴリズム\n",
    "キーワード：EMアルゴリズム、最尤法"
   ]
  },
  {
   "cell_type": "markdown",
   "metadata": {},
   "source": [
    "この節の最後に、計算統計学でよく出てくるEMアルゴリズムについて説明します。また、EMアルゴリズムは機械学習の専門書などでもよく扱われます。\n",
    "\n",
    "**EMアルゴリズム**とは、不完全なデータについて、最尤法に基づいた推測をするための手法です。計算ステップとしては、期待値計算ステップ（Expectation）と最大化ステップ（Maximization）を反復することで、尤度が最大となるパラメータを計算します。これがEMアルゴリズムと言われるゆえんです。本講座の1章確率統計の基礎で最尤法について学びましたが、このEMアルゴリズムは（対数）尤度関数を最大化する計算をします。"
   ]
  },
  {
   "cell_type": "markdown",
   "metadata": {},
   "source": [
    "ここでは実装しませんが、EMアルゴリズムの詳しい説明や実装については、以下が参考になりますので、ぜひ読んでみてください。"
   ]
  },
  {
   "cell_type": "markdown",
   "metadata": {
    "collapsed": true
   },
   "source": [
    ">[参考文献]\n",
    "\n",
    ">『ITエンジニアのための機械学習理論入門』（中井 悦司  (著)、技術評論社）\n",
    "\n",
    ">[参照URL]\n",
    "\n",
    ">http://d.hatena.ne.jp/teramonagi/20120909/1347194703"
   ]
  },
  {
   "cell_type": "markdown",
   "metadata": {},
   "source": [
    "補足ですが、このEMアルゴリズムは前の章で学んだ教師なし学習k-meansとも関係あります。k-meansの計算ステップを簡単に思い出しますと、はじめに適当に点を取って、そこに近い点を結びつけて中心をとり、その計算を繰り返しました。他、EMアルゴリズムは教師なし学習で少し触れたソフトクラスタリングで最尤法を計算する時（混合ガウスモデル）に使いますので、興味のある方は、上記の本や、後で紹介する参考文献等を見てください。"
   ]
  },
  {
   "cell_type": "markdown",
   "metadata": {},
   "source": [
    "あと計算統計学の分野としては、前半で学んだモンテカルロ法やMCMC（マルコフ連鎖モンテカルロ法）や、EMアルゴリズムを応用した例（隠れマルコフモデルなど）が色々とあります。計算統計学について、もっと学びたい方は以下のような文献がありますので、今後の学習の参考にしてください。"
   ]
  },
  {
   "cell_type": "markdown",
   "metadata": {
    "collapsed": true
   },
   "source": [
    ">[参考文献]\n",
    "\n",
    ">『計算統計学の方法』（小西 貞則  (著), 越智 義道  (著), 大森 裕浩  (著)、朝倉書店）"
   ]
  },
  {
   "cell_type": "markdown",
   "metadata": {
    "nbpresent": {
     "id": "8dde98a1-c217-435e-8e40-04726f81c810"
    }
   },
   "source": [
    "## 9.5 アンサンブル学習\n",
    "ゴール：アンサンブルの基本的な手法（バギング、ブースティング、ランダムフォレスト）について理解して、実装ができること"
   ]
  },
  {
   "cell_type": "markdown",
   "metadata": {
    "collapsed": true,
    "nbpresent": {
     "id": "e6915802-e367-4954-a288-d6eb60679066"
    }
   },
   "source": [
    "### 9.5.1 バギング\n",
    "キーワード：バギング"
   ]
  },
  {
   "cell_type": "markdown",
   "metadata": {
    "collapsed": true,
    "nbpresent": {
     "id": "2fe0b239-51f7-43bb-8d66-663806a9bae8"
    }
   },
   "source": [
    "バギングは、ブートストラップを寄せ集めることをいいます。ブートストラップですので、データを復元抽出して、その各標本に対して一つ一つモデルを作成します。そのあとに、そのモデルの結果で多数決を取ったり、平均を計算したりします。バギングは、モデルのバリアンスが大きいときに有効です。"
   ]
  },
  {
   "cell_type": "markdown",
   "metadata": {
    "collapsed": true
   },
   "source": [
    "以下が実装になります。BaggingClassifierを使います。"
   ]
  },
  {
   "cell_type": "code",
   "execution_count": 42,
   "metadata": {
    "collapsed": false,
    "nbpresent": {
     "id": "4e01bf25-8206-4766-91b0-4e0630bae663"
    }
   },
   "outputs": [
    {
     "name": "stdout",
     "output_type": "stream",
     "text": [
      "train: BaggingClassifier 0.943661971831\n",
      "test: BaggingClassifier 0.916083916084\n"
     ]
    }
   ],
   "source": [
    "from sklearn.ensemble import BaggingClassifier\n",
    "from sklearn.neighbors import KNeighborsClassifier\n",
    "\n",
    "bagging = BaggingClassifier(KNeighborsClassifier(),max_samples=0.5, max_features=0.5)\n",
    "\n",
    "from sklearn.model_selection import train_test_split\n",
    "from sklearn.datasets import load_breast_cancer\n",
    "\n",
    "cancer = load_breast_cancer()\n",
    "X_train, X_test, y_train, y_test = train_test_split(\n",
    "    cancer.data, cancer.target, stratify = cancer.target, random_state=66)\n",
    "\n",
    "clf =bagging\n",
    "clf.fit(X_train, y_train)\n",
    "print(\"train:\",clf.__class__.__name__ ,clf.score(X_train,y_train))\n",
    "print(\"test:\",clf.__class__.__name__ , clf.score(X_test,y_test))"
   ]
  },
  {
   "cell_type": "markdown",
   "metadata": {
    "collapsed": true,
    "nbpresent": {
     "id": "3ab7decc-5e67-427c-a056-efcad0844eec"
    }
   },
   "source": [
    "### 9.5.2 ブースティング\n",
    "キーワード：ブースティング、アダブースト"
   ]
  },
  {
   "cell_type": "markdown",
   "metadata": {
    "collapsed": true,
    "nbpresent": {
     "id": "5590361b-9271-466b-b251-28ed37166496"
    }
   },
   "source": [
    "先ほどのバギングはブートストラップのため個別のグループで計算で、並列計算になりますが、ブースティングは逐次的に計算をしていき、これがバギングと異なる点です。ブースティング（ここではアダブースト）には分類（AdaBoostClassifier）と回帰（AdaBoostRegressor）があり、以下は分類のモデルを作成しています。なお、ブースティングは、分類器のバイアスが高いときに有効です。"
   ]
  },
  {
   "cell_type": "markdown",
   "metadata": {
    "collapsed": true
   },
   "source": [
    "実装は以下で、AdaBoostClassifierを使います。"
   ]
  },
  {
   "cell_type": "code",
   "execution_count": 5,
   "metadata": {
    "collapsed": false,
    "nbpresent": {
     "id": "bbc868c4-04cb-4bd4-98f5-5f5cbec214f7"
    }
   },
   "outputs": [
    {
     "name": "stdout",
     "output_type": "stream",
     "text": [
      "train: AdaBoostClassifier 1.0\n",
      "test: AdaBoostClassifier 0.951048951049\n"
     ]
    }
   ],
   "source": [
    "from sklearn.ensemble import AdaBoostClassifier\n",
    "from sklearn.model_selection import train_test_split\n",
    "from sklearn.datasets import load_breast_cancer\n",
    "\n",
    "cancer = load_breast_cancer()\n",
    "X_train, X_test, y_train, y_test = train_test_split(\n",
    "    cancer.data, cancer.target, stratify = cancer.target, random_state=66)\n",
    "\n",
    "clf = AdaBoostClassifier(learning_rate=1.0)\n",
    "clf.fit(X_train, y_train)\n",
    "print(\"train:\",clf.__class__.__name__ ,clf.score(X_train,y_train))\n",
    "print(\"test:\",clf.__class__.__name__ , clf.score(X_test,y_test)) # 若干、オーバーフィッティングしている"
   ]
  },
  {
   "cell_type": "markdown",
   "metadata": {
    "collapsed": true
   },
   "source": [
    "上記の結果は、学習データが正解率100%になってテストデータで95%になっているため、過学習気味になっているようです。このモデルでは、learning rateによってあてはまりの強さを調整できます。ここでは1としましたが、値を色々と変えて試してみて下さい。"
   ]
  },
  {
   "cell_type": "markdown",
   "metadata": {},
   "source": [
    ">**[やってみよう]**\n",
    "\n",
    ">アダブーストについてのパラメータについて調べてみましょう。上の過学習を防ぐために、どうやってパラメータを設定しますか。"
   ]
  },
  {
   "cell_type": "markdown",
   "metadata": {
    "collapsed": true
   },
   "source": [
    "以下は、パラメータ調整の参考コードです。ただし、この結果を利用しても、新しい未知のデータに対して予測がうまくできず、過学習になる可能性があります。そのため、冒頭で述べた学習用データと検証用データとテストデータを用意し、学習用データと検証用データでパラメータを調整し、最後にテストデータで結果を見るというアプローチを取ります。"
   ]
  },
  {
   "cell_type": "code",
   "execution_count": 45,
   "metadata": {
    "collapsed": false,
    "nbpresent": {
     "id": "bbc868c4-04cb-4bd4-98f5-5f5cbec214f7"
    }
   },
   "outputs": [],
   "source": [
    "# パラメータを設定してループでまわす\n",
    "score_list = []\n",
    "\n",
    "for r in np.arange(0.00001,2,0.01):    \n",
    "    clf = AdaBoostClassifier(learning_rate=r)\n",
    "    clf.fit(X_train, y_train)\n",
    "    score_list.append([r,clf.score(X_test,y_test)])"
   ]
  },
  {
   "cell_type": "code",
   "execution_count": 46,
   "metadata": {
    "collapsed": false
   },
   "outputs": [
    {
     "data": {
      "image/png": "[encoded data removed]",
      "text/plain": [
       "<matplotlib.figure.Figure at 0x1148616a0>"
      ]
     },
     "metadata": {},
     "output_type": "display_data"
    }
   ],
   "source": [
    "score_list_df = pd.DataFrame(score_list)\n",
    "score_list_df.columns= [\"r\",\"score\"]\n",
    "\n",
    "plt.plot(score_list_df.r,score_list_df.score)\n",
    "plt.xlabel(\"learning rate\")\n",
    "plt.ylabel(\"test score\")\n",
    "plt.grid(True)"
   ]
  },
  {
   "cell_type": "markdown",
   "metadata": {
    "collapsed": true,
    "nbpresent": {
     "id": "3a9f1179-e831-4309-b484-956d56d31bff"
    }
   },
   "source": [
    "### 9.5.3 ランダムフォレスト\n",
    "キーワード：ランダムフォレスト、特徴量の重要度"
   ]
  },
  {
   "cell_type": "markdown",
   "metadata": {
    "collapsed": true,
    "nbpresent": {
     "id": "e74ef6b4-04aa-4c74-8fbc-1a0a657ccaf7"
    }
   },
   "source": [
    "ランダムフォレストとは複数の決定木を組み合わせる方法で、これもアンサンブル手法の1つで、バギングを改良した方法です。個別の決定木よりも汎化性能が高く、データの外れ値の影響を受けにくいです。ただし、解釈が難しく、その計算ロジックを説明するのも困難ですので、現場の状況に応じて使いましょう。"
   ]
  },
  {
   "cell_type": "markdown",
   "metadata": {
    "collapsed": true
   },
   "source": [
    "ここではランダムフォレストの詳しいアルゴリズムの解説等はしませんが、以下のサイトなどを参考にしてください。"
   ]
  },
  {
   "cell_type": "markdown",
   "metadata": {},
   "source": [
    ">[参考URL]\n",
    "\n",
    ">https://ja.wikipedia.org/wiki/ランダムフォレスト"
   ]
  },
  {
   "cell_type": "markdown",
   "metadata": {
    "collapsed": true
   },
   "source": [
    "次は、実装例です。cancerのデータを使って、モデルを構築、検証しています。"
   ]
  },
  {
   "cell_type": "code",
   "execution_count": 44,
   "metadata": {
    "collapsed": false,
    "nbpresent": {
     "id": "b3e4a413-9116-4c83-b514-85d691b3c5b4"
    }
   },
   "outputs": [
    {
     "name": "stdout",
     "output_type": "stream",
     "text": [
      "train: RandomForestClassifier 1.0\n",
      "test: RandomForestClassifier 0.923076923077\n"
     ]
    }
   ],
   "source": [
    "import numpy as np\n",
    "import matplotlib.pyplot as plt\n",
    "# ランダムフォレスト\n",
    "from sklearn.ensemble import RandomForestClassifier\n",
    "\n",
    "from sklearn.model_selection import train_test_split\n",
    "from sklearn.datasets import load_breast_cancer\n",
    "\n",
    "cancer = load_breast_cancer()\n",
    "X_train, X_test, y_train, y_test = train_test_split(\n",
    "    cancer.data, cancer.target, stratify = cancer.target, random_state=66)\n",
    "\n",
    "f_model=RandomForestClassifier()\n",
    "clf = f_model.fit(X_train,y_train)\n",
    "print(\"train:\",clf.__class__.__name__ ,clf.score(X_train,y_train))\n",
    "print(\"test:\",clf.__class__.__name__ , clf.score(X_test,y_test))"
   ]
  },
  {
   "cell_type": "markdown",
   "metadata": {
    "collapsed": true,
    "nbpresent": {
     "id": "792970a3-69e9-43c4-941c-96b15abc9241"
    }
   },
   "source": [
    "なお、それぞれの特徴量の重要度については、feature_importances_で抽出することができます。それぞれの数値を足すと1になるように正規化されており、相対的な重要度のランキングになっています。"
   ]
  },
  {
   "cell_type": "code",
   "execution_count": 45,
   "metadata": {
    "collapsed": false,
    "nbpresent": {
     "id": "9b799e4e-a621-40ab-ab75-43a3d4f93787"
    }
   },
   "outputs": [
    {
     "data": {
      "image/png": "[encoded data removed]",
      "text/plain": [
       "<matplotlib.figure.Figure at 0x10e1adc18>"
      ]
     },
     "metadata": {},
     "output_type": "display_data"
    }
   ],
   "source": [
    "%matplotlib inline\n",
    "\n",
    "importances = f_model.feature_importances_\n",
    "indi = np.argsort(importances)[::-1]\n",
    "\n",
    "label = cancer.feature_names\n",
    "\n",
    "plt.bar(range(X_train.shape[1]),importances[indi])\n",
    "plt.xticks(range(X_train.shape[1]),label[indi],rotation=90)\n",
    "plt.grid(True)\n",
    "plt.tight_layout()"
   ]
  },
  {
   "cell_type": "markdown",
   "metadata": {
    "collapsed": true,
    "nbpresent": {
     "id": "1ce0b765-9b83-4b45-96aa-c623b52c56a3"
    }
   },
   "source": [
    "以上で、本章のモデル検証やチューニング方法についての解説は終わりになります。お疲れ様でした。"
   ]
  },
  {
   "cell_type": "markdown",
   "metadata": {
    "collapsed": true,
    "nbpresent": {
     "id": "d97a2772-62da-426b-af39-ee8a179be1e8"
    }
   },
   "source": [
    "アンサンブル学習については、ここで紹介した以外の手法もいろいろとありますので、下記のサイト等が参考になります。他、scikit-learnには実に様々なモジュール（データのケーリングから検証までの一貫処理をサポートするPiplelineなど）がありますので、便利です。"
   ]
  },
  {
   "cell_type": "markdown",
   "metadata": {},
   "source": [
    ">[参考URL]\n",
    "\n",
    ">http://scikit-learn.org/stable/modules/ensemble.html"
   ]
  },
  {
   "cell_type": "markdown",
   "metadata": {
    "collapsed": true
   },
   "source": [
    "さらに参考ですが、今後の学習のための参考書を紹介します。後半は少し難易度がある機械学習の本で、より理論的な知識や実装を身につけたい方には以下がオススメです。ある程度数学的なバックグランドも必要ですが、この講座を終えた後であれば大丈夫だと思います。"
   ]
  },
  {
   "cell_type": "markdown",
   "metadata": {
    "collapsed": true,
    "nbpresent": {
     "id": "933b45f0-eb11-41b3-8bf0-97663da0376b"
    }
   },
   "source": [
    ">[参考文献]\n",
    "\n",
    ">『はじめてのパターン認識』（平井 有三 (著)、森北出版）\n",
    "\n",
    ">『ITエンジニアのための機械学習理論入門』（中井 悦司  (著)、技術評論社）\n",
    "\n",
    ">『Python Machine Learning』（Sebastian Raschka、Packt Publishing Ltd.、翻訳：Python機械学習プログラミング）\n",
    "\n",
    ">『Python for Probability, Statistics, and Machine Learning』（Jose Unpingco、翻訳：科学技術計算のためのPython＜確率・統計・機械学習＞）"
   ]
  },
  {
   "cell_type": "markdown",
   "metadata": {
    "collapsed": true,
    "nbpresent": {
     "id": "ff81feaa-f2c9-47f7-a4d9-cdeef082c401"
    }
   },
   "source": [
    "上記はどちらかというと比較的数式が多く、あまりビジネス的な視点では多くは書かれていません。以下の参考文献は、ビジネスでデータサイエンスを活かす視点で記載されていますので、ぜひ参考にしてください。(最後の洋書は実装はなく、数式が若干ありますが、ビジネス的な観点もしっかり書いてありますので、オススメです。)"
   ]
  },
  {
   "cell_type": "markdown",
   "metadata": {
    "collapsed": true,
    "nbpresent": {
     "id": "13330cae-4baf-4bc9-b98b-b500d6fcb83d"
    }
   },
   "source": [
    ">[参考文献]\n",
    "\n",
    ">『戦略的データサイエンス入門 ―ビジネスに活かすコンセプトとテクニック』（Foster Provost (著), Tom Fawcett (著), 竹田 正和(監訳) (翻訳), 古畠 敦 (翻訳)、オライリージャパン）\n",
    "\n",
    ">『データサイエンス講義』（Rachel Schutt (著), Cathy O'Neil (著), 瀬戸山 雅人  (翻訳), 石井 弓美子 (翻訳), & 7 その他、オライリージャパン）\n",
    "\n",
    ">『データ分析プロジェクトの手引: データの前処理から予測モデルの運用までを俯瞰する20章』（David Nettleton (著), 市川 太祐 (翻訳), 島田 直希 (翻訳)、共立出版）\n",
    "\n",
    ">『Fundamentals of Machine Learning for Predictive Data Analytics: Algorithms, Worked Examples, and Case Studies (MIT Press) 』（John D. Kelleher  (著), Brian Mac Namee  (著), Aoife D'Arcy  (著), The MIT Press ）"
   ]
  },
  {
   "cell_type": "markdown",
   "metadata": {
    "nbpresent": {
     "id": "6b498642-823c-4eee-b6bb-fc237e248240"
    }
   },
   "source": [
    "## 9.6 総合問題"
   ]
  },
  {
   "cell_type": "markdown",
   "metadata": {
    "collapsed": true,
    "nbpresent": {
     "id": "0950100e-332d-4f7d-a865-47c554e73ef8"
    }
   },
   "source": [
    "### 9.6.1 総合問題1"
   ]
  },
  {
   "cell_type": "markdown",
   "metadata": {},
   "source": [
    "データload_breast_cancerを使って、目的変数をcancer.targetとして、予測モデル（ロジスティック回帰、SVM、決定木、k-NN、ランダムフォレスト）を構築し、交差検証（5分割）によりどのモデルが一番良いでしょうか。実装してください。"
   ]
  }
 ],
 "metadata": {
  "anaconda-cloud": {},
  "kernelspec": {
   "display_name": "Python 3",
   "language": "python",
   "name": "python3"
  },
  "language_info": {
   "codemirror_mode": {
    "name": "ipython",
    "version": 3
   },
   "file_extension": ".py",
   "mimetype": "text/x-python",
   "name": "python",
   "nbconvert_exporter": "python",
   "pygments_lexer": "ipython3",
   "version": "3.6.0"
  },
  "nbpresent": {
   "slides": {
    "4ac36045-0899-4948-a386-6e758a2ecfb5": {
     "id": "4ac36045-0899-4948-a386-6e758a2ecfb5",
     "prev": null,
     "regions": {
      "e61c6e12-b404-46aa-9d8d-e736102d1084": {
       "attrs": {
        "height": 1,
        "width": 1,
        "x": 0,
        "y": 0
       },
       "id": "e61c6e12-b404-46aa-9d8d-e736102d1084"
      }
     }
    }
   },
   "themes": {}
  }
 },
 "nbformat": 4,
 "nbformat_minor": 0
}

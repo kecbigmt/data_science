{
 "cells": [
  {
   "cell_type": "markdown",
   "metadata": {
    "nbpresent": {
     "id": "0d4629d5-02e5-446b-8945-77a14085a9db"
    },
    "slideshow": {
     "slide_type": "slide"
    }
   },
   "source": [
    "# 9 モデルの検証方法とチューニング方法  練習と総合問題解答"
   ]
  },
  {
   "cell_type": "markdown",
   "metadata": {
    "nbpresent": {
     "id": "b1148877-ff04-4635-a794-1de257853078"
    },
    "slideshow": {
     "slide_type": "slide"
    }
   },
   "source": [
    "- **[9.1 この章で学ぶこと](#9.1-この章で学ぶこと)**\n",
    "    - [9.1.1 過学習の対処法とモデルチューニング方法](#9.1.1-過学習の対処法とモデルチューニング方法)\n",
    "    - [9.1.2 混同行列とROC曲線](#9.1.2-混同行列とROC曲線)\n",
    "    - [9.1.3 シミュレーションと計算統計学の基礎](#9.1.3-シミュレーションと計算統計学の基礎)\n",
    "    - [9.1.4 アンサンブル学習](#9.1.4-アンサンブル学習)\n",
    "<br><br>\n",
    "- **[9.2 過学習の対処法とモデルチューニング方法](#9.2-過学習の対処法とモデルチューニング方法)** \n",
    "    - [9.2.1 ホールドアウト法と交差検証法](#9.2.1-ホールドアウト法と交差検証法)\n",
    "    - [9.2.2 グリッドサーチ](#9.2.2-グリッドサーチ)\n",
    "    - [9.2.3 モデル構築期間やその他](#9.2.3-モデル構築期間やその他)\n",
    "    - [9.2.4 特徴量の扱い](#9.2.4-特徴量の扱い)\n",
    "<br><br> \n",
    "- **[9.3 混同行列とROC曲線](#9.3-混同行列とROC曲線)** \n",
    "    - [9.3.1 混同行列](#9.3.1-混同行列)\n",
    "    - [9.3.2 ROC曲線とAUC](#9.3.2-ROC曲線とAUC)\n",
    "<br><br>\n",
    "- **[9.4 シミュレーションと計算統計学の基礎](#9.4-シミュレーションと計算統計学の基礎)**\n",
    "    - [9.4.1 ジャックナイフ法](#9.4.1-ジャックナイフ法)\n",
    "    - [9.4.2 ブートストラップ法](#9.4.2-ブートストラップ法)\n",
    "    - [9.4.3 EMアルゴリズム](#9.4.3-EMアルゴリズム)\n",
    "<br><br>\n",
    "- **[9.5 アンサンブル学習](#9.5-アンサンブル学習)**\n",
    "    - [9.5.1 バギング](#9.5.1-バギング)\n",
    "    - [9.5.2 ブースティング](#9.5.2-ブースティング)\n",
    "    - [9.5.3 ランダムフォレスト](#9.5.3-ランダムフォレスト)\n",
    "<br><br>\n",
    "- **[9.6 総合問題](#9.6-総合問題)**\n",
    "    - [9.6.1 総合問題1](#9.6.1-総合問題1)\n",
    "    - [9.6.2 総合問題2](#9.6.2-総合問題2)"
   ]
  },
  {
   "cell_type": "markdown",
   "metadata": {
    "nbpresent": {
     "id": "94019007-0a8e-4fb5-ade4-82a9a51f163f"
    }
   },
   "source": [
    "## 9.1 この章で学ぶこと\n",
    "ゴール：モデルを構築するときの注意点や検証の方法の概要を知る"
   ]
  },
  {
   "cell_type": "markdown",
   "metadata": {
    "nbpresent": {
     "id": "8eb8fc4e-5670-44d5-9ba4-88b78495d88a"
    }
   },
   "source": [
    "## 9.2 過学習の対処法とモデルチューニング方法\n",
    "ゴール：モデルの過学習を防ぎ、より良い予測モデルを構築する方法を知る"
   ]
  },
  {
   "cell_type": "markdown",
   "metadata": {
    "nbpresent": {
     "id": "6691bdfb-77c1-4f01-b394-85590cc685fe"
    }
   },
   "source": [
    "### 9.2.1 ホールドアウト法と交差検証法\n",
    "キーワード：過学習、ホールドアウト法、交差検証法"
   ]
  },
  {
   "cell_type": "markdown",
   "metadata": {},
   "source": [
    "#### <練習問題 1>\n",
    "\n",
    "上記のデータに対して、異なるモデル（ロジスティック回帰分析など）を作成し、交差検証を実施してみましょう。上記のモデルの結果と比較して、違いはありますか。"
   ]
  },
  {
   "cell_type": "code",
   "execution_count": 19,
   "metadata": {
    "collapsed": false
   },
   "outputs": [
    {
     "name": "stdout",
     "output_type": "stream",
     "text": [
      "Cross validation scores:[ 0.93043478  0.93913043  0.97345133  0.94690265  0.96460177]\n",
      "Cross validation scores(mean):0.95\n"
     ]
    }
   ],
   "source": [
    "# 解答\n",
    "# ロジスティック回帰\n",
    "from sklearn.linear_model import LogisticRegression\n",
    "# 分析対象データ\n",
    "from sklearn.datasets import load_breast_cancer\n",
    "\n",
    "# データの読み込み\n",
    "cancer = load_breast_cancer()\n",
    "\n",
    "lgmodel = LogisticRegression()\n",
    "\n",
    "# 交差検証法\n",
    "from sklearn.cross_validation import cross_val_score\n",
    "\n",
    "# cv　で分割数を決定する。デフォルトは3。\n",
    "scores = cross_val_score(lgmodel,cancer.data,cancer.target,cv=5)\n",
    "\n",
    "# 93~97%で高め\n",
    "print(\"Cross validation scores:{}\".format(scores))\n",
    "print(\"Cross validation scores(mean):{:.2f}\".format(scores.mean()))"
   ]
  },
  {
   "cell_type": "markdown",
   "metadata": {
    "nbpresent": {
     "id": "6f0eec39-4efb-4ee4-b8f3-c7145f918c2a"
    }
   },
   "source": [
    "### 9.2.2 グリッドサーチ\n",
    "キーワード：グリッドサーチ"
   ]
  },
  {
   "cell_type": "markdown",
   "metadata": {},
   "source": [
    "#### <練習問題 1>\n",
    "\n",
    "上記のデータに対して、決定木を使って、交差検証とグリッドサーチを実施してみましょう。なお、決定木のパラメータは深さなので、それをparam_grid = {'max_depth': [2, 3, 4, 5], 'min_samples_leaf': [2, 3, 4, 5]}のように設定して計算しましょう。"
   ]
  },
  {
   "cell_type": "code",
   "execution_count": 22,
   "metadata": {
    "collapsed": false,
    "nbpresent": {
     "id": "acd6ce4a-78c0-4a4d-a5a1-41836fa12bf9"
    }
   },
   "outputs": [
    {
     "name": "stdout",
     "output_type": "stream",
     "text": [
      "Test set score:0.92\n",
      "Best parameters:{'min_samples_leaf': 4, 'max_depth': 4}\n",
      "Best cross-validation score:0.94\n"
     ]
    }
   ],
   "source": [
    "# 解答\n",
    "from sklearn.grid_search import GridSearchCV\n",
    "from sklearn.tree import  DecisionTreeClassifier\n",
    "from sklearn.datasets import load_breast_cancer\n",
    "from sklearn.cross_validation import train_test_split\n",
    "\n",
    "# パラメータの設定\n",
    "param_grid = {'max_depth': [2, 3, 4, 5], 'min_samples_leaf': [2, 3, 4, 5]}\n",
    "treemodel = DecisionTreeClassifier()\n",
    "grid_search = GridSearchCV(treemodel,param_grid,cv=5)\n",
    "\n",
    "# データの読み込み\n",
    "cancer = load_breast_cancer()\n",
    "X_train, X_test, y_train, y_test = train_test_split(\n",
    "    cancer.data, cancer.target, stratify = cancer.target, random_state=0)\n",
    "\n",
    "grid_search.fit(X_train,y_train)\n",
    "\n",
    "print(\"Test set score:{:.2f}\".format(grid_search.score(X_test,y_test)))\n",
    "print(\"Best parameters:{}\".format(grid_search.best_params_))\n",
    "print(\"Best cross-validation score:{:.2f}\".format(grid_search.best_score_))"
   ]
  },
  {
   "cell_type": "markdown",
   "metadata": {},
   "source": [
    "### 9.2.3 モデル構築期間やその他\n",
    "キーワード：データ期間、プロファイリングモデル、予測モデル、検証データ"
   ]
  },
  {
   "cell_type": "markdown",
   "metadata": {},
   "source": [
    "### 9.2.4 特徴量の扱い\n",
    "キーワード：特徴選択、特徴抽出"
   ]
  },
  {
   "cell_type": "markdown",
   "metadata": {
    "nbpresent": {
     "id": "7d39acee-646e-4821-a34b-07455623ced4"
    }
   },
   "source": [
    "## 9.3 混同行列とROC曲線\n",
    "ゴール：混同行列とROC曲線を理解して、実装できる"
   ]
  },
  {
   "cell_type": "markdown",
   "metadata": {
    "nbpresent": {
     "id": "68f8e56f-776d-47fa-b5d7-d6a2f58e8c4a"
    }
   },
   "source": [
    "### 9.3.1 混同行列\n",
    "キーワード：混同行列、正解率、適合率、再現率、F1値"
   ]
  },
  {
   "cell_type": "markdown",
   "metadata": {},
   "source": [
    "#### <練習問題 1>\n",
    "\n",
    "上記のデータに対して、異なるモデル（ロジスティック回帰分析など）を作成し、混同行列を作り、テストデータにおける正解率、適合率、再現率、F1値を計算してみましょう。"
   ]
  },
  {
   "cell_type": "code",
   "execution_count": 30,
   "metadata": {
    "collapsed": false
   },
   "outputs": [
    {
     "name": "stdout",
     "output_type": "stream",
     "text": [
      "train(正解率): LogisticRegression 0.971830985915\n",
      "test(正解率): LogisticRegression 0.944055944056\n",
      "Confution matrix:\n",
      "[[49  4]\n",
      " [ 4 86]]\n",
      "適合率:0.956\n",
      "再現率:0.956\n",
      "F1値:0.956\n"
     ]
    }
   ],
   "source": [
    "# 解答\n",
    "# ロジスティック回帰\n",
    "from sklearn.linear_model import LogisticRegression\n",
    "# indicators\n",
    "from sklearn.metrics import precision_score,recall_score,f1_score\n",
    "# train & test data\n",
    "from sklearn.cross_validation import train_test_split\n",
    "# target data\n",
    "from sklearn.datasets import load_breast_cancer\n",
    "# confusion matrix\n",
    "from sklearn.metrics import confusion_matrix\n",
    "\n",
    "cancer = load_breast_cancer()\n",
    "X_train, X_test, y_train, y_test = train_test_split(\n",
    "    cancer.data, cancer.target, stratify = cancer.target, random_state=66)\n",
    "\n",
    "model = LogisticRegression()\n",
    "clf = model.fit(X_train,y_train)\n",
    "\n",
    "pred_svc = clf.predict(X_test)\n",
    "\n",
    "print(\"train(正解率):\",clf.__class__.__name__ ,clf.score(X_train,y_train))\n",
    "print(\"test(正解率):\",clf.__class__.__name__ , clf.score(X_test,y_test))\n",
    "\n",
    "confusion_m = confusion_matrix(y_test,pred_svc)\n",
    "print(\"Confution matrix:\\n{}\".format(confusion_m))\n",
    "print(\"適合率:%.3f\" % precision_score(y_true=y_test,y_pred=pred_svc))\n",
    "print(\"再現率:%.3f\" % recall_score(y_true=y_test,y_pred=pred_svc))\n",
    "print(\"F1値:%.3f\" % f1_score(y_true=y_test,y_pred=pred_svc))"
   ]
  },
  {
   "cell_type": "markdown",
   "metadata": {
    "nbpresent": {
     "id": "8d1b3f15-702b-4766-ad41-ab596c266c23"
    }
   },
   "source": [
    "### 9.3.2 ROC曲線とAUC\n",
    "キーワード：ROC曲線、AUC"
   ]
  },
  {
   "cell_type": "markdown",
   "metadata": {},
   "source": [
    "#### <練習問題 1>\n",
    "\n",
    "irisデータに対して、モデリングを実施（目的変数iris.targetを予測）し、ROC曲線とAUCを計算してみましょう。"
   ]
  },
  {
   "cell_type": "code",
   "execution_count": 34,
   "metadata": {
    "collapsed": false
   },
   "outputs": [
    {
     "data": {
      "text/plain": [
       "<matplotlib.legend.Legend at 0x10f7e5e10>"
      ]
     },
     "execution_count": 34,
     "metadata": {},
     "output_type": "execute_result"
    },
    {
     "data": {
      "image/png": "[encoded data removed]",
      "text/plain": [
       "<matplotlib.figure.Figure at 0x10f4c9588>"
      ]
     },
     "metadata": {},
     "output_type": "display_data"
    }
   ],
   "source": [
    "# 解答\n",
    "#参照URL：http://scikit-learn.org/stable/auto_examples/model_selection/plot_roc.html#sphx-glr-auto-examples-model-selection-plot-roc-py\n",
    "import numpy as np\n",
    "import matplotlib.pyplot as plt\n",
    "from itertools import cycle\n",
    "\n",
    "from sklearn import svm, datasets\n",
    "from sklearn.metrics import roc_curve, auc\n",
    "from sklearn.cross_validation import train_test_split\n",
    "from sklearn.preprocessing import label_binarize\n",
    "from sklearn.multiclass import OneVsRestClassifier\n",
    "from scipy import interp\n",
    "\n",
    "#データの準備\n",
    "iris = datasets.load_iris()\n",
    "X = iris.data\n",
    "y = iris.target\n",
    "\n",
    "y = label_binarize(y, classes=[0, 1, 2])\n",
    "n_classes = y.shape[1]\n",
    "\n",
    "random_state = np.random.RandomState(0)\n",
    "n_samples, n_features = X.shape\n",
    "X = np.c_[X, random_state.randn(n_samples, 200 * n_features)]\n",
    "\n",
    "X_train, X_test, y_train, y_test = train_test_split(X, y, test_size=.5,\n",
    "                                                    random_state=0)\n",
    "\n",
    "#モデリング\n",
    "classifier = OneVsRestClassifier(svm.SVC(kernel='linear', probability=True,\n",
    "                                 random_state=random_state))\n",
    "y_score = classifier.fit(X_train, y_train).decision_function(X_test)\n",
    "\n",
    "fpr = dict()\n",
    "tpr = dict()\n",
    "roc_auc = dict()\n",
    "for i in range(n_classes):\n",
    "    fpr[i], tpr[i], _ = roc_curve(y_test[:, i], y_score[:, i])\n",
    "    roc_auc[i] = auc(fpr[i], tpr[i])\n",
    "\n",
    "fpr[\"micro\"], tpr[\"micro\"], _ = roc_curve(y_test.ravel(), y_score.ravel())\n",
    "roc_auc[\"micro\"] = auc(fpr[\"micro\"], tpr[\"micro\"])\n",
    "\n",
    "%matplotlib inline\n",
    "plt.figure()\n",
    "lw = 2\n",
    "plt.plot(fpr[2], tpr[2], color='red',lw=lw, label='ROC curve (area = %0.2f)' % roc_auc[2])\n",
    "plt.plot([0, 1], [0, 1], color='black', lw=lw, linestyle='--')\n",
    "plt.xlim([0.0, 1.0])\n",
    "plt.ylim([0.0, 1.05])\n",
    "plt.xlabel('False Positive Rate')\n",
    "plt.ylabel('True Positive Rate')\n",
    "plt.title('Receiver operating characteristic')\n",
    "plt.legend(loc=\"best\")"
   ]
  },
  {
   "cell_type": "markdown",
   "metadata": {
    "nbpresent": {
     "id": "5cc57df7-9470-4e17-94f9-856397f3b500"
    }
   },
   "source": [
    "## 9.4 シミュレーションと計算統計学の基礎\n",
    "ゴール：シミュレーションと計算統計学の基本的な考え方を理解し、簡単な実装できること"
   ]
  },
  {
   "cell_type": "markdown",
   "metadata": {
    "collapsed": true
   },
   "source": [
    "### 9.4.1 ジャックナイフ法\n",
    "キーワード：ジャックナイフ法、交差検証法"
   ]
  },
  {
   "cell_type": "markdown",
   "metadata": {
    "collapsed": true,
    "nbpresent": {
     "id": "45924e69-07ed-4274-85b8-2c6ac3827c57"
    }
   },
   "source": [
    "### 9.4.2 ブートストラップ法\n",
    "キーワード：ブートストラップ法、復元抽出"
   ]
  },
  {
   "cell_type": "markdown",
   "metadata": {
    "collapsed": true
   },
   "source": [
    "### 9.4.3 EMアルゴリズム\n",
    "キーワード：EMアルゴリズム、最尤法"
   ]
  },
  {
   "cell_type": "markdown",
   "metadata": {
    "nbpresent": {
     "id": "8dde98a1-c217-435e-8e40-04726f81c810"
    }
   },
   "source": [
    "## 9.5 アンサンブル学習\n",
    "ゴール：アンサンブルの基本的な手法（バギング、ブースティング、ランダムフォレスト）について理解して、実装ができること"
   ]
  },
  {
   "cell_type": "markdown",
   "metadata": {
    "collapsed": true,
    "nbpresent": {
     "id": "e6915802-e367-4954-a288-d6eb60679066"
    }
   },
   "source": [
    "### 9.5.1 バギング\n",
    "キーワード：バギング"
   ]
  },
  {
   "cell_type": "markdown",
   "metadata": {
    "collapsed": true,
    "nbpresent": {
     "id": "3ab7decc-5e67-427c-a056-efcad0844eec"
    }
   },
   "source": [
    "### 9.5.2 ブースティング\n",
    "キーワード：ブースティング、アダブースト"
   ]
  },
  {
   "cell_type": "markdown",
   "metadata": {
    "collapsed": true,
    "nbpresent": {
     "id": "3a9f1179-e831-4309-b484-956d56d31bff"
    }
   },
   "source": [
    "### 9.5.3 ランダムフォレスト\n",
    "キーワード：ランダムフォレスト、特徴量の重要度"
   ]
  },
  {
   "cell_type": "markdown",
   "metadata": {
    "nbpresent": {
     "id": "6b498642-823c-4eee-b6bb-fc237e248240"
    }
   },
   "source": [
    "## 9.6 総合問題"
   ]
  },
  {
   "cell_type": "markdown",
   "metadata": {
    "collapsed": true,
    "nbpresent": {
     "id": "0950100e-332d-4f7d-a865-47c554e73ef8"
    }
   },
   "source": [
    "### 9.6.1 総合問題1"
   ]
  },
  {
   "cell_type": "markdown",
   "metadata": {},
   "source": [
    "データload_breast_cancerを使って、目的変数をcancer.targetとして、予測モデル（ロジスティック回帰、SVM、決定木、k-NN、ランダムフォレスト）を構築し、交差検証（5分割）によりどのモデルが一番良いでしょうか。実装してください。"
   ]
  },
  {
   "cell_type": "code",
   "execution_count": 17,
   "metadata": {
    "collapsed": false
   },
   "outputs": [
    {
     "name": "stdout",
     "output_type": "stream",
     "text": [
      "-- Method: LogisticRegression --\n",
      "Cross validation scores:[ 0.93043478  0.93913043  0.97345133  0.94690265  0.96460177]\n",
      "Cross validation scores(mean):0.9509041939207385\n",
      "-- Method: LinearSVC --\n",
      "Cross validation scores:[ 0.90434783  0.93043478  0.65486726  0.92035398  0.92920354]\n",
      "Cross validation scores(mean):0.867841477491343\n",
      "-- Method: DecisionTreeClassifier --\n",
      "Cross validation scores:[ 0.91304348  0.93043478  0.92920354  0.95575221  0.89380531]\n",
      "Cross validation scores(mean):0.9244478645632936\n",
      "-- Method: KNeighborsClassifier --\n",
      "Cross validation scores:[ 0.89565217  0.93913043  0.9380531   0.92920354  0.92035398]\n",
      "Cross validation scores(mean):0.9244786456329358\n",
      "-- Method: RandomForestClassifier --\n",
      "Cross validation scores:[ 0.94782609  0.95652174  0.98230088  0.9380531   0.96460177]\n",
      "Cross validation scores(mean):0.9578607156598693\n"
     ]
    }
   ],
   "source": [
    "# 解答\n",
    "# 交差検証法\n",
    "from sklearn.cross_validation import cross_val_score\n",
    "\n",
    "# ロジスティック回帰\n",
    "from sklearn.linear_model import LogisticRegression\n",
    "# SVM\n",
    "from sklearn.svm import LinearSVC\n",
    "# 決定木\n",
    "from sklearn.tree import  DecisionTreeClassifier\n",
    "# k-NN\n",
    "from sklearn.neighbors import  KNeighborsClassifier\n",
    "# ランダムフォレスト\n",
    "from sklearn.ensemble import RandomForestClassifier\n",
    "\n",
    "# データ\n",
    "from sklearn.datasets import load_breast_cancer\n",
    "\n",
    "cancer = load_breast_cancer()\n",
    "\n",
    "for model in [LogisticRegression(),LinearSVC(), \n",
    "              DecisionTreeClassifier(),KNeighborsClassifier(n_neighbors=6)\n",
    "             ,RandomForestClassifier()]:\n",
    "    scores = cross_val_score(model,cancer.data,cancer.target,cv=5)\n",
    "    print(\"-- Method:\",model.__class__.__name__ ,\"--\")\n",
    "    print(\"Cross validation scores:{}\".format(scores))\n",
    "    print(\"Cross validation scores(mean):{}\".format(scores.mean()))"
   ]
  }
 ],
 "metadata": {
  "anaconda-cloud": {},
  "kernelspec": {
   "display_name": "Python 3",
   "language": "python",
   "name": "python3"
  },
  "language_info": {
   "codemirror_mode": {
    "name": "ipython",
    "version": 3
   },
   "file_extension": ".py",
   "mimetype": "text/x-python",
   "name": "python",
   "nbconvert_exporter": "python",
   "pygments_lexer": "ipython3",
   "version": "3.6.0"
  },
  "nbpresent": {
   "slides": {
    "4ac36045-0899-4948-a386-6e758a2ecfb5": {
     "id": "4ac36045-0899-4948-a386-6e758a2ecfb5",
     "prev": null,
     "regions": {
      "e61c6e12-b404-46aa-9d8d-e736102d1084": {
       "attrs": {
        "height": 1,
        "width": 1,
        "x": 0,
        "y": 0
       },
       "id": "e61c6e12-b404-46aa-9d8d-e736102d1084"
      }
     }
    }
   },
   "themes": {}
  }
 },
 "nbformat": 4,
 "nbformat_minor": 0
}

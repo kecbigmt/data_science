{
 "cells": [
  {
   "cell_type": "markdown",
   "metadata": {
    "deletable": true,
    "editable": true
   },
   "source": [
    "# 修了試験（提出）"
   ]
  },
  {
   "cell_type": "markdown",
   "metadata": {
    "deletable": true,
    "editable": true
   },
   "source": [
    "## Chapter 1-2"
   ]
  },
  {
   "cell_type": "markdown",
   "metadata": {
    "deletable": true,
    "editable": true
   },
   "source": [
    "### 1 統計の基礎と回帰分析"
   ]
  },
  {
   "cell_type": "markdown",
   "metadata": {
    "deletable": true,
    "editable": true
   },
   "source": [
    "\n",
    "以下のサイトにあるデータ（ワインの品質）が分析対象になります。\n",
    "\n",
    "http://archive.ics.uci.edu/ml/machine-learning-databases/wine-quality/winequality-red.csv\n",
    "\n",
    "上記データを読み込み、ワインの品質(quality)を目的変数、酢酸酸度(volatile acidity)を説明変数として単回帰分析を実施し、**決定係数**を求めてください。ただし、今回は変数の変換やデータ加工等はせず、そのままのデータを使ってください。\n",
    "\n",
    "提出するときは、以下の点に注意してください。  \n",
    "\n",
    ">- 以下の関数homework1の!!WRITE ME!!に処理を書いてください。  \n",
    ">- 実際の提出は記述されたhomework関数全てになり、提出場所はilect上にあるHomeworkからsubmitしてください。\n",
    ">- 返り値が数値型になるようにしてください。  "
   ]
  },
  {
   "cell_type": "code",
   "execution_count": 3,
   "metadata": {
    "collapsed": true,
    "deletable": true,
    "editable": true
   },
   "outputs": [],
   "source": [
    "# common\n",
    "import pandas as pd\n",
    "from sklearn import linear_model\n",
    "\n",
    "# URL\n",
    "url_winequality_data = \"http://archive.ics.uci.edu/ml/machine-learning-databases/wine-quality/winequality-red.csv\""
   ]
  },
  {
   "cell_type": "code",
   "execution_count": 6,
   "metadata": {
    "collapsed": true,
    "deletable": true,
    "editable": true
   },
   "outputs": [],
   "source": [
    "# working place. everything \n",
    "def homework1(url_winequality_data):\n",
    "    clf = linear_model.LinearRegression()\n",
    "    dt_wine = pd.read_csv(url_winequality_data, sep=';')\n",
    "    X = dt_wine.loc[:, ['volatile acidity']].as_matrix()\n",
    "    Y = dt_wine.quality\n",
    "    clf.fit(X, Y)\n",
    "    my_result = clf.score(X,Y)\n",
    "    return my_result"
   ]
  },
  {
   "cell_type": "code",
   "execution_count": 7,
   "metadata": {
    "collapsed": false
   },
   "outputs": [
    {
     "name": "stdout",
     "output_type": "stream",
     "text": [
      "0.152535379725\n"
     ]
    }
   ],
   "source": [
    "print(homework1(\"http://archive.ics.uci.edu/ml/machine-learning-databases/wine-quality/winequality-red.csv\"))"
   ]
  },
  {
   "cell_type": "code",
   "execution_count": 8,
   "metadata": {
    "collapsed": true
   },
   "outputs": [],
   "source": [
    "clf = linear_model.LinearRegression()\n",
    "dt_wine = pd.read_csv(url_winequality_data, sep=';')\n",
    "X = dt_wine.loc[:, ['volatile acidity']].as_matrix()\n",
    "Y = dt_wine.quality\n",
    "clf.fit(X, Y)\n",
    "my_result = clf.score(X,Y)"
   ]
  },
  {
   "cell_type": "code",
   "execution_count": 14,
   "metadata": {
    "collapsed": false
   },
   "outputs": [
    {
     "data": {
      "image/png": "[encoded data removed]",
      "text/plain": [
       "<matplotlib.figure.Figure at 0x763bd1a160>"
      ]
     },
     "metadata": {},
     "output_type": "display_data"
    }
   ],
   "source": [
    "import matplotlib.pyplot as plt\n",
    "%matplotlib inline\n",
    "\n",
    "plt.scatter(X, Y)\n",
    "plt.xlabel('volatile acidity')\n",
    "plt.ylabel('quality')\n",
    "plt.plot(X, clf.predict(X))\n",
    "plt.grid(True)"
   ]
  },
  {
   "cell_type": "code",
   "execution_count": null,
   "metadata": {
    "collapsed": true
   },
   "outputs": [],
   "source": []
  }
 ],
 "metadata": {
  "anaconda-cloud": {},
  "kernelspec": {
   "display_name": "Python 3",
   "language": "python",
   "name": "python3"
  },
  "language_info": {
   "codemirror_mode": {
    "name": "ipython",
    "version": 3
   },
   "file_extension": ".py",
   "mimetype": "text/x-python",
   "name": "python",
   "nbconvert_exporter": "python",
   "pygments_lexer": "ipython3",
   "version": "3.5.2"
  }
 },
 "nbformat": 4,
 "nbformat_minor": 0
}

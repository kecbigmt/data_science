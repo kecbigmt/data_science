{
 "cells": [
  {
   "cell_type": "markdown",
   "metadata": {},
   "source": [
    "# 修了試験（提出）"
   ]
  },
  {
   "cell_type": "markdown",
   "metadata": {},
   "source": [
    "## Chapter 5-6"
   ]
  },
  {
   "cell_type": "markdown",
   "metadata": {},
   "source": [
    "### 4 データベースの応用"
   ]
  },
  {
   "cell_type": "markdown",
   "metadata": {},
   "source": [
    "chapter6の総合問題1でも扱った以下のデータベース(sakila)を使って、後の問いに答えてください。(**ただし、ここもPythonからSQLを呼び出す計算になるため、6章で学ぶPythonの連携を学んだ後に取り組んでください。**)\n",
    "\n",
    "https://dev.mysql.com/doc/sakila/en/\n",
    "\n",
    "以下のようにスタッフ毎に設備をレンタルを担当した回数をレンタル日の月別にクロス表で集計してください(SQLでまとめて処理してください)。そしてその結果をもとに、**提出と書いてあるセルを取得し、それを返り値**として、関数を作成してください。"
   ]
  },
  {
   "cell_type": "markdown",
   "metadata": {},
   "source": [
    "|  | 2005-05 | 2005-06 | 2005-07 | 2005-08 \n",
    "|---|---|----|-----|\n",
    "| Mike Hillyer | ? | ? | ? | ? |\n",
    "| Jon Stephens | ? | ? | **提出** | ? |"
   ]
  },
  {
   "cell_type": "markdown",
   "metadata": {},
   "source": [
    "提出するときは、以下の点に注意してください。  \n",
    ">- 以下の関数homework4の!!WRITE ME!!に処理を書いてください。(**「!!WRITE ME!!」は消して、記入してください。**)\n",
    ">- 実際の提出は記述されたhomework関数全てになり、**提出場所はilect上にあるHomeworkからsubmitしてください。Contentsに関数を貼り付けます。**\n",
    ">- PythonとSQL両方の実装が必要です。なお、Pythonを使ってデータベースからデータを取り出す方法については、6章の最後にあるPythonとの連携を参考にしてください。必要であれば、userやpass等を書き換えてください。  \n",
    ">- 前処理は以下のコードを使って、これを引数としてください。  \n",
    ">- SQLが長くなり、改行したい場合はバックスラッシュ（\\）を使ってください。 \n",
    ">- まずは、上の表を作ることから実装をしてください。\n",
    ">- そのあとに上記の**提出**と書いてあるセルを取得して、提出する関数の返り値としてください。    \n",
    ">- 返り値は整数型にしてください。"
   ]
  },
  {
   "cell_type": "code",
   "execution_count": null,
   "metadata": {
    "collapsed": true
   },
   "outputs": [],
   "source": [
    "import pymysql.cursors\n",
    "\n",
    "dbh2 = pymysql.connect(\n",
    "    host='localhost',\n",
    "    user='root',\n",
    "    password='pass',\n",
    "    db='sakila',\n",
    "    charset='utf8',\n",
    "    cursorclass=pymysql.cursors.DictCursor )"
   ]
  },
  {
   "cell_type": "code",
   "execution_count": 54,
   "metadata": {
    "collapsed": true
   },
   "outputs": [],
   "source": [
    "# working place. everything \n",
    "def homework4(dbh):\n",
    "    !!WRITE ME!!\n",
    "    #my_result = 200\n",
    "    return my_result  "
   ]
  },
  {
   "cell_type": "markdown",
   "metadata": {},
   "source": [
    "注：NoSQLの修了試験はありません。"
   ]
  }
 ],
 "metadata": {
  "anaconda-cloud": {},
  "kernelspec": {
   "display_name": "Python 3",
   "language": "python",
   "name": "python3"
  },
  "language_info": {
   "codemirror_mode": {
    "name": "ipython",
    "version": 3
   },
   "file_extension": ".py",
   "mimetype": "text/x-python",
   "name": "python",
   "nbconvert_exporter": "python",
   "pygments_lexer": "ipython3",
   "version": "3.6.0"
  }
 },
 "nbformat": 4,
 "nbformat_minor": 0
}

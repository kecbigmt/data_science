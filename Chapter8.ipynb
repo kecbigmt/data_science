{
 "cells": [
  {
   "cell_type": "markdown",
   "metadata": {
    "deletable": true,
    "editable": true
   },
   "source": [
    "# 8 機械学習の基礎"
   ]
  },
  {
   "cell_type": "markdown",
   "metadata": {
    "deletable": true,
    "editable": true
   },
   "source": [
    "- **[8.1 機械学習の全体像](#8.1-機械学習の全体像)**\n",
    "    - [8.1.1 機械学習とは？](#8.1.1-機械学習とは？)\n",
    "    - [8.1.2 教師あり学習](#8.1.2-教師あり学習)\n",
    "    - [8.1.3 教師なし学習](#8.1.3-教師なし学習)\n",
    "    - [8.1.4 強化学習](#8.1.4-強化学習)\n",
    "<br><br>\n",
    "- **[8.2 教師あり学習](#8.2-教師あり学習)** \n",
    "    - [8.2.1 重回帰分析](#8.2.1-重回帰分析)\n",
    "    - [8.2.2 ロジスティック回帰分析](#8.2.2-ロジスティック回帰分析)\n",
    "    - [8.2.3 正則化、ラッソ回帰、リッジ回帰](#8.2.3-正則化、ラッソ回帰、リッジ回帰)\n",
    "    - [8.2.4 決定木](#8.2.4-決定木)\n",
    "    - [8.2.5 k-NN](#8.2.5-k-NN)\n",
    "    - [8.2.6 サポートベクターマシン](#8.2.6-サポートベクターマシン)\n",
    "<br><br> \n",
    "- **[8.3 教師なし学習](#8.3-教師なし学習)** \n",
    "    - [8.3.1 クラスタリング(クラスター分析）](#8.3.1-クラスタリング)\n",
    "    - [8.3.2 次元圧縮（主成分分析）](#8.3.2-次元圧縮)\n",
    "    - [8.3.3 バスケット分析とアソシエーションルール](#8.3.3-バスケット分析とアソシエーションルール)\n",
    "<br><br>\n",
    "- **[8.4 総合問題](#8.4-総合問題)**\n",
    "    - [8.4.1 総合問題1](#8.4.1-総合問題1)\n",
    "    - [8.4.2 総合問題2](#8.4.2-総合問題2)"
   ]
  },
  {
   "cell_type": "markdown",
   "metadata": {
    "deletable": true,
    "editable": true
   },
   "source": [
    "## 8.1 機械学習の全体像\n",
    "ゴール：機械学習の各アプローチ（教師あり学習、教師なし学習）と概要を知ること"
   ]
  },
  {
   "cell_type": "code",
   "execution_count": 2,
   "metadata": {
    "collapsed": false,
    "deletable": true,
    "editable": true
   },
   "outputs": [
    {
     "data": {
      "text/plain": [
       "'%.3f'"
      ]
     },
     "execution_count": 2,
     "metadata": {},
     "output_type": "execute_result"
    }
   ],
   "source": [
    "# 途中で使用するため、あらかじめ読み込んでおいてください。\n",
    "# データ加工・処理・分析モジュール\n",
    "import numpy as np\n",
    "import numpy.random as random\n",
    "import scipy as sp\n",
    "from pandas import Series,DataFrame\n",
    "import pandas as pd\n",
    "\n",
    "# 可視化モジュール\n",
    "import matplotlib.pyplot as plt\n",
    "import matplotlib as mpl\n",
    "import seaborn as sns\n",
    "%matplotlib inline\n",
    "\n",
    "# 機械学習モジュール\n",
    "import sklearn\n",
    "\n",
    "# 小数第３まで表示\n",
    "%precision 3"
   ]
  },
  {
   "cell_type": "markdown",
   "metadata": {
    "deletable": true,
    "editable": true
   },
   "source": [
    "### 8.1.1 機械学習とは？\n",
    "キーワード：機械学習、教師あり学習、教師なし学習、強化学習"
   ]
  },
  {
   "cell_type": "markdown",
   "metadata": {
    "deletable": true,
    "editable": true
   },
   "source": [
    "いよいよここから機械学習の章になります。これまで様々なデータを見てきました。そのデータの中から、モデルを構築し、ある値を予測をしたりグループ分けしたりするのが**機械学習**です。機械学習は主に3つに分けられることが多く、**教師あり学習(supervised learning)**、**教師なし学習(unsupervised learning)**、**強化学習(reinforcement learning)**です。\n",
    "\n",
    "目的がはっきりしている場合は教師あり学習で、目的型学習とも言われます。訓練データ（学習データ）があり、そこから目的の変数（アウトプット）を予測するために説明変数を使ってモデルを構築する方法です。一方、目的がなく、データの構造から傾向を見る方法を教師なし学習といいます。ゴールがはっきりしておらずある程度、試行錯誤しながらするやり方で、探索型のデータ分析とも言われます。3つ目の強化学習も最近注目されており、面白い分野なのでが、ここでは紹介するだけにとどめ、主に教師あり学習と教師なし学習を中心に学んでいきます。\n",
    "\n",
    "以下は、教師あり学習と教師なし学習のイメージです。左図が教師あり学習で、あらかじめラベル付け（以下は丸とバツ）がされていて、丸とバツに分けたいというモチベーションがあり、右図が教師なし学習で、ラベル付けは特にされておらず、与えられたデータ構造からインサイト（以下の赤丸に囲まれているグループができそうだ）を見つけ出していきます。"
   ]
  },
  {
   "cell_type": "markdown",
   "metadata": {
    "deletable": true,
    "editable": true
   },
   "source": [
    "![](http://oliviaklose.azurewebsites.net/content/images/2015/02/2-supervised-vs-unsupervised-1.png)"
   ]
  },
  {
   "cell_type": "markdown",
   "metadata": {
    "deletable": true,
    "editable": true
   },
   "source": [
    "参照URL:http://oliviaklose.azurewebsites.net/content/images/2015/02/2-supervised-vs-unsupervised-1.png"
   ]
  },
  {
   "cell_type": "markdown",
   "metadata": {
    "deletable": true,
    "editable": true
   },
   "source": [
    "なお、今回の章で扱うデータ分析は、いきなり機械学習を適応するところから始めます。簡単に機械学習を使えることを体感していただきたいからです。ただし、本場でデータ分析をするときには、どんなデータがあるのか細かくチェックしたり、基本統計量やヒストグラム、散布図の作成など、探索的にデータを観察することは必ず実施してください。そういった簡単なデータ探索から色々なことがわかったりすることがあるからです。ビジネスの現場で、無理に機械学習をあてはめる必要はありません。もちろん、そこから有益な示唆や収益源が見つかることもありますので、その時には実装してください。"
   ]
  },
  {
   "cell_type": "markdown",
   "metadata": {
    "deletable": true,
    "editable": true
   },
   "source": [
    ">**[ポイント]**\n",
    "\n",
    ">現場でデータ分析をするときは、機械学習を適応する前に、基本統計量や散布図を作成し、データの傾向や全体像を抑えましょう。"
   ]
  },
  {
   "cell_type": "markdown",
   "metadata": {
    "deletable": true,
    "editable": true
   },
   "source": [
    "参考ですが、機械学習の易しめの本としては、以下の文献やURLが参考になりますので、この章の良い予習・復習になります。"
   ]
  },
  {
   "cell_type": "markdown",
   "metadata": {
    "deletable": true,
    "editable": true
   },
   "source": [
    ">[参考文献]\n",
    "\n",
    ">『Pythonによる機械学習入門』（株式会社システム計画研究所 (編集)、オーム社）\n",
    "\n",
    ">『ゼロからはじめるデータサイエンス ―Pythonで学ぶ基本と実践』（Joel Grus (著), 菊池 彰 (翻訳)、O'REILLY）\n",
    "\n",
    ">『Introduction to Machine Learning with Python』（Andreas C.Muller & Sarah Guido、O'REILLY）\n",
    "\n",
    ">[参考URL]\n",
    "\n",
    ">https://github.com/jakevdp/PythonDataScienceHandbook"
   ]
  },
  {
   "cell_type": "markdown",
   "metadata": {
    "deletable": true,
    "editable": true
   },
   "source": [
    "また、この章では主に、Pythonのscikit-learnを使います。1章でも回帰分析の箇所で少し使いました。以下のサイトに詳細な情報や使い方がありますので、この講座が終わった後は是非読んでみてください。"
   ]
  },
  {
   "cell_type": "markdown",
   "metadata": {
    "deletable": true,
    "editable": true
   },
   "source": [
    ">[参考URL]\n",
    "\n",
    ">http://scikit-learn.org/stable/index.html"
   ]
  },
  {
   "cell_type": "markdown",
   "metadata": {
    "deletable": true,
    "editable": true
   },
   "source": [
    "### 8.1.2 教師あり学習\n",
    "キーワード：目的変数、説明変数、回帰、分類"
   ]
  },
  {
   "cell_type": "markdown",
   "metadata": {
    "deletable": true,
    "editable": true
   },
   "source": [
    "まずは簡単に教師あり学習について紹介します。先ほど説明したように、あらかじめ教師データと言われる見本が与えられており、それをベースにモデルを構築します。データのカラム（変数）について、ゴールとなる予測したい変数のことを**目的変数**と言います。他の名称としては、応答変数、ターゲット変数、従属変数とも言われます。関数y=f(x)でいうところのyにあたります。一方、その目的変数を説明するための変数(x)のことを**説明変数**と言います。他には予測変数だったり、独立変数と言われることもあります。具体的には、ある消費財の購買者が離反するかどうか（目的変数）を予測したい時に、過去の色々なデータ（属性、購買頻度、関連商品の購入など）を説明変数としてモデリングします。"
   ]
  },
  {
   "cell_type": "markdown",
   "metadata": {
    "deletable": true,
    "editable": true
   },
   "source": [
    "目的変数については、数値の場合だったり、どのグループに属するのか予測したい場合があります。数値の場合は**回帰**、何かのグループに分ける時どのグループに属するのか分けるのが**分類**といいます。この講座ではどちらのデータも扱っていきます。手法としては、**重回帰分析、ロジスティック回帰分析、k近傍法、決定木、サポートベクターマシン、ランダムフォレスト**等があります。\n",
    "\n",
    "なお、目的にもよりますが、企業ビジネスの現場では、重回帰分析、ロジスティック回帰分析、決定木がメインで使われます。サポートベクターマシンなどは説明がしにくく、一般の人が1回聞いてすぐに理解出来る手法ではありません（さらに、機械学習で「決定木」は理解しやすいという記載が多々ありますが、これもなかなか一般の人が聞いてすぐに理解出来る概念ではないです）。また後で検証結果をお見せしますが、いろいろな手法を使っても予測精度などはそれほど大きくは変わらないことも多々あります。そのため、第3者にとって理解がしやすく、アクションを実施しやすいものを選んだ方が良いです。ただ、その予測精度が1％改善するだけで、ビジネスインパクトが大きいのであれば、話は別になります。ケースバイケースで判断して使ってください。"
   ]
  },
  {
   "cell_type": "markdown",
   "metadata": {
    "deletable": true,
    "editable": true
   },
   "source": [
    "### 8.1.3 教師なし学習\n",
    "キーワード：クラスタリング、主成分分析、アソシエーションルール"
   ]
  },
  {
   "cell_type": "markdown",
   "metadata": {
    "deletable": true,
    "editable": true
   },
   "source": [
    "次は、教師なし学習です。教師なし学習は、見本（インプットとアウトプットの関係）を与えられておらず、目的がはっきりしていないケースを扱います。与えられた情報をインプットとして、クラス分けをします。そのデータ構造を調べることで、意味のある情報を取り出します。主な手法としては、**クラスター分析（クラスタリング）**があります。実務的な利用方法としては、ある消費者がどんなグループに分かれるのか（**セグメンテーション**）など、マーケティング分析を実施する時によく使われます。他、過去の事例が役に立たない場合（詐欺行為、異常値発見など）にも使われたります。なお、先ほどの分類と似たような言葉なのですが、分類はあくまで目的がありますので、ここではあくまでターゲットがわからないケースを想定します。"
   ]
  },
  {
   "cell_type": "markdown",
   "metadata": {
    "deletable": true,
    "editable": true
   },
   "source": [
    "なお、クラスタリングは、目的となる変数が設定されていないため、探索的なデータ分析でもあります。セグメンテーションなどでグルーピングをしたら終わりではなく、そこから深堀をしたり、現場の感覚とズレがないかなど見ていく必要があります。計算はすぐにできますが、その後の利用方法や解釈は、直感的なアプローチも必要です。完全には自動化できず、人の判断が重要な役割を担ってきます。"
   ]
  },
  {
   "cell_type": "markdown",
   "metadata": {
    "deletable": true,
    "editable": true
   },
   "source": [
    "他の教師なし学習としては、**主成分分析（次元圧縮）**、**アソシエーションルール**などがあります。主成分分析は、変数が多い時に、それらの情報を凝縮して、変数を減らす方法です。アソシエーションルールはPOS（Point of Sales）といわれる購買データ等の分析に使われ、ある商品Aを買っている人はある商品Bも買っていることが多いというのが、このアプローチからわかったりします。"
   ]
  },
  {
   "cell_type": "markdown",
   "metadata": {
    "deletable": true,
    "editable": true
   },
   "source": [
    "以下の参考文献では、おおまかではありますが、教師あり学習を「目的志向的データマイニング」、教師なし学習を「探索的データマイニング」としており、ビジネスの現場でどのように機械学習（やデータマイニング）を使っていけば良いか記載されています。ビジネス視点でこの講座を活かさせたい場合はオススメです。なお、上2つは翻訳本で、原書の一部分がカットされていますので、英語が読める方は原書が良いでしょう。"
   ]
  },
  {
   "cell_type": "markdown",
   "metadata": {
    "deletable": true,
    "editable": true
   },
   "source": [
    ">[参考文献]\n",
    "\n",
    ">『データマイニング手法 予測・スコアリング編―営業、マーケティング、CRMのための顧客分析』（ゴードン S.リノフ (著), マイケル J.A.ベリー (著), 江原 淳 (翻訳), 上野 勉 (翻訳), & 2 その他、海文堂出版）\n",
    "\n",
    ">『データマイニング手法 探索的知識発見編―営業、マーケティング、CRMのための顧客分析』（ゴードン S.リノフ (著), マイケル J.A.ベリー (著), 江原 淳 (翻訳), 上野 勉 (翻訳), & 2 その他、海文堂出版）\n",
    "\n",
    ">『Data Mining Techniques: For Marketing, Sales, and Customer Relationship Management 』（Gordon S. Linoff (著), Michael J. A. Berry (著),Wiley）"
   ]
  },
  {
   "cell_type": "markdown",
   "metadata": {
    "deletable": true,
    "editable": true
   },
   "source": [
    "### 8.1.4 強化学習\n",
    "キーワード：動的計画法、モンテカルロ法、TD学習、OpenAI"
   ]
  },
  {
   "cell_type": "markdown",
   "metadata": {
    "deletable": true,
    "editable": true
   },
   "source": [
    "強化学習とは、ある報酬を最大化するために、何をすべきかを学習します。教師あり学習のように、最適な出力等は教えられず、その代わり、どのような行動を取ったら、より大きな報酬を得られるかを見つけ出します。環境が与えられて、その中から学習をしていきます。具体的なイメージとしては、赤ちゃんは歩き方を教わっていないのに、そのおかれている環境の中から試行錯誤しながら歩けるようになるというイメージです。"
   ]
  },
  {
   "cell_type": "markdown",
   "metadata": {
    "deletable": true,
    "editable": true
   },
   "source": [
    "教師あり学習との違いは、探索的に行動し、相互作用の中から学んでいくという点です。探索と知識利用の間のトレードオフをどのように扱うかがこの強化学習のテーマでもあります。"
   ]
  },
  {
   "cell_type": "markdown",
   "metadata": {
    "deletable": true,
    "editable": true
   },
   "source": [
    "強化学習の主なアプローチとしては、動的計画法、モンテカルロ法やTD学習などがあります。動的計画法は、明示的な知識があることを仮定しています。一方、モンテカルロ法は、環境における完全な知識を必要とせず、経験のみを必要とする方法です。TD学習は、最適問題を反復計算により数値的に解く方法の1つで、本講座の8章で学ぶ勾配法の考え方に基づいています。"
   ]
  },
  {
   "cell_type": "markdown",
   "metadata": {
    "deletable": true,
    "editable": true
   },
   "source": [
    "この講座では強化学習の紹介のみで終わりになりますが、興味のある方は、以下の参考文献やOpenAIのサイトなどを見てください。"
   ]
  },
  {
   "cell_type": "markdown",
   "metadata": {
    "deletable": true,
    "editable": true
   },
   "source": [
    ">[参考文献]\n",
    "\n",
    ">『強化学習』（Richard S. Sutton and Andrew G.Barto、三上・皆川共訳、森北出版株式会社）\n",
    "\n",
    "\n",
    "\n",
    ">[参考URL]\n",
    "\n",
    ">https://gym.openai.com"
   ]
  },
  {
   "cell_type": "markdown",
   "metadata": {
    "deletable": true,
    "editable": true
   },
   "source": [
    "## 8.2 教師あり学習\n",
    "ゴール：重回帰分析、ロジスティック回帰分析、決定木、サポートベクターマシン、k-NN法、正則化やリッジ回帰を理解して、実装できること"
   ]
  },
  {
   "cell_type": "markdown",
   "metadata": {
    "deletable": true,
    "editable": true
   },
   "source": [
    "### 8.2.1 重回帰分析\n",
    "キーワード：目的変数、説明変数、多重共線性、変数選択法"
   ]
  },
  {
   "cell_type": "markdown",
   "metadata": {
    "deletable": true,
    "editable": true
   },
   "source": [
    "ここでは重回帰分析について学びます。1章の最後の方に単回帰分析について学びました。目的変数に対して、説明変数は1つで、sklearnを使ってモデルを構築しました。この考え方を広げて、目的変数に影響を与えている説明変数は1つではなく複数あるのではないかと考えるのが重回帰分析です。\n",
    "\n",
    "具体的なデータを使って、この重回帰分析を使ってみます。まずは、自動車の価格データとそれらの属性（自動車の大きさなど）データをウェブ上から取得しましょう。目的としては、この自動車の価格を予測するモデルを構築します。"
   ]
  },
  {
   "cell_type": "code",
   "execution_count": 3,
   "metadata": {
    "collapsed": false,
    "deletable": true,
    "editable": true
   },
   "outputs": [],
   "source": [
    "# 自動車価格データの取得\n",
    "import requests, zipfile\n",
    "from io import StringIO\n",
    "import io\n",
    "\n",
    "# url \n",
    "auto_data_url = \"http://archive.ics.uci.edu/ml/machine-learning-databases/autos/imports-85.data\"\n",
    "s = requests.get(auto_data_url).content\n",
    "auto_data = pd.read_csv(io.StringIO(s.decode('utf-8')),header=None)\n",
    "auto_data.columns =[\"symboling\",\"normalized-losses\",\"make\",\"fuel-type\"\n",
    "                     ,\"aspiration\",\"num-of-doors\",\"body-style\",\"drive-wheels\",\"engine-location\",\"wheel-base\",\"length\"\n",
    "                   ,\"width\",\"height\",\"curb-weight\",\"engine-type\",\"num-of-cylinders\",\"engine-size\",\"fuel-system\"\n",
    "                    ,\"bore\",\"stroke\",\"compression-ratio\",\"horsepower\",\"peak-rpm\",\"city-mpg\",\"highway-mpg\",\"price\"]"
   ]
  },
  {
   "cell_type": "markdown",
   "metadata": {
    "deletable": true,
    "editable": true
   },
   "source": [
    "いつも通り、簡単にデータを見てみましょう。head()を使いました。よくみてみると、このデータの中に?があるため、このままではモデリングがやりくいです。"
   ]
  },
  {
   "cell_type": "code",
   "execution_count": 4,
   "metadata": {
    "collapsed": false,
    "deletable": true,
    "editable": true
   },
   "outputs": [
    {
     "data": {
      "text/html": [
       "<div>\n",
       "<table border=\"1\" class=\"dataframe\">\n",
       "  <thead>\n",
       "    <tr style=\"text-align: right;\">\n",
       "      <th></th>\n",
       "      <th>symboling</th>\n",
       "      <th>normalized-losses</th>\n",
       "      <th>make</th>\n",
       "      <th>fuel-type</th>\n",
       "      <th>aspiration</th>\n",
       "      <th>num-of-doors</th>\n",
       "      <th>body-style</th>\n",
       "      <th>drive-wheels</th>\n",
       "      <th>engine-location</th>\n",
       "      <th>wheel-base</th>\n",
       "      <th>...</th>\n",
       "      <th>engine-size</th>\n",
       "      <th>fuel-system</th>\n",
       "      <th>bore</th>\n",
       "      <th>stroke</th>\n",
       "      <th>compression-ratio</th>\n",
       "      <th>horsepower</th>\n",
       "      <th>peak-rpm</th>\n",
       "      <th>city-mpg</th>\n",
       "      <th>highway-mpg</th>\n",
       "      <th>price</th>\n",
       "    </tr>\n",
       "  </thead>\n",
       "  <tbody>\n",
       "    <tr>\n",
       "      <th>0</th>\n",
       "      <td>3</td>\n",
       "      <td>?</td>\n",
       "      <td>alfa-romero</td>\n",
       "      <td>gas</td>\n",
       "      <td>std</td>\n",
       "      <td>two</td>\n",
       "      <td>convertible</td>\n",
       "      <td>rwd</td>\n",
       "      <td>front</td>\n",
       "      <td>88.6</td>\n",
       "      <td>...</td>\n",
       "      <td>130</td>\n",
       "      <td>mpfi</td>\n",
       "      <td>3.47</td>\n",
       "      <td>2.68</td>\n",
       "      <td>9.0</td>\n",
       "      <td>111</td>\n",
       "      <td>5000</td>\n",
       "      <td>21</td>\n",
       "      <td>27</td>\n",
       "      <td>13495</td>\n",
       "    </tr>\n",
       "    <tr>\n",
       "      <th>1</th>\n",
       "      <td>3</td>\n",
       "      <td>?</td>\n",
       "      <td>alfa-romero</td>\n",
       "      <td>gas</td>\n",
       "      <td>std</td>\n",
       "      <td>two</td>\n",
       "      <td>convertible</td>\n",
       "      <td>rwd</td>\n",
       "      <td>front</td>\n",
       "      <td>88.6</td>\n",
       "      <td>...</td>\n",
       "      <td>130</td>\n",
       "      <td>mpfi</td>\n",
       "      <td>3.47</td>\n",
       "      <td>2.68</td>\n",
       "      <td>9.0</td>\n",
       "      <td>111</td>\n",
       "      <td>5000</td>\n",
       "      <td>21</td>\n",
       "      <td>27</td>\n",
       "      <td>16500</td>\n",
       "    </tr>\n",
       "    <tr>\n",
       "      <th>2</th>\n",
       "      <td>1</td>\n",
       "      <td>?</td>\n",
       "      <td>alfa-romero</td>\n",
       "      <td>gas</td>\n",
       "      <td>std</td>\n",
       "      <td>two</td>\n",
       "      <td>hatchback</td>\n",
       "      <td>rwd</td>\n",
       "      <td>front</td>\n",
       "      <td>94.5</td>\n",
       "      <td>...</td>\n",
       "      <td>152</td>\n",
       "      <td>mpfi</td>\n",
       "      <td>2.68</td>\n",
       "      <td>3.47</td>\n",
       "      <td>9.0</td>\n",
       "      <td>154</td>\n",
       "      <td>5000</td>\n",
       "      <td>19</td>\n",
       "      <td>26</td>\n",
       "      <td>16500</td>\n",
       "    </tr>\n",
       "    <tr>\n",
       "      <th>3</th>\n",
       "      <td>2</td>\n",
       "      <td>164</td>\n",
       "      <td>audi</td>\n",
       "      <td>gas</td>\n",
       "      <td>std</td>\n",
       "      <td>four</td>\n",
       "      <td>sedan</td>\n",
       "      <td>fwd</td>\n",
       "      <td>front</td>\n",
       "      <td>99.8</td>\n",
       "      <td>...</td>\n",
       "      <td>109</td>\n",
       "      <td>mpfi</td>\n",
       "      <td>3.19</td>\n",
       "      <td>3.40</td>\n",
       "      <td>10.0</td>\n",
       "      <td>102</td>\n",
       "      <td>5500</td>\n",
       "      <td>24</td>\n",
       "      <td>30</td>\n",
       "      <td>13950</td>\n",
       "    </tr>\n",
       "    <tr>\n",
       "      <th>4</th>\n",
       "      <td>2</td>\n",
       "      <td>164</td>\n",
       "      <td>audi</td>\n",
       "      <td>gas</td>\n",
       "      <td>std</td>\n",
       "      <td>four</td>\n",
       "      <td>sedan</td>\n",
       "      <td>4wd</td>\n",
       "      <td>front</td>\n",
       "      <td>99.4</td>\n",
       "      <td>...</td>\n",
       "      <td>136</td>\n",
       "      <td>mpfi</td>\n",
       "      <td>3.19</td>\n",
       "      <td>3.40</td>\n",
       "      <td>8.0</td>\n",
       "      <td>115</td>\n",
       "      <td>5500</td>\n",
       "      <td>18</td>\n",
       "      <td>22</td>\n",
       "      <td>17450</td>\n",
       "    </tr>\n",
       "  </tbody>\n",
       "</table>\n",
       "<p>5 rows × 26 columns</p>\n",
       "</div>"
      ],
      "text/plain": [
       "   symboling normalized-losses         make fuel-type aspiration num-of-doors  \\\n",
       "0          3                 ?  alfa-romero       gas        std          two   \n",
       "1          3                 ?  alfa-romero       gas        std          two   \n",
       "2          1                 ?  alfa-romero       gas        std          two   \n",
       "3          2               164         audi       gas        std         four   \n",
       "4          2               164         audi       gas        std         four   \n",
       "\n",
       "    body-style drive-wheels engine-location  wheel-base  ...    engine-size  \\\n",
       "0  convertible          rwd           front        88.6  ...            130   \n",
       "1  convertible          rwd           front        88.6  ...            130   \n",
       "2    hatchback          rwd           front        94.5  ...            152   \n",
       "3        sedan          fwd           front        99.8  ...            109   \n",
       "4        sedan          4wd           front        99.4  ...            136   \n",
       "\n",
       "   fuel-system  bore  stroke compression-ratio horsepower  peak-rpm city-mpg  \\\n",
       "0         mpfi  3.47    2.68               9.0        111      5000       21   \n",
       "1         mpfi  3.47    2.68               9.0        111      5000       21   \n",
       "2         mpfi  2.68    3.47               9.0        154      5000       19   \n",
       "3         mpfi  3.19    3.40              10.0        102      5500       24   \n",
       "4         mpfi  3.19    3.40               8.0        115      5500       18   \n",
       "\n",
       "  highway-mpg  price  \n",
       "0          27  13495  \n",
       "1          27  16500  \n",
       "2          26  16500  \n",
       "3          30  13950  \n",
       "4          22  17450  \n",
       "\n",
       "[5 rows x 26 columns]"
      ]
     },
     "execution_count": 4,
     "metadata": {},
     "output_type": "execute_result"
    }
   ],
   "source": [
    "auto_data.head()"
   ]
  },
  {
   "cell_type": "markdown",
   "metadata": {
    "deletable": true,
    "editable": true
   },
   "source": [
    "今回の目的はpriceを予測することなので、このpriceにある?データは削除してしまいましょう。pandasで学んだテクニックを使います。また、説明変数はhorsepower、width、heightの3つを使うことにしましょう。"
   ]
  },
  {
   "cell_type": "code",
   "execution_count": 5,
   "metadata": {
    "collapsed": false,
    "deletable": true,
    "editable": true
   },
   "outputs": [
    {
     "name": "stdout",
     "output_type": "stream",
     "text": [
      "symboling 0\n",
      "normalized-losses 41\n",
      "make 0\n",
      "fuel-type 0\n",
      "aspiration 0\n",
      "num-of-doors 2\n",
      "body-style 0\n",
      "drive-wheels 0\n",
      "engine-location 0\n",
      "wheel-base 0\n",
      "length 0\n",
      "width 0\n",
      "height 0\n",
      "curb-weight 0\n",
      "engine-type 0\n",
      "num-of-cylinders 0\n",
      "engine-size 0\n",
      "fuel-system 0\n",
      "bore 4\n",
      "stroke 4\n",
      "compression-ratio 0\n",
      "horsepower 2\n",
      "peak-rpm 2\n",
      "city-mpg 0\n",
      "highway-mpg 0\n",
      "price 4\n"
     ]
    }
   ],
   "source": [
    "# それぞれのカラムに ? が何個あるかカウント(確認)\n",
    "for col_name in auto_data.columns:\n",
    "    print(col_name,sum(auto_data[col_name].isin(['?'])))"
   ]
  },
  {
   "cell_type": "markdown",
   "metadata": {
    "deletable": true,
    "editable": true
   },
   "source": [
    "priceの他にもhorsepowerに?があるので、除外します。"
   ]
  },
  {
   "cell_type": "code",
   "execution_count": 6,
   "metadata": {
    "collapsed": false,
    "deletable": true,
    "editable": true
   },
   "outputs": [],
   "source": [
    "sub_auto_data = auto_data[[\"price\",\"horsepower\",\"width\",\"height\"]]\n",
    "sub_auto_data = sub_auto_data.replace('?', np.nan).dropna()"
   ]
  },
  {
   "cell_type": "markdown",
   "metadata": {
    "deletable": true,
    "editable": true
   },
   "source": [
    "また、扱う変数が数値ではないため、数値に変換をします。"
   ]
  },
  {
   "cell_type": "code",
   "execution_count": 7,
   "metadata": {
    "collapsed": false,
    "deletable": true,
    "editable": true
   },
   "outputs": [
    {
     "data": {
      "text/html": [
       "<div>\n",
       "<table border=\"1\" class=\"dataframe\">\n",
       "  <thead>\n",
       "    <tr style=\"text-align: right;\">\n",
       "      <th></th>\n",
       "      <th>price</th>\n",
       "      <th>horsepower</th>\n",
       "      <th>width</th>\n",
       "      <th>height</th>\n",
       "    </tr>\n",
       "  </thead>\n",
       "  <tbody>\n",
       "    <tr>\n",
       "      <th>0</th>\n",
       "      <td>13495</td>\n",
       "      <td>111</td>\n",
       "      <td>64.1</td>\n",
       "      <td>48.8</td>\n",
       "    </tr>\n",
       "    <tr>\n",
       "      <th>1</th>\n",
       "      <td>16500</td>\n",
       "      <td>111</td>\n",
       "      <td>64.1</td>\n",
       "      <td>48.8</td>\n",
       "    </tr>\n",
       "    <tr>\n",
       "      <th>2</th>\n",
       "      <td>16500</td>\n",
       "      <td>154</td>\n",
       "      <td>65.5</td>\n",
       "      <td>52.4</td>\n",
       "    </tr>\n",
       "    <tr>\n",
       "      <th>3</th>\n",
       "      <td>13950</td>\n",
       "      <td>102</td>\n",
       "      <td>66.2</td>\n",
       "      <td>54.3</td>\n",
       "    </tr>\n",
       "    <tr>\n",
       "      <th>4</th>\n",
       "      <td>17450</td>\n",
       "      <td>115</td>\n",
       "      <td>66.4</td>\n",
       "      <td>54.3</td>\n",
       "    </tr>\n",
       "  </tbody>\n",
       "</table>\n",
       "</div>"
      ],
      "text/plain": [
       "   price  horsepower  width  height\n",
       "0  13495         111   64.1    48.8\n",
       "1  16500         111   64.1    48.8\n",
       "2  16500         154   65.5    52.4\n",
       "3  13950         102   66.2    54.3\n",
       "4  17450         115   66.4    54.3"
      ]
     },
     "execution_count": 7,
     "metadata": {},
     "output_type": "execute_result"
    }
   ],
   "source": [
    "sub_auto_data = sub_auto_data.assign(price=pd.to_numeric(sub_auto_data.price))\n",
    "sub_auto_data = sub_auto_data.assign(horsepower=pd.to_numeric(sub_auto_data.horsepower))\n",
    "sub_auto_data.head()"
   ]
  },
  {
   "cell_type": "markdown",
   "metadata": {
    "deletable": true,
    "editable": true
   },
   "source": [
    "なお、簡単ですが、各変数の相関行列を見てみましょう。priceは今回の目的変数なので、それ以外の3つの変数に注目をすると、widthとhorsepowerが若干相関係数が高めに出ています。なぜこのようなチェックをしているかというと、**多重共線性**という現象が生じるからです。同じような（相関の強い）説明変数をモデルに投入しても、モデルの説明力が上がるわけではなく、むしろノイズに敏感になってしまい、モデルが不安定になります。通常、同じような変数からは、代表とする変数のみモデルに使用します。"
   ]
  },
  {
   "cell_type": "code",
   "execution_count": 12,
   "metadata": {
    "collapsed": false,
    "deletable": true,
    "editable": true
   },
   "outputs": [
    {
     "data": {
      "text/html": [
       "<div>\n",
       "<table border=\"1\" class=\"dataframe\">\n",
       "  <thead>\n",
       "    <tr style=\"text-align: right;\">\n",
       "      <th></th>\n",
       "      <th>price</th>\n",
       "      <th>horsepower</th>\n",
       "      <th>width</th>\n",
       "      <th>height</th>\n",
       "    </tr>\n",
       "  </thead>\n",
       "  <tbody>\n",
       "    <tr>\n",
       "      <th>price</th>\n",
       "      <td>1.000000</td>\n",
       "      <td>0.810533</td>\n",
       "      <td>0.753871</td>\n",
       "      <td>0.134990</td>\n",
       "    </tr>\n",
       "    <tr>\n",
       "      <th>horsepower</th>\n",
       "      <td>0.810533</td>\n",
       "      <td>1.000000</td>\n",
       "      <td>0.615315</td>\n",
       "      <td>-0.087407</td>\n",
       "    </tr>\n",
       "    <tr>\n",
       "      <th>width</th>\n",
       "      <td>0.753871</td>\n",
       "      <td>0.615315</td>\n",
       "      <td>1.000000</td>\n",
       "      <td>0.309223</td>\n",
       "    </tr>\n",
       "    <tr>\n",
       "      <th>height</th>\n",
       "      <td>0.134990</td>\n",
       "      <td>-0.087407</td>\n",
       "      <td>0.309223</td>\n",
       "      <td>1.000000</td>\n",
       "    </tr>\n",
       "  </tbody>\n",
       "</table>\n",
       "</div>"
      ],
      "text/plain": [
       "               price  horsepower     width    height\n",
       "price       1.000000    0.810533  0.753871  0.134990\n",
       "horsepower  0.810533    1.000000  0.615315 -0.087407\n",
       "width       0.753871    0.615315  1.000000  0.309223\n",
       "height      0.134990   -0.087407  0.309223  1.000000"
      ]
     },
     "execution_count": 12,
     "metadata": {},
     "output_type": "execute_result"
    }
   ],
   "source": [
    "sub_auto_data.corr()"
   ]
  },
  {
   "cell_type": "markdown",
   "metadata": {
    "deletable": true,
    "editable": true
   },
   "source": [
    "それでは、早速、モデリングをしてみましょう。なお、ここでcross_validationのモジュールを使って、モデリングを構築する時に、学習データとテストデータに分けて、モデルスコアをチェックしています。簡単に言うと、モデルの汎化能力を確かめるためのアプローチで、作ったモデルをチェックするために、あらかじめテストデータを抜いておきます。詳しいことは次の9章で学びます。また、random_stateを固定し再現性を持たせておくって実務上は大事なので、random_state=0と設定しています（以後、基本的に固定します）。"
   ]
  },
  {
   "cell_type": "code",
   "execution_count": 26,
   "metadata": {
    "collapsed": false,
    "deletable": true,
    "editable": true
   },
   "outputs": [
    {
     "name": "stdout",
     "output_type": "stream",
     "text": [
      "train: LinearRegression 0.73335756839\n",
      "test: LinearRegression 0.737068873813\n",
      "   Coefficients        Name\n",
      "0     81.651078  horsepower\n",
      "2    229.510077      height\n",
      "1   1829.174506       width\n",
      "-128409.046303\n"
     ]
    }
   ],
   "source": [
    "from sklearn.model_selection import train_test_split\n",
    "\n",
    "# モデル\n",
    "from sklearn import linear_model\n",
    "\n",
    "# モデルのインスタンス\n",
    "l_model = linear_model.LinearRegression()\n",
    " \n",
    "# 説明変数に \"price\" 以外を利用\n",
    "X = sub_auto_data.drop(\"price\", axis=1)\n",
    "\n",
    "# 目的変数\n",
    "Y = sub_auto_data[\"price\"]\n",
    "\n",
    "# データの分割（学習データとテストデータ分ける）\n",
    "X_train, X_test, y_train, y_test = train_test_split(X, Y, test_size=0.5,random_state=0)\n",
    "\n",
    "# モデルのあてはめ\n",
    "clf = l_model.fit(X_train,y_train)\n",
    "print(\"train:\",clf.__class__.__name__ ,clf.score(X_train,y_train))\n",
    "print(\"test:\",clf.__class__.__name__ , clf.score(X_test,y_test))\n",
    " \n",
    "# 偏回帰係数\n",
    "print(pd.DataFrame({\"Name\":X.columns,\n",
    "                    \"Coefficients\":clf.coef_}).sort_values(by='Coefficients') )\n",
    " \n",
    "# 切片 \n",
    "print(clf.intercept_)"
   ]
  },
  {
   "cell_type": "markdown",
   "metadata": {
    "deletable": true,
    "editable": true
   },
   "source": [
    "決定係数はtrain(学習データ)で73%、test(テストデータ)で73%という結果なので、モデルが過学習に陥ってはいないようです。"
   ]
  },
  {
   "cell_type": "markdown",
   "metadata": {
    "deletable": true,
    "editable": true
   },
   "source": [
    "なお、他のモジュールですが、statsmodelsも重回帰分析等が計算できます。統計フリーソフトウェアのR言語を使い慣れている方は、以下のような表示に見慣れていると思いますので、参考に記載します。（なお、以下は訓練データとテストデータには分けず、モデルをそのまま適応しています。）"
   ]
  },
  {
   "cell_type": "code",
   "execution_count": 14,
   "metadata": {
    "collapsed": true,
    "deletable": true,
    "editable": true
   },
   "outputs": [],
   "source": [
    "import statsmodels.api as sm\n",
    "import statsmodels.formula.api as smf"
   ]
  },
  {
   "cell_type": "code",
   "execution_count": 15,
   "metadata": {
    "collapsed": false,
    "deletable": true,
    "editable": true
   },
   "outputs": [],
   "source": [
    "results = smf.ols('price ~ horsepower+width+height', data=sub_auto_data).fit()"
   ]
  },
  {
   "cell_type": "code",
   "execution_count": 16,
   "metadata": {
    "collapsed": false,
    "deletable": true,
    "editable": true
   },
   "outputs": [
    {
     "data": {
      "text/html": [
       "<table class=\"simpletable\">\n",
       "<caption>OLS Regression Results</caption>\n",
       "<tr>\n",
       "  <th>Dep. Variable:</th>          <td>price</td>      <th>  R-squared:         </th> <td>   0.766</td>\n",
       "</tr>\n",
       "<tr>\n",
       "  <th>Model:</th>                   <td>OLS</td>       <th>  Adj. R-squared:    </th> <td>   0.762</td>\n",
       "</tr>\n",
       "<tr>\n",
       "  <th>Method:</th>             <td>Least Squares</td>  <th>  F-statistic:       </th> <td>   212.6</td>\n",
       "</tr>\n",
       "<tr>\n",
       "  <th>Date:</th>             <td>Wed, 03 May 2017</td> <th>  Prob (F-statistic):</th> <td>3.28e-61</td>\n",
       "</tr>\n",
       "<tr>\n",
       "  <th>Time:</th>                 <td>19:35:56</td>     <th>  Log-Likelihood:    </th> <td> -1925.3</td>\n",
       "</tr>\n",
       "<tr>\n",
       "  <th>No. Observations:</th>      <td>   199</td>      <th>  AIC:               </th> <td>   3859.</td>\n",
       "</tr>\n",
       "<tr>\n",
       "  <th>Df Residuals:</th>          <td>   195</td>      <th>  BIC:               </th> <td>   3872.</td>\n",
       "</tr>\n",
       "<tr>\n",
       "  <th>Df Model:</th>              <td>     3</td>      <th>                     </th>     <td> </td>   \n",
       "</tr>\n",
       "<tr>\n",
       "  <th>Covariance Type:</th>      <td>nonrobust</td>    <th>                     </th>     <td> </td>   \n",
       "</tr>\n",
       "</table>\n",
       "<table class=\"simpletable\">\n",
       "<tr>\n",
       "       <td></td>         <th>coef</th>     <th>std err</th>      <th>t</th>      <th>P>|t|</th> <th>[95.0% Conf. Int.]</th> \n",
       "</tr>\n",
       "<tr>\n",
       "  <th>Intercept</th>  <td>-1.041e+05</td> <td> 1.05e+04</td> <td>   -9.919</td> <td> 0.000</td> <td>-1.25e+05 -8.34e+04</td>\n",
       "</tr>\n",
       "<tr>\n",
       "  <th>horsepower</th> <td>  125.4389</td> <td>   10.055</td> <td>   12.476</td> <td> 0.000</td> <td>  105.609   145.269</td>\n",
       "</tr>\n",
       "<tr>\n",
       "  <th>width</th>      <td> 1391.1852</td> <td>  187.367</td> <td>    7.425</td> <td> 0.000</td> <td> 1021.659  1760.712</td>\n",
       "</tr>\n",
       "<tr>\n",
       "  <th>height</th>     <td>  237.2959</td> <td>  127.905</td> <td>    1.855</td> <td> 0.065</td> <td>  -14.959   489.550</td>\n",
       "</tr>\n",
       "</table>\n",
       "<table class=\"simpletable\">\n",
       "<tr>\n",
       "  <th>Omnibus:</th>       <td>32.318</td> <th>  Durbin-Watson:     </th> <td>   0.874</td>\n",
       "</tr>\n",
       "<tr>\n",
       "  <th>Prob(Omnibus):</th> <td> 0.000</td> <th>  Jarque-Bera (JB):  </th> <td>  49.916</td>\n",
       "</tr>\n",
       "<tr>\n",
       "  <th>Skew:</th>          <td> 0.901</td> <th>  Prob(JB):          </th> <td>1.45e-11</td>\n",
       "</tr>\n",
       "<tr>\n",
       "  <th>Kurtosis:</th>      <td> 4.666</td> <th>  Cond. No.          </th> <td>5.22e+03</td>\n",
       "</tr>\n",
       "</table>"
      ],
      "text/plain": [
       "<class 'statsmodels.iolib.summary.Summary'>\n",
       "\"\"\"\n",
       "                            OLS Regression Results                            \n",
       "==============================================================================\n",
       "Dep. Variable:                  price   R-squared:                       0.766\n",
       "Model:                            OLS   Adj. R-squared:                  0.762\n",
       "Method:                 Least Squares   F-statistic:                     212.6\n",
       "Date:                Wed, 03 May 2017   Prob (F-statistic):           3.28e-61\n",
       "Time:                        19:35:56   Log-Likelihood:                -1925.3\n",
       "No. Observations:                 199   AIC:                             3859.\n",
       "Df Residuals:                     195   BIC:                             3872.\n",
       "Df Model:                           3                                         \n",
       "Covariance Type:            nonrobust                                         \n",
       "==============================================================================\n",
       "                 coef    std err          t      P>|t|      [95.0% Conf. Int.]\n",
       "------------------------------------------------------------------------------\n",
       "Intercept  -1.041e+05   1.05e+04     -9.919      0.000     -1.25e+05 -8.34e+04\n",
       "horsepower   125.4389     10.055     12.476      0.000       105.609   145.269\n",
       "width       1391.1852    187.367      7.425      0.000      1021.659  1760.712\n",
       "height       237.2959    127.905      1.855      0.065       -14.959   489.550\n",
       "==============================================================================\n",
       "Omnibus:                       32.318   Durbin-Watson:                   0.874\n",
       "Prob(Omnibus):                  0.000   Jarque-Bera (JB):               49.916\n",
       "Skew:                           0.901   Prob(JB):                     1.45e-11\n",
       "Kurtosis:                       4.666   Cond. No.                     5.22e+03\n",
       "==============================================================================\n",
       "\n",
       "Warnings:\n",
       "[1] Standard Errors assume that the covariance matrix of the errors is correctly specified.\n",
       "[2] The condition number is large, 5.22e+03. This might indicate that there are\n",
       "strong multicollinearity or other numerical problems.\n",
       "\"\"\""
      ]
     },
     "execution_count": 16,
     "metadata": {},
     "output_type": "execute_result"
    }
   ],
   "source": [
    "results.summary()"
   ]
  },
  {
   "cell_type": "markdown",
   "metadata": {
    "deletable": true,
    "editable": true
   },
   "source": [
    "heightのp-valueが有意水準を5%とした場合、若干上回っていますが、そこまで高い数値ではないので、その場の状況において判断しましょう。p値（p-value）が小さいと、その説明変数は確率論的にモデルの説明力に寄与していると言えますが、決定係数やデータ自体に対する知見を持って総合的に判断することが重要です。"
   ]
  },
  {
   "cell_type": "markdown",
   "metadata": {
    "deletable": true,
    "editable": true
   },
   "source": [
    "なお、ここではモデリングする際に変数をhorsepower、width、heightに決めて実装しました。この時に、「なんでこれらの変数なのか」思われるのは自然で、変数を選択するための方法もいくつかあります。具体的には、**変数増加法（前進的選択法）**、**変数減少法（後退的選択法）**、**ステップワイズ法**など、また選択するための規準（RMSE（Root Mean Squared Error）、赤池情報量規準（AIC）、ベイズ情報量規準（BIC）など）があります。\n",
    "\n",
    "もちろん、これらも絶対的にこの方法が有効という基準はなく、データの予測精度だったり、ビジネス的な理由である変数を入れる必要があったりします。上の方法については詳細はここでは述べませんが、興味のある方は調べてみてください。"
   ]
  },
  {
   "cell_type": "markdown",
   "metadata": {
    "deletable": true,
    "editable": true
   },
   "source": [
    ">**[やってみよう]**\n",
    "\n",
    ">上の変数選択法や情報量規準について調べてみましょう。どのような方法で、それぞれどんな特徴がありますか。"
   ]
  },
  {
   "cell_type": "markdown",
   "metadata": {
    "deletable": true,
    "editable": true
   },
   "source": [
    "####  <練習問題 1>\n",
    "上記のデータを使って、目的変数は同じpriceで、説明変数lengthとengine-sizeを使って、重回帰分析をしてみましょう。ただし、学習データとテストデータが半分になるように分けてモデリングして、テストデータでスコアを求めてください。なお、学習データとテストデータ分けるメソッドのrandom_stateは0に設定して実施してください。"
   ]
  },
  {
   "cell_type": "markdown",
   "metadata": {
    "deletable": true,
    "editable": true
   },
   "source": [
    "### 8.2.2 ロジスティック回帰分析\n",
    "キーワード：ロジスティック回帰分析"
   ]
  },
  {
   "cell_type": "markdown",
   "metadata": {
    "deletable": true,
    "editable": true
   },
   "source": [
    "先ほどの重回帰分析は目的変数が連続数値で、その数値の予測を実施しました。次は、予測したい変数が連続数値ではなく、例えば、ある商品を買うか買わないか、ある会社が倒産するかしないか等を予測したいケースについて考えてみます。このようにあるグループに属するかどうかというのを確率を計算するアプローチがロジスティック回帰分析です。"
   ]
  },
  {
   "cell_type": "markdown",
   "metadata": {
    "deletable": true,
    "editable": true
   },
   "source": [
    "次のデータで収入が50K を超えるかどうかを目的変数として、モデリングしてみましょう。まずは、以下のようにデータを取得し、カラム名を設定します。"
   ]
  },
  {
   "cell_type": "code",
   "execution_count": 35,
   "metadata": {
    "collapsed": false,
    "deletable": true,
    "editable": true
   },
   "outputs": [],
   "source": [
    "# データの取得\n",
    "import requests, zipfile\n",
    "from io import StringIO\n",
    "import io\n",
    "\n",
    "# url \n",
    "adult_data_url = \"http://archive.ics.uci.edu/ml/machine-learning-databases/adult/adult.data\"\n",
    "s=requests.get(adult_data_url).content\n",
    "adult_data = pd.read_csv(io.StringIO(s.decode('utf-8')),header=None)\n",
    "adult_data.columns =[\"age\",\"workclass\",\"fnlwgt\",\"education\"\n",
    "                     ,\"education-num\",\"marital-status\",\"occupation\"\n",
    "                     ,\"relationship\",\"race\",\"sex\",\"capital-gain\"\n",
    "                     ,\"capital-loss\",\"hours-per-week\",\"native-country\",\"flg-50K\"]"
   ]
  },
  {
   "cell_type": "markdown",
   "metadata": {
    "deletable": true,
    "editable": true
   },
   "source": [
    "いつもと同じようにどんなデータがあるか眺めてみましょう。"
   ]
  },
  {
   "cell_type": "code",
   "execution_count": 37,
   "metadata": {
    "collapsed": false,
    "deletable": true,
    "editable": true
   },
   "outputs": [
    {
     "name": "stdout",
     "output_type": "stream",
     "text": [
      "<class 'pandas.core.frame.DataFrame'>\n",
      "RangeIndex: 32561 entries, 0 to 32560\n",
      "Data columns (total 15 columns):\n",
      "age               32561 non-null int64\n",
      "workclass         32561 non-null object\n",
      "fnlwgt            32561 non-null int64\n",
      "education         32561 non-null object\n",
      "education-num     32561 non-null int64\n",
      "marital-status    32561 non-null object\n",
      "occupation        32561 non-null object\n",
      "relationship      32561 non-null object\n",
      "race              32561 non-null object\n",
      "sex               32561 non-null object\n",
      "capital-gain      32561 non-null int64\n",
      "capital-loss      32561 non-null int64\n",
      "hours-per-week    32561 non-null int64\n",
      "native-country    32561 non-null object\n",
      "flg-50K           32561 non-null object\n",
      "dtypes: int64(6), object(9)\n",
      "memory usage: 3.7+ MB\n"
     ]
    }
   ],
   "source": [
    "adult_data.info()"
   ]
  },
  {
   "cell_type": "markdown",
   "metadata": {
    "deletable": true,
    "editable": true
   },
   "source": [
    "目的変数は「flg-50K」になります。このままでは若干扱いにくいので、フラグを立てることにしましょう。"
   ]
  },
  {
   "cell_type": "code",
   "execution_count": 96,
   "metadata": {
    "collapsed": false,
    "deletable": true,
    "editable": true
   },
   "outputs": [
    {
     "data": {
      "text/plain": [
       "flg-50K\n",
       " <=50K    24720\n",
       " >50K      7841\n",
       "dtype: int64"
      ]
     },
     "execution_count": 96,
     "metadata": {},
     "output_type": "execute_result"
    }
   ],
   "source": [
    "adult_data.groupby(\"flg-50K\").size()"
   ]
  },
  {
   "cell_type": "markdown",
   "metadata": {
    "deletable": true,
    "editable": true
   },
   "source": [
    "記号の「>50K」を1として、それ以外は0とします。lambda関数を使いましょう。"
   ]
  },
  {
   "cell_type": "code",
   "execution_count": 38,
   "metadata": {
    "collapsed": false,
    "deletable": true,
    "editable": true
   },
   "outputs": [],
   "source": [
    "# 目的変数：flg立てをする\n",
    "adult_data[\"fin_flg\"] = adult_data[\"flg-50K\"].map(lambda x: 1 if x ==' >50K' else 0)"
   ]
  },
  {
   "cell_type": "markdown",
   "metadata": {
    "deletable": true,
    "editable": true
   },
   "source": [
    "念のため上の集計結果と同じデータであることをチェックしています。"
   ]
  },
  {
   "cell_type": "code",
   "execution_count": 100,
   "metadata": {
    "collapsed": false,
    "deletable": true,
    "editable": true
   },
   "outputs": [
    {
     "data": {
      "text/plain": [
       "fin_flg\n",
       "0    24720\n",
       "1     7841\n",
       "dtype: int64"
      ]
     },
     "execution_count": 100,
     "metadata": {},
     "output_type": "execute_result"
    }
   ],
   "source": [
    "adult_data.groupby(\"fin_flg\").size()"
   ]
  },
  {
   "cell_type": "markdown",
   "metadata": {
    "deletable": true,
    "editable": true
   },
   "source": [
    "いよいよモデリングです。説明変数としては、\"age\",\"fnlwgt\",\"education-num\",\"capital-gain\",\"capital-loss\"を使うことにしましょう。また、ロジスティック回帰はLogisticRegressionを使います。"
   ]
  },
  {
   "cell_type": "code",
   "execution_count": 41,
   "metadata": {
    "collapsed": false,
    "deletable": true,
    "editable": true
   },
   "outputs": [
    {
     "name": "stdout",
     "output_type": "stream",
     "text": [
      "train result: 0.797379197379\n",
      "test result: 0.794988330672\n"
     ]
    }
   ],
   "source": [
    "# ロジスティック回帰\n",
    "from sklearn.linear_model import LogisticRegression\n",
    "from sklearn.model_selection import train_test_split\n",
    "\n",
    "# 説明変数と目的変数\n",
    "X = adult_data[[\"age\",\"fnlwgt\",\"education-num\",\"capital-gain\",\"capital-loss\"]]\n",
    "Y = adult_data['fin_flg']\n",
    "\n",
    "# 学習データとテストデータに分ける\n",
    "X_train, X_test, y_train, y_test = train_test_split(X,Y,random_state=0)\n",
    "\n",
    "# ロジスティック回帰のインスタンス\n",
    "model = LogisticRegression()\n",
    "clf = model.fit(X_train,y_train)\n",
    "\n",
    "print(\"train result:\",clf.score(X_train,y_train))\n",
    "print(\"test result:\" , clf.score(X_test,y_test))"
   ]
  },
  {
   "cell_type": "markdown",
   "metadata": {
    "deletable": true,
    "editable": true
   },
   "source": [
    "なお、特徴量(ここではX)の標準化を実施してみます。以下の結果を見てみると、スコア（正解率）が上がっています。標準化とは、スケーリングの一種で、それぞれの変数のスケールを合わせます。このように特徴量の尺度を揃えることで、機械学習のアルゴリズムがうまく動作します。ただし、後から述べる決定木等は単なる大小比較のため、変わりません。"
   ]
  },
  {
   "cell_type": "code",
   "execution_count": 42,
   "metadata": {
    "collapsed": false,
    "deletable": true,
    "editable": true
   },
   "outputs": [
    {
     "name": "stdout",
     "output_type": "stream",
     "text": [
      "train: 0.810483210483\n",
      "test: 0.809974204643\n"
     ]
    }
   ],
   "source": [
    "# ロジスティック回帰\n",
    "from sklearn.linear_model import LogisticRegression\n",
    "from sklearn.model_selection import train_test_split\n",
    "\n",
    "# 標準化のためのモジュール\n",
    "from sklearn.preprocessing import StandardScaler\n",
    "\n",
    "# 説明変数と目的変数\n",
    "X = adult_data[[\"age\",\"fnlwgt\",\"education-num\",\"capital-gain\",\"capital-loss\"]]\n",
    "Y = adult_data['fin_flg']\n",
    "\n",
    "# 学習データとテストデータに分ける\n",
    "X_train, X_test, y_train, y_test = train_test_split(X,Y,random_state=0)\n",
    "\n",
    "# ロジスティック回帰\n",
    "model = LogisticRegression()\n",
    "\n",
    "# 標準化\n",
    "sc = StandardScaler()\n",
    "sc.fit(X_train)\n",
    "X_train_std = sc.transform(X_train)\n",
    "X_test_std = sc.transform(X_test)\n",
    "\n",
    "clf = model.fit(X_train_std,y_train)\n",
    "print(\"train:\",clf.score(X_train_std,y_train))\n",
    "print(\"test:\", clf.score(X_test_std,y_test))"
   ]
  },
  {
   "cell_type": "markdown",
   "metadata": {
    "deletable": true,
    "editable": true
   },
   "source": [
    "####  <練習問題 1>\n",
    "sklearn.datasetsのload_breast_cancerを読み込んで、目的変数をcancer.targetとして、cancer.dataを説明変数にロジスティック回帰で予測モデルを構築してください。この時、訓練データとテストデータに分けるtrain_test_split（random_state=0）を使って、テストデータにおけるスコアを求めてください。ただし、変数は標準化してください。"
   ]
  },
  {
   "cell_type": "markdown",
   "metadata": {
    "deletable": true,
    "editable": true
   },
   "source": [
    "### 8.2.3 正則化、ラッソ回帰、リッジ回帰\n",
    "キーワード：正則化、ラッソ回帰、リッジ回帰"
   ]
  },
  {
   "cell_type": "markdown",
   "metadata": {
    "deletable": true,
    "editable": true
   },
   "source": [
    "複雑なモデルを作れば、今持っているデータにマッチするモデルはできるかもしれません。しかし、重要なのはモデルの汎化能力です。ここでは、モデルをシンプルにしたとき、今持っているデータだけでなく、未知のデータをうまく予測できることを考えます。\n",
    "\n",
    "1章で最小2乗法で誤差を考えましたが、そこにこのモデルの複雑さを表す式を加えます。この場合、複雑なモデルであればあるほどペナルティを与えられ、これを**正則化**といいます。またその正則化項は以下のようになり、q=1の時はラッソ回帰、q=2の時はリッジ回帰と言います。（M：変数の数、w：重み付け（係数）、λ：正則化パラメータ）"
   ]
  },
  {
   "cell_type": "markdown",
   "metadata": {
    "deletable": true,
    "editable": true
   },
   "source": [
    "\\begin{eqnarray}\n",
    "\\lambda\\sum^M_{j=1} |w_{j}|^q\n",
    "\\end{eqnarray}"
   ]
  },
  {
   "cell_type": "markdown",
   "metadata": {
    "deletable": true,
    "editable": true
   },
   "source": [
    "重回帰、ロジスティック回帰が、投入する説明変数の多さによってモデルの複雑性を調整するのに対し、ラッソ回帰、リッジ回帰はパラメータ自体の大きさを小さく抑えることによってモデルの複雑性を調整するアプローチと考えることができます。モデルをシンプルにすることで、トレーニングスコアとテストスコアに乖離がある場合、改善されることがあります。"
   ]
  },
  {
   "cell_type": "markdown",
   "metadata": {
    "deletable": true,
    "editable": true
   },
   "source": [
    "ここでは、普通の線形回帰とリッジ回帰を見てみます。モジュールはlinear_modelで、リッジ回帰はRidgeを使います。"
   ]
  },
  {
   "cell_type": "code",
   "execution_count": 270,
   "metadata": {
    "collapsed": false,
    "deletable": true,
    "editable": true
   },
   "outputs": [
    {
     "name": "stdout",
     "output_type": "stream",
     "text": [
      "train: LinearRegression 0.782686854362\n",
      "test: LinearRegression 0.719716283547\n",
      "train: Ridge 0.742025513043\n",
      "test: Ridge 0.740765900204\n"
     ]
    }
   ],
   "source": [
    "from sklearn import linear_model\n",
    "\n",
    "from sklearn.model_selection import train_test_split\n",
    "from sklearn.datasets import load_breast_cancer\n",
    "\n",
    "cancer = load_breast_cancer()\n",
    "X_train, X_test, y_train, y_test = train_test_split(\n",
    "    cancer.data, cancer.target, stratify = cancer.target)\n",
    "\n",
    "# 普通の線形回帰\n",
    "model_linear = linear_model.LinearRegression()\n",
    "# リッジ回帰\n",
    "model_ridge = linear_model.Ridge()\n",
    "\n",
    "\n",
    "for model in [model_linear,model_ridge]:\n",
    "    clf = model.fit(X_train,y_train)\n",
    "    print(\"train:\",clf.__class__.__name__ ,clf.score(X_train,y_train))\n",
    "    print(\"test:\",clf.__class__.__name__ , clf.score(X_test,y_test))"
   ]
  },
  {
   "cell_type": "markdown",
   "metadata": {
    "deletable": true,
    "editable": true
   },
   "source": [
    "上の結果から、訓練データは普通の線形回帰がスコアが良くなっていますが、テストデータはリッジ回帰が良くなっているのがわかります。"
   ]
  },
  {
   "cell_type": "markdown",
   "metadata": {
    "deletable": true,
    "editable": true
   },
   "source": [
    "### 8.2.4 決定木\n",
    "キーワード：決定木、分類木、回帰木、エントロピー、情報利得、ジニ不純度、分類誤差"
   ]
  },
  {
   "cell_type": "markdown",
   "metadata": {
    "deletable": true,
    "editable": true
   },
   "source": [
    "ここで扱っていくデータはキノコのデータです。キノコには食用キノコとそうでないもの（毒キノコ）がありますが、今回の目的は、このキノコが食用かどうかを見分けることです。仮に、無人島などにおかれてキノコしかないときには、命に関わる切実な問題になりますので、必死に考えていきましょう。さて、キノコの属性として色々なデータがあります。カサの形、匂い、ヒダの大きさなどです。今回扱うデータには、それらの属性データが20種類以上もあります。この属性データから、例えば、かさの形が円錐形かそうでないかで、ヒダの色が黒色なのか赤色なのか、その大きさは大きいのか小さいのか、というように条件分岐をしていき、最終的にそのキノコが毒かそうでないかを見分けます。"
   ]
  },
  {
   "cell_type": "markdown",
   "metadata": {
    "deletable": true,
    "editable": true
   },
   "source": [
    "![](http://www.prairiemushrooms.com/files/styles/banner_image_view_masthead_block/public/banner/image/Banner_Image_-_Various_Mushrooms.jpg?itok=Ka6WfrJa)"
   ]
  },
  {
   "cell_type": "markdown",
   "metadata": {
    "deletable": true,
    "editable": true
   },
   "source": [
    "参照URL:http://www.prairiemushrooms.com/files/styles/banner_image_view_masthead_block/public/banner/image/Banner_Image_-_Various_Mushrooms.jpg?itok=Ka6WfrJa"
   ]
  },
  {
   "cell_type": "markdown",
   "metadata": {
    "deletable": true,
    "editable": true
   },
   "source": [
    "このように、データが与えられた時に、ある目的（今回は毒キノコかそうでないか、他の活用例は購買するかどうかなど）に到達するために、各属性の条件分岐をして、グループに分けていく方法を**決定木**といいます。目的に辿りつくのにいろいろなルートがあり、それがツリー状になっているために決定木といいます。さらに、この決定木は、目的となる変数がグループ分けの場合は**分類木**といいますが、連続値である場合も使うことができて、それを**回帰木**といいます。"
   ]
  },
  {
   "cell_type": "markdown",
   "metadata": {
    "deletable": true,
    "editable": true
   },
   "source": [
    "参照URL：http://blogs.teradata.com/international/ja/hhg14/"
   ]
  },
  {
   "cell_type": "markdown",
   "metadata": {
    "deletable": true,
    "editable": true
   },
   "source": [
    "ビジネスの現場としては、マーケティングの分野で、ある商品を購買をする人がどのような属性を持っているのか(\n",
    "女性なのか男性なのか、年収は平均以上かそうでないか、別の商品を買っているかどうかなど)、いろいろと条件分岐ができ、**セグメンテーション**のアプローチにも使われたります。"
   ]
  },
  {
   "cell_type": "markdown",
   "metadata": {
    "deletable": true,
    "editable": true
   },
   "source": [
    "それでは、早速このキノコデータを読み込んでみましょう。"
   ]
  },
  {
   "cell_type": "code",
   "execution_count": 45,
   "metadata": {
    "collapsed": false,
    "deletable": true,
    "editable": true
   },
   "outputs": [],
   "source": [
    "# きのこデータの取得\n",
    "import requests, zipfile\n",
    "from io import StringIO\n",
    "import io\n",
    "import pandas as pd\n",
    "\n",
    "# url \n",
    "mush_data_url = \"http://archive.ics.uci.edu/ml/machine-learning-databases/mushroom/agaricus-lepiota.data\"\n",
    "s=requests.get(mush_data_url).content\n",
    "\n",
    "mush_data = pd.read_csv(io.StringIO(s.decode('utf-8')),header=None)\n",
    "\n",
    "mush_data.columns =[\"classes\",\"cap_shape\",\"cap_surface\",\"cap_color\",\"odor\",\"bruises\",\n",
    "                    \"gill_attachment\",\"gill_spacing\",\"gill_size\",\"gill_color\",\"stalk_shape\",\n",
    "                   \"stalk_root\",\"stalk_surface_above_ring\",\"stalk_surface_below_ring\",\n",
    "                    \"stalk_color_above_ring\",\"stalk_color_below_ring\",\"veil_type\",\"veil_color\",\n",
    "                    \"ring_number\",\"ring_type\",\"spore_print_color\",\"population\",\"habitat\"]"
   ]
  },
  {
   "cell_type": "markdown",
   "metadata": {
    "deletable": true,
    "editable": true
   },
   "source": [
    "目的変数は、classesです。これが、pの場合は毒、eの場合は食用です。それらの属性がそれぞれ付いています。"
   ]
  },
  {
   "cell_type": "code",
   "execution_count": 46,
   "metadata": {
    "collapsed": false,
    "deletable": true,
    "editable": true
   },
   "outputs": [
    {
     "data": {
      "text/html": [
       "<div>\n",
       "<table border=\"1\" class=\"dataframe\">\n",
       "  <thead>\n",
       "    <tr style=\"text-align: right;\">\n",
       "      <th></th>\n",
       "      <th>classes</th>\n",
       "      <th>cap_shape</th>\n",
       "      <th>cap_surface</th>\n",
       "      <th>cap_color</th>\n",
       "      <th>odor</th>\n",
       "      <th>bruises</th>\n",
       "      <th>gill_attachment</th>\n",
       "      <th>gill_spacing</th>\n",
       "      <th>gill_size</th>\n",
       "      <th>gill_color</th>\n",
       "      <th>...</th>\n",
       "      <th>stalk_surface_below_ring</th>\n",
       "      <th>stalk_color_above_ring</th>\n",
       "      <th>stalk_color_below_ring</th>\n",
       "      <th>veil_type</th>\n",
       "      <th>veil_color</th>\n",
       "      <th>ring_number</th>\n",
       "      <th>ring_type</th>\n",
       "      <th>spore_print_color</th>\n",
       "      <th>population</th>\n",
       "      <th>habitat</th>\n",
       "    </tr>\n",
       "  </thead>\n",
       "  <tbody>\n",
       "    <tr>\n",
       "      <th>0</th>\n",
       "      <td>p</td>\n",
       "      <td>x</td>\n",
       "      <td>s</td>\n",
       "      <td>n</td>\n",
       "      <td>t</td>\n",
       "      <td>p</td>\n",
       "      <td>f</td>\n",
       "      <td>c</td>\n",
       "      <td>n</td>\n",
       "      <td>k</td>\n",
       "      <td>...</td>\n",
       "      <td>s</td>\n",
       "      <td>w</td>\n",
       "      <td>w</td>\n",
       "      <td>p</td>\n",
       "      <td>w</td>\n",
       "      <td>o</td>\n",
       "      <td>p</td>\n",
       "      <td>k</td>\n",
       "      <td>s</td>\n",
       "      <td>u</td>\n",
       "    </tr>\n",
       "    <tr>\n",
       "      <th>1</th>\n",
       "      <td>e</td>\n",
       "      <td>x</td>\n",
       "      <td>s</td>\n",
       "      <td>y</td>\n",
       "      <td>t</td>\n",
       "      <td>a</td>\n",
       "      <td>f</td>\n",
       "      <td>c</td>\n",
       "      <td>b</td>\n",
       "      <td>k</td>\n",
       "      <td>...</td>\n",
       "      <td>s</td>\n",
       "      <td>w</td>\n",
       "      <td>w</td>\n",
       "      <td>p</td>\n",
       "      <td>w</td>\n",
       "      <td>o</td>\n",
       "      <td>p</td>\n",
       "      <td>n</td>\n",
       "      <td>n</td>\n",
       "      <td>g</td>\n",
       "    </tr>\n",
       "    <tr>\n",
       "      <th>2</th>\n",
       "      <td>e</td>\n",
       "      <td>b</td>\n",
       "      <td>s</td>\n",
       "      <td>w</td>\n",
       "      <td>t</td>\n",
       "      <td>l</td>\n",
       "      <td>f</td>\n",
       "      <td>c</td>\n",
       "      <td>b</td>\n",
       "      <td>n</td>\n",
       "      <td>...</td>\n",
       "      <td>s</td>\n",
       "      <td>w</td>\n",
       "      <td>w</td>\n",
       "      <td>p</td>\n",
       "      <td>w</td>\n",
       "      <td>o</td>\n",
       "      <td>p</td>\n",
       "      <td>n</td>\n",
       "      <td>n</td>\n",
       "      <td>m</td>\n",
       "    </tr>\n",
       "    <tr>\n",
       "      <th>3</th>\n",
       "      <td>p</td>\n",
       "      <td>x</td>\n",
       "      <td>y</td>\n",
       "      <td>w</td>\n",
       "      <td>t</td>\n",
       "      <td>p</td>\n",
       "      <td>f</td>\n",
       "      <td>c</td>\n",
       "      <td>n</td>\n",
       "      <td>n</td>\n",
       "      <td>...</td>\n",
       "      <td>s</td>\n",
       "      <td>w</td>\n",
       "      <td>w</td>\n",
       "      <td>p</td>\n",
       "      <td>w</td>\n",
       "      <td>o</td>\n",
       "      <td>p</td>\n",
       "      <td>k</td>\n",
       "      <td>s</td>\n",
       "      <td>u</td>\n",
       "    </tr>\n",
       "    <tr>\n",
       "      <th>4</th>\n",
       "      <td>e</td>\n",
       "      <td>x</td>\n",
       "      <td>s</td>\n",
       "      <td>g</td>\n",
       "      <td>f</td>\n",
       "      <td>n</td>\n",
       "      <td>f</td>\n",
       "      <td>w</td>\n",
       "      <td>b</td>\n",
       "      <td>k</td>\n",
       "      <td>...</td>\n",
       "      <td>s</td>\n",
       "      <td>w</td>\n",
       "      <td>w</td>\n",
       "      <td>p</td>\n",
       "      <td>w</td>\n",
       "      <td>o</td>\n",
       "      <td>e</td>\n",
       "      <td>n</td>\n",
       "      <td>a</td>\n",
       "      <td>g</td>\n",
       "    </tr>\n",
       "  </tbody>\n",
       "</table>\n",
       "<p>5 rows × 23 columns</p>\n",
       "</div>"
      ],
      "text/plain": [
       "  classes cap_shape cap_surface cap_color odor bruises gill_attachment  \\\n",
       "0       p         x           s         n    t       p               f   \n",
       "1       e         x           s         y    t       a               f   \n",
       "2       e         b           s         w    t       l               f   \n",
       "3       p         x           y         w    t       p               f   \n",
       "4       e         x           s         g    f       n               f   \n",
       "\n",
       "  gill_spacing gill_size gill_color   ...   stalk_surface_below_ring  \\\n",
       "0            c         n          k   ...                          s   \n",
       "1            c         b          k   ...                          s   \n",
       "2            c         b          n   ...                          s   \n",
       "3            c         n          n   ...                          s   \n",
       "4            w         b          k   ...                          s   \n",
       "\n",
       "  stalk_color_above_ring stalk_color_below_ring veil_type veil_color  \\\n",
       "0                      w                      w         p          w   \n",
       "1                      w                      w         p          w   \n",
       "2                      w                      w         p          w   \n",
       "3                      w                      w         p          w   \n",
       "4                      w                      w         p          w   \n",
       "\n",
       "  ring_number ring_type spore_print_color population habitat  \n",
       "0           o         p                 k          s       u  \n",
       "1           o         p                 n          n       g  \n",
       "2           o         p                 n          n       m  \n",
       "3           o         p                 k          s       u  \n",
       "4           o         e                 n          a       g  \n",
       "\n",
       "[5 rows x 23 columns]"
      ]
     },
     "execution_count": 46,
     "metadata": {},
     "output_type": "execute_result"
    }
   ],
   "source": [
    "mush_data.head()"
   ]
  },
  {
   "cell_type": "code",
   "execution_count": 47,
   "metadata": {
    "collapsed": false,
    "deletable": true,
    "editable": true
   },
   "outputs": [
    {
     "name": "stdout",
     "output_type": "stream",
     "text": [
      "<class 'pandas.core.frame.DataFrame'>\n",
      "RangeIndex: 8124 entries, 0 to 8123\n",
      "Data columns (total 23 columns):\n",
      "classes                     8124 non-null object\n",
      "cap_shape                   8124 non-null object\n",
      "cap_surface                 8124 non-null object\n",
      "cap_color                   8124 non-null object\n",
      "odor                        8124 non-null object\n",
      "bruises                     8124 non-null object\n",
      "gill_attachment             8124 non-null object\n",
      "gill_spacing                8124 non-null object\n",
      "gill_size                   8124 non-null object\n",
      "gill_color                  8124 non-null object\n",
      "stalk_shape                 8124 non-null object\n",
      "stalk_root                  8124 non-null object\n",
      "stalk_surface_above_ring    8124 non-null object\n",
      "stalk_surface_below_ring    8124 non-null object\n",
      "stalk_color_above_ring      8124 non-null object\n",
      "stalk_color_below_ring      8124 non-null object\n",
      "veil_type                   8124 non-null object\n",
      "veil_color                  8124 non-null object\n",
      "ring_number                 8124 non-null object\n",
      "ring_type                   8124 non-null object\n",
      "spore_print_color           8124 non-null object\n",
      "population                  8124 non-null object\n",
      "habitat                     8124 non-null object\n",
      "dtypes: object(23)\n",
      "memory usage: 1.4+ MB\n"
     ]
    }
   ],
   "source": [
    "mush_data.info()"
   ]
  },
  {
   "cell_type": "markdown",
   "metadata": {
    "deletable": true,
    "editable": true
   },
   "source": [
    "以下は参考ですが、それぞれの属性に関する解説です。"
   ]
  },
  {
   "cell_type": "markdown",
   "metadata": {
    "deletable": true,
    "editable": true
   },
   "source": [
    "0. classes: edible=e, poisonous=p\n",
    "1. cap-shape: bell=b,conical=c,convex=x,flat=f, knobbed=k,sunken=s \n",
    "2. cap-surface: fibrous=f,grooves=g,scaly=y,smooth=s \n",
    "3. cap-color: brown=n,buff=b,cinnamon=c,gray=g,green=r, pink=p,purple=u,red=e,white=w,yellow=y \n",
    "4. bruises?: bruises=t,no=f \n",
    "5. odor: almond=a,anise=l,creosote=c,fishy=y,foul=f, musty=m,none=n,pungent=p,spicy=s \n",
    "8. gill-attachment: attached=a,descending=d,free=f,notched=n \n",
    "7. gill-spacing: close=c,crowded=w,distant=d \n",
    "8. gill-size: broad=b,narrow=n \n",
    "9. gill-color: black=k,brown=n,buff=b,chocolate=h,gray=g, green=r,orange=o,pink=p,purple=u,red=e, white=w,yellow=y \n",
    "10. stalk-shape: enlarging=e,tapering=t \n",
    "11. stalk-root: bulbous=b,club=c,cup=u,equal=e, rhizomorphs=z,rooted=r,missing=? \n",
    "12. stalk-surface-above-ring: fibrous=f,scaly=y,silky=k,smooth=s \n",
    "13. stalk-surface-below-ring: fibrous=f,scaly=y,silky=k,smooth=s \n",
    "14. stalk-color-above-ring: brown=n,buff=b,cinnamon=c,gray=g,orange=o, pink=p,red=e,white=w,yellow=y \n",
    "15. stalk-color-below-ring: brown=n,buff=b,cinnamon=c,gray=g,orange=o, pink=p,red=e,white=w,yellow=y \n",
    "18. veil-type: partial=p,universal=u \n",
    "17. veil-color: brown=n,orange=o,white=w,yellow=y \n",
    "18. ring-number: none=n,one=o,two=t \n",
    "19. ring-type: cobwebby=c,evanescent=e,flaring=f,large=l, none=n,pendant=p,sheathing=s,zone=z \n",
    "20. spore-print-color: black=k,brown=n,buff=b,chocolate=h,green=r, orange=o,purple=u,white=w,yellow=y \n",
    "21. population: abundant=a,clustered=c,numerous=n, scattered=s,several=v,solitary=y \n",
    "22. habitat: grasses=g,leaves=l,meadows=m,paths=p, urban=u,waste=w,woods="
   ]
  },
  {
   "cell_type": "markdown",
   "metadata": {
    "deletable": true,
    "editable": true
   },
   "source": [
    "ここでは、変数が文字になっており、そのままではモデルを使うことができないので、エンコードします。"
   ]
  },
  {
   "cell_type": "code",
   "execution_count": 70,
   "metadata": {
    "collapsed": false,
    "deletable": true,
    "editable": true
   },
   "outputs": [],
   "source": [
    "from sklearn import preprocessing\n",
    "\n",
    "label_encode = preprocessing.LabelEncoder()\n",
    "#to convert into numbers\n",
    "mush_data_encode =mush_data.apply(lambda x: label_encode.fit_transform(x))"
   ]
  },
  {
   "cell_type": "markdown",
   "metadata": {
    "deletable": true,
    "editable": true
   },
   "source": [
    ">[参考URL]\n",
    "\n",
    ">http://scikit-learn.org/stable/modules/preprocessing.html#label-encoding"
   ]
  },
  {
   "cell_type": "code",
   "execution_count": 71,
   "metadata": {
    "collapsed": false,
    "deletable": true,
    "editable": true,
    "scrolled": true
   },
   "outputs": [
    {
     "data": {
      "text/html": [
       "<div>\n",
       "<table border=\"1\" class=\"dataframe\">\n",
       "  <thead>\n",
       "    <tr style=\"text-align: right;\">\n",
       "      <th></th>\n",
       "      <th>classes</th>\n",
       "      <th>cap_shape</th>\n",
       "      <th>cap_surface</th>\n",
       "      <th>cap_color</th>\n",
       "      <th>odor</th>\n",
       "      <th>bruises</th>\n",
       "      <th>gill_attachment</th>\n",
       "      <th>gill_spacing</th>\n",
       "      <th>gill_size</th>\n",
       "      <th>gill_color</th>\n",
       "      <th>...</th>\n",
       "      <th>stalk_surface_below_ring</th>\n",
       "      <th>stalk_color_above_ring</th>\n",
       "      <th>stalk_color_below_ring</th>\n",
       "      <th>veil_type</th>\n",
       "      <th>veil_color</th>\n",
       "      <th>ring_number</th>\n",
       "      <th>ring_type</th>\n",
       "      <th>spore_print_color</th>\n",
       "      <th>population</th>\n",
       "      <th>habitat</th>\n",
       "    </tr>\n",
       "  </thead>\n",
       "  <tbody>\n",
       "    <tr>\n",
       "      <th>0</th>\n",
       "      <td>1</td>\n",
       "      <td>5</td>\n",
       "      <td>2</td>\n",
       "      <td>4</td>\n",
       "      <td>1</td>\n",
       "      <td>6</td>\n",
       "      <td>1</td>\n",
       "      <td>0</td>\n",
       "      <td>1</td>\n",
       "      <td>4</td>\n",
       "      <td>...</td>\n",
       "      <td>2</td>\n",
       "      <td>7</td>\n",
       "      <td>7</td>\n",
       "      <td>0</td>\n",
       "      <td>2</td>\n",
       "      <td>1</td>\n",
       "      <td>4</td>\n",
       "      <td>2</td>\n",
       "      <td>3</td>\n",
       "      <td>5</td>\n",
       "    </tr>\n",
       "    <tr>\n",
       "      <th>1</th>\n",
       "      <td>0</td>\n",
       "      <td>5</td>\n",
       "      <td>2</td>\n",
       "      <td>9</td>\n",
       "      <td>1</td>\n",
       "      <td>0</td>\n",
       "      <td>1</td>\n",
       "      <td>0</td>\n",
       "      <td>0</td>\n",
       "      <td>4</td>\n",
       "      <td>...</td>\n",
       "      <td>2</td>\n",
       "      <td>7</td>\n",
       "      <td>7</td>\n",
       "      <td>0</td>\n",
       "      <td>2</td>\n",
       "      <td>1</td>\n",
       "      <td>4</td>\n",
       "      <td>3</td>\n",
       "      <td>2</td>\n",
       "      <td>1</td>\n",
       "    </tr>\n",
       "    <tr>\n",
       "      <th>2</th>\n",
       "      <td>0</td>\n",
       "      <td>0</td>\n",
       "      <td>2</td>\n",
       "      <td>8</td>\n",
       "      <td>1</td>\n",
       "      <td>3</td>\n",
       "      <td>1</td>\n",
       "      <td>0</td>\n",
       "      <td>0</td>\n",
       "      <td>5</td>\n",
       "      <td>...</td>\n",
       "      <td>2</td>\n",
       "      <td>7</td>\n",
       "      <td>7</td>\n",
       "      <td>0</td>\n",
       "      <td>2</td>\n",
       "      <td>1</td>\n",
       "      <td>4</td>\n",
       "      <td>3</td>\n",
       "      <td>2</td>\n",
       "      <td>3</td>\n",
       "    </tr>\n",
       "    <tr>\n",
       "      <th>3</th>\n",
       "      <td>1</td>\n",
       "      <td>5</td>\n",
       "      <td>3</td>\n",
       "      <td>8</td>\n",
       "      <td>1</td>\n",
       "      <td>6</td>\n",
       "      <td>1</td>\n",
       "      <td>0</td>\n",
       "      <td>1</td>\n",
       "      <td>5</td>\n",
       "      <td>...</td>\n",
       "      <td>2</td>\n",
       "      <td>7</td>\n",
       "      <td>7</td>\n",
       "      <td>0</td>\n",
       "      <td>2</td>\n",
       "      <td>1</td>\n",
       "      <td>4</td>\n",
       "      <td>2</td>\n",
       "      <td>3</td>\n",
       "      <td>5</td>\n",
       "    </tr>\n",
       "    <tr>\n",
       "      <th>4</th>\n",
       "      <td>0</td>\n",
       "      <td>5</td>\n",
       "      <td>2</td>\n",
       "      <td>3</td>\n",
       "      <td>0</td>\n",
       "      <td>5</td>\n",
       "      <td>1</td>\n",
       "      <td>1</td>\n",
       "      <td>0</td>\n",
       "      <td>4</td>\n",
       "      <td>...</td>\n",
       "      <td>2</td>\n",
       "      <td>7</td>\n",
       "      <td>7</td>\n",
       "      <td>0</td>\n",
       "      <td>2</td>\n",
       "      <td>1</td>\n",
       "      <td>0</td>\n",
       "      <td>3</td>\n",
       "      <td>0</td>\n",
       "      <td>1</td>\n",
       "    </tr>\n",
       "  </tbody>\n",
       "</table>\n",
       "<p>5 rows × 23 columns</p>\n",
       "</div>"
      ],
      "text/plain": [
       "   classes  cap_shape  cap_surface  cap_color  odor  bruises  gill_attachment  \\\n",
       "0        1          5            2          4     1        6                1   \n",
       "1        0          5            2          9     1        0                1   \n",
       "2        0          0            2          8     1        3                1   \n",
       "3        1          5            3          8     1        6                1   \n",
       "4        0          5            2          3     0        5                1   \n",
       "\n",
       "   gill_spacing  gill_size  gill_color   ...     stalk_surface_below_ring  \\\n",
       "0             0          1           4   ...                            2   \n",
       "1             0          0           4   ...                            2   \n",
       "2             0          0           5   ...                            2   \n",
       "3             0          1           5   ...                            2   \n",
       "4             1          0           4   ...                            2   \n",
       "\n",
       "   stalk_color_above_ring  stalk_color_below_ring  veil_type  veil_color  \\\n",
       "0                       7                       7          0           2   \n",
       "1                       7                       7          0           2   \n",
       "2                       7                       7          0           2   \n",
       "3                       7                       7          0           2   \n",
       "4                       7                       7          0           2   \n",
       "\n",
       "   ring_number  ring_type  spore_print_color  population  habitat  \n",
       "0            1          4                  2           3        5  \n",
       "1            1          4                  3           2        1  \n",
       "2            1          4                  3           2        3  \n",
       "3            1          4                  2           3        5  \n",
       "4            1          0                  3           0        1  \n",
       "\n",
       "[5 rows x 23 columns]"
      ]
     },
     "execution_count": 71,
     "metadata": {},
     "output_type": "execute_result"
    }
   ],
   "source": [
    "mush_data_encode.head()"
   ]
  },
  {
   "cell_type": "markdown",
   "metadata": {
    "deletable": true,
    "editable": true
   },
   "source": [
    "目的となる毒かどうかのclassesは、毒は1、そうでないなら0になっています。"
   ]
  },
  {
   "cell_type": "markdown",
   "metadata": {
    "deletable": true,
    "editable": true
   },
   "source": [
    "ただし、1章で学んだカテゴリー変数について、基本的に大小がないのと、そのまま使うのは推奨されません。具体的にはcap_shapeには番号が振られており、その大きさは比較できないからです。もちろん、モデリングをするときはその予測値を見て判断することもありますが、上のような例はあまり意味をなさないので、今回は変数をピックアップして、カテゴリー変数をダミー変数として置換して使うことにしましょう。\n",
    "\n",
    "以下では、gill_color、gill_attachment、odor、cap_colorをダミー特徴量として変換しています。例えば、gill_color_kに1が立っていたら、gill_colorがkになっていることを意味します。ダミー変数は、このようにカテゴリー変数をフラグ化したいときに設定します。"
   ]
  },
  {
   "cell_type": "code",
   "execution_count": 77,
   "metadata": {
    "collapsed": false,
    "deletable": true,
    "editable": true
   },
   "outputs": [
    {
     "data": {
      "text/html": [
       "<div>\n",
       "<table border=\"1\" class=\"dataframe\">\n",
       "  <thead>\n",
       "    <tr style=\"text-align: right;\">\n",
       "      <th></th>\n",
       "      <th>gill_color_b</th>\n",
       "      <th>gill_color_e</th>\n",
       "      <th>gill_color_g</th>\n",
       "      <th>gill_color_h</th>\n",
       "      <th>gill_color_k</th>\n",
       "      <th>gill_color_n</th>\n",
       "      <th>gill_color_o</th>\n",
       "      <th>gill_color_p</th>\n",
       "      <th>gill_color_r</th>\n",
       "      <th>gill_color_u</th>\n",
       "      <th>...</th>\n",
       "      <th>cap_color_b</th>\n",
       "      <th>cap_color_c</th>\n",
       "      <th>cap_color_e</th>\n",
       "      <th>cap_color_g</th>\n",
       "      <th>cap_color_n</th>\n",
       "      <th>cap_color_p</th>\n",
       "      <th>cap_color_r</th>\n",
       "      <th>cap_color_u</th>\n",
       "      <th>cap_color_w</th>\n",
       "      <th>cap_color_y</th>\n",
       "    </tr>\n",
       "  </thead>\n",
       "  <tbody>\n",
       "    <tr>\n",
       "      <th>0</th>\n",
       "      <td>0.0</td>\n",
       "      <td>0.0</td>\n",
       "      <td>0.0</td>\n",
       "      <td>0.0</td>\n",
       "      <td>1.0</td>\n",
       "      <td>0.0</td>\n",
       "      <td>0.0</td>\n",
       "      <td>0.0</td>\n",
       "      <td>0.0</td>\n",
       "      <td>0.0</td>\n",
       "      <td>...</td>\n",
       "      <td>0.0</td>\n",
       "      <td>0.0</td>\n",
       "      <td>0.0</td>\n",
       "      <td>0.0</td>\n",
       "      <td>1.0</td>\n",
       "      <td>0.0</td>\n",
       "      <td>0.0</td>\n",
       "      <td>0.0</td>\n",
       "      <td>0.0</td>\n",
       "      <td>0.0</td>\n",
       "    </tr>\n",
       "    <tr>\n",
       "      <th>1</th>\n",
       "      <td>0.0</td>\n",
       "      <td>0.0</td>\n",
       "      <td>0.0</td>\n",
       "      <td>0.0</td>\n",
       "      <td>1.0</td>\n",
       "      <td>0.0</td>\n",
       "      <td>0.0</td>\n",
       "      <td>0.0</td>\n",
       "      <td>0.0</td>\n",
       "      <td>0.0</td>\n",
       "      <td>...</td>\n",
       "      <td>0.0</td>\n",
       "      <td>0.0</td>\n",
       "      <td>0.0</td>\n",
       "      <td>0.0</td>\n",
       "      <td>0.0</td>\n",
       "      <td>0.0</td>\n",
       "      <td>0.0</td>\n",
       "      <td>0.0</td>\n",
       "      <td>0.0</td>\n",
       "      <td>1.0</td>\n",
       "    </tr>\n",
       "    <tr>\n",
       "      <th>2</th>\n",
       "      <td>0.0</td>\n",
       "      <td>0.0</td>\n",
       "      <td>0.0</td>\n",
       "      <td>0.0</td>\n",
       "      <td>0.0</td>\n",
       "      <td>1.0</td>\n",
       "      <td>0.0</td>\n",
       "      <td>0.0</td>\n",
       "      <td>0.0</td>\n",
       "      <td>0.0</td>\n",
       "      <td>...</td>\n",
       "      <td>0.0</td>\n",
       "      <td>0.0</td>\n",
       "      <td>0.0</td>\n",
       "      <td>0.0</td>\n",
       "      <td>0.0</td>\n",
       "      <td>0.0</td>\n",
       "      <td>0.0</td>\n",
       "      <td>0.0</td>\n",
       "      <td>1.0</td>\n",
       "      <td>0.0</td>\n",
       "    </tr>\n",
       "    <tr>\n",
       "      <th>3</th>\n",
       "      <td>0.0</td>\n",
       "      <td>0.0</td>\n",
       "      <td>0.0</td>\n",
       "      <td>0.0</td>\n",
       "      <td>0.0</td>\n",
       "      <td>1.0</td>\n",
       "      <td>0.0</td>\n",
       "      <td>0.0</td>\n",
       "      <td>0.0</td>\n",
       "      <td>0.0</td>\n",
       "      <td>...</td>\n",
       "      <td>0.0</td>\n",
       "      <td>0.0</td>\n",
       "      <td>0.0</td>\n",
       "      <td>0.0</td>\n",
       "      <td>0.0</td>\n",
       "      <td>0.0</td>\n",
       "      <td>0.0</td>\n",
       "      <td>0.0</td>\n",
       "      <td>1.0</td>\n",
       "      <td>0.0</td>\n",
       "    </tr>\n",
       "    <tr>\n",
       "      <th>4</th>\n",
       "      <td>0.0</td>\n",
       "      <td>0.0</td>\n",
       "      <td>0.0</td>\n",
       "      <td>0.0</td>\n",
       "      <td>1.0</td>\n",
       "      <td>0.0</td>\n",
       "      <td>0.0</td>\n",
       "      <td>0.0</td>\n",
       "      <td>0.0</td>\n",
       "      <td>0.0</td>\n",
       "      <td>...</td>\n",
       "      <td>0.0</td>\n",
       "      <td>0.0</td>\n",
       "      <td>0.0</td>\n",
       "      <td>1.0</td>\n",
       "      <td>0.0</td>\n",
       "      <td>0.0</td>\n",
       "      <td>0.0</td>\n",
       "      <td>0.0</td>\n",
       "      <td>0.0</td>\n",
       "      <td>0.0</td>\n",
       "    </tr>\n",
       "  </tbody>\n",
       "</table>\n",
       "<p>5 rows × 26 columns</p>\n",
       "</div>"
      ],
      "text/plain": [
       "   gill_color_b  gill_color_e  gill_color_g  gill_color_h  gill_color_k  \\\n",
       "0           0.0           0.0           0.0           0.0           1.0   \n",
       "1           0.0           0.0           0.0           0.0           1.0   \n",
       "2           0.0           0.0           0.0           0.0           0.0   \n",
       "3           0.0           0.0           0.0           0.0           0.0   \n",
       "4           0.0           0.0           0.0           0.0           1.0   \n",
       "\n",
       "   gill_color_n  gill_color_o  gill_color_p  gill_color_r  gill_color_u  \\\n",
       "0           0.0           0.0           0.0           0.0           0.0   \n",
       "1           0.0           0.0           0.0           0.0           0.0   \n",
       "2           1.0           0.0           0.0           0.0           0.0   \n",
       "3           1.0           0.0           0.0           0.0           0.0   \n",
       "4           0.0           0.0           0.0           0.0           0.0   \n",
       "\n",
       "      ...       cap_color_b  cap_color_c  cap_color_e  cap_color_g  \\\n",
       "0     ...               0.0          0.0          0.0          0.0   \n",
       "1     ...               0.0          0.0          0.0          0.0   \n",
       "2     ...               0.0          0.0          0.0          0.0   \n",
       "3     ...               0.0          0.0          0.0          0.0   \n",
       "4     ...               0.0          0.0          0.0          1.0   \n",
       "\n",
       "   cap_color_n  cap_color_p  cap_color_r  cap_color_u  cap_color_w  \\\n",
       "0          1.0          0.0          0.0          0.0          0.0   \n",
       "1          0.0          0.0          0.0          0.0          0.0   \n",
       "2          0.0          0.0          0.0          0.0          1.0   \n",
       "3          0.0          0.0          0.0          0.0          1.0   \n",
       "4          0.0          0.0          0.0          0.0          0.0   \n",
       "\n",
       "   cap_color_y  \n",
       "0          0.0  \n",
       "1          1.0  \n",
       "2          0.0  \n",
       "3          0.0  \n",
       "4          0.0  \n",
       "\n",
       "[5 rows x 26 columns]"
      ]
     },
     "execution_count": 77,
     "metadata": {},
     "output_type": "execute_result"
    }
   ],
   "source": [
    "# 参考（カテゴリー変数をダミー特徴量として変換する方法）\n",
    "mush_data_dummy = pd.get_dummies(mush_data[['gill_color','gill_attachment','odor','cap_color']])\n",
    "mush_data_dummy.head()"
   ]
  },
  {
   "cell_type": "code",
   "execution_count": 92,
   "metadata": {
    "collapsed": false,
    "deletable": true,
    "editable": true
   },
   "outputs": [],
   "source": [
    "# 目的変数：flg立てをする\n",
    "mush_data_dummy[\"flg\"] = mush_data[\"classes\"].map(lambda x: 1 if x =='p' else 0)"
   ]
  },
  {
   "cell_type": "markdown",
   "metadata": {
    "deletable": true,
    "editable": true
   },
   "source": [
    "それでは、決定木を使ってモデルを構築します。決定木は、上記で述べたように、ある条件を満たすかどうかで場合分けをしていき、最終的に各グループの純度が上がる（よりうまく分かれる）ように計算していきます。このように決定木を分けるための指標としては、**ジニ不純度、エントロピー、分類誤差（誤分類率）**など色々な手法があります。ジニ不純度は、1章の総合問題で出てきたジニ係数と関わりがあり、「不平等指数」として扱い、偏りが生じるている時はジニ係数が1に近づき、みんな同じような感じであれば、0に近づきました。ジニ不純度もこの考え方と同じです。エントロピーは、あるデータの集まりについての乱雑さを測る尺度で、情報理論の先駆者クロード・シャノンが発明した概念です。物理学などのエントロピーと似た概念です。他、分類誤差などもありますが、指標の詳細な説明については、後で紹介する参考文献等を見てください。\n"
   ]
  },
  {
   "cell_type": "markdown",
   "metadata": {
    "deletable": true,
    "editable": true
   },
   "source": [
    "8.2.3項（正則化、ラッソ回帰、リッジ回帰）において、モデルの複雑さに関してコメントしましたが、決定木の場合、モデルの複雑さは分岐数で決定されます。多く分岐すればするほど複雑なモデルになります。"
   ]
  },
  {
   "cell_type": "markdown",
   "metadata": {
    "deletable": true,
    "editable": true
   },
   "source": [
    "決定木のモジュールはDecisionTreeClassifierを使い、今回は分岐数の決定にエントロピーを設定します。いつもと同じように、訓練データとテストデータと分けてモデルを構築し、スコアを見てみましょう。（ただし、もしキノコが手持ちのデータの中にある種類しかなく、未知のキノコを予測するわけではないケースは、特に分ける必要性はありませんが、練習のため分けました。）"
   ]
  },
  {
   "cell_type": "code",
   "execution_count": 89,
   "metadata": {
    "collapsed": false,
    "deletable": true,
    "editable": true,
    "scrolled": true
   },
   "outputs": [
    {
     "name": "stdout",
     "output_type": "stream",
     "text": [
      "train: DecisionTreeClassifier 0.879369768587\n",
      "test: DecisionTreeClassifier 0.881339241753\n"
     ]
    }
   ],
   "source": [
    "# データの分類\n",
    "from sklearn.model_selection import train_test_split\n",
    "# 決定木\n",
    "from sklearn import tree\n",
    "from sklearn.tree import  DecisionTreeClassifier\n",
    "\n",
    "# 説明変数と目的変数\n",
    "X = mush_data_dummy.drop(\"flg\", axis=1)\n",
    "Y = mush_data_dummy['flg']\n",
    "\n",
    "# 学習データとテストデータに分ける\n",
    "X_train, X_test, y_train, y_test = train_test_split(X,Y, random_state=50)\n",
    "\n",
    "# 決定木インスタンス（エントロピー、深さ5）\n",
    "tree_model = DecisionTreeClassifier(criterion='entropy',max_depth=5, random_state=50)\n",
    "\n",
    "tree_model.fit(X_train,y_train)\n",
    "\n",
    "print(\"train:\",tree_model.__class__.__name__ ,tree_model.score(X_train,y_train))\n",
    "print(\"test:\",tree_model.__class__.__name__ , tree_model.score(X_test,y_test))"
   ]
  },
  {
   "cell_type": "markdown",
   "metadata": {
    "deletable": true,
    "editable": true
   },
   "source": [
    "結果としては、テストデータで88%ほどの正解率（1-分類誤差）です。決定木の分類数決定のパラメータとして、他、max_depthがあり、上では5にしています。深さは条件分岐の数と思っていただければ良いです。決定木はモデルを構築する際に、他のモデルなどでやる標準化や正規化などのデータの前処理は、基本的に必要ありません。ただし、決定木は、分岐数が多い場合に、後で述べる過学習というモデルの汎化性が失われてしまうことが多いので、気をつけましょう。"
   ]
  },
  {
   "cell_type": "markdown",
   "metadata": {
    "deletable": true,
    "editable": true
   },
   "source": [
    "**注意：以下2つのセルは、現在(2017/5/3時点)ilect上では実行できませんので、注意してください。今回は参考情報として見てください。（余力のある方は、terminalから環境を構築したり、ローカルで環境を構築してみてください。）**\n",
    "\n",
    "参考ですが、以下のように可視化することもできます。条件分岐をして、木の形になっているのがイメージできると思います。これが決定木といわれる所以です。ただ、エンコードしているため、少し数値でわかりにくいですが、読み方として具体的には、一番上の変数（X[0]、ここでは説明変数の1番目のカラムのgill_color_b）が0.5より大きいときには右のFalseに進んで、サンプル数としては1284でエントロピーが0になりますので、完全に分かれて（毒かそうでないか）いるのがわかります。つまり、gill_color_bのフラグが1（X[0]<=0.5はFalseになる）のときは、毒になります。"
   ]
  },
  {
   "cell_type": "code",
   "execution_count": 90,
   "metadata": {
    "collapsed": false,
    "deletable": true,
    "editable": true,
    "scrolled": false
   },
   "outputs": [],
   "source": [
    "import pydotplus\n",
    "from sklearn.externals.six import StringIO\n",
    "from IPython.display import Image\n",
    "\n",
    "dot_data = StringIO()\n",
    "tree.export_graphviz(tree_model, out_file=dot_data)\n",
    "graph = pydotplus.graph_from_dot_data(dot_data.getvalue())"
   ]
  },
  {
   "cell_type": "code",
   "execution_count": 91,
   "metadata": {
    "collapsed": false,
    "deletable": true,
    "editable": true
   },
   "outputs": [
    {
     "data": {
      "image/png": "[encoded data removed]",
      "text/plain": [
       "<IPython.core.display.Image object>"
      ]
     },
     "execution_count": 91,
     "metadata": {},
     "output_type": "execute_result"
    }
   ],
   "source": [
    "Image(graph.create_png())  "
   ]
  },
  {
   "cell_type": "markdown",
   "metadata": {
    "deletable": true,
    "editable": true
   },
   "source": [
    "####  <練習問題 1>\n",
    "分析対象データとして、sklearnのdatasetsからload_breast_cancerを読み込んで、目的変数をcancer.target、説明変数をcancer.dataとして、決定木のモデルを使って、予測と検証を実施してください。"
   ]
  },
  {
   "cell_type": "markdown",
   "metadata": {
    "deletable": true,
    "editable": true
   },
   "source": [
    "### 8.2.5 k-NN\n",
    "キーワード：k-NN,怠惰学習,memory-based learning,Look-Alike model"
   ]
  },
  {
   "cell_type": "markdown",
   "metadata": {
    "deletable": true,
    "editable": true
   },
   "source": [
    "次は、k-NN（k近傍法）について学びます。これは例えば、あるグループAとグループBがあり、その人たちの属性がわかっているとして、どちらのグループかわからない新しい人が来たケースを考えます。ここで、その人がAとBのどちらのグループに属するか考える際に、属性が近い人はAの人が多いのか、B\n",
    "の人が多いのか多数決で決めて、多い方がそのグループに属していると判断します。kとは、多数決に利用する人数となります。怠惰学習やmemory-based learningとも言われ、訓練データをそのまま覚えて学習する方法です。\n",
    "\n",
    "以下は、参照URLにあるイメージです。緑の丸がAグループ、青の丸がBグループとして、赤の丸がどちらのグループか判断することを考えます。k=3の場合に、Aグループが近い人が2名、Bグループに近い人が1名なので、この赤の人はAグループに属すると判断します。マーケティングでは、Look-Alikeモデルとも言われ、属性が似ている人たちを集めて判断して、それぞれの属性に合ったアプローチを仕掛けていきます。"
   ]
  },
  {
   "cell_type": "markdown",
   "metadata": {
    "deletable": true,
    "editable": true
   },
   "source": [
    "![comment](http://www.nag-j.co.jp/nagdmc/img/knn.gif)"
   ]
  },
  {
   "cell_type": "markdown",
   "metadata": {
    "deletable": true,
    "editable": true
   },
   "source": [
    "参照URL：http://www.nag-j.co.jp/nagdmc/img/knn.gif"
   ]
  },
  {
   "cell_type": "markdown",
   "metadata": {
    "deletable": true,
    "editable": true
   },
   "source": [
    "k-近傍法はKNeighborsClassifierを使います。ここでは、kをパラメータ化して、1から10まで変化させて、訓練データとテストデータのスコアの変化を見ています。kが小さい時は、このスコアに乖離がありますが、また6を超えたあたりからまた乖離が生じて、過学習になっているのがわかります。"
   ]
  },
  {
   "cell_type": "code",
   "execution_count": 238,
   "metadata": {
    "collapsed": false,
    "deletable": true,
    "editable": true
   },
   "outputs": [
    {
     "data": {
      "text/plain": [
       "<matplotlib.legend.Legend at 0x12476e128>"
      ]
     },
     "execution_count": 238,
     "metadata": {},
     "output_type": "execute_result"
    },
    {
     "data": {
      "image/png": "[encoded data removed]",
      "text/plain": [
       "<matplotlib.figure.Figure at 0x125f02a58>"
      ]
     },
     "metadata": {},
     "output_type": "display_data"
    }
   ],
   "source": [
    "# k-NN \n",
    "from sklearn.model_selection import train_test_split\n",
    "from sklearn.datasets import load_breast_cancer\n",
    "\n",
    "from sklearn.neighbors import  KNeighborsClassifier\n",
    "\n",
    "cancer = load_breast_cancer()\n",
    "X_train, X_test, y_train, y_test = train_test_split(\n",
    "    cancer.data, cancer.target, stratify = cancer.target, random_state=66)\n",
    "\n",
    "training_accuracy = []\n",
    "test_accuracy =[]\n",
    "\n",
    "neighbors_settings = range(1,11)\n",
    "for n_neighbors in neighbors_settings:\n",
    "    clf = KNeighborsClassifier(n_neighbors=n_neighbors)\n",
    "    clf.fit(X_train,y_train)\n",
    "    \n",
    "    training_accuracy.append(clf.score(X_train,y_train))\n",
    "    \n",
    "    test_accuracy.append(clf.score(X_test,y_test))\n",
    "    \n",
    "plt.plot(neighbors_settings, training_accuracy,label=\"training accuracy\")\n",
    "plt.plot(neighbors_settings, test_accuracy,label=\"test accuracy\")\n",
    "plt.ylabel(\"Accuracy\")\n",
    "plt.xlabel(\"n_neighbors\")\n",
    "plt.legend()"
   ]
  },
  {
   "cell_type": "markdown",
   "metadata": {
    "deletable": true,
    "editable": true
   },
   "source": [
    "####  <練習問題 1>\n",
    "1章のデータを使って、目的となる変数をG3、説明変数となる属性データを以下のようにして、K-NNのkパラメータを変えながら、どのkが最適か考えてみましょう。ただし、目的変数は数値型で、回帰となりますので、KNeighborsRegressorを使ってください。これは、設定されたkの数の平均になります。"
   ]
  },
  {
   "cell_type": "markdown",
   "metadata": {
    "deletable": true,
    "editable": true
   },
   "source": [
    "### 8.2.6 サポートベクターマシン\n",
    "キーワード：サポートベクターマシン"
   ]
  },
  {
   "cell_type": "markdown",
   "metadata": {
    "deletable": true,
    "editable": true
   },
   "source": [
    "サポートベクターマシンは、訓練データにおいて、他クラスの中で最も近い位置にあるサポートベクタを基準として、距離（マージン）が最も大きくなるように境界線を引く方法です。イメージとしては、以下の参照URLがわかりやすいです。以下の2つのグループを分ける境界線は色々とあるのですが、以下のマージンが一番大きくなるように計算します。簡単に言うと、あるグループを分けるときに、いろいろと境界線は引けるけど、お互いからなるべく遠いところに境界線を引いた方がいいよねという考え方です。"
   ]
  },
  {
   "cell_type": "markdown",
   "metadata": {
    "deletable": true,
    "editable": true
   },
   "source": [
    "![comment](http://www.neuro.sfc.keio.ac.jp/~masato/study/SVM/SVM_1_htm_m614dc45b.gif)"
   ]
  },
  {
   "cell_type": "markdown",
   "metadata": {
    "deletable": true,
    "editable": true
   },
   "source": [
    "参照URL：http://www.neuro.sfc.keio.ac.jp/~masato/study/SVM/SVM_1_htm_m614dc45b.gif"
   ]
  },
  {
   "cell_type": "markdown",
   "metadata": {
    "deletable": true,
    "editable": true
   },
   "source": [
    "上記でモデリングし、モジュールはsklearn.svmのLinearSVCを使います。他のコードの役割は前回までと同様です。データはcancerを使います。"
   ]
  },
  {
   "cell_type": "code",
   "execution_count": 242,
   "metadata": {
    "collapsed": false,
    "deletable": true,
    "editable": true
   },
   "outputs": [
    {
     "name": "stdout",
     "output_type": "stream",
     "text": [
      "train: LinearSVC 0.931924882629\n",
      "test: LinearSVC 0.93006993007\n"
     ]
    }
   ],
   "source": [
    "# SVM\n",
    "from sklearn.svm import LinearSVC\n",
    "\n",
    "from sklearn.model_selection import train_test_split\n",
    "from sklearn.datasets import load_breast_cancer\n",
    "\n",
    "cancer = load_breast_cancer()\n",
    "X_train, X_test, y_train, y_test = train_test_split(\n",
    "    cancer.data, cancer.target, stratify = cancer.target, random_state=50)\n",
    "\n",
    "model = LinearSVC()\n",
    "clf = model.fit(X_train,y_train)\n",
    "print(\"train:\",clf.__class__.__name__ ,clf.score(X_train,y_train))\n",
    "print(\"test:\",clf.__class__.__name__ , clf.score(X_test,y_test))"
   ]
  },
  {
   "cell_type": "markdown",
   "metadata": {
    "deletable": true,
    "editable": true
   },
   "source": [
    "ここでもスケーリング（標準化）をやったあとにモデリングをしてみます。スコアが改善していることがわかります。"
   ]
  },
  {
   "cell_type": "code",
   "execution_count": 92,
   "metadata": {
    "collapsed": false,
    "deletable": true,
    "editable": true
   },
   "outputs": [
    {
     "name": "stdout",
     "output_type": "stream",
     "text": [
      "train: LinearSVC 0.985915492958\n",
      "test: LinearSVC 0.979020979021\n"
     ]
    }
   ],
   "source": [
    "# SVM\n",
    "from sklearn.svm import LinearSVC\n",
    "\n",
    "from sklearn.model_selection import train_test_split\n",
    "from sklearn.datasets import load_breast_cancer\n",
    "\n",
    "# 標準化のためのモジュール\n",
    "from sklearn.preprocessing import StandardScaler\n",
    "\n",
    "cancer = load_breast_cancer()\n",
    "X_train, X_test, y_train, y_test = train_test_split(\n",
    "    cancer.data, cancer.target, stratify = cancer.target, random_state=50)\n",
    "\n",
    "model = LinearSVC()\n",
    "\n",
    "# 標準化\n",
    "sc = StandardScaler()\n",
    "sc.fit(X_train)\n",
    "X_train_std = sc.transform(X_train)\n",
    "X_test_std = sc.transform(X_test)\n",
    "\n",
    "clf = model.fit(X_train_std,y_train)\n",
    "print(\"train:\",clf.__class__.__name__ ,clf.score(X_train_std,y_train))\n",
    "print(\"test:\",clf.__class__.__name__ , clf.score(X_test_std,y_test))"
   ]
  },
  {
   "cell_type": "markdown",
   "metadata": {
    "deletable": true,
    "editable": true
   },
   "source": [
    "####  <練習問題 1>\n",
    "cancerデータについて、モジュールはsklearn.svmのSVCを使って、cancer.targetを予測するモデルを構築しましょう。パラメーターは、kernel='rbf'を使います。（model = SVC(kernel='rbf', random_state=0, C=2)としてください。）前と同じように、訓練データとテストデータに分けて、標準化してスコアをチェックしてください。"
   ]
  },
  {
   "cell_type": "markdown",
   "metadata": {
    "deletable": true,
    "editable": true
   },
   "source": [
    "## 8.3 教師なし学習\n",
    "ゴール：教師なし学習のクラスタリング(非階層と階層)、次元圧縮、パターンマイニングの基本を理解し、簡単な実装ができる"
   ]
  },
  {
   "cell_type": "markdown",
   "metadata": {
    "deletable": true,
    "editable": true
   },
   "source": [
    "### 8.3.1 クラスタリング\n",
    "キーワード：非階層型、階層型、k-means、k-means++"
   ]
  },
  {
   "cell_type": "markdown",
   "metadata": {
    "deletable": true,
    "editable": true
   },
   "source": [
    "ここから、教師なし学習について学びましょう。教師なし学習は、教師あり学習と異なり、アウトプット（Y）やゴールが与えられず、インプットのデータだけを使って、インサイトを見つけ出す方法でした。答えがわかっていない状態で、データの隠れた構造を見つけ出す手法です。前にも触れました通り、人間的な解釈が必要な場面も多く、探索的なデータ分析だと言えるでしょう。まずは、簡単な数値例からクラスタリングを実施していきましょう。なお、このクラスタリングはクラスター分析とも言います。"
   ]
  },
  {
   "cell_type": "markdown",
   "metadata": {
    "deletable": true,
    "editable": true
   },
   "source": [
    "ここでは、よくクラスタリングで使われる**k-means**法について取り扱っていきます。具体的には、あるデータ（顧客データなど）が与えられて、3つのグループに分けることを考えます。データとしては、属性データ（年齢、ウェブページの訪問回数）があるとして、2次元のグラフを考え、それらをプロットします。次に、その平面の中からどこでも良いので、ランダムに3つ点を取ります。それぞれの点をクラスター1、クラスター2、クラスター3とします。そして、先ほどプロットしたそれぞれのデータについて、3つのクラスターの中から一番近い点を選び、それを自身のクラスター番号とします。すべてのデータについてクラスター番号が決まった後は、それぞれのクラスターの重心（平均）を計算します。その3つの点を再びクラスターの番号として、データがその3点の中で一番近い点を選び、これを繰り返していきます。この中心点が動かなくなったら、そこで終了になります。これがk-meansです。（なお、EMアルゴリズム(期待値ステップと最大化ステップの繰り返し)と関係があります。）\n",
    "\n",
    "以下の参照URLはイメージです。"
   ]
  },
  {
   "cell_type": "markdown",
   "metadata": {
    "deletable": true,
    "editable": true
   },
   "source": [
    "![comment](http://insidebigdata.com/wp-content/uploads/2013/12/Clustering.gif)"
   ]
  },
  {
   "cell_type": "markdown",
   "metadata": {
    "deletable": true,
    "editable": true
   },
   "source": [
    "参照URL：http://insidebigdata.com/wp-content/uploads/2013/12/Clustering.gif"
   ]
  },
  {
   "cell_type": "markdown",
   "metadata": {
    "deletable": true,
    "editable": true
   },
   "source": [
    "アルゴリズムは上の説明だけだとなかなかイメージしにくいと思いますので、以下のURLで動きが確認できますので、とても参考になります。"
   ]
  },
  {
   "cell_type": "markdown",
   "metadata": {
    "deletable": true,
    "editable": true
   },
   "source": [
    "参考URL：http://tech.nitoyon.com/ja/blog/2013/11/07/k-means/"
   ]
  },
  {
   "cell_type": "markdown",
   "metadata": {
    "deletable": true,
    "editable": true
   },
   "source": [
    "他、上のようにセントロイド（平均）ではなく、mediodを計算する方法**k-medoids法**などもあります。これは、k-means法のように中心点が架空の数値をとることはなく、実在する点をとります。また、外れ値による影響が少ないことがメリットとしてあります。興味のある方は、調べてみてください。\n",
    "\n",
    "では、サンプルとしてk-meansを実行してみましょう。データはsklearnにあるmake_blobsのデータを使います。"
   ]
  },
  {
   "cell_type": "code",
   "execution_count": 27,
   "metadata": {
    "collapsed": false,
    "deletable": true,
    "editable": true
   },
   "outputs": [
    {
     "data": {
      "text/plain": [
       "<matplotlib.collections.PathCollection at 0x129a31c88>"
      ]
     },
     "execution_count": 27,
     "metadata": {},
     "output_type": "execute_result"
    },
    {
     "data": {
      "image/png": "[encoded data removed]",
      "text/plain": [
       "<matplotlib.figure.Figure at 0x123fd84e0>"
      ]
     },
     "metadata": {},
     "output_type": "display_data"
    }
   ],
   "source": [
    "from sklearn.datasets import make_blobs\n",
    "from sklearn.cluster import KMeans\n",
    "\n",
    "X,y = make_blobs(random_state=10)\n",
    "\n",
    "plt.scatter(X[:,0],X[:,1],color='black')"
   ]
  },
  {
   "cell_type": "markdown",
   "metadata": {
    "deletable": true,
    "editable": true
   },
   "source": [
    "KMeansを使います。initをrandom、n_clusters=3と設定しています。"
   ]
  },
  {
   "cell_type": "code",
   "execution_count": 28,
   "metadata": {
    "collapsed": false,
    "deletable": true,
    "editable": true
   },
   "outputs": [],
   "source": [
    "kmeans = KMeans(init='random',n_clusters=3)\n",
    "kmeans.fit(X)\n",
    "\n",
    "y_pre = kmeans.fit_predict(X)"
   ]
  },
  {
   "cell_type": "markdown",
   "metadata": {
    "deletable": true,
    "editable": true
   },
   "source": [
    "上の図からどのようにクラスターができるかは予想できそうですが、計算ができたので、早速グラフ化してみましょう。"
   ]
  },
  {
   "cell_type": "code",
   "execution_count": 29,
   "metadata": {
    "collapsed": true,
    "deletable": true,
    "editable": true
   },
   "outputs": [],
   "source": [
    "merge_data = pd.concat([pd.DataFrame(X[:,0]),pd.DataFrame(X[:,1]),pd.DataFrame(y_pre)]\n",
    "                       ,axis=1)\n",
    "merge_data.columns = [\"element1\",\"element2\",\"cluster\"]"
   ]
  },
  {
   "cell_type": "code",
   "execution_count": 30,
   "metadata": {
    "collapsed": true,
    "deletable": true,
    "editable": true
   },
   "outputs": [],
   "source": [
    "merge_data_cluster0 = merge_data[merge_data[\"cluster\"]==0]\n",
    "merge_data_cluster1 = merge_data[merge_data[\"cluster\"]==1]\n",
    "merge_data_cluster2 = merge_data[merge_data[\"cluster\"]==2]"
   ]
  },
  {
   "cell_type": "code",
   "execution_count": 31,
   "metadata": {
    "collapsed": false,
    "deletable": true,
    "editable": true,
    "scrolled": true
   },
   "outputs": [
    {
     "data": {
      "image/png": "[encoded data removed]",
      "text/plain": [
       "<matplotlib.figure.Figure at 0x129faf320>"
      ]
     },
     "metadata": {},
     "output_type": "display_data"
    }
   ],
   "source": [
    "ax =merge_data_cluster0.plot.scatter(x='element1', y='element2', color='red', label='cluster0');\n",
    "merge_data_cluster1.plot.scatter(x='element1', y='element2', color='blue', label='cluster1',ax=ax);\n",
    "merge_data_cluster2.plot.scatter(x='element1', y='element2', color='green', label='cluster2',ax=ax);"
   ]
  },
  {
   "cell_type": "markdown",
   "metadata": {
    "deletable": true,
    "editable": true
   },
   "source": [
    "さて次に、このクラスタリングを一体どうやって活用していくのか、実際のマーケティングのデータを使って見ていきましょう。\n",
    "\n",
    "扱うデータはとある金融機関のデータで、お客さんが定期預金の申し込みをしたかどうかのデータです。このデータには、キャンペーンの実施状況、お客さんの属性情報などいろいろデータがあります。このデータをクライアントからもらったとして、クライアントから「そもそも私たちのどんなお客さんがいるのかわからない」というお題をいただきました。\n",
    "\n",
    "教師あり学習アプローチを考えるならば、定期預金をしたかどうかを目的変数にしてモデルを構築したいところですが、今回のように、何か目標となる変数は今のところはっきりしないというケースはビジネスでは多々あります。このような場合や、データの中から潜在的な構造を見つけ出すために、教師なし学習のクラスタリングを実施してみるのも手でしょう。\n",
    "\n",
    "まずは、対象データを読み込みます。(また、あらかじめディレクトリを作成し、そこへ移動しておきましょう。)"
   ]
  },
  {
   "cell_type": "code",
   "execution_count": 46,
   "metadata": {
    "collapsed": true,
    "deletable": true,
    "editable": true
   },
   "outputs": [],
   "source": [
    "# webからデータを取得したり、zipファイルを扱うためのモジュール\n",
    "import requests, zipfile\n",
    "from io import StringIO\n",
    "import io\n",
    "\n",
    "# データがあるurl の指定\n",
    "zip_file_url = \"http://archive.ics.uci.edu/ml/machine-learning-databases/00222/bank.zip\"\n",
    "\n",
    "# データを取得して展開する\n",
    "r = requests.get(zip_file_url, stream=True)\n",
    "z = zipfile.ZipFile(io.BytesIO(r.content))\n",
    "z.extractall()"
   ]
  },
  {
   "cell_type": "markdown",
   "metadata": {
    "deletable": true,
    "editable": true
   },
   "source": [
    "データの確認をします。対象となるデータは、bank-full.csvになりますので、それを読み込みます。今回も区切りは「;」なので、気をつけてください。"
   ]
  },
  {
   "cell_type": "code",
   "execution_count": null,
   "metadata": {
    "collapsed": true,
    "deletable": true,
    "editable": true
   },
   "outputs": [],
   "source": [
    "ls"
   ]
  },
  {
   "cell_type": "code",
   "execution_count": 48,
   "metadata": {
    "collapsed": false,
    "deletable": true,
    "editable": true,
    "scrolled": true
   },
   "outputs": [
    {
     "data": {
      "text/html": [
       "<div>\n",
       "<table border=\"1\" class=\"dataframe\">\n",
       "  <thead>\n",
       "    <tr style=\"text-align: right;\">\n",
       "      <th></th>\n",
       "      <th>age</th>\n",
       "      <th>job</th>\n",
       "      <th>marital</th>\n",
       "      <th>education</th>\n",
       "      <th>default</th>\n",
       "      <th>balance</th>\n",
       "      <th>housing</th>\n",
       "      <th>loan</th>\n",
       "      <th>contact</th>\n",
       "      <th>day</th>\n",
       "      <th>month</th>\n",
       "      <th>duration</th>\n",
       "      <th>campaign</th>\n",
       "      <th>pdays</th>\n",
       "      <th>previous</th>\n",
       "      <th>poutcome</th>\n",
       "      <th>y</th>\n",
       "    </tr>\n",
       "  </thead>\n",
       "  <tbody>\n",
       "    <tr>\n",
       "      <th>0</th>\n",
       "      <td>58</td>\n",
       "      <td>management</td>\n",
       "      <td>married</td>\n",
       "      <td>tertiary</td>\n",
       "      <td>no</td>\n",
       "      <td>2143</td>\n",
       "      <td>yes</td>\n",
       "      <td>no</td>\n",
       "      <td>unknown</td>\n",
       "      <td>5</td>\n",
       "      <td>may</td>\n",
       "      <td>261</td>\n",
       "      <td>1</td>\n",
       "      <td>-1</td>\n",
       "      <td>0</td>\n",
       "      <td>unknown</td>\n",
       "      <td>no</td>\n",
       "    </tr>\n",
       "    <tr>\n",
       "      <th>1</th>\n",
       "      <td>44</td>\n",
       "      <td>technician</td>\n",
       "      <td>single</td>\n",
       "      <td>secondary</td>\n",
       "      <td>no</td>\n",
       "      <td>29</td>\n",
       "      <td>yes</td>\n",
       "      <td>no</td>\n",
       "      <td>unknown</td>\n",
       "      <td>5</td>\n",
       "      <td>may</td>\n",
       "      <td>151</td>\n",
       "      <td>1</td>\n",
       "      <td>-1</td>\n",
       "      <td>0</td>\n",
       "      <td>unknown</td>\n",
       "      <td>no</td>\n",
       "    </tr>\n",
       "    <tr>\n",
       "      <th>2</th>\n",
       "      <td>33</td>\n",
       "      <td>entrepreneur</td>\n",
       "      <td>married</td>\n",
       "      <td>secondary</td>\n",
       "      <td>no</td>\n",
       "      <td>2</td>\n",
       "      <td>yes</td>\n",
       "      <td>yes</td>\n",
       "      <td>unknown</td>\n",
       "      <td>5</td>\n",
       "      <td>may</td>\n",
       "      <td>76</td>\n",
       "      <td>1</td>\n",
       "      <td>-1</td>\n",
       "      <td>0</td>\n",
       "      <td>unknown</td>\n",
       "      <td>no</td>\n",
       "    </tr>\n",
       "    <tr>\n",
       "      <th>3</th>\n",
       "      <td>47</td>\n",
       "      <td>blue-collar</td>\n",
       "      <td>married</td>\n",
       "      <td>unknown</td>\n",
       "      <td>no</td>\n",
       "      <td>1506</td>\n",
       "      <td>yes</td>\n",
       "      <td>no</td>\n",
       "      <td>unknown</td>\n",
       "      <td>5</td>\n",
       "      <td>may</td>\n",
       "      <td>92</td>\n",
       "      <td>1</td>\n",
       "      <td>-1</td>\n",
       "      <td>0</td>\n",
       "      <td>unknown</td>\n",
       "      <td>no</td>\n",
       "    </tr>\n",
       "    <tr>\n",
       "      <th>4</th>\n",
       "      <td>33</td>\n",
       "      <td>unknown</td>\n",
       "      <td>single</td>\n",
       "      <td>unknown</td>\n",
       "      <td>no</td>\n",
       "      <td>1</td>\n",
       "      <td>no</td>\n",
       "      <td>no</td>\n",
       "      <td>unknown</td>\n",
       "      <td>5</td>\n",
       "      <td>may</td>\n",
       "      <td>198</td>\n",
       "      <td>1</td>\n",
       "      <td>-1</td>\n",
       "      <td>0</td>\n",
       "      <td>unknown</td>\n",
       "      <td>no</td>\n",
       "    </tr>\n",
       "  </tbody>\n",
       "</table>\n",
       "</div>"
      ],
      "text/plain": [
       "   age           job  marital  education default  balance housing loan  \\\n",
       "0   58    management  married   tertiary      no     2143     yes   no   \n",
       "1   44    technician   single  secondary      no       29     yes   no   \n",
       "2   33  entrepreneur  married  secondary      no        2     yes  yes   \n",
       "3   47   blue-collar  married    unknown      no     1506     yes   no   \n",
       "4   33       unknown   single    unknown      no        1      no   no   \n",
       "\n",
       "   contact  day month  duration  campaign  pdays  previous poutcome   y  \n",
       "0  unknown    5   may       261         1     -1         0  unknown  no  \n",
       "1  unknown    5   may       151         1     -1         0  unknown  no  \n",
       "2  unknown    5   may        76         1     -1         0  unknown  no  \n",
       "3  unknown    5   may        92         1     -1         0  unknown  no  \n",
       "4  unknown    5   may       198         1     -1         0  unknown  no  "
      ]
     },
     "execution_count": 48,
     "metadata": {},
     "output_type": "execute_result"
    }
   ],
   "source": [
    "banking_c_data = pd.read_csv(\"bank-full.csv\",sep=\";\")\n",
    "banking_c_data.head()"
   ]
  },
  {
   "cell_type": "markdown",
   "metadata": {
    "deletable": true,
    "editable": true
   },
   "source": [
    "参考ですが、以下が属性データです。inputが説明変数となるデータ、outputが目的変数となるデータになりますが、はじめは、目的変数を予測するかどうかは意識しないでおきましょう。"
   ]
  },
  {
   "cell_type": "markdown",
   "metadata": {
    "deletable": true,
    "editable": true
   },
   "source": [
    "-Input variables:\n",
    "- ##### bank client data:\n",
    "1 - age (numeric)   \n",
    "2 - job : type of job (categorical: 'admin.','blue-collar','entrepreneur','housemaid','management','retired','self-employed','services','student','technician','unemployed','unknown')  \n",
    "3 - marital : marital status (categorical: 'divorced','married','single','unknown'; note: 'divorced' means divorced or widowed)  \n",
    "4 - education (categorical:'basic.4y','basic.6y','basic.9y','high.school','illiterate','professional.course','university.degree','unknown')  \n",
    "5 - default: has credit in default? (categorical: 'no','yes','unknown')  \n",
    "6 - housing: has housing loan? (categorical: 'no','yes','unknown')  \n",
    "7 - loan: has personal loan? (categorical: 'no','yes','unknown')  \n",
    "- ##### related with the last contact of the current campaign:   \n",
    "8 - contact: contact communication type (categorical: 'cellular','telephone')   \n",
    "9 - month: last contact month of year (categorical: 'jan', 'feb', 'mar', ..., 'nov', 'dec')  \n",
    "10 - day_of_week: last contact day of the week (categorical: 'mon','tue','wed','thu','fri')  \n",
    "11 - duration: last contact duration, in seconds (numeric). Important note: this attribute highly affects the output target (e.g., if duration=0 then y='no'). Yet, the duration is not known before a call is performed. Also, after the end of the call y is obviously known. Thus, this input should only be included for benchmark purposes and should be discarded if the intention is to have a realistic predictive model.  "
   ]
  },
  {
   "cell_type": "markdown",
   "metadata": {
    "deletable": true,
    "editable": true
   },
   "source": [
    "- ##### other attributes:  \n",
    "12 - campaign: number of contacts performed during this campaign and for this client (numeric, includes last contact)  \n",
    "13 - pdays: number of days that passed by after the client was last contacted from a previous campaign (numeric; 999 means client was not previously contacted)  \n",
    "14 - previous: number of contacts performed before this campaign and for this client (numeric)  \n",
    "15 - poutcome: outcome of the previous marketing campaign (categorical: 'failure','nonexistent','success')  \n",
    "- ##### social and economic context attributes  \n",
    "16 - emp.var.rate: employment variation rate - quarterly indicator (numeric)  \n",
    "17 - cons.price.idx: consumer price index - monthly indicator (numeric)   \n",
    "18 - cons.conf.idx: consumer confidence index - monthly indicator (numeric)   \n",
    "19 - euribor3m: euribor 3 month rate - daily indicator (numeric)  \n",
    "20 - nr.employed: number of employees - quarterly indicator (numeric)  "
   ]
  },
  {
   "cell_type": "markdown",
   "metadata": {
    "deletable": true,
    "editable": true
   },
   "source": [
    "-Output variable (desired target):  \n",
    "21 - y - has the client subscribed a term deposit? (binary: 'yes','no')  "
   ]
  },
  {
   "cell_type": "markdown",
   "metadata": {
    "deletable": true,
    "editable": true
   },
   "source": [
    "以下よりデータは約4.5万レコードあることがわかります。Unknownはありますが、Nullなどはないようです。"
   ]
  },
  {
   "cell_type": "code",
   "execution_count": 49,
   "metadata": {
    "collapsed": false,
    "deletable": true,
    "editable": true,
    "scrolled": true
   },
   "outputs": [
    {
     "name": "stdout",
     "output_type": "stream",
     "text": [
      "<class 'pandas.core.frame.DataFrame'>\n",
      "RangeIndex: 45211 entries, 0 to 45210\n",
      "Data columns (total 17 columns):\n",
      "age          45211 non-null int64\n",
      "job          45211 non-null object\n",
      "marital      45211 non-null object\n",
      "education    45211 non-null object\n",
      "default      45211 non-null object\n",
      "balance      45211 non-null int64\n",
      "housing      45211 non-null object\n",
      "loan         45211 non-null object\n",
      "contact      45211 non-null object\n",
      "day          45211 non-null int64\n",
      "month        45211 non-null object\n",
      "duration     45211 non-null int64\n",
      "campaign     45211 non-null int64\n",
      "pdays        45211 non-null int64\n",
      "previous     45211 non-null int64\n",
      "poutcome     45211 non-null object\n",
      "y            45211 non-null object\n",
      "dtypes: int64(7), object(10)\n",
      "memory usage: 5.9+ MB\n"
     ]
    }
   ],
   "source": [
    "banking_c_data.info()"
   ]
  },
  {
   "cell_type": "markdown",
   "metadata": {
    "deletable": true,
    "editable": true
   },
   "source": [
    "まずは、変数として、age、balance、campaign、previousを使います。"
   ]
  },
  {
   "cell_type": "code",
   "execution_count": 50,
   "metadata": {
    "collapsed": true,
    "deletable": true,
    "editable": true
   },
   "outputs": [],
   "source": [
    "banking_c_data_sub=banking_c_data[['age','balance','campaign','previous']]"
   ]
  },
  {
   "cell_type": "markdown",
   "metadata": {
    "deletable": true,
    "editable": true
   },
   "source": [
    "クラスタリングも教師あり学習でやったスケーリングを同様に実施することで、大きな変数に引っ張られずに済みます。"
   ]
  },
  {
   "cell_type": "code",
   "execution_count": 52,
   "metadata": {
    "collapsed": true,
    "deletable": true,
    "editable": true
   },
   "outputs": [],
   "source": [
    "# 標準化のためのモジュール\n",
    "from sklearn.preprocessing import StandardScaler\n",
    "\n",
    "# 標準化\n",
    "sc = StandardScaler()\n",
    "sc.fit(banking_c_data_sub)\n",
    "banking_c_data_sub_std = sc.transform(banking_c_data_sub)"
   ]
  },
  {
   "cell_type": "markdown",
   "metadata": {
    "deletable": true,
    "editable": true
   },
   "source": [
    "それでは、k-meansを実施します。なお、パラメータを省略すると**k-means++**になります。k-means++は、k-meansで初期値で設定する値をなるべく広げて取るように計算する手法で、k-meansよりも安定的な結果が得られます。詳細は参考文献などを読んでください。クラスター数は6にします。"
   ]
  },
  {
   "cell_type": "code",
   "execution_count": 61,
   "metadata": {
    "collapsed": false,
    "deletable": true,
    "editable": true
   },
   "outputs": [],
   "source": [
    "from sklearn.cluster import KMeans\n",
    "\n",
    "X = banking_c_data_sub_std\n",
    "\n",
    "# random_state固定\n",
    "kmeans = KMeans(init='random',n_clusters=6,random_state=0)\n",
    "kmeans.fit(X)\n",
    "\n",
    "labels = kmeans.labels_"
   ]
  },
  {
   "cell_type": "code",
   "execution_count": 62,
   "metadata": {
    "collapsed": false,
    "deletable": true,
    "editable": true
   },
   "outputs": [],
   "source": [
    "label_data = pd.DataFrame(labels,columns=[\"cl_nm\"])"
   ]
  },
  {
   "cell_type": "markdown",
   "metadata": {
    "deletable": true,
    "editable": true
   },
   "source": [
    "ここで、各クラスターに割り当てられた人数を集計してみましょう。"
   ]
  },
  {
   "cell_type": "code",
   "execution_count": 63,
   "metadata": {
    "collapsed": false,
    "deletable": true,
    "editable": true,
    "scrolled": true
   },
   "outputs": [
    {
     "data": {
      "text/plain": [
       "cl_nm\n",
       "0    24509\n",
       "1      221\n",
       "2     2684\n",
       "3     1380\n",
       "4    14734\n",
       "5     1683\n",
       "dtype: int64"
      ]
     },
     "execution_count": 63,
     "metadata": {},
     "output_type": "execute_result"
    }
   ],
   "source": [
    "label_data_bycl = label_data.groupby(\"cl_nm\").size()\n",
    "label_data_bycl"
   ]
  },
  {
   "cell_type": "code",
   "execution_count": 64,
   "metadata": {
    "collapsed": false,
    "deletable": true,
    "editable": true
   },
   "outputs": [
    {
     "data": {
      "image/png": "[encoded data removed]",
      "text/plain": [
       "<matplotlib.figure.Figure at 0x129028eb8>"
      ]
     },
     "metadata": {},
     "output_type": "display_data"
    }
   ],
   "source": [
    "plt.bar([0,1,2,3,4,5],label_data_bycl.values)\n",
    "# それぞれのラベル\n",
    "plt.ylabel(\"count\")\n",
    "plt.xlabel(\"cluster num\")\n",
    "# グリッドをつける\n",
    "plt.grid(True)"
   ]
  },
  {
   "cell_type": "markdown",
   "metadata": {
    "deletable": true,
    "editable": true
   },
   "source": [
    "バランスが悪く見えますが、ここで問題になるのがクラスター数の数をどれだけにすれば良いのかという問題があります。先ほどはいきなり6で決め打ちしました。ここでは**エルボー法**を用いて、クラスター内の歪みを見ながらやる方法を実施します。以下の結果は若干微妙ですが、クラスター数が5〜6付近でエルボーのようになっているため、6でも良さそうです。他の方法として、**シルエット分析(シルエット係数)**などもありますので、興味のある方は参考文献などを見て調べてみてください。"
   ]
  },
  {
   "cell_type": "code",
   "execution_count": 65,
   "metadata": {
    "collapsed": false,
    "deletable": true,
    "editable": true
   },
   "outputs": [],
   "source": [
    "# エルボー法\n",
    "dist_list =[]\n",
    "for i in range(1,20):\n",
    "    kmpp = KMeans(n_clusters=i,init='random',n_init=5,max_iter=100,random_state=0)\n",
    "    kmpp.fit(X)\n",
    "    dist_list.append(kmpp.inertia_)"
   ]
  },
  {
   "cell_type": "code",
   "execution_count": 66,
   "metadata": {
    "collapsed": false,
    "deletable": true,
    "editable": true,
    "scrolled": true
   },
   "outputs": [
    {
     "data": {
      "text/plain": [
       "<matplotlib.text.Text at 0x12c7b8ef0>"
      ]
     },
     "execution_count": 66,
     "metadata": {},
     "output_type": "execute_result"
    },
    {
     "data": {
      "image/png": "[encoded data removed]",
      "text/plain": [
       "<matplotlib.figure.Figure at 0x12bb67390>"
      ]
     },
     "metadata": {},
     "output_type": "display_data"
    }
   ],
   "source": [
    "plt.plot(range(1,20),dist_list,marker='+')\n",
    "plt.xlabel(\"Number of clusters\")\n",
    "plt.ylabel(\"Disttortion\")"
   ]
  },
  {
   "cell_type": "markdown",
   "metadata": {
    "collapsed": true,
    "deletable": true,
    "editable": true
   },
   "source": [
    "今回は**非階層型**のクラスタリングを実施してきましたが、他、**階層型**のクラスタリングもあります。階層型は計算はsklearn.clusterのAgglomerativeClusteringを使います。今回は詳細は述べませんが、参考文献などを見て勉強してください。実務的には、階層型の方が理解しやいかもしれません。"
   ]
  },
  {
   "cell_type": "markdown",
   "metadata": {
    "collapsed": true,
    "deletable": true,
    "editable": true
   },
   "source": [
    "さて、実務的にはこの結果を解釈していくことが大事になってきますが、ほとんどの機械学習の本にはそこについて触れられていません。クラスター分析はグループ分けをしたら終わりではなく、そこのグループが一体どんなグループなのか、それがわかって次にどんなアクションが取れるのかを求められます。ここでは、その前段階として、クラスタリングをどのように解釈していくか、少し深堀していきましょう。"
   ]
  },
  {
   "cell_type": "markdown",
   "metadata": {
    "collapsed": true,
    "deletable": true,
    "editable": true
   },
   "source": [
    "まず、先ほどのクラスター番号を、元あったデータに紐づけます。"
   ]
  },
  {
   "cell_type": "code",
   "execution_count": 67,
   "metadata": {
    "collapsed": true,
    "deletable": true,
    "editable": true
   },
   "outputs": [],
   "source": [
    "merge_data = pd.concat([banking_c_data,label_data],axis=1)"
   ]
  },
  {
   "cell_type": "code",
   "execution_count": 68,
   "metadata": {
    "collapsed": false,
    "deletable": true,
    "editable": true
   },
   "outputs": [
    {
     "data": {
      "text/html": [
       "<div>\n",
       "<table border=\"1\" class=\"dataframe\">\n",
       "  <thead>\n",
       "    <tr style=\"text-align: right;\">\n",
       "      <th></th>\n",
       "      <th>age</th>\n",
       "      <th>job</th>\n",
       "      <th>marital</th>\n",
       "      <th>education</th>\n",
       "      <th>default</th>\n",
       "      <th>balance</th>\n",
       "      <th>housing</th>\n",
       "      <th>loan</th>\n",
       "      <th>contact</th>\n",
       "      <th>day</th>\n",
       "      <th>month</th>\n",
       "      <th>duration</th>\n",
       "      <th>campaign</th>\n",
       "      <th>pdays</th>\n",
       "      <th>previous</th>\n",
       "      <th>poutcome</th>\n",
       "      <th>y</th>\n",
       "      <th>cl_nm</th>\n",
       "    </tr>\n",
       "  </thead>\n",
       "  <tbody>\n",
       "    <tr>\n",
       "      <th>0</th>\n",
       "      <td>58</td>\n",
       "      <td>management</td>\n",
       "      <td>married</td>\n",
       "      <td>tertiary</td>\n",
       "      <td>no</td>\n",
       "      <td>2143</td>\n",
       "      <td>yes</td>\n",
       "      <td>no</td>\n",
       "      <td>unknown</td>\n",
       "      <td>5</td>\n",
       "      <td>may</td>\n",
       "      <td>261</td>\n",
       "      <td>1</td>\n",
       "      <td>-1</td>\n",
       "      <td>0</td>\n",
       "      <td>unknown</td>\n",
       "      <td>no</td>\n",
       "      <td>4</td>\n",
       "    </tr>\n",
       "    <tr>\n",
       "      <th>1</th>\n",
       "      <td>44</td>\n",
       "      <td>technician</td>\n",
       "      <td>single</td>\n",
       "      <td>secondary</td>\n",
       "      <td>no</td>\n",
       "      <td>29</td>\n",
       "      <td>yes</td>\n",
       "      <td>no</td>\n",
       "      <td>unknown</td>\n",
       "      <td>5</td>\n",
       "      <td>may</td>\n",
       "      <td>151</td>\n",
       "      <td>1</td>\n",
       "      <td>-1</td>\n",
       "      <td>0</td>\n",
       "      <td>unknown</td>\n",
       "      <td>no</td>\n",
       "      <td>4</td>\n",
       "    </tr>\n",
       "    <tr>\n",
       "      <th>2</th>\n",
       "      <td>33</td>\n",
       "      <td>entrepreneur</td>\n",
       "      <td>married</td>\n",
       "      <td>secondary</td>\n",
       "      <td>no</td>\n",
       "      <td>2</td>\n",
       "      <td>yes</td>\n",
       "      <td>yes</td>\n",
       "      <td>unknown</td>\n",
       "      <td>5</td>\n",
       "      <td>may</td>\n",
       "      <td>76</td>\n",
       "      <td>1</td>\n",
       "      <td>-1</td>\n",
       "      <td>0</td>\n",
       "      <td>unknown</td>\n",
       "      <td>no</td>\n",
       "      <td>0</td>\n",
       "    </tr>\n",
       "  </tbody>\n",
       "</table>\n",
       "</div>"
      ],
      "text/plain": [
       "   age           job  marital  education default  balance housing loan  \\\n",
       "0   58    management  married   tertiary      no     2143     yes   no   \n",
       "1   44    technician   single  secondary      no       29     yes   no   \n",
       "2   33  entrepreneur  married  secondary      no        2     yes  yes   \n",
       "\n",
       "   contact  day month  duration  campaign  pdays  previous poutcome   y  cl_nm  \n",
       "0  unknown    5   may       261         1     -1         0  unknown  no      4  \n",
       "1  unknown    5   may       151         1     -1         0  unknown  no      4  \n",
       "2  unknown    5   may        76         1     -1         0  unknown  no      0  "
      ]
     },
     "execution_count": 68,
     "metadata": {},
     "output_type": "execute_result"
    }
   ],
   "source": [
    "merge_data.head(3)"
   ]
  },
  {
   "cell_type": "markdown",
   "metadata": {
    "collapsed": true,
    "deletable": true,
    "editable": true
   },
   "source": [
    "次に、例えば、クラスターのそれぞれの年齢層はどうなるかということが気になると思います。以下は、pandasで学んだ分割と、ピボットテーブルを使います。軸はクラスター番号と、年齢です。年齢は基本的に15歳から5歳区切りで、最後は65歳以上100歳未満で区切っています。"
   ]
  },
  {
   "cell_type": "code",
   "execution_count": 69,
   "metadata": {
    "collapsed": false,
    "deletable": true,
    "editable": true
   },
   "outputs": [
    {
     "data": {
      "text/plain": [
       "[30, 35)     9740\n",
       "[35, 40)     8349\n",
       "[40, 45)     6185\n",
       "[45, 50)     5470\n",
       "[50, 55)     4488\n",
       "[25, 30)     4464\n",
       "[55, 60)     3922\n",
       "[60, 65)      974\n",
       "[65, 100)     810\n",
       "[20, 25)      762\n",
       "[15, 20)       47\n",
       "Name: age, dtype: int64"
      ]
     },
     "execution_count": 69,
     "metadata": {},
     "output_type": "execute_result"
    }
   ],
   "source": [
    "#　分割の粒度\n",
    "absences_bins = [15,20,25,30,35,40,45,50,55,60,65,100]\n",
    "qcut_result = pd.cut(merge_data.age,absences_bins,right=False)\n",
    "value_qcut_result = pd.value_counts(qcut_result)\n",
    "value_qcut_result"
   ]
  },
  {
   "cell_type": "code",
   "execution_count": 70,
   "metadata": {
    "collapsed": false,
    "deletable": true,
    "editable": true
   },
   "outputs": [],
   "source": [
    "merge_data_age_cl = pd.concat([merge_data.cl_nm,qcut_result],axis=1)"
   ]
  },
  {
   "cell_type": "markdown",
   "metadata": {
    "deletable": true,
    "editable": true
   },
   "source": [
    "以下の表はクロス表になります。（行がクラスター番号、列が年齢区切りです。）"
   ]
  },
  {
   "cell_type": "code",
   "execution_count": 71,
   "metadata": {
    "collapsed": false,
    "deletable": true,
    "editable": true,
    "scrolled": true
   },
   "outputs": [
    {
     "data": {
      "text/html": [
       "<div>\n",
       "<table border=\"1\" class=\"dataframe\">\n",
       "  <thead>\n",
       "    <tr style=\"text-align: right;\">\n",
       "      <th>age</th>\n",
       "      <th>[15, 20)</th>\n",
       "      <th>[20, 25)</th>\n",
       "      <th>[25, 30)</th>\n",
       "      <th>[30, 35)</th>\n",
       "      <th>[35, 40)</th>\n",
       "      <th>[40, 45)</th>\n",
       "      <th>[45, 50)</th>\n",
       "      <th>[50, 55)</th>\n",
       "      <th>[55, 60)</th>\n",
       "      <th>[60, 65)</th>\n",
       "      <th>[65, 100)</th>\n",
       "    </tr>\n",
       "    <tr>\n",
       "      <th>cl_nm</th>\n",
       "      <th></th>\n",
       "      <th></th>\n",
       "      <th></th>\n",
       "      <th></th>\n",
       "      <th></th>\n",
       "      <th></th>\n",
       "      <th></th>\n",
       "      <th></th>\n",
       "      <th></th>\n",
       "      <th></th>\n",
       "      <th></th>\n",
       "    </tr>\n",
       "  </thead>\n",
       "  <tbody>\n",
       "    <tr>\n",
       "      <th>0</th>\n",
       "      <td>45</td>\n",
       "      <td>711</td>\n",
       "      <td>4024</td>\n",
       "      <td>8492</td>\n",
       "      <td>7146</td>\n",
       "      <td>4091</td>\n",
       "      <td>0</td>\n",
       "      <td>0</td>\n",
       "      <td>0</td>\n",
       "      <td>0</td>\n",
       "      <td>0</td>\n",
       "    </tr>\n",
       "    <tr>\n",
       "      <th>1</th>\n",
       "      <td>0</td>\n",
       "      <td>3</td>\n",
       "      <td>10</td>\n",
       "      <td>37</td>\n",
       "      <td>25</td>\n",
       "      <td>26</td>\n",
       "      <td>27</td>\n",
       "      <td>30</td>\n",
       "      <td>38</td>\n",
       "      <td>11</td>\n",
       "      <td>14</td>\n",
       "    </tr>\n",
       "    <tr>\n",
       "      <th>2</th>\n",
       "      <td>0</td>\n",
       "      <td>14</td>\n",
       "      <td>152</td>\n",
       "      <td>497</td>\n",
       "      <td>517</td>\n",
       "      <td>460</td>\n",
       "      <td>375</td>\n",
       "      <td>306</td>\n",
       "      <td>263</td>\n",
       "      <td>63</td>\n",
       "      <td>37</td>\n",
       "    </tr>\n",
       "    <tr>\n",
       "      <th>3</th>\n",
       "      <td>0</td>\n",
       "      <td>20</td>\n",
       "      <td>132</td>\n",
       "      <td>327</td>\n",
       "      <td>308</td>\n",
       "      <td>187</td>\n",
       "      <td>146</td>\n",
       "      <td>117</td>\n",
       "      <td>71</td>\n",
       "      <td>38</td>\n",
       "      <td>34</td>\n",
       "    </tr>\n",
       "    <tr>\n",
       "      <th>4</th>\n",
       "      <td>0</td>\n",
       "      <td>0</td>\n",
       "      <td>0</td>\n",
       "      <td>0</td>\n",
       "      <td>0</td>\n",
       "      <td>1155</td>\n",
       "      <td>4701</td>\n",
       "      <td>3885</td>\n",
       "      <td>3436</td>\n",
       "      <td>838</td>\n",
       "      <td>719</td>\n",
       "    </tr>\n",
       "    <tr>\n",
       "      <th>5</th>\n",
       "      <td>2</td>\n",
       "      <td>14</td>\n",
       "      <td>146</td>\n",
       "      <td>387</td>\n",
       "      <td>353</td>\n",
       "      <td>266</td>\n",
       "      <td>221</td>\n",
       "      <td>150</td>\n",
       "      <td>114</td>\n",
       "      <td>24</td>\n",
       "      <td>6</td>\n",
       "    </tr>\n",
       "  </tbody>\n",
       "</table>\n",
       "</div>"
      ],
      "text/plain": [
       "age    [15, 20)  [20, 25)  [25, 30)  [30, 35)  [35, 40)  [40, 45)  [45, 50)  \\\n",
       "cl_nm                                                                         \n",
       "0            45       711      4024      8492      7146      4091         0   \n",
       "1             0         3        10        37        25        26        27   \n",
       "2             0        14       152       497       517       460       375   \n",
       "3             0        20       132       327       308       187       146   \n",
       "4             0         0         0         0         0      1155      4701   \n",
       "5             2        14       146       387       353       266       221   \n",
       "\n",
       "age    [50, 55)  [55, 60)  [60, 65)  [65, 100)  \n",
       "cl_nm                                           \n",
       "0             0         0         0          0  \n",
       "1            30        38        11         14  \n",
       "2           306       263        63         37  \n",
       "3           117        71        38         34  \n",
       "4          3885      3436       838        719  \n",
       "5           150       114        24          6  "
      ]
     },
     "execution_count": 71,
     "metadata": {},
     "output_type": "execute_result"
    }
   ],
   "source": [
    "cluster_num_age_cross_tb = pd.pivot_table(merge_data_age_cl\n",
    "                                          , index=['cl_nm'], columns=['age'],aggfunc=lambda x : len(x)\n",
    "                                          ,fill_value = 0) \n",
    "cluster_num_age_cross_tb"
   ]
  },
  {
   "cell_type": "markdown",
   "metadata": {
    "collapsed": true,
    "deletable": true,
    "editable": true
   },
   "source": [
    "ただ、人数だけではわからないので、上の表をベースに、クラスター内においてどの年齢層の割合を計算して、グラフ化しているのが以下になります。"
   ]
  },
  {
   "cell_type": "code",
   "execution_count": 72,
   "metadata": {
    "collapsed": false,
    "deletable": true,
    "editable": true
   },
   "outputs": [],
   "source": [
    "cluster_num_cnt_tb = pd.pivot_table(merge_data, values='previous', index=['cl_nm'],aggfunc=lambda x : len(x))"
   ]
  },
  {
   "cell_type": "code",
   "execution_count": 74,
   "metadata": {
    "collapsed": false,
    "deletable": true,
    "editable": true
   },
   "outputs": [
    {
     "data": {
      "text/plain": [
       "<matplotlib.axes._subplots.AxesSubplot at 0x12bee78d0>"
      ]
     },
     "execution_count": 74,
     "metadata": {},
     "output_type": "execute_result"
    },
    {
     "data": {
      "image/png": "[encoded data removed]",
      "text/plain": [
       "<matplotlib.figure.Figure at 0x12c7913c8>"
      ]
     },
     "metadata": {},
     "output_type": "display_data"
    }
   ],
   "source": [
    "sns.heatmap(pd.DataFrame(cluster_num_age_cross_tb.unstack(1)/cluster_num_cnt_tb,columns=[\"cl_nm\"]).unstack()\n",
    "            ,cmap='Blues')"
   ]
  },
  {
   "cell_type": "markdown",
   "metadata": {
    "collapsed": true,
    "deletable": true,
    "editable": true
   },
   "source": [
    "上記を見ていると、クラスター番号0の年齢層が30-40前後で固まっていたり、一方クラスター番号4は45-50前後に固まっているのがわかります。"
   ]
  },
  {
   "cell_type": "markdown",
   "metadata": {
    "collapsed": true,
    "deletable": true,
    "editable": true
   },
   "source": [
    "次は、jobについて見てみましょう。"
   ]
  },
  {
   "cell_type": "code",
   "execution_count": 75,
   "metadata": {
    "collapsed": false,
    "deletable": true,
    "editable": true
   },
   "outputs": [],
   "source": [
    "merge_data_job_cl = merge_data[['cl_nm','job']]"
   ]
  },
  {
   "cell_type": "code",
   "execution_count": 76,
   "metadata": {
    "collapsed": false,
    "deletable": true,
    "editable": true
   },
   "outputs": [
    {
     "data": {
      "text/html": [
       "<div>\n",
       "<table border=\"1\" class=\"dataframe\">\n",
       "  <thead>\n",
       "    <tr style=\"text-align: right;\">\n",
       "      <th>job</th>\n",
       "      <th>admin.</th>\n",
       "      <th>blue-collar</th>\n",
       "      <th>entrepreneur</th>\n",
       "      <th>housemaid</th>\n",
       "      <th>management</th>\n",
       "      <th>retired</th>\n",
       "      <th>self-employed</th>\n",
       "      <th>services</th>\n",
       "      <th>student</th>\n",
       "      <th>technician</th>\n",
       "      <th>unemployed</th>\n",
       "      <th>unknown</th>\n",
       "    </tr>\n",
       "    <tr>\n",
       "      <th>cl_nm</th>\n",
       "      <th></th>\n",
       "      <th></th>\n",
       "      <th></th>\n",
       "      <th></th>\n",
       "      <th></th>\n",
       "      <th></th>\n",
       "      <th></th>\n",
       "      <th></th>\n",
       "      <th></th>\n",
       "      <th></th>\n",
       "      <th></th>\n",
       "      <th></th>\n",
       "    </tr>\n",
       "  </thead>\n",
       "  <tbody>\n",
       "    <tr>\n",
       "      <th>0</th>\n",
       "      <td>3097</td>\n",
       "      <td>5610</td>\n",
       "      <td>728</td>\n",
       "      <td>426</td>\n",
       "      <td>5130</td>\n",
       "      <td>57</td>\n",
       "      <td>852</td>\n",
       "      <td>2564</td>\n",
       "      <td>813</td>\n",
       "      <td>4459</td>\n",
       "      <td>698</td>\n",
       "      <td>75</td>\n",
       "    </tr>\n",
       "    <tr>\n",
       "      <th>1</th>\n",
       "      <td>15</td>\n",
       "      <td>12</td>\n",
       "      <td>19</td>\n",
       "      <td>7</td>\n",
       "      <td>91</td>\n",
       "      <td>24</td>\n",
       "      <td>11</td>\n",
       "      <td>9</td>\n",
       "      <td>3</td>\n",
       "      <td>21</td>\n",
       "      <td>6</td>\n",
       "      <td>3</td>\n",
       "    </tr>\n",
       "    <tr>\n",
       "      <th>2</th>\n",
       "      <td>219</td>\n",
       "      <td>459</td>\n",
       "      <td>91</td>\n",
       "      <td>70</td>\n",
       "      <td>788</td>\n",
       "      <td>111</td>\n",
       "      <td>130</td>\n",
       "      <td>189</td>\n",
       "      <td>48</td>\n",
       "      <td>460</td>\n",
       "      <td>99</td>\n",
       "      <td>20</td>\n",
       "    </tr>\n",
       "    <tr>\n",
       "      <th>3</th>\n",
       "      <td>196</td>\n",
       "      <td>244</td>\n",
       "      <td>42</td>\n",
       "      <td>22</td>\n",
       "      <td>332</td>\n",
       "      <td>53</td>\n",
       "      <td>41</td>\n",
       "      <td>112</td>\n",
       "      <td>52</td>\n",
       "      <td>250</td>\n",
       "      <td>31</td>\n",
       "      <td>5</td>\n",
       "    </tr>\n",
       "    <tr>\n",
       "      <th>4</th>\n",
       "      <td>1467</td>\n",
       "      <td>3040</td>\n",
       "      <td>543</td>\n",
       "      <td>675</td>\n",
       "      <td>2732</td>\n",
       "      <td>1984</td>\n",
       "      <td>479</td>\n",
       "      <td>1124</td>\n",
       "      <td>4</td>\n",
       "      <td>2084</td>\n",
       "      <td>439</td>\n",
       "      <td>163</td>\n",
       "    </tr>\n",
       "    <tr>\n",
       "      <th>5</th>\n",
       "      <td>177</td>\n",
       "      <td>367</td>\n",
       "      <td>64</td>\n",
       "      <td>40</td>\n",
       "      <td>385</td>\n",
       "      <td>35</td>\n",
       "      <td>66</td>\n",
       "      <td>156</td>\n",
       "      <td>18</td>\n",
       "      <td>323</td>\n",
       "      <td>30</td>\n",
       "      <td>22</td>\n",
       "    </tr>\n",
       "  </tbody>\n",
       "</table>\n",
       "</div>"
      ],
      "text/plain": [
       "job    admin.  blue-collar  entrepreneur  housemaid  management  retired  \\\n",
       "cl_nm                                                                      \n",
       "0        3097         5610           728        426        5130       57   \n",
       "1          15           12            19          7          91       24   \n",
       "2         219          459            91         70         788      111   \n",
       "3         196          244            42         22         332       53   \n",
       "4        1467         3040           543        675        2732     1984   \n",
       "5         177          367            64         40         385       35   \n",
       "\n",
       "job    self-employed  services  student  technician  unemployed  unknown  \n",
       "cl_nm                                                                     \n",
       "0                852      2564      813        4459         698       75  \n",
       "1                 11         9        3          21           6        3  \n",
       "2                130       189       48         460          99       20  \n",
       "3                 41       112       52         250          31        5  \n",
       "4                479      1124        4        2084         439      163  \n",
       "5                 66       156       18         323          30       22  "
      ]
     },
     "execution_count": 76,
     "metadata": {},
     "output_type": "execute_result"
    }
   ],
   "source": [
    "cluster_num_job_cross_tb = pd.pivot_table(merge_data_job_cl\n",
    "                                          , index=['cl_nm'], columns=['job'],aggfunc=lambda x : len(x)\n",
    "                                          ,fill_value = 0) \n",
    "cluster_num_job_cross_tb"
   ]
  },
  {
   "cell_type": "code",
   "execution_count": 77,
   "metadata": {
    "collapsed": false,
    "deletable": true,
    "editable": true
   },
   "outputs": [
    {
     "data": {
      "text/plain": [
       "<matplotlib.axes._subplots.AxesSubplot at 0x12d41acc0>"
      ]
     },
     "execution_count": 77,
     "metadata": {},
     "output_type": "execute_result"
    },
    {
     "data": {
      "image/png": "[encoded data removed]",
      "text/plain": [
       "<matplotlib.figure.Figure at 0x12b0ccfd0>"
      ]
     },
     "metadata": {},
     "output_type": "display_data"
    }
   ],
   "source": [
    "sns.heatmap(pd.DataFrame(cluster_num_job_cross_tb.unstack(1)/cluster_num_cnt_tb,columns=[\"cl_nm\"]).unstack())"
   ]
  },
  {
   "cell_type": "markdown",
   "metadata": {
    "collapsed": true,
    "deletable": true,
    "editable": true
   },
   "source": [
    "上記を見ていると、クラスター番号1が特にマネジメント層の割合が多いのがわかります。一方、クラスタ番号0や4、5はブルーカラー割合が若干多いようです。\n",
    "\n",
    "まだ他の軸を見る必要などありますが、例えばクラスターの解釈として、クラスター番号0は年齢が30〜40歳が多くブルーカラーの人が多いなどわかってきていますので、ある程度どんな人物なのか浮かび上がってきます（また、ユーザーの人物像を描くための**ペルソナ分析**にも使われたりします。）。このようにクラスタリングを実施し、顧客を色々な視点からセグメンテーションすることで、そのグループにあった提案やサービス戦略を考える材料になります。\n",
    "\n",
    "以上で、教師なし学習のクラスタリングは終わりです。ここでは、非階層型のみの紹介でしたが、先ほど述べたように階層型、他には確率的にグループ所属を決める**ソフトクラスタリング**などもあります。今までのアプローチは**ハードクラスタリング**といい、それぞれのユーザーに付くクラスター番号は一意でしたが、ソフトクラスタリングは確率的にグループに属するという考え方です。興味がある方はぜひ調べてみてください。"
   ]
  },
  {
   "cell_type": "markdown",
   "metadata": {
    "collapsed": true,
    "deletable": true,
    "editable": true
   },
   "source": [
    ">[参考文献]\n",
    "\n",
    ">『戦略的データサイエンス入門 ―ビジネスに活かすコンセプトとテクニック』（Foster Provost (著), Tom Fawcett (著), 竹田 正和(監訳) (翻訳), 古畠 敦 (翻訳)、オライリージャパン）\n",
    "\n",
    ">『データマイニング手法 探索的知識発見編―営業、マーケティング、CRMのための顧客分析』（ゴードン S.リノフ (著), マイケル J.A.ベリー (著), 江原 淳 (翻訳), 上野 勉 (翻訳), & 2 その他、海文堂出版）\n",
    "\n",
    ">[参考URL]  \n",
    "\n",
    ">http://pythondatascience.plavox.info/scikit-learn/クラスタ分析-k-means/  \n"
   ]
  },
  {
   "cell_type": "markdown",
   "metadata": {
    "deletable": true,
    "editable": true
   },
   "source": [
    "### 8.3.2 次元圧縮\n",
    "キーワード：PCA"
   ]
  },
  {
   "cell_type": "markdown",
   "metadata": {
    "deletable": true,
    "editable": true
   },
   "source": [
    "次は、次元圧縮です。正確には教師なし次元圧縮で、教師あり学習（判別分析）もありますが、ここでは教師なし次元圧縮の主成分分析について学びましょう。データには様々な種類があり、先ほどの金融マーケティングのデータでは、職業だったり、年齢などがありました。"
   ]
  },
  {
   "cell_type": "markdown",
   "metadata": {
    "deletable": true,
    "editable": true
   },
   "source": [
    "これらの変数と目的である変数との関係性を1つ1つ見ていくことも大切ですが、人の目では確認できない量だったり、それぞれの変数間の関係性なども考慮してみるとなると、どのように見ていけばいいのかわからなくなります。ここで、主成分分析を実施することで、データの情報をできるだけ失わずに、データを圧縮することができます。\n",
    "\n",
    "まずは、簡単なサンプルデータからその方法を見てみましょう。以下は、2変数のデータ（乱数、シード固定）をプロットした図です。"
   ]
  },
  {
   "cell_type": "code",
   "execution_count": 449,
   "metadata": {
    "collapsed": false,
    "deletable": true,
    "editable": true,
    "scrolled": true
   },
   "outputs": [
    {
     "data": {
      "image/png": "[encoded data removed]",
      "text/plain": [
       "<matplotlib.figure.Figure at 0x120660be0>"
      ]
     },
     "metadata": {},
     "output_type": "display_data"
    }
   ],
   "source": [
    "%matplotlib inline\n",
    "import numpy as np\n",
    "import matplotlib.pyplot as plt\n",
    "import seaborn as sns; sns.set()\n",
    "\n",
    "rng_data = np.random.RandomState(1)\n",
    "X = np.dot(rng_data.rand(2, 2), rng_data.randn(2, 200)).T\n",
    "plt.scatter(X[:, 0], X[:, 1])\n",
    "plt.axis('equal');"
   ]
  },
  {
   "cell_type": "markdown",
   "metadata": {
    "deletable": true,
    "editable": true
   },
   "source": [
    "主成分分析はfrom sklearn.decomposition import PCAを使い、以下ではパラメータ（作成する主成分/Principal Componentの数）を2に設定しています。（次元圧縮なので、通常は元の変数の数より小さい値を設定しますが、ここでは手法の説明のため2とします）。pca.fit()で計算を実施しています。"
   ]
  },
  {
   "cell_type": "code",
   "execution_count": 450,
   "metadata": {
    "collapsed": false,
    "deletable": true,
    "editable": true
   },
   "outputs": [
    {
     "data": {
      "text/plain": [
       "PCA(copy=True, n_components=2, whiten=False)"
      ]
     },
     "execution_count": 450,
     "metadata": {},
     "output_type": "execute_result"
    }
   ],
   "source": [
    "from sklearn.decomposition import PCA\n",
    "pca = PCA(n_components=2)\n",
    "pca.fit(X)"
   ]
  },
  {
   "cell_type": "markdown",
   "metadata": {
    "deletable": true,
    "editable": true
   },
   "source": [
    "以下は、その実際の計算結果になります。"
   ]
  },
  {
   "cell_type": "code",
   "execution_count": 451,
   "metadata": {
    "collapsed": false,
    "deletable": true,
    "editable": true
   },
   "outputs": [
    {
     "name": "stdout",
     "output_type": "stream",
     "text": [
      "[[ 0.944  0.329]\n",
      " [ 0.329 -0.944]]\n",
      "[ 0.759  0.018]\n"
     ]
    }
   ],
   "source": [
    "print(pca.components_)\n",
    "print(pca.explained_variance_)"
   ]
  },
  {
   "cell_type": "markdown",
   "metadata": {
    "deletable": true,
    "editable": true
   },
   "source": [
    "数字だけではわかりにくいので、図示してみましょう。以下の矢印が主成分分析の結果の数値になります。分散が最大になるように、お互いに直角になるようにしています。"
   ]
  },
  {
   "cell_type": "code",
   "execution_count": 452,
   "metadata": {
    "collapsed": false,
    "deletable": true,
    "editable": true,
    "scrolled": true
   },
   "outputs": [
    {
     "data": {
      "image/png": "[encoded data removed]",
      "text/plain": [
       "<matplotlib.figure.Figure at 0x12719c400>"
      ]
     },
     "metadata": {},
     "output_type": "display_data"
    }
   ],
   "source": [
    "def draw_vector(v0, v1, ax=None):\n",
    "    ax = ax or plt.gca()\n",
    "    arrowprops=dict(arrowstyle='->',\n",
    "                    linewidth=2,\n",
    "                    shrinkA=0, shrinkB=0)\n",
    "    ax.annotate('', v1, v0, arrowprops=arrowprops)\n",
    "\n",
    "# plot data\n",
    "plt.scatter(X[:, 0], X[:, 1], alpha=0.2)\n",
    "for length, vector in zip(pca.explained_variance_, pca.components_):\n",
    "    v = vector * 3 * np.sqrt(length)\n",
    "    draw_vector(pca.mean_, pca.mean_ + v)\n",
    "plt.axis('equal');"
   ]
  },
  {
   "cell_type": "markdown",
   "metadata": {
    "collapsed": true,
    "deletable": true,
    "editable": true
   },
   "source": [
    ">[参照URL]  \n",
    "\n",
    ">https://github.com/jakevdp/PythonDataScienceHandbook"
   ]
  },
  {
   "cell_type": "markdown",
   "metadata": {
    "deletable": true,
    "editable": true
   },
   "source": [
    "図を見て分かるとおり、元の散布図に対して分散が最大になるよう第1成分が作成され、それに直行する形で第2成分が作成されます。各点から第1成分に垂線を下ろした点を考えると、元の2変数が1成分に次元削除されたことになります。\n",
    "\n",
    "ちなみに、詳細な説明は省きますが、途中の計算には線形代数における固有値や固有ベクトルの概念を使います。この講座でもScipyなどを使って扱いました。これらを理解すると、機械学習を勉強していくうえで後々便利でしょう。\n",
    "\n",
    "さて、主成分分析の概念としては、上記のようになりますが、では、これが具体的にどのような時に役に立つのでしょうか。以前問題で扱ったcancerデータを使って、その有用性を見ていただきましょう。\n",
    "\n",
    "以下は、cancerの目的変数（cancer.target）にて、malignant（悪性）とbenign（良性）がそれぞれの属性でどのような分布になっているかのヒストグラムです。ほとんどのグラフについては、malignantとbenignのデータが重なっており、このままですと、これらを見分けるのにどこに境界線（境界値）を引いていいのか難しい状況です。"
   ]
  },
  {
   "cell_type": "code",
   "execution_count": 453,
   "metadata": {
    "collapsed": false,
    "deletable": true,
    "editable": true
   },
   "outputs": [
    {
     "data": {
      "image/png": "[encoded data removed]",
      "text/plain": [
       "<matplotlib.figure.Figure at 0x1260c8a58>"
      ]
     },
     "metadata": {},
     "output_type": "display_data"
    }
   ],
   "source": [
    "from sklearn.datasets import load_breast_cancer\n",
    "\n",
    "cancer = load_breast_cancer()\n",
    "\n",
    "fig, axes = plt.subplots(15,2,figsize=(10,20))\n",
    "\n",
    "malignant = cancer.data[cancer.target==0]\n",
    "benign = cancer.data[cancer.target==1]\n",
    "\n",
    "ax = axes.ravel()\n",
    "for i in range(30):\n",
    "    _,bins = np.histogram(cancer.data[:,i],bins=50)\n",
    "    ax[i].hist(malignant[:,i],bins=bins,alpha=.5)\n",
    "    ax[i].hist(benign[:,i],bins=bins,alpha=.5)\n",
    "    ax[i].set_title(cancer.feature_names[i])\n",
    "    ax[i].set_yticks(())\n",
    "ax[0].set_ylabel(\"Count\")\n",
    "ax[0].legend([\"malignant\",\"benign\"],loc=\"best\")\n",
    "fig.tight_layout()"
   ]
  },
  {
   "cell_type": "markdown",
   "metadata": {
    "collapsed": true,
    "deletable": true,
    "editable": true
   },
   "source": [
    ">[参照文献]  \n",
    "\n",
    ">『Introduction to Machine Learning with Python』（Andreas C.Muller & Sarah Guido、O'REILLY）"
   ]
  },
  {
   "cell_type": "markdown",
   "metadata": {
    "deletable": true,
    "editable": true
   },
   "source": [
    "ここで主成分分析を使って、これらの多数ある変数を凝縮してみることにします。まずは、説明変数となるデータのみ対象として、データのスケーリングを実施し、主成分分析をかけます。目的変数はない状態での分析になりますので、もちろん教師なし学習のアプローチです。これらのデータには答え（悪性か良性かのデータ）は入っていません。\n",
    "\n",
    "作成する成分数（n_component）は2としておきます。"
   ]
  },
  {
   "cell_type": "code",
   "execution_count": 13,
   "metadata": {
    "collapsed": false,
    "deletable": true,
    "editable": true
   },
   "outputs": [],
   "source": [
    "import pandas as pd\n",
    "\n",
    "# 標準化のためのモジュール\n",
    "from sklearn.preprocessing import StandardScaler\n",
    "from sklearn.datasets import load_breast_cancer\n",
    "\n",
    "# PCA\n",
    "from sklearn.decomposition import PCA\n",
    "\n",
    "cancer = load_breast_cancer()\n",
    "\n",
    "sc = StandardScaler()\n",
    "sc.fit(cancer.data)\n",
    "X_scaled = sc.transform(cancer.data)\n",
    "\n",
    "pca = PCA(n_components=2)\n",
    "pca.fit(X_scaled)\n",
    "X_pca = pca.transform(X_scaled)"
   ]
  },
  {
   "cell_type": "markdown",
   "metadata": {
    "deletable": true,
    "editable": true
   },
   "source": [
    "次に、第1成分と第2成分のデータが生成されましたので、それらに対応する目的変数のデータフレームワークをくっつけて、データを作成してみましょう。2章で学んだpandas等のテクニックを使います。"
   ]
  },
  {
   "cell_type": "code",
   "execution_count": 14,
   "metadata": {
    "collapsed": false,
    "deletable": true,
    "editable": true
   },
   "outputs": [],
   "source": [
    "merge_data = pd.concat([pd.DataFrame(X_pca[:,0]),pd.DataFrame(X_pca[:,1]),pd.DataFrame(cancer.target)]\n",
    "                       ,axis=1)\n",
    "merge_data.columns = [\"first\",\"second\",\"target\"]"
   ]
  },
  {
   "cell_type": "code",
   "execution_count": 15,
   "metadata": {
    "collapsed": false,
    "deletable": true,
    "editable": true
   },
   "outputs": [],
   "source": [
    "merge_data_malignant = merge_data[merge_data[\"target\"]==0]\n",
    "merge_data_benign = merge_data[merge_data[\"target\"]==1]"
   ]
  },
  {
   "cell_type": "markdown",
   "metadata": {
    "deletable": true,
    "editable": true
   },
   "source": [
    "次にこのデータをプロットして、ラベルとして赤がmalignant（悪性）、青がbenign（良性）とすると、以下のような図になります。"
   ]
  },
  {
   "cell_type": "code",
   "execution_count": 16,
   "metadata": {
    "collapsed": false,
    "deletable": true,
    "editable": true,
    "scrolled": true
   },
   "outputs": [
    {
     "data": {
      "image/png": "[encoded data removed]",
      "text/plain": [
       "<matplotlib.figure.Figure at 0x118fbcba8>"
      ]
     },
     "metadata": {},
     "output_type": "display_data"
    }
   ],
   "source": [
    "ax =merge_data_malignant.plot.scatter(x='first', y='second', color='red', label='malignant');\n",
    "merge_data_benign.plot.scatter(x='first', y='second', color='blue', label='benign',ax=ax);"
   ]
  },
  {
   "cell_type": "markdown",
   "metadata": {
    "deletable": true,
    "editable": true
   },
   "source": [
    "いかがでしょうか。ほぼきれいに分かれていることがわかります。変数が多くて、何を選んだらいいかわからない場合は、この主成分分析をしてみるのも良いでしょう。"
   ]
  },
  {
   "cell_type": "markdown",
   "metadata": {
    "deletable": true,
    "editable": true
   },
   "source": [
    "### 8.3.3 バスケット分析とアソシエーションルール\n",
    "キーワード：アソシエーションルール、支持度、確信度、リフト値"
   ]
  },
  {
   "cell_type": "markdown",
   "metadata": {
    "deletable": true,
    "editable": true
   },
   "source": [
    "さて次は、購買データを対象として、どうやって分析をしていけばよいのか簡単な例を紹介します。データベースの章でも購買データの集計を実施しました。よく例として取り上げられるのが、オムツとビールの購買の組み合わせで、ある家族のお父さんがオムツを買うときについでにビールを買うという話だったり、これは都市伝説だという指摘もありますが、消費者がどんな商品の組み合わせで買うのかは、消費財メーカーもスーパーなどのリテールも関心が高い問題です。"
   ]
  },
  {
   "cell_type": "markdown",
   "metadata": {
    "deletable": true,
    "editable": true
   },
   "source": [
    "ここでは、4章の総合問題で使った購買データを使います。データの加工方法も途中まで同じです。"
   ]
  },
  {
   "cell_type": "code",
   "execution_count": 23,
   "metadata": {
    "collapsed": false,
    "deletable": true,
    "editable": true
   },
   "outputs": [
    {
     "data": {
      "text/html": [
       "<div>\n",
       "<table border=\"1\" class=\"dataframe\">\n",
       "  <thead>\n",
       "    <tr style=\"text-align: right;\">\n",
       "      <th></th>\n",
       "      <th>InvoiceNo</th>\n",
       "      <th>StockCode</th>\n",
       "      <th>Description</th>\n",
       "      <th>Quantity</th>\n",
       "      <th>InvoiceDate</th>\n",
       "      <th>UnitPrice</th>\n",
       "      <th>CustomerID</th>\n",
       "      <th>Country</th>\n",
       "    </tr>\n",
       "  </thead>\n",
       "  <tbody>\n",
       "    <tr>\n",
       "      <th>0</th>\n",
       "      <td>536365</td>\n",
       "      <td>85123A</td>\n",
       "      <td>WHITE HANGING HEART T-LIGHT HOLDER</td>\n",
       "      <td>6</td>\n",
       "      <td>2010-12-01 08:26:00</td>\n",
       "      <td>2.55</td>\n",
       "      <td>17850.0</td>\n",
       "      <td>United Kingdom</td>\n",
       "    </tr>\n",
       "    <tr>\n",
       "      <th>1</th>\n",
       "      <td>536365</td>\n",
       "      <td>71053</td>\n",
       "      <td>WHITE METAL LANTERN</td>\n",
       "      <td>6</td>\n",
       "      <td>2010-12-01 08:26:00</td>\n",
       "      <td>3.39</td>\n",
       "      <td>17850.0</td>\n",
       "      <td>United Kingdom</td>\n",
       "    </tr>\n",
       "    <tr>\n",
       "      <th>2</th>\n",
       "      <td>536365</td>\n",
       "      <td>84406B</td>\n",
       "      <td>CREAM CUPID HEARTS COAT HANGER</td>\n",
       "      <td>8</td>\n",
       "      <td>2010-12-01 08:26:00</td>\n",
       "      <td>2.75</td>\n",
       "      <td>17850.0</td>\n",
       "      <td>United Kingdom</td>\n",
       "    </tr>\n",
       "    <tr>\n",
       "      <th>3</th>\n",
       "      <td>536365</td>\n",
       "      <td>84029G</td>\n",
       "      <td>KNITTED UNION FLAG HOT WATER BOTTLE</td>\n",
       "      <td>6</td>\n",
       "      <td>2010-12-01 08:26:00</td>\n",
       "      <td>3.39</td>\n",
       "      <td>17850.0</td>\n",
       "      <td>United Kingdom</td>\n",
       "    </tr>\n",
       "    <tr>\n",
       "      <th>4</th>\n",
       "      <td>536365</td>\n",
       "      <td>84029E</td>\n",
       "      <td>RED WOOLLY HOTTIE WHITE HEART.</td>\n",
       "      <td>6</td>\n",
       "      <td>2010-12-01 08:26:00</td>\n",
       "      <td>3.39</td>\n",
       "      <td>17850.0</td>\n",
       "      <td>United Kingdom</td>\n",
       "    </tr>\n",
       "  </tbody>\n",
       "</table>\n",
       "</div>"
      ],
      "text/plain": [
       "  InvoiceNo StockCode                          Description  Quantity  \\\n",
       "0    536365    85123A   WHITE HANGING HEART T-LIGHT HOLDER         6   \n",
       "1    536365     71053                  WHITE METAL LANTERN         6   \n",
       "2    536365    84406B       CREAM CUPID HEARTS COAT HANGER         8   \n",
       "3    536365    84029G  KNITTED UNION FLAG HOT WATER BOTTLE         6   \n",
       "4    536365    84029E       RED WOOLLY HOTTIE WHITE HEART.         6   \n",
       "\n",
       "          InvoiceDate  UnitPrice  CustomerID         Country  \n",
       "0 2010-12-01 08:26:00       2.55     17850.0  United Kingdom  \n",
       "1 2010-12-01 08:26:00       3.39     17850.0  United Kingdom  \n",
       "2 2010-12-01 08:26:00       2.75     17850.0  United Kingdom  \n",
       "3 2010-12-01 08:26:00       3.39     17850.0  United Kingdom  \n",
       "4 2010-12-01 08:26:00       3.39     17850.0  United Kingdom  "
      ]
     },
     "execution_count": 23,
     "metadata": {},
     "output_type": "execute_result"
    }
   ],
   "source": [
    "import pandas as pd\n",
    "\n",
    "file_url = \"http://archive.ics.uci.edu/ml/machine-learning-databases/00352/Online%20Retail.xlsx\"\n",
    "online_retail_data = pd.ExcelFile(file_url)\n",
    "\n",
    "# シートを指定する\n",
    "online_retail_data_table = online_retail_data.parse('Online Retail')\n",
    "online_retail_data_table.head()"
   ]
  },
  {
   "cell_type": "markdown",
   "metadata": {
    "deletable": true,
    "editable": true
   },
   "source": [
    "参考ですが、読み込みに時間がかかりますので、あらかじめダウンロードして、それを読み込むようにコーディングしておくことをお勧めします。"
   ]
  },
  {
   "cell_type": "code",
   "execution_count": 81,
   "metadata": {
    "collapsed": true,
    "deletable": true,
    "editable": true
   },
   "outputs": [],
   "source": [
    "# 参考(処理としては上と同じ)\n",
    "import requests\n",
    "\n",
    "resp = requests.get(file_url)\n",
    "\n",
    "#onlineRetail.xlsというファイル名で作成\n",
    "output = open(\"onlineRetail.xls\", 'wb')\n",
    "output.write(resp.content)\n",
    "output.close()\n",
    "\n",
    "# 以下、上と同じ\n",
    "online_retail_data = pd.ExcelFile(\"onlineRetail.xls\")\n",
    "\n",
    "# シートを指定する\n",
    "online_retail_data_table = online_retail_data.parse('Online Retail')\n",
    "online_retail_data_table.head()"
   ]
  },
  {
   "cell_type": "markdown",
   "metadata": {
    "deletable": true,
    "editable": true
   },
   "source": [
    "以下は、4章と同じ処理をしています。"
   ]
  },
  {
   "cell_type": "code",
   "execution_count": 24,
   "metadata": {
    "collapsed": false,
    "deletable": true,
    "editable": true
   },
   "outputs": [
    {
     "data": {
      "text/plain": [
       "cancel_flg\n",
       "5    532618\n",
       "A         3\n",
       "C      9288\n",
       "dtype: int64"
      ]
     },
     "execution_count": 24,
     "metadata": {},
     "output_type": "execute_result"
    }
   ],
   "source": [
    "online_retail_data_table['cancel_flg'] = online_retail_data_table.InvoiceNo.map(lambda x:str(x)[0])\n",
    "online_retail_data_table.groupby(\"cancel_flg\").size()"
   ]
  },
  {
   "cell_type": "markdown",
   "metadata": {
    "deletable": true,
    "editable": true
   },
   "source": [
    "InvoiceNoの先頭にCがあるものキャンセル扱いなのでこれは集計対象外とするのでした。また、Aは何の記号が不明なのでこれも対象外として、分析対象は数字であるもの（5で始まっているもの）にします。"
   ]
  },
  {
   "cell_type": "code",
   "execution_count": 25,
   "metadata": {
    "collapsed": true,
    "deletable": true,
    "editable": true
   },
   "outputs": [],
   "source": [
    "online_retail_data_table = online_retail_data_table[(online_retail_data_table.cancel_flg == '5') \n",
    "                                                    & (online_retail_data_table.CustomerID.notnull())]"
   ]
  },
  {
   "cell_type": "markdown",
   "metadata": {
    "deletable": true,
    "editable": true
   },
   "source": [
    "参考で、pandasはピボットテーブルも使えます。（**なお、今回扱うデータが大きく、ilect上ではメモリー不足なるので、参考にみてください**）"
   ]
  },
  {
   "cell_type": "code",
   "execution_count": 19,
   "metadata": {
    "collapsed": false,
    "deletable": true,
    "editable": true
   },
   "outputs": [
    {
     "data": {
      "text/html": [
       "<div>\n",
       "<table border=\"1\" class=\"dataframe\">\n",
       "  <thead>\n",
       "    <tr style=\"text-align: right;\">\n",
       "      <th>StockCode</th>\n",
       "      <th>10002</th>\n",
       "      <th>10080</th>\n",
       "      <th>10120</th>\n",
       "      <th>10125</th>\n",
       "      <th>10133</th>\n",
       "      <th>10135</th>\n",
       "      <th>11001</th>\n",
       "      <th>15030</th>\n",
       "      <th>15034</th>\n",
       "      <th>15036</th>\n",
       "      <th>...</th>\n",
       "      <th>90214V</th>\n",
       "      <th>90214W</th>\n",
       "      <th>90214Y</th>\n",
       "      <th>90214Z</th>\n",
       "      <th>BANK CHARGES</th>\n",
       "      <th>C2</th>\n",
       "      <th>DOT</th>\n",
       "      <th>M</th>\n",
       "      <th>PADS</th>\n",
       "      <th>POST</th>\n",
       "    </tr>\n",
       "    <tr>\n",
       "      <th>InvoiceNo</th>\n",
       "      <th></th>\n",
       "      <th></th>\n",
       "      <th></th>\n",
       "      <th></th>\n",
       "      <th></th>\n",
       "      <th></th>\n",
       "      <th></th>\n",
       "      <th></th>\n",
       "      <th></th>\n",
       "      <th></th>\n",
       "      <th></th>\n",
       "      <th></th>\n",
       "      <th></th>\n",
       "      <th></th>\n",
       "      <th></th>\n",
       "      <th></th>\n",
       "      <th></th>\n",
       "      <th></th>\n",
       "      <th></th>\n",
       "      <th></th>\n",
       "      <th></th>\n",
       "    </tr>\n",
       "  </thead>\n",
       "  <tbody>\n",
       "    <tr>\n",
       "      <th>536365</th>\n",
       "      <td>0</td>\n",
       "      <td>0</td>\n",
       "      <td>0</td>\n",
       "      <td>0</td>\n",
       "      <td>0</td>\n",
       "      <td>0</td>\n",
       "      <td>0</td>\n",
       "      <td>0</td>\n",
       "      <td>0</td>\n",
       "      <td>0</td>\n",
       "      <td>...</td>\n",
       "      <td>0</td>\n",
       "      <td>0</td>\n",
       "      <td>0</td>\n",
       "      <td>0</td>\n",
       "      <td>0</td>\n",
       "      <td>0</td>\n",
       "      <td>0</td>\n",
       "      <td>0</td>\n",
       "      <td>0</td>\n",
       "      <td>0</td>\n",
       "    </tr>\n",
       "    <tr>\n",
       "      <th>536366</th>\n",
       "      <td>0</td>\n",
       "      <td>0</td>\n",
       "      <td>0</td>\n",
       "      <td>0</td>\n",
       "      <td>0</td>\n",
       "      <td>0</td>\n",
       "      <td>0</td>\n",
       "      <td>0</td>\n",
       "      <td>0</td>\n",
       "      <td>0</td>\n",
       "      <td>...</td>\n",
       "      <td>0</td>\n",
       "      <td>0</td>\n",
       "      <td>0</td>\n",
       "      <td>0</td>\n",
       "      <td>0</td>\n",
       "      <td>0</td>\n",
       "      <td>0</td>\n",
       "      <td>0</td>\n",
       "      <td>0</td>\n",
       "      <td>0</td>\n",
       "    </tr>\n",
       "    <tr>\n",
       "      <th>536367</th>\n",
       "      <td>0</td>\n",
       "      <td>0</td>\n",
       "      <td>0</td>\n",
       "      <td>0</td>\n",
       "      <td>0</td>\n",
       "      <td>0</td>\n",
       "      <td>0</td>\n",
       "      <td>0</td>\n",
       "      <td>0</td>\n",
       "      <td>0</td>\n",
       "      <td>...</td>\n",
       "      <td>0</td>\n",
       "      <td>0</td>\n",
       "      <td>0</td>\n",
       "      <td>0</td>\n",
       "      <td>0</td>\n",
       "      <td>0</td>\n",
       "      <td>0</td>\n",
       "      <td>0</td>\n",
       "      <td>0</td>\n",
       "      <td>0</td>\n",
       "    </tr>\n",
       "    <tr>\n",
       "      <th>536368</th>\n",
       "      <td>0</td>\n",
       "      <td>0</td>\n",
       "      <td>0</td>\n",
       "      <td>0</td>\n",
       "      <td>0</td>\n",
       "      <td>0</td>\n",
       "      <td>0</td>\n",
       "      <td>0</td>\n",
       "      <td>0</td>\n",
       "      <td>0</td>\n",
       "      <td>...</td>\n",
       "      <td>0</td>\n",
       "      <td>0</td>\n",
       "      <td>0</td>\n",
       "      <td>0</td>\n",
       "      <td>0</td>\n",
       "      <td>0</td>\n",
       "      <td>0</td>\n",
       "      <td>0</td>\n",
       "      <td>0</td>\n",
       "      <td>0</td>\n",
       "    </tr>\n",
       "    <tr>\n",
       "      <th>536369</th>\n",
       "      <td>0</td>\n",
       "      <td>0</td>\n",
       "      <td>0</td>\n",
       "      <td>0</td>\n",
       "      <td>0</td>\n",
       "      <td>0</td>\n",
       "      <td>0</td>\n",
       "      <td>0</td>\n",
       "      <td>0</td>\n",
       "      <td>0</td>\n",
       "      <td>...</td>\n",
       "      <td>0</td>\n",
       "      <td>0</td>\n",
       "      <td>0</td>\n",
       "      <td>0</td>\n",
       "      <td>0</td>\n",
       "      <td>0</td>\n",
       "      <td>0</td>\n",
       "      <td>0</td>\n",
       "      <td>0</td>\n",
       "      <td>0</td>\n",
       "    </tr>\n",
       "  </tbody>\n",
       "</table>\n",
       "<p>5 rows × 3665 columns</p>\n",
       "</div>"
      ],
      "text/plain": [
       "StockCode  10002  10080  10120  10125  10133  10135  11001  15030  15034  \\\n",
       "InvoiceNo                                                                  \n",
       "536365         0      0      0      0      0      0      0      0      0   \n",
       "536366         0      0      0      0      0      0      0      0      0   \n",
       "536367         0      0      0      0      0      0      0      0      0   \n",
       "536368         0      0      0      0      0      0      0      0      0   \n",
       "536369         0      0      0      0      0      0      0      0      0   \n",
       "\n",
       "StockCode  15036  ...   90214V  90214W  90214Y  90214Z  BANK CHARGES  C2  DOT  \\\n",
       "InvoiceNo         ...                                                           \n",
       "536365         0  ...        0       0       0       0             0   0    0   \n",
       "536366         0  ...        0       0       0       0             0   0    0   \n",
       "536367         0  ...        0       0       0       0             0   0    0   \n",
       "536368         0  ...        0       0       0       0             0   0    0   \n",
       "536369         0  ...        0       0       0       0             0   0    0   \n",
       "\n",
       "StockCode  M  PADS  POST  \n",
       "InvoiceNo                 \n",
       "536365     0     0     0  \n",
       "536366     0     0     0  \n",
       "536367     0     0     0  \n",
       "536368     0     0     0  \n",
       "536369     0     0     0  \n",
       "\n",
       "[5 rows x 3665 columns]"
      ]
     },
     "execution_count": 19,
     "metadata": {},
     "output_type": "execute_result"
    }
   ],
   "source": [
    "invoice_stock_tb = pd.pivot_table(online_retail_data_table, values='Quantity'\n",
    "                                          , index=['InvoiceNo'], columns=['StockCode'],aggfunc=lambda x : len(x)\n",
    "                                          ,fill_value = 0) \n",
    "invoice_stock_tb.head(5)"
   ]
  },
  {
   "cell_type": "markdown",
   "metadata": {
    "deletable": true,
    "editable": true
   },
   "source": [
    "stockCodeのランキングを見てみます。"
   ]
  },
  {
   "cell_type": "code",
   "execution_count": 21,
   "metadata": {
    "collapsed": false,
    "deletable": true,
    "editable": true
   },
   "outputs": [
    {
     "data": {
      "text/plain": [
       "StockCode\n",
       "85123A    2035\n",
       "22423     1724\n",
       "85099B    1618\n",
       "84879     1408\n",
       "47566     1397\n",
       "dtype: int64"
      ]
     },
     "execution_count": 21,
     "metadata": {},
     "output_type": "execute_result"
    }
   ],
   "source": [
    "online_retail_data_table_sc = online_retail_data_table.groupby(\"StockCode\").size()\n",
    "online_retail_data_table_sc.sort_values(ascending=False).head(5)"
   ]
  },
  {
   "cell_type": "markdown",
   "metadata": {
    "deletable": true,
    "editable": true
   },
   "source": [
    "上記のTOP5のアイテムを使って、購買データのバスケット分析でよく使われるアソシエーションルールの基本的な概念、支持度、確信度、リフトの算出について見ていきましょう。"
   ]
  },
  {
   "cell_type": "markdown",
   "metadata": {
    "collapsed": true,
    "deletable": true,
    "editable": true
   },
   "source": [
    "#### 支持度\n",
    "\n",
    "支持度は、すべてのバスケット数（トランザクション数、レシート数）をベースに、ある商品Aとある商品Bの組み合わせ購買がどれくらいあったのかその割合です。\n"
   ]
  },
  {
   "cell_type": "markdown",
   "metadata": {
    "deletable": true,
    "editable": true
   },
   "source": [
    "具体的に、商品コード85123Aと商品コード85099Bの支持度を算出してみましょう。"
   ]
  },
  {
   "cell_type": "code",
   "execution_count": 461,
   "metadata": {
    "collapsed": false,
    "deletable": true,
    "editable": true
   },
   "outputs": [],
   "source": [
    "online_retail_data_table_first =online_retail_data_table[online_retail_data_table[\"StockCode\"]==\"85123A\"]\n",
    "online_retail_data_table_third =online_retail_data_table[online_retail_data_table[\"StockCode\"]==\"85099B\"]"
   ]
  },
  {
   "cell_type": "code",
   "execution_count": 462,
   "metadata": {
    "collapsed": true,
    "deletable": true,
    "editable": true
   },
   "outputs": [],
   "source": [
    "merge_one_third = pd.merge(online_retail_data_table_first\n",
    "                           ,online_retail_data_table_third\n",
    "                           ,on=\"InvoiceNo\"\n",
    "                           ,how=\"inner\")"
   ]
  },
  {
   "cell_type": "code",
   "execution_count": 463,
   "metadata": {
    "collapsed": false,
    "deletable": true,
    "editable": true
   },
   "outputs": [
    {
     "data": {
      "text/plain": [
       "0.014"
      ]
     },
     "execution_count": 463,
     "metadata": {},
     "output_type": "execute_result"
    }
   ],
   "source": [
    "len(merge_one_third.InvoiceNo.unique()) / len(online_retail_data_table.InvoiceNo.unique())"
   ]
  },
  {
   "cell_type": "markdown",
   "metadata": {
    "collapsed": true,
    "deletable": true,
    "editable": true
   },
   "source": [
    "#### 確信度（信頼度）\n",
    "\n",
    "確信度は、ある商品Aのトランザクション数をベースに、その商品とある商品Bの組み合わせ購買がどれくらいあったのかその割合です。"
   ]
  },
  {
   "cell_type": "markdown",
   "metadata": {
    "deletable": true,
    "editable": true
   },
   "source": [
    "商品コード85123Aをベースとして、そのトランザクション数をベースに商品Aと商品Bの組わせトランザクション数を割りましょう。"
   ]
  },
  {
   "cell_type": "code",
   "execution_count": 465,
   "metadata": {
    "collapsed": false,
    "deletable": true,
    "editable": true
   },
   "outputs": [
    {
     "data": {
      "text/plain": [
       "0.127"
      ]
     },
     "execution_count": 465,
     "metadata": {},
     "output_type": "execute_result"
    }
   ],
   "source": [
    "len(merge_one_third.InvoiceNo.unique()) / len(online_retail_data_table_first.InvoiceNo.unique())"
   ]
  },
  {
   "cell_type": "markdown",
   "metadata": {
    "deletable": true,
    "editable": true
   },
   "source": [
    "商品コード85099Bがベースだと以下です。"
   ]
  },
  {
   "cell_type": "code",
   "execution_count": 464,
   "metadata": {
    "collapsed": false,
    "deletable": true,
    "editable": true
   },
   "outputs": [
    {
     "data": {
      "text/plain": [
       "0.158"
      ]
     },
     "execution_count": 464,
     "metadata": {},
     "output_type": "execute_result"
    }
   ],
   "source": [
    "len(merge_one_third.InvoiceNo.unique()) / len(online_retail_data_table_third.InvoiceNo.unique())"
   ]
  },
  {
   "cell_type": "markdown",
   "metadata": {
    "collapsed": true,
    "deletable": true,
    "editable": true
   },
   "source": [
    "#### リフト値\n",
    "\n",
    "すべての購買の中で、ある商品Aが購買される割合をベースにして、ある商品Bが購買された中でそれと商品Aとの組み合わせ購買の割合を分子として算出する方法がリフト値です。若干、意味がわかりにくいですが、要するに、商品Aと商品Bの購買組み合わせが多いのは、単にそれらがもともと売れていたからというのをかき消すために全体の購買での割合で割っています。\n",
    "\n",
    "以下で、リスト値を計算しています。"
   ]
  },
  {
   "cell_type": "code",
   "execution_count": 469,
   "metadata": {
    "collapsed": false,
    "deletable": true,
    "editable": true
   },
   "outputs": [
    {
     "data": {
      "text/plain": [
       "1.476"
      ]
     },
     "execution_count": 469,
     "metadata": {},
     "output_type": "execute_result"
    }
   ],
   "source": [
    "x = len(merge_one_third.InvoiceNo.unique()) / len(online_retail_data_table_third.InvoiceNo.unique())\n",
    "y = len(online_retail_data_table_first.InvoiceNo.unique()) / len(online_retail_data_table.InvoiceNo.unique())\n",
    "\n",
    "lift = x / y\n",
    "lift"
   ]
  },
  {
   "cell_type": "markdown",
   "metadata": {
    "deletable": true,
    "editable": true
   },
   "source": [
    "絶対的な数値の基準はありませんが、1を超えてくると意味のある数字として捉えられます。\n",
    "\n",
    "以上で、アソシエーション分析の簡単な紹介は終わります。実際に購買データを分析する際には、いろいろと考慮すべきこと（対象店舗、対象ユーザー、対象期間の絞り込みなど）があったり、また、この分野に関連してアプリオリアルゴリズムなどありますが、購買データ分析で必要になった時に調べてみてください。"
   ]
  },
  {
   "cell_type": "markdown",
   "metadata": {
    "deletable": true,
    "editable": true
   },
   "source": [
    "これで教師なし学習、および機械学習の基礎は終わりです。お疲れ様でした。総合問題が終わったあとは、この章で少し触れたモデルの検証方法等について学びます。"
   ]
  },
  {
   "cell_type": "markdown",
   "metadata": {
    "deletable": true,
    "editable": true
   },
   "source": [
    "以下の参考文献は、理論や実装ではなく、ビジネス的な視点でのデータ分析に関する本です。これまで機械学習の手法について色々と学んできましたが、それをビジネスで使うとなると理論的な問題以外にも考えることや、やることが色々とあります。この講座は主に手を動かして実装することが目的なので、あまりビジネス的な注意点は述べませんが、以下の本に書いてあるようなこともとても大事なので、この講座を終えた後に読まれることをお勧めします。"
   ]
  },
  {
   "cell_type": "markdown",
   "metadata": {
    "deletable": true,
    "editable": true
   },
   "source": [
    ">[参考文献]\n",
    "\n",
    "\n",
    ">『最強のビッグデータ戦略』（ビル・フランクス (著), 長尾高弘  (翻訳)、日経BP社）\n",
    "\n",
    ">『データサイエンティストの秘密ノート 35の失敗事例と克服法』（高橋 威知郎  (著), 白石 卓也 (著), 清水 景絵 (著)、SBクリエイティブ）\n",
    "\n",
    ">『アクセンチュアのプロフェッショナルが教える データ・アナリティクス実践講座』（アクセンチュア アナリティクス (著), 工藤 卓哉  (監修), 保科 学世 (監修)、翔泳社 ）"
   ]
  },
  {
   "cell_type": "markdown",
   "metadata": {
    "deletable": true,
    "editable": true
   },
   "source": [
    "## 8.4 総合問題"
   ]
  },
  {
   "cell_type": "markdown",
   "metadata": {
    "deletable": true,
    "editable": true
   },
   "source": [
    "### 8.4.1 総合問題1\n",
    "分析対象データとして、sklearnのdatasetsからload_iris(アヤメの花)を読み込んで、目的変数をiris.target、説明変数をiris.dataとして、決定木のモデルを使って、予測と検証を実施してください。目的変数のデータはアヤメの花の種類で、以下の参照URLを見てどんな種類があるのかイメージしてください。"
   ]
  },
  {
   "cell_type": "code",
   "execution_count": null,
   "metadata": {
    "collapsed": true,
    "deletable": true,
    "editable": true
   },
   "outputs": [],
   "source": [
    "# データの分類\n",
    "from sklearn.cross_validation import train_test_split\n",
    "\n",
    "# 分析対象データ\n",
    "from sklearn.datasets import load_iris\n",
    "\n",
    "# 決定木\n",
    "from sklearn.tree import DecisionTreeClassifier\n",
    "\n",
    "# data\n",
    "iris = load_iris()"
   ]
  },
  {
   "cell_type": "markdown",
   "metadata": {
    "deletable": true,
    "editable": true
   },
   "source": [
    "![comment](https://s3.amazonaws.com/assets.datacamp.com/blog_assets/iris-machinelearning.png)"
   ]
  },
  {
   "cell_type": "markdown",
   "metadata": {
    "deletable": true,
    "editable": true
   },
   "source": [
    "参照URL:https://s3.amazonaws.com/assets.datacamp.com/blog_assets/iris-machinelearning.png"
   ]
  },
  {
   "cell_type": "markdown",
   "metadata": {
    "deletable": true,
    "editable": true
   },
   "source": [
    "### 8.4.2 総合問題2\n",
    "\n",
    "同じデータ(load_breast_cancer()など)に対して、ロジスティック回帰分析やSVMなど今まで学んだモデルを試し、どれが一番スコアが高いでしょうか？ また、データによって、一番良いスコアが出るモデルは異なりますが、その特徴はどんなものか、考察してください。（これをノーフリーランチといい、どんなデータに対しても、一番良いモデルになるモデルはないということを意味します。）"
   ]
  }
 ],
 "metadata": {
  "anaconda-cloud": {},
  "kernelspec": {
   "display_name": "Python 3",
   "language": "python",
   "name": "python3"
  },
  "language_info": {
   "codemirror_mode": {
    "name": "ipython",
    "version": 3
   },
   "file_extension": ".py",
   "mimetype": "text/x-python",
   "name": "python",
   "nbconvert_exporter": "python",
   "pygments_lexer": "ipython3",
   "version": "3.5.2"
  }
 },
 "nbformat": 4,
 "nbformat_minor": 0
}

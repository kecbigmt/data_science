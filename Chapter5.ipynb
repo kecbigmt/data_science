{
 "cells": [
  {
   "cell_type": "markdown",
   "metadata": {},
   "source": [
    "# 5 データベースとSQLの基礎（MySQL）"
   ]
  },
  {
   "cell_type": "markdown",
   "metadata": {},
   "source": [
    "- **[5.1 この章の概要](#5.1-この章の概要)**\n",
    "    - [5.1.1 データベースとは](#5.1.1-データベースとは)\n",
    "    - [5.1.2 RDBMS](#5.1.2-RDBMS)\n",
    "<br><br>\n",
    "- **[5.2 SQLの基礎](#5.2-SQLの基礎)** \n",
    "    - [5.2.1 データベースとテーブルの作成](#5.2.1-データベースとテーブルの作成)\n",
    "    - [5.2.2 データの検索と更新、削除、テーブルカラムの変更](#5.2.2-データの検索と更新、削除、テーブルカラムの変更)\n",
    "    - [5.2.3 データの集計、演算、並び替え](#5.2.3-データの集計、演算、並び替え)\n",
    "    - [5.2.4 グループごとの集計](#5.2.4-グループごとの集計)\n",
    "    - [5.2.5 複数テーブルの利用](#5.2.5-複数テーブルの利用)\n",
    "    - [5.2.6 case文とサブクエリ](#5.2.6-case文とサブクエリ)\n",
    "<br><br> \n",
    "- **[5.3 ビュー](#5.3-ビュー)** \n",
    "    - [5.3.1 ビュー](#5.3.1-ビュー)\n",
    "<br><br>\n",
    "- **[5.4 総合問題](#5.4-総合問題)**\n",
    "    - [5.4.1 総合問題1](#5.4.1-総合問題1)\n",
    "    - [5.4.2 総合問題2](#5.4.2-総合問題2)"
   ]
  },
  {
   "cell_type": "markdown",
   "metadata": {},
   "source": [
    "## 5.1 この章の概要\n",
    "ゴール：データベースの役割を知る"
   ]
  },
  {
   "cell_type": "markdown",
   "metadata": {},
   "source": [
    "### 5.1.1 データベースとは\n",
    "キーワード：データベース、RDBMS"
   ]
  },
  {
   "cell_type": "markdown",
   "metadata": {},
   "source": [
    "ここからはデータベースについて学んでいきます。データベースとは、簡単にいいますと、コンピューターを利用して膨大なデータをまとめて、後から色々なニーズに対して活用できるように、管理されたデータの集まりのことです。具体的には、ある店舗の毎日の売り上げをデータベースで管理していることもありますし、顧客の個人情報、社員の給料情報、金融の取引データ、ウェブサイトのアクセスログデータ等もデータベースで管理されたりしています。これらのデータは日々追加されますし、何かの集計（1ヶ月の売り上げの計算など）をするときはデータベースからデータが抽出され、必要なければ削除されます。\n",
    "\n",
    "それでは、そもそも何故データベースが必要なのでしょうか。小さなデータで、一貫性等を求められていなければ、Excelで十分かもしれません。しかし、データは日々大きくなっていきますし、昨今は特にIoTなどが注目されており、リアルタイムに膨大な量のデータが生まれています。ビッグデータと言われる現代、データソースのテーブルに1億レコード以上あるということもしばしばあり、これをExcelで集計することは困難でしょう。データベースとそれを呼び出すためのSQLという言語を使うことで、大きなデータに対しても効率的に作業ができるのです。（ただし、昨今はビッグデータを扱う際にHadoopやSparkなどの分散処理をするソフトウェアなどが使われるようになっており、この講座でも10章で少し触れます。）\n",
    "\n",
    "さらに管理するという視点でも、Excelでは限界があります。Excelは基本的に誰でも編集ができますし、後からデータに問題があった場合に対処するのが困難です。データベースを使うことで、容易に管理できます。\n",
    "\n",
    "以下の参考文献が初心者にはわかりやすいので、全くSQLの経験がない方は前半のみ一読をおすすめします。"
   ]
  },
  {
   "cell_type": "markdown",
   "metadata": {
    "collapsed": true
   },
   "source": [
    ">[参考文献]\n",
    "\n",
    ">『基礎からのMySQL 改訂版 (基礎からシリーズ) 』（西沢 夢路 (著)、 SBクリエイティブ）"
   ]
  },
  {
   "cell_type": "markdown",
   "metadata": {},
   "source": [
    "### 5.1.2 RDBMS\n",
    "キーワード：RDMBS、MySQL、テーブル"
   ]
  },
  {
   "cell_type": "markdown",
   "metadata": {},
   "source": [
    "この3章で学ぶデータベースのシステムは、RDBMSと言われるリレーショナルデータベースを管理するシステムです。代表的な製品に、Oracle, Microsoft SQL Server, PostgreSQL, MySQLなどがあります。ここでは、MariaDBというデータベースを使用します。以下は、データベースのイメージです。"
   ]
  },
  {
   "cell_type": "markdown",
   "metadata": {},
   "source": [
    "![comment](https://www.mysql.com/common/images/products/MySQL_Workbench_Visual_Design_Windows.gif)"
   ]
  },
  {
   "cell_type": "markdown",
   "metadata": {},
   "source": [
    "参照URL：https://www.mysql.com/common/images/products/MySQL_Workbench_Visual_Design_Windows.gif"
   ]
  },
  {
   "cell_type": "markdown",
   "metadata": {},
   "source": [
    "データベースにはテーブルがあり、データはそのテーブルから抽出します。テーブルは幾つかのカラムから構成され、それぞれ型の異なるデータが入っています。Excelでは、同じ列に数字や文字など、色々な型のデータを混在して入れることができますが、データベースのテーブルには同じ型を指定してデータを入れる必要があります。それらの扱い方についても、後で学びます。"
   ]
  },
  {
   "cell_type": "markdown",
   "metadata": {},
   "source": [
    "ここでデータベースに関する簡単な紹介は終わります。他にも色々な概念がありますが、まずはデータをハンドリングできるように、次より実装中心に学んでいきましょう。SQLもまた手を動かしながら学ぶことで、早く使えるようになります。"
   ]
  },
  {
   "cell_type": "markdown",
   "metadata": {},
   "source": [
    "## 5.2 SQLの基礎\n",
    "ゴール：SQLの基礎的な操作方法を身につける"
   ]
  },
  {
   "cell_type": "markdown",
   "metadata": {},
   "source": [
    "### 5.2.1 データベースとテーブルの作成\n",
    "キーワード：データベース作成、テーブル、show databases,use,show tables, create, select,"
   ]
  },
  {
   "cell_type": "markdown",
   "metadata": {},
   "source": [
    "早速、今あるデータベースにどんなものがあるのか見ていきましょう。以下のshow databases;でデータベースを表示することができます。（なお、本章と6章はSQLでの実行を中心としますので、ここで練習されるのはSQLのみにしてください。Pythonは基本的に実行できません。もし実行したい場合は、Pythonの章で練習しましょう。ただし、カーネルを変更することでPythonは実行可能です。）"
   ]
  },
  {
   "cell_type": "markdown",
   "metadata": {},
   "source": [
    "** 注意：以下、練習問題も含め、可能な限り上から実行するようにしてください。あとの問題で使います。**"
   ]
  },
  {
   "cell_type": "code",
   "execution_count": 4,
   "metadata": {
    "collapsed": false,
    "scrolled": true
   },
   "outputs": [
    {
     "name": "stdout",
     "output_type": "stream",
     "text": [
      "show databases;\n",
      "+--------------------+\r\n",
      "| Database           |\r\n",
      "+--------------------+\r\n",
      "| TEST1              |\r\n",
      "| TEST2              |\r\n",
      "| information_schema |\r\n",
      "| mysql              |\r\n",
      "| performance_schema |\r\n",
      "+--------------------+\r\n",
      "5 rows in set (0.01 sec)\r\n",
      "\r\n",
      "MariaDB [(none)]"
     ]
    }
   ],
   "source": [
    "show databases;"
   ]
  },
  {
   "cell_type": "markdown",
   "metadata": {},
   "source": [
    "ここに、新しいデータベースを追加してみましょう。create databaseを使い、その後に、データベース名を決めて実行します。ここでは、TEST1という名前にしています。"
   ]
  },
  {
   "cell_type": "code",
   "execution_count": 5,
   "metadata": {
    "collapsed": false
   },
   "outputs": [
    {
     "name": "stdout",
     "output_type": "stream",
     "text": [
      "create database TEST1;\n",
      " ERROR 1007 (HY000): Can't create database 'TEST1'; database exists\r\n",
      "\u0007MariaDB [(none)]"
     ]
    }
   ],
   "source": [
    "create database TEST1;"
   ]
  },
  {
   "cell_type": "markdown",
   "metadata": {},
   "source": [
    "作ったデータベースがあるか確認してみましょう。先ほど追加したTEST1というデータベースが追加されていることがわかります。"
   ]
  },
  {
   "cell_type": "code",
   "execution_count": 6,
   "metadata": {
    "collapsed": false
   },
   "outputs": [
    {
     "name": "stdout",
     "output_type": "stream",
     "text": [
      "show databases;\n",
      "+--------------------+\r\n",
      "| Database           |\r\n",
      "+--------------------+\r\n",
      "| TEST1              |\r\n",
      "| TEST2              |\r\n",
      "| information_schema |\r\n",
      "| mysql              |\r\n",
      "| performance_schema |\r\n",
      "+--------------------+\r\n",
      "5 rows in set (0.00 sec)\r\n",
      "\r\n",
      "MariaDB [(none)]"
     ]
    }
   ],
   "source": [
    "show databases;"
   ]
  },
  {
   "cell_type": "markdown",
   "metadata": {},
   "source": [
    "useを実行することで、これから使うデータベースを選択します。show tablesで今選択しているデータベースのテーブル一覧を表示させることができます。ここに使うテーブルを作成していきますが、まだ空です。"
   ]
  },
  {
   "cell_type": "code",
   "execution_count": 7,
   "metadata": {
    "collapsed": false,
    "scrolled": true
   },
   "outputs": [
    {
     "name": "stdout",
     "output_type": "stream",
     "text": [
      "use TEST1; show tables;\n",
      "+-----------------+\r\n",
      "| Tables_in_TEST1 |\r\n",
      "+-----------------+\r\n",
      "| cardtb          |\r\n",
      "| meibo           |\r\n",
      "| meibo2          |\r\n",
      "| score           |\r\n",
      "+-----------------+\r\n",
      "4 rows in set (0.00 sec)\r\n",
      "\r\n",
      "MariaDB [TEST1]"
     ]
    }
   ],
   "source": [
    "use TEST1;\n",
    "show tables;"
   ]
  },
  {
   "cell_type": "markdown",
   "metadata": {},
   "source": [
    "ここにデータベースを作成していきます。テーブルにデータが入り、データのカラム名とその型を指定します。実際にテーブルを作ってみましょう。以下のようにcreate tableを実行しますが、要注意です。最初にテーブル名、データの型と名前等を付けています。ここではmeiboテーブルに整数型のid、文字型のnameを設定しています。さらに、primary keyというのは、このカラムが一意のキーとなっていることを宣言しています。つまり、同じデータは入らないということです。"
   ]
  },
  {
   "cell_type": "code",
   "execution_count": 5,
   "metadata": {
    "collapsed": false
   },
   "outputs": [
    {
     "name": "stdout",
     "output_type": "stream",
     "text": [
      "create table meibo (id int primary key, name varchar(20)) engine = MyISAM default charset = utf8;\n",
      " Query OK, 0 rows affected (0.01 sec)\r\n",
      "\r\n",
      "MariaDB [TEST1]"
     ]
    }
   ],
   "source": [
    "create table meibo\n",
    "  (id int primary key, name varchar(20))\n",
    "  engine = MyISAM\n",
    "  default charset = utf8;"
   ]
  },
  {
   "cell_type": "markdown",
   "metadata": {},
   "source": [
    "もう一度、テーブルがあるかどうか確認しましょう。"
   ]
  },
  {
   "cell_type": "code",
   "execution_count": 6,
   "metadata": {
    "collapsed": false
   },
   "outputs": [
    {
     "name": "stdout",
     "output_type": "stream",
     "text": [
      "show tables;\n",
      "+-----------------+\r\n",
      "| Tables_in_TEST1 |\r\n",
      "+-----------------+\r\n",
      "| meibo           |\r\n",
      "+-----------------+\r\n",
      "1 row in set (0.00 sec)\r\n",
      "\r\n",
      "MariaDB [TEST1]"
     ]
    }
   ],
   "source": [
    "show tables;"
   ]
  },
  {
   "cell_type": "markdown",
   "metadata": {},
   "source": [
    "さて、ここでテーブルからデータを引っ張る時に、以下のようにselect * from テーブル名という書き方をします。アスタリスクは、すべての列名を持ってくるという意味です。ただ、以下のselect文を実行しても、空のテーブルだけなので、中身は何もなく、Empty setと表示されます。"
   ]
  },
  {
   "cell_type": "code",
   "execution_count": 7,
   "metadata": {
    "collapsed": false
   },
   "outputs": [
    {
     "name": "stdout",
     "output_type": "stream",
     "text": [
      "select * from meibo;\n",
      " Empty set (0.00 sec)\r\n",
      "\r\n",
      "MariaDB [TEST1]"
     ]
    }
   ],
   "source": [
    "select * from meibo;"
   ]
  },
  {
   "cell_type": "markdown",
   "metadata": {},
   "source": [
    "用意したテーブルに、データを挿入してみましょう。データの挿入はinsert into を使います。その後に、「テーブル名（カラム名）values 挿入したいデータ」で実行します。以下のように記述して、データを3レコード挿入しています。"
   ]
  },
  {
   "cell_type": "code",
   "execution_count": 8,
   "metadata": {
    "collapsed": false,
    "scrolled": false
   },
   "outputs": [
    {
     "name": "stdout",
     "output_type": "stream",
     "text": [
      "insert into meibo (id, name) values (1, \"Abe\"); insert into meibo (id, name) values (2, \"Asou\"); insert into meibo (id, name) values (3, \"Suga\");\n",
      " Query OK, 1 row affected (0.00 sec)\r\n",
      "\r\n",
      "Query OK, 1 row affected (0.00 sec)\r\n",
      "\r\n",
      "Query OK, 1 row affected (0.00 sec)\r\n",
      "\r\n",
      "MariaDB [TEST1]"
     ]
    }
   ],
   "source": [
    "insert into meibo (id, name) values (1, \"Abe\");\n",
    "insert into meibo (id, name) values (2, \"Asou\");\n",
    "insert into meibo (id, name) values (3, \"Suga\");"
   ]
  },
  {
   "cell_type": "markdown",
   "metadata": {},
   "source": [
    "もう一度、テーブルを確認してみましょう。"
   ]
  },
  {
   "cell_type": "code",
   "execution_count": 11,
   "metadata": {
    "collapsed": false
   },
   "outputs": [
    {
     "name": "stdout",
     "output_type": "stream",
     "text": [
      "select * from meibo;\n",
      "+----+------+\r\n",
      "| id | name |\r\n",
      "+----+------+\r\n",
      "|  1 | Abe  |\r\n",
      "|  2 | Asou |\r\n",
      "|  3 | Suga |\r\n",
      "+----+------+\r\n",
      "3 rows in set (0.00 sec)\r\n",
      "\r\n",
      "MariaDB [TEST1]"
     ]
    }
   ],
   "source": [
    "select * from meibo;"
   ]
  },
  {
   "cell_type": "markdown",
   "metadata": {},
   "source": [
    "なお、同じキーとなるidのデータを入れるとエラーが出て、以下のようになります。"
   ]
  },
  {
   "cell_type": "code",
   "execution_count": 10,
   "metadata": {
    "collapsed": false
   },
   "outputs": [
    {
     "name": "stdout",
     "output_type": "stream",
     "text": [
      "insert into meibo (id, name) values (1, \"Yamada\");\n",
      " ERROR 1062 (23000): Duplicate entry '1' for key 'PRIMARY'\r\n",
      "\u0007MariaDB [TEST1]"
     ]
    }
   ],
   "source": [
    "insert into meibo (id, name) values (1, \"Yamada\");"
   ]
  },
  {
   "cell_type": "markdown",
   "metadata": {},
   "source": [
    ">**[ポイント]**\n",
    "\n",
    ">show databases：データベースの一覧表示\n",
    "\n",
    ">use [データベース名]：データベースの選択\n",
    "\n",
    ">create database [データベース名]：データベースの作成\n",
    "\n",
    ">create table [テーブル名] [カラム名 型]：テーブルの作成\n",
    "\n",
    ">create table [テーブル名] [カラム名 型] primary key：プライマリーキーの設定\n",
    "\n",
    ">select * from テーブル名：テーブル名のカラムすべてのデータを問い合わせ\n",
    "\n",
    ">instert into [テーブル名] [カラム名 型] [値]：データの挿入"
   ]
  },
  {
   "cell_type": "markdown",
   "metadata": {},
   "source": [
    "#### <練習問題 1>\n",
    "\n",
    "セルを追加（左上にある＋を押下）して、今あるデータベースを表示させましょう。そして、新しいデータベース（TEST2など）を作って、そのデータベースを使うように選択しましょう。"
   ]
  },
  {
   "cell_type": "code",
   "execution_count": 13,
   "metadata": {
    "collapsed": false
   },
   "outputs": [
    {
     "name": "stdout",
     "output_type": "stream",
     "text": [
      "show databases;\n",
      "+--------------------+\r\n",
      "| Database           |\r\n",
      "+--------------------+\r\n",
      "| TEST1              |\r\n",
      "| information_schema |\r\n",
      "| mysql              |\r\n",
      "| performance_schema |\r\n",
      "+--------------------+\r\n",
      "4 rows in set (0.00 sec)\r\n",
      "\r\n",
      "MariaDB [TEST1]"
     ]
    }
   ],
   "source": [
    "show databases"
   ]
  },
  {
   "cell_type": "code",
   "execution_count": 16,
   "metadata": {
    "collapsed": false
   },
   "outputs": [
    {
     "name": "stdout",
     "output_type": "stream",
     "text": [
      "create database TEST2;\n",
      " Query OK, 1 row affected (0.00 sec)\r\n",
      "\r\n",
      "MariaDB [TEST1]"
     ]
    }
   ],
   "source": [
    "create database TEST2;"
   ]
  },
  {
   "cell_type": "code",
   "execution_count": 17,
   "metadata": {
    "collapsed": false
   },
   "outputs": [
    {
     "name": "stdout",
     "output_type": "stream",
     "text": [
      "use TEST2;\n",
      " Database changed\r\n",
      "MariaDB [TEST2]"
     ]
    }
   ],
   "source": [
    "use TEST2"
   ]
  },
  {
   "cell_type": "markdown",
   "metadata": {},
   "source": [
    "#### <練習問題 2>\n",
    "\n",
    "練習問題１で作成、選択したデータベースに新しいテーブル「meibo2」を作成してください。作成後はテーブルが完成しているか、確認しましょう。"
   ]
  },
  {
   "cell_type": "code",
   "execution_count": 19,
   "metadata": {
    "collapsed": false
   },
   "outputs": [
    {
     "name": "stdout",
     "output_type": "stream",
     "text": [
      "create table meibo2 (id int primary key, name varchar(20));\n",
      " Query OK, 0 rows affected (0.02 sec)\r\n",
      "\r\n",
      "MariaDB [TEST2]"
     ]
    }
   ],
   "source": [
    "create table meibo2\n",
    "(id int primary key, name varchar(20))"
   ]
  },
  {
   "cell_type": "code",
   "execution_count": 20,
   "metadata": {
    "collapsed": false
   },
   "outputs": [
    {
     "name": "stdout",
     "output_type": "stream",
     "text": [
      "select * from meibo2;\n",
      " Empty set (0.00 sec)\r\n",
      "\r\n",
      "MariaDB [TEST2]"
     ]
    }
   ],
   "source": [
    "select * from meibo2"
   ]
  },
  {
   "cell_type": "markdown",
   "metadata": {},
   "source": [
    "#### <練習問題 3>\n",
    "\n",
    "新しく作ったテーブルにデータを追加してみましょう。追加後は、確かにデータが入っているか確認してください。"
   ]
  },
  {
   "cell_type": "code",
   "execution_count": 21,
   "metadata": {
    "collapsed": false
   },
   "outputs": [
    {
     "name": "stdout",
     "output_type": "stream",
     "text": [
      "insert into meibo2 (id, name) values(1, 'iPhone 5s');\n",
      " Query OK, 1 row affected (0.00 sec)\r\n",
      "\r\n",
      "MariaDB [TEST2]"
     ]
    }
   ],
   "source": [
    "insert into meibo2 (id, name) values(1, 'iPhone 5s')"
   ]
  },
  {
   "cell_type": "code",
   "execution_count": 22,
   "metadata": {
    "collapsed": false
   },
   "outputs": [
    {
     "name": "stdout",
     "output_type": "stream",
     "text": [
      "select * from meibo2;\n",
      "+----+-----------+\r\n",
      "| id | name      |\r\n",
      "+----+-----------+\r\n",
      "|  1 | iPhone 5s |\r\n",
      "+----+-----------+\r\n",
      "1 row in set (0.00 sec)\r\n",
      "\r\n",
      "MariaDB [TEST2]"
     ]
    }
   ],
   "source": [
    "select * from meibo2"
   ]
  },
  {
   "cell_type": "markdown",
   "metadata": {},
   "source": [
    "### 5.2.2 データの検索と更新、削除、テーブルカラムの変更\n",
    "キーワード：where, in, like, update, delete, alter"
   ]
  },
  {
   "cell_type": "markdown",
   "metadata": {},
   "source": [
    "次は、データの抽出をするときに、条件を絞って実行してみましょう。条件はwhere文を使います。以下では、id=2の人のデータを抽出しています。<br>注：上記の練習問題を解いた後は、参照しているデータベースが異なるので、データベースTEST1を再選択しましょう。"
   ]
  },
  {
   "cell_type": "code",
   "execution_count": 23,
   "metadata": {
    "collapsed": false
   },
   "outputs": [
    {
     "name": "stdout",
     "output_type": "stream",
     "text": [
      "/*データベースの選択*/ use TEST1;\n",
      " Database changed\r\n",
      "MariaDB [TEST1]"
     ]
    }
   ],
   "source": [
    "/*データベースの選択*/\n",
    "use TEST1;"
   ]
  },
  {
   "cell_type": "code",
   "execution_count": 24,
   "metadata": {
    "collapsed": false
   },
   "outputs": [
    {
     "name": "stdout",
     "output_type": "stream",
     "text": [
      "select * from meibo where id=2;\n",
      "+----+------+\r\n",
      "| id | name |\r\n",
      "+----+------+\r\n",
      "|  2 | Asou |\r\n",
      "+----+------+\r\n",
      "1 row in set (0.00 sec)\r\n",
      "\r\n",
      "MariaDB [TEST1]"
     ]
    }
   ],
   "source": [
    "select * from meibo where id=2;"
   ]
  },
  {
   "cell_type": "markdown",
   "metadata": {},
   "source": [
    "次は、テーブルにidが1か2かどちらかあるときです。inを使っています。（他、データの範囲を絞り込むためbetweenなどもありますので、調べてみてください。）"
   ]
  },
  {
   "cell_type": "code",
   "execution_count": 25,
   "metadata": {
    "collapsed": false
   },
   "outputs": [
    {
     "name": "stdout",
     "output_type": "stream",
     "text": [
      "select * from meibo where id in (1,2);\n",
      "+----+------+\r\n",
      "| id | name |\r\n",
      "+----+------+\r\n",
      "|  1 | Abe  |\r\n",
      "|  2 | Asou |\r\n",
      "+----+------+\r\n",
      "2 rows in set (0.00 sec)\r\n",
      "\r\n",
      "MariaDB [TEST1]"
     ]
    }
   ],
   "source": [
    "select * from meibo where id in (1,2);"
   ]
  },
  {
   "cell_type": "markdown",
   "metadata": {},
   "source": [
    "以下のような記述で、曖昧検索もできます。likeを使って、以下の処理では、Sからはじまって後は任意の文字列ということで、「S%」としています。他にも、「%S」や「%S%」で検索が可能です。"
   ]
  },
  {
   "cell_type": "code",
   "execution_count": 26,
   "metadata": {
    "collapsed": false
   },
   "outputs": [
    {
     "name": "stdout",
     "output_type": "stream",
     "text": [
      "select * from meibo where name like 'S%';\n",
      "+----+------+\r\n",
      "| id | name |\r\n",
      "+----+------+\r\n",
      "|  3 | Suga |\r\n",
      "+----+------+\r\n",
      "1 row in set (0.01 sec)\r\n",
      "\r\n",
      "MariaDB [TEST1]"
     ]
    }
   ],
   "source": [
    "select * from meibo where name like 'S%';"
   ]
  },
  {
   "cell_type": "markdown",
   "metadata": {},
   "source": [
    ">**[やってみよう]**\n",
    "\n",
    ">上の条件式を色々と変更してデータを検索してみましょう。例えば、idが1以外の人や、nameがaで終わる人はどのように検索しますか？"
   ]
  },
  {
   "cell_type": "code",
   "execution_count": 32,
   "metadata": {
    "collapsed": false
   },
   "outputs": [
    {
     "name": "stdout",
     "output_type": "stream",
     "text": [
      "select * from meibo where id !=1; select * from meibo where name like '%e';\n",
      "+----+------+\r\n",
      "| id | name |\r\n",
      "+----+------+\r\n",
      "|  2 | Asou |\r\n",
      "|  3 | Suga |\r\n",
      "+----+------+\r\n",
      "2 rows in set (0.00 sec)\r\n",
      "\r\n",
      "+----+------+\r\n",
      "| id | name |\r\n",
      "+----+------+\r\n",
      "|  1 | Abe  |\r\n",
      "+----+------+\r\n",
      "1 row in set (0.00 sec)\r\n",
      "\r\n",
      "MariaDB [TEST1]"
     ]
    }
   ],
   "source": [
    "select * from meibo where id !=1;\n",
    "select * from meibo where name like '%e';"
   ]
  },
  {
   "cell_type": "markdown",
   "metadata": {},
   "source": [
    "今までは存在してるデータを抽出してきましたが、次は、データを変更してみます。updateを使って、id=3の人を更新してみます。記述方法は以下のようになります。"
   ]
  },
  {
   "cell_type": "code",
   "execution_count": 33,
   "metadata": {
    "collapsed": false
   },
   "outputs": [
    {
     "name": "stdout",
     "output_type": "stream",
     "text": [
      "update meibo set name = \"Inami\" where id=3;\n",
      " Query OK, 1 row affected (0.01 sec)\r\n",
      "Rows matched: 1  Changed: 1  Warnings: 0\r\n",
      "\r\n",
      "MariaDB [TEST1]"
     ]
    }
   ],
   "source": [
    "update meibo\n",
    " set name = \"Inami\"\n",
    " where id=3;"
   ]
  },
  {
   "cell_type": "markdown",
   "metadata": {},
   "source": [
    "更新されているか確かめてみましょう。"
   ]
  },
  {
   "cell_type": "code",
   "execution_count": 34,
   "metadata": {
    "collapsed": false
   },
   "outputs": [
    {
     "name": "stdout",
     "output_type": "stream",
     "text": [
      "select * from meibo;\n",
      "+----+-------+\r\n",
      "| id | name  |\r\n",
      "+----+-------+\r\n",
      "|  1 | Abe   |\r\n",
      "|  2 | Asou  |\r\n",
      "|  3 | Inami |\r\n",
      "+----+-------+\r\n",
      "3 rows in set (0.00 sec)\r\n",
      "\r\n",
      "MariaDB [TEST1]"
     ]
    }
   ],
   "source": [
    "select * from meibo;"
   ]
  },
  {
   "cell_type": "markdown",
   "metadata": {},
   "source": [
    "データを削除する場合も扱いましょう。データを用意(id=4)して、確認します。"
   ]
  },
  {
   "cell_type": "code",
   "execution_count": 35,
   "metadata": {
    "collapsed": false
   },
   "outputs": [
    {
     "name": "stdout",
     "output_type": "stream",
     "text": [
      "insert into meibo (id, name) values (4, \"Dummy\"); select * from meibo;\n",
      "+----+-------+\r\n",
      "| id | name  |\r\n",
      "+----+-------+\r\n",
      "|  1 | Abe   |\r\n",
      "|  2 | Asou  |\r\n",
      "|  3 | Inami |\r\n",
      "|  4 | Dummy |\r\n",
      "+----+-------+\r\n",
      "4 rows in set (0.00 sec)\r\n",
      "\r\n",
      "MariaDB [TEST1]"
     ]
    }
   ],
   "source": [
    "insert into meibo (id, name) values (4, \"Dummy\");\n",
    "select * from meibo;"
   ]
  },
  {
   "cell_type": "markdown",
   "metadata": {},
   "source": [
    "データの削除はdeleteを使います。ここでは、先ほど用意しましたid＝4の人を削除します。"
   ]
  },
  {
   "cell_type": "code",
   "execution_count": 36,
   "metadata": {
    "collapsed": false
   },
   "outputs": [
    {
     "name": "stdout",
     "output_type": "stream",
     "text": [
      "delete from meibo where id = 4;\n",
      " Query OK, 1 row affected (0.00 sec)\r\n",
      "\r\n",
      "MariaDB [TEST1]"
     ]
    }
   ],
   "source": [
    "delete from meibo\n",
    "where id = 4;"
   ]
  },
  {
   "cell_type": "markdown",
   "metadata": {},
   "source": [
    "念のため、消えているかどうか確認しましょう。"
   ]
  },
  {
   "cell_type": "code",
   "execution_count": 37,
   "metadata": {
    "collapsed": false
   },
   "outputs": [
    {
     "name": "stdout",
     "output_type": "stream",
     "text": [
      "select * from meibo;\n",
      "+----+-------+\r\n",
      "| id | name  |\r\n",
      "+----+-------+\r\n",
      "|  1 | Abe   |\r\n",
      "|  2 | Asou  |\r\n",
      "|  3 | Inami |\r\n",
      "+----+-------+\r\n",
      "3 rows in set (0.00 sec)\r\n",
      "\r\n",
      "MariaDB [TEST1]"
     ]
    }
   ],
   "source": [
    "select * from meibo;"
   ]
  },
  {
   "cell_type": "markdown",
   "metadata": {},
   "source": [
    "次は、新しいカラムを追加しましょう。その人のクラスと年齢を追加します。「alter table テーブル名 add 新しいカラム名 型」です。"
   ]
  },
  {
   "cell_type": "code",
   "execution_count": 38,
   "metadata": {
    "collapsed": false
   },
   "outputs": [
    {
     "name": "stdout",
     "output_type": "stream",
     "text": [
      "alter table meibo add class int; alter table meibo add age int;\n",
      " Stage: 2 of 2 'enabling keys'      0% of stage done\r",
      "                                                   \r",
      "Query OK, 3 rows affected (0.01 sec)\r\n",
      "Records: 3  Duplicates: 0  Warnings: 0\r\n",
      "\r\n",
      "Stage: 2 of 2 'enabling keys'      0% of stage done\r",
      "                                                   \r",
      "Query OK, 3 rows affected (0.01 sec)\r\n",
      "Records: 3  Duplicates: 0  Warnings: 0\r\n",
      "\r\n",
      "MariaDB [TEST1]"
     ]
    }
   ],
   "source": [
    "alter table meibo add class int;\n",
    "alter table meibo add age int;"
   ]
  },
  {
   "cell_type": "markdown",
   "metadata": {},
   "source": [
    "新しくカラムを追加したテーブルをチェックしてみましょう。classとageには、まだ何もデータは入っていないので、NULLになります。"
   ]
  },
  {
   "cell_type": "code",
   "execution_count": 39,
   "metadata": {
    "collapsed": false
   },
   "outputs": [
    {
     "name": "stdout",
     "output_type": "stream",
     "text": [
      "select * from meibo;\n",
      "+----+-------+-------+------+\r\n",
      "| id | name  | class | age  |\r\n",
      "+----+-------+-------+------+\r\n",
      "|  1 | Abe   |  NULL | NULL |\r\n",
      "|  2 | Asou  |  NULL | NULL |\r\n",
      "|  3 | Inami |  NULL | NULL |\r\n",
      "+----+-------+-------+------+\r\n",
      "3 rows in set (0.00 sec)\r\n",
      "\r\n",
      "MariaDB [TEST1]"
     ]
    }
   ],
   "source": [
    "select * from meibo;"
   ]
  },
  {
   "cell_type": "markdown",
   "metadata": {},
   "source": [
    "updateを使ってデータを更新します。"
   ]
  },
  {
   "cell_type": "code",
   "execution_count": 40,
   "metadata": {
    "collapsed": false
   },
   "outputs": [
    {
     "name": "stdout",
     "output_type": "stream",
     "text": [
      "update meibo set class =1, age=13 where id = 3;\n",
      " Query OK, 1 row affected (0.01 sec)\r\n",
      "Rows matched: 1  Changed: 1  Warnings: 0\r\n",
      "\r\n",
      "MariaDB [TEST1]"
     ]
    }
   ],
   "source": [
    "update meibo\n",
    " set class =1, age=13\n",
    " where id = 3;"
   ]
  },
  {
   "cell_type": "markdown",
   "metadata": {},
   "source": [
    "id=3の人のにクラスと年齢のデータが入りました。"
   ]
  },
  {
   "cell_type": "code",
   "execution_count": 41,
   "metadata": {
    "collapsed": false
   },
   "outputs": [
    {
     "name": "stdout",
     "output_type": "stream",
     "text": [
      "select * from meibo;\n",
      "+----+-------+-------+------+\r\n",
      "| id | name  | class | age  |\r\n",
      "+----+-------+-------+------+\r\n",
      "|  1 | Abe   |  NULL | NULL |\r\n",
      "|  2 | Asou  |  NULL | NULL |\r\n",
      "|  3 | Inami |     1 |   13 |\r\n",
      "+----+-------+-------+------+\r\n",
      "3 rows in set (0.00 sec)\r\n",
      "\r\n",
      "MariaDB [TEST1]"
     ]
    }
   ],
   "source": [
    "select * from meibo;"
   ]
  },
  {
   "cell_type": "markdown",
   "metadata": {},
   "source": [
    "続けて、他の人のデータも更新しましょう。"
   ]
  },
  {
   "cell_type": "code",
   "execution_count": 42,
   "metadata": {
    "collapsed": false
   },
   "outputs": [
    {
     "name": "stdout",
     "output_type": "stream",
     "text": [
      "update meibo set class=1,age=14 where id=1; update meibo set class=2,age=13 where id=2;\n",
      " Query OK, 1 row affected (0.00 sec)\r\n",
      "Rows matched: 1  Changed: 1  Warnings: 0\r\n",
      "\r\n",
      "Query OK, 1 row affected (0.00 sec)\r\n",
      "Rows matched: 1  Changed: 1  Warnings: 0\r\n",
      "\r\n",
      "MariaDB [TEST1]"
     ]
    }
   ],
   "source": [
    "update meibo\n",
    " set class=1,age=14\n",
    " where id=1;\n",
    " \n",
    "update meibo\n",
    " set class=2,age=13\n",
    " where id=2;"
   ]
  },
  {
   "cell_type": "code",
   "execution_count": 43,
   "metadata": {
    "collapsed": false
   },
   "outputs": [
    {
     "name": "stdout",
     "output_type": "stream",
     "text": [
      "select * from meibo;\n",
      "+----+-------+-------+------+\r\n",
      "| id | name  | class | age  |\r\n",
      "+----+-------+-------+------+\r\n",
      "|  1 | Abe   |     1 |   14 |\r\n",
      "|  2 | Asou  |     2 |   13 |\r\n",
      "|  3 | Inami |     1 |   13 |\r\n",
      "+----+-------+-------+------+\r\n",
      "3 rows in set (0.00 sec)\r\n",
      "\r\n",
      "MariaDB [TEST1]"
     ]
    }
   ],
   "source": [
    "select * from meibo;"
   ]
  },
  {
   "cell_type": "markdown",
   "metadata": {},
   "source": [
    "新しい人たちのデータを追加しましょう。先ほどはinsertを1つ1つ実行していきました。ここでは、以下のコマンドで一度に更新します。"
   ]
  },
  {
   "cell_type": "code",
   "execution_count": 44,
   "metadata": {
    "collapsed": false
   },
   "outputs": [
    {
     "name": "stdout",
     "output_type": "stream",
     "text": [
      "insert into meibo (id,name,class,age) values (4,\"Asou\",2,15),(5,\"Imamura\",3,12),(6,\"Takeuchi\",2,16),(7,\"Kimura\",3,11),(8,\"Sato\",1,14);\n",
      " Query OK, 5 rows affected (0.00 sec)\r\n",
      "Records: 5  Duplicates: 0  Warnings: 0\r\n",
      "\r\n",
      "MariaDB [TEST1]"
     ]
    }
   ],
   "source": [
    "insert into meibo (id,name,class,age) \n",
    " values (4,\"Asou\",2,15),(5,\"Imamura\",3,12),(6,\"Takeuchi\",2,16),(7,\"Kimura\",3,11),(8,\"Sato\",1,14);"
   ]
  },
  {
   "cell_type": "markdown",
   "metadata": {},
   "source": [
    "データの確認をします。"
   ]
  },
  {
   "cell_type": "code",
   "execution_count": 45,
   "metadata": {
    "collapsed": false
   },
   "outputs": [
    {
     "name": "stdout",
     "output_type": "stream",
     "text": [
      "select * from meibo;\n",
      "+----+----------+-------+------+\r\n",
      "| id | name     | class | age  |\r\n",
      "+----+----------+-------+------+\r\n",
      "|  1 | Abe      |     1 |   14 |\r\n",
      "|  2 | Asou     |     2 |   13 |\r\n",
      "|  3 | Inami    |     1 |   13 |\r\n",
      "|  4 | Asou     |     2 |   15 |\r\n",
      "|  5 | Imamura  |     3 |   12 |\r\n",
      "|  6 | Takeuchi |     2 |   16 |\r\n",
      "|  7 | Kimura   |     3 |   11 |\r\n",
      "|  8 | Sato     |     1 |   14 |\r\n",
      "+----+----------+-------+------+\r\n",
      "8 rows in set (0.00 sec)\r\n",
      "\r\n",
      "MariaDB [TEST1]"
     ]
    }
   ],
   "source": [
    "select * from meibo;"
   ]
  },
  {
   "cell_type": "markdown",
   "metadata": {},
   "source": [
    ">**[ポイント]**\n",
    "\n",
    ">select * from [テーブル名] where 条件：条件でデータを絞り込み\n",
    "\n",
    ">in：条件マッチ\n",
    "\n",
    ">like：曖昧検索\n",
    "\n",
    ">delete from [テーブル名]：データの削除（注：条件を絞りこむ場合はwhere文を追加する）\n",
    "\n",
    ">alter table [テーブル名] add [カラム名 型]:テーブルのカラム名追加\n",
    "\n",
    ">update [テーブル名] set ：データのアップデート"
   ]
  },
  {
   "cell_type": "markdown",
   "metadata": {},
   "source": [
    "#### <練習問題 1>\n",
    "\n",
    "TEST1のデータベースを選択して、上記のテーブルmeiboにて、id=4の人レコードを抽出してください。"
   ]
  },
  {
   "cell_type": "code",
   "execution_count": 46,
   "metadata": {
    "collapsed": false
   },
   "outputs": [
    {
     "name": "stdout",
     "output_type": "stream",
     "text": [
      "select * from meibo where id = 4;\n",
      "+----+------+-------+------+\r\n",
      "| id | name | class | age  |\r\n",
      "+----+------+-------+------+\r\n",
      "|  4 | Asou |     2 |   15 |\r\n",
      "+----+------+-------+------+\r\n",
      "1 row in set (0.00 sec)\r\n",
      "\r\n",
      "MariaDB [TEST1]"
     ]
    }
   ],
   "source": [
    "select * from meibo where id = 4"
   ]
  },
  {
   "cell_type": "markdown",
   "metadata": {},
   "source": [
    "#### <練習問題 2>\n",
    "\n",
    "上のmeiboテーブルでid=8の人のclassを7にアップデートしてください。"
   ]
  },
  {
   "cell_type": "code",
   "execution_count": 47,
   "metadata": {
    "collapsed": false
   },
   "outputs": [
    {
     "name": "stdout",
     "output_type": "stream",
     "text": [
      "update meibo set class = 7 where id = 8;\n",
      " Query OK, 1 row affected (0.00 sec)\r\n",
      "Rows matched: 1  Changed: 1  Warnings: 0\r\n",
      "\r\n",
      "MariaDB [TEST1]"
     ]
    }
   ],
   "source": [
    "update meibo\n",
    "set class = 7\n",
    "where id = 8"
   ]
  },
  {
   "cell_type": "code",
   "execution_count": 48,
   "metadata": {
    "collapsed": false
   },
   "outputs": [
    {
     "name": "stdout",
     "output_type": "stream",
     "text": [
      "select * from meibo;\n",
      "+----+----------+-------+------+\r\n",
      "| id | name     | class | age  |\r\n",
      "+----+----------+-------+------+\r\n",
      "|  1 | Abe      |     1 |   14 |\r\n",
      "|  2 | Asou     |     2 |   13 |\r\n",
      "|  3 | Inami    |     1 |   13 |\r\n",
      "|  4 | Asou     |     2 |   15 |\r\n",
      "|  5 | Imamura  |     3 |   12 |\r\n",
      "|  6 | Takeuchi |     2 |   16 |\r\n",
      "|  7 | Kimura   |     3 |   11 |\r\n",
      "|  8 | Sato     |     7 |   14 |\r\n",
      "+----+----------+-------+------+\r\n",
      "8 rows in set (0.00 sec)\r\n",
      "\r\n",
      "MariaDB [TEST1]"
     ]
    }
   ],
   "source": [
    "select * from meibo"
   ]
  },
  {
   "cell_type": "markdown",
   "metadata": {},
   "source": [
    "#### <練習問題 3>\n",
    "\n",
    "上記と同じテーブルmeiboに新しい列highという身長を追加してください。さらに、id=1から4までの人は150、id=5から6までの人は155、id=7から8までの人は160でアップデートしてください。"
   ]
  },
  {
   "cell_type": "code",
   "execution_count": 49,
   "metadata": {
    "collapsed": false
   },
   "outputs": [
    {
     "name": "stdout",
     "output_type": "stream",
     "text": [
      "alter table meibo add height int;\n",
      " Stage: 2 of 2 'enabling keys'      0% of stage done\r",
      "                                                   \r",
      "Query OK, 8 rows affected (0.01 sec)\r\n",
      "Records: 8  Duplicates: 0  Warnings: 0\r\n",
      "\r\n",
      "MariaDB [TEST1]"
     ]
    }
   ],
   "source": [
    "alter table meibo add height int"
   ]
  },
  {
   "cell_type": "code",
   "execution_count": 51,
   "metadata": {
    "collapsed": false
   },
   "outputs": [
    {
     "name": "stdout",
     "output_type": "stream",
     "text": [
      "update meibo set height = 150 where id between 1 and 4;\n",
      " Query OK, 4 rows affected (0.00 sec)\r\n",
      "Rows matched: 4  Changed: 4  Warnings: 0\r\n",
      "\r\n",
      "MariaDB [TEST1]"
     ]
    }
   ],
   "source": [
    "update meibo\n",
    "set height = 150\n",
    "where id between 1 and 4"
   ]
  },
  {
   "cell_type": "code",
   "execution_count": 52,
   "metadata": {
    "collapsed": false
   },
   "outputs": [
    {
     "name": "stdout",
     "output_type": "stream",
     "text": [
      "update meibo set height = 155 where id in (5,6);\n",
      " Query OK, 2 rows affected (0.00 sec)\r\n",
      "Rows matched: 2  Changed: 2  Warnings: 0\r\n",
      "\r\n",
      "MariaDB [TEST1]"
     ]
    }
   ],
   "source": [
    "update meibo\n",
    "set height = 155\n",
    "where id in (5,6)"
   ]
  },
  {
   "cell_type": "code",
   "execution_count": 53,
   "metadata": {
    "collapsed": false
   },
   "outputs": [
    {
     "name": "stdout",
     "output_type": "stream",
     "text": [
      "update meibo set height = 160 where id in (7,8);\n",
      " Query OK, 2 rows affected (0.00 sec)\r\n",
      "Rows matched: 2  Changed: 2  Warnings: 0\r\n",
      "\r\n",
      "MariaDB [TEST1]"
     ]
    }
   ],
   "source": [
    "update meibo set height = 160 where id in (7,8)"
   ]
  },
  {
   "cell_type": "code",
   "execution_count": 54,
   "metadata": {
    "collapsed": false
   },
   "outputs": [
    {
     "name": "stdout",
     "output_type": "stream",
     "text": [
      "select * from meibo;\n",
      "+----+----------+-------+------+--------+\r\n",
      "| id | name     | class | age  | height |\r\n",
      "+----+----------+-------+------+--------+\r\n",
      "|  1 | Abe      |     1 |   14 |    150 |\r\n",
      "|  2 | Asou     |     2 |   13 |    150 |\r\n",
      "|  3 | Inami    |     1 |   13 |    150 |\r\n",
      "|  4 | Asou     |     2 |   15 |    150 |\r\n",
      "|  5 | Imamura  |     3 |   12 |    155 |\r\n",
      "|  6 | Takeuchi |     2 |   16 |    155 |\r\n",
      "|  7 | Kimura   |     3 |   11 |    160 |\r\n",
      "|  8 | Sato     |     7 |   14 |    160 |\r\n",
      "+----+----------+-------+------+--------+\r\n",
      "8 rows in set (0.00 sec)\r\n",
      "\r\n",
      "MariaDB [TEST1]"
     ]
    }
   ],
   "source": [
    "select * from meibo"
   ]
  },
  {
   "cell_type": "markdown",
   "metadata": {},
   "source": [
    "### 5.2.3 データの集計、演算、並び替え\n",
    "キーワード：count,distinct,order,avg,sum,limit"
   ]
  },
  {
   "cell_type": "markdown",
   "metadata": {},
   "source": [
    "次は、SQLを使った集計になります。データを見るときにまず気になるのが、何レコードあるかということです。以下で、データが何行あるかカウントするために、countを使っています。"
   ]
  },
  {
   "cell_type": "code",
   "execution_count": 55,
   "metadata": {
    "collapsed": false
   },
   "outputs": [
    {
     "name": "stdout",
     "output_type": "stream",
     "text": [
      "select count(*) from meibo;\n",
      "+----------+\r\n",
      "| count(*) |\r\n",
      "+----------+\r\n",
      "|        8 |\r\n",
      "+----------+\r\n",
      "1 row in set (0.00 sec)\r\n",
      "\r\n",
      "MariaDB [TEST1]"
     ]
    }
   ],
   "source": [
    "select count(*) from meibo;"
   ]
  },
  {
   "cell_type": "markdown",
   "metadata": {},
   "source": [
    "なお、asで名前をつけることができます。エイリアスといいます。cntというカラム名をつけてみましょう。"
   ]
  },
  {
   "cell_type": "code",
   "execution_count": 56,
   "metadata": {
    "collapsed": false
   },
   "outputs": [
    {
     "name": "stdout",
     "output_type": "stream",
     "text": [
      "select count(*) as cnt from meibo;\n",
      "+-----+\r\n",
      "| cnt |\r\n",
      "+-----+\r\n",
      "|   8 |\r\n",
      "+-----+\r\n",
      "1 row in set (0.00 sec)\r\n",
      "\r\n",
      "MariaDB [TEST1]"
     ]
    }
   ],
   "source": [
    "select count(*) as cnt from meibo;"
   ]
  },
  {
   "cell_type": "markdown",
   "metadata": {},
   "source": [
    "次は、このcountを使って、異なる種類のデータを数えてみます。具体的には、先ほどレコード数は8レコードありましたが、異なるクラスは何クラスあるでしょうか。countとdistinct を併用することで、重複を除いた件数をカウントできます。"
   ]
  },
  {
   "cell_type": "code",
   "execution_count": 57,
   "metadata": {
    "collapsed": false,
    "scrolled": true
   },
   "outputs": [
    {
     "name": "stdout",
     "output_type": "stream",
     "text": [
      "select count(distinct class) as classCnt from meibo;\n",
      "+----------+\r\n",
      "| classCnt |\r\n",
      "+----------+\r\n",
      "|        4 |\r\n",
      "+----------+\r\n",
      "1 row in set (0.00 sec)\r\n",
      "\r\n",
      "MariaDB [TEST1]"
     ]
    }
   ],
   "source": [
    "select count(distinct class) as classCnt from meibo;"
   ]
  },
  {
   "cell_type": "markdown",
   "metadata": {},
   "source": [
    "次は、平均を計算します。以下は、平均年齢を計算しています。avgを使います。"
   ]
  },
  {
   "cell_type": "code",
   "execution_count": 58,
   "metadata": {
    "collapsed": false
   },
   "outputs": [
    {
     "name": "stdout",
     "output_type": "stream",
     "text": [
      "select avg(age) as avgAge from meibo;\n",
      "+---------+\r\n",
      "| avgAge  |\r\n",
      "+---------+\r\n",
      "| 13.5000 |\r\n",
      "+---------+\r\n",
      "1 row in set (0.00 sec)\r\n",
      "\r\n",
      "MariaDB [TEST1]"
     ]
    }
   ],
   "source": [
    "select avg(age) as avgAge from meibo;"
   ]
  },
  {
   "cell_type": "markdown",
   "metadata": {},
   "source": [
    "なお、sum関数を使うと合計されますが、年齢の合計の用途はあまりなさそうです。ここでは、先ほどのcountと組み合わせて、平均年齢を算出しましょう。上記の結果と同じになっていることがわかります。このように、selectの中で演算が可能です。"
   ]
  },
  {
   "cell_type": "code",
   "execution_count": 59,
   "metadata": {
    "collapsed": false
   },
   "outputs": [
    {
     "name": "stdout",
     "output_type": "stream",
     "text": [
      "select sum(age) / count(*) as avgAge from meibo;\n",
      "+---------+\r\n",
      "| avgAge  |\r\n",
      "+---------+\r\n",
      "| 13.5000 |\r\n",
      "+---------+\r\n",
      "1 row in set (0.00 sec)\r\n",
      "\r\n",
      "MariaDB [TEST1]"
     ]
    }
   ],
   "source": [
    "select sum(age) / count(*) as avgAge from meibo;"
   ]
  },
  {
   "cell_type": "markdown",
   "metadata": {},
   "source": [
    "年齢最大値と最小値は以下のように記述します。最年少が11歳、最年長が16歳とわかります。"
   ]
  },
  {
   "cell_type": "code",
   "execution_count": 60,
   "metadata": {
    "collapsed": false
   },
   "outputs": [
    {
     "name": "stdout",
     "output_type": "stream",
     "text": [
      "select min(age) as minAge, max(age) as maxAge from meibo;\n",
      "+--------+--------+\r\n",
      "| minAge | maxAge |\r\n",
      "+--------+--------+\r\n",
      "|     11 |     16 |\r\n",
      "+--------+--------+\r\n",
      "1 row in set (0.00 sec)\r\n",
      "\r\n",
      "MariaDB [TEST1]"
     ]
    }
   ],
   "source": [
    "select min(age) as minAge, max(age) as maxAge from meibo;"
   ]
  },
  {
   "cell_type": "markdown",
   "metadata": {},
   "source": [
    "次は、idを軸として降順に並べてみましょう。並び替えはorder by カラム名を使います。descをつけることで、降順（大きいものから小さいものの順番）になります。"
   ]
  },
  {
   "cell_type": "code",
   "execution_count": 61,
   "metadata": {
    "collapsed": false,
    "scrolled": true
   },
   "outputs": [
    {
     "name": "stdout",
     "output_type": "stream",
     "text": [
      "select * from meibo order by id desc;\n",
      "+----+----------+-------+------+--------+\r\n",
      "| id | name     | class | age  | height |\r\n",
      "+----+----------+-------+------+--------+\r\n",
      "|  8 | Sato     |     7 |   14 |    160 |\r\n",
      "|  7 | Kimura   |     3 |   11 |    160 |\r\n",
      "|  6 | Takeuchi |     2 |   16 |    155 |\r\n",
      "|  5 | Imamura  |     3 |   12 |    155 |\r\n",
      "|  4 | Asou     |     2 |   15 |    150 |\r\n",
      "|  3 | Inami    |     1 |   13 |    150 |\r\n",
      "|  2 | Asou     |     2 |   13 |    150 |\r\n",
      "|  1 | Abe      |     1 |   14 |    150 |\r\n",
      "+----+----------+-------+------+--------+\r\n",
      "8 rows in set (0.00 sec)\r\n",
      "\r\n",
      "MariaDB [TEST1]"
     ]
    }
   ],
   "source": [
    "select * from meibo order by id desc;"
   ]
  },
  {
   "cell_type": "markdown",
   "metadata": {},
   "source": [
    "今度は、ageを軸として昇順（小さいものから大きいものの順番）に並べてみましょう。デフォルトは昇順です。"
   ]
  },
  {
   "cell_type": "code",
   "execution_count": 62,
   "metadata": {
    "collapsed": false
   },
   "outputs": [
    {
     "name": "stdout",
     "output_type": "stream",
     "text": [
      "select * from meibo order by age;\n",
      "+----+----------+-------+------+--------+\r\n",
      "| id | name     | class | age  | height |\r\n",
      "+----+----------+-------+------+--------+\r\n",
      "|  7 | Kimura   |     3 |   11 |    160 |\r\n",
      "|  5 | Imamura  |     3 |   12 |    155 |\r\n",
      "|  2 | Asou     |     2 |   13 |    150 |\r\n",
      "|  3 | Inami    |     1 |   13 |    150 |\r\n",
      "|  1 | Abe      |     1 |   14 |    150 |\r\n",
      "|  8 | Sato     |     7 |   14 |    160 |\r\n",
      "|  4 | Asou     |     2 |   15 |    150 |\r\n",
      "|  6 | Takeuchi |     2 |   16 |    155 |\r\n",
      "+----+----------+-------+------+--------+\r\n",
      "8 rows in set (0.00 sec)\r\n",
      "\r\n",
      "MariaDB [TEST1]"
     ]
    }
   ],
   "source": [
    "select * from meibo order by age;"
   ]
  },
  {
   "cell_type": "markdown",
   "metadata": {},
   "source": [
    "class,ageの2つの軸で昇順に並べてみましょう。なお、優先順位は先に記述したカラムになります。この場合は、classです。"
   ]
  },
  {
   "cell_type": "code",
   "execution_count": 63,
   "metadata": {
    "collapsed": false
   },
   "outputs": [
    {
     "name": "stdout",
     "output_type": "stream",
     "text": [
      "select * from meibo order by class,age;\n",
      "+----+----------+-------+------+--------+\r\n",
      "| id | name     | class | age  | height |\r\n",
      "+----+----------+-------+------+--------+\r\n",
      "|  3 | Inami    |     1 |   13 |    150 |\r\n",
      "|  1 | Abe      |     1 |   14 |    150 |\r\n",
      "|  2 | Asou     |     2 |   13 |    150 |\r\n",
      "|  4 | Asou     |     2 |   15 |    150 |\r\n",
      "|  6 | Takeuchi |     2 |   16 |    155 |\r\n",
      "|  7 | Kimura   |     3 |   11 |    160 |\r\n",
      "|  5 | Imamura  |     3 |   12 |    155 |\r\n",
      "|  8 | Sato     |     7 |   14 |    160 |\r\n",
      "+----+----------+-------+------+--------+\r\n",
      "8 rows in set (0.00 sec)\r\n",
      "\r\n",
      "MariaDB [TEST1]"
     ]
    }
   ],
   "source": [
    "select * from meibo order by class,age;"
   ]
  },
  {
   "cell_type": "markdown",
   "metadata": {},
   "source": [
    "limitを使うと行数の制限ができます。数多くのデータがありそうなときは、limitを使ってデータを確認しましょう。"
   ]
  },
  {
   "cell_type": "code",
   "execution_count": 64,
   "metadata": {
    "collapsed": false
   },
   "outputs": [
    {
     "name": "stdout",
     "output_type": "stream",
     "text": [
      "select * from meibo limit 3;\n",
      "+----+-------+-------+------+--------+\r\n",
      "| id | name  | class | age  | height |\r\n",
      "+----+-------+-------+------+--------+\r\n",
      "|  1 | Abe   |     1 |   14 |    150 |\r\n",
      "|  2 | Asou  |     2 |   13 |    150 |\r\n",
      "|  3 | Inami |     1 |   13 |    150 |\r\n",
      "+----+-------+-------+------+--------+\r\n",
      "3 rows in set (0.00 sec)\r\n",
      "\r\n",
      "MariaDB [TEST1]"
     ]
    }
   ],
   "source": [
    "select * from meibo limit 3;"
   ]
  },
  {
   "cell_type": "markdown",
   "metadata": {},
   "source": [
    "次は、複数条件での絞り込みです。同時条件で絞り込む場合はandを使います。"
   ]
  },
  {
   "cell_type": "code",
   "execution_count": 65,
   "metadata": {
    "collapsed": false
   },
   "outputs": [
    {
     "name": "stdout",
     "output_type": "stream",
     "text": [
      "select * from meibo where class=2 and age>=15;\n",
      "+----+----------+-------+------+--------+\r\n",
      "| id | name     | class | age  | height |\r\n",
      "+----+----------+-------+------+--------+\r\n",
      "|  4 | Asou     |     2 |   15 |    150 |\r\n",
      "|  6 | Takeuchi |     2 |   16 |    155 |\r\n",
      "+----+----------+-------+------+--------+\r\n",
      "2 rows in set (0.00 sec)\r\n",
      "\r\n",
      "MariaDB [TEST1]"
     ]
    }
   ],
   "source": [
    "select * from meibo where class=2 and age>=15;"
   ]
  },
  {
   "cell_type": "markdown",
   "metadata": {},
   "source": [
    "次は、or です。どちらか片方の条件を満たすものを絞り込む場合に使います。"
   ]
  },
  {
   "cell_type": "code",
   "execution_count": 66,
   "metadata": {
    "collapsed": false
   },
   "outputs": [
    {
     "name": "stdout",
     "output_type": "stream",
     "text": [
      "select * from meibo where class=1 or age>=15;\n",
      "+----+----------+-------+------+--------+\r\n",
      "| id | name     | class | age  | height |\r\n",
      "+----+----------+-------+------+--------+\r\n",
      "|  1 | Abe      |     1 |   14 |    150 |\r\n",
      "|  3 | Inami    |     1 |   13 |    150 |\r\n",
      "|  4 | Asou     |     2 |   15 |    150 |\r\n",
      "|  6 | Takeuchi |     2 |   16 |    155 |\r\n",
      "+----+----------+-------+------+--------+\r\n",
      "4 rows in set (0.00 sec)\r\n",
      "\r\n",
      "MariaDB [TEST1]"
     ]
    }
   ],
   "source": [
    "select * from meibo where class=1 or age>=15;"
   ]
  },
  {
   "cell_type": "markdown",
   "metadata": {},
   "source": [
    ">**[ポイント]**\n",
    "\n",
    ">count：レコードのカウント\n",
    "\n",
    ">as：エイリアス（名前をつける）\n",
    "\n",
    ">distinct ：重複なく区別する\n",
    "\n",
    ">avg ：平均値\n",
    "\n",
    ">max ：最大値\n",
    "\n",
    ">min ：最小値\n",
    "\n",
    ">order by カラム名：昇順に並び替え（降順はカラム名の後にdesc）"
   ]
  },
  {
   "cell_type": "markdown",
   "metadata": {},
   "source": [
    "#### <練習問題 1>\n",
    "上記と同じmeiboテーブルで、異なる年齢は何種類でしょうか。"
   ]
  },
  {
   "cell_type": "code",
   "execution_count": 68,
   "metadata": {
    "collapsed": false
   },
   "outputs": [
    {
     "name": "stdout",
     "output_type": "stream",
     "text": [
      "select count(distinct age) from meibo; select * from meibo;\n",
      "+---------------------+\r\n",
      "| count(distinct age) |\r\n",
      "+---------------------+\r\n",
      "|                   6 |\r\n",
      "+---------------------+\r\n",
      "1 row in set (0.00 sec)\r\n",
      "\r\n",
      "+----+----------+-------+------+--------+\r\n",
      "| id | name     | class | age  | height |\r\n",
      "+----+----------+-------+------+--------+\r\n",
      "|  1 | Abe      |     1 |   14 |    150 |\r\n",
      "|  2 | Asou     |     2 |   13 |    150 |\r\n",
      "|  3 | Inami    |     1 |   13 |    150 |\r\n",
      "|  4 | Asou     |     2 |   15 |    150 |\r\n",
      "|  5 | Imamura  |     3 |   12 |    155 |\r\n",
      "|  6 | Takeuchi |     2 |   16 |    155 |\r\n",
      "|  7 | Kimura   |     3 |   11 |    160 |\r\n",
      "|  8 | Sato     |     7 |   14 |    160 |\r\n",
      "+----+----------+-------+------+--------+\r\n",
      "8 rows in set (0.00 sec)\r\n",
      "\r\n",
      "MariaDB [TEST1]"
     ]
    }
   ],
   "source": [
    "select count(distinct age) from meibo;\n",
    "select * from meibo"
   ]
  },
  {
   "cell_type": "markdown",
   "metadata": {},
   "source": [
    "#### <練習問題 2>\n",
    "身長が一番小さい人、大きい人の身長をそれぞれ求めてください。"
   ]
  },
  {
   "cell_type": "code",
   "execution_count": 69,
   "metadata": {
    "collapsed": false
   },
   "outputs": [
    {
     "name": "stdout",
     "output_type": "stream",
     "text": [
      "select max(height) as maxHeight, min(height) as minHeight from meibo;\n",
      "+-----------+-----------+\r\n",
      "| maxHeight | minHeight |\r\n",
      "+-----------+-----------+\r\n",
      "|       160 |       150 |\r\n",
      "+-----------+-----------+\r\n",
      "1 row in set (0.00 sec)\r\n",
      "\r\n",
      "MariaDB [TEST1]"
     ]
    }
   ],
   "source": [
    "select max(height) as maxHeight, min(height) as minHeight from meibo"
   ]
  },
  {
   "cell_type": "markdown",
   "metadata": {},
   "source": [
    "#### <練習問題 3>\n",
    "身長が155以上で、classが3のレコードを抽出してください。\n",
    "\n"
   ]
  },
  {
   "cell_type": "code",
   "execution_count": 70,
   "metadata": {
    "collapsed": false
   },
   "outputs": [
    {
     "name": "stdout",
     "output_type": "stream",
     "text": [
      "select * from meibo where height >= 155 and class =3;\n",
      "+----+---------+-------+------+--------+\r\n",
      "| id | name    | class | age  | height |\r\n",
      "+----+---------+-------+------+--------+\r\n",
      "|  5 | Imamura |     3 |   12 |    155 |\r\n",
      "|  7 | Kimura  |     3 |   11 |    160 |\r\n",
      "+----+---------+-------+------+--------+\r\n",
      "2 rows in set (0.00 sec)\r\n",
      "\r\n",
      "MariaDB [TEST1]"
     ]
    }
   ],
   "source": [
    "select * from meibo where height >= 155 and class =3"
   ]
  },
  {
   "cell_type": "markdown",
   "metadata": {},
   "source": [
    "### 5.2.4 グループごとの集計\n",
    "キーワード：group by, having"
   ]
  },
  {
   "cell_type": "markdown",
   "metadata": {},
   "source": [
    "次は、SQLを使ってグループごとに集計してみましょう。似ているのはExcelのピボットテーブルの機能です。ここではクラスを軸にしてみます。次のコマンドは各クラスの人数を数えています。"
   ]
  },
  {
   "cell_type": "code",
   "execution_count": 71,
   "metadata": {
    "collapsed": false
   },
   "outputs": [
    {
     "name": "stdout",
     "output_type": "stream",
     "text": [
      "select class, count(*) as num from meibo group by class;\n",
      "+-------+-----+\r\n",
      "| class | num |\r\n",
      "+-------+-----+\r\n",
      "|     1 |   2 |\r\n",
      "|     2 |   3 |\r\n",
      "|     3 |   2 |\r\n",
      "|     7 |   1 |\r\n",
      "+-------+-----+\r\n",
      "4 rows in set (0.01 sec)\r\n",
      "\r\n",
      "MariaDB [TEST1]"
     ]
    }
   ],
   "source": [
    "select class, count(*) as num from meibo group by class;"
   ]
  },
  {
   "cell_type": "markdown",
   "metadata": {},
   "source": [
    "平均を各グループごとに算出することも可能です。最小値、最大値も同様に算出できます。"
   ]
  },
  {
   "cell_type": "code",
   "execution_count": 72,
   "metadata": {
    "collapsed": false,
    "scrolled": true
   },
   "outputs": [
    {
     "name": "stdout",
     "output_type": "stream",
     "text": [
      "select class, count(*) as num, avg(age) as avgAge from meibo group by class;\n",
      "+-------+-----+---------+\r\n",
      "| class | num | avgAge  |\r\n",
      "+-------+-----+---------+\r\n",
      "|     1 |   2 | 13.5000 |\r\n",
      "|     2 |   3 | 14.6667 |\r\n",
      "|     3 |   2 | 11.5000 |\r\n",
      "|     7 |   1 | 14.0000 |\r\n",
      "+-------+-----+---------+\r\n",
      "4 rows in set (0.00 sec)\r\n",
      "\r\n",
      "MariaDB [TEST1]"
     ]
    }
   ],
   "source": [
    "select class, count(*) as num, avg(age) as avgAge from meibo group by class;"
   ]
  },
  {
   "cell_type": "markdown",
   "metadata": {},
   "source": [
    "さらに条件付きで表示してみましょう。having を使っています。"
   ]
  },
  {
   "cell_type": "code",
   "execution_count": 73,
   "metadata": {
    "collapsed": false
   },
   "outputs": [
    {
     "name": "stdout",
     "output_type": "stream",
     "text": [
      "select class, avg(age) as avgAge from meibo group by class having avgAge>13;\n",
      "+-------+---------+\r\n",
      "| class | avgAge  |\r\n",
      "+-------+---------+\r\n",
      "|     1 | 13.5000 |\r\n",
      "|     2 | 14.6667 |\r\n",
      "|     7 | 14.0000 |\r\n",
      "+-------+---------+\r\n",
      "3 rows in set (0.00 sec)\r\n",
      "\r\n",
      "MariaDB [TEST1]"
     ]
    }
   ],
   "source": [
    "select class, avg(age) as avgAge from meibo group by class having avgAge>13;"
   ]
  },
  {
   "cell_type": "markdown",
   "metadata": {},
   "source": [
    "whereと組み合わせることもできます。"
   ]
  },
  {
   "cell_type": "code",
   "execution_count": 74,
   "metadata": {
    "collapsed": false
   },
   "outputs": [
    {
     "name": "stdout",
     "output_type": "stream",
     "text": [
      "select class, avg(age) as avgAge from meibo where age > 13 group by class;\n",
      "+-------+---------+\r\n",
      "| class | avgAge  |\r\n",
      "+-------+---------+\r\n",
      "|     1 | 14.0000 |\r\n",
      "|     2 | 15.5000 |\r\n",
      "|     7 | 14.0000 |\r\n",
      "+-------+---------+\r\n",
      "3 rows in set (0.01 sec)\r\n",
      "\r\n",
      "MariaDB [TEST1]"
     ]
    }
   ],
   "source": [
    "select class, avg(age) as avgAge from meibo where age > 13 group by class;"
   ]
  },
  {
   "cell_type": "markdown",
   "metadata": {},
   "source": [
    "whereとhavingはどちらも条件を絞っているのですが、whereはselectで抽出された中から条件を絞っていますが、havingはgroup byでグループ化した結果から条件を絞っています。"
   ]
  },
  {
   "cell_type": "markdown",
   "metadata": {},
   "source": [
    "次は、2つの軸を使った集計です。クラス×年齢でレコード数をカウントしています。"
   ]
  },
  {
   "cell_type": "code",
   "execution_count": 75,
   "metadata": {
    "collapsed": false
   },
   "outputs": [
    {
     "name": "stdout",
     "output_type": "stream",
     "text": [
      "select class, age, count(*) as num from meibo group by class,age;\n",
      "+-------+------+-----+\r\n",
      "| class | age  | num |\r\n",
      "+-------+------+-----+\r\n",
      "|     1 |   13 |   1 |\r\n",
      "|     1 |   14 |   1 |\r\n",
      "|     2 |   13 |   1 |\r\n",
      "|     2 |   15 |   1 |\r\n",
      "|     2 |   16 |   1 |\r\n",
      "|     3 |   11 |   1 |\r\n",
      "|     3 |   12 |   1 |\r\n",
      "|     7 |   14 |   1 |\r\n",
      "+-------+------+-----+\r\n",
      "8 rows in set (0.00 sec)\r\n",
      "\r\n",
      "MariaDB [TEST1]"
     ]
    }
   ],
   "source": [
    "select class, age, count(*) as num from meibo group by class,age;"
   ]
  },
  {
   "cell_type": "markdown",
   "metadata": {},
   "source": [
    "番号（順）で指定して集計することも可能です。なお、group by は以下のように、呼び出している列の番号で指定することもできます。ただし、わからなくなる可能性がありますので、簡易集計以外のときにはカラム名を指定することをおすすめします。"
   ]
  },
  {
   "cell_type": "code",
   "execution_count": 45,
   "metadata": {
    "collapsed": false
   },
   "outputs": [
    {
     "name": "stdout",
     "output_type": "stream",
     "text": [
      "select class, age, count(*) as num from meibo group by 1,2;\n",
      "+-------+------+-----+\r\n",
      "| class | age  | num |\r\n",
      "+-------+------+-----+\r\n",
      "|     1 |   13 |   1 |\r\n",
      "|     1 |   14 |   2 |\r\n",
      "|     2 |   13 |   1 |\r\n",
      "|     2 |   15 |   1 |\r\n",
      "|     2 |   16 |   1 |\r\n",
      "|     3 |   11 |   1 |\r\n",
      "|     3 |   12 |   1 |\r\n",
      "+-------+------+-----+\r\n",
      "7 rows in set (0.00 sec)\r\n",
      "\r\n"
     ]
    }
   ],
   "source": [
    "select class, age, count(*) as num from meibo group by 1,2;"
   ]
  },
  {
   "cell_type": "markdown",
   "metadata": {},
   "source": [
    ">**[ポイント]**\n",
    "\n",
    ">group by：軸を設定\n",
    "\n",
    ">having：条件設定"
   ]
  },
  {
   "cell_type": "markdown",
   "metadata": {},
   "source": [
    "#### <練習問題 1>\n",
    "\n",
    "meiboテーブルにてクラスごとの平均身長を求めてみましょう。"
   ]
  },
  {
   "cell_type": "code",
   "execution_count": 78,
   "metadata": {
    "collapsed": false
   },
   "outputs": [
    {
     "name": "stdout",
     "output_type": "stream",
     "text": [
      "select class, avg(height) as avgHeight from meibo group by class;\n",
      "+-------+-----------+\r\n",
      "| class | avgHeight |\r\n",
      "+-------+-----------+\r\n",
      "|     1 |  150.0000 |\r\n",
      "|     2 |  151.6667 |\r\n",
      "|     3 |  157.5000 |\r\n",
      "|     7 |  160.0000 |\r\n",
      "+-------+-----------+\r\n",
      "4 rows in set (0.00 sec)\r\n",
      "\r\n",
      "MariaDB [TEST1]"
     ]
    }
   ],
   "source": [
    "select class, avg(height) as avgHeight from meibo group by class"
   ]
  },
  {
   "cell_type": "markdown",
   "metadata": {},
   "source": [
    "#### <練習問題 2>\n",
    "\n",
    "上に加えて、クラスごとの人数、一番小さい人と、一番大きな人の身長もそれぞれのクラスで算出しましょう。"
   ]
  },
  {
   "cell_type": "code",
   "execution_count": 79,
   "metadata": {
    "collapsed": false
   },
   "outputs": [
    {
     "name": "stdout",
     "output_type": "stream",
     "text": [
      "select class, avg(height) as avgHeight, min(height) as minHeight, max(height) as maxHeight from meibo group by class;\n",
      "+-------+-----------+-----------+-----------+\r\n",
      "| class | avgHeight | minHeight | maxHeight |\r\n",
      "+-------+-----------+-----------+-----------+\r\n",
      "|     1 |  150.0000 |       150 |       150 |\r\n",
      "|     2 |  151.6667 |       150 |       155 |\r\n",
      "|     3 |  157.5000 |       155 |       160 |\r\n",
      "|     7 |  160.0000 |       160 |       160 |\r\n",
      "+-------+-----------+-----------+-----------+\r\n",
      "4 rows in set (0.00 sec)\r\n",
      "\r\n",
      "MariaDB [TEST1]"
     ]
    }
   ],
   "source": [
    "select class, avg(height) as avgHeight, min(height) as minHeight, max(height) as maxHeight from meibo group by class"
   ]
  },
  {
   "cell_type": "markdown",
   "metadata": {},
   "source": [
    "#### <練習問題 3>\n",
    "\n",
    "上記と同じ設定で、年齢が13歳より上の人を抽出してください。"
   ]
  },
  {
   "cell_type": "code",
   "execution_count": 80,
   "metadata": {
    "collapsed": false
   },
   "outputs": [
    {
     "name": "stdout",
     "output_type": "stream",
     "text": [
      "select class, avg(height), min(height), max(height) from meibo where age > 13 group by class;\n",
      "+-------+-------------+-------------+-------------+\r\n",
      "| class | avg(height) | min(height) | max(height) |\r\n",
      "+-------+-------------+-------------+-------------+\r\n",
      "|     1 |    150.0000 |         150 |         150 |\r\n",
      "|     2 |    152.5000 |         150 |         155 |\r\n",
      "|     7 |    160.0000 |         160 |         160 |\r\n",
      "+-------+-------------+-------------+-------------+\r\n",
      "3 rows in set (0.00 sec)\r\n",
      "\r\n",
      "MariaDB [TEST1]"
     ]
    }
   ],
   "source": [
    "select class, avg(height), min(height), max(height) from meibo where age > 13 group by class"
   ]
  },
  {
   "cell_type": "markdown",
   "metadata": {},
   "source": [
    "### 5.2.5 複数テーブルの利用\n",
    "キーワード：union,union all, inner join, outer join,内部結合、外部結合、自己結合"
   ]
  },
  {
   "cell_type": "markdown",
   "metadata": {},
   "source": [
    "次は複数のテーブルを使って、データを操作してみましょう。準備のため、テーブルを作成します。テーブルの作成は以前に学んだ方法でも作成できますが、再び作成するのは面倒なので、すでに作成したテーブルを「コピー」しましょう。以下のように create で新規に作成するテーブル名を指定した後、\"like コピー元のテーブル名\" とつづけることでテーブル構造を丸ごとコピーできます。"
   ]
  },
  {
   "cell_type": "code",
   "execution_count": 81,
   "metadata": {
    "collapsed": false
   },
   "outputs": [
    {
     "name": "stdout",
     "output_type": "stream",
     "text": [
      "/*前のテーブルは使わないので、一旦削除します*/ drop table if exists meibo2;\n",
      " Query OK, 0 rows affected, 1 warning (0.01 sec)\r\n",
      "\r\n",
      "MariaDB [TEST1]"
     ]
    }
   ],
   "source": [
    "/*前のテーブルは使わないので、一旦削除します*/\n",
    "drop table if exists meibo2;"
   ]
  },
  {
   "cell_type": "code",
   "execution_count": 82,
   "metadata": {
    "collapsed": false,
    "scrolled": true
   },
   "outputs": [
    {
     "name": "stdout",
     "output_type": "stream",
     "text": [
      "create table meibo2 like meibo;\n",
      " Query OK, 0 rows affected (0.01 sec)\r\n",
      "\r\n",
      "MariaDB [TEST1]"
     ]
    }
   ],
   "source": [
    "create table meibo2 like meibo;"
   ]
  },
  {
   "cell_type": "markdown",
   "metadata": {},
   "source": [
    "確認してみましょう。テーブルの構造をチェックするときは、descを使います。"
   ]
  },
  {
   "cell_type": "code",
   "execution_count": 83,
   "metadata": {
    "collapsed": false
   },
   "outputs": [
    {
     "name": "stdout",
     "output_type": "stream",
     "text": [
      "/*テーブル*/ desc meibo2; /*データの確認*/ select * from  meibo2;\n",
      "+--------+-------------+------+-----+---------+-------+\r\n",
      "| Field  | Type        | Null | Key | Default | Extra |\r\n",
      "+--------+-------------+------+-----+---------+-------+\r\n",
      "| id     | int(11)     | NO   | PRI | NULL    |       |\r\n",
      "| name   | varchar(20) | YES  |     | NULL    |       |\r\n",
      "| class  | int(11)     | YES  |     | NULL    |       |\r\n",
      "| age    | int(11)     | YES  |     | NULL    |       |\r\n",
      "| height | int(11)     | YES  |     | NULL    |       |\r\n",
      "+--------+-------------+------+-----+---------+-------+\r\n",
      "5 rows in set (0.01 sec)\r\n",
      "\r\n",
      "Empty set (0.00 sec)\r\n",
      "\r\n",
      "MariaDB [TEST1]"
     ]
    }
   ],
   "source": [
    "/*テーブル*/\n",
    "desc meibo2;\n",
    "\n",
    "/*データの確認*/\n",
    "select * from  meibo2;"
   ]
  },
  {
   "cell_type": "markdown",
   "metadata": {},
   "source": [
    "データを追加します。なお、１行目はわざとmeiboにある同じデータ（Yamada）を入れています。結果を確認してみてください。"
   ]
  },
  {
   "cell_type": "code",
   "execution_count": 85,
   "metadata": {
    "collapsed": false
   },
   "outputs": [
    {
     "name": "stdout",
     "output_type": "stream",
     "text": [
      "insert into meibo2 (id,name,class,age,height) values (1,\"Abe\",1,14,150), (9,\"Nagata\",4,11,160), (10,\"Sugino\",2,13,150), (11,\"Takayama\",1,14,155), (12,\"Jon\",3,16,165);\n",
      " Query OK, 5 rows affected (0.00 sec)\r\n",
      "Records: 5  Duplicates: 0  Warnings: 0\r\n",
      "\r\n",
      "MariaDB [TEST1]"
     ]
    }
   ],
   "source": [
    "insert into meibo2 (id,name,class,age,height)\n",
    " values (1,\"Abe\",1,14,150),\n",
    "        (9,\"Nagata\",4,11,160),\n",
    "        (10,\"Sugino\",2,13,150),\n",
    "        (11,\"Takayama\",1,14,155),\n",
    "        (12,\"Jon\",3,16,165);"
   ]
  },
  {
   "cell_type": "code",
   "execution_count": 86,
   "metadata": {
    "collapsed": false
   },
   "outputs": [
    {
     "name": "stdout",
     "output_type": "stream",
     "text": [
      "select * from  meibo2;\n",
      "+----+----------+-------+------+--------+\r\n",
      "| id | name     | class | age  | height |\r\n",
      "+----+----------+-------+------+--------+\r\n",
      "|  1 | Abe      |     1 |   14 |    150 |\r\n",
      "|  9 | Nagata   |     4 |   11 |    160 |\r\n",
      "| 10 | Sugino   |     2 |   13 |    150 |\r\n",
      "| 11 | Takayama |     1 |   14 |    155 |\r\n",
      "| 12 | Jon      |     3 |   16 |    165 |\r\n",
      "+----+----------+-------+------+--------+\r\n",
      "5 rows in set (0.00 sec)\r\n",
      "\r\n",
      "MariaDB [TEST1]"
     ]
    }
   ],
   "source": [
    "select * from  meibo2;"
   ]
  },
  {
   "cell_type": "markdown",
   "metadata": {},
   "source": [
    "データを結合してみましょう。unionを使います。なお、unionは重複レコードは省きますが、union allは重複も許容します。id=1の人がunion allの場合2レコードあるのがわかります。"
   ]
  },
  {
   "cell_type": "code",
   "execution_count": 87,
   "metadata": {
    "collapsed": false
   },
   "outputs": [
    {
     "name": "stdout",
     "output_type": "stream",
     "text": [
      "select * from  meibo union select * from  meibo2;\n",
      "+----+----------+-------+------+--------+\r\n",
      "| id | name     | class | age  | height |\r\n",
      "+----+----------+-------+------+--------+\r\n",
      "|  1 | Abe      |     1 |   14 |    150 |\r\n",
      "|  2 | Asou     |     2 |   13 |    150 |\r\n",
      "|  3 | Inami    |     1 |   13 |    150 |\r\n",
      "|  4 | Asou     |     2 |   15 |    150 |\r\n",
      "|  5 | Imamura  |     3 |   12 |    155 |\r\n",
      "|  6 | Takeuchi |     2 |   16 |    155 |\r\n",
      "|  7 | Kimura   |     3 |   11 |    160 |\r\n",
      "|  8 | Sato     |     7 |   14 |    160 |\r\n",
      "|  9 | Nagata   |     4 |   11 |    160 |\r\n",
      "| 10 | Sugino   |     2 |   13 |    150 |\r\n",
      "| 11 | Takayama |     1 |   14 |    155 |\r\n",
      "| 12 | Jon      |     3 |   16 |    165 |\r\n",
      "+----+----------+-------+------+--------+\r\n",
      "12 rows in set (0.00 sec)\r\n",
      "\r\n",
      "MariaDB [TEST1]"
     ]
    }
   ],
   "source": [
    "select * from  meibo\n",
    "union\n",
    "select * from  meibo2;"
   ]
  },
  {
   "cell_type": "code",
   "execution_count": 88,
   "metadata": {
    "collapsed": false
   },
   "outputs": [
    {
     "name": "stdout",
     "output_type": "stream",
     "text": [
      "select * from  meibo union all select * from  meibo2;\n",
      "+----+----------+-------+------+--------+\r\n",
      "| id | name     | class | age  | height |\r\n",
      "+----+----------+-------+------+--------+\r\n",
      "|  1 | Abe      |     1 |   14 |    150 |\r\n",
      "|  2 | Asou     |     2 |   13 |    150 |\r\n",
      "|  3 | Inami    |     1 |   13 |    150 |\r\n",
      "|  4 | Asou     |     2 |   15 |    150 |\r\n",
      "|  5 | Imamura  |     3 |   12 |    155 |\r\n",
      "|  6 | Takeuchi |     2 |   16 |    155 |\r\n",
      "|  7 | Kimura   |     3 |   11 |    160 |\r\n",
      "|  8 | Sato     |     7 |   14 |    160 |\r\n",
      "|  1 | Abe      |     1 |   14 |    150 |\r\n",
      "|  9 | Nagata   |     4 |   11 |    160 |\r\n",
      "| 10 | Sugino   |     2 |   13 |    150 |\r\n",
      "| 11 | Takayama |     1 |   14 |    155 |\r\n",
      "| 12 | Jon      |     3 |   16 |    165 |\r\n",
      "+----+----------+-------+------+--------+\r\n",
      "13 rows in set (0.00 sec)\r\n",
      "\r\n",
      "MariaDB [TEST1]"
     ]
    }
   ],
   "source": [
    "select * from  meibo\n",
    "union all\n",
    "select * from  meibo2;"
   ]
  },
  {
   "cell_type": "markdown",
   "metadata": {},
   "source": [
    "テストのスコアテーブルを作成して、このmeiboテーブルと結合してみましょう。"
   ]
  },
  {
   "cell_type": "code",
   "execution_count": 89,
   "metadata": {
    "collapsed": false
   },
   "outputs": [
    {
     "name": "stdout",
     "output_type": "stream",
     "text": [
      "create table score (id int primary key, math int, english int,science int) engine = MyISAM default charset = utf8;\n",
      " Query OK, 0 rows affected (0.00 sec)\r\n",
      "\r\n",
      "MariaDB [TEST1]"
     ]
    }
   ],
   "source": [
    "create table score\n",
    "  (id int primary key, math int, english int,science int)\n",
    "  engine = MyISAM\n",
    "  default charset = utf8;"
   ]
  },
  {
   "cell_type": "code",
   "execution_count": 90,
   "metadata": {
    "collapsed": false
   },
   "outputs": [
    {
     "name": "stdout",
     "output_type": "stream",
     "text": [
      "desc score;\n",
      "+---------+---------+------+-----+---------+-------+\r\n",
      "| Field   | Type    | Null | Key | Default | Extra |\r\n",
      "+---------+---------+------+-----+---------+-------+\r\n",
      "| id      | int(11) | NO   | PRI | NULL    |       |\r\n",
      "| math    | int(11) | YES  |     | NULL    |       |\r\n",
      "| english | int(11) | YES  |     | NULL    |       |\r\n",
      "| science | int(11) | YES  |     | NULL    |       |\r\n",
      "+---------+---------+------+-----+---------+-------+\r\n",
      "4 rows in set (0.00 sec)\r\n",
      "\r\n",
      "MariaDB [TEST1]"
     ]
    }
   ],
   "source": [
    "desc score;"
   ]
  },
  {
   "cell_type": "markdown",
   "metadata": {},
   "source": [
    "scoreテーブルにサンプルデータを挿入します。"
   ]
  },
  {
   "cell_type": "code",
   "execution_count": 91,
   "metadata": {
    "collapsed": false
   },
   "outputs": [
    {
     "name": "stdout",
     "output_type": "stream",
     "text": [
      "insert into score (id,math,english,science) values (1,10,10,40),(2,NULL,60,100),(3,30,40,60), (5,25,31,10),(6,50,30,10),(8,90,100,90), (9,67,71,50),(11,100,40,88),(15,76,21,13);\n",
      " Query OK, 9 rows affected (0.00 sec)\r\n",
      "Records: 9  Duplicates: 0  Warnings: 0\r\n",
      "\r\n",
      "MariaDB [TEST1]"
     ]
    }
   ],
   "source": [
    "insert into score (id,math,english,science) \n",
    " values (1,10,10,40),(2,NULL,60,100),(3,30,40,60),\n",
    "        (5,25,31,10),(6,50,30,10),(8,90,100,90),\n",
    "        (9,67,71,50),(11,100,40,88),(15,76,21,13);"
   ]
  },
  {
   "cell_type": "markdown",
   "metadata": {},
   "source": [
    "念のためデータが入っているかどうか確認します。"
   ]
  },
  {
   "cell_type": "code",
   "execution_count": 92,
   "metadata": {
    "collapsed": false,
    "scrolled": true
   },
   "outputs": [
    {
     "name": "stdout",
     "output_type": "stream",
     "text": [
      "select * from score;\n",
      "+----+------+---------+---------+\r\n",
      "| id | math | english | science |\r\n",
      "+----+------+---------+---------+\r\n",
      "|  1 |   10 |      10 |      40 |\r\n",
      "|  2 | NULL |      60 |     100 |\r\n",
      "|  3 |   30 |      40 |      60 |\r\n",
      "|  5 |   25 |      31 |      10 |\r\n",
      "|  6 |   50 |      30 |      10 |\r\n",
      "|  8 |   90 |     100 |      90 |\r\n",
      "|  9 |   67 |      71 |      50 |\r\n",
      "| 11 |  100 |      40 |      88 |\r\n",
      "| 15 |   76 |      21 |      13 |\r\n",
      "+----+------+---------+---------+\r\n",
      "9 rows in set (0.01 sec)\r\n",
      "\r\n",
      "MariaDB [TEST1]"
     ]
    }
   ],
   "source": [
    "select * from score;"
   ]
  },
  {
   "cell_type": "markdown",
   "metadata": {},
   "source": [
    "以下でidをキーに内部結合しています。テーブル名の後に別名を簡単に付けて（meibo はa、scoreはb）います。"
   ]
  },
  {
   "cell_type": "code",
   "execution_count": 26,
   "metadata": {
    "collapsed": false
   },
   "outputs": [
    {
     "name": "stdout",
     "output_type": "stream",
     "text": [
      "select * from meibo a join score b on a.id=b.id;\n",
      "+----+----------+-------+------+--------+----+------+---------+---------+\r\n",
      "| id | name     | class | age  | height | id | math | english | science |\r\n",
      "+----+----------+-------+------+--------+----+------+---------+---------+\r\n",
      "|  1 | Abe      |     1 |   14 |    150 |  1 |   10 |      10 |      40 |\r\n",
      "|  2 | Asou     |     2 |   13 |    150 |  2 | NULL |      60 |     100 |\r\n",
      "|  3 | Inami    |     1 |   13 |    150 |  3 |   30 |      40 |      60 |\r\n",
      "|  5 | Imamura  |     3 |   12 |    155 |  5 |   25 |      31 |      10 |\r\n",
      "|  6 | Takeuchi |     2 |   16 |    155 |  6 |   50 |      30 |      10 |\r\n",
      "|  8 | Sato     |     7 |   14 |    160 |  8 |   90 |     100 |      90 |\r\n",
      "+----+----------+-------+------+--------+----+------+---------+---------+\r\n",
      "6 rows in set (0.00 sec)\r\n",
      "\r\n",
      "MariaDB [TEST1]"
     ]
    }
   ],
   "source": [
    "select * from meibo a join score b on a.id=b.id;"
   ]
  },
  {
   "cell_type": "markdown",
   "metadata": {},
   "source": [
    "idをキーに外部結合(左)しています。左にあるテーブルがベースになります。右にデータがいない場合は、NULLになります。"
   ]
  },
  {
   "cell_type": "code",
   "execution_count": 57,
   "metadata": {
    "collapsed": false
   },
   "outputs": [
    {
     "name": "stdout",
     "output_type": "stream",
     "text": [
      "select * from meibo a left join score b on a.id=b.id;\n",
      "+----+----------+-------+------+------+------+---------+---------+\r\n",
      "| id | name     | class | age  | id   | math | english | science |\r\n",
      "+----+----------+-------+------+------+------+---------+---------+\r\n",
      "|  1 | Yamada   |     1 |   14 |    1 |   10 |      10 |      40 |\r\n",
      "|  2 | Tanaka   |     2 |   13 |    2 | NULL |      60 |     100 |\r\n",
      "|  3 | Suzuki   |     1 |   13 |    3 |   30 |      40 |      60 |\r\n",
      "|  4 | Kato     |     2 |   15 | NULL | NULL |    NULL |    NULL |\r\n",
      "|  5 | Ito      |     3 |   12 |    5 |   25 |      31 |      10 |\r\n",
      "|  6 | Takeuchi |     2 |   16 |    6 |   50 |      30 |      10 |\r\n",
      "|  7 | Kimura   |     3 |   11 | NULL | NULL |    NULL |    NULL |\r\n",
      "|  8 | Sato     |     1 |   14 |    8 |   90 |     100 |      90 |\r\n",
      "+----+----------+-------+------+------+------+---------+---------+\r\n",
      "8 rows in set (0.00 sec)\r\n",
      "\r\n"
     ]
    }
   ],
   "source": [
    "select * from meibo a left join score b on a.id=b.id;"
   ]
  },
  {
   "cell_type": "markdown",
   "metadata": {},
   "source": [
    "以下は、参考ですが、自分自身のテーブルと結合をする自己結合も可能です。どんな活用方法があるかは次の章で解説します。"
   ]
  },
  {
   "cell_type": "code",
   "execution_count": 58,
   "metadata": {
    "collapsed": false
   },
   "outputs": [
    {
     "name": "stdout",
     "output_type": "stream",
     "text": [
      "select * from meibo a join meibo b on a.id=b.id;\n",
      "+----+----------+-------+------+----+----------+-------+------+\r\n",
      "| id | name     | class | age  | id | name     | class | age  |\r\n",
      "+----+----------+-------+------+----+----------+-------+------+\r\n",
      "|  1 | Yamada   |     1 |   14 |  1 | Yamada   |     1 |   14 |\r\n",
      "|  2 | Tanaka   |     2 |   13 |  2 | Tanaka   |     2 |   13 |\r\n",
      "|  3 | Suzuki   |     1 |   13 |  3 | Suzuki   |     1 |   13 |\r\n",
      "|  4 | Kato     |     2 |   15 |  4 | Kato     |     2 |   15 |\r\n",
      "|  5 | Ito      |     3 |   12 |  5 | Ito      |     3 |   12 |\r\n",
      "|  6 | Takeuchi |     2 |   16 |  6 | Takeuchi |     2 |   16 |\r\n",
      "|  7 | Kimura   |     3 |   11 |  7 | Kimura   |     3 |   11 |\r\n",
      "|  8 | Sato     |     1 |   14 |  8 | Sato     |     1 |   14 |\r\n",
      "+----+----------+-------+------+----+----------+-------+------+\r\n",
      "8 rows in set (0.00 sec)\r\n",
      "\r\n"
     ]
    }
   ],
   "source": [
    "select * from meibo a join meibo b on a.id=b.id;"
   ]
  },
  {
   "cell_type": "markdown",
   "metadata": {},
   "source": [
    ">**[ポイント]**\n",
    "\n",
    ">union：重複を除いた結合\n",
    "\n",
    ">union all：重複ありの結合\n",
    "\n",
    ">inner join：内部結合\n",
    "\n",
    ">left outer join：外部結合"
   ]
  },
  {
   "cell_type": "markdown",
   "metadata": {},
   "source": [
    "#### <練習問題 1>\n",
    "\n",
    "新しくcardtbというテーブルを作成してください。ただし、カラムはid,point,money (すべてint)にしてください。さらに、以下のデータを挿入してください。<br>(id,point,money) = (1,100,1000),(2,NULL,60),(3,50,500),(4,30,600),(5,10,10),(6,NULL,40),(7,100,1000),(8,2000,100)"
   ]
  },
  {
   "cell_type": "code",
   "execution_count": 93,
   "metadata": {
    "collapsed": false
   },
   "outputs": [
    {
     "name": "stdout",
     "output_type": "stream",
     "text": [
      "create table cardtb (id int, point int, money int); insert into cardtb (id, point, money) values (1,100,1000),(2,NULL,60),(3,50,500),(4,30,600),(5,10,10),(6,NULL,40),(7,100,1000),(8,2000,100);\n",
      " Query OK, 0 rows affected (0.02 sec)\r\n",
      "\r\n",
      "Query OK, 8 rows affected (0.00 sec)\r\n",
      "Records: 8  Duplicates: 0  Warnings: 0\r\n",
      "\r\n",
      "MariaDB [TEST1]"
     ]
    }
   ],
   "source": [
    "create table cardtb\n",
    "(id int, point int, money int);\n",
    "insert into cardtb (id, point, money)\n",
    "values (1,100,1000),(2,NULL,60),(3,50,500),(4,30,600),(5,10,10),(6,NULL,40),(7,100,1000),(8,2000,100);"
   ]
  },
  {
   "cell_type": "code",
   "execution_count": 94,
   "metadata": {
    "collapsed": false
   },
   "outputs": [
    {
     "name": "stdout",
     "output_type": "stream",
     "text": [
      "select * from cardtb;\n",
      "+------+-------+-------+\r\n",
      "| id   | point | money |\r\n",
      "+------+-------+-------+\r\n",
      "|    1 |   100 |  1000 |\r\n",
      "|    2 |  NULL |    60 |\r\n",
      "|    3 |    50 |   500 |\r\n",
      "|    4 |    30 |   600 |\r\n",
      "|    5 |    10 |    10 |\r\n",
      "|    6 |  NULL |    40 |\r\n",
      "|    7 |   100 |  1000 |\r\n",
      "|    8 |  2000 |   100 |\r\n",
      "+------+-------+-------+\r\n",
      "8 rows in set (0.00 sec)\r\n",
      "\r\n",
      "MariaDB [TEST1]"
     ]
    }
   ],
   "source": [
    "select * from cardtb"
   ]
  },
  {
   "cell_type": "markdown",
   "metadata": {},
   "source": [
    "#### <練習問題 2>\n",
    "\n",
    "meiboテーブルにidをキーとして、上記のテーブルを内部結合させてください。"
   ]
  },
  {
   "cell_type": "code",
   "execution_count": 95,
   "metadata": {
    "collapsed": false
   },
   "outputs": [
    {
     "name": "stdout",
     "output_type": "stream",
     "text": [
      "select * from meibo join cardtb on meibo.id = cardtb.id;\n",
      "+----+----------+-------+------+--------+------+-------+-------+\r\n",
      "| id | name     | class | age  | height | id   | point | money |\r\n",
      "+----+----------+-------+------+--------+------+-------+-------+\r\n",
      "|  1 | Abe      |     1 |   14 |    150 |    1 |   100 |  1000 |\r\n",
      "|  2 | Asou     |     2 |   13 |    150 |    2 |  NULL |    60 |\r\n",
      "|  3 | Inami    |     1 |   13 |    150 |    3 |    50 |   500 |\r\n",
      "|  4 | Asou     |     2 |   15 |    150 |    4 |    30 |   600 |\r\n",
      "|  5 | Imamura  |     3 |   12 |    155 |    5 |    10 |    10 |\r\n",
      "|  6 | Takeuchi |     2 |   16 |    155 |    6 |  NULL |    40 |\r\n",
      "|  7 | Kimura   |     3 |   11 |    160 |    7 |   100 |  1000 |\r\n",
      "|  8 | Sato     |     7 |   14 |    160 |    8 |  2000 |   100 |\r\n",
      "+----+----------+-------+------+--------+------+-------+-------+\r\n",
      "8 rows in set (0.00 sec)\r\n",
      "\r\n",
      "MariaDB [TEST1]"
     ]
    }
   ],
   "source": [
    "select * from meibo join cardtb on meibo.id = cardtb.id"
   ]
  },
  {
   "cell_type": "markdown",
   "metadata": {},
   "source": [
    "#### <練習問題 3>\n",
    "meiboテーブルにidをキーとして、上記のテーブルを外部結合させてください。"
   ]
  },
  {
   "cell_type": "code",
   "execution_count": 96,
   "metadata": {
    "collapsed": false
   },
   "outputs": [
    {
     "name": "stdout",
     "output_type": "stream",
     "text": [
      "select * from meibo left join cardtb on meibo.id = cardtb.id;\n",
      "+----+----------+-------+------+--------+------+-------+-------+\r\n",
      "| id | name     | class | age  | height | id   | point | money |\r\n",
      "+----+----------+-------+------+--------+------+-------+-------+\r\n",
      "|  1 | Abe      |     1 |   14 |    150 |    1 |   100 |  1000 |\r\n",
      "|  2 | Asou     |     2 |   13 |    150 |    2 |  NULL |    60 |\r\n",
      "|  3 | Inami    |     1 |   13 |    150 |    3 |    50 |   500 |\r\n",
      "|  4 | Asou     |     2 |   15 |    150 |    4 |    30 |   600 |\r\n",
      "|  5 | Imamura  |     3 |   12 |    155 |    5 |    10 |    10 |\r\n",
      "|  6 | Takeuchi |     2 |   16 |    155 |    6 |  NULL |    40 |\r\n",
      "|  7 | Kimura   |     3 |   11 |    160 |    7 |   100 |  1000 |\r\n",
      "|  8 | Sato     |     7 |   14 |    160 |    8 |  2000 |   100 |\r\n",
      "+----+----------+-------+------+--------+------+-------+-------+\r\n",
      "8 rows in set (0.00 sec)\r\n",
      "\r\n",
      "MariaDB [TEST1]"
     ]
    }
   ],
   "source": [
    "select * from meibo left join cardtb on meibo.id = cardtb.id"
   ]
  },
  {
   "cell_type": "markdown",
   "metadata": {},
   "source": [
    "### 5.2.6 case文とサブクエリ\n",
    "キーワード：case文、サブクエリ"
   ]
  },
  {
   "cell_type": "markdown",
   "metadata": {},
   "source": [
    "データを処理していると、条件分岐をし、それぞれを集計したいという場合があります。SQLでは条件分岐処理もできます。以下では、クラス番号が「1,2,3」ならば、それぞれ「A,B,C」というクラス名(className)が付与されるようにしています。"
   ]
  },
  {
   "cell_type": "code",
   "execution_count": 101,
   "metadata": {
    "collapsed": false
   },
   "outputs": [
    {
     "name": "stdout",
     "output_type": "stream",
     "text": [
      "select id, name ,case when class = 1 then \"A\" when class = 2 then \"B\" when class = 3 then \"C\" else \"others\" end as className from meibo;\n",
      "+----+----------+-----------+\r\n",
      "| id | name     | className |\r\n",
      "+----+----------+-----------+\r\n",
      "|  1 | Abe      | A         |\r\n",
      "|  2 | Asou     | B         |\r\n",
      "|  3 | Inami    | A         |\r\n",
      "|  4 | Asou     | B         |\r\n",
      "|  5 | Imamura  | C         |\r\n",
      "|  6 | Takeuchi | B         |\r\n",
      "|  7 | Kimura   | C         |\r\n",
      "|  8 | Sato     | others    |\r\n",
      "+----+----------+-----------+\r\n",
      "8 rows in set (0.00 sec)\r\n",
      "\r\n",
      "MariaDB [TEST1]"
     ]
    }
   ],
   "source": [
    "select \n",
    "     id, name\n",
    "    ,case \n",
    "        when class = 1 then \"A\"\n",
    "        when class = 2 then \"B\"\n",
    "        when class = 3 then \"C\"\n",
    "        else \"others\" \n",
    "    end as className\n",
    "from \n",
    "    meibo;"
   ]
  },
  {
   "cell_type": "markdown",
   "metadata": {},
   "source": [
    "次は「サブクエリ」といいます。サブクエリを使用すると、元となるテーブルから必要な情報を取り出し、さらにそれをテーブルとして取り扱うことができます。この例ではmeiboテーブルの内容をサブクエリを用いてテーブルbとして扱っています。"
   ]
  },
  {
   "cell_type": "code",
   "execution_count": 103,
   "metadata": {
    "collapsed": false
   },
   "outputs": [
    {
     "name": "stdout",
     "output_type": "stream",
     "text": [
      "select b.name,b.age from (select a.age,a.name from meibo a where a.class = 1) b;\n",
      "+-------+------+\r\n",
      "| name  | age  |\r\n",
      "+-------+------+\r\n",
      "| Abe   |   14 |\r\n",
      "| Inami |   13 |\r\n",
      "+-------+------+\r\n",
      "2 rows in set (0.00 sec)\r\n",
      "\r\n",
      "MariaDB [TEST1]"
     ]
    }
   ],
   "source": [
    "select b.name,b.age from \n",
    " (select a.age,a.name from meibo a where a.class = 1) b;"
   ]
  },
  {
   "cell_type": "markdown",
   "metadata": {},
   "source": [
    "なお、上記はカラム名を指定していますが、全てのカラムをもってきたい場合は、エイリアス名の後にドットアスタリスク（.*）をつけます。"
   ]
  },
  {
   "cell_type": "code",
   "execution_count": 61,
   "metadata": {
    "collapsed": false
   },
   "outputs": [
    {
     "name": "stdout",
     "output_type": "stream",
     "text": [
      "select b.* from (select a.* from meibo a where a.class = 1) b;\n",
      "+----+--------+-------+------+\r\n",
      "| id | name   | class | age  |\r\n",
      "+----+--------+-------+------+\r\n",
      "|  1 | Yamada |     1 |   14 |\r\n",
      "|  3 | Suzuki |     1 |   13 |\r\n",
      "|  8 | Sato   |     1 |   14 |\r\n",
      "+----+--------+-------+------+\r\n",
      "3 rows in set (0.00 sec)\r\n",
      "\r\n"
     ]
    }
   ],
   "source": [
    "select b.* from \n",
    " (select a.* from meibo a where a.class = 1) b;"
   ]
  },
  {
   "cell_type": "markdown",
   "metadata": {},
   "source": [
    "以上で、SQLの基礎的な操作は完了です。練習問題の後は、ビューについて学びます。"
   ]
  },
  {
   "cell_type": "markdown",
   "metadata": {},
   "source": [
    ">**[ポイント]**\n",
    "\n",
    ">case when 条件 then A else B end as カラム名設定：条件分岐"
   ]
  },
  {
   "cell_type": "markdown",
   "metadata": {},
   "source": [
    "#### <練習問題 1>\n",
    "\n",
    "meiboテーブルで、highが155未満の場合は\"below_155\"、155ぴったりならば\"equal_155\"、155より大きいならば\"over_155\"と名付けて、テーブルを表示させてください。"
   ]
  },
  {
   "cell_type": "code",
   "execution_count": 106,
   "metadata": {
    "collapsed": false
   },
   "outputs": [
    {
     "name": "stdout",
     "output_type": "stream",
     "text": [
      "select id,name ,case when height < 155 then 'below_155' when height = 155 then 'equal_155' when height > 155 then 'over_155' else 'others' end as highlevel from meibo;\n",
      "+----+----------+-----------+\r\n",
      "| id | name     | highlevel |\r\n",
      "+----+----------+-----------+\r\n",
      "|  1 | Abe      | below_155 |\r\n",
      "|  2 | Asou     | below_155 |\r\n",
      "|  3 | Inami    | below_155 |\r\n",
      "|  4 | Asou     | below_155 |\r\n",
      "|  5 | Imamura  | equal_155 |\r\n",
      "|  6 | Takeuchi | equal_155 |\r\n",
      "|  7 | Kimura   | over_155  |\r\n",
      "|  8 | Sato     | over_155  |\r\n",
      "+----+----------+-----------+\r\n",
      "8 rows in set (0.00 sec)\r\n",
      "\r\n",
      "MariaDB [TEST1]"
     ]
    }
   ],
   "source": [
    "select id,name\n",
    "    ,case\n",
    "        when height < 155 then 'below_155'\n",
    "        when height = 155 then 'equal_155'\n",
    "        when height > 155 then 'over_155'\n",
    "        else 'others'\n",
    "    end as highlevel\n",
    "from meibo"
   ]
  },
  {
   "cell_type": "markdown",
   "metadata": {},
   "source": [
    "#### <練習問題 2>\n",
    "上記のテーブルとサブクエリの考え方を利用して、それぞれのhighlevelの人数を求めてください。"
   ]
  },
  {
   "cell_type": "code",
   "execution_count": 108,
   "metadata": {
    "collapsed": false
   },
   "outputs": [
    {
     "name": "stdout",
     "output_type": "stream",
     "text": [
      "select b.highlevel, count(b.id) from ( select id, case when height < 155 then 'below_155' when height = 155 then 'equal_155' when height > 155 then 'over_155' end as highlevel from meibo ) b group by b.highlevel;\n",
      "+-----------+-------------+\r\n",
      "| highlevel | count(b.id) |\r\n",
      "+-----------+-------------+\r\n",
      "| below_155 |           4 |\r\n",
      "| equal_155 |           2 |\r\n",
      "| over_155  |           2 |\r\n",
      "+-----------+-------------+\r\n",
      "3 rows in set (0.00 sec)\r\n",
      "\r\n",
      "MariaDB [TEST1]"
     ]
    }
   ],
   "source": [
    "select b.highlevel, count(b.id)\n",
    "    from (\n",
    "        select id,\n",
    "            case\n",
    "                when height < 155 then 'below_155'\n",
    "                when height = 155 then 'equal_155'\n",
    "                when height > 155 then 'over_155'\n",
    "            end as highlevel\n",
    "        from meibo\n",
    "    ) b\n",
    "    group by b.highlevel"
   ]
  },
  {
   "cell_type": "markdown",
   "metadata": {},
   "source": [
    "#### <練習問題 3>\n",
    "上記のテーブルとサブクエリの考え方を利用して、それぞれのhighlevelの平均年齢を求めてください。"
   ]
  },
  {
   "cell_type": "code",
   "execution_count": 9,
   "metadata": {
    "collapsed": false
   },
   "outputs": [
    {
     "name": "stdout",
     "output_type": "stream",
     "text": [
      "select b.highlevel, avg(b.age) from ( select age, case when height < 155 then 'below_155' when height = 155 then 'equal_155' when height > 155 then 'over_155' end as highlevel from meibo ) b group by b.highlevel;\n",
      "+-----------+------------+\r\n",
      "| highlevel | avg(b.age) |\r\n",
      "+-----------+------------+\r\n",
      "| below_155 |    13.7500 |\r\n",
      "| equal_155 |    14.0000 |\r\n",
      "| over_155  |    12.5000 |\r\n",
      "+-----------+------------+\r\n",
      "3 rows in set (0.00 sec)\r\n",
      "\r\n",
      "MariaDB [TEST1]"
     ]
    }
   ],
   "source": [
    "select b.highlevel, avg(b.age)\n",
    "    from (\n",
    "        select age,\n",
    "            case\n",
    "                when height < 155 then 'below_155'\n",
    "                when height = 155 then 'equal_155'\n",
    "                when height > 155 then 'over_155'\n",
    "            end as highlevel\n",
    "        from meibo\n",
    "    ) b\n",
    "    group by b.highlevel"
   ]
  },
  {
   "cell_type": "markdown",
   "metadata": {},
   "source": [
    "## 5.3 ビュー\n",
    "ゴール：ビューの概念を理解し、作成や操作ができる"
   ]
  },
  {
   "cell_type": "markdown",
   "metadata": {},
   "source": [
    "### 5.3.1 ビュー\n",
    "キーワード：ビュー"
   ]
  },
  {
   "cell_type": "markdown",
   "metadata": {},
   "source": [
    "次は、ビューについて学びます。これまでは、直接テーブルからデータを問い合わせて、必要な情報を取得していましたが、毎回条件を設定して各テーブルからデータを抽出するのは、少し面倒です。とはいえ、必要な情報を各テーブルから取得したテーブルを作成したとしても、元データの更新のたびにそのテーブルも更新する必要があるので、やはり面倒です。このようなとき、ビューを活用することで、常に最新のデータを簡単に抽出することができるようになります。ビューは、あらかじめ検索する方法を記録させておく仮想のテーブルです。\n",
    "\n",
    "ビューの作成方法はテーブルとほぼ同じで、create viewを使います。まずは、簡単な例からみていきましょう。meiboテーブルから、idとnameだけを持ってくるビューを作成しています。"
   ]
  },
  {
   "cell_type": "code",
   "execution_count": 10,
   "metadata": {
    "collapsed": false
   },
   "outputs": [
    {
     "name": "stdout",
     "output_type": "stream",
     "text": [
      "create view v1 as select id,name from meibo;\n",
      " Query OK, 0 rows affected (0.01 sec)\r\n",
      "\r\n",
      "MariaDB [TEST1]"
     ]
    }
   ],
   "source": [
    "create view v1\n",
    "    as\n",
    "select id,name\n",
    "    from meibo;"
   ]
  },
  {
   "cell_type": "markdown",
   "metadata": {},
   "source": [
    "新しいビューができているか見てみましょう。やり方は以前学んだ方法と同じです。"
   ]
  },
  {
   "cell_type": "code",
   "execution_count": 11,
   "metadata": {
    "collapsed": false
   },
   "outputs": [
    {
     "name": "stdout",
     "output_type": "stream",
     "text": [
      "select * from v1;\n",
      "+----+----------+\r\n",
      "| id | name     |\r\n",
      "+----+----------+\r\n",
      "|  1 | Abe      |\r\n",
      "|  2 | Asou     |\r\n",
      "|  3 | Inami    |\r\n",
      "|  4 | Asou     |\r\n",
      "|  5 | Imamura  |\r\n",
      "|  6 | Takeuchi |\r\n",
      "|  7 | Kimura   |\r\n",
      "|  8 | Sato     |\r\n",
      "+----+----------+\r\n",
      "8 rows in set (0.00 sec)\r\n",
      "\r\n",
      "MariaDB [TEST1]"
     ]
    }
   ],
   "source": [
    "select * from v1;"
   ]
  },
  {
   "cell_type": "markdown",
   "metadata": {},
   "source": [
    "これだけだとあまりビューの便利さわからないので、次の例を見てみましょう。前に作成した少し複雑なテーブルもビューを作成しておけば、いつでも呼び出すことができます。"
   ]
  },
  {
   "cell_type": "code",
   "execution_count": 12,
   "metadata": {
    "collapsed": false
   },
   "outputs": [
    {
     "name": "stdout",
     "output_type": "stream",
     "text": [
      "create view v2 as select id ,name ,case when class = 1 then \"A\" when class = 2 then \"B\" when class = 3 then \"C\" else \"others\" end as className from meibo;\n",
      " Query OK, 0 rows affected (0.01 sec)\r\n",
      "\r\n",
      "MariaDB [TEST1]"
     ]
    }
   ],
   "source": [
    "create view v2\n",
    "    as\n",
    "select \n",
    "     id\n",
    "    ,name\n",
    "    ,case \n",
    "        when class = 1 then \"A\"\n",
    "        when class = 2 then \"B\"\n",
    "        when class = 3 then \"C\"\n",
    "        else \"others\" \n",
    "    end as className\n",
    "from \n",
    "    meibo;"
   ]
  },
  {
   "cell_type": "markdown",
   "metadata": {},
   "source": [
    "以下のビューを設定しておけば、欲しい検索結果を以下のようなSQL文だけで呼び出すことができます。"
   ]
  },
  {
   "cell_type": "code",
   "execution_count": 13,
   "metadata": {
    "collapsed": false
   },
   "outputs": [
    {
     "name": "stdout",
     "output_type": "stream",
     "text": [
      "select * from v2;\n",
      "+----+----------+-----------+\r\n",
      "| id | name     | className |\r\n",
      "+----+----------+-----------+\r\n",
      "|  1 | Abe      | A         |\r\n",
      "|  2 | Asou     | B         |\r\n",
      "|  3 | Inami    | A         |\r\n",
      "|  4 | Asou     | B         |\r\n",
      "|  5 | Imamura  | C         |\r\n",
      "|  6 | Takeuchi | B         |\r\n",
      "|  7 | Kimura   | C         |\r\n",
      "|  8 | Sato     | others    |\r\n",
      "+----+----------+-----------+\r\n",
      "8 rows in set (0.00 sec)\r\n",
      "\r\n",
      "MariaDB [TEST1]"
     ]
    }
   ],
   "source": [
    "select * from v2;"
   ]
  },
  {
   "cell_type": "markdown",
   "metadata": {},
   "source": [
    "ビューを更新することもできます。試しに以下のデータを挿入してみましょう。"
   ]
  },
  {
   "cell_type": "code",
   "execution_count": 14,
   "metadata": {
    "collapsed": false
   },
   "outputs": [
    {
     "name": "stdout",
     "output_type": "stream",
     "text": [
      "insert into v1 (id, name) values (100, \"dummy_Yamada\"); insert into v1 (id, name) values (200, \"dummy_Tanaka\"); insert into v1 (id, name) values (300, \"dummy_Sato\");\n",
      " Query OK, 1 row affected (0.00 sec)\r\n",
      "\r\n",
      "Query OK, 1 row affected (0.00 sec)\r\n",
      "\r\n",
      "Query OK, 1 row affected (0.00 sec)\r\n",
      "\r\n",
      "MariaDB [TEST1]"
     ]
    }
   ],
   "source": [
    "insert into v1 (id, name) values (100, \"dummy_Yamada\");\n",
    "insert into v1 (id, name) values (200, \"dummy_Tanaka\");\n",
    "insert into v1 (id, name) values (300, \"dummy_Sato\");"
   ]
  },
  {
   "cell_type": "code",
   "execution_count": 15,
   "metadata": {
    "collapsed": false
   },
   "outputs": [
    {
     "name": "stdout",
     "output_type": "stream",
     "text": [
      "select * from v1;\n",
      "+-----+--------------+\r\n",
      "| id  | name         |\r\n",
      "+-----+--------------+\r\n",
      "|   1 | Abe          |\r\n",
      "|   2 | Asou         |\r\n",
      "|   3 | Inami        |\r\n",
      "|   4 | Asou         |\r\n",
      "|   5 | Imamura      |\r\n",
      "|   6 | Takeuchi     |\r\n",
      "|   7 | Kimura       |\r\n",
      "|   8 | Sato         |\r\n",
      "| 100 | dummy_Yamada |\r\n",
      "| 200 | dummy_Tanaka |\r\n",
      "| 300 | dummy_Sato   |\r\n",
      "+-----+--------------+\r\n",
      "11 rows in set (0.00 sec)\r\n",
      "\r\n",
      "MariaDB [TEST1]"
     ]
    }
   ],
   "source": [
    "select * from v1;"
   ]
  },
  {
   "cell_type": "markdown",
   "metadata": {},
   "source": [
    "ただし、ビューを更新すると、元の参照テーブルも変更されるので、注意してください。"
   ]
  },
  {
   "cell_type": "code",
   "execution_count": 16,
   "metadata": {
    "collapsed": false
   },
   "outputs": [
    {
     "name": "stdout",
     "output_type": "stream",
     "text": [
      "select * from meibo;\n",
      "+-----+--------------+-------+------+--------+\r\n",
      "| id  | name         | class | age  | height |\r\n",
      "+-----+--------------+-------+------+--------+\r\n",
      "|   1 | Abe          |     1 |   14 |    150 |\r\n",
      "|   2 | Asou         |     2 |   13 |    150 |\r\n",
      "|   3 | Inami        |     1 |   13 |    150 |\r\n",
      "|   4 | Asou         |     2 |   15 |    150 |\r\n",
      "|   5 | Imamura      |     3 |   12 |    155 |\r\n",
      "|   6 | Takeuchi     |     2 |   16 |    155 |\r\n",
      "|   7 | Kimura       |     3 |   11 |    160 |\r\n",
      "|   8 | Sato         |     7 |   14 |    160 |\r\n",
      "| 100 | dummy_Yamada |  NULL | NULL |   NULL |\r\n",
      "| 200 | dummy_Tanaka |  NULL | NULL |   NULL |\r\n",
      "| 300 | dummy_Sato   |  NULL | NULL |   NULL |\r\n",
      "+-----+--------------+-------+------+--------+\r\n",
      "11 rows in set (0.00 sec)\r\n",
      "\r\n",
      "MariaDB [TEST1]"
     ]
    }
   ],
   "source": [
    "select * from meibo;"
   ]
  },
  {
   "cell_type": "markdown",
   "metadata": {},
   "source": [
    "ビューを更新するときは、元のテーブルへの影響範囲を十分に考え、注意しましょう。ただし、ビューが更新できないこともありますので、練習問題で見てみることにします。"
   ]
  },
  {
   "cell_type": "markdown",
   "metadata": {},
   "source": [
    "以下のコマンドで、ビューであることわかります。"
   ]
  },
  {
   "cell_type": "code",
   "execution_count": 17,
   "metadata": {
    "collapsed": false
   },
   "outputs": [
    {
     "name": "stdout",
     "output_type": "stream",
     "text": [
      "show table status;\n",
      "+--------+--------+---------+------------+------+----------------+-------------+------------------+--------------+-----------+----------------+---------------------+---------------------+------------+-------------------+----------+----------------+---------+\r\n",
      "| Name   | Engine | Version | Row_format | Rows | Avg_row_length | Data_length | Max_data_length  | Index_length | Data_free | Auto_increment | Create_time         | Update_time         | Check_time | Collation         | Checksum | Create_options | Comment |\r\n",
      "+--------+--------+---------+------------+------+----------------+-------------+------------------+--------------+-----------+----------------+---------------------+---------------------+------------+-------------------+----------+----------------+---------+\r\n",
      "| cardtb | InnoDB |      10 | Compact    |    8 |           2048 |       16384 |                0 |            0 |         0 |           NULL | 2017-05-17 04:46:48 | NULL                | NULL       | latin1_swedish_ci |     NULL |                |         |\r\n",
      "| meibo  | MyISAM |      10 | Dynamic    |   11 |             38 |         428 |  281474976710655 |         2048 |         0 |           NULL | 2017-05-17 02:12:00 | 2017-05-17 04:54:04 | NULL       | utf8_general_ci   |     NULL |                |         |\r\n",
      "| meibo2 | MyISAM |      10 | Dynamic    |    5 |             28 |         144 |  281474976710655 |         2048 |         0 |           NULL | 2017-05-17 02:47:24 | 2017-05-17 02:49:56 | NULL       | utf8_general_ci   |     NULL |                |         |\r\n",
      "| score  | MyISAM |      10 | Fixed      |    9 |             17 |         153 | 4785074604081151 |         2048 |         0 |           NULL | 2017-05-17 02:52:51 | 2017-05-17 02:53:05 | NULL       | utf8_general_ci   |     NULL |                |         |\r\n",
      "| v1     | NULL   |    NULL | NULL       | NULL |           NULL |        NULL |             NULL |         NULL |      NULL |           NULL | NULL                | NULL                | NULL       | NULL              |     NULL | NULL           | VIEW    |\r\n",
      "| v2     | NULL   |    NULL | NULL       | NULL |           NULL |        NULL |             NULL |         NULL |      NULL |           NULL | NULL                | NULL                | NULL       | NULL              |     NULL | NULL           | VIEW    |\r\n",
      "+--------+--------+---------+------------+------+----------------+-------------+------------------+--------------+-----------+----------------+---------------------+---------------------+------------+-------------------+----------+----------------+---------+\r\n",
      "6 rows in set (0.00 sec)\r\n",
      "\r\n",
      "MariaDB [TEST1]"
     ]
    }
   ],
   "source": [
    "show table status;"
   ]
  },
  {
   "cell_type": "markdown",
   "metadata": {},
   "source": [
    "#### <練習問題 1>\n",
    "テーブルmeibo2からidとnameを取り出して、ビューのv3を作成してみましょう。"
   ]
  },
  {
   "cell_type": "code",
   "execution_count": 20,
   "metadata": {
    "collapsed": false
   },
   "outputs": [
    {
     "name": "stdout",
     "output_type": "stream",
     "text": [
      "create view v3 as select id, name from meibo2;\n",
      " Query OK, 0 rows affected (0.00 sec)\r\n",
      "\r\n",
      "MariaDB [TEST1]"
     ]
    }
   ],
   "source": [
    "create view v3 as select id, name from meibo2"
   ]
  },
  {
   "cell_type": "code",
   "execution_count": 21,
   "metadata": {
    "collapsed": false
   },
   "outputs": [
    {
     "name": "stdout",
     "output_type": "stream",
     "text": [
      "select * from v3;\n",
      "+----+----------+\r\n",
      "| id | name     |\r\n",
      "+----+----------+\r\n",
      "|  1 | Abe      |\r\n",
      "|  9 | Nagata   |\r\n",
      "| 10 | Sugino   |\r\n",
      "| 11 | Takayama |\r\n",
      "| 12 | Jon      |\r\n",
      "+----+----------+\r\n",
      "5 rows in set (0.00 sec)\r\n",
      "\r\n",
      "MariaDB [TEST1]"
     ]
    }
   ],
   "source": [
    "select * from v3"
   ]
  },
  {
   "cell_type": "markdown",
   "metadata": {},
   "source": [
    "#### <練習問題 2>\n",
    "meiboテーブルとscoreテーブルを内部結合して、idとnameを取り出すビューv4を作成してみましょう。"
   ]
  },
  {
   "cell_type": "code",
   "execution_count": 31,
   "metadata": {
    "collapsed": false
   },
   "outputs": [
    {
     "name": "stdout",
     "output_type": "stream",
     "text": [
      "create view v4 as select meibo.id, name , math, english, science from meibo join score on meibo.id = score.id;\n",
      " Query OK, 0 rows affected (0.01 sec)\r\n",
      "\r\n",
      "MariaDB [TEST1]"
     ]
    }
   ],
   "source": [
    "create view v4\n",
    "    as select meibo.id, name , math, english, science from meibo join score on meibo.id = score.id"
   ]
  },
  {
   "cell_type": "code",
   "execution_count": 32,
   "metadata": {
    "collapsed": false
   },
   "outputs": [
    {
     "name": "stdout",
     "output_type": "stream",
     "text": [
      "select * from v4;\n",
      "+----+----------+------+---------+---------+\r\n",
      "| id | name     | math | english | science |\r\n",
      "+----+----------+------+---------+---------+\r\n",
      "|  1 | Abe      |   10 |      10 |      40 |\r\n",
      "|  2 | Asou     | NULL |      60 |     100 |\r\n",
      "|  3 | Inami    |   30 |      40 |      60 |\r\n",
      "|  5 | Imamura  |   25 |      31 |      10 |\r\n",
      "|  6 | Takeuchi |   50 |      30 |      10 |\r\n",
      "|  8 | Sato     |   90 |     100 |      90 |\r\n",
      "+----+----------+------+---------+---------+\r\n",
      "6 rows in set (0.00 sec)\r\n",
      "\r\n",
      "MariaDB [TEST1]"
     ]
    }
   ],
   "source": [
    "select * from v4"
   ]
  },
  {
   "cell_type": "markdown",
   "metadata": {},
   "source": [
    "#### <練習問題 3>\n",
    "上記で作成したテーブルに新しいデータを追加してみましょう。どうなりますか？"
   ]
  },
  {
   "cell_type": "markdown",
   "metadata": {},
   "source": [
    "***"
   ]
  },
  {
   "cell_type": "markdown",
   "metadata": {},
   "source": [
    "## 5.4 総合問題"
   ]
  },
  {
   "cell_type": "markdown",
   "metadata": {},
   "source": [
    "### 5.4.1 総合問題1\n",
    "\n",
    "以下のデータベースを使って、後の問いに答えてください。(以下のURLにある注意事項等も参照ください。)\n",
    "\n",
    "https://dev.mysql.com/doc/world-setup/en/\n",
    "\n",
    "データベースをインストールする方法は以下のコマンドを実行してください(**ただし、terminal上で実行する必要があります。**terminalはJupyterのトップ画面から、右上にある「New」をクリックすると表示されます。手順としては、mkdirでフォルダ（chapter5など）を作成した後に、以下のコマンドを実行し、エラーがないことを確認したら、ここへ戻ってデータベースがあることを確認し、問題に取り組んでください。なお、このページの上にある「Kernel」をクリックし、Change kernelでPythonに変更して実行しても大丈夫です。ただし、sqlを実行する場合は、Kernelをsqlに戻してください。)。  "
   ]
  },
  {
   "cell_type": "markdown",
   "metadata": {},
   "source": [
    "-------------------\n",
    "wget http://downloads.mysql.com/docs/world.sql.gz  \n",
    "gzip -d world.sql.gz  \n",
    "mysql -h\"db1\" -P\"3306\" -u root -p\"ilect\" < world.sql    \n",
    "\n",
    "-------------------\n",
    "\n",
    "(1) データベースworldを選択して、どのようなテーブルがあるか、またそれぞれどのようなカラムがあるか表示してください。  \n",
    "(2) それぞれのテーブルについて、それぞれ5行ずつ表示させてください。どんなデータがあるか軽く確認してください。  \n",
    "(3) cityテーブルについて、レコード数をカウントしてください。また、重複するデータがあるかどうか、チェックしてください。  "
   ]
  },
  {
   "cell_type": "code",
   "execution_count": 34,
   "metadata": {
    "collapsed": false
   },
   "outputs": [
    {
     "name": "stdout",
     "output_type": "stream",
     "text": [
      "use world; show tables;\n",
      "+-----------------+\r\n",
      "| Tables_in_world |\r\n",
      "+-----------------+\r\n",
      "| city            |\r\n",
      "| country         |\r\n",
      "| countrylanguage |\r\n",
      "+-----------------+\r\n",
      "3 rows in set (0.00 sec)\r\n",
      "\r\n",
      "MariaDB [world]"
     ]
    }
   ],
   "source": [
    "use world;\n",
    "show tables"
   ]
  },
  {
   "cell_type": "code",
   "execution_count": 35,
   "metadata": {
    "collapsed": false
   },
   "outputs": [
    {
     "name": "stdout",
     "output_type": "stream",
     "text": [
      "desc city; desc country; desc countrylanguage;\n",
      "+-------------+----------+------+-----+---------+----------------+\r\n",
      "| Field       | Type     | Null | Key | Default | Extra          |\r\n",
      "+-------------+----------+------+-----+---------+----------------+\r\n",
      "| ID          | int(11)  | NO   | PRI | NULL    | auto_increment |\r\n",
      "| Name        | char(35) | NO   |     |         |                |\r\n",
      "| CountryCode | char(3)  | NO   | MUL |         |                |\r\n",
      "| District    | char(20) | NO   |     |         |                |\r\n",
      "| Population  | int(11)  | NO   |     | 0       |                |\r\n",
      "+-------------+----------+------+-----+---------+----------------+\r\n",
      "5 rows in set (0.00 sec)\r\n",
      "\r\n",
      "+----------------+---------------------------------------------------------------------------------------+------+-----+---------+-------+\r\n",
      "| Field          | Type                                                                                  | Null | Key | Default | Extra |\r\n",
      "+----------------+---------------------------------------------------------------------------------------+------+-----+---------+-------+\r\n",
      "| Code           | char(3)                                                                               | NO   | PRI |         |       |\r\n",
      "| Name           | char(52)                                                                              | NO   |     |         |       |\r\n",
      "| Continent      | enum('Asia','Europe','North America','Africa','Oceania','Antarctica','South America') | NO   |     | Asia    |       |\r\n",
      "| Region         | char(26)                                                                              | NO   |     |         |       |\r\n",
      "| SurfaceArea    | float(10,2)                                                                           | NO   |     | 0.00    |       |\r\n",
      "| IndepYear      | smallint(6)                                                                           | YES  |     | NULL    |       |\r\n",
      "| Population     | int(11)                                                                               | NO   |     | 0       |       |\r\n",
      "| LifeExpectancy | float(3,1)                                                                            | YES  |     | NULL    |       |\r\n",
      "| GNP            | float(10,2)                                                                           | YES  |     | NULL    |       |\r\n",
      "| GNPOld         | float(10,2)                                                                           | YES  |     | NULL    |       |\r\n",
      "| LocalName      | char(45)                                                                              | NO   |     |         |       |\r\n",
      "| GovernmentForm | char(45)                                                                              | NO   |     |         |       |\r\n",
      "| HeadOfState    | char(60)                                                                              | YES  |     | NULL    |       |\r\n",
      "| Capital        | int(11)                                                                               | YES  |     | NULL    |       |\r\n",
      "| Code2          | char(2)                                                                               | NO   |     |         |       |\r\n",
      "+----------------+---------------------------------------------------------------------------------------+------+-----+---------+-------+\r\n",
      "15 rows in set (0.00 sec)\r\n",
      "\r\n",
      "+-------------+---------------+------+-----+---------+-------+\r\n",
      "| Field       | Type          | Null | Key | Default | Extra |\r\n",
      "+-------------+---------------+------+-----+---------+-------+\r\n",
      "| CountryCode | char(3)       | NO   | PRI |         |       |\r\n",
      "| Language    | char(30)      | NO   | PRI |         |       |\r\n",
      "| IsOfficial  | enum('T','F') | NO   |     | F       |       |\r\n",
      "| Percentage  | float(4,1)    | NO   |     | 0.0     |       |\r\n",
      "+-------------+---------------+------+-----+---------+-------+\r\n",
      "4 rows in set (0.00 sec)\r\n",
      "\r\n",
      "MariaDB [world]"
     ]
    }
   ],
   "source": [
    "desc city;\n",
    "desc country;\n",
    "desc countrylanguage"
   ]
  },
  {
   "cell_type": "code",
   "execution_count": 39,
   "metadata": {
    "collapsed": false
   },
   "outputs": [
    {
     "name": "stdout",
     "output_type": "stream",
     "text": [
      "select * from city limit 5; select * from country limit 5; select * from countrylanguage limit 5;\n",
      "+----+----------------+-------------+---------------+------------+\r\n",
      "| ID | Name           | CountryCode | District      | Population |\r\n",
      "+----+----------------+-------------+---------------+------------+\r\n",
      "|  1 | Kabul          | AFG         | Kabol         |    1780000 |\r\n",
      "|  2 | Qandahar       | AFG         | Qandahar      |     237500 |\r\n",
      "|  3 | Herat          | AFG         | Herat         |     186800 |\r\n",
      "|  4 | Mazar-e-Sharif | AFG         | Balkh         |     127800 |\r\n",
      "|  5 | Amsterdam      | NLD         | Noord-Holland |     731200 |\r\n",
      "+----+----------------+-------------+---------------+------------+\r\n",
      "5 rows in set (0.00 sec)\r\n",
      "\r\n",
      "+------+-------------+---------------+---------------------------+-------------+-----------+------------+----------------+---------+---------+-----------------------+----------------------------------------------+--------------------------+---------+-------+\r\n",
      "| Code | Name        | Continent     | Region                    | SurfaceArea | IndepYear | Population | LifeExpectancy | GNP     | GNPOld  | LocalName             | GovernmentForm                               | HeadOfState              | Capital | Code2 |\r\n",
      "+------+-------------+---------------+---------------------------+-------------+-----------+------------+----------------+---------+---------+-----------------------+----------------------------------------------+--------------------------+---------+-------+\r\n",
      "| ABW  | Aruba       | North America | Caribbean                 |      193.00 |      NULL |     103000 |           78.4 |  828.00 |  793.00 | Aruba                 | Nonmetropolitan Territory of The Netherlands | Beatrix                  |     129 | AW    |\r\n",
      "| AFG  | Afghanistan | Asia          | Southern and Central Asia |   652090.00 |      1919 |   22720000 |           45.9 | 5976.00 |    NULL | Afganistan/Afqanestan | Islamic Emirate                              | Mohammad Omar            |       1 | AF    |\r\n",
      "| AGO  | Angola      | Africa        | Central Africa            |  1246700.00 |      1975 |   12878000 |           38.3 | 6648.00 | 7984.00 | Angola                | Republic                                     | José Eduardo dos Santos  |      56 | AO    |\r\n",
      "| AIA  | Anguilla    | North America | Caribbean                 |       96.00 |      NULL |       8000 |           76.1 |   63.20 |    NULL | Anguilla              | Dependent Territory of the UK                | Elisabeth II             |      62 | AI    |\r\n",
      "| ALB  | Albania     | Europe        | Southern Europe           |    28748.00 |      1912 |    3401200 |           71.6 | 3205.00 | 2500.00 | Shqipëria             | Republic                                     | Rexhep Mejdani           |      34 | AL    |\r\n",
      "+------+-------------+---------------+---------------------------+-------------+-----------+------------+----------------+---------+---------+-----------------------+----------------------------------------------+--------------------------+---------+-------+\r\n",
      "5 rows in set (0.00 sec)\r\n",
      "\r\n",
      "+-------------+------------+------------+------------+\r\n",
      "| CountryCode | Language   | IsOfficial | Percentage |\r\n",
      "+-------------+------------+------------+------------+\r\n",
      "| ABW         | Dutch      | T          |        5.3 |\r\n",
      "| ABW         | English    | F          |        9.5 |\r\n",
      "| ABW         | Papiamento | F          |       76.7 |\r\n",
      "| ABW         | Spanish    | F          |        7.4 |\r\n",
      "| AFG         | Balochi    | F          |        0.9 |\r\n",
      "+-------------+------------+------------+------------+\r\n",
      "5 rows in set (0.00 sec)\r\n",
      "\r\n",
      "MariaDB [world]"
     ]
    }
   ],
   "source": [
    "select * from city limit 5;\n",
    "select * from country limit 5;\n",
    "select * from countrylanguage limit 5"
   ]
  },
  {
   "cell_type": "code",
   "execution_count": 43,
   "metadata": {
    "collapsed": false
   },
   "outputs": [
    {
     "name": "stdout",
     "output_type": "stream",
     "text": [
      "select count(*) as countRecords from city;\n",
      "+--------------+\r\n",
      "| countRecords |\r\n",
      "+--------------+\r\n",
      "|         4079 |\r\n",
      "+--------------+\r\n",
      "1 row in set (0.00 sec)\r\n",
      "\r\n",
      "MariaDB [world]"
     ]
    }
   ],
   "source": [
    "select count(*) as countRecords from city"
   ]
  },
  {
   "cell_type": "markdown",
   "metadata": {},
   "source": [
    "### 5.4.2 総合問題2\n",
    "上記と同じデータベースを使って、以下の問いに答えてください。\n",
    "\n",
    "(1) countrylanguageテーブルについて、それぞれのCountryCodeを軸に、言語の数（テーブルにあるものだけ、重複なく）を計算してください。また、その結果をcityテーブルに紐付けて（joinして）、cityのカラム全てとその言語の数を表示してください。ただし、結果は5行のみ表示させるだけでよいです。  \n",
    "(2)  countrylanguageテーブルについて、それぞれのCountryCodeを軸に、Percentageを合計してください。ただし、その合計値が99.9を超えるものだけ表示させるようにしてください。  \n",
    "(3)  cityテーブルについて、DistrictのイニシャルがAではじまるもの、Bではじまるもの、Cではじまるもの、その他(others)の4パターンに分けて、それぞれのレコード数をカウントしてください。"
   ]
  },
  {
   "cell_type": "code",
   "execution_count": 52,
   "metadata": {
    "collapsed": false
   },
   "outputs": [
    {
     "name": "stdout",
     "output_type": "stream",
     "text": [
      "select city.*, tmp.CountLanguage from city join (select CountryCode, count(Language) as CountLanguage from countrylanguage group by CountryCode) tmp on city.CountryCode = tmp.CountryCode limit 5;\n",
      "+-----+----------------+-------------+----------+------------+---------------+\r\n",
      "| ID  | Name           | CountryCode | District | Population | CountLanguage |\r\n",
      "+-----+----------------+-------------+----------+------------+---------------+\r\n",
      "| 129 | Oranjestad     | ABW         | –        |      29034 |             4 |\r\n",
      "|   1 | Kabul          | AFG         | Kabol    |    1780000 |             5 |\r\n",
      "|   2 | Qandahar       | AFG         | Qandahar |     237500 |             5 |\r\n",
      "|   3 | Herat          | AFG         | Herat    |     186800 |             5 |\r\n",
      "|   4 | Mazar-e-Sharif | AFG         | Balkh    |     127800 |             5 |\r\n",
      "+-----+----------------+-------------+----------+------------+---------------+\r\n",
      "5 rows in set (0.00 sec)\r\n",
      "\r\n",
      "MariaDB [world]"
     ]
    }
   ],
   "source": [
    "select city.*, tmp.CountLanguage \n",
    "    from city\n",
    "        join\n",
    "        (select CountryCode, count(Language) as CountLanguage from countrylanguage group by CountryCode) tmp\n",
    "        on city.CountryCode = tmp.CountryCode\n",
    "    limit 5"
   ]
  },
  {
   "cell_type": "code",
   "execution_count": 55,
   "metadata": {
    "collapsed": false
   },
   "outputs": [
    {
     "name": "stdout",
     "output_type": "stream",
     "text": [
      "select CountryCode,sum(Percentage) as sum from countrylanguage group by CountryCode having sum>99.9 limit 5;\n",
      "+-------------+-------+\r\n",
      "| CountryCode | sum   |\r\n",
      "+-------------+-------+\r\n",
      "| BHS         | 100.0 |\r\n",
      "| BMU         | 100.0 |\r\n",
      "| BTN         | 100.0 |\r\n",
      "| CHL         | 100.0 |\r\n",
      "| CPV         | 100.0 |\r\n",
      "+-------------+-------+\r\n",
      "5 rows in set (0.00 sec)\r\n",
      "\r\n",
      "MariaDB [world]"
     ]
    }
   ],
   "source": [
    "select CountryCode,sum(Percentage) as sum from countrylanguage group by CountryCode having sum>99.9 limit 5"
   ]
  },
  {
   "cell_type": "code",
   "execution_count": 56,
   "metadata": {
    "collapsed": false
   },
   "outputs": [
    {
     "name": "stdout",
     "output_type": "stream",
     "text": [
      "select case when District like 'A%' then 'A' when District like 'B%' then 'B' when District like 'C%' then 'C' else 'others' end as Initial , count(*) from city group by Initial;\n",
      "+---------+----------+\r\n",
      "| Initial | count(*) |\r\n",
      "+---------+----------+\r\n",
      "| A       |      273 |\r\n",
      "| B       |      217 |\r\n",
      "| C       |      326 |\r\n",
      "| others  |     3263 |\r\n",
      "+---------+----------+\r\n",
      "4 rows in set (0.00 sec)\r\n",
      "\r\n",
      "MariaDB [world]"
     ]
    }
   ],
   "source": [
    "select case\n",
    "        when District like 'A%' then 'A'\n",
    "        when District like 'B%' then 'B'\n",
    "        when District like 'C%' then 'C'\n",
    "        else 'others'\n",
    "        end as Initial\n",
    "        , count(*)\n",
    "    from city group by Initial"
   ]
  },
  {
   "cell_type": "code",
   "execution_count": null,
   "metadata": {
    "collapsed": true
   },
   "outputs": [],
   "source": []
  }
 ],
 "metadata": {
  "anaconda-cloud": {},
  "kernelspec": {
   "display_name": "mysql",
   "language": "",
   "name": "mysql"
  },
  "language_info": {
   "file_extension": ".sql",
   "mimetype": "text/plain",
   "name": "mysql"
  }
 },
 "nbformat": 4,
 "nbformat_minor": 0
}

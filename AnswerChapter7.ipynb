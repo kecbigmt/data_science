{
 "cells": [
  {
   "cell_type": "markdown",
   "metadata": {},
   "source": [
    "# Chapter 7 練習と総合問題解答"
   ]
  },
  {
   "cell_type": "markdown",
   "metadata": {},
   "source": [
    "## 練習問題"
   ]
  },
  {
   "cell_type": "markdown",
   "metadata": {},
   "source": [
    "**<練習問題1>**\n",
    "\n",
    "`hashtags`フィールドが存在し、かつそれがから配列でないツイートを検索せよ。"
   ]
  },
  {
   "cell_type": "raw",
   "metadata": {},
   "source": [
    "解答例: db.tweets.find({'hashtags': {$not : {$eq: []}}})"
   ]
  },
  {
   "cell_type": "markdown",
   "metadata": {},
   "source": [
    "**<練習問題2>**\n",
    "\n",
    "データセットに登場するすべてのハッシュタグをunwindし、数の多いものの順位に上位20ハッシュタグを求めよ。"
   ]
  },
  {
   "cell_type": "raw",
   "metadata": {},
   "source": [
    "解答例:\n",
    "db.tweets.aggregate([{$project: {\"hashtag\": \"$hashtags.text\"}},\n",
    "                     {$unwind: \"$hashtag\"},                    \n",
    "                     {$group: {\"_id\": \"$hashtag\", \"count\" : {\"$sum\" : 1}}},\n",
    "                     {$sort: {\"count\": -1}},\n",
    "                     {$limit: 20}\n",
    "                    ])"
   ]
  },
  {
   "cell_type": "markdown",
   "metadata": {},
   "source": [
    "**<練習問題3>**\n",
    "\n",
    "上記に検索に対してして`explain`を使って、実際どのような検索が行われているかを調べてください。"
   ]
  },
  {
   "cell_type": "raw",
   "metadata": {},
   "source": [
    "解答例:\n",
    "db.tweets.find({'hashtags.text': 'Trump', 'lang': 'de'}).explain(\"executionStats\")"
   ]
  },
  {
   "cell_type": "markdown",
   "metadata": {},
   "source": [
    "**<練習問題4>**\n",
    "\n",
    "すでに存在するドキュメント（ツイート）の`ObjectId`を使った新しいドキュメントを`tweets`コレクションに挿入してみて、`_id`に対するインデックスが確かにUniqueであることを確認してください。"
   ]
  },
  {
   "cell_type": "raw",
   "metadata": {},
   "source": [
    "解答例：\n",
    "db.tweets.insertOne({'_id': ObjectId(\"5896cd5d9a192f2d66b07bde\"), 'text': 'foo'})\n",
    "\n",
    "出力：\n",
    "WriteError: E11000 duplicate key error collection: twitter.tweets index: _id_ dup key: { : ObjectId('5896cd5d9a192f2d66b07bde') }"
   ]
  },
  {
   "cell_type": "markdown",
   "metadata": {},
   "source": [
    "#### **<練習問題5>**\n",
    "\n",
    "上記に紹介したコマンドを実行し、どのような出力なのかを見てみてください。"
   ]
  },
  {
   "cell_type": "raw",
   "metadata": {},
   "source": [
    "解答例：\n",
    "db.tweets.stats()"
   ]
  },
  {
   "cell_type": "markdown",
   "metadata": {},
   "source": [
    "## 総合問題"
   ]
  },
  {
   "cell_type": "markdown",
   "metadata": {},
   "source": [
    "### 7.6.1 基本操作の復習\n",
    "1. 各ツイートのユーザ位置情報に「Japan」もしくは「日本」という文字列が含まれていてかつ言語が英語であるものを検索し、該当ツイートの本文および`ObjectId`のみを取得せよ。\n",
    "2. 各ツイートのユーザ位置情報を言語毎の集合にグループ化せよ。（ヒント: `$project`、`$unwind`、`$addToSet`を使用せよ。）"
   ]
  },
  {
   "cell_type": "raw",
   "metadata": {},
   "source": [
    "解答例:\n",
    "\n",
    "1.\n",
    "cur = db.tweets.find({'user.location': {'$regex': 'Japan|日本'}, 'lang': 'en'}, {'user.location':1}))\n",
    "list(cur)\n",
    "\n",
    "2.\n",
    "agg = db.tweets.aggregate([{'$project': {'location': '$user.location', \"lang\": 1}},\n",
    "                     {'$unwind': '$location'},                    \n",
    "                     {'$group': {\"_id\": \"$lang\", \"locations\": {'$addToSet': '$location'}}},\n",
    "                    ])\n",
    "list(agg)"
   ]
  },
  {
   "cell_type": "markdown",
   "metadata": {},
   "source": [
    "### 7.6.2 Geospatialインデックスの応用"
   ]
  },
  {
   "cell_type": "raw",
   "metadata": {},
   "source": [
    "解答例なし"
   ]
  }
 ],
 "metadata": {
  "kernelspec": {
   "display_name": "Python 3",
   "language": "python",
   "name": "python3"
  },
  "language_info": {
   "codemirror_mode": {
    "name": "ipython",
    "version": 3
   },
   "file_extension": ".py",
   "mimetype": "text/x-python",
   "name": "python",
   "nbconvert_exporter": "python",
   "pygments_lexer": "ipython3",
   "version": "3.6.0"
  }
 },
 "nbformat": 4,
 "nbformat_minor": 2
}

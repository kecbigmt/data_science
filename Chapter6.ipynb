{
 "cells": [
  {
   "cell_type": "markdown",
   "metadata": {},
   "source": [
    "# 6 データベースの応用（高度なSQL処理と高速化）"
   ]
  },
  {
   "cell_type": "markdown",
   "metadata": {},
   "source": [
    "- **[6.1 この章の概要](#6.1-この章の概要)**\n",
    "    - [6.1.1 この章について](#6.1.1-この章について)\n",
    "    - [6.1.2 高度なSQL処理](#6.1.2-高度なSQL処理)\n",
    "    - [6.1.3 ストアドプロシージャとストアドファンクション](#6.1.3-ストアドプロシージャとストアドファンクション)\n",
    "    - [6.1.4 SQLの高速化について](#6.1.4-SQLの高速化について)\n",
    "    - [6.1.5 その他](#6.1.5-その他)\n",
    "<br><br>\n",
    "- **[6.2 高度なSQL処理](#6.2-高度なSQL処理)** \n",
    "    - [6.2.1 データの準備と確認](#6.2.1-データの準備と確認)\n",
    "    - [6.2.2 exists文、case文、自己結合の応用](#6.2.2-exists文、case文、自己結合の応用)\n",
    "    - [6.2.3 外部結合の応用](#6.2.3-外部結合の応用)\n",
    "    - [6.2.4（応用）having句の応用](#6.2.4-（応用）having句の応用)\n",
    "<br><br> \n",
    "- **[6.3 ストアドプロシージャとスドアドファンクション](#6.3-ストアドプロシージャとスドアドファンクション)** \n",
    "    - [6.3.1 ストアドプロシージャ](#6.3.1-ストアドプロシージャ)\n",
    "    - [6.3.2 ストアドファンクション](#6.3.2-ストアドファンクション)\n",
    "<br><br>\n",
    "- **[6.4 インデクシングとSQLの高速化](#6.4-インデクシングとSQLの高速化)**\n",
    "    - [6.4.1 インデックスの設定](#6.4.1-インデックスの設定)\n",
    "    - [6.4.2 インデックスの種類](#6.4.2-インデックスの種類)\n",
    "    - [6.4.3 SQLのパフォーマンスチューニング](#6.4.3-SQLのパフォーマンスチューニング)\n",
    "<br><br>\n",
    "- **[6.5 その他](#6.5-その他)**\n",
    "    - [6.5.1 データベースとファイルのやり取り](#6.5.1-データベースとファイルのやり取り)\n",
    "    - [6.5.2 データモデリングと正規化](#6.5.2-データモデリングと正規化)\n",
    "<br><br>\n",
    "- **[6.6 総合問題](#6.6-総合問題)**\n",
    "    - [6.6.1 総合問題1](#6.6.1-総合問題1)\n",
    "    - [6.6.2 総合問題2](#6.6.2-総合問題2)"
   ]
  },
  {
   "cell_type": "markdown",
   "metadata": {},
   "source": [
    "***"
   ]
  },
  {
   "cell_type": "markdown",
   "metadata": {},
   "source": [
    "## 6.1 この章の概要\n",
    "ゴール：複雑なSQL処理や高速化ができることを知る"
   ]
  },
  {
   "cell_type": "markdown",
   "metadata": {},
   "source": [
    "### 6.1.1 この章について\n",
    "キーワード：特になし"
   ]
  },
  {
   "cell_type": "markdown",
   "metadata": {},
   "source": [
    "この章では、5章の基礎知識をベースに、さらにSQLの操作方法に慣れるため、また高度な処理ができるようになるための技法を身につけていただきます。ここをクリアできれば、SQLの中級者の道へと進み、後は独学でも学ぶことができるでしょう。以下の文献が参考になりますので、ここが終わった後は是非読むことをおすすめします。最後の参考文献『ビッグデータ分析・活用のためのSQLレシピ』は、PostgreSQLやRedshift等いろいろな記述方法が載っていますし、またマーケティング分析でよく使うテクニック等もあり、調べ物として便利です。\n",
    "\n",
    "**注意：この章で使うデータベースやテーブルは5章で作成したもの（練習問題含む）も一部使いますので、5章のSQLは実行済みで、該当のデータがあるとしてこの章を進めていきます。**"
   ]
  },
  {
   "cell_type": "markdown",
   "metadata": {},
   "source": [
    ">[参考文献]\n",
    "\n",
    ">『SQL実践入門──高速でわかりやすいクエリの書き方 (WEB+DB PRESS plus) 』（ミック  (著)、技術評論社）\n",
    "\n",
    ">『プログラマのためのSQL 第4版』（ジョー・セルコ (著), Joe Celko (著), ミック (監修, 翻訳)、翔泳社）\n",
    "\n",
    ">『達人に学ぶ SQL徹底指南書』（ミック  (著)、翔泳社）\n",
    "\n",
    ">『達人に学ぶDB設計 徹底指南書 初級者で終わりたくないあなたへ 』（ミック  (著)、翔泳社）\n",
    "\n",
    ">『ビッグデータ分析・活用のためのSQLレシピ』（加嵜 長門  (著), 田宮 直人  (著), 丸山 弘詩 (編集)、マイナビ出版 ）"
   ]
  },
  {
   "cell_type": "markdown",
   "metadata": {},
   "source": [
    "### 6.1.2 高度なSQL処理\n",
    "キーワード：exists,自己結合,case文活用"
   ]
  },
  {
   "cell_type": "markdown",
   "metadata": {},
   "source": [
    "前章までは短いSQL文を学んできましたが、この章では少し難しいSQLの処理(exit,差分などテクニカルな処理)や、比較的大きなデータや複数のデータソースを使って、複雑なSQL文を書く処理を学んでいきましょう。"
   ]
  },
  {
   "cell_type": "markdown",
   "metadata": {},
   "source": [
    "### 6.1.3 ストアドプロシージャとストアドファンクション\n",
    "キーワード：ストアドプロシージャ、ストアドファンクション"
   ]
  },
  {
   "cell_type": "markdown",
   "metadata": {},
   "source": [
    "一連の処理をするストアドプロシージャについて学びます。SQL文を単発で使うのではなく、いくつか組み合わせたり、関数のように用いる（ストアドファンクション）こともできます。ここで、それらの処理について学びましょう。"
   ]
  },
  {
   "cell_type": "markdown",
   "metadata": {},
   "source": [
    "### 6.1.4 SQLの高速化について\n",
    "キーワード：インデクシング"
   ]
  },
  {
   "cell_type": "markdown",
   "metadata": {},
   "source": [
    "他のプログラミング言語同様、同じデータ抽出結果でもSQLの書き方は様々なパターンがあります。SQLの書き方によって、データ抽出スピードが上がることもありますし、インデクシングというパフォーマンスチューニングによって、効率を上げることができます。"
   ]
  },
  {
   "cell_type": "markdown",
   "metadata": {},
   "source": [
    "### 6.1.5 その他\n",
    "キーワード：ファイルのやり取り、データモデリング、正規化"
   ]
  },
  {
   "cell_type": "markdown",
   "metadata": {},
   "source": [
    "その他、データベースとSQLについて、知っておくと便利なこと、概念等について説明します。主に、csvファイルなどのやり取りとデータモデリング、正規化について学びます。"
   ]
  },
  {
   "cell_type": "markdown",
   "metadata": {},
   "source": [
    "***"
   ]
  },
  {
   "cell_type": "markdown",
   "metadata": {},
   "source": [
    "## 6.2 高度なSQL処理\n",
    "ゴール：複雑な処理をSQLを使って計算することができる"
   ]
  },
  {
   "cell_type": "markdown",
   "metadata": {},
   "source": [
    "### 6.2.1 データの準備と確認\n",
    "キーワード：show,use,desc"
   ]
  },
  {
   "cell_type": "markdown",
   "metadata": {},
   "source": [
    "前章までは短いSQL文を学んできましたが、この章では少し難しい処理をSQLで書いたり、比較的大きなデータや複数のデータソースを使います。ここで、複雑なSQL文を書く練習をしていきましょう。"
   ]
  },
  {
   "cell_type": "markdown",
   "metadata": {},
   "source": [
    "この章では以下のデータを使います。このデータはある会社の従業員データで、従業員の属性や所属部署、給与等のデータが入っているデータベースです。まず、5章の総合問題で準備した同じ手順でデータを取得し、データベースに挿入します。（注意事項等を読んでください。）"
   ]
  },
  {
   "cell_type": "markdown",
   "metadata": {},
   "source": [
    "https://launchpad.net/test-db/employees-db-1\n",
    "\n",
    "terminal(もしくは画面上にあるKernelをPythonに変更して)から以下のコマンドを入力します。"
   ]
  },
  {
   "cell_type": "markdown",
   "metadata": {},
   "source": [
    "-------------------\n",
    "wget https://launchpad.net/test-db/employees-db-1/1.0.6/+download/employees_db-full-1.0.6.tar.bz2  \n",
    "tar jxfv  employees_db-full-1.0.6.tar.bz2  \n",
    "cd employees_db  \n",
    "mysql -h\"db1\" -P\"3306\" -u root -p\"ilect\" < employees.sql  \n",
    "\n",
    "-------------------"
   ]
  },
  {
   "cell_type": "markdown",
   "metadata": {},
   "source": [
    "そして、employeesを選択してみます。次のSQLコマンドを実行してみましょう。"
   ]
  },
  {
   "cell_type": "code",
   "execution_count": 2,
   "metadata": {
    "collapsed": false
   },
   "outputs": [
    {
     "name": "stdout",
     "output_type": "stream",
     "text": [
      "show databases; use employees;\n",
      "+--------------------+\r\n",
      "| Database           |\r\n",
      "+--------------------+\r\n",
      "| TEST1              |\r\n",
      "| TEST2              |\r\n",
      "| employees          |\r\n",
      "| information_schema |\r\n",
      "| mysql              |\r\n",
      "| performance_schema |\r\n",
      "| world              |\r\n",
      "+--------------------+\r\n",
      "7 rows in set (0.00 sec)\r\n",
      "\r\n",
      "Database changed\r\n",
      "MariaDB [employees]"
     ]
    }
   ],
   "source": [
    "show databases;\n",
    "use employees;"
   ]
  },
  {
   "cell_type": "markdown",
   "metadata": {},
   "source": [
    "テーブルを見てみましょう。テーブルが6つあるのが確認できます。"
   ]
  },
  {
   "cell_type": "code",
   "execution_count": 6,
   "metadata": {
    "collapsed": false
   },
   "outputs": [
    {
     "name": "stdout",
     "output_type": "stream",
     "text": [
      "show tables;\n",
      "+---------------------+\r\n",
      "| Tables_in_employees |\r\n",
      "+---------------------+\r\n",
      "| departments         |\r\n",
      "| dept_emp            |\r\n",
      "| dept_manager        |\r\n",
      "| employees           |\r\n",
      "| salaries            |\r\n",
      "| titles              |\r\n",
      "+---------------------+\r\n",
      "6 rows in set (0.00 sec)\r\n",
      "\r\n",
      "MariaDB [employees]"
     ]
    }
   ],
   "source": [
    "show tables;"
   ]
  },
  {
   "cell_type": "markdown",
   "metadata": {},
   "source": [
    "それぞれのデータ構造を簡単に見てみます。従業員のデータで、部署テーブル、部署のマネージャーテーブル、給料テーブル、職種タイトルテーブルなどがあります。なお、salariesテーブルなどはレコード数が少し多い（100万レコード以上）ので、呼び出すときは注意しましょう。"
   ]
  },
  {
   "cell_type": "code",
   "execution_count": 4,
   "metadata": {
    "collapsed": false
   },
   "outputs": [
    {
     "name": "stdout",
     "output_type": "stream",
     "text": [
      "desc departments;desc dept_emp;desc dept_manager;desc employees;desc salaries;desc titles;\n",
      "+-----------+-------------+------+-----+---------+-------+\r\n",
      "| Field     | Type        | Null | Key | Default | Extra |\r\n",
      "+-----------+-------------+------+-----+---------+-------+\r\n",
      "| dept_no   | char(4)     | NO   | PRI | NULL    |       |\r\n",
      "| dept_name | varchar(40) | NO   | UNI | NULL    |       |\r\n",
      "+-----------+-------------+------+-----+---------+-------+\r\n",
      "2 rows in set (0.00 sec)\r\n",
      "\r\n",
      "+-----------+---------+------+-----+---------+-------+\r\n",
      "| Field     | Type    | Null | Key | Default | Extra |\r\n",
      "+-----------+---------+------+-----+---------+-------+\r\n",
      "| emp_no    | int(11) | NO   | PRI | NULL    |       |\r\n",
      "| dept_no   | char(4) | NO   | PRI | NULL    |       |\r\n",
      "| from_date | date    | NO   |     | NULL    |       |\r\n",
      "| to_date   | date    | NO   |     | NULL    |       |\r\n",
      "+-----------+---------+------+-----+---------+-------+\r\n",
      "4 rows in set (0.00 sec)\r\n",
      "\r\n",
      "+-----------+---------+------+-----+---------+-------+\r\n",
      "| Field     | Type    | Null | Key | Default | Extra |\r\n",
      "+-----------+---------+------+-----+---------+-------+\r\n",
      "| dept_no   | char(4) | NO   | PRI | NULL    |       |\r\n",
      "| emp_no    | int(11) | NO   | PRI | NULL    |       |\r\n",
      "| from_date | date    | NO   |     | NULL    |       |\r\n",
      "| to_date   | date    | NO   |     | NULL    |       |\r\n",
      "+-----------+---------+------+-----+---------+-------+\r\n",
      "4 rows in set (0.00 sec)\r\n",
      "\r\n",
      "+------------+---------------+------+-----+---------+-------+\r\n",
      "| Field      | Type          | Null | Key | Default | Extra |\r\n",
      "+------------+---------------+------+-----+---------+-------+\r\n",
      "| emp_no     | int(11)       | NO   | PRI | NULL    |       |\r\n",
      "| birth_date | date          | NO   |     | NULL    |       |\r\n",
      "| first_name | varchar(14)   | NO   |     | NULL    |       |\r\n",
      "| last_name  | varchar(16)   | NO   |     | NULL    |       |\r\n",
      "| gender     | enum('M','F') | NO   |     | NULL    |       |\r\n",
      "| hire_date  | date          | NO   |     | NULL    |       |\r\n",
      "+------------+---------------+------+-----+---------+-------+\r\n",
      "6 rows in set (0.00 sec)\r\n",
      "\r\n",
      "+-----------+---------+------+-----+---------+-------+\r\n",
      "| Field     | Type    | Null | Key | Default | Extra |\r\n",
      "+-----------+---------+------+-----+---------+-------+\r\n",
      "| emp_no    | int(11) | NO   | PRI | NULL    |       |\r\n",
      "| salary    | int(11) | NO   |     | NULL    |       |\r\n",
      "| from_date | date    | NO   | PRI | NULL    |       |\r\n",
      "| to_date   | date    | NO   |     | NULL    |       |\r\n",
      "+-----------+---------+------+-----+---------+-------+\r\n",
      "4 rows in set (0.00 sec)\r\n",
      "\r\n",
      "+-----------+-------------+------+-----+---------+-------+\r\n",
      "| Field     | Type        | Null | Key | Default | Extra |\r\n",
      "+-----------+-------------+------+-----+---------+-------+\r\n",
      "| emp_no    | int(11)     | NO   | PRI | NULL    |       |\r\n",
      "| title     | varchar(50) | NO   | PRI | NULL    |       |\r\n",
      "| from_date | date        | NO   | PRI | NULL    |       |\r\n",
      "| to_date   | date        | YES  |     | NULL    |       |\r\n",
      "+-----------+-------------+------+-----+---------+-------+\r\n",
      "4 rows in set (0.00 sec)\r\n",
      "\r\n",
      "MariaDB [employees]"
     ]
    }
   ],
   "source": [
    "desc departments;desc dept_emp;desc dept_manager;desc employees;desc salaries;desc titles;"
   ]
  },
  {
   "cell_type": "markdown",
   "metadata": {},
   "source": [
    "以下は参考ですが、ER図といい、それぞれのテーブルの関係性を示した図です。テーブルを設計をしたり、テーブル間の関係を確認するときによく使います。"
   ]
  },
  {
   "cell_type": "markdown",
   "metadata": {},
   "source": [
    "![comment](https://dev.mysql.com/doc/employee/en/images/employees-schema.png)"
   ]
  },
  {
   "cell_type": "markdown",
   "metadata": {},
   "source": [
    "参照URL：https://dev.mysql.com/doc/employee/en/sakila-structure.html"
   ]
  },
  {
   "cell_type": "markdown",
   "metadata": {},
   "source": [
    "### 6.2.2 exists文、case文、自己結合の応用\n",
    "キーワード：条件分岐、自己結合"
   ]
  },
  {
   "cell_type": "markdown",
   "metadata": {
    "collapsed": true
   },
   "source": [
    "ここでは前章では取り扱わなかったexists文や自己結合を使った処理を学びます。\n",
    "\n",
    "exists文は、以下のように記述し、副問合せによって返されたレコードが一つでもあれば真，一つもなければ偽を返します。"
   ]
  },
  {
   "cell_type": "code",
   "execution_count": 4,
   "metadata": {
    "collapsed": false,
    "scrolled": true
   },
   "outputs": [
    {
     "name": "stdout",
     "output_type": "stream",
     "text": [
      "select * from dept_manager a where exists ( select * from departments b where a.dept_no = b.dept_no) limit 10;\n",
      "+---------+--------+------------+------------+\r\n",
      "| dept_no | emp_no | from_date  | to_date    |\r\n",
      "+---------+--------+------------+------------+\r\n",
      "| d001    | 110022 | 1985-01-01 | 1991-10-01 |\r\n",
      "| d001    | 110039 | 1991-10-01 | 9999-01-01 |\r\n",
      "| d002    | 110085 | 1985-01-01 | 1989-12-17 |\r\n",
      "| d002    | 110114 | 1989-12-17 | 9999-01-01 |\r\n",
      "| d003    | 110183 | 1985-01-01 | 1992-03-21 |\r\n",
      "| d003    | 110228 | 1992-03-21 | 9999-01-01 |\r\n",
      "| d004    | 110303 | 1985-01-01 | 1988-09-09 |\r\n",
      "| d004    | 110344 | 1988-09-09 | 1992-08-02 |\r\n",
      "| d004    | 110386 | 1992-08-02 | 1996-08-30 |\r\n",
      "| d004    | 110420 | 1996-08-30 | 9999-01-01 |\r\n",
      "+---------+--------+------------+------------+\r\n",
      "10 rows in set (0.00 sec)\r\n",
      "\r\n"
     ]
    }
   ],
   "source": [
    "select * from dept_manager a\n",
    "where exists ( select * from departments b where a.dept_no = b.dept_no) limit 10;"
   ]
  },
  {
   "cell_type": "markdown",
   "metadata": {},
   "source": [
    "次は、case文を活用した例です。job titleを見てみますと7種類あるのがわかります。ここで、このタイトルを新しいカテゴリーに分類して、それぞれのレコード数をカウントしてみましょう。現在のjob title毎のレコード数は、以下のようになります。（なお、1人で2つ以上のタイトルが付いている人がいますが、今は特に気にしないことにします。）"
   ]
  },
  {
   "cell_type": "code",
   "execution_count": 13,
   "metadata": {
    "collapsed": false
   },
   "outputs": [
    {
     "name": "stdout",
     "output_type": "stream",
     "text": [
      "select  distinct title from titles;\n",
      "+--------------------+\r\n",
      "| title              |\r\n",
      "+--------------------+\r\n",
      "| Senior Engineer    |\r\n",
      "| Staff              |\r\n",
      "| Engineer           |\r\n",
      "| Senior Staff       |\r\n",
      "| Assistant Engineer |\r\n",
      "| Technique Leader   |\r\n",
      "| Manager            |\r\n",
      "+--------------------+\r\n",
      "7 rows in set (0.48 sec)\r\n",
      "\r\n"
     ]
    }
   ],
   "source": [
    "select distinct title from titles;"
   ]
  },
  {
   "cell_type": "markdown",
   "metadata": {},
   "source": [
    "ここで、これらのタイトルを新しいカテゴリーに分類して、それぞれのレコード数をカウントしてみましょう。具体的には、Engineerとついている人はEngineer、Staffとついている人はStaff、LeaderかManagerとついている人はLeaderで大分類としてカテゴリーを分けて、それぞれのレコード数をカウントします。"
   ]
  },
  {
   "cell_type": "code",
   "execution_count": 6,
   "metadata": {
    "collapsed": false
   },
   "outputs": [
    {
     "name": "stdout",
     "output_type": "stream",
     "text": [
      "select case title when 'Engineer' then 'Engineer' when 'Staff' then 'Staff' when 'Senior Engineer' then 'Engineer' when 'Senior Staff ' then 'Staff' when 'Technique Leader' then 'Leader' when 'Assistant Engineer' then 'Engineer' when 'Manager' then 'Leader' else 'others' end as category ,count(*) as cnt from titles group by category;\n",
      "+----------+--------+\r\n",
      "| category | cnt    |\r\n",
      "+----------+--------+\r\n",
      "| Engineer | 227881 |\r\n",
      "| Leader   |  15183 |\r\n",
      "| Staff    | 200244 |\r\n",
      "+----------+--------+\r\n",
      "3 rows in set (0.60 sec)\r\n",
      "\r\n"
     ]
    }
   ],
   "source": [
    "select case title\n",
    "        when 'Engineer' then 'Engineer'\n",
    "        when 'Staff' then 'Staff'\n",
    "        when 'Senior Engineer' then 'Engineer'\n",
    "        when 'Senior Staff ' then 'Staff'\n",
    "        when 'Technique Leader' then 'Leader'\n",
    "        when 'Assistant Engineer' then 'Engineer'\n",
    "        when 'Manager' then 'Leader'\n",
    "    else 'others' end as category\n",
    "    ,count(*) as cnt\n",
    "from titles\n",
    "group by category;"
   ]
  },
  {
   "cell_type": "markdown",
   "metadata": {},
   "source": [
    "次は、自分自身のテーブルと結合する**自己結合**です。情報としては自分のテーブルだけあれば良いように思えますが、どういった場面で自己結合が役に立つのか、それを見ていくことにします。\n",
    "\n",
    "以下は、depatmentsテーブルを使って集計例を見てみます。部署は9種類あるのがわかります。"
   ]
  },
  {
   "cell_type": "code",
   "execution_count": 10,
   "metadata": {
    "collapsed": false
   },
   "outputs": [
    {
     "name": "stdout",
     "output_type": "stream",
     "text": [
      "select * from departments order by 1;\n",
      "+---------+--------------------+\r\n",
      "| dept_no | dept_name          |\r\n",
      "+---------+--------------------+\r\n",
      "| d001    | Marketing          |\r\n",
      "| d002    | Finance            |\r\n",
      "| d003    | Human Resources    |\r\n",
      "| d004    | Production         |\r\n",
      "| d005    | Development        |\r\n",
      "| d006    | Quality Management |\r\n",
      "| d007    | Sales              |\r\n",
      "| d008    | Research           |\r\n",
      "| d009    | Customer Service   |\r\n",
      "+---------+--------------------+\r\n",
      "9 rows in set (0.00 sec)\r\n",
      "\r\n"
     ]
    }
   ],
   "source": [
    "select * from departments order by 1;"
   ]
  },
  {
   "cell_type": "markdown",
   "metadata": {},
   "source": [
    "データのレコードから、すべての組み合わせ（重複ありで自身の組み合わせ含む）のテーブルを作りたいときがある場合に、以下のようにして、自己結合します。9種類あったので、81通り（9×9）あります。（ただし、表示される行数が多いため、表記上、limit 10と制限をしています。以下、同様です。）"
   ]
  },
  {
   "cell_type": "code",
   "execution_count": 19,
   "metadata": {
    "collapsed": false
   },
   "outputs": [
    {
     "name": "stdout",
     "output_type": "stream",
     "text": [
      "select a.*,b.* from departments a,departments b limit 10;\n",
      "+---------+--------------------+---------+-----------+\r\n",
      "| dept_no | dept_name          | dept_no | dept_name |\r\n",
      "+---------+--------------------+---------+-----------+\r\n",
      "| d009    | Customer Service   | d001    | Marketing |\r\n",
      "| d005    | Development        | d001    | Marketing |\r\n",
      "| d002    | Finance            | d001    | Marketing |\r\n",
      "| d003    | Human Resources    | d001    | Marketing |\r\n",
      "| d001    | Marketing          | d001    | Marketing |\r\n",
      "| d004    | Production         | d001    | Marketing |\r\n",
      "| d006    | Quality Management | d001    | Marketing |\r\n",
      "| d008    | Research           | d001    | Marketing |\r\n",
      "| d007    | Sales              | d001    | Marketing |\r\n",
      "| d009    | Customer Service   | d002    | Finance   |\r\n",
      "+---------+--------------------+---------+-----------+\r\n",
      "10 rows in set (0.01 sec)\r\n",
      "\r\n",
      "MariaDB [employees]"
     ]
    }
   ],
   "source": [
    "select a.*,b.* \n",
    "from departments a,departments b limit 10;"
   ]
  },
  {
   "cell_type": "markdown",
   "metadata": {},
   "source": [
    "すべての組み合わせで、重複ありますが、自身の組み合わせがないパターンを作成したい場合は、以下のようにします。これは81-9=72通りあります。"
   ]
  },
  {
   "cell_type": "code",
   "execution_count": 22,
   "metadata": {
    "collapsed": false
   },
   "outputs": [
    {
     "name": "stdout",
     "output_type": "stream",
     "text": [
      "select a.*,b.* from departments a,departments b on a.dept_no != b.dept_no limit 10;\n",
      " ERROR 1064 (42000): You have an error in your SQL syntax; check the manual that corresponds to your MariaDB server version for the right syntax to use near 'on a.dept_no != b.dept_no limit 10' at line 1\r\n",
      "\u0007MariaDB [employees]"
     ]
    }
   ],
   "source": [
    "select a.*,b.* \n",
    "from departments a,departments b\n",
    "where a.dept_no != b.dept_no limit 10;"
   ]
  },
  {
   "cell_type": "markdown",
   "metadata": {},
   "source": [
    "すべての組み合わせ（重複なし）は以下のようにします。9種類から2種類選ぶので、${}_9 C _2=36$通りで、36行表示されます。"
   ]
  },
  {
   "cell_type": "code",
   "execution_count": 17,
   "metadata": {
    "collapsed": false
   },
   "outputs": [
    {
     "name": "stdout",
     "output_type": "stream",
     "text": [
      "select a.*,b.* from departments a,departments b where a.dept_no > b.dept_no limit 10;\n",
      "+---------+------------------+---------+--------------------+\r\n",
      "| dept_no | dept_name        | dept_no | dept_name          |\r\n",
      "+---------+------------------+---------+--------------------+\r\n",
      "| d009    | Customer Service | d001    | Marketing          |\r\n",
      "| d009    | Customer Service | d002    | Finance            |\r\n",
      "| d009    | Customer Service | d003    | Human Resources    |\r\n",
      "| d009    | Customer Service | d004    | Production         |\r\n",
      "| d009    | Customer Service | d005    | Development        |\r\n",
      "| d009    | Customer Service | d006    | Quality Management |\r\n",
      "| d009    | Customer Service | d007    | Sales              |\r\n",
      "| d009    | Customer Service | d008    | Research           |\r\n",
      "| d005    | Development      | d001    | Marketing          |\r\n",
      "| d005    | Development      | d002    | Finance            |\r\n",
      "+---------+------------------+---------+--------------------+\r\n",
      "10 rows in set (0.00 sec)\r\n",
      "\r\n"
     ]
    }
   ],
   "source": [
    "select a.*,b.* \n",
    "from departments a,departments b\n",
    "where a.dept_no > b.dept_no limit 10;"
   ]
  },
  {
   "cell_type": "markdown",
   "metadata": {},
   "source": [
    "この自己結合を使うことで、例えば、ある項目のデータのランキング結果を表示させることが可能です。以下、salariesテーブルの中から、従業員（emp_no）の給料が高い人を降順に並べ、ランキングを表示する列を追加する処理をしています。このような集計をしたい場合に、自己結合が使えます。"
   ]
  },
  {
   "cell_type": "code",
   "execution_count": 19,
   "metadata": {
    "collapsed": false
   },
   "outputs": [
    {
     "name": "stdout",
     "output_type": "stream",
     "text": [
      "select a.emp_no ,a.salary ,a.from_date ,a.to_date ,( select count(b.salary) from salaries b where b.salary > a.salary ) + 1 as rank_1 from salaries a order by a.salary desc limit 10;\n",
      "+--------+--------+------------+------------+--------+\r\n",
      "| emp_no | salary | from_date  | to_date    | rank_1 |\r\n",
      "+--------+--------+------------+------------+--------+\r\n",
      "|  43624 | 158220 | 2002-03-22 | 9999-01-01 |      1 |\r\n",
      "|  43624 | 157821 | 2001-03-22 | 2002-03-22 |      2 |\r\n",
      "| 254466 | 156286 | 2001-08-04 | 9999-01-01 |      3 |\r\n",
      "|  47978 | 155709 | 2002-07-14 | 9999-01-01 |      4 |\r\n",
      "| 253939 | 155513 | 2002-04-11 | 9999-01-01 |      5 |\r\n",
      "| 109334 | 155377 | 2000-02-12 | 2001-02-11 |      6 |\r\n",
      "| 109334 | 155190 | 2002-02-11 | 9999-01-01 |      7 |\r\n",
      "| 109334 | 154888 | 2001-02-11 | 2002-02-11 |      8 |\r\n",
      "| 109334 | 154885 | 1999-02-12 | 2000-02-12 |      9 |\r\n",
      "|  80823 | 154459 | 2002-02-22 | 9999-01-01 |     10 |\r\n",
      "+--------+--------+------------+------------+--------+\r\n",
      "10 rows in set (6.21 sec)\r\n",
      "\r\n"
     ]
    }
   ],
   "source": [
    "select a.emp_no\n",
    "    ,a.salary\n",
    "    ,a.from_date\n",
    "    ,a.to_date\n",
    "    ,(\n",
    "        select count(b.salary)\n",
    "        from salaries b\n",
    "        where b.salary > a.salary\n",
    "    　) + 1 as rank_1\n",
    "from salaries a order by a.salary desc limit 10;"
   ]
  },
  {
   "cell_type": "markdown",
   "metadata": {},
   "source": [
    "#### <練習問題 1>"
   ]
  },
  {
   "cell_type": "markdown",
   "metadata": {},
   "source": [
    "case文を使って部署毎にgender別の人数を集計してみましょう。(特に部署移動等は考慮しなくて良いです。)\n",
    "\n",
    "ヒント：case文をsum関数の中に記述できます。"
   ]
  },
  {
   "cell_type": "code",
   "execution_count": 12,
   "metadata": {
    "collapsed": false
   },
   "outputs": [
    {
     "name": "stdout",
     "output_type": "stream",
     "text": [
      "select de.dept_no as dno, sum(case when e.gender='M' then 1 else 0 end) as MaleCount, sum(case when e.gender='F' then 1 else 0 end) as FemaleCount from dept_emp as de join employees as e on de.emp_no = e.emp_no group by dno limit 10;\n",
      "+------+-----------+-------------+\r\n",
      "| dno  | MaleCount | FemaleCount |\r\n",
      "+------+-----------+-------------+\r\n",
      "| d001 |     12174 |        8037 |\r\n",
      "| d002 |     10331 |        7015 |\r\n",
      "| d003 |     10711 |        7075 |\r\n",
      "| d004 |     43936 |       29549 |\r\n",
      "| d005 |     51449 |       34258 |\r\n",
      "| d006 |     12039 |        8078 |\r\n",
      "| d007 |     31391 |       20854 |\r\n",
      "| d008 |     12687 |        8439 |\r\n",
      "| d009 |     14132 |        9448 |\r\n",
      "+------+-----------+-------------+\r\n",
      "9 rows in set (0.38 sec)\r\n",
      "\r\n",
      "MariaDB [employees]"
     ]
    }
   ],
   "source": [
    "select\n",
    "    de.dept_no as dno, \n",
    "    sum(case when e.gender='M' then 1 else 0 end) as MaleCount, \n",
    "    sum(case when e.gender='F' then 1 else 0 end) as FemaleCount\n",
    " from dept_emp as de join employees as e on de.emp_no = e.emp_no\n",
    " group by dno\n",
    "     limit 10"
   ]
  },
  {
   "cell_type": "markdown",
   "metadata": {},
   "source": [
    "#### <練習問題 2>"
   ]
  },
  {
   "cell_type": "markdown",
   "metadata": {},
   "source": [
    "job titleの全ての組み合わせ（重複なし）を表示してみましょう。"
   ]
  },
  {
   "cell_type": "code",
   "execution_count": 33,
   "metadata": {
    "collapsed": false
   },
   "outputs": [
    {
     "name": "stdout",
     "output_type": "stream",
     "text": [
      "select * from (select distinct title from titles) as a join (select distinct title from titles) as b where a.title>b.title;\n",
      "+------------------+--------------------+\r\n",
      "| title            | title              |\r\n",
      "+------------------+--------------------+\r\n",
      "| Staff            | Senior Engineer    |\r\n",
      "| Senior Staff     | Senior Engineer    |\r\n",
      "| Technique Leader | Senior Engineer    |\r\n",
      "| Technique Leader | Staff              |\r\n",
      "| Senior Engineer  | Engineer           |\r\n",
      "| Staff            | Engineer           |\r\n",
      "| Senior Staff     | Engineer           |\r\n",
      "| Technique Leader | Engineer           |\r\n",
      "| Manager          | Engineer           |\r\n",
      "| Staff            | Senior Staff       |\r\n",
      "| Technique Leader | Senior Staff       |\r\n",
      "| Senior Engineer  | Assistant Engineer |\r\n",
      "| Staff            | Assistant Engineer |\r\n",
      "| Engineer         | Assistant Engineer |\r\n",
      "| Senior Staff     | Assistant Engineer |\r\n",
      "| Technique Leader | Assistant Engineer |\r\n",
      "| Manager          | Assistant Engineer |\r\n",
      "| Senior Engineer  | Manager            |\r\n",
      "| Staff            | Manager            |\r\n",
      "| Senior Staff     | Manager            |\r\n",
      "| Technique Leader | Manager            |\r\n",
      "+------------------+--------------------+\r\n",
      "21 rows in set (0.39 sec)\r\n",
      "\r\n",
      "MariaDB [employees]"
     ]
    }
   ],
   "source": [
    "select * from (select distinct title from titles) as a join (select distinct title from titles) as b where a.title>b.title"
   ]
  },
  {
   "cell_type": "markdown",
   "metadata": {},
   "source": [
    "#### <練習問題 3>"
   ]
  },
  {
   "cell_type": "markdown",
   "metadata": {},
   "source": [
    "exists文を使って部署毎に現在job titleがStaffである人数を集計してみましょう。なお、現在とは、dateが9999-01-01のことを指すとします。"
   ]
  },
  {
   "cell_type": "markdown",
   "metadata": {},
   "source": [
    "メモ\n",
    "* emp_noはユニークではなく、各テーブルは「いつからいつまで誰がどの部署にいたか」「いつからいつまで誰が何の肩書きだったか」を示す。\n",
    "* つまり、部署異動や肩書き変更があった場合は同じ人のレコードが複数行登録されている。\n",
    "* なのでdept_empもtitlesもまずは最新の情報（to_dataが9999-01-01）にフィルタリングする必要がある。\n",
    "* dept_emp→「現在」のemp_noとdept_no\n",
    "* titles→「現在」「Staffである」人のemp_no"
   ]
  },
  {
   "cell_type": "code",
   "execution_count": 88,
   "metadata": {
    "collapsed": false
   },
   "outputs": [
    {
     "name": "stdout",
     "output_type": "stream",
     "text": [
      "/* 解1 */ select dept_no, count(emp_no) as StaffCount from (select * from dept_emp de where de.to_date=date'9999-01-01') a where exists(select * from titles b where a.emp_no = b.emp_no and b.title='Staff') group by dept_no;\n",
      "+---------+------------+\r\n",
      "| dept_no | StaffCount |\r\n",
      "+---------+------------+\r\n",
      "| d001    |      11885 |\r\n",
      "| d002    |       9995 |\r\n",
      "| d003    |      10407 |\r\n",
      "| d004    |       1185 |\r\n",
      "| d005    |       1123 |\r\n",
      "| d007    |      30117 |\r\n",
      "| d008    |       9646 |\r\n",
      "| d009    |      11836 |\r\n",
      "+---------+------------+\r\n",
      "8 rows in set (0.45 sec)\r\n",
      "\r\n",
      "MariaDB [employees]"
     ]
    }
   ],
   "source": [
    "/* 解1 */\n",
    "select dept_no, count(emp_no) as StaffCount\n",
    "from (select * from dept_emp de where de.to_date=date'9999-01-01') a\n",
    "where exists(select * from titles b where a.emp_no = b.emp_no and b.to_date=date'9999-01-01' and b.title='Staff')\n",
    "group by dept_no"
   ]
  },
  {
   "cell_type": "code",
   "execution_count": 93,
   "metadata": {
    "collapsed": false
   },
   "outputs": [
    {
     "name": "stdout",
     "output_type": "stream",
     "text": [
      "/* 解1 */ select dept_no, count(emp_no) as StaffCount from (select * from dept_emp de where de.to_date=date'9999-01-01') a where exists(select * from titles b where a.emp_no = b.emp_no and b.title='Staff') group by dept_no;\n",
      "+---------+------------+\r\n",
      "| dept_no | StaffCount |\r\n",
      "+---------+------------+\r\n",
      "| d001    |      11885 |\r\n",
      "| d002    |       9995 |\r\n",
      "| d003    |      10407 |\r\n",
      "| d004    |       1185 |\r\n",
      "| d005    |       1123 |\r\n",
      "| d007    |      30117 |\r\n",
      "| d008    |       9646 |\r\n",
      "| d009    |      11836 |\r\n",
      "+---------+------------+\r\n",
      "8 rows in set (0.00 sec)\r\n",
      "\r\n",
      "MariaDB [employees]"
     ]
    }
   ],
   "source": [
    "/* 解1 */\n",
    "select dept_no, count(emp_no) as StaffCount\n",
    "from (select * from dept_emp de where de.to_date=date'9999-01-01') a\n",
    "where exists(select * from titles b where a.emp_no = b.emp_no and b.title='Staff')\n",
    "group by dept_no"
   ]
  },
  {
   "cell_type": "code",
   "execution_count": 72,
   "metadata": {
    "collapsed": false
   },
   "outputs": [
    {
     "name": "stdout",
     "output_type": "stream",
     "text": [
      "select dept_no, count(*) from ( select * from (select * from dept_emp de where de.to_date=date'9999-01-01') de_now where exists (select * from (select * from titles t where t.to_date=date'9999-01-01' and t.title = 'Staff') stf_emp where de_now.emp_no = stf_emp.emp_no) ) stf_dept group by dept_no;\n",
      "+---------+----------+\r\n",
      "| dept_no | count(*) |\r\n",
      "+---------+----------+\r\n",
      "| d001    |     3551 |\r\n",
      "| d002    |     2891 |\r\n",
      "| d003    |     3073 |\r\n",
      "| d004    |      349 |\r\n",
      "| d005    |      315 |\r\n",
      "| d007    |     8903 |\r\n",
      "| d008    |     2870 |\r\n",
      "| d009    |     3574 |\r\n",
      "+---------+----------+\r\n",
      "8 rows in set (0.00 sec)\r\n",
      "\r\n",
      "MariaDB [employees]"
     ]
    }
   ],
   "source": [
    "/* 解2 */\n",
    "select dept_no, count(*)\n",
    "from (\n",
    "    select * from (select * from dept_emp de where de.to_date=date'9999-01-01') de_now\n",
    "    where exists (select * from (select * from titles t where t.to_date=date'9999-01-01' and t.title = 'Staff') stf_emp where de_now.emp_no = stf_emp.emp_no)\n",
    "    ) stf_dept\n",
    "group by dept_no"
   ]
  },
  {
   "cell_type": "markdown",
   "metadata": {},
   "source": [
    "### 6.2.3 外部結合の応用\n",
    "キーワード：クロス集計、差分集合"
   ]
  },
  {
   "cell_type": "markdown",
   "metadata": {},
   "source": [
    "ここでは外部結合を活用してみることにしましょう。\n",
    "\n",
    "SQLを使ったクロス集計を実施してみます。以下は、各従業員（emp_no）がどのjob titleを持っているか（いたか）をクロス表にしています。外部結合でNULLになった場合は該当しないため空白とし、それ以外は該当するため'OK'と表示しています。Staff、Senior Staff、Engineerを対象に集計しています。"
   ]
  },
  {
   "cell_type": "code",
   "execution_count": 13,
   "metadata": {
    "collapsed": false
   },
   "outputs": [
    {
     "name": "stdout",
     "output_type": "stream",
     "text": [
      "select * from (select distinct emp_no from employees ) x0 left outer join (select emp_no from titles where title =\"Staff\") x1 on x0.emp_no = x1.emp_no left outer join (select emp_no from titles where title =\"Senior Staff\") x2 on x0.emp_no = x2.emp_no left outer join (select emp_no from titles where title =\"Engineer\") x3 on x0.emp_no = x3.emp_no limit 10;\n",
      "+--------+--------+--------+--------+\r\n",
      "| emp_no | emp_no | emp_no | emp_no |\r\n",
      "+--------+--------+--------+--------+\r\n",
      "|  10001 |   NULL |   NULL |   NULL |\r\n",
      "|  10002 |  10002 |   NULL |   NULL |\r\n",
      "|  10003 |   NULL |   NULL |   NULL |\r\n",
      "|  10004 |   NULL |   NULL |  10004 |\r\n",
      "|  10005 |  10005 |  10005 |   NULL |\r\n",
      "|  10006 |   NULL |   NULL |   NULL |\r\n",
      "|  10007 |  10007 |  10007 |   NULL |\r\n",
      "|  10008 |   NULL |   NULL |   NULL |\r\n",
      "|  10009 |   NULL |   NULL |  10009 |\r\n",
      "|  10010 |   NULL |   NULL |  10010 |\r\n",
      "+--------+--------+--------+--------+\r\n",
      "10 rows in set (0.00 sec)\r\n",
      "\r\n",
      "MariaDB [employees]"
     ]
    }
   ],
   "source": [
    "select \n",
    "    *\n",
    "from (select distinct emp_no from employees ) x0\n",
    "left outer join (select emp_no from titles where title =\"Staff\") x1 on x0.emp_no = x1.emp_no\n",
    "left outer join (select emp_no from titles where title =\"Senior Staff\") x2 on x0.emp_no = x2.emp_no\n",
    "left outer join (select emp_no from titles where title =\"Engineer\") x3 on x0.emp_no = x3.emp_no\n",
    "limit 10;"
   ]
  },
  {
   "cell_type": "code",
   "execution_count": 20,
   "metadata": {
    "collapsed": false,
    "scrolled": true
   },
   "outputs": [
    {
     "name": "stdout",
     "output_type": "stream",
     "text": [
      "select x0.emp_no ,case when x1.emp_no is not null then 'OK' else '' end as \"Staff\" ,case when x2.emp_no is not null then 'OK' else '' end as \"Senior Staff\" ,case when x3.emp_no is not null then 'OK' else '' end as \"Engineer\" from (select distinct emp_no from employees ) x0 left outer join (select emp_no from titles where title =\"Staff\") x1 on x0.emp_no = x1.emp_no left outer join (select emp_no from titles where title =\"Senior Staff\") x2 on x0.emp_no = x2.emp_no left outer join (select emp_no from titles where title =\"Engineer\") x3 on x0.emp_no = x3.emp_no limit 10;\n",
      "+--------+-------+--------------+----------+\r\n",
      "| emp_no | Staff | Senior Staff | Engineer |\r\n",
      "+--------+-------+--------------+----------+\r\n",
      "|  10001 |       |              |          |\r\n",
      "|  10002 | OK    |              |          |\r\n",
      "|  10003 |       |              |          |\r\n",
      "|  10004 |       |              | OK       |\r\n",
      "|  10005 | OK    | OK           |          |\r\n",
      "|  10006 |       |              |          |\r\n",
      "|  10007 | OK    | OK           |          |\r\n",
      "|  10008 |       |              |          |\r\n",
      "|  10009 |       |              | OK       |\r\n",
      "|  10010 |       |              | OK       |\r\n",
      "+--------+-------+--------------+----------+\r\n",
      "10 rows in set (0.11 sec)\r\n",
      "\r\n"
     ]
    }
   ],
   "source": [
    "select \n",
    "    x0.emp_no\n",
    "    ,case when x1.emp_no is not null then 'OK' else '' end as \"Staff\"\n",
    "    ,case when x2.emp_no is not null then 'OK' else '' end as \"Senior Staff\"\n",
    "    ,case when x3.emp_no is not null then 'OK' else '' end as \"Engineer\"\n",
    "from (select distinct emp_no from employees ) x0\n",
    "left outer join (select emp_no from titles where title =\"Staff\") x1 on x0.emp_no = x1.emp_no\n",
    "left outer join (select emp_no from titles where title =\"Senior Staff\") x2 on x0.emp_no = x2.emp_no\n",
    "left outer join (select emp_no from titles where title =\"Engineer\") x3 on x0.emp_no = x3.emp_no\n",
    "limit 10;"
   ]
  },
  {
   "cell_type": "markdown",
   "metadata": {},
   "source": [
    "例えば、emp_noが10001の人は3タイトルどれにもなったことがなく、emp_noが10005の人は、StaffとSenior Staff 両方なったことがあるということがわかります。"
   ]
  },
  {
   "cell_type": "markdown",
   "metadata": {},
   "source": [
    "次は、外部結合を活用した、差分集合についてです。差分集合とは、ある集合Aと集合Bがあった場合に、Aの中からBである人を抜いた集合A-Bを取り出した集合になります。以下の参照図だと、左の丸がA、右の丸がBの集合だとすると、A-Bは赤い部分を指します。"
   ]
  },
  {
   "cell_type": "markdown",
   "metadata": {},
   "source": [
    "![comment](https://upload.wikimedia.org/wikipedia/commons/thumb/e/e6/Venn0100.svg/220px-Venn0100.svg.png)"
   ]
  },
  {
   "cell_type": "markdown",
   "metadata": {},
   "source": [
    "参照URL:https://upload.wikimedia.org/wikipedia/commons/thumb/e/e6/Venn0100.svg/220px-Venn0100.svg.png"
   ]
  },
  {
   "cell_type": "markdown",
   "metadata": {},
   "source": [
    "job titleテーブルを使って、まずはそれぞれのjob titleで何人いるかカウントしています。"
   ]
  },
  {
   "cell_type": "code",
   "execution_count": 63,
   "metadata": {
    "collapsed": false,
    "scrolled": false
   },
   "outputs": [
    {
     "name": "stdout",
     "output_type": "stream",
     "text": [
      "select title,count(distinct emp_no) as cnt from titles group by 1;\n",
      "+--------------------+--------+\r\n",
      "| title              | cnt    |\r\n",
      "+--------------------+--------+\r\n",
      "| Assistant Engineer |  15128 |\r\n",
      "| Engineer           | 115003 |\r\n",
      "| Manager            |     24 |\r\n",
      "| Senior Engineer    |  97750 |\r\n",
      "| Senior Staff       |  92853 |\r\n",
      "| Staff              | 107391 |\r\n",
      "| Technique Leader   |  15157 |\r\n",
      "+--------------------+--------+\r\n",
      "7 rows in set (0.94 sec)\r\n",
      "\r\n"
     ]
    }
   ],
   "source": [
    "select title,count(emp_no) as cnt from titles group by 1;"
   ]
  },
  {
   "cell_type": "markdown",
   "metadata": {},
   "source": [
    "Staff とSenior Staffに注目してください。上記の集計では、それぞれ107,391人、92,853人いました。以下の集計で、どちらともこのポジションになっている人がいることがわかります（107391 + 92853 > 133981）。"
   ]
  },
  {
   "cell_type": "code",
   "execution_count": 62,
   "metadata": {
    "collapsed": false
   },
   "outputs": [
    {
     "name": "stdout",
     "output_type": "stream",
     "text": [
      "select count(distinct emp_no) as cnt from titles where title='Senior Staff' or title='Staff';\n",
      "+--------+\r\n",
      "| cnt    |\r\n",
      "+--------+\r\n",
      "| 133981 |\r\n",
      "+--------+\r\n",
      "1 row in set (0.23 sec)\r\n",
      "\r\n"
     ]
    }
   ],
   "source": [
    "select count(distinct emp_no) as cnt from titles where title='Senior Staff' or title='Staff'"
   ]
  },
  {
   "cell_type": "markdown",
   "metadata": {},
   "source": [
    "それでは、Staffだけになった人を抽出（カウント）するにはどうすればよいでしょうか。集合として、$A$をStaffになったの集合、$B$をSenior Staffになった人の集合すると、$A-B$と差分集合を求めるSQLは以下になります。"
   ]
  },
  {
   "cell_type": "code",
   "execution_count": 23,
   "metadata": {
    "collapsed": false
   },
   "outputs": [
    {
     "name": "stdout",
     "output_type": "stream",
     "text": [
      "select * from (select * from titles where title='Staff') a left outer join (select * from titles where title='Senior Staff') b on a.emp_no = b.emp_no where b.title is NULL limit 10;\n",
      "+--------+-------+------------+------------+--------+-------+-----------+---------+\r\n",
      "| emp_no | title | from_date  | to_date    | emp_no | title | from_date | to_date |\r\n",
      "+--------+-------+------------+------------+--------+-------+-----------+---------+\r\n",
      "|  10002 | Staff | 1996-08-03 | 9999-01-01 |   NULL | NULL  | NULL      | NULL    |\r\n",
      "|  10011 | Staff | 1990-01-22 | 1996-11-09 |   NULL | NULL  | NULL      | NULL    |\r\n",
      "|  10016 | Staff | 1998-02-11 | 9999-01-01 |   NULL | NULL  | NULL      | NULL    |\r\n",
      "|  10019 | Staff | 1999-04-30 | 9999-01-01 |   NULL | NULL  | NULL      | NULL    |\r\n",
      "|  10034 | Staff | 1995-04-12 | 1999-10-31 |   NULL | NULL  | NULL      | NULL    |\r\n",
      "|  10055 | Staff | 1992-04-27 | 1995-07-22 |   NULL | NULL  | NULL      | NULL    |\r\n",
      "|  10064 | Staff | 1985-11-20 | 1992-03-02 |   NULL | NULL  | NULL      | NULL    |\r\n",
      "|  10071 | Staff | 1995-08-05 | 9999-01-01 |   NULL | NULL  | NULL      | NULL    |\r\n",
      "|  10077 | Staff | 1994-12-23 | 9999-01-01 |   NULL | NULL  | NULL      | NULL    |\r\n",
      "|  10082 | Staff | 1990-01-03 | 1990-01-15 |   NULL | NULL  | NULL      | NULL    |\r\n",
      "+--------+-------+------------+------------+--------+-------+-----------+---------+\r\n",
      "10 rows in set (0.00 sec)\r\n",
      "\r\n"
     ]
    }
   ],
   "source": [
    "select * from \n",
    "(select * from titles where title='Staff') a\n",
    "left outer join\n",
    "(select * from titles where title='Senior Staff') b\n",
    "on a.emp_no = b.emp_no\n",
    "where b.title is NULL\n",
    "limit 10;"
   ]
  },
  {
   "cell_type": "markdown",
   "metadata": {},
   "source": [
    "また、以下はSenior Staffだけになった人です。"
   ]
  },
  {
   "cell_type": "code",
   "execution_count": 24,
   "metadata": {
    "collapsed": false
   },
   "outputs": [
    {
     "name": "stdout",
     "output_type": "stream",
     "text": [
      "select * from (select * from titles where title='Senior Staff') a left outer join (select * from titles where title='Staff') b on a.emp_no = b.emp_no where b.title is NULL limit 10;\n",
      "+--------+--------------+------------+------------+--------+-------+-----------+---------+\r\n",
      "| emp_no | title        | from_date  | to_date    | emp_no | title | from_date | to_date |\r\n",
      "+--------+--------------+------------+------------+--------+-------+-----------+---------+\r\n",
      "|  10013 | Senior Staff | 1985-10-20 | 9999-01-01 |   NULL | NULL  | NULL      | NULL    |\r\n",
      "|  10015 | Senior Staff | 1992-09-19 | 1993-08-22 |   NULL | NULL  | NULL      | NULL    |\r\n",
      "|  10036 | Senior Staff | 1992-04-28 | 9999-01-01 |   NULL | NULL  | NULL      | NULL    |\r\n",
      "|  10053 | Senior Staff | 1994-11-13 | 9999-01-01 |   NULL | NULL  | NULL      | NULL    |\r\n",
      "|  10058 | Senior Staff | 1988-04-25 | 9999-01-01 |   NULL | NULL  | NULL      | NULL    |\r\n",
      "|  10059 | Senior Staff | 1991-06-26 | 9999-01-01 |   NULL | NULL  | NULL      | NULL    |\r\n",
      "|  10061 | Senior Staff | 1989-12-02 | 9999-01-01 |   NULL | NULL  | NULL      | NULL    |\r\n",
      "|  10094 | Senior Staff | 1987-04-18 | 1997-11-08 |   NULL | NULL  | NULL      | NULL    |\r\n",
      "|  10104 | Senior Staff | 1987-04-16 | 9999-01-01 |   NULL | NULL  | NULL      | NULL    |\r\n",
      "|  10107 | Senior Staff | 1999-03-30 | 9999-01-01 |   NULL | NULL  | NULL      | NULL    |\r\n",
      "+--------+--------------+------------+------------+--------+-------+-----------+---------+\r\n",
      "10 rows in set (0.00 sec)\r\n",
      "\r\n"
     ]
    }
   ],
   "source": [
    "select * from \n",
    "(select * from titles where title='Senior Staff') a\n",
    "left outer join\n",
    "(select * from titles where title='Staff') b\n",
    "on a.emp_no = b.emp_no\n",
    "where b.title is NULL\n",
    "limit 10;"
   ]
  },
  {
   "cell_type": "markdown",
   "metadata": {},
   "source": [
    "#### <練習問題 1>"
   ]
  },
  {
   "cell_type": "markdown",
   "metadata": {},
   "source": [
    "各従業員について、最大給料が70,000以下の人、70,000～80,000の人、80,000～90,000の人、90,000より多い人でクロス表を作成してみましょう。"
   ]
  },
  {
   "cell_type": "code",
   "execution_count": 12,
   "metadata": {
    "collapsed": false
   },
   "outputs": [
    {
     "name": "stdout",
     "output_type": "stream",
     "text": [
      "select x0.emp_no, x0.salary , case when x1.emp_no is not null then 'OK' else '' end \"below_70000\" , case when x2.emp_no is not null then 'OK' else '' end \"70000-80000\" , case when x3.emp_no is not null then 'OK' else '' end \"80000-90000\" , case when x4.emp_no is not null then 'OK' else '' end \"over_70000\" from (select emp_no, max(salary) as salary from salaries group by emp_no) x0 left outer join (select emp_no from salaries group by emp_no having max(salary) <= 70000) x1 on x0.emp_no = x1.emp_no left outer join (select emp_no from salaries group by emp_no having max(salary) > 70000 and max(salary) <= 80000) x2 on x0.emp_no = x2.emp_no left outer join (select emp_no from salaries group by emp_no having max(salary) > 80000 and max(salary) <= 90000) x3 on x0.emp_no = x3.emp_no left outer join (select emp_no from salaries group by emp_no having max(salary) > 90000) x4 on x0.emp_no = x4.emp_no limit 10;\n",
      "+--------+--------+-------------+-------------+-------------+------------+\r\n",
      "| emp_no | salary | below_70000 | 70000-80000 | 80000-90000 | over_70000 |\r\n",
      "+--------+--------+-------------+-------------+-------------+------------+\r\n",
      "|  10001 |  88958 |             |             | OK          |            |\r\n",
      "|  10002 |  72527 |             | OK          |             |            |\r\n",
      "|  10003 |  43699 | OK          |             |             |            |\r\n",
      "|  10004 |  74057 |             | OK          |             |            |\r\n",
      "|  10005 |  94692 |             |             |             | OK         |\r\n",
      "|  10006 |  60098 | OK          |             |             |            |\r\n",
      "|  10007 |  88070 |             |             | OK          |            |\r\n",
      "|  10008 |  52668 | OK          |             |             |            |\r\n",
      "|  10009 |  94443 |             |             |             | OK         |\r\n",
      "|  10010 |  80324 |             |             | OK          |            |\r\n",
      "+--------+--------+-------------+-------------+-------------+------------+\r\n",
      "10 rows in set (4.07 sec)\r\n",
      "\r\n",
      "MariaDB [employees]"
     ]
    }
   ],
   "source": [
    "select\n",
    "    x0.emp_no, x0.salary\n",
    "    , case when x1.emp_no is not null then 'OK' else '' end \"below_70000\"\n",
    "    , case when x2.emp_no is not null then 'OK' else '' end \"70000-80000\"\n",
    "    , case when x3.emp_no is not null then 'OK' else '' end \"80000-90000\"\n",
    "    , case when x4.emp_no is not null then 'OK' else '' end \"over_70000\"\n",
    "from\n",
    "    (select emp_no, max(salary) as salary from salaries group by emp_no) x0\n",
    "    left outer join\n",
    "    (select emp_no from salaries group by emp_no having max(salary) <= 70000) x1\n",
    "    on x0.emp_no = x1.emp_no\n",
    "    left outer join\n",
    "    (select emp_no from salaries group by emp_no having max(salary) > 70000 and max(salary) <= 80000) x2\n",
    "    on x0.emp_no = x2.emp_no\n",
    "    left outer join\n",
    "    (select emp_no from salaries group by emp_no having max(salary) > 80000 and max(salary) <= 90000) x3\n",
    "    on x0.emp_no = x3.emp_no\n",
    "    left outer join\n",
    "    (select emp_no from salaries group by emp_no having max(salary) > 90000) x4\n",
    "    on x0.emp_no = x4.emp_no\n",
    "limit 10"
   ]
  },
  {
   "cell_type": "markdown",
   "metadata": {},
   "source": [
    "#### <練習問題 2>"
   ]
  },
  {
   "cell_type": "markdown",
   "metadata": {},
   "source": [
    "最大の給料が100,000より多い人のうち、最小の給料が90,000以上の人の数を求めてみましょう。"
   ]
  },
  {
   "cell_type": "code",
   "execution_count": 4,
   "metadata": {
    "collapsed": false
   },
   "outputs": [
    {
     "name": "stdout",
     "output_type": "stream",
     "text": [
      "select count(*) from (select emp_no from (select emp_no, max(salary) as salary from salaries group by emp_no)tmp where salary > 100000)x0 inner join (select emp_no from (select emp_no, min(salary) as salary from salaries group by emp_no)tmp where salary >= 90000)x1 on x0.emp_no = x1.emp_no limit 10;\n",
      "+----------+\r\n",
      "| count(*) |\r\n",
      "+----------+\r\n",
      "|     4835 |\r\n",
      "+----------+\r\n",
      "1 row in set (1.65 sec)\r\n",
      "\r\n",
      "MariaDB [employees]"
     ]
    }
   ],
   "source": [
    "select count(*)\n",
    "from\n",
    "(select emp_no from (select emp_no, max(salary) as salary from salaries group by emp_no)tmp where salary > 100000)x0\n",
    "inner join\n",
    "(select emp_no from (select emp_no, min(salary) as salary from salaries group by emp_no)tmp where salary >= 90000)x1\n",
    "on x0.emp_no = x1.emp_no\n",
    "limit 10"
   ]
  },
  {
   "cell_type": "markdown",
   "metadata": {},
   "source": [
    "### 6.2.4 （応用）having句の応用\n",
    "キーワード：having句"
   ]
  },
  {
   "cell_type": "markdown",
   "metadata": {},
   "source": [
    "havingの応用です。次は各部署に所属している従業員の平均給与を計算し、その平均給与が60000以上の人が半分（50%）以上の部署を抽出します。（本来は年月日によって所属部署や給与が異なるので、それらを考慮し条件を絞る必要がありますが、少し複雑になりますので、今回はこの手法を理解するために、省略します。）"
   ]
  },
  {
   "cell_type": "code",
   "execution_count": 25,
   "metadata": {
    "collapsed": false
   },
   "outputs": [
    {
     "name": "stdout",
     "output_type": "stream",
     "text": [
      "select c.dept_no ,c.dept_name ,count(distinct a.emp_no) as cnt ,avg(avgSalary) as avgDepSalary from dept_emp a left outer join ( select emp_no ,avg(salary) as avgSalary from salaries group by 1 ) b on a.emp_no = b.emp_no left outer join departments c on a.dept_no = c.dept_no group by 1,2 having count(*) * 0.5 <= SUM(case when b.avgSalary >= 60000 then 1 else 0 end) ;\n",
      "+---------+-----------+-------+----------------+\r\n",
      "| dept_no | dept_name | cnt   | avgDepSalary   |\r\n",
      "+---------+-----------+-------+----------------+\r\n",
      "| d001    | Marketing | 20211 | 69541.61771136 |\r\n",
      "| d002    | Finance   | 17346 | 68061.43501801 |\r\n",
      "| d007    | Sales     | 52245 | 78313.22247361 |\r\n",
      "+---------+-----------+-------+----------------+\r\n",
      "3 rows in set (3.45 sec)\r\n",
      "\r\n"
     ]
    }
   ],
   "source": [
    "select \n",
    "    c.dept_no\n",
    "    ,c.dept_name\n",
    "    ,count(distinct a.emp_no) as cnt\n",
    "    ,avg(avgSalary) as avgDepSalary \n",
    "from dept_emp a\n",
    "left outer join\n",
    "(\n",
    "    select \n",
    "        emp_no\n",
    "        ,avg(salary) as avgSalary \n",
    "    from salaries \n",
    "    group by 1\n",
    ") b\n",
    "on a.emp_no = b.emp_no \n",
    "left outer join departments c\n",
    "on a.dept_no = c.dept_no\n",
    "group by 1,2\n",
    "having count(*) * 0.5 <= SUM(case when b.avgSalary >= 60000 then 1 else 0 end)\n",
    ";"
   ]
  },
  {
   "cell_type": "markdown",
   "metadata": {},
   "source": [
    "***"
   ]
  },
  {
   "cell_type": "markdown",
   "metadata": {},
   "source": [
    "## 6.3 ストアドプロシージャとスドアドファンクション\n",
    "ゴール：ストアドプロシージャについて操作できること"
   ]
  },
  {
   "cell_type": "markdown",
   "metadata": {},
   "source": [
    "### 6.3.1 ストアドプロシージャ\n",
    "キーワード：ストアドプロシージャ"
   ]
  },
  {
   "cell_type": "markdown",
   "metadata": {},
   "source": [
    "SQLを使った一連の処理をまとめて実行するためのストアドプロシージャについて学んでいきましょう。前までは、SQLを単発で実行してきました。しかし、連続して同じような処理を実行したい場合など、都度それらを実行するのは面倒です。そこで、それらの処理を一括にまとめて処理するストアドプロシージャを用意して実行すれば、作業を効率化できます。\n",
    "また、変数を用いた演算、条件分岐やテーブルの作成など多少複雑な処理も可能になります。ここでは、簡単なストアドプロシージャの作成について学びます。"
   ]
  },
  {
   "cell_type": "code",
   "execution_count": 28,
   "metadata": {
    "collapsed": false
   },
   "outputs": [
    {
     "name": "stdout",
     "output_type": "stream",
     "text": [
      "show databases; use TEST1;\n",
      "+--------------------+\r\n",
      "| Database           |\r\n",
      "+--------------------+\r\n",
      "| information_schema |\r\n",
      "| TEST1              |\r\n",
      "| employees          |\r\n",
      "| foodmart_mondrian  |\r\n",
      "| mysql              |\r\n",
      "| performance_schema |\r\n",
      "| sakila             |\r\n",
      "| sys                |\r\n",
      "| test2              |\r\n",
      "| world              |\r\n",
      "+--------------------+\r\n",
      "10 rows in set (0.00 sec)\r\n",
      "\r\n",
      "Database changed\r\n"
     ]
    }
   ],
   "source": [
    "show databases;\n",
    "use TEST1;"
   ]
  },
  {
   "cell_type": "markdown",
   "metadata": {},
   "source": [
    "まず、ストアドプロシージャを作成するときは、以下のdelimiter //を実行してデリミタを指定します。プロシージャを作成するときはこれを忘れないようにしましょう。\n",
    "\n",
    "通常、デリミタはセミコロンですが、ストアドプロシージャの中には複数のSQL文を定義するため、途中で定義が終了しないようにデリミッタを変更します。**なおここの環境では、delimiterを実行する場合は、以下のようにセル1つ1行で「delimiter //」のみ記載して、実行してください。コメントを入れたり、まとめて処理を書かないようにしてください。**"
   ]
  },
  {
   "cell_type": "code",
   "execution_count": 29,
   "metadata": {
    "collapsed": false
   },
   "outputs": [
    {
     "name": "stdout",
     "output_type": "stream",
     "text": [
      "delimiter //;\n",
      "\r\n"
     ]
    }
   ],
   "source": [
    "delimiter //"
   ]
  },
  {
   "cell_type": "markdown",
   "metadata": {},
   "source": [
    "次に、ストアドプロシージャ作成をするのは、create procedureで始まり、beginとendでsql文を書き、最後に変更したデリミタの // をつけます。"
   ]
  },
  {
   "cell_type": "code",
   "execution_count": 30,
   "metadata": {
    "collapsed": false,
    "scrolled": true
   },
   "outputs": [
    {
     "name": "stdout",
     "output_type": "stream",
     "text": [
      "create procedure stpr1() begin select * from meibo; select * from meibo2; end //;\n",
      "\r\n",
      "Query OK, 0 rows affected (0.01 sec)\r\n",
      "\r\n"
     ]
    }
   ],
   "source": [
    "create procedure stpr1()\n",
    "begin\n",
    "select * from meibo;\n",
    "select * from meibo2;\n",
    "end\n",
    "//"
   ]
  },
  {
   "cell_type": "markdown",
   "metadata": {},
   "source": [
    "最後に、以下のdelimiter ;も忘れないように実行しましょう。デリミタをもとに戻します。（**こちらもこの1行だけのセルに記載し、実行してください。**）"
   ]
  },
  {
   "cell_type": "code",
   "execution_count": 31,
   "metadata": {
    "collapsed": false
   },
   "outputs": [
    {
     "name": "stdout",
     "output_type": "stream",
     "text": [
      "delimiter ;\n",
      "\r\n"
     ]
    }
   ],
   "source": [
    "delimiter ;"
   ]
  },
  {
   "cell_type": "markdown",
   "metadata": {},
   "source": [
    "作成したストアドプロシージャを呼ぶときは、以下のcallを使って実行します。"
   ]
  },
  {
   "cell_type": "code",
   "execution_count": 32,
   "metadata": {
    "collapsed": false
   },
   "outputs": [
    {
     "name": "stdout",
     "output_type": "stream",
     "text": [
      "call stpr1;\n",
      "+----+----------+-------+------+\r\n",
      "| id | name     | class | age  |\r\n",
      "+----+----------+-------+------+\r\n",
      "|  1 | Yamada   |     1 |   14 |\r\n",
      "|  2 | Tanaka   |     2 |   13 |\r\n",
      "|  3 | Suzuki   |     1 |   13 |\r\n",
      "|  5 | Ito      |     3 |   12 |\r\n",
      "|  6 | Takeuchi |     2 |   16 |\r\n",
      "|  7 | Kimura   |     3 |   11 |\r\n",
      "|  8 | Sato     |     1 |   14 |\r\n",
      "+----+----------+-------+------+\r\n",
      "7 rows in set (0.00 sec)\r\n",
      "\r\n",
      "Empty set (0.00 sec)\r\n",
      "\r\n",
      "Query OK, 0 rows affected (0.00 sec)\r\n",
      "\r\n"
     ]
    }
   ],
   "source": [
    "call stpr1;"
   ]
  },
  {
   "cell_type": "markdown",
   "metadata": {},
   "source": [
    "作成したストアドプロシージャを見たいときは、show create procedureを使います。"
   ]
  },
  {
   "cell_type": "code",
   "execution_count": 33,
   "metadata": {
    "collapsed": false
   },
   "outputs": [
    {
     "name": "stdout",
     "output_type": "stream",
     "text": [
      "show create procedure stpr1;\n",
      "+-----------+-------------------------------------------------------------------------------------------------------------------------------------------+------------------------------------------------------------------------------------------------------------+----------------------+----------------------+--------------------+\r\n",
      "| Procedure | sql_mode                                                                                                                                  | Create Procedure                                                                                           | character_set_client | collation_connection | Database Collation |\r\n",
      "+-----------+-------------------------------------------------------------------------------------------------------------------------------------------+------------------------------------------------------------------------------------------------------------+----------------------+----------------------+--------------------+\r\n",
      "| stpr1     | ONLY_FULL_GROUP_BY,STRICT_TRANS_TABLES,NO_ZERO_IN_DATE,NO_ZERO_DATE,ERROR_FOR_DIVISION_BY_ZERO,NO_AUTO_CREATE_USER,NO_ENGINE_SUBSTITUTION | CREATE DEFINER=`root`@`localhost` PROCEDURE `stpr1`()\r\n",
      "begin select * from meibo; select * from meibo2; end | utf8                 | utf8_general_ci      | utf8_general_ci    |\r\n",
      "+-----------+-------------------------------------------------------------------------------------------------------------------------------------------+------------------------------------------------------------------------------------------------------------+----------------------+----------------------+--------------------+\r\n",
      "1 row in set (0.00 sec)\r\n",
      "\r\n"
     ]
    }
   ],
   "source": [
    "show create procedure stpr1;"
   ]
  },
  {
   "cell_type": "markdown",
   "metadata": {},
   "source": [
    "作成したストアドプロシージャを削除したい場合は、dropを使います。"
   ]
  },
  {
   "cell_type": "code",
   "execution_count": 34,
   "metadata": {
    "collapsed": false
   },
   "outputs": [
    {
     "name": "stdout",
     "output_type": "stream",
     "text": [
      "drop procedure stpr1;\n",
      "\r\n",
      "Query OK, 0 rows affected (0.00 sec)\r\n",
      "\r\n"
     ]
    }
   ],
   "source": [
    "drop procedure stpr1;"
   ]
  },
  {
   "cell_type": "markdown",
   "metadata": {},
   "source": [
    "また、このストアドプロシージャに引数を指定して、実行することも可能です。以下では、int型のxを引数として、設定しています。"
   ]
  },
  {
   "cell_type": "code",
   "execution_count": 16,
   "metadata": {
    "collapsed": false
   },
   "outputs": [
    {
     "name": "stdout",
     "output_type": "stream",
     "text": [
      "delimiter //;\n",
      "\r\n"
     ]
    }
   ],
   "source": [
    "delimiter //"
   ]
  },
  {
   "cell_type": "code",
   "execution_count": 17,
   "metadata": {
    "collapsed": false,
    "scrolled": true
   },
   "outputs": [
    {
     "name": "stdout",
     "output_type": "stream",
     "text": [
      "create procedure stpr1(in x int) begin select * from meibo where age>=15; select * from meibo2 where age>=x; end //;\n",
      "\r\n",
      "Query OK, 0 rows affected (0.00 sec)\r\n",
      "\r\n"
     ]
    }
   ],
   "source": [
    "create procedure stpr2(in x int)\n",
    "begin\n",
    "select * from meibo where age>=x;\n",
    "select * from meibo2 where age>=x;\n",
    "end\n",
    "//"
   ]
  },
  {
   "cell_type": "code",
   "execution_count": 18,
   "metadata": {
    "collapsed": false
   },
   "outputs": [
    {
     "name": "stdout",
     "output_type": "stream",
     "text": [
      "delimiter ;\n",
      "\r\n"
     ]
    }
   ],
   "source": [
    "delimiter ;"
   ]
  },
  {
   "cell_type": "markdown",
   "metadata": {},
   "source": [
    "以下を実行すると、meiboとmeibo3のテーブルで、15歳以上のレコードが選択されているのがわかります。"
   ]
  },
  {
   "cell_type": "code",
   "execution_count": 19,
   "metadata": {
    "collapsed": false
   },
   "outputs": [
    {
     "name": "stdout",
     "output_type": "stream",
     "text": [
      "call stpr1(15);\n",
      "+----+----------+-------+------+------+\r\n",
      "| id | name     | class | age  | high |\r\n",
      "+----+----------+-------+------+------+\r\n",
      "|  4 | Kato     |     2 |   15 |  150 |\r\n",
      "|  6 | Takeuchi |     2 |   16 |  155 |\r\n",
      "+----+----------+-------+------+------+\r\n",
      "2 rows in set (0.00 sec)\r\n",
      "\r\n",
      "+----+------+-------+------+\r\n",
      "| id | name | class | age  |\r\n",
      "+----+------+-------+------+\r\n",
      "| 12 | Jon  |     3 |   16 |\r\n",
      "+----+------+-------+------+\r\n",
      "1 row in set (0.00 sec)\r\n",
      "\r\n",
      "Query OK, 0 rows affected (0.00 sec)\r\n",
      "\r\n"
     ]
    }
   ],
   "source": [
    "call stpr2(15);"
   ]
  },
  {
   "cell_type": "markdown",
   "metadata": {},
   "source": [
    "#### <練習問題 1>"
   ]
  },
  {
   "cell_type": "markdown",
   "metadata": {},
   "source": [
    "次の処理を実行するストアド・プロシージャを作成して実行してみましょう。\n",
    "\n",
    "・meiboテーブルと同じ構造のテーブルmeibo3を作成\n",
    "\n",
    "・meiboテーブルのデータをmeibo3テーブルに挿入\n",
    "\n",
    "・meibo3テーブルにweightカラムを追加\n",
    "\n",
    "・引数で与えられたBMIとhighカラムの身長から体重を逆算してweightカラムに設定する（※BMI=体重(kg)÷(身長(m)×身長(m))\n",
    "\n",
    "・meibo3の内容を出力"
   ]
  },
  {
   "cell_type": "markdown",
   "metadata": {},
   "source": [
    "### 6.3.2 ストアドファンクション\n",
    "キーワード：ストアドファンクション"
   ]
  },
  {
   "cell_type": "markdown",
   "metadata": {},
   "source": [
    "次は、ストアドファンクションです。ストアドプロシージャと同じように作成できますが、値を一つだけ返す点が異なります。ユーザー定義関数とも言われます。作成した関数はcount関数やmax関数のように標準の関数と同じように利用できます。\n",
    "\n",
    "次は、meiboテーブルにあるデータの平均年齢を返す処理をする関数を作成します。\n",
    "\n",
    "ストアドプロシージャと同じようにデリミタを変更してから実行してください。"
   ]
  },
  {
   "cell_type": "code",
   "execution_count": 18,
   "metadata": {
    "collapsed": false
   },
   "outputs": [
    {
     "name": "stdout",
     "output_type": "stream",
     "text": [
      "drop function if exists fc1;\n",
      "\r\n",
      "Query OK, 0 rows affected, 1 warning (0.00 sec)\r\n",
      "\r\n"
     ]
    }
   ],
   "source": [
    "drop function if exists fc1;"
   ]
  },
  {
   "cell_type": "code",
   "execution_count": 19,
   "metadata": {
    "collapsed": false
   },
   "outputs": [
    {
     "name": "stdout",
     "output_type": "stream",
     "text": [
      "delimiter //;\n",
      "\r\n"
     ]
    }
   ],
   "source": [
    "delimiter //"
   ]
  },
  {
   "cell_type": "markdown",
   "metadata": {},
   "source": [
    "「create function 関数名 returns 返り値の型」からはじまり、begin~endで記述します。"
   ]
  },
  {
   "cell_type": "code",
   "execution_count": 20,
   "metadata": {
    "collapsed": false,
    "scrolled": true
   },
   "outputs": [
    {
     "name": "stdout",
     "output_type": "stream",
     "text": [
      "create function fc1() returns double begin declare avgAge double; select avg(age) into avgAge from meibo; return avgAge; end //;\n",
      "\r\n",
      "Query OK, 0 rows affected (0.00 sec)\r\n",
      "\r\n"
     ]
    }
   ],
   "source": [
    "create function fc1() returns double\n",
    "begin\n",
    "declare avgAge double;\n",
    "select avg(age) into avgAge from meibo;\n",
    "return avgAge;\n",
    "end\n",
    "//"
   ]
  },
  {
   "cell_type": "markdown",
   "metadata": {},
   "source": [
    "デリミタをもとに戻します。"
   ]
  },
  {
   "cell_type": "code",
   "execution_count": 21,
   "metadata": {
    "collapsed": false
   },
   "outputs": [
    {
     "name": "stdout",
     "output_type": "stream",
     "text": [
      "delimiter ;\n",
      "\r\n"
     ]
    }
   ],
   "source": [
    "delimiter ;"
   ]
  },
  {
   "cell_type": "markdown",
   "metadata": {},
   "source": [
    "呼び出しは以下のようにします。"
   ]
  },
  {
   "cell_type": "code",
   "execution_count": null,
   "metadata": {
    "collapsed": true
   },
   "outputs": [],
   "source": [
    "select fc1();"
   ]
  },
  {
   "cell_type": "markdown",
   "metadata": {},
   "source": [
    "#### <練習問題 1>"
   ]
  },
  {
   "cell_type": "markdown",
   "metadata": {},
   "source": [
    "上記の例を参考に、meiboテーブルから平均身長を返す関数を作成して呼んでください。"
   ]
  },
  {
   "cell_type": "markdown",
   "metadata": {},
   "source": [
    "#### <練習問題 2>"
   ]
  },
  {
   "cell_type": "markdown",
   "metadata": {},
   "source": [
    "MySQLはナノ秒の取扱ができません。時、分、秒、ナノ秒（小数点以下の秒）の4つの引数を与えると \"HH:MM:SS.sssssssss\"形式の文字列(varchar(18))を返す関数を作って実行してみましょう。\n",
    "\n",
    "ヒント：文字列の結合にはconcat関数が利用できます。"
   ]
  },
  {
   "cell_type": "markdown",
   "metadata": {},
   "source": [
    "***"
   ]
  },
  {
   "cell_type": "markdown",
   "metadata": {},
   "source": [
    "## 6.4 インデクシングとSQLの高速化\n",
    "ゴール：データベース上の処理の高速化の手法を知る"
   ]
  },
  {
   "cell_type": "markdown",
   "metadata": {},
   "source": [
    "### 6.4.1 インデックスの設定\n",
    "キーワード：インデックス"
   ]
  },
  {
   "cell_type": "markdown",
   "metadata": {},
   "source": [
    "テーブルからデータを検索するときに、データが膨大にある場合には全件検索は非常に時間がかかります。そこで、テーブルに索引を設定することで、検索がしやすくなり、高速化できます。テーブルに設定する索引を**インデックス**と言います。なお、主キーを設定した場合には、自動的にインデックスも作成されます。ただし、インデックスを設定することでいつもでも早くなるというわけではなく、適切に設定することが大事です。"
   ]
  },
  {
   "cell_type": "code",
   "execution_count": 2,
   "metadata": {
    "collapsed": false
   },
   "outputs": [
    {
     "name": "stdout",
     "output_type": "stream",
     "text": [
      "show databases; use employees;\n",
      "+--------------------+\r\n",
      "| Database           |\r\n",
      "+--------------------+\r\n",
      "| information_schema |\r\n",
      "| TEST1              |\r\n",
      "| employees          |\r\n",
      "| foodmart           |\r\n",
      "| foodmart_mondrian  |\r\n",
      "| mysql              |\r\n",
      "| performance_schema |\r\n",
      "| sakila             |\r\n",
      "| sys                |\r\n",
      "| test2              |\r\n",
      "| world              |\r\n",
      "+--------------------+\r\n",
      "11 rows in set (0.00 sec)\r\n",
      "\r\n",
      "Database changed\r\n"
     ]
    }
   ],
   "source": [
    "show databases;\n",
    "use employees;"
   ]
  },
  {
   "cell_type": "code",
   "execution_count": 9,
   "metadata": {
    "collapsed": false
   },
   "outputs": [
    {
     "name": "stdout",
     "output_type": "stream",
     "text": [
      "show tables;\n",
      "+---------------------+\r\n",
      "| Tables_in_employees |\r\n",
      "+---------------------+\r\n",
      "| departments         |\r\n",
      "| dept_emp            |\r\n",
      "| dept_manager        |\r\n",
      "| employees           |\r\n",
      "| salaries            |\r\n",
      "| titles              |\r\n",
      "+---------------------+\r\n",
      "6 rows in set (0.00 sec)\r\n",
      "\r\n"
     ]
    }
   ],
   "source": [
    "show tables;"
   ]
  },
  {
   "cell_type": "code",
   "execution_count": 12,
   "metadata": {
    "collapsed": false
   },
   "outputs": [
    {
     "name": "stdout",
     "output_type": "stream",
     "text": [
      "show index from employees;\n",
      "+-----------+------------+----------+--------------+-------------+-----------+-------------+----------+--------+------+------------+---------+---------------+\r\n",
      "| Table     | Non_unique | Key_name | Seq_in_index | Column_name | Collation | Cardinality | Sub_part | Packed | Null | Index_type | Comment | Index_comment |\r\n",
      "+-----------+------------+----------+--------------+-------------+-----------+-------------+----------+--------+------+------------+---------+---------------+\r\n",
      "| employees |          0 | PRIMARY  |            1 | emp_no      | A         |      299157 |     NULL | NULL   |      | BTREE      |         |               |\r\n",
      "+-----------+------------+----------+--------------+-------------+-----------+-------------+----------+--------+------+------------+---------+---------------+\r\n",
      "1 row in set (0.00 sec)\r\n",
      "\r\n"
     ]
    }
   ],
   "source": [
    "show index from employees;"
   ]
  },
  {
   "cell_type": "markdown",
   "metadata": {},
   "source": [
    "explainを使うと、クエリがどのような順番でどのような方法でテーブルを検索するかを知ることができます。"
   ]
  },
  {
   "cell_type": "code",
   "execution_count": 60,
   "metadata": {
    "collapsed": false,
    "scrolled": false
   },
   "outputs": [
    {
     "name": "stdout",
     "output_type": "stream",
     "text": [
      "explain select * from employees;\n",
      "+----+-------------+-----------+------------+------+---------------+------+---------+------+--------+----------+-------+\r\n",
      "| id | select_type | table     | partitions | type | possible_keys | key  | key_len | ref  | rows   | filtered | Extra |\r\n",
      "+----+-------------+-----------+------------+------+---------------+------+---------+------+--------+----------+-------+\r\n",
      "|  1 | SIMPLE      | employees | NULL       | ALL  | NULL          | NULL | NULL    | NULL | 299157 |   100.00 | NULL  |\r\n",
      "+----+-------------+-----------+------------+------+---------------+------+---------+------+--------+----------+-------+\r\n",
      "1 row in set, 1 warning (0.00 sec)\r\n",
      "\r\n"
     ]
    }
   ],
   "source": [
    "explain\n",
    "select * from employees;"
   ]
  },
  {
   "cell_type": "markdown",
   "metadata": {},
   "source": [
    "条件指定をせずにテーブルの全てを出力しているのでインデックスも利用されていないことがわかります。\n",
    "6.2.4で実行したクエリをexplainで調べてみましょう。"
   ]
  },
  {
   "cell_type": "code",
   "execution_count": 13,
   "metadata": {
    "collapsed": false
   },
   "outputs": [
    {
     "name": "stdout",
     "output_type": "stream",
     "text": [
      "explain select c.dept_no ,c.dept_name,count(distinct a.emp_no) as cnt ,avg(avgSalary) as avgDepSalary from dept_emp a left outer join (select emp_no ,avg(salary) as avgSalary from salaries group by 1) b on a.emp_no = b.emp_no left outer join departments c on a.dept_no = c.dept_no group by 1,2 having count(*) * 0.5 <= SUM(case when b.avgSalary >= 60000 then 1 else 0 end);\n",
      "+------+-------------+------------+--------+---------------+---------+---------+---------------------+---------+----------------------------------------------+\r\n",
      "| id   | select_type | table      | type   | possible_keys | key     | key_len | ref                 | rows    | Extra                                        |\r\n",
      "+------+-------------+------------+--------+---------------+---------+---------+---------------------+---------+----------------------------------------------+\r\n",
      "|    1 | PRIMARY     | a          | index  | NULL          | emp_no  | 4       | NULL                |  331570 | Using index; Using temporary; Using filesort |\r\n",
      "|    1 | PRIMARY     | <derived2"
     ]
    }
   ],
   "source": [
    "explain\n",
    "select \n",
    "    c.dept_no\n",
    "    ,c.dept_name,count(distinct a.emp_no) as cnt\n",
    "    ,avg(avgSalary) as avgDepSalary \n",
    "from dept_emp a\n",
    "left outer join\n",
    "(select \n",
    "    emp_no\n",
    "    ,avg(salary) as avgSalary \n",
    "from salaries \n",
    "group by 1) b\n",
    "on a.emp_no = b.emp_no \n",
    "left outer join departments c\n",
    "on a.dept_no = c.dept_no\n",
    "group by 1,2\n",
    "having count(*) * 0.5 <= SUM(case when b.avgSalary >= 60000 then 1 else 0 end)"
   ]
  },
  {
   "cell_type": "markdown",
   "metadata": {},
   "source": [
    "keyに値が入っていればインデックスは利用されています。"
   ]
  },
  {
   "cell_type": "code",
   "execution_count": 13,
   "metadata": {
    "collapsed": false
   },
   "outputs": [
    {
     "name": "stdout",
     "output_type": "stream",
     "text": [
      "select * from employees limit 4;\n",
      "+--------+------------+------------+-----------+--------+------------+\r\n",
      "| emp_no | birth_date | first_name | last_name | gender | hire_date  |\r\n",
      "+--------+------------+------------+-----------+--------+------------+\r\n",
      "|  10001 | 1953-09-02 | Georgi     | Facello   | M      | 1986-06-26 |\r\n",
      "|  10002 | 1964-06-02 | Bezalel    | Simmel    | F      | 1985-11-21 |\r\n",
      "|  10003 | 1959-12-03 | Parto      | Bamford   | M      | 1986-08-28 |\r\n",
      "|  10004 | 1954-05-01 | Chirstian  | Koblick   | M      | 1986-12-01 |\r\n",
      "+--------+------------+------------+-----------+--------+------------+\r\n",
      "4 rows in set (0.00 sec)\r\n",
      "\r\n"
     ]
    }
   ],
   "source": [
    "select * from employees limit 4;"
   ]
  },
  {
   "cell_type": "markdown",
   "metadata": {},
   "source": [
    "既にあるテーブルにインデックスを追加する場合は以下のように設定します。"
   ]
  },
  {
   "cell_type": "code",
   "execution_count": 7,
   "metadata": {
    "collapsed": false
   },
   "outputs": [
    {
     "name": "stdout",
     "output_type": "stream",
     "text": [
      "create index my_oinde_birth_date on employees(birth_date);\n",
      "\r\n",
      "Query OK, 0 rows affected (0.41 sec)\r\n",
      "Records: 0  Duplicates: 0  Warnings: 0\r\n",
      "\r\n"
     ]
    }
   ],
   "source": [
    "create index my_oinde_birth_date on employees(birth_date);"
   ]
  },
  {
   "cell_type": "markdown",
   "metadata": {},
   "source": [
    "確かめると以下のようにインデックスが設定されていることがわかります。"
   ]
  },
  {
   "cell_type": "code",
   "execution_count": 8,
   "metadata": {
    "collapsed": false,
    "scrolled": true
   },
   "outputs": [
    {
     "name": "stdout",
     "output_type": "stream",
     "text": [
      "show index from employees;\n",
      "+-----------+------------+---------------------+--------------+-------------+-----------+-------------+----------+--------+------+------------+---------+---------------+\r\n",
      "| Table     | Non_unique | Key_name            | Seq_in_index | Column_name | Collation | Cardinality | Sub_part | Packed | Null | Index_type | Comment | Index_comment |\r\n",
      "+-----------+------------+---------------------+--------------+-------------+-----------+-------------+----------+--------+------+------------+---------+---------------+\r\n",
      "| employees |          0 | PRIMARY             |            1 | emp_no      | A         |      299157 |     NULL | NULL   |      | BTREE      |         |               |\r\n",
      "| employees |          1 | my_oinde_birth_date |            1 | birth_date  | A         |        4723 |     NULL | NULL   |      | BTREE      |         |               |\r\n",
      "+-----------+------------+---------------------+--------------+-------------+-----------+-------------+----------+--------+------+------------+---------+---------------+\r\n",
      "2 rows in set (0.00 sec)\r\n",
      "\r\n"
     ]
    }
   ],
   "source": [
    "show index from employees;"
   ]
  },
  {
   "cell_type": "markdown",
   "metadata": {},
   "source": [
    "インデックスは以下のように削除します。"
   ]
  },
  {
   "cell_type": "code",
   "execution_count": 9,
   "metadata": {
    "collapsed": false
   },
   "outputs": [
    {
     "name": "stdout",
     "output_type": "stream",
     "text": [
      "drop index my_oinde_birth_date on employees;\n",
      "\r\n",
      "Query OK, 0 rows affected (0.02 sec)\r\n",
      "Records: 0  Duplicates: 0  Warnings: 0\r\n",
      "\r\n"
     ]
    }
   ],
   "source": [
    "drop index my_oinde_birth_date on employees;"
   ]
  },
  {
   "cell_type": "markdown",
   "metadata": {},
   "source": [
    "確かめると以下のようにインデックスが削除されていることがわかります。"
   ]
  },
  {
   "cell_type": "code",
   "execution_count": 10,
   "metadata": {
    "collapsed": false,
    "scrolled": true
   },
   "outputs": [
    {
     "name": "stdout",
     "output_type": "stream",
     "text": [
      "show index from employees;\n",
      "+-----------+------------+----------+--------------+-------------+-----------+-------------+----------+--------+------+------------+---------+---------------+\r\n",
      "| Table     | Non_unique | Key_name | Seq_in_index | Column_name | Collation | Cardinality | Sub_part | Packed | Null | Index_type | Comment | Index_comment |\r\n",
      "+-----------+------------+----------+--------------+-------------+-----------+-------------+----------+--------+------+------------+---------+---------------+\r\n",
      "| employees |          0 | PRIMARY  |            1 | emp_no      | A         |      299157 |     NULL | NULL   |      | BTREE      |         |               |\r\n",
      "+-----------+------------+----------+--------------+-------------+-----------+-------------+----------+--------+------+------------+---------+---------------+\r\n",
      "1 row in set (0.00 sec)\r\n",
      "\r\n"
     ]
    }
   ],
   "source": [
    "show index from employees;"
   ]
  },
  {
   "cell_type": "markdown",
   "metadata": {},
   "source": [
    "大量のデータから一部を検索するときはインデックスが利用されることが重要になります。\n",
    "一回のwhere句やjoin、order by、group by の条件指定では一個のインデックスしか使えません。複数のカラムを条件指定しないと検索結果を絞り込めない場合は複合インデックスを指定します。salariesテーブルは元々、主キーがemp_noとfrom_dateの複合インデックスになっていますが、from_date、to_dateを同時に用いて検索したい場合は次のようにインデックスを設定すると良いでしょう。"
   ]
  },
  {
   "cell_type": "code",
   "execution_count": 11,
   "metadata": {
    "collapsed": false
   },
   "outputs": [
    {
     "name": "stdout",
     "output_type": "stream",
     "text": [
      "create index from_to_date on salaries(from_date,to_date);\n",
      "\r\n",
      "Query OK, 0 rows affected (4.66 sec)\r\n",
      "Records: 0  Duplicates: 0  Warnings: 0\r\n",
      "\r\n"
     ]
    }
   ],
   "source": [
    "create index from_to_date on salaries(from_date,to_date);"
   ]
  },
  {
   "cell_type": "markdown",
   "metadata": {},
   "source": [
    "作成されたインデックスを確認します。"
   ]
  },
  {
   "cell_type": "code",
   "execution_count": 12,
   "metadata": {
    "collapsed": false
   },
   "outputs": [
    {
     "name": "stdout",
     "output_type": "stream",
     "text": [
      "show index from salaries;\n",
      "+----------+------------+--------------+--------------+-------------+-----------+-------------+----------+--------+------+------------+---------+---------------+\r\n",
      "| Table    | Non_unique | Key_name     | Seq_in_index | Column_name | Collation | Cardinality | Sub_part | Packed | Null | Index_type | Comment | Index_comment |\r\n",
      "+----------+------------+--------------+--------------+-------------+-----------+-------------+----------+--------+------+------------+---------+---------------+\r\n",
      "| salaries |          0 | PRIMARY      |            1 | emp_no      | A         |      301468 |     NULL | NULL   |      | BTREE      |         |               |\r\n",
      "| salaries |          0 | PRIMARY      |            2 | from_date   | A         |     2838426 |     NULL | NULL   |      | BTREE      |         |               |\r\n",
      "| salaries |          1 | emp_no       |            1 | emp_no      | A         |      303833 |     NULL | NULL   |      | BTREE      |         |               |\r\n",
      "| salaries |          1 | from_to_date |            1 | from_date   | A         |        5970 |     NULL | NULL   |      | BTREE      |         |               |\r\n",
      "| salaries |          1 | from_to_date |            2 | to_date     | A         |       67035 |     NULL | NULL   |      | BTREE      |         |               |\r\n",
      "+----------+------------+--------------+--------------+-------------+-----------+-------------+----------+--------+------+------------+---------+---------------+\r\n",
      "5 rows in set (0.00 sec)\r\n",
      "\r\n"
     ]
    }
   ],
   "source": [
    "show index from salaries;"
   ]
  },
  {
   "cell_type": "markdown",
   "metadata": {},
   "source": [
    "インデックスを追加すると、検索は高速になりますが、インデックスの作成に時間がかかるためレコードの追加が遅くなったり、インデックスの情報を格納するためにディスク容量も必要になるというデメリットがあります。デメリットを把握した上で設定しましょう。\n",
    "\n",
    "レコード数が少なかったり、ランダムアクセスが高速なSSDを利用している場合は必ずしもインデックスが必要ではないため、設定していても利用されない場合があります。むやみにインデックスを設定することは避けましょう。\n",
    "\n",
    "また、インデックスで絞り込んでもテーブルの大部分のレコードが残るような場合、インデックスを介して検索するよりインデックスを利用しないほうが高速な場合もあります。"
   ]
  },
  {
   "cell_type": "markdown",
   "metadata": {},
   "source": [
    "#### <練習問題 1>"
   ]
  },
  {
   "cell_type": "markdown",
   "metadata": {},
   "source": [
    "dept_empテーブルのfrom_date、to_dateに複合インデックスを設定してみましょう。"
   ]
  },
  {
   "cell_type": "markdown",
   "metadata": {},
   "source": [
    "### 6.4.2 インデックスの種類\n",
    "キーワード：Bツリーインデックス、ハッシュインデックス、Rツリーインデックス"
   ]
  },
  {
   "cell_type": "markdown",
   "metadata": {},
   "source": [
    "参考ですが、インデックスのデータの型の種類とそれぞれの特徴について以下、簡単に説明します。\n",
    "\n",
    "- **Bツリー(balanced tree)インデックス**  \n",
    "一番人気が高く、インデックスの型として最もよく使われます。  \n",
    "柔軟性、サイズ、全体的な性能のバランスをうまくとっています。\n",
    "\n",
    "\n",
    "- **ハッシュインデックス**  \n",
    "二番目に人気が高いです。  \n",
    "ツリーよりもハッシュテーブルに似ていて、各キーにハッシュ関数を実行した結果に基づいて並べます。   \n",
    "\n",
    "\n",
    "- **Rツリーインデックス**  \n",
    "空間データまたはN次元データを扱うときに用いられます。  \n",
    "地図や地球科学のアプリケーションで幅広く使われます。  "
   ]
  },
  {
   "cell_type": "markdown",
   "metadata": {},
   "source": [
    "### 6.4.3 SQLのパフォーマンスチューニング\n",
    "キーワード：havingの活用"
   ]
  },
  {
   "cell_type": "markdown",
   "metadata": {},
   "source": [
    "インデックスを使用する際は、条件式の左辺はカラムをいじらずに、そのままで設定しましょう。以下は、emp_noを係数倍して、それが400000より大きいものを抽出しています。"
   ]
  },
  {
   "cell_type": "code",
   "execution_count": 39,
   "metadata": {
    "collapsed": false
   },
   "outputs": [
    {
     "name": "stdout",
     "output_type": "stream",
     "text": [
      "select * from employees where emp_no * 0.80001 > 400000;\n",
      "+--------+------------+------------+-----------+--------+------------+\r\n",
      "| emp_no | birth_date | first_name | last_name | gender | hire_date  |\r\n",
      "+--------+------------+------------+-----------+--------+------------+\r\n",
      "| 499994 | 1952-02-26 | Navin      | Argence   | F      | 1990-04-24 |\r\n",
      "| 499995 | 1958-09-24 | Dekang     | Lichtner  | F      | 1993-01-12 |\r\n",
      "| 499996 | 1953-03-07 | Zito       | Baaz      | M      | 1990-09-27 |\r\n",
      "| 499997 | 1961-08-03 | Berhard    | Lenart    | M      | 1986-04-21 |\r\n",
      "| 499998 | 1956-09-05 | Patricia   | Breugel   | M      | 1993-10-13 |\r\n",
      "| 499999 | 1958-05-01 | Sachin     | Tsukuda   | M      | 1997-11-30 |\r\n",
      "+--------+------------+------------+-----------+--------+------------+\r\n",
      "6 rows in set (0.14 sec)\r\n",
      "\r\n"
     ]
    }
   ],
   "source": [
    "select * from employees\n",
    "where emp_no * 0.80001 > 400000;"
   ]
  },
  {
   "cell_type": "markdown",
   "metadata": {},
   "source": [
    "左辺を演算を入れずに、そのカラムのままにしておく設定だと、クエリが返ってくる時間が短くなります。上記の結果と比較してみてください。"
   ]
  },
  {
   "cell_type": "code",
   "execution_count": 38,
   "metadata": {
    "collapsed": false
   },
   "outputs": [
    {
     "name": "stdout",
     "output_type": "stream",
     "text": [
      "select * from employees where emp_no > 400000/0.80001;\n",
      "+--------+------------+------------+-----------+--------+------------+\r\n",
      "| emp_no | birth_date | first_name | last_name | gender | hire_date  |\r\n",
      "+--------+------------+------------+-----------+--------+------------+\r\n",
      "| 499994 | 1952-02-26 | Navin      | Argence   | F      | 1990-04-24 |\r\n",
      "| 499995 | 1958-09-24 | Dekang     | Lichtner  | F      | 1993-01-12 |\r\n",
      "| 499996 | 1953-03-07 | Zito       | Baaz      | M      | 1990-09-27 |\r\n",
      "| 499997 | 1961-08-03 | Berhard    | Lenart    | M      | 1986-04-21 |\r\n",
      "| 499998 | 1956-09-05 | Patricia   | Breugel   | M      | 1993-10-13 |\r\n",
      "| 499999 | 1958-05-01 | Sachin     | Tsukuda   | M      | 1997-11-30 |\r\n",
      "+--------+------------+------------+-----------+--------+------------+\r\n",
      "6 rows in set (0.00 sec)\r\n",
      "\r\n"
     ]
    }
   ],
   "source": [
    "select * from employees\n",
    "where emp_no > 400000/0.80001;"
   ]
  },
  {
   "cell_type": "markdown",
   "metadata": {},
   "source": [
    "無駄な中間テーブルは減らして、having句を活用しましょう。"
   ]
  },
  {
   "cell_type": "code",
   "execution_count": 53,
   "metadata": {
    "collapsed": false
   },
   "outputs": [
    {
     "name": "stdout",
     "output_type": "stream",
     "text": [
      "select * from (select emp_no,max(salary) as maxSalary from salaries group by 1) tmp where maxSalary > 155000;\n",
      "+--------+-----------+\r\n",
      "| emp_no | maxSalary |\r\n",
      "+--------+-----------+\r\n",
      "|  43624 |    158220 |\r\n",
      "|  47978 |    155709 |\r\n",
      "| 109334 |    155377 |\r\n",
      "| 253939 |    155513 |\r\n",
      "| 254466 |    156286 |\r\n",
      "+--------+-----------+\r\n",
      "5 rows in set (0.88 sec)\r\n",
      "\r\n"
     ]
    }
   ],
   "source": [
    "select * from\n",
    "(select emp_no,max(salary) as maxSalary from salaries group by 1) tmp\n",
    "where maxSalary > 155000;"
   ]
  },
  {
   "cell_type": "markdown",
   "metadata": {},
   "source": [
    "若干ですが、クエリが返ってくる時間が短くなります。"
   ]
  },
  {
   "cell_type": "code",
   "execution_count": 55,
   "metadata": {
    "collapsed": false
   },
   "outputs": [
    {
     "name": "stdout",
     "output_type": "stream",
     "text": [
      "select emp_no ,max(salary) as maxSalary from salaries group by 1 having maxSalary > 155000;\n",
      "+--------+-----------+\r\n",
      "| emp_no | maxSalary |\r\n",
      "+--------+-----------+\r\n",
      "|  43624 |    158220 |\r\n",
      "|  47978 |    155709 |\r\n",
      "| 109334 |    155377 |\r\n",
      "| 253939 |    155513 |\r\n",
      "| 254466 |    156286 |\r\n",
      "+--------+-----------+\r\n",
      "5 rows in set (0.80 sec)\r\n",
      "\r\n"
     ]
    }
   ],
   "source": [
    "select \n",
    "    emp_no\n",
    "    ,max(salary) as maxSalary\n",
    "from salaries \n",
    "group by 1\n",
    "having maxSalary > 155000;"
   ]
  },
  {
   "cell_type": "markdown",
   "metadata": {},
   "source": [
    "演算処理はレコード件数を絞った後に実行されるようにしましょう。\n",
    "\n",
    "6.2.3節で実行したクエリを高速化してみます。\n",
    "\n",
    "(**ここから先の結果は、環境によっては、特に変化はなかったり、遅かったりする可能性もあるので、参考に見ておいてください**)"
   ]
  },
  {
   "cell_type": "markdown",
   "metadata": {},
   "source": [
    "explainを実行してみましょう。"
   ]
  },
  {
   "cell_type": "code",
   "execution_count": 27,
   "metadata": {
    "collapsed": false
   },
   "outputs": [
    {
     "name": "stdout",
     "output_type": "stream",
     "text": [
      "explain select x0.emp_no ,case when x1.emp_no is not null then 'OK' else '' end as \"Staff\" ,case when x2.emp_no is not null then 'OK' else '' end as \"Senior Staff\" ,case when x3.emp_no is not null then 'OK' else '' end as \"Engineer\" from (select distinct emp_no from employees ) x0 left outer join (select emp_no from titles where title =\"Staff\") x1 on x0.emp_no = x1.emp_no left outer join (select emp_no from titles where title =\"Senior Staff\") x2 on x0.emp_no = x2.emp_no left outer join (select emp_no from titles where title =\"Engineer\") x3 on x0.emp_no = x3.emp_no limit 10;\n",
      "+----+-------------+------------+------------+-------+----------------+---------+---------+-----------------+--------+----------+-------------+\r\n",
      "| id | select_type | table      | partitions | type  | possible_keys  | key     | key_len | ref             | rows   | filtered | Extra       |\r\n",
      "+----+-------------+------------+------------+-------+----------------+---------+---------+-----------------+--------+----------+-------------+\r\n",
      "|  1 | PRIMARY     | <derived2> | NULL       | ALL   | NULL           | NULL    | NULL    | NULL            | 299157 |   100.00 | NULL        |\r\n",
      "|  1 | PRIMARY     | titles     | NULL       | ref   | PRIMARY,emp_no | emp_no  | 156     | x0.emp_no,const |      1 |   100.00 | Using index |\r\n",
      "|  1 | PRIMARY     | titles     | NULL       | ref   | PRIMARY,emp_no | emp_no  | 156     | x0.emp_no,const |      1 |   100.00 | Using index |\r\n",
      "|  1 | PRIMARY     | titles     | NULL       | ref   | PRIMARY,emp_no | emp_no  | 156     | x0.emp_no,const |      1 |   100.00 | Using index |\r\n",
      "|  2 | DERIVED     | employees  | NULL       | index | PRIMARY        | PRIMARY | 4       | NULL            | 299157 |   100.00 | Using index |\r\n",
      "+----+-------------+------------+------------+-------+----------------+---------+---------+-----------------+--------+----------+-------------+\r\n",
      "5 rows in set, 1 warning (0.00 sec)\r\n",
      "\r\n"
     ]
    }
   ],
   "source": [
    "explain\n",
    "select \n",
    "    x0.emp_no\n",
    "    ,case when x1.emp_no is not null then 'OK' else '' end as \"Staff\"\n",
    "    ,case when x2.emp_no is not null then 'OK' else '' end as \"Senior Staff\"\n",
    "    ,case when x3.emp_no is not null then 'OK' else '' end as \"Engineer\"\n",
    "from (select distinct emp_no from employees ) x0\n",
    "left outer join (select emp_no from titles where title =\"Staff\") x1 on x0.emp_no = x1.emp_no\n",
    "left outer join (select emp_no from titles where title =\"Senior Staff\") x2 on x0.emp_no = x2.emp_no\n",
    "left outer join (select emp_no from titles where title =\"Engineer\") x3 on x0.emp_no = x3.emp_no\n",
    "limit 10;"
   ]
  },
  {
   "cell_type": "markdown",
   "metadata": {},
   "source": [
    "このクエリはx0の部分が主になって、x1,x2,x3が外部結合されています。\n",
    "\n",
    "explainの結果、一番最初に選択されているテーブル(x0)の行数が291,937となっています。これは、limit句が一番外にあるためです。joinやcase文の演算を実行してからレコードがlimit句で10行だけ抽出されています。x0の段階でlimit 10を指定しておくとその他の処理も10行分しか実行しないため高速になります。\n",
    "\n",
    "x0のサブクエリの時点でlimit句を指定してexplainを実行してみましょう"
   ]
  },
  {
   "cell_type": "code",
   "execution_count": 25,
   "metadata": {
    "collapsed": false
   },
   "outputs": [
    {
     "name": "stdout",
     "output_type": "stream",
     "text": [
      "explain select x0.emp_no ,case when x1.emp_no is not null then 'OK' else '' end as \"Staff\" ,case when x2.emp_no is not null then 'OK' else '' end as \"Senior Staff\" ,case when x3.emp_no is not null then 'OK' else '' end as \"Engineer\" from (select distinct emp_no from employees limit 10) x0 left outer join (select emp_no from titles where title =\"Staff\") x1 on x0.emp_no = x1.emp_no left outer join (select emp_no from titles where title =\"Senior Staff\") x2 on x0.emp_no = x2.emp_no left outer join (select emp_no from titles where title =\"Engineer\") x3 on x0.emp_no = x3.emp_no ;\n",
      "+----+-------------+------------+------------+-------+----------------+---------+---------+-----------------+--------+----------+-------------+\r\n",
      "| id | select_type | table      | partitions | type  | possible_keys  | key     | key_len | ref             | rows   | filtered | Extra       |\r\n",
      "+----+-------------+------------+------------+-------+----------------+---------+---------+-----------------+--------+----------+-------------+\r\n",
      "|  1 | PRIMARY     | <derived2> | NULL       | ALL   | NULL           | NULL    | NULL    | NULL            |     10 |   100.00 | NULL        |\r\n",
      "|  1 | PRIMARY     | titles     | NULL       | ref   | PRIMARY,emp_no | emp_no  | 156     | x0.emp_no,const |      1 |   100.00 | Using index |\r\n",
      "|  1 | PRIMARY     | titles     | NULL       | ref   | PRIMARY,emp_no | emp_no  | 156     | x0.emp_no,const |      1 |   100.00 | Using index |\r\n",
      "|  1 | PRIMARY     | titles     | NULL       | ref   | PRIMARY,emp_no | emp_no  | 156     | x0.emp_no,const |      1 |   100.00 | Using index |\r\n",
      "|  2 | DERIVED     | employees  | NULL       | index | PRIMARY        | PRIMARY | 4       | NULL            | 299157 |   100.00 | Using index |\r\n",
      "+----+-------------+------------+------------+-------+----------------+---------+---------+-----------------+--------+----------+-------------+\r\n",
      "5 rows in set, 1 warning (0.00 sec)\r\n",
      "\r\n"
     ]
    }
   ],
   "source": [
    "explain\n",
    "select \n",
    "    x0.emp_no\n",
    "    ,case when x1.emp_no is not null then 'OK' else '' end as \"Staff\"\n",
    "    ,case when x2.emp_no is not null then 'OK' else '' end as \"Senior Staff\"\n",
    "    ,case when x3.emp_no is not null then 'OK' else '' end as \"Engineer\"\n",
    "from (select distinct emp_no from employees limit 10) x0\n",
    "left outer join (select emp_no from titles where title =\"Staff\") x1 on x0.emp_no = x1.emp_no\n",
    "left outer join (select emp_no from titles where title =\"Senior Staff\") x2 on x0.emp_no = x2.emp_no\n",
    "left outer join (select emp_no from titles where title =\"Engineer\") x3 on x0.emp_no = x3.emp_no\n",
    ";"
   ]
  },
  {
   "cell_type": "markdown",
   "metadata": {},
   "source": [
    "一番最初に選択されるテーブル(x0)の行数が10になりました。\n",
    "\n",
    "実行してみます。"
   ]
  },
  {
   "cell_type": "code",
   "execution_count": 26,
   "metadata": {
    "collapsed": false
   },
   "outputs": [
    {
     "name": "stdout",
     "output_type": "stream",
     "text": [
      "select x0.emp_no ,case when x1.emp_no is not null then 'OK' else '' end as \"Staff\" ,case when x2.emp_no is not null then 'OK' else '' end as \"Senior Staff\" ,case when x3.emp_no is not null then 'OK' else '' end as \"Engineer\" from (select distinct emp_no from employees limit 10) x0 left outer join (select emp_no from titles where title =\"Staff\") x1 on x0.emp_no = x1.emp_no left outer join (select emp_no from titles where title =\"Senior Staff\") x2 on x0.emp_no = x2.emp_no left outer join (select emp_no from titles where title =\"Engineer\") x3 on x0.emp_no = x3.emp_no ;\n",
      "+--------+-------+--------------+----------+\r\n",
      "| emp_no | Staff | Senior Staff | Engineer |\r\n",
      "+--------+-------+--------------+----------+\r\n",
      "|  10001 |       |              |          |\r\n",
      "|  10002 | OK    |              |          |\r\n",
      "|  10003 |       |              |          |\r\n",
      "|  10004 |       |              | OK       |\r\n",
      "|  10005 | OK    | OK           |          |\r\n",
      "|  10006 |       |              |          |\r\n",
      "|  10007 | OK    | OK           |          |\r\n",
      "|  10008 |       |              |          |\r\n",
      "|  10009 |       |              | OK       |\r\n",
      "|  10010 |       |              | OK       |\r\n",
      "+--------+-------+--------------+----------+\r\n",
      "10 rows in set (0.00 sec)\r\n",
      "\r\n"
     ]
    }
   ],
   "source": [
    "select \n",
    "    x0.emp_no\n",
    "    ,case when x1.emp_no is not null then 'OK' else '' end as \"Staff\"\n",
    "    ,case when x2.emp_no is not null then 'OK' else '' end as \"Senior Staff\"\n",
    "    ,case when x3.emp_no is not null then 'OK' else '' end as \"Engineer\"\n",
    "from (select distinct emp_no from employees limit 10) x0\n",
    "left outer join (select emp_no from titles where title =\"Staff\") x1 on x0.emp_no = x1.emp_no\n",
    "left outer join (select emp_no from titles where title =\"Senior Staff\") x2 on x0.emp_no = x2.emp_no\n",
    "left outer join (select emp_no from titles where title =\"Engineer\") x3 on x0.emp_no = x3.emp_no\n",
    ";"
   ]
  },
  {
   "cell_type": "markdown",
   "metadata": {},
   "source": [
    "実行時間が大幅削減されました。\n",
    "\n",
    "さらに、x0テーブルはemp_noの重複を排除するためにdistinctを指定していますが、employeesテーブルの主キーなので重複はありません。x0のサブクエリは廃止できます。"
   ]
  },
  {
   "cell_type": "code",
   "execution_count": 23,
   "metadata": {
    "collapsed": false,
    "scrolled": false
   },
   "outputs": [
    {
     "name": "stdout",
     "output_type": "stream",
     "text": [
      "select x0.emp_no ,case when x1.emp_no is not null then 'OK' else '' end as \"Staff\" ,case when x2.emp_no is not null then 'OK' else '' end as \"Senior Staff\" ,case when x3.emp_no is not null then 'OK' else '' end as \"Engineer\" from employees  x0 left outer join (select emp_no from titles where title =\"Staff\") x1 on x0.emp_no = x1.emp_no left outer join (select emp_no from titles where title =\"Senior Staff\") x2 on x0.emp_no = x2.emp_no left outer join (select emp_no from titles where title =\"Engineer\") x3 on x0.emp_no = x3.emp_no limit 10;\n",
      "+--------+-------+--------------+----------+\r\n",
      "| emp_no | Staff | Senior Staff | Engineer |\r\n",
      "+--------+-------+--------------+----------+\r\n",
      "|  10001 |       |              |          |\r\n",
      "|  10002 | OK    |              |          |\r\n",
      "|  10003 |       |              |          |\r\n",
      "|  10004 |       |              | OK       |\r\n",
      "|  10005 | OK    | OK           |          |\r\n",
      "|  10006 |       |              |          |\r\n",
      "|  10007 | OK    | OK           |          |\r\n",
      "|  10008 |       |              |          |\r\n",
      "|  10009 |       |              | OK       |\r\n",
      "|  10010 |       |              | OK       |\r\n",
      "+--------+-------+--------------+----------+\r\n",
      "10 rows in set (0.00 sec)\r\n",
      "\r\n"
     ]
    }
   ],
   "source": [
    "select \n",
    "    x0.emp_no\n",
    "    ,case when x1.emp_no is not null then 'OK' else '' end as \"Staff\"\n",
    "    ,case when x2.emp_no is not null then 'OK' else '' end as \"Senior Staff\"\n",
    "    ,case when x3.emp_no is not null then 'OK' else '' end as \"Engineer\"\n",
    "from employees  x0\n",
    "left outer join (select emp_no from titles where title =\"Staff\") x1 on x0.emp_no = x1.emp_no\n",
    "left outer join (select emp_no from titles where title =\"Senior Staff\") x2 on x0.emp_no = x2.emp_no\n",
    "left outer join (select emp_no from titles where title =\"Engineer\") x3 on x0.emp_no = x3.emp_no\n",
    "limit 10;"
   ]
  },
  {
   "cell_type": "markdown",
   "metadata": {},
   "source": [
    "この他、SQLの高速化には以下のような手法があります。詳細の説明は省略しますが、DBMSの公式サイトや書籍等を参照してください。\n",
    "\n",
    "##### SQL実行時のプロファイリング結果を利用する。\n",
    "\n",
    "プロファイリング機能を利用して、クエリの実行時間のうちどれだけの時間をどの処理で使用したかを確認しつつ、時間のかかっている原因を取り除きます。explainの結果とあわせて利用します。\n",
    "\n",
    "##### パーティショニングを利用する。\n",
    "\n",
    "1つのテーブルを複数に分割することで処理の高速化と格納効率を向上することが見込めます。テーブル定義にパーティショニングを設定することでテーブルを分割して高速になる場合があります。ただし、分割したテーブルを全て参照するようなSQLになる場合は逆に遅くなる場合もありますので注意してください。\n",
    "\n",
    "##### DBMSの設定値をチューニングする。\n",
    "\n",
    "DBMSの確保するメモリが足りないために一時テーブルをファイルに出力して処理すると急激に遅くなります。DBMSの確保するキャッシュ容量を調整することで回避できる場合があります。その他、DBMSの設定値を変更することでパフォーマンスを向上させることができる場合があります。"
   ]
  },
  {
   "cell_type": "markdown",
   "metadata": {},
   "source": [
    "***"
   ]
  },
  {
   "cell_type": "markdown",
   "metadata": {},
   "source": [
    "## 6.5 その他\n",
    "ゴール：ファイルのやり取りやデータモデリング、正規化の概念を知る"
   ]
  },
  {
   "cell_type": "markdown",
   "metadata": {},
   "source": [
    "### 6.5.1 データベースとファイルのやり取り\n",
    "キーワード：データのインポート、エクスポート"
   ]
  },
  {
   "cell_type": "markdown",
   "metadata": {},
   "source": [
    "データのファイル形式は様々あり、ここではよく扱われるCSV(Comma Separated Values)ファイルをデータベースに取り込むインポートや、データをファイルに書き出すエクスポート等について簡単に紹介します。"
   ]
  },
  {
   "cell_type": "markdown",
   "metadata": {},
   "source": [
    "まずは、インポートです。これまでサンプルのデータを準備するときに、手で一部入力をして、実行していました。もちろん、大量のデータがある場合に、手で入力するのは現実的ではなく、CSVファイルにあるデータを自動的に入れる方法があり、「load data infile 'ファイル名' into table テーブル名 オプション;」のような記述で実行します。\n",
    "ファイル名は、そのディレクトリ名を含むこともできます。オプションは、データの区切り文字や先頭をスキップする時などに使います。\n",
    "一方、エクスポートについては、「select * into outfile 'ファイル名' オプション from テーブル名」のように記述をして、ファイルをアウトプットします。もし、大量のファイルをデータベースに入れたい場合や、その逆をすることがあれば、これらの方法を検討してみてください。"
   ]
  },
  {
   "cell_type": "markdown",
   "metadata": {},
   "source": [
    "この他、SQLが記述されたファイルを実行する「source ファイル名」や、データベースをバックアップする方法（ダンプ）や、それを再び戻す方法（リストア）もあります。詳しくはMySQLの公式サイトを参照してみてください。\n",
    "\n",
    "データのインポート：https://dev.mysql.com/doc/refman/5.6/ja/load-data.html\n",
    "\n",
    "データのエクスポート：https://dev.mysql.com/doc/refman/5.6/ja/select-into.html\n",
    "\n",
    "データベースのバックアップ・リストア：https://dev.mysql.com/doc/refman/5.6/ja/mysqldump.html"
   ]
  },
  {
   "cell_type": "markdown",
   "metadata": {},
   "source": [
    "### 6.5.2 データモデリングと正規化\n",
    "キーワード：データモデリング、正規化"
   ]
  },
  {
   "cell_type": "markdown",
   "metadata": {},
   "source": [
    "前章では、データベースにテーブルがない場合は、テーブルを作成してきました。顧客の名前を管理する必要があれば、顧客名のカラムを作成し、それだけでは名前に重複がある可能性もあるので、一意に定まるIDのカラムを設定したり、他に属性情報等があれば、それらのカラムを作成します。これらのテーブル設計の要件は、ビジネスによって異なり、はじめにしっかりとやらないと、後で困ること（カラムが足りない、後から追加したいなどのニーズが出てきたときに柔軟に変更できるかどうかなど）も出てきます。このように、必要なデータ項目を洗い出して、テーブル設計していくことを**データモデリング**といいます。"
   ]
  },
  {
   "cell_type": "markdown",
   "metadata": {},
   "source": [
    "このデータモデリングを進めていく上で、重要なことが**正規化**です。正規化の目的は、効率よくデータを扱うために整理することにあります。具体的には、あるテーブルの列において、データが繰り返し出てきて、別のテーブルにしたほうが、更新などもしやすいというケースがあります。この正規化には第1正規形から第5正規形、他にも色々とありますので、興味ある方は以下の参考文献やネットなどで調べてみてください。"
   ]
  },
  {
   "cell_type": "markdown",
   "metadata": {},
   "source": [
    ">[参考文献]\n",
    "\n",
    ">『Webエンジニアのための データベース技術[実践]入門 (Software Design plus)』（松信 嘉範 (著)、技術評論社）"
   ]
  },
  {
   "cell_type": "markdown",
   "metadata": {},
   "source": [
    "以上で、この章は完了です。お疲れ様でした。再掲ですが、以下の参考文献などを読んで、是非中級者への道に進んでください。"
   ]
  },
  {
   "cell_type": "markdown",
   "metadata": {},
   "source": [
    ">[参考文献]\n",
    "\n",
    ">『SQL実践入門──高速でわかりやすいクエリの書き方 (WEB+DB PRESS plus) 』（ミック  (著)、技術評論社）\n",
    "\n",
    ">『プログラマのためのSQL 第4版』（ジョー・セルコ (著), Joe Celko (著), ミック (監修, 翻訳)、翔泳社）\n",
    "\n",
    ">『達人に学ぶ SQL徹底指南書』（ミック  (著)、翔泳社）\n",
    "\n",
    ">『達人に学ぶDB設計 徹底指南書 初級者で終わりたくないあなたへ 』（ミック  (著)、翔泳社）\n",
    "\n",
    ">『ビッグデータ分析・活用のためのSQLレシピ』（加嵜 長門  (著), 田宮 直人  (著), 丸山 弘詩 (編集)、マイナビ出版 ）"
   ]
  },
  {
   "cell_type": "markdown",
   "metadata": {},
   "source": [
    "***"
   ]
  },
  {
   "cell_type": "markdown",
   "metadata": {},
   "source": [
    "## 6.6 総合問題"
   ]
  },
  {
   "cell_type": "markdown",
   "metadata": {},
   "source": [
    "### 6.6.1 総合問題1\n",
    "\n",
    "以下のデータベースを使って、次の問題を考えて実行してみましょう。\n",
    "\n",
    "https://dev.mysql.com/doc/sakila/en/"
   ]
  },
  {
   "cell_type": "markdown",
   "metadata": {},
   "source": [
    "ターミナル(もしくは画面上にあるKernelをPythonに変更して)から以下のコマンドを入力します。"
   ]
  },
  {
   "cell_type": "markdown",
   "metadata": {},
   "source": [
    "-------------------\n",
    "wget http://downloads.mysql.com/docs/sakila-db.tar.gz  \n",
    "tar zxf sakila-db.tar.gz  \n",
    "cd sakila-db  \n",
    "mysql -h\"db1\" -P\"3306\" -u root -p\"ilect\" < sakila-schema.sql  \n",
    "mysql -h\"db1\" -P\"3306\" -u root -p\"ilect\" < sakila-data.sql  \n",
    "\n",
    "-------------------"
   ]
  },
  {
   "cell_type": "code",
   "execution_count": 1,
   "metadata": {
    "collapsed": false
   },
   "outputs": [
    {
     "name": "stdout",
     "output_type": "stream",
     "text": [
      "show databases;\n",
      "+--------------------+\r\n",
      "| Database           |\r\n",
      "+--------------------+\r\n",
      "| TEST1              |\r\n",
      "| TEST2              |\r\n",
      "| employees          |\r\n",
      "| information_schema |\r\n",
      "| mysql              |\r\n",
      "| performance_schema |\r\n",
      "| sakila             |\r\n",
      "| world              |\r\n",
      "+--------------------+\r\n",
      "8 rows in set (0.01 sec)\r\n",
      "\r\n",
      "MariaDB [(none)]"
     ]
    }
   ],
   "source": [
    "show databases"
   ]
  },
  {
   "cell_type": "code",
   "execution_count": 2,
   "metadata": {
    "collapsed": false
   },
   "outputs": [
    {
     "name": "stdout",
     "output_type": "stream",
     "text": [
      "use sakila;\n",
      " Database changed\r\n",
      "MariaDB [sakila]"
     ]
    }
   ],
   "source": [
    "use sakila"
   ]
  },
  {
   "cell_type": "code",
   "execution_count": 3,
   "metadata": {
    "collapsed": false
   },
   "outputs": [
    {
     "name": "stdout",
     "output_type": "stream",
     "text": [
      "show tables;\n",
      "+----------------------------+\r\n",
      "| Tables_in_sakila           |\r\n",
      "+----------------------------+\r\n",
      "| actor                      |\r\n",
      "| actor_info                 |\r\n",
      "| address                    |\r\n",
      "| category                   |\r\n",
      "| city                       |\r\n",
      "| country                    |\r\n",
      "| customer                   |\r\n",
      "| customer_list              |\r\n",
      "| film                       |\r\n",
      "| film_actor                 |\r\n",
      "| film_category              |\r\n",
      "| film_list                  |\r\n",
      "| film_text                  |\r\n",
      "| inventory                  |\r\n",
      "| language                   |\r\n",
      "| nicer_but_slower_film_list |\r\n",
      "| payment                    |\r\n",
      "| rental                     |\r\n",
      "| sales_by_film_category     |\r\n",
      "| sales_by_store             |\r\n",
      "| staff                      |\r\n",
      "| staff_list                 |\r\n",
      "| store                      |\r\n",
      "+----------------------------+\r\n",
      "23 rows in set (0.00 sec)\r\n",
      "\r\n",
      "MariaDB [sakila]"
     ]
    }
   ],
   "source": [
    "show tables"
   ]
  },
  {
   "cell_type": "code",
   "execution_count": 19,
   "metadata": {
    "collapsed": false
   },
   "outputs": [
    {
     "name": "stdout",
     "output_type": "stream",
     "text": [
      "select * from rental limit 10;\n",
      "+-----------+---------------------+--------------+-------------+---------------------+----------+---------------------+\r\n",
      "| rental_id | rental_date         | inventory_id | customer_id | return_date         | staff_id | last_update         |\r\n",
      "+-----------+---------------------+--------------+-------------+---------------------+----------+---------------------+\r\n",
      "|         1 | 2005-05-24 22:53:30 |          367 |         130 | 2005-05-26 22:04:30 |        1 | 2006-02-15 21:30:53 |\r\n",
      "|         2 | 2005-05-24 22:54:33 |         1525 |         459 | 2005-05-28 19:40:33 |        1 | 2006-02-15 21:30:53 |\r\n",
      "|         3 | 2005-05-24 23:03:39 |         1711 |         408 | 2005-06-01 22:12:39 |        1 | 2006-02-15 21:30:53 |\r\n",
      "|         4 | 2005-05-24 23:04:41 |         2452 |         333 | 2005-06-03 01:43:41 |        2 | 2006-02-15 21:30:53 |\r\n",
      "|         5 | 2005-05-24 23:05:21 |         2079 |         222 | 2005-06-02 04:33:21 |        1 | 2006-02-15 21:30:53 |\r\n",
      "|         6 | 2005-05-24 23:08:07 |         2792 |         549 | 2005-05-27 01:32:07 |        1 | 2006-02-15 21:30:53 |\r\n",
      "|         7 | 2005-05-24 23:11:53 |         3995 |         269 | 2005-05-29 20:34:53 |        2 | 2006-02-15 21:30:53 |\r\n",
      "|         8 | 2005-05-24 23:31:46 |         2346 |         239 | 2005-05-27 23:33:46 |        2 | 2006-02-15 21:30:53 |\r\n",
      "|         9 | 2005-05-25 00:00:40 |         2580 |         126 | 2005-05-28 00:22:40 |        1 | 2006-02-15 21:30:53 |\r\n",
      "|        10 | 2005-05-25 00:02:21 |         1824 |         399 | 2005-05-31 22:44:21 |        2 | 2006-02-15 21:30:53 |\r\n",
      "+-----------+---------------------+--------------+-------------+---------------------+----------+---------------------+\r\n",
      "10 rows in set (0.00 sec)\r\n",
      "\r\n",
      "MariaDB [sakila]"
     ]
    }
   ],
   "source": [
    "select * from rental limit 10"
   ]
  },
  {
   "cell_type": "code",
   "execution_count": 45,
   "metadata": {
    "collapsed": false,
    "scrolled": true
   },
   "outputs": [
    {
     "name": "stdout",
     "output_type": "stream",
     "text": [
      "select distinct cast(rental_date as char(7)) from rental;\n",
      "+------------------------------+\r\n",
      "| cast(rental_date as char(7)) |\r\n",
      "+------------------------------+\r\n",
      "| 2005-05                      |\r\n",
      "| 2005-06                      |\r\n",
      "| 2005-07                      |\r\n",
      "| 2005-08                      |\r\n",
      "| 2006-02                      |\r\n",
      "+------------------------------+\r\n",
      "5 rows in set, 16044 warnings (0.01 sec)\r\n",
      "\r\n",
      "MariaDB [sakila]"
     ]
    }
   ],
   "source": [
    "select distinct cast(rental_date as char(7)) from rental"
   ]
  },
  {
   "cell_type": "code",
   "execution_count": 3,
   "metadata": {
    "collapsed": false
   },
   "outputs": [
    {
     "name": "stdout",
     "output_type": "stream",
     "text": [
      "select * from (select rental_id, staff_id from rental)x0 left outer join (select rental_id from rental where cast(rental_date as char(7))='2005-05')x1 on x0.rental_id = x1.rental_id left outer join (select rental_id from rental where cast(rental_date as char(7))='2005-06')x2 on x0.rental_id = x2.rental_id left outer join (select rental_id from rental where cast(rental_date as char(7))='2005-07')x3 on x0.rental_id = x3.rental_id left outer join (select rental_id from rental where cast(rental_date as char(7))='2005-08')x4 on x0.rental_id = x4.rental_id left outer join (select rental_id from rental where cast(rental_date as char(7))='2006-02')x5 on x0.rental_id = x5.rental_id limit 10;\n",
      "+-----------+----------+-----------+-----------+-----------+-----------+-----------+\r\n",
      "| rental_id | staff_id | rental_id | rental_id | rental_id | rental_id | rental_id |\r\n",
      "+-----------+----------+-----------+-----------+-----------+-----------+-----------+\r\n",
      "|         1 |        1 |         1 |      NULL |      NULL |      NULL |      NULL |\r\n",
      "|         2 |        1 |         2 |      NULL |      NULL |      NULL |      NULL |\r\n",
      "|         3 |        1 |         3 |      NULL |      NULL |      NULL |      NULL |\r\n",
      "|         5 |        1 |         5 |      NULL |      NULL |      NULL |      NULL |\r\n",
      "|         6 |        1 |         6 |      NULL |      NULL |      NULL |      NULL |\r\n",
      "|         9 |        1 |         9 |      NULL |      NULL |      NULL |      NULL |\r\n",
      "|        13 |        1 |        13 |      NULL |      NULL |      NULL |      NULL |\r\n",
      "|        14 |        1 |        14 |      NULL |      NULL |      NULL |      NULL |\r\n",
      "|        15 |        1 |        15 |      NULL |      NULL |      NULL |      NULL |\r\n",
      "|        17 |        1 |        17 |      NULL |      NULL |      NULL |      NULL |\r\n",
      "+-----------+----------+-----------+-----------+-----------+-----------+-----------+\r\n",
      "10 rows in set, 60 warnings (0.00 sec)\r\n",
      "\r\n",
      "MariaDB [sakila]"
     ]
    }
   ],
   "source": [
    "select\n",
    "    *\n",
    "from\n",
    "    (select rental_id, staff_id from rental)x0\n",
    "    left outer join\n",
    "    (select rental_id from rental where cast(rental_date as char(7))='2005-05')x1\n",
    "    on x0.rental_id = x1.rental_id\n",
    "    left outer join\n",
    "    (select rental_id from rental where cast(rental_date as char(7))='2005-06')x2\n",
    "    on x0.rental_id = x2.rental_id\n",
    "    left outer join\n",
    "   (select rental_id from rental where cast(rental_date as char(7))='2005-07')x3\n",
    "    on x0.rental_id = x3.rental_id\n",
    "    left outer join\n",
    "   (select rental_id from rental where cast(rental_date as char(7))='2005-08')x4\n",
    "    on x0.rental_id = x4.rental_id\n",
    "    left outer join\n",
    "   (select rental_id from rental where cast(rental_date as char(7))='2006-02')x5\n",
    "    on x0.rental_id = x5.rental_id\n",
    "limit 10"
   ]
  },
  {
   "cell_type": "code",
   "execution_count": 14,
   "metadata": {
    "collapsed": false
   },
   "outputs": [
    {
     "name": "stdout",
     "output_type": "stream",
     "text": [
      "select staff_list.name , sum(m1) as '2005-05' , sum(m2) as '2005-06' , sum(m3) as '2005-07' , sum(m4) as '2005-08' , sum(m5) as '2006-02' from (select staff_id , case when date_format(rental_date, '%Y-%m')='2005-05' then 1 else 0 end as 'm1' , case when cast(rental_date as char(7))='2005-06' then 1 else 0 end as 'm2' , case when cast(rental_date as char(7))='2005-07' then 1 else 0 end as 'm3' , case when cast(rental_date as char(7))='2005-08' then 1 else 0 end as 'm4' , case when cast(rental_date as char(7))='2006-02' then 1 else 0 end as 'm5' from rental) tmp0 join staff_list on tmp0.staff_id = staff_list.ID group by staff_list.name;\n",
      "+--------------+---------+---------+---------+---------+---------+\r\n",
      "| name         | 2005-05 | 2005-06 | 2005-07 | 2005-08 | 2006-02 |\r\n",
      "+--------------+---------+---------+---------+---------+---------+\r\n",
      "| Jon Stephens |     598 |    1148 |    3367 |    2794 |      97 |\r\n",
      "| Mike Hillyer |     558 |    1163 |    3342 |    2892 |      85 |\r\n",
      "+--------------+---------+---------+---------+---------+---------+\r\n",
      "2 rows in set, 64176 warnings (0.08 sec)\r\n",
      "\r\n",
      "MariaDB [sakila]"
     ]
    }
   ],
   "source": [
    "select\n",
    "    staff_list.name\n",
    "    , sum(m1) as '2005-05'\n",
    "    , sum(m2) as '2005-06'\n",
    "    , sum(m3) as '2005-07'\n",
    "    , sum(m4) as '2005-08'\n",
    "    , sum(m5) as '2006-02'\n",
    "from\n",
    "    (select\n",
    "        staff_id\n",
    "        , case when date_format(rental_date, '%Y-%m')='2005-05' then 1 else 0 end as 'm1'\n",
    "        , case when date_format(rental_date, '%Y-%m')='2005-06' then 1 else 0 end as 'm2'\n",
    "        , case when date_format(rental_date, '%Y-%m')='2005-07' then 1 else 0 end as 'm3'\n",
    "        , case when date_format(rental_date, '%Y-%m')='2005-08' then 1 else 0 end as 'm4'\n",
    "        , case when date_format(rental_date, '%Y-%m')='2006-02' then 1 else 0 end as 'm5'\n",
    "    from rental) tmp0\n",
    "    join staff_list on tmp0.staff_id = staff_list.ID\n",
    "group by staff_list.name"
   ]
  },
  {
   "cell_type": "code",
   "execution_count": 8,
   "metadata": {
    "collapsed": false
   },
   "outputs": [
    {
     "name": "stdout",
     "output_type": "stream",
     "text": [
      "select staff_list.name, x0.cnt from staff_list join (select staff_id, count(*) as cnt from rental group by staff_id) x0 on staff_list.ID = x0.staff_id;\n",
      "+--------------+------+\r\n",
      "| name         | cnt  |\r\n",
      "+--------------+------+\r\n",
      "| Mike Hillyer | 8040 |\r\n",
      "| Jon Stephens | 8004 |\r\n",
      "+--------------+------+\r\n",
      "2 rows in set (0.00 sec)\r\n",
      "\r\n",
      "MariaDB [sakila]"
     ]
    }
   ],
   "source": [
    "select staff_list.name, x0.cnt from staff_list join (select staff_id, count(*) as cnt from rental group by staff_id) x0 on staff_list.ID = x0.staff_id"
   ]
  },
  {
   "cell_type": "markdown",
   "metadata": {},
   "source": [
    "(1) 支払金額の総額が100ドル以上の顧客名と支払総額を表示してください。"
   ]
  },
  {
   "cell_type": "markdown",
   "metadata": {},
   "source": [
    "(2) (1)の結果を新しいテーブルに格納するストアド・プロシージャを作成してください。ただし、支払総額の閾値は引数で指定できるようにしてください。"
   ]
  },
  {
   "cell_type": "markdown",
   "metadata": {},
   "source": [
    "### 6.6.2 総合問題2\n",
    "\n",
    "以下のデータベースを使って 後の問に答えてください。\n",
    "\n",
    "https://sites.google.com/a/dlpage.phi-integration.com/pentaho/mondrian/mysql-foodmart-database/foodmart_mysql.tar.gz?attredirects=0\n",
    "\n",
    "参考の解説等はこちらになります。\n",
    "\n",
    "https://github.com/julianhyde/foodmart-data-hsqldb\n",
    "\n",
    "http://www.fromdual.ch/foodmart-old"
   ]
  },
  {
   "cell_type": "markdown",
   "metadata": {},
   "source": [
    "**まずはデータを入れるために、データベースfoodmartを作成してください。**"
   ]
  },
  {
   "cell_type": "markdown",
   "metadata": {},
   "source": [
    "次に、ターミナル(もしくは画面上にあるKernelをPythonに変更して)から以下のコマンドを入力します。"
   ]
  },
  {
   "cell_type": "markdown",
   "metadata": {},
   "source": [
    "-------------------\n",
    "mkdir foodmart  \n",
    "cd foodmart  \n",
    "wget http://pentaho.dlpage.phi-integration.com/mondrian/mysql-foodmart-database/foodmart_mysql.tar.gz  \n",
    "tar zxf  foodmart_mysql.tar.gz  \n",
    "mysql -h\"db1\" -P\"3306\" -u root -p\"ilect\" foodmart < foodmart_mysql.sql  \n",
    "\n",
    "-------------------"
   ]
  },
  {
   "cell_type": "markdown",
   "metadata": {},
   "source": [
    "(1) 1998年1月の従業員の給料ランキングを10位まで表示してください。"
   ]
  },
  {
   "cell_type": "markdown",
   "metadata": {},
   "source": [
    "(2) sales_fact_1998テーブルの中で、同じ人が同じ時間に買っている商品の2つの組み合わせの中で、購買回数が多い2つの商品はどれとどれでしょうか。TOP5を抽出して、商品名(product_name)でそれぞれ答えてください。なお、商品はproduct_idベースでカウントして、同じ人とはcustomer_idが同じことを意味し、同じ時間とはtime_idが同じことを意味します。なお、これをバスケット分析（同時併売）といい、期間併売で計算することもあります。"
   ]
  }
 ],
 "metadata": {
  "anaconda-cloud": {},
  "kernelspec": {
   "display_name": "mysql",
   "language": "",
   "name": "mysql"
  },
  "language_info": {
   "file_extension": ".sql",
   "mimetype": "text/plain",
   "name": "mysql"
  }
 },
 "nbformat": 4,
 "nbformat_minor": 0
}

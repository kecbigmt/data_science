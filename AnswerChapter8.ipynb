{
 "cells": [
  {
   "cell_type": "markdown",
   "metadata": {},
   "source": [
    "# 8 機械学習の基礎練習と総合問題解答"
   ]
  },
  {
   "cell_type": "markdown",
   "metadata": {},
   "source": [
    "- **[8.1 機械学習の全体像](#8.1-機械学習の全体像)**\n",
    "    - [8.1.1 機械学習とは？](#8.1.1-機械学習とは？)\n",
    "    - [8.1.2 教師あり学習](#8.1.2-教師あり学習)\n",
    "    - [8.1.3 教師なし学習](#8.1.3-教師なし学習)\n",
    "    - [8.1.4 強化学習](#8.1.4-強化学習)\n",
    "<br><br>\n",
    "- **[8.2 教師あり学習](#8.2-教師あり学習)** \n",
    "    - [8.2.1 重回帰分析](#8.2.1-重回帰分析)\n",
    "    - [8.2.2 ロジスティック回帰分析](#8.2.2-ロジスティック回帰分析)\n",
    "    - [8.2.3 正則化、ラッソ回帰、リッジ回帰](#8.2.3-正則化、ラッソ回帰、リッジ回帰)\n",
    "    - [8.2.4 決定木](#8.2.4-決定木)\n",
    "    - [8.2.5 k-NN](#8.2.5-k-NN)\n",
    "    - [8.2.6 サポートベクターマシン](#8.2.6-サポートベクターマシン)\n",
    "<br><br> \n",
    "- **[8.3 教師なし学習](#8.3-教師なし学習)** \n",
    "    - [8.3.1 クラスタリング(クラスター分析）](#8.3.1-クラスタリング)\n",
    "    - [8.3.2 次元圧縮（主成分分析）](#8.3.2-次元圧縮)\n",
    "    - [8.3.3 バスケット分析とアソシエーションルール](#8.3.3-バスケット分析とアソシエーションルール)\n",
    "<br><br>\n",
    "- **[8.4 総合問題](#8.4-総合問題)**\n",
    "    - [8.4.1 総合問題1](#8.4.1-総合問題1)\n",
    "    - [8.4.2 総合問題2](#8.4.2-総合問題2)"
   ]
  },
  {
   "cell_type": "markdown",
   "metadata": {},
   "source": [
    "## 8.1 機械学習の全体像\n",
    "ゴール：機械学習の各アプローチ（教師あり学習、教師なし学習）と概要を知ること"
   ]
  },
  {
   "cell_type": "code",
   "execution_count": 2,
   "metadata": {
    "collapsed": false
   },
   "outputs": [
    {
     "data": {
      "text/plain": [
       "'%.3f'"
      ]
     },
     "execution_count": 2,
     "metadata": {},
     "output_type": "execute_result"
    }
   ],
   "source": [
    "# 途中で使用するため、あらかじめ読み込んでおいてください。\n",
    "# データ加工・処理・分析モジュール\n",
    "import numpy as np\n",
    "import numpy.random as random\n",
    "import scipy as sp\n",
    "from pandas import Series,DataFrame\n",
    "import pandas as pd\n",
    "\n",
    "# 可視化モジュール\n",
    "import matplotlib.pyplot as plt\n",
    "import matplotlib as mpl\n",
    "import seaborn as sns\n",
    "%matplotlib inline\n",
    "\n",
    "# 機械学習モジュール\n",
    "import sklearn\n",
    "\n",
    "# 小数第３まで表示\n",
    "%precision 3"
   ]
  },
  {
   "cell_type": "markdown",
   "metadata": {},
   "source": [
    "## 8.2 教師あり学習\n",
    "ゴール：重回帰分析、ロジスティック回帰分析、決定木、サポートベクターマシン、k-NN法、正則化やリッジ回帰を理解して、実装できること"
   ]
  },
  {
   "cell_type": "markdown",
   "metadata": {},
   "source": [
    "### 8.2.1 重回帰分析\n",
    "キーワード：目的変数、説明変数、多重共線性、変数選択法"
   ]
  },
  {
   "cell_type": "code",
   "execution_count": 3,
   "metadata": {
    "collapsed": false
   },
   "outputs": [],
   "source": [
    "# 自動車価格データの取得\n",
    "import requests, zipfile\n",
    "from io import StringIO\n",
    "import io\n",
    "\n",
    "# url \n",
    "auto_data_url = \"http://archive.ics.uci.edu/ml/machine-learning-databases/autos/imports-85.data\"\n",
    "s=requests.get(auto_data_url).content\n",
    "auto_data = pd.read_csv(io.StringIO(s.decode('utf-8')),header=None)\n",
    "auto_data.columns =[\"symboling\",\"normalized-losses\",\"make\",\"fuel-type\"\n",
    "                     ,\"aspiration\",\"num-of-doors\",\"body-style\",\"drive-wheels\",\"engine-location\",\"wheel-base\",\"length\"\n",
    "                   ,\"width\",\"height\",\"curb-weight\",\"engine-type\",\"num-of-cylinders\",\"engine-size\",\"fuel-system\"\n",
    "                    ,\"bore\",\"stroke\",\"compression-ratio\",\"horsepower\",\"peak-rpm\",\"city-mpg\",\"highway-mpg\",\"price\"]"
   ]
  },
  {
   "cell_type": "markdown",
   "metadata": {},
   "source": [
    "####  <練習問題 1>\n",
    "上記のデータを使って、目的変数は同じpriceで、説明変数lengthとengine-sizeを使って、重回帰分析をしてみましょう。ただし、学習データとテストデータが半分になるように分けてモデリングして、テストデータでスコアを求めてください。なお、学習データとテストデータ分けるメソッドのrandom_stateは0に設定して実施してください。"
   ]
  },
  {
   "cell_type": "code",
   "execution_count": 6,
   "metadata": {
    "collapsed": false
   },
   "outputs": [],
   "source": [
    "# 解答\n",
    "# データの準備\n",
    "auto_data = auto_data[~auto_data[\"price\"].isin(['?'])]\n",
    "auto_data = auto_data[~auto_data[\"horsepower\"].isin(['?'])]\n",
    "sub_auto_data1 = auto_data[[\"price\",\"length\",\"engine-size\"]]"
   ]
  },
  {
   "cell_type": "code",
   "execution_count": 7,
   "metadata": {
    "collapsed": false
   },
   "outputs": [
    {
     "name": "stdout",
     "output_type": "stream",
     "text": [
      "train: LinearRegression 0.787024620804\n",
      "test: LinearRegression 0.76078011715\n",
      "   Coefficients         Name\n",
      "1    127.231573  engine-size\n",
      "0    161.722926       length\n",
      "-31447.3810525\n"
     ]
    }
   ],
   "source": [
    "# 解答\n",
    "# データの分割（学習データとテストデータ分ける）\n",
    "from sklearn.cross_validation import train_test_split\n",
    "\n",
    "# モデル\n",
    "from sklearn import linear_model\n",
    "\n",
    "# モデルのインスタンス\n",
    "l_model = linear_model.LinearRegression()\n",
    "\n",
    "# 説明変数に \"price\" 以外を利用\n",
    "X = sub_auto_data1.drop(\"price\", axis=1)\n",
    "Y = sub_auto_data1['price']\n",
    "\n",
    "# 学習データとテストデータ分ける\n",
    "X_train, X_test, y_train, y_test = train_test_split(X, Y, test_size=0.5,random_state=0)\n",
    "\n",
    "clf = l_model.fit(X_train,y_train)\n",
    "\n",
    "print(\"train:\",clf.__class__.__name__ ,clf.score(X_train,y_train))\n",
    "print(\"test:\",clf.__class__.__name__ , clf.score(X_test,y_test))\n",
    " \n",
    "# 偏回帰係数\n",
    "print(pd.DataFrame({\"Name\":X.columns,\n",
    "                    \"Coefficients\":clf.coef_}).sort_values(by='Coefficients') )\n",
    " \n",
    "# 切片 \n",
    "print(clf.intercept_)"
   ]
  },
  {
   "cell_type": "markdown",
   "metadata": {},
   "source": [
    "### 8.2.2 ロジスティック回帰分析\n",
    "キーワード：ロジスティック回帰分析"
   ]
  },
  {
   "cell_type": "markdown",
   "metadata": {},
   "source": [
    "####  <練習問題 1>\n",
    "sklearn.datasetsのload_breast_cancerを読み込んで、目的変数をcancer.targetとして、cancer.dataを説明変数にロジスティック回帰で予測モデルを構築してください。この時、訓練データとテストデータに分けるtrain_test_split（random_state=0）を使って、テストデータにおけるスコアを求めてください。ただし、変数は標準化してください。"
   ]
  },
  {
   "cell_type": "code",
   "execution_count": 2,
   "metadata": {
    "collapsed": false
   },
   "outputs": [
    {
     "name": "stdout",
     "output_type": "stream",
     "text": [
      "train: LogisticRegression 0.990610328638\n",
      "test: LogisticRegression 0.958041958042\n"
     ]
    }
   ],
   "source": [
    "# 解答\n",
    "# データの分類\n",
    "from sklearn.cross_validation import train_test_split\n",
    "\n",
    "# 分析対象データ\n",
    "from sklearn.datasets import load_breast_cancer\n",
    "\n",
    "# ロジスティック回帰\n",
    "from sklearn.linear_model import LogisticRegression\n",
    "\n",
    "# 標準化のためのモジュール\n",
    "from sklearn.preprocessing import StandardScaler\n",
    "\n",
    "# data\n",
    "cancer = load_breast_cancer()\n",
    "X_train, X_test, y_train, y_test = train_test_split(\n",
    "    cancer.data, cancer.target, stratify = cancer.target, random_state=0)\n",
    "\n",
    "model = LogisticRegression()\n",
    "\n",
    "# 標準化\n",
    "sc = StandardScaler()\n",
    "sc.fit(X_train)\n",
    "X_train_std = sc.transform(X_train)\n",
    "X_test_std = sc.transform(X_test)\n",
    "\n",
    "clf = model.fit(X_train_std,y_train)\n",
    "print(\"train:\",clf.__class__.__name__ ,clf.score(X_train_std,y_train))\n",
    "print(\"test:\",clf.__class__.__name__ , clf.score(X_test_std,y_test))"
   ]
  },
  {
   "cell_type": "markdown",
   "metadata": {},
   "source": [
    "### 8.2.3 正則化、ラッソ回帰、リッジ回帰\n",
    "キーワード：正則化、ラッソ回帰、リッジ回帰"
   ]
  },
  {
   "cell_type": "markdown",
   "metadata": {},
   "source": [
    "### 8.2.4 決定木\n",
    "キーワード：決定木、分類木、回帰木、エントロピー、情報利得、ジニ不純度、分類誤差"
   ]
  },
  {
   "cell_type": "markdown",
   "metadata": {},
   "source": [
    "####  <練習問題 1>\n",
    "分析対象データとして、sklearnのdatasetsからload_breast_cancerを読み込んで、目的変数をcancer.target、説明変数をcancer.dataとして、決定木のモデルを使って、予測と検証を実施してください。"
   ]
  },
  {
   "cell_type": "code",
   "execution_count": 302,
   "metadata": {
    "collapsed": false
   },
   "outputs": [
    {
     "name": "stdout",
     "output_type": "stream",
     "text": [
      "train: DecisionTreeClassifier 0.971830985915\n",
      "test: DecisionTreeClassifier 0.93006993007\n"
     ]
    }
   ],
   "source": [
    "# 解答\n",
    "# データの分類\n",
    "from sklearn.cross_validation import train_test_split\n",
    "\n",
    "# 分析対象データ\n",
    "from sklearn.datasets import load_breast_cancer\n",
    "\n",
    "# 決定木\n",
    "from sklearn.tree import  DecisionTreeClassifier\n",
    "\n",
    "# data\n",
    "cancer = load_breast_cancer()\n",
    "X_train, X_test, y_train, y_test = train_test_split(\n",
    "    cancer.data, cancer.target, stratify = cancer.target, random_state=66)\n",
    "\n",
    "# 決定木インスタンス\n",
    "tree = DecisionTreeClassifier(criterion='entropy',max_depth=3, random_state=0)\n",
    "\n",
    "tree.fit(X_train,y_train)\n",
    "\n",
    "print(\"train:\",tree.__class__.__name__ ,tree.score(X_train,y_train))\n",
    "print(\"test:\",tree.__class__.__name__ , tree.score(X_test,y_test))"
   ]
  },
  {
   "cell_type": "markdown",
   "metadata": {},
   "source": [
    "### 8.2.5 k-NN\n",
    "キーワード：k-NN,怠惰学習,memory-based learning,Look-Alike model"
   ]
  },
  {
   "cell_type": "markdown",
   "metadata": {},
   "source": [
    "####  <練習問題 1>\n",
    "1章のデータを使って、目的となる変数をG3、説明変数となる属性データを以下のようにして、K-NNのkパラメータを変えながら、どのkが最適か考えてみましょう。ただし、目的変数は数値型で、回帰となりますので、KNeighborsRegressorを使ってください。これは、設定されたkの数の平均になります。"
   ]
  },
  {
   "cell_type": "code",
   "execution_count": 5,
   "metadata": {
    "collapsed": false,
    "scrolled": true
   },
   "outputs": [],
   "source": [
    "student_data_math = pd.read_csv(\"student-mat.csv\",sep=\";\")"
   ]
  },
  {
   "cell_type": "code",
   "execution_count": 6,
   "metadata": {
    "collapsed": true
   },
   "outputs": [],
   "source": [
    "X = student_data_math.loc[:, ['age','Medu','Fedu','traveltime','studytime'\n",
    "                              ,'failures','famrel','freetime','goout','Dalc','Walc'\n",
    "                              ,'absences','G1','G2']].as_matrix()"
   ]
  },
  {
   "cell_type": "code",
   "execution_count": 7,
   "metadata": {
    "collapsed": false
   },
   "outputs": [
    {
     "data": {
      "text/plain": [
       "<matplotlib.legend.Legend at 0x117ea53c8>"
      ]
     },
     "execution_count": 7,
     "metadata": {},
     "output_type": "execute_result"
    },
    {
     "data": {
      "image/png": "[encoded data removed]",
      "text/plain": [
       "<matplotlib.figure.Figure at 0x117dee6a0>"
      ]
     },
     "metadata": {},
     "output_type": "display_data"
    }
   ],
   "source": [
    "# 解答\n",
    "# k-NN & Hold out test\n",
    "from sklearn.cross_validation import train_test_split\n",
    "\n",
    "from sklearn.neighbors import  KNeighborsRegressor\n",
    "\n",
    "X_train, X_test, y_train, y_test = train_test_split(\n",
    "    X,student_data_math.G3, random_state=0)\n",
    "\n",
    "training_accuracy = []\n",
    "test_accuracy =[]\n",
    "\n",
    "neighbors_settings = range(1,50)\n",
    "for n_neighbors in neighbors_settings:\n",
    "    clf = KNeighborsRegressor(n_neighbors=n_neighbors)\n",
    "    clf.fit(X_train,y_train)\n",
    "    \n",
    "    training_accuracy.append(clf.score(X_train,y_train))\n",
    "    \n",
    "    test_accuracy.append(clf.score(X_test,y_test))\n",
    "    \n",
    "plt.plot(neighbors_settings, training_accuracy,label=\"training accuracy\")\n",
    "plt.plot(neighbors_settings, test_accuracy,label=\"test accuracy\")\n",
    "plt.ylabel(\"Accuracy\")\n",
    "plt.xlabel(\"n_neighbors\")\n",
    "plt.legend()\n",
    "\n",
    "# k=8付近であることがわかる"
   ]
  },
  {
   "cell_type": "markdown",
   "metadata": {},
   "source": [
    "### 8.2.6 サポートベクターマシン\n",
    "キーワード：サポートベクターマシン"
   ]
  },
  {
   "cell_type": "markdown",
   "metadata": {},
   "source": [
    "####  <練習問題 1>\n",
    "cancerデータについて、モジュールはsklearn.svmのSVCを使って、cancer.targetを予測するモデルを構築しましょう。パラメーターは、kernel='rbf'を使います。（model = SVC(kernel='rbf', random_state=0, C=2)としてください。）前と同じように、訓練データとテストデータに分けて、標準化してスコアをチェックしてください。"
   ]
  },
  {
   "cell_type": "code",
   "execution_count": 93,
   "metadata": {
    "collapsed": false
   },
   "outputs": [
    {
     "name": "stdout",
     "output_type": "stream",
     "text": [
      "train: SVC 0.988262910798\n",
      "test: SVC 0.986013986014\n"
     ]
    }
   ],
   "source": [
    "# SVM\n",
    "from sklearn.svm import SVC\n",
    "\n",
    "from sklearn.cross_validation import train_test_split\n",
    "from sklearn.datasets import load_breast_cancer\n",
    "\n",
    "# 標準化のためのモジュール\n",
    "from sklearn.preprocessing import StandardScaler\n",
    "\n",
    "model = SVC(kernel='rbf', random_state=0, C=2)\n",
    "cancer = load_breast_cancer()\n",
    "X_train, X_test, y_train, y_test = train_test_split(\n",
    "    cancer.data, cancer.target, stratify = cancer.target, random_state=50)\n",
    "\n",
    "# 標準化\n",
    "sc = StandardScaler()\n",
    "sc.fit(X_train)\n",
    "X_train_std = sc.transform(X_train)\n",
    "X_test_std = sc.transform(X_test)\n",
    "\n",
    "clf = model.fit(X_train_std,y_train)\n",
    "print(\"train:\",clf.__class__.__name__ ,clf.score(X_train_std,y_train))\n",
    "print(\"test:\",clf.__class__.__name__ , clf.score(X_test_std,y_test))"
   ]
  },
  {
   "cell_type": "markdown",
   "metadata": {},
   "source": [
    "## 8.3 教師なし学習\n",
    "ゴール：教師なし学習のクラスタリング(非階層と階層)、次元圧縮、パターンマイニングの基本を理解し、簡単な実装ができる"
   ]
  },
  {
   "cell_type": "markdown",
   "metadata": {},
   "source": [
    "### 8.3.1 クラスタリング\n",
    "キーワード：非階層型、階層型、k-means、k-means++"
   ]
  },
  {
   "cell_type": "markdown",
   "metadata": {},
   "source": [
    "### 8.3.2 次元圧縮\n",
    "キーワード：PCA"
   ]
  },
  {
   "cell_type": "markdown",
   "metadata": {},
   "source": [
    "### 8.3.3 バスケット分析とアソシエーションルール\n",
    "キーワード：アソシエーションルール、支持度、確信度、リフト値"
   ]
  },
  {
   "cell_type": "markdown",
   "metadata": {},
   "source": [
    "## 8.4 総合問題"
   ]
  },
  {
   "cell_type": "markdown",
   "metadata": {},
   "source": [
    "### 8.4.1 総合問題1\n",
    "分析対象データとして、sklearnのdatasetsからload_iris(アヤメの花)を読み込んで、目的変数をiris.target、説明変数をiris.dataとして、決定木のモデルを使って、予測と検証を実施してください。"
   ]
  },
  {
   "cell_type": "code",
   "execution_count": null,
   "metadata": {
    "collapsed": true
   },
   "outputs": [],
   "source": [
    "# データの分類\n",
    "from sklearn.cross_validation import train_test_split\n",
    "\n",
    "# 分析対象データ\n",
    "from sklearn.datasets import load_iris\n",
    "\n",
    "# 決定木\n",
    "from sklearn.tree import DecisionTreeClassifier\n",
    "\n",
    "# data\n",
    "iris = load_iris()"
   ]
  },
  {
   "cell_type": "code",
   "execution_count": 304,
   "metadata": {
    "collapsed": false
   },
   "outputs": [
    {
     "name": "stdout",
     "output_type": "stream",
     "text": [
      "train: DecisionTreeClassifier 0.981981981982\n",
      "test: DecisionTreeClassifier 0.974358974359\n"
     ]
    }
   ],
   "source": [
    "# 解答\n",
    "X_train, X_test, y_train, y_test = train_test_split(\n",
    "    iris.data, iris.target, stratify = iris.target, random_state=0)\n",
    "\n",
    "# 決定木インスタンス（エントロピー）\n",
    "tree = DecisionTreeClassifier(criterion='entropy',max_depth=3, random_state=0)\n",
    "\n",
    "tree.fit(X_train,y_train)\n",
    "\n",
    "print(\"train:\",tree.__class__.__name__ ,tree.score(X_train,y_train))\n",
    "print(\"test:\",tree.__class__.__name__ , tree.score(X_test,y_test))"
   ]
  },
  {
   "cell_type": "markdown",
   "metadata": {},
   "source": [
    "### 8.4.2 総合問題2\n",
    "\n",
    "同じデータ(load_breast_cancer()など)に対して、ロジスティック回帰分析やSVMなど今まで学んだモデルを試し、どれが一番スコアが高いでしょうか？ また、データによって、一番良いスコアが出るモデルは異なりますが、その特徴はどんなものか、考察してください。（これをノーフリーランチといい、どんなデータに対しても、一番良いモデルになるモデルはないということを意味します。）"
   ]
  },
  {
   "cell_type": "code",
   "execution_count": 4,
   "metadata": {
    "collapsed": false,
    "scrolled": false
   },
   "outputs": [
    {
     "name": "stdout",
     "output_type": "stream",
     "text": [
      "train: LinearSVC 0.931924882629\n",
      "test: LinearSVC 0.909090909091\n",
      "train: LogisticRegression 0.962441314554\n",
      "test: LogisticRegression 0.937062937063\n",
      "train: DecisionTreeClassifier 1.0\n",
      "test: DecisionTreeClassifier 0.923076923077\n",
      "train: KNeighborsClassifier 0.950704225352\n",
      "test: KNeighborsClassifier 0.916083916084\n"
     ]
    }
   ],
   "source": [
    "# 解答\n",
    "\n",
    "# ロジスティック回帰\n",
    "from sklearn.linear_model import LogisticRegression\n",
    "# SVM\n",
    "from sklearn.svm import LinearSVC\n",
    "# 決定木\n",
    "from sklearn.tree import  DecisionTreeClassifier\n",
    "# k-NN\n",
    "from sklearn.neighbors import  KNeighborsClassifier\n",
    "\n",
    "from sklearn.cross_validation import train_test_split\n",
    "from sklearn.datasets import load_breast_cancer\n",
    "\n",
    "cancer = load_breast_cancer()\n",
    "X_train, X_test, y_train, y_test = train_test_split(\n",
    "    cancer.data, cancer.target, stratify = cancer.target, random_state=0)\n",
    "\n",
    "for model in [LinearSVC(), LogisticRegression(),\n",
    "              DecisionTreeClassifier(),KNeighborsClassifier(n_neighbors=6)]:\n",
    "    clf = model.fit(X_train,y_train)\n",
    "    print(\"train:\",clf.__class__.__name__ ,clf.score(X_train,y_train))\n",
    "    print(\"test:\",clf.__class__.__name__ , clf.score(X_test,y_test))"
   ]
  },
  {
   "cell_type": "markdown",
   "metadata": {},
   "source": [
    "ちなみに、ノーフリーランチという言葉は、機械学習だけではなく、データベース（情報工学）や金融工学でもでてきます。"
   ]
  }
 ],
 "metadata": {
  "anaconda-cloud": {},
  "kernelspec": {
   "display_name": "Python 3",
   "language": "python",
   "name": "python3"
  },
  "language_info": {
   "codemirror_mode": {
    "name": "ipython",
    "version": 3
   },
   "file_extension": ".py",
   "mimetype": "text/x-python",
   "name": "python",
   "nbconvert_exporter": "python",
   "pygments_lexer": "ipython3",
   "version": "3.6.0"
  }
 },
 "nbformat": 4,
 "nbformat_minor": 0
}

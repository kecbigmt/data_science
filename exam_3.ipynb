{
 "cells": [
  {
   "cell_type": "markdown",
   "metadata": {},
   "source": [
    "# 修了試験（提出）"
   ]
  },
  {
   "cell_type": "markdown",
   "metadata": {},
   "source": [
    "## Chapter 5-6"
   ]
  },
  {
   "cell_type": "markdown",
   "metadata": {},
   "source": [
    "### 3　データベースの基礎"
   ]
  },
  {
   "cell_type": "markdown",
   "metadata": {},
   "source": [
    "chapter5の総合問題1でも扱った以下のデータベース(world)を使って、後の問いに答えてください。(**ただし、ここはPythonからSQLを呼び出す計算になるため、6章で学ぶPythonの連携を学んだ後に取り組んでください。**)\n",
    "\n",
    "https://dev.mysql.com/doc/world-setup/en/\n",
    "\n",
    "cityテーブルについて、Nameが同じレコードがありますが、**一番レコード数が多い名前**は何でしょうか？"
   ]
  },
  {
   "cell_type": "markdown",
   "metadata": {},
   "source": [
    "提出するときは、以下の点に注意してください。  \n",
    ">- 以下の関数homework3の!!WRITE ME!!に処理を書いてください。(**「!!WRITE ME!!」は消して、記入してください。**)\n",
    ">- 実際の提出は記述されたhomework関数全てになり、**提出場所はilect上にあるHomeworkからsubmitしてください。Contentsに関数を貼り付けます。**\n",
    ">- PythonとSQL両方の実装が必要です。なお、Pythonを使ってデータベースからデータを取り出す方法については、6章の最後にあるPythonとの連携を参考にしてください。必要であれば、userやpass,db等を書き換えてください。  \n",
    ">- 前処理は以下のコードを使って、これを引数としてください。  \n",
    ">- 返り値が文字型（Name全て）になるようにしてください。(例)  my_result = \"Jon hogehoge\""
   ]
  },
  {
   "cell_type": "code",
   "execution_count": null,
   "metadata": {
    "collapsed": true
   },
   "outputs": [],
   "source": [
    "# common\n",
    "import pymysql.cursors\n",
    "\n",
    "dbh = pymysql.connect(\n",
    "    host='db1',\n",
    "    user='root',\n",
    "    password='ilect',\n",
    "    db='***',\n",
    "    charset='utf8',\n",
    "    cursorclass=pymysql.cursors.DictCursor )"
   ]
  },
  {
   "cell_type": "code",
   "execution_count": 6,
   "metadata": {
    "collapsed": true
   },
   "outputs": [],
   "source": [
    "# working place. everything \n",
    "def homework3(dbh):\n",
    "    !!WRITE ME!!\n",
    "    return my_result  "
   ]
  }
 ],
 "metadata": {
  "anaconda-cloud": {},
  "kernelspec": {
   "display_name": "Python 3",
   "language": "python",
   "name": "python3"
  },
  "language_info": {
   "codemirror_mode": {
    "name": "ipython",
    "version": 3
   },
   "file_extension": ".py",
   "mimetype": "text/x-python",
   "name": "python",
   "nbconvert_exporter": "python",
   "pygments_lexer": "ipython3",
   "version": "3.6.0"
  }
 },
 "nbformat": 4,
 "nbformat_minor": 0
}

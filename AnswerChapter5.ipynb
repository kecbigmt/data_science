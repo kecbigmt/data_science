{
 "cells": [
  {
   "cell_type": "markdown",
   "metadata": {},
   "source": [
    "# Chapter 5 練習と総合問題解答"
   ]
  },
  {
   "cell_type": "markdown",
   "metadata": {},
   "source": [
    "## 5.2 SQLの基礎"
   ]
  },
  {
   "cell_type": "markdown",
   "metadata": {},
   "source": [
    "### 5.2.1 データベースとテーブルの作成"
   ]
  },
  {
   "cell_type": "markdown",
   "metadata": {},
   "source": [
    "#### <練習問題 1>\n",
    "\n",
    "セルを追加（左上にある＋を押下）して、今あるデータベースを表示させましょう。そして、新しいデータベース（TEST2など）を作って、そのデータベースを使うように選択しましょう。"
   ]
  },
  {
   "cell_type": "code",
   "execution_count": 1,
   "metadata": {
    "collapsed": false,
    "scrolled": true
   },
   "outputs": [
    {
     "name": "stdout",
     "output_type": "stream",
     "text": [
      "/*解答*/ show databases;\n",
      "+--------------------+\r\n",
      "| Database           |\r\n",
      "+--------------------+\r\n",
      "| information_schema |\r\n",
      "| TEST1              |\r\n",
      "| employees          |\r\n",
      "| foodmart_mondrian  |\r\n",
      "| mysql              |\r\n",
      "| performance_schema |\r\n",
      "| sakila             |\r\n",
      "| sys                |\r\n",
      "| test2              |\r\n",
      "| world              |\r\n",
      "+--------------------+\r\n",
      "10 rows in set (0.00 sec)\r\n",
      "\r\n"
     ]
    }
   ],
   "source": [
    "/*解答*/\n",
    "show databases;"
   ]
  },
  {
   "cell_type": "code",
   "execution_count": 2,
   "metadata": {
    "collapsed": false,
    "scrolled": true
   },
   "outputs": [
    {
     "name": "stdout",
     "output_type": "stream",
     "text": [
      "/*解答*/ create database test2; use test2;\n",
      "\r\n",
      "ERROR 1007 (HY000): Can't create database 'test2'; database exists\r\n",
      "\u0007Database changed\r\n"
     ]
    }
   ],
   "source": [
    "/*解答*/\n",
    "create database test2;\n",
    "use test2;"
   ]
  },
  {
   "cell_type": "markdown",
   "metadata": {},
   "source": [
    "#### <練習問題 2>\n",
    "\n",
    "練習問題１で作成、選択したデータベースに新しいテーブル「meibo2」を作成してください。作成後はテーブルが完成しているか、確認しましょう。"
   ]
  },
  {
   "cell_type": "code",
   "execution_count": 3,
   "metadata": {
    "collapsed": false
   },
   "outputs": [
    {
     "name": "stdout",
     "output_type": "stream",
     "text": [
      "/*解答*/ create table meibo2 (id int primary key, name varchar(20)) engine = MyISAM default charset = utf8;\n",
      "\r\n",
      "ERROR 1050 (42S01): Table 'meibo2' already exists\r\n",
      "\u0007"
     ]
    }
   ],
   "source": [
    "/*解答*/\n",
    "create table meibo2\n",
    "  (id int primary key, name varchar(20))\n",
    "  engine = MyISAM\n",
    "  default charset = utf8;"
   ]
  },
  {
   "cell_type": "code",
   "execution_count": 4,
   "metadata": {
    "collapsed": false
   },
   "outputs": [
    {
     "name": "stdout",
     "output_type": "stream",
     "text": [
      "/*解答*/ show tables;\n",
      "+-----------------+\r\n",
      "| Tables_in_test2 |\r\n",
      "+-----------------+\r\n",
      "| meibo2          |\r\n",
      "+-----------------+\r\n",
      "1 row in set (0.00 sec)\r\n",
      "\r\n"
     ]
    }
   ],
   "source": [
    "/*解答*/\n",
    "show tables;"
   ]
  },
  {
   "cell_type": "markdown",
   "metadata": {},
   "source": [
    "#### <練習問題 3>\n",
    "\n",
    "新しく作ったテーブルにデータを追加してみましょう。追加後は、確かにデータが入っているか確認してください。"
   ]
  },
  {
   "cell_type": "code",
   "execution_count": 5,
   "metadata": {
    "collapsed": false
   },
   "outputs": [
    {
     "name": "stdout",
     "output_type": "stream",
     "text": [
      "/*解答*/ insert into meibo2 (id, name) values (1, \"Saito\"); insert into meibo2 (id, name) values (2, \"Murakami\"); insert into meibo2 (id, name) values (3, \"Inoue\");\n",
      "\r\n",
      "ERROR 1062 (23000): Duplicate entry '1' for key 'PRIMARY'\r\n",
      "ERROR 1062 (23000): Duplicate entry '2' for key 'PRIMARY'\r\n",
      "ERROR 1062 (23000): Duplicate entry '3' for key 'PRIMARY'\r\n",
      "\u0007\u0007\u0007"
     ]
    }
   ],
   "source": [
    "/*解答*/\n",
    "insert into meibo2 (id, name) values (1, \"Saito\");\n",
    "insert into meibo2 (id, name) values (2, \"Murakami\");\n",
    "insert into meibo2 (id, name) values (3, \"Inoue\");"
   ]
  },
  {
   "cell_type": "code",
   "execution_count": 6,
   "metadata": {
    "collapsed": false
   },
   "outputs": [
    {
     "name": "stdout",
     "output_type": "stream",
     "text": [
      "/*解答*/ select * from meibo2;\n",
      "+----+----------+\r\n",
      "| id | name     |\r\n",
      "+----+----------+\r\n",
      "|  1 | Saito    |\r\n",
      "|  2 | Murakami |\r\n",
      "|  3 | Inoue    |\r\n",
      "+----+----------+\r\n",
      "3 rows in set (0.01 sec)\r\n",
      "\r\n"
     ]
    }
   ],
   "source": [
    "/*解答*/\n",
    "select * from meibo2;"
   ]
  },
  {
   "cell_type": "markdown",
   "metadata": {},
   "source": [
    "### 5.2.2 データの検索と更新、テーブルカラムの変更"
   ]
  },
  {
   "cell_type": "markdown",
   "metadata": {},
   "source": [
    "#### <練習問題 1>\n",
    "\n",
    "TEST1のデータベースを選択して、上記のテーブルmeiboにて、id=4の人レコードを抽出してください。"
   ]
  },
  {
   "cell_type": "code",
   "execution_count": 7,
   "metadata": {
    "collapsed": false
   },
   "outputs": [
    {
     "name": "stdout",
     "output_type": "stream",
     "text": [
      "/*解答*/ use TEST1;\n",
      "\r\n",
      "Database changed\r\n"
     ]
    }
   ],
   "source": [
    "/*解答*/\n",
    "use TEST1;"
   ]
  },
  {
   "cell_type": "code",
   "execution_count": 8,
   "metadata": {
    "collapsed": false
   },
   "outputs": [
    {
     "name": "stdout",
     "output_type": "stream",
     "text": [
      "/*解答*/ select * from meibo where id=4;\n",
      "+----+------+-------+------+\r\n",
      "| id | name | class | age  |\r\n",
      "+----+------+-------+------+\r\n",
      "|  4 | Kato |     2 |   15 |\r\n",
      "+----+------+-------+------+\r\n",
      "1 row in set (0.01 sec)\r\n",
      "\r\n"
     ]
    }
   ],
   "source": [
    "/*解答*/\n",
    "select * from meibo where id=4;"
   ]
  },
  {
   "cell_type": "markdown",
   "metadata": {},
   "source": [
    "#### <練習問題 2>\n",
    "\n",
    "上のmeiboテーブルでid=8の人のclassを7にアップデートしてください。"
   ]
  },
  {
   "cell_type": "code",
   "execution_count": 9,
   "metadata": {
    "collapsed": false
   },
   "outputs": [
    {
     "name": "stdout",
     "output_type": "stream",
     "text": [
      "/*解答*/ update meibo set class = 7 where id=8;\n",
      "\r\n",
      "Query OK, 1 row affected (0.00 sec)\r\n",
      "Rows matched: 1  Changed: 1  Warnings: 0\r\n",
      "\r\n"
     ]
    }
   ],
   "source": [
    "/*解答*/\n",
    "update meibo\n",
    " set class = 7\n",
    " where id=8;"
   ]
  },
  {
   "cell_type": "code",
   "execution_count": 10,
   "metadata": {
    "collapsed": false
   },
   "outputs": [
    {
     "name": "stdout",
     "output_type": "stream",
     "text": [
      "/*解答*/ select * from meibo;\n",
      "+-----+--------------+-------+------+\r\n",
      "| id  | name         | class | age  |\r\n",
      "+-----+--------------+-------+------+\r\n",
      "|   1 | Yamada       |     1 |   14 |\r\n",
      "|   2 | Tanaka       |     2 |   13 |\r\n",
      "|   3 | Suzuki       |     1 |   13 |\r\n",
      "|   4 | Kato         |     2 |   15 |\r\n",
      "|   5 | Ito          |     3 |   12 |\r\n",
      "|   6 | Takeuchi     |     2 |   16 |\r\n",
      "|   7 | Kimura       |     3 |   11 |\r\n",
      "|   8 | Sato         |     7 |   14 |\r\n",
      "| 100 | dummy_Yamada |  NULL | NULL |\r\n",
      "| 200 | dummy_Tanaka |  NULL | NULL |\r\n",
      "| 300 | dummy_Sato   |  NULL | NULL |\r\n",
      "+-----+--------------+-------+------+\r\n",
      "11 rows in set (0.00 sec)\r\n",
      "\r\n"
     ]
    }
   ],
   "source": [
    "/*解答*/\n",
    "select * from meibo;"
   ]
  },
  {
   "cell_type": "markdown",
   "metadata": {},
   "source": [
    "#### <練習問題 3>\n",
    "\n",
    "上記と同じテーブルmeiboに新しい列highという身長を追加してください。さらに、id=1から4までの人は150、id=5から6までの人は155、id=7から8までの人は160でアップデートしてください。"
   ]
  },
  {
   "cell_type": "code",
   "execution_count": 11,
   "metadata": {
    "collapsed": false
   },
   "outputs": [
    {
     "name": "stdout",
     "output_type": "stream",
     "text": [
      "/*解答*/ alter table meibo add high int;\n",
      "\r\n",
      "Query OK, 11 rows affected (0.01 sec)\r\n",
      "Records: 11  Duplicates: 0  Warnings: 0\r\n",
      "\r\n"
     ]
    }
   ],
   "source": [
    "/*解答*/\n",
    "alter table meibo add high int;"
   ]
  },
  {
   "cell_type": "code",
   "execution_count": 12,
   "metadata": {
    "collapsed": false
   },
   "outputs": [
    {
     "name": "stdout",
     "output_type": "stream",
     "text": [
      "/*解答*/ select * from meibo;\n",
      "+-----+--------------+-------+------+------+\r\n",
      "| id  | name         | class | age  | high |\r\n",
      "+-----+--------------+-------+------+------+\r\n",
      "|   1 | Yamada       |     1 |   14 | NULL |\r\n",
      "|   2 | Tanaka       |     2 |   13 | NULL |\r\n",
      "|   3 | Suzuki       |     1 |   13 | NULL |\r\n",
      "|   4 | Kato         |     2 |   15 | NULL |\r\n",
      "|   5 | Ito          |     3 |   12 | NULL |\r\n",
      "|   6 | Takeuchi     |     2 |   16 | NULL |\r\n",
      "|   7 | Kimura       |     3 |   11 | NULL |\r\n",
      "|   8 | Sato         |     7 |   14 | NULL |\r\n",
      "| 100 | dummy_Yamada |  NULL | NULL | NULL |\r\n",
      "| 200 | dummy_Tanaka |  NULL | NULL | NULL |\r\n",
      "| 300 | dummy_Sato   |  NULL | NULL | NULL |\r\n",
      "+-----+--------------+-------+------+------+\r\n",
      "11 rows in set (0.00 sec)\r\n",
      "\r\n"
     ]
    }
   ],
   "source": [
    "/*解答*/\n",
    "select * from meibo;"
   ]
  },
  {
   "cell_type": "code",
   "execution_count": 13,
   "metadata": {
    "collapsed": false
   },
   "outputs": [
    {
     "name": "stdout",
     "output_type": "stream",
     "text": [
      "/*解答*/ update meibo set high=150 where id<=4; update meibo set high=155 where id>=5 and id<=6; update meibo set high=160 where id>=7;\n",
      "\r\n",
      "Query OK, 4 rows affected (0.00 sec)\r\n",
      "Rows matched: 4  Changed: 4  Warnings: 0\r\n",
      "\r\n",
      "Query OK, 2 rows affected (0.00 sec)\r\n",
      "Rows matched: 2  Changed: 2  Warnings: 0\r\n",
      "\r\n",
      "Query OK, 5 rows affected (0.00 sec)\r\n",
      "Rows matched: 5  Changed: 5  Warnings: 0\r\n",
      "\r\n"
     ]
    }
   ],
   "source": [
    "/*解答*/\n",
    "update meibo\n",
    " set high=150\n",
    " where id<=4;\n",
    "\n",
    "update meibo\n",
    " set high=155\n",
    " where id>=5 and id<=6;\n",
    " \n",
    "update meibo\n",
    " set high=160\n",
    " where id>=7;"
   ]
  },
  {
   "cell_type": "code",
   "execution_count": 14,
   "metadata": {
    "collapsed": false
   },
   "outputs": [
    {
     "name": "stdout",
     "output_type": "stream",
     "text": [
      "/*解答*/ select * from meibo;\n",
      "+-----+--------------+-------+------+------+\r\n",
      "| id  | name         | class | age  | high |\r\n",
      "+-----+--------------+-------+------+------+\r\n",
      "|   1 | Yamada       |     1 |   14 |  150 |\r\n",
      "|   2 | Tanaka       |     2 |   13 |  150 |\r\n",
      "|   3 | Suzuki       |     1 |   13 |  150 |\r\n",
      "|   4 | Kato         |     2 |   15 |  150 |\r\n",
      "|   5 | Ito          |     3 |   12 |  155 |\r\n",
      "|   6 | Takeuchi     |     2 |   16 |  155 |\r\n",
      "|   7 | Kimura       |     3 |   11 |  160 |\r\n",
      "|   8 | Sato         |     7 |   14 |  160 |\r\n",
      "| 100 | dummy_Yamada |  NULL | NULL |  160 |\r\n",
      "| 200 | dummy_Tanaka |  NULL | NULL |  160 |\r\n",
      "| 300 | dummy_Sato   |  NULL | NULL |  160 |\r\n",
      "+-----+--------------+-------+------+------+\r\n",
      "11 rows in set (0.00 sec)\r\n",
      "\r\n"
     ]
    }
   ],
   "source": [
    "/*解答*/\n",
    "select * from meibo;"
   ]
  },
  {
   "cell_type": "markdown",
   "metadata": {},
   "source": [
    "### 5.2.3 データの集計、演算、並び替え"
   ]
  },
  {
   "cell_type": "markdown",
   "metadata": {},
   "source": [
    "#### <練習問題 1>\n",
    "上記と同じmeiboテーブルで、異なる年齢は何種類でしょうか。"
   ]
  },
  {
   "cell_type": "code",
   "execution_count": 15,
   "metadata": {
    "collapsed": false
   },
   "outputs": [
    {
     "name": "stdout",
     "output_type": "stream",
     "text": [
      "/* 解答 */ select count(distinct age) as ageCnt from meibo;\n",
      "+--------+\r\n",
      "| ageCnt |\r\n",
      "+--------+\r\n",
      "|      6 |\r\n",
      "+--------+\r\n",
      "1 row in set (0.00 sec)\r\n",
      "\r\n"
     ]
    }
   ],
   "source": [
    "/* 解答 */\n",
    "select count(distinct age) as ageCnt from meibo;"
   ]
  },
  {
   "cell_type": "markdown",
   "metadata": {},
   "source": [
    "#### <練習問題 2>\n",
    "身長が一番小さい人、大きい人の身長をそれぞれ求めてください。"
   ]
  },
  {
   "cell_type": "code",
   "execution_count": 16,
   "metadata": {
    "collapsed": false
   },
   "outputs": [
    {
     "name": "stdout",
     "output_type": "stream",
     "text": [
      "select min(high) as minhigh, max(high) as maxhigh from meibo;\n",
      "+---------+---------+\r\n",
      "| minhigh | maxhigh |\r\n",
      "+---------+---------+\r\n",
      "|     150 |     160 |\r\n",
      "+---------+---------+\r\n",
      "1 row in set (0.01 sec)\r\n",
      "\r\n"
     ]
    }
   ],
   "source": [
    "select min(high) as minhigh, max(high) as maxhigh from meibo;"
   ]
  },
  {
   "cell_type": "markdown",
   "metadata": {},
   "source": [
    "#### <練習問題 3>\n",
    "身長が155以上で、classが3のレコードを抽出してください。\n",
    "\n"
   ]
  },
  {
   "cell_type": "code",
   "execution_count": 17,
   "metadata": {
    "collapsed": false
   },
   "outputs": [
    {
     "name": "stdout",
     "output_type": "stream",
     "text": [
      "select * from meibo where high>=155 and class=3;\n",
      "+----+--------+-------+------+------+\r\n",
      "| id | name   | class | age  | high |\r\n",
      "+----+--------+-------+------+------+\r\n",
      "|  5 | Ito    |     3 |   12 |  155 |\r\n",
      "|  7 | Kimura |     3 |   11 |  160 |\r\n",
      "+----+--------+-------+------+------+\r\n",
      "2 rows in set (0.00 sec)\r\n",
      "\r\n"
     ]
    }
   ],
   "source": [
    "select * from meibo where high>=155 and class=3;"
   ]
  },
  {
   "cell_type": "markdown",
   "metadata": {},
   "source": [
    "### 5.2.4 グループごとの集計"
   ]
  },
  {
   "cell_type": "markdown",
   "metadata": {},
   "source": [
    "#### <練習問題 1>\n",
    "\n",
    "meiboテーブルにて、クラスごとの平均身長を求めてみましょう。"
   ]
  },
  {
   "cell_type": "code",
   "execution_count": 18,
   "metadata": {
    "collapsed": false
   },
   "outputs": [
    {
     "name": "stdout",
     "output_type": "stream",
     "text": [
      "/* 解答 */ select class, avg(high) as avgHigh from meibo group by class;\n",
      "+-------+----------+\r\n",
      "| class | avgHigh  |\r\n",
      "+-------+----------+\r\n",
      "|  NULL | 160.0000 |\r\n",
      "|     1 | 150.0000 |\r\n",
      "|     2 | 151.6667 |\r\n",
      "|     3 | 157.5000 |\r\n",
      "|     7 | 160.0000 |\r\n",
      "+-------+----------+\r\n",
      "5 rows in set (0.00 sec)\r\n",
      "\r\n"
     ]
    }
   ],
   "source": [
    "/* 解答 */\n",
    "select class, avg(high) as avgHigh from meibo group by class;"
   ]
  },
  {
   "cell_type": "markdown",
   "metadata": {},
   "source": [
    "#### <練習問題 2>\n",
    "\n",
    "上に加えて、クラスごとの人数、一番小さい人と、一番大きな人の身長もそれぞれのクラスで算出しましょう。"
   ]
  },
  {
   "cell_type": "code",
   "execution_count": 19,
   "metadata": {
    "collapsed": false
   },
   "outputs": [
    {
     "name": "stdout",
     "output_type": "stream",
     "text": [
      "/* 解答 */ select class,count(*) as cnt, min(high) as minHigh,max(high) as maxHigh from meibo group by class;\n",
      "+-------+-----+---------+---------+\r\n",
      "| class | cnt | minHigh | maxHigh |\r\n",
      "+-------+-----+---------+---------+\r\n",
      "|  NULL |   3 |     160 |     160 |\r\n",
      "|     1 |   2 |     150 |     150 |\r\n",
      "|     2 |   3 |     150 |     155 |\r\n",
      "|     3 |   2 |     155 |     160 |\r\n",
      "|     7 |   1 |     160 |     160 |\r\n",
      "+-------+-----+---------+---------+\r\n",
      "5 rows in set (0.00 sec)\r\n",
      "\r\n"
     ]
    }
   ],
   "source": [
    "/* 解答 */\n",
    "select class,count(*) as cnt, min(high) as minHigh,max(high) as maxHigh from meibo group by class;"
   ]
  },
  {
   "cell_type": "markdown",
   "metadata": {},
   "source": [
    "#### <練習問題 3>\n",
    "\n",
    "年齢が13歳より上の人に絞って、上記と同じ項目を求めてください。"
   ]
  },
  {
   "cell_type": "code",
   "execution_count": 20,
   "metadata": {
    "collapsed": false
   },
   "outputs": [
    {
     "name": "stdout",
     "output_type": "stream",
     "text": [
      "/* 解答 */ select class,count(*) as cnt, min(high) as minHigh,max(high) as maxHigh  from meibo where age > 13 group by class;\n",
      "+-------+-----+---------+---------+\r\n",
      "| class | cnt | minHigh | maxHigh |\r\n",
      "+-------+-----+---------+---------+\r\n",
      "|     1 |   1 |     150 |     150 |\r\n",
      "|     2 |   2 |     150 |     155 |\r\n",
      "|     7 |   1 |     160 |     160 |\r\n",
      "+-------+-----+---------+---------+\r\n",
      "3 rows in set (0.00 sec)\r\n",
      "\r\n"
     ]
    }
   ],
   "source": [
    "/* 解答 */\n",
    "select class,count(*) as cnt, min(high) as minHigh,max(high) as maxHigh  from meibo where age > 13 group by class;"
   ]
  },
  {
   "cell_type": "markdown",
   "metadata": {},
   "source": [
    "### 5.2.5 複数テーブルの利用"
   ]
  },
  {
   "cell_type": "markdown",
   "metadata": {},
   "source": [
    "#### <練習問題 1>\n",
    "\n",
    "新しくcardtbというテーブルを作成してください。ただし、カラムはid,point,money (すべてint)にしてください。さらに、以下のデータを挿入してください。<br>(id,point,money) = (1,100,1000),(2,NULL,60),(3,50,500),(4,30,600),(5,10,10),(6,NULL,40),(7,100,1000),(8,2000,100)"
   ]
  },
  {
   "cell_type": "code",
   "execution_count": 21,
   "metadata": {
    "collapsed": false,
    "scrolled": true
   },
   "outputs": [
    {
     "name": "stdout",
     "output_type": "stream",
     "text": [
      "/* 解答 */ create table cardtb (id int primary key, point int, money int) engine = MyISAM default charset = utf8;\n",
      "\r\n",
      "Query OK, 0 rows affected (0.02 sec)\r\n",
      "\r\n"
     ]
    }
   ],
   "source": [
    "/* 解答 */\n",
    "create table cardtb\n",
    "  (id int primary key, point int, money int)\n",
    "  engine = MyISAM\n",
    "  default charset = utf8;"
   ]
  },
  {
   "cell_type": "code",
   "execution_count": 22,
   "metadata": {
    "collapsed": false
   },
   "outputs": [
    {
     "name": "stdout",
     "output_type": "stream",
     "text": [
      "/* 解答 */ desc cardtb;\n",
      "+-------+---------+------+-----+---------+-------+\r\n",
      "| Field | Type    | Null | Key | Default | Extra |\r\n",
      "+-------+---------+------+-----+---------+-------+\r\n",
      "| id    | int(11) | NO   | PRI | NULL    |       |\r\n",
      "| point | int(11) | YES  |     | NULL    |       |\r\n",
      "| money | int(11) | YES  |     | NULL    |       |\r\n",
      "+-------+---------+------+-----+---------+-------+\r\n",
      "3 rows in set (0.00 sec)\r\n",
      "\r\n"
     ]
    }
   ],
   "source": [
    "/* 解答 */\n",
    "desc cardtb;"
   ]
  },
  {
   "cell_type": "markdown",
   "metadata": {},
   "source": [
    "データの挿入です。"
   ]
  },
  {
   "cell_type": "code",
   "execution_count": 23,
   "metadata": {
    "collapsed": false
   },
   "outputs": [
    {
     "name": "stdout",
     "output_type": "stream",
     "text": [
      "/* 解答 */ insert into cardtb (id,point,money) values (1,100,1000),(2,NULL,60),(3,50,500),(4,30,600),(5,10,10),(6,NULL,40),(7,100,1000),(8,2000,100);\n",
      "\r\n",
      "Query OK, 8 rows affected (0.00 sec)\r\n",
      "Records: 8  Duplicates: 0  Warnings: 0\r\n",
      "\r\n"
     ]
    }
   ],
   "source": [
    "/* 解答 */\n",
    "insert into cardtb (id,point,money) \n",
    "values (1,100,1000),(2,NULL,60),(3,50,500),(4,30,600),(5,10,10),(6,NULL,40),(7,100,1000),(8,2000,100);"
   ]
  },
  {
   "cell_type": "code",
   "execution_count": 24,
   "metadata": {
    "collapsed": false
   },
   "outputs": [
    {
     "name": "stdout",
     "output_type": "stream",
     "text": [
      "/* 解答 */ select * from cardtb;\n",
      "+----+-------+-------+\r\n",
      "| id | point | money |\r\n",
      "+----+-------+-------+\r\n",
      "|  1 |   100 |  1000 |\r\n",
      "|  2 |  NULL |    60 |\r\n",
      "|  3 |    50 |   500 |\r\n",
      "|  4 |    30 |   600 |\r\n",
      "|  5 |    10 |    10 |\r\n",
      "|  6 |  NULL |    40 |\r\n",
      "|  7 |   100 |  1000 |\r\n",
      "|  8 |  2000 |   100 |\r\n",
      "+----+-------+-------+\r\n",
      "8 rows in set (0.00 sec)\r\n",
      "\r\n"
     ]
    }
   ],
   "source": [
    "/* 解答 */\n",
    "select * from cardtb;"
   ]
  },
  {
   "cell_type": "markdown",
   "metadata": {},
   "source": [
    "#### <練習問題 2>\n",
    "\n",
    "meiboテーブルにidをキーとして、上記のテーブルを内部結合させてください。"
   ]
  },
  {
   "cell_type": "code",
   "execution_count": 25,
   "metadata": {
    "collapsed": false
   },
   "outputs": [
    {
     "name": "stdout",
     "output_type": "stream",
     "text": [
      "select * from meibo a join cardtb b on a.id=b.id;\n",
      "+----+----------+-------+------+------+----+-------+-------+\r\n",
      "| id | name     | class | age  | high | id | point | money |\r\n",
      "+----+----------+-------+------+------+----+-------+-------+\r\n",
      "|  1 | Yamada   |     1 |   14 |  150 |  1 |   100 |  1000 |\r\n",
      "|  2 | Tanaka   |     2 |   13 |  150 |  2 |  NULL |    60 |\r\n",
      "|  3 | Suzuki   |     1 |   13 |  150 |  3 |    50 |   500 |\r\n",
      "|  4 | Kato     |     2 |   15 |  150 |  4 |    30 |   600 |\r\n",
      "|  5 | Ito      |     3 |   12 |  155 |  5 |    10 |    10 |\r\n",
      "|  6 | Takeuchi |     2 |   16 |  155 |  6 |  NULL |    40 |\r\n",
      "|  7 | Kimura   |     3 |   11 |  160 |  7 |   100 |  1000 |\r\n",
      "|  8 | Sato     |     7 |   14 |  160 |  8 |  2000 |   100 |\r\n",
      "+----+----------+-------+------+------+----+-------+-------+\r\n",
      "8 rows in set (0.00 sec)\r\n",
      "\r\n"
     ]
    }
   ],
   "source": [
    "select * from meibo a join cardtb b on a.id=b.id;"
   ]
  },
  {
   "cell_type": "markdown",
   "metadata": {},
   "source": [
    "#### <練習問題 3>\n",
    "meiboテーブルにidをキーとして、上記のテーブルを外部結合させてください。"
   ]
  },
  {
   "cell_type": "code",
   "execution_count": 26,
   "metadata": {
    "collapsed": false
   },
   "outputs": [
    {
     "name": "stdout",
     "output_type": "stream",
     "text": [
      "select * from meibo a left join cardtb b on a.id=b.id;\n",
      "+-----+--------------+-------+------+------+------+-------+-------+\r\n",
      "| id  | name         | class | age  | high | id   | point | money |\r\n",
      "+-----+--------------+-------+------+------+------+-------+-------+\r\n",
      "|   1 | Yamada       |     1 |   14 |  150 |    1 |   100 |  1000 |\r\n",
      "|   2 | Tanaka       |     2 |   13 |  150 |    2 |  NULL |    60 |\r\n",
      "|   3 | Suzuki       |     1 |   13 |  150 |    3 |    50 |   500 |\r\n",
      "|   4 | Kato         |     2 |   15 |  150 |    4 |    30 |   600 |\r\n",
      "|   5 | Ito          |     3 |   12 |  155 |    5 |    10 |    10 |\r\n",
      "|   6 | Takeuchi     |     2 |   16 |  155 |    6 |  NULL |    40 |\r\n",
      "|   7 | Kimura       |     3 |   11 |  160 |    7 |   100 |  1000 |\r\n",
      "|   8 | Sato         |     7 |   14 |  160 |    8 |  2000 |   100 |\r\n",
      "| 100 | dummy_Yamada |  NULL | NULL |  160 | NULL |  NULL |  NULL |\r\n",
      "| 200 | dummy_Tanaka |  NULL | NULL |  160 | NULL |  NULL |  NULL |\r\n",
      "| 300 | dummy_Sato   |  NULL | NULL |  160 | NULL |  NULL |  NULL |\r\n",
      "+-----+--------------+-------+------+------+------+-------+-------+\r\n",
      "11 rows in set (0.00 sec)\r\n",
      "\r\n"
     ]
    }
   ],
   "source": [
    "select * from meibo a left join cardtb b on a.id=b.id;"
   ]
  },
  {
   "cell_type": "markdown",
   "metadata": {},
   "source": [
    "### 5.2.6 case文とサブクエリ"
   ]
  },
  {
   "cell_type": "markdown",
   "metadata": {},
   "source": [
    "#### <練習問題 1>\n",
    "\n",
    "meiboテーブルで、highが155未満の場合は\"below_155\"、155ぴったりならば\"equal_155\"、155より大きいならば\"over_155\"と名付けて、テーブルを表示させてください。"
   ]
  },
  {
   "cell_type": "code",
   "execution_count": 27,
   "metadata": {
    "collapsed": false
   },
   "outputs": [
    {
     "name": "stdout",
     "output_type": "stream",
     "text": [
      "/*解答*/ select id ,name ,case when high <155 then \"below_155\" when high = 155 then \"equal_155\" when high > 155 then \"over_155\" else \"others\" end as highlevel from meibo;\n",
      "+-----+--------------+-----------+\r\n",
      "| id  | name         | highlevel |\r\n",
      "+-----+--------------+-----------+\r\n",
      "|   1 | Yamada       | below_155 |\r\n",
      "|   2 | Tanaka       | below_155 |\r\n",
      "|   3 | Suzuki       | below_155 |\r\n",
      "|   4 | Kato         | below_155 |\r\n",
      "|   5 | Ito          | equal_155 |\r\n",
      "|   6 | Takeuchi     | equal_155 |\r\n",
      "|   7 | Kimura       | over_155  |\r\n",
      "|   8 | Sato         | over_155  |\r\n",
      "| 100 | dummy_Yamada | over_155  |\r\n",
      "| 200 | dummy_Tanaka | over_155  |\r\n",
      "| 300 | dummy_Sato   | over_155  |\r\n",
      "+-----+--------------+-----------+\r\n",
      "11 rows in set (0.00 sec)\r\n",
      "\r\n"
     ]
    }
   ],
   "source": [
    "/*解答*/\n",
    "select \n",
    "     id\n",
    "    ,name\n",
    "    ,case \n",
    "        when high <155 then \"below_155\"\n",
    "        when high = 155 then \"equal_155\"\n",
    "        when high > 155 then \"over_155\"\n",
    "        else \"others\" \n",
    "    end as highlevel\n",
    "from \n",
    "    meibo;"
   ]
  },
  {
   "cell_type": "markdown",
   "metadata": {},
   "source": [
    "#### <練習問題 2>\n",
    "上記のテーブルとサブクエリの考え方を利用して、それぞれのhighlevelの人数を求めてください。"
   ]
  },
  {
   "cell_type": "code",
   "execution_count": 28,
   "metadata": {
    "collapsed": false
   },
   "outputs": [
    {
     "name": "stdout",
     "output_type": "stream",
     "text": [
      "/*解答*/ select b.highlevel,count(*) as cnt from (select id ,name ,case when high <155 then \"below_155\" when high = 155 then \"155\" when high > 155 then \"over_155\" else \"others\" end as highlevel from meibo) b group by highlevel;\n",
      "+-----------+-----+\r\n",
      "| highlevel | cnt |\r\n",
      "+-----------+-----+\r\n",
      "| 155       |   2 |\r\n",
      "| below_155 |   4 |\r\n",
      "| over_155  |   5 |\r\n",
      "+-----------+-----+\r\n",
      "3 rows in set (0.00 sec)\r\n",
      "\r\n"
     ]
    }
   ],
   "source": [
    "/*解答*/\n",
    "select b.highlevel,count(*) as cnt \n",
    "from\n",
    "(select \n",
    "     id\n",
    "    ,name\n",
    "    ,case \n",
    "        when high <155 then \"below_155\"\n",
    "        when high = 155 then \"155\"\n",
    "        when high > 155 then \"over_155\"\n",
    "        else \"others\" \n",
    "    end as highlevel\n",
    "from \n",
    "    meibo) b\n",
    "group by highlevel;"
   ]
  },
  {
   "cell_type": "markdown",
   "metadata": {},
   "source": [
    "#### <練習問題 3>\n",
    "上記のテーブルとサブクエリの考え方を利用して、それぞれのhighlevelの平均年齢を求めてください。"
   ]
  },
  {
   "cell_type": "code",
   "execution_count": 29,
   "metadata": {
    "collapsed": false
   },
   "outputs": [
    {
     "name": "stdout",
     "output_type": "stream",
     "text": [
      "/*解答*/ select b.highlevel,avg(age) as avgAge from (select id ,name ,age ,case when high <155 then \"below_155\" when high = 155 then \"155\" when high > 155 then \"over_155\" else \"others\" end as highlevel from meibo) b group by highlevel;\n",
      "+-----------+---------+\r\n",
      "| highlevel | avgAge  |\r\n",
      "+-----------+---------+\r\n",
      "| 155       | 14.0000 |\r\n",
      "| below_155 | 13.7500 |\r\n",
      "| over_155  | 12.5000 |\r\n",
      "+-----------+---------+\r\n",
      "3 rows in set (0.00 sec)\r\n",
      "\r\n"
     ]
    }
   ],
   "source": [
    "/*解答*/\n",
    "select b.highlevel,avg(age) as avgAge\n",
    "from\n",
    "(select \n",
    "     id\n",
    "    ,name\n",
    "    ,age\n",
    "    ,case \n",
    "        when high <155 then \"below_155\"\n",
    "        when high = 155 then \"155\"\n",
    "        when high > 155 then \"over_155\"\n",
    "        else \"others\" \n",
    "    end as highlevel\n",
    "from \n",
    "    meibo) b\n",
    "group by highlevel;"
   ]
  },
  {
   "cell_type": "markdown",
   "metadata": {},
   "source": [
    "## 5.3 ビュー"
   ]
  },
  {
   "cell_type": "markdown",
   "metadata": {},
   "source": [
    "### 5.3.1 ビュー"
   ]
  },
  {
   "cell_type": "markdown",
   "metadata": {},
   "source": [
    "#### <練習問題 1>\n",
    "テーブルmeibo2からidとnameを取り出して、ビューのv3を作成してみましょう。"
   ]
  },
  {
   "cell_type": "code",
   "execution_count": 30,
   "metadata": {
    "collapsed": false
   },
   "outputs": [
    {
     "name": "stdout",
     "output_type": "stream",
     "text": [
      "/*解答*/ create view v3 as select id,name from meibo2;\n",
      "\r\n",
      "Query OK, 0 rows affected (0.01 sec)\r\n",
      "\r\n"
     ]
    }
   ],
   "source": [
    "/*解答*/\n",
    "create view v3\n",
    "    as\n",
    "select id,name\n",
    "    from meibo2;"
   ]
  },
  {
   "cell_type": "code",
   "execution_count": 31,
   "metadata": {
    "collapsed": false
   },
   "outputs": [
    {
     "name": "stdout",
     "output_type": "stream",
     "text": [
      "/*解答*/ select * from v3;\n",
      "\r\n",
      "Empty set (0.00 sec)\r\n",
      "\r\n"
     ]
    }
   ],
   "source": [
    "/*解答*/\n",
    "select * from v3;"
   ]
  },
  {
   "cell_type": "markdown",
   "metadata": {},
   "source": [
    "#### <練習問題 2>\n",
    "meiboテーブルとscoreテーブルを外部結合して、idとnameを取り出すビューv4を作成してみましょう。"
   ]
  },
  {
   "cell_type": "code",
   "execution_count": 32,
   "metadata": {
    "collapsed": false
   },
   "outputs": [
    {
     "name": "stdout",
     "output_type": "stream",
     "text": [
      "/* 解答 */ create view v4 as select a.id,a.name from meibo a left join score b on a.id=b.id;\n",
      "\r\n",
      "Query OK, 0 rows affected (0.01 sec)\r\n",
      "\r\n"
     ]
    }
   ],
   "source": [
    "/* 解答 */\n",
    "create view v4\n",
    "    as\n",
    "select a.id,a.name from meibo a left join score b on a.id=b.id;"
   ]
  },
  {
   "cell_type": "code",
   "execution_count": 33,
   "metadata": {
    "collapsed": false
   },
   "outputs": [
    {
     "name": "stdout",
     "output_type": "stream",
     "text": [
      "/* 解答 */ select * from v4;\n",
      "+-----+--------------+\r\n",
      "| id  | name         |\r\n",
      "+-----+--------------+\r\n",
      "|   1 | Yamada       |\r\n",
      "|   2 | Tanaka       |\r\n",
      "|   3 | Suzuki       |\r\n",
      "|   4 | Kato         |\r\n",
      "|   5 | Ito          |\r\n",
      "|   6 | Takeuchi     |\r\n",
      "|   7 | Kimura       |\r\n",
      "|   8 | Sato         |\r\n",
      "| 100 | dummy_Yamada |\r\n",
      "| 200 | dummy_Tanaka |\r\n",
      "| 300 | dummy_Sato   |\r\n",
      "+-----+--------------+\r\n",
      "11 rows in set (0.01 sec)\r\n",
      "\r\n"
     ]
    }
   ],
   "source": [
    "/* 解答 */\n",
    "select * from v4;"
   ]
  },
  {
   "cell_type": "markdown",
   "metadata": {},
   "source": [
    "#### <練習問題 3>\n",
    "上記で作成したテーブルに新しいデータを追加してみましょう。どうなりますか？"
   ]
  },
  {
   "cell_type": "code",
   "execution_count": 34,
   "metadata": {
    "collapsed": false
   },
   "outputs": [
    {
     "name": "stdout",
     "output_type": "stream",
     "text": [
      "/*解答：エラーになります。ビューはいつでも更新できるわけではない。*/ insert into v4 (id, name) values (101, \"dummy2_Yamada\"); insert into v4 (id, name) values (201, \"dummy2_Tanaka\"); insert into v4 (id, name) values (301, \"dummy2_Sato\");\n",
      "\r\n",
      "ERROR 1471 (HY000): The target table v4 of the INSERT is not insertable-into\r\n",
      "ERROR 1471 (HY000): The target table v4 of the INSERT is not insertable-into\r\n",
      "ERROR 1471 (HY000): The target table v4 of the INSERT is not insertable-into\r\n",
      "\u0007\u0007\u0007"
     ]
    }
   ],
   "source": [
    "/*解答：エラーになります。ビューはいつでも更新できるわけではない。*/\n",
    "insert into v4 (id, name) values (101, \"dummy2_Yamada\");\n",
    "insert into v4 (id, name) values (201, \"dummy2_Tanaka\");\n",
    "insert into v4 (id, name) values (301, \"dummy2_Sato\");"
   ]
  },
  {
   "cell_type": "markdown",
   "metadata": {},
   "source": [
    "***"
   ]
  },
  {
   "cell_type": "markdown",
   "metadata": {},
   "source": [
    "## 5.4 総合問題"
   ]
  },
  {
   "cell_type": "markdown",
   "metadata": {},
   "source": [
    "### 5.4.1 総合問題1\n",
    "\n",
    "以下のデータベースを使って、後の問いに答えてください。\n",
    "\n",
    "https://dev.mysql.com/doc/world-setup/en/\n",
    "\n",
    "(1) データベースworldを選択して、どのようなテーブルがあるか、またそれぞれどのようなカラムがあるか表示してください。  \n",
    "(2) それぞれのテーブルについて、それぞれ5行ずつ表示させてください。どんなデータがあるか軽く確認してください。  \n",
    "(3) cityテーブルについて、レコード数をカウントしてください。また、重複するデータがあるかどうか、チェックしてください。  "
   ]
  },
  {
   "cell_type": "code",
   "execution_count": 35,
   "metadata": {
    "collapsed": false
   },
   "outputs": [
    {
     "name": "stdout",
     "output_type": "stream",
     "text": [
      "/*解答　(1)*/ show databases; use world; show tables; desc city; desc country; desc countrylanguage;\n",
      "+--------------------+\r\n",
      "| Database           |\r\n",
      "+--------------------+\r\n",
      "| information_schema |\r\n",
      "| TEST1              |\r\n",
      "| employees          |\r\n",
      "| foodmart_mondrian  |\r\n",
      "| mysql              |\r\n",
      "| performance_schema |\r\n",
      "| sakila             |\r\n",
      "| sys                |\r\n",
      "| test2              |\r\n",
      "| world              |\r\n",
      "+--------------------+\r\n",
      "10 rows in set (0.00 sec)\r\n",
      "\r\n",
      "Database changed\r\n",
      "+-----------------+\r\n",
      "| Tables_in_world |\r\n",
      "+-----------------+\r\n",
      "| city            |\r\n",
      "| country         |\r\n",
      "| countrylanguage |\r\n",
      "+-----------------+\r\n",
      "3 rows in set (0.00 sec)\r\n",
      "\r\n",
      "+-------------+----------+------+-----+---------+----------------+\r\n",
      "| Field       | Type     | Null | Key | Default | Extra          |\r\n",
      "+-------------+----------+------+-----+---------+----------------+\r\n",
      "| ID          | int(11)  | NO   | PRI | NULL    | auto_increment |\r\n",
      "| Name        | char(35) | NO   |     |         |                |\r\n",
      "| CountryCode | char(3)  | NO   | MUL |         |                |\r\n",
      "| District    | char(20) | NO   |     |         |                |\r\n",
      "| Population  | int(11)  | NO   |     | 0       |                |\r\n",
      "+-------------+----------+------+-----+---------+----------------+\r\n",
      "5 rows in set (0.01 sec)\r\n",
      "\r\n",
      "+----------------+---------------------------------------------------------------------------------------+------+-----+---------+-------+\r\n",
      "| Field          | Type                                                                                  | Null | Key | Default | Extra |\r\n",
      "+----------------+---------------------------------------------------------------------------------------+------+-----+---------+-------+\r\n",
      "| Code           | char(3)                                                                               | NO   | PRI |         |       |\r\n",
      "| Name           | char(52)                                                                              | NO   |     |         |       |\r\n",
      "| Continent      | enum('Asia','Europe','North America','Africa','Oceania','Antarctica','South America') | NO   |     | Asia    |       |\r\n",
      "| Region         | char(26)                                                                              | NO   |     |         |       |\r\n",
      "| SurfaceArea    | float(10,2)                                                                           | NO   |     | 0.00    |       |\r\n",
      "| IndepYear      | smallint(6)                                                                           | YES  |     | NULL    |       |\r\n",
      "| Population     | int(11)                                                                               | NO   |     | 0       |       |\r\n",
      "| LifeExpectancy | float(3,1)                                                                            | YES  |     | NULL    |       |\r\n",
      "| GNP            | float(10,2)                                                                           | YES  |     | NULL    |       |\r\n",
      "| GNPOld         | float(10,2)                                                                           | YES  |     | NULL    |       |\r\n",
      "| LocalName      | char(45)                                                                              | NO   |     |         |       |\r\n",
      "| GovernmentForm | char(45)                                                                              | NO   |     |         |       |\r\n",
      "| HeadOfState    | char(60)                                                                              | YES  |     | NULL    |       |\r\n",
      "| Capital        | int(11)                                                                               | YES  |     | NULL    |       |\r\n",
      "| Code2          | char(2)                                                                               | NO   |     |         |       |\r\n",
      "+----------------+---------------------------------------------------------------------------------------+------+-----+---------+-------+\r\n",
      "15 rows in set (0.00 sec)\r\n",
      "\r\n",
      "+-------------+---------------+------+-----+---------+-------+\r\n",
      "| Field       | Type          | Null | Key | Default | Extra |\r\n",
      "+-------------+---------------+------+-----+---------+-------+\r\n",
      "| CountryCode | char(3)       | NO   | PRI |         |       |\r\n",
      "| Language    | char(30)      | NO   | PRI |         |       |\r\n",
      "| IsOfficial  | enum('T','F') | NO   |     | F       |       |\r\n",
      "| Percentage  | float(4,1)    | NO   |     | 0.0     |       |\r\n",
      "+-------------+---------------+------+-----+---------+-------+\r\n",
      "4 rows in set (0.00 sec)\r\n",
      "\r\n"
     ]
    }
   ],
   "source": [
    "/*解答　(1)*/\n",
    "show databases;\n",
    "use world;\n",
    "\n",
    "show tables;\n",
    "\n",
    "desc city;\n",
    "desc country;\n",
    "desc countrylanguage;"
   ]
  },
  {
   "cell_type": "code",
   "execution_count": 36,
   "metadata": {
    "collapsed": false,
    "scrolled": true
   },
   "outputs": [
    {
     "name": "stdout",
     "output_type": "stream",
     "text": [
      "/*解答　(2)*/ select * from city limit 5; select * from country limit 5; select * from countrylanguage limit 5;\n",
      "+----+----------------+-------------+---------------+------------+\r\n",
      "| ID | Name           | CountryCode | District      | Population |\r\n",
      "+----+----------------+-------------+---------------+------------+\r\n",
      "|  1 | Kabul          | AFG         | Kabol         |    1780000 |\r\n",
      "|  2 | Qandahar       | AFG         | Qandahar      |     237500 |\r\n",
      "|  3 | Herat          | AFG         | Herat         |     186800 |\r\n",
      "|  4 | Mazar-e-Sharif | AFG         | Balkh         |     127800 |\r\n",
      "|  5 | Amsterdam      | NLD         | Noord-Holland |     731200 |\r\n",
      "+----+----------------+-------------+---------------+------------+\r\n",
      "5 rows in set (0.00 sec)\r\n",
      "\r\n",
      "+------+-------------+---------------+---------------------------+-------------+-----------+------------+----------------+---------+---------+-----------------------+----------------------------------------------+--------------------------+---------+-------+\r\n",
      "| Code | Name        | Continent     | Region                    | SurfaceArea | IndepYear | Population | LifeExpectancy | GNP     | GNPOld  | LocalName             | GovernmentForm                               | HeadOfState              | Capital | Code2 |\r\n",
      "+------+-------------+---------------+---------------------------+-------------+-----------+------------+----------------+---------+---------+-----------------------+----------------------------------------------+--------------------------+---------+-------+\r\n",
      "| ABW  | Aruba       | North America | Caribbean                 |      193.00 |      NULL |     103000 |           78.4 |  828.00 |  793.00 | Aruba                 | Nonmetropolitan Territory of The Netherlands | Beatrix                  |     129 | AW    |\r\n",
      "| AFG  | Afghanistan | Asia          | Southern and Central Asia |   652090.00 |      1919 |   22720000 |           45.9 | 5976.00 |    NULL | Afganistan/Afqanestan | Islamic Emirate                              | Mohammad Omar            |       1 | AF    |\r\n",
      "| AGO  | Angola      | Africa        | Central Africa            |  1246700.00 |      1975 |   12878000 |           38.3 | 6648.00 | 7984.00 | Angola                | Republic                                     | José Eduardo dos Santos  |      56 | AO    |\r\n",
      "| AIA  | Anguilla    | North America | Caribbean                 |       96.00 |      NULL |       8000 |           76.1 |   63.20 |    NULL | Anguilla              | Dependent Territory of the UK                | Elisabeth II             |      62 | AI    |\r\n",
      "| ALB  | Albania     | Europe        | Southern Europe           |    28748.00 |      1912 |    3401200 |           71.6 | 3205.00 | 2500.00 | Shqipëria             | Republic                                     | Rexhep Mejdani           |      34 | AL    |\r\n",
      "+------+-------------+---------------+---------------------------+-------------+-----------+------------+----------------+---------+---------+-----------------------+----------------------------------------------+--------------------------+---------+-------+\r\n",
      "5 rows in set (0.00 sec)\r\n",
      "\r\n",
      "+-------------+------------+------------+------------+\r\n",
      "| CountryCode | Language   | IsOfficial | Percentage |\r\n",
      "+-------------+------------+------------+------------+\r\n",
      "| ABW         | Dutch      | T          |        5.3 |\r\n",
      "| ABW         | English    | F          |        9.5 |\r\n",
      "| ABW         | Papiamento | F          |       76.7 |\r\n",
      "| ABW         | Spanish    | F          |        7.4 |\r\n",
      "| AFG         | Balochi    | F          |        0.9 |\r\n",
      "+-------------+------------+------------+------------+\r\n",
      "5 rows in set (0.00 sec)\r\n",
      "\r\n"
     ]
    }
   ],
   "source": [
    "/*解答　(2)*/\n",
    "select * from city limit 5;\n",
    "select * from country limit 5;\n",
    "select * from countrylanguage limit 5;"
   ]
  },
  {
   "cell_type": "code",
   "execution_count": 37,
   "metadata": {
    "collapsed": false
   },
   "outputs": [
    {
     "name": "stdout",
     "output_type": "stream",
     "text": [
      "/*解答　(3)*/ /*重複はなし*/ select count(*) as all_record, count(distinct ID) as distinct_ID from city;\n",
      "+------------+-------------+\r\n",
      "| all_record | distinct_ID |\r\n",
      "+------------+-------------+\r\n",
      "|       4079 |        4079 |\r\n",
      "+------------+-------------+\r\n",
      "1 row in set (0.01 sec)\r\n",
      "\r\n"
     ]
    }
   ],
   "source": [
    "/*解答　(3)*/\n",
    "/*重複はなし*/\n",
    "select count(*) as all_record, count(distinct ID) as distinct_ID from city;"
   ]
  },
  {
   "cell_type": "markdown",
   "metadata": {},
   "source": [
    "### 5.4.2 総合問題2\n",
    "上記と同じデータベースを使って、以下の問いに答えてください。\n",
    "\n",
    "(1) countrylanguageテーブルについて、それぞれのCountryCodeを軸に、言語の数（テーブルにあるものだけ、重複なく）を計算してください。また、その結果をcityテーブルに紐付けて（joinして）、cityのカラム全てとその言語の数を表示してください。ただし、結果は5行のみ表示させるだけでよいです。  \n",
    "(2)  countrylanguageテーブルについて、それぞれのCountryCodeを軸に、Percentageを合計してください。ただし、その合計値が99.9を超えるものだけ表示させるようにしてください。  \n",
    "(3)  cityテーブルについて、DistrictのイニシャルがAではじまるもの、Bではじまるもの、Cではじまるもの、その他(others)の4パターンに分けて、それぞれのレコード数をカウントしてください。"
   ]
  },
  {
   "cell_type": "code",
   "execution_count": 38,
   "metadata": {
    "collapsed": false,
    "scrolled": false
   },
   "outputs": [
    {
     "name": "stdout",
     "output_type": "stream",
     "text": [
      "/*解答(1)*/ select a.*,b.lang_cnt from city a left outer join (select CountryCode,count(distinct Language) as lang_cnt from countrylanguage group by 1) b on a.CountryCode = b.CountryCode limit 5;\n",
      "+----+----------------+-------------+---------------+------------+----------+\r\n",
      "| ID | Name           | CountryCode | District      | Population | lang_cnt |\r\n",
      "+----+----------------+-------------+---------------+------------+----------+\r\n",
      "|  1 | Kabul          | AFG         | Kabol         |    1780000 |        5 |\r\n",
      "|  2 | Qandahar       | AFG         | Qandahar      |     237500 |        5 |\r\n",
      "|  3 | Herat          | AFG         | Herat         |     186800 |        5 |\r\n",
      "|  4 | Mazar-e-Sharif | AFG         | Balkh         |     127800 |        5 |\r\n",
      "|  5 | Amsterdam      | NLD         | Noord-Holland |     731200 |        4 |\r\n",
      "+----+----------------+-------------+---------------+------------+----------+\r\n",
      "5 rows in set (0.01 sec)\r\n",
      "\r\n"
     ]
    }
   ],
   "source": [
    "/*解答(1)*/\n",
    "select a.*,b.lang_cnt from city a left outer join \n",
    "(select CountryCode,count(distinct Language) as lang_cnt from countrylanguage group by 1) b\n",
    "on a.CountryCode = b.CountryCode limit 5;"
   ]
  },
  {
   "cell_type": "code",
   "execution_count": 39,
   "metadata": {
    "collapsed": false
   },
   "outputs": [
    {
     "name": "stdout",
     "output_type": "stream",
     "text": [
      "/*解答(2)*/ select CountryCode, sum(Percentage) all_P from countrylanguage group by 1 having all_P>99.9 limit 5;\n",
      "+-------------+-------+\r\n",
      "| CountryCode | all_P |\r\n",
      "+-------------+-------+\r\n",
      "| BHS         | 100.0 |\r\n",
      "| BMU         | 100.0 |\r\n",
      "| BTN         | 100.0 |\r\n",
      "| CHL         | 100.0 |\r\n",
      "| CPV         | 100.0 |\r\n",
      "+-------------+-------+\r\n",
      "5 rows in set (0.00 sec)\r\n",
      "\r\n"
     ]
    }
   ],
   "source": [
    "/*解答(2)*/\n",
    "select CountryCode, sum(Percentage) all_P from countrylanguage group by 1 having all_P>99.9 limit 5;"
   ]
  },
  {
   "cell_type": "code",
   "execution_count": 40,
   "metadata": {
    "collapsed": false,
    "scrolled": true
   },
   "outputs": [
    {
     "name": "stdout",
     "output_type": "stream",
     "text": [
      "/*解答(3)*/ select case when District like 'A%' then \"FromA\" when District like 'B%' then \"FromB\" when District like 'C%' then \"FromC\" else \"others\" end as initial_District, count(*) as cnt from city group by 1;\n",
      "+------------------+------+\r\n",
      "| initial_District | cnt  |\r\n",
      "+------------------+------+\r\n",
      "| FromA            |  273 |\r\n",
      "| FromB            |  217 |\r\n",
      "| FromC            |  326 |\r\n",
      "| others           | 3263 |\r\n",
      "+------------------+------+\r\n",
      "4 rows in set (0.01 sec)\r\n",
      "\r\n"
     ]
    }
   ],
   "source": [
    "/*解答(3)*/\n",
    "select \n",
    "    case\n",
    "        when District like 'A%' then \"FromA\"\n",
    "        when District like 'B%' then \"FromB\"\n",
    "        when District like 'C%' then \"FromC\"\n",
    "        else \"others\" \n",
    "    end as initial_District,\n",
    "    count(*) as cnt\n",
    "from \n",
    "    city\n",
    "    group by 1;"
   ]
  }
 ],
 "metadata": {
  "anaconda-cloud": {},
  "kernelspec": {
   "display_name": "mysql",
   "language": "",
   "name": "mysql"
  },
  "language_info": {
   "file_extension": ".sql",
   "mimetype": "text/plain",
   "name": "mysql"
  }
 },
 "nbformat": 4,
 "nbformat_minor": 0
}

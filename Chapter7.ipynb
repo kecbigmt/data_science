{
 "cells": [
  {
   "cell_type": "markdown",
   "metadata": {},
   "source": [
    "# 7 ドキュメント型DB（MongoDB）"
   ]
  },
  {
   "cell_type": "markdown",
   "metadata": {},
   "source": [
    "- **[7.1 NoSQLとRDBMS](#7.1-NoSQLとRDBMS)**\n",
    "    - [7.1.1 NoSQLとは](#7.1.1-NoSQLとは)\n",
    "    - [7.1.2 NoSQLとRDBMSの違い](#7.1.2-NoSQLとRDBMSの違い)\n",
    "<br><br>\n",
    "- **[7.2 MongoDBの基礎知識](#7.2-MongoDBの基礎知識)** \n",
    "    - [7.2.1 MongoDBの概要と特徴](#7.2.1-MongoDBの概要と特徴)\n",
    "    - [7.2.2 MongoDB使用環境](#7.2.2-MongoDB使用環境)\n",
    "    - [7.2.3 MongoDBの仕組み](#7.2.3-MongoDBの仕組み)\n",
    "    - [7.2.4 Mongoシェルの基本操作](#7.2.4-Mongoシェルの基本操作)\n",
    "    - [7.2.5 MongoDBのデータ型](#7.2.5-MongoDBのデータ型)\n",
    "<br><br> \n",
    "- **[7.3 MongoDBの基本操作](#7.3-MongoDBの基本操作)** \n",
    "    - [7.3.1 データの挿入](#7.3.1-データの挿入-&#40;Create&#41;)\n",
    "    - [7.3.2 データの検索](#7.3.2-データの検索-&#40;Read&#41;)\n",
    "        - [7.3.2.1 カーソル操作](#7.3.2.1-カーソル操作)\n",
    "    - [7.3.2 データの更新](#7.3.3-データの更新-&#40;Update&#41;)\n",
    "    - [7.3.4 データの削除](#7.3.4-データの削除-&#40;Delete&#41;)\n",
    "    - [7.3.5 データの集計](#7.3.5-データの集計)\n",
    "<br><br>\n",
    "- **[7.4 MongoDBのパフォーマンス向上](#7.4-MongoDBのパフォーマンス向上)**\n",
    "    - [7.4.1 インデックス](#7.4.1-インデックス)\n",
    "    - [7.4.2 MongoDBの統計・メットリックス](#7.4.2-MongoDBの統計・メットリックス)\n",
    "    - [7.4.3 データのバックアップ・エクスポート](#7.4.3-データのバックアップ・エクスポート)"
   ]
  },
  {
   "cell_type": "markdown",
   "metadata": {},
   "source": [
    "***"
   ]
  },
  {
   "cell_type": "markdown",
   "metadata": {},
   "source": [
    "## 7.1 NoSQLとRDBMS"
   ]
  },
  {
   "cell_type": "markdown",
   "metadata": {},
   "source": [
    "### 7.1.1 NoSQLとは\n",
    "\n",
    "第5章および第6章では、従来のリレーショナルデータベースについて学びました。\n",
    "本章では、いわゆるNoSQL系のデータベースの一つであるMongoDBについて学びます。\n",
    "\n",
    "従来のRDBMSが明確なデータ構造を定義し、SQL言語による優れた検索性能を持ち、強力なトランザクション機能を備えています。しかしその反面、水平スケーリングしづらく、マスタスレーブ構造のため書き込み負荷が集中しやすく、耐障害性も上げにくいことなどの弱点があります。近年、それらの弱点に対処するのに、生まれたのがNoSQL系データベースです。\n",
    "\n",
    "NoSQLとは「Not + Only + SQL」の頭文字を取ったもので、一般的にすべての非リレーショナルデータベースを指す単語です。NoSQL系データベースには、ドキュメント型（例:[MongoDB](https://www.mongodb.com/)）、グラフ型（例:[Neo4j](https://neo4j.com/)）、キー値型（例:[Amazon DynamoDB](https://aws.amazon.com/dynamodb/)）、列指向型(例:[Cassandra](http://cassandra.apache.org/)）など、様々なデータモデルが利用されています。"
   ]
  },
  {
   "cell_type": "markdown",
   "metadata": {},
   "source": [
    "### 7.1.2 NoSQLとRDBMSの違い\n",
    "\n",
    "前節で触れたスケーラビリティやデータモデルの違いの他に多くの違いがあります。\n",
    "\n",
    "NoSQLとのRDBMSとの間特に重要な違いの一つとして、データの取得・操作方法が挙げられます。RDBMSでは構造化クエリ言語 (SQL) 準拠のクエリを使用するのに対して、NoSQLの多くはオブジェクト指向のAPIを使用して、データの挿入・検索等を簡単に行うことができます（中にはSQLに似たクエリ言語をサポートするものもあります）。すなわち、NoSQLではデータベースおよび実際のアプリケーションのデータ構造が似ており、RDBMSより扱いやすいことが多いです。\n",
    "\n",
    "また、NoSQLはRDBMSと違って、データを挿入する前に事前にスキーマを定義・固定する必要がないことが多いです。自由に様々な形式のデータを一緒に保存することが可能で、RDBMSよりフレキシブルです。\n",
    "\n",
    "逆に、NoSQLの弱点の一つとしては、一般的にトランザクションの機能がないということです。このあと勉強するMongoDBではトランザクション相当の機能を実現できなくもないですが、初心者には少し高度なトピックなので、詳細は割愛します。"
   ]
  },
  {
   "cell_type": "markdown",
   "metadata": {},
   "source": [
    "***"
   ]
  },
  {
   "cell_type": "markdown",
   "metadata": {},
   "source": [
    "## 7.2 MongoDBの基礎知識\n",
    "\n",
    "### 7.2.1 MongoDBの概要と特徴\n",
    "\n",
    "MongoDBとは現在最も広く利用されているオープンソースのドキュメント型NoSQLデータベースです。従来のRDBMSで使われるテーブル構造ではなく、動的なスキーマを持ったJSONのようななドキュメント（BSON形式）を用いています。\n",
    "固定スキーマのないBSONを使うことで、一つの記録でで複雑な階層関係を持つデータを格納できたり、必要に応じてフィールドを追加または削除することなどが簡単にできます。そのため、JSON形式を使う多くのWeb APIとの相性がよく、開発がより迅速になると感じる利用者が多いです。\n",
    "\n",
    "また、MongoDBの豊富なインデックスとデータ構造を使うことで、RDBMSではできない様々なことができます。MongoDBの様々なインデックスを使うことで、位置情報の取扱いを容易にしたり、文字列の検索性能を向上したり、古いデータを自動的に削除したりできます。また、MongoDBの様々なデータ型を使うことで、階層構造のデータを無理に正規化しなくて済みますし、BSONのバイナリ型を使うことで特殊なデータベースシステムを作ることまでできます（例: [GridFS](https://docs.mongodb.com/manual/core/gridfs/)、[Arctic](https://github.com/manahl/arctic)）。\n",
    "\n",
    "つまり、どちらがより向いているかは最終的には扱っているデータの性質に依りますが、MongoDBはRDBMSよりフレキシブルでパフォーマンスも高いことから、RDBMSが使われているほとんどの場面において代わりにMongoDBを問題なく使用ことが可能です。"
   ]
  },
  {
   "cell_type": "markdown",
   "metadata": {},
   "source": [
    "### 7.2.2 MongoDB使用環境\n",
    "\n",
    "MongoDBは一般的には**`Mongoシェル`**と呼ばれるCLIツールを利用するか、自分の好きなプログラミング言語とMongoDBをつなぐ**MongoDBドライバ**と呼ばれるライブリを使うことになります。実際のアプリケーション開発をするときは、基本的にドライバから使うことになりますが、ちょっとしたadminタスク等にはMongoシェルが便利です。また、MongoDBユーザの共通語がシェルで使われるJavascriptなので、本・ネット上のリソースでは基本的にMongoシェル/Javascriptを使った例がほとんどです。\n",
    "\n",
    "**Mongoシェル**はMongoDBへのインタラクティブなJavaScriptインターフェイスで、データの挿入・検索・更新・削除・集約等の操作の実行ができます。Mongoシェルは、MongoDB本体と一緒にインストールされるので、MongoDBが使える環境であれば、Mongoシェルをコマンドライン<sup id=\"a1\">[1](#f1)</sup>\n",
    "から`mongo`を実行して使うことができます。しかし、本講座ではJupyter上ですべてが完結するように、特別なJupyter用カーネルを作りました（[IMongo](https://github.com/gusutabopb/imongo)）。よって、本章で紹介するMongoシェル用コマンドは第3章のMySQLコマンドと同様に、そのままJupyter上のコードセルで実行可能になっています。基本的に、シェルの出力をそのまま出力として表示しますが、一部のコマンドの場合、結果をインタラクティブなJSONとして表示しています。カーネルの不具合等があれば[Github issues](https://github.com/gusutabopb/imongo/issues)から連絡をいただければ幸いです。\n",
    "\n",
    "多くの言語用の**MongoDBドライバ**が[開発されています](https://docs.mongodb.com/ecosystem/drivers/)が、本講座ではPythonを前提としているため、**本章後半**ではPython用のMongoDBドライバである[pymongo](https://github.com/mongodb/mongo-python-driver)を紹介します。\n",
    "\n",
    "> <sup id=\"f1\">**[1]** CLIが苦手な方には[Robomongo](https://robomongo.org/)など、様々なという[GUIツール](https://docs.mongodb.com/ecosystem/tools/administration-interfaces/)もあります[↩](#a1)</sup>\n",
    "\n",
    "\n",
    "\n",
    "#### 実行してみよう\n",
    "\n",
    "前述のように、MongoシェルではJavaScriptを使いますが、Mongoシェルでは普通のJavaScriptには存在しない、特殊なコマンドも[いくつかあります](https://docs.mongodb.com/manual/reference/mongo-shell/#command-helpers)。その一つが`show databases`です。早速実行して、MongoDBが立ち上がっていること確認しましょう。"
   ]
  },
  {
   "cell_type": "code",
   "execution_count": 1,
   "metadata": {
    "collapsed": false
   },
   "outputs": [
    {
     "data": {},
     "metadata": {},
     "output_type": "display_data"
    },
    {
     "data": {},
     "metadata": {},
     "output_type": "display_data"
    },
    {
     "data": {
      "text/plain": [
       "admin  0.000GB\r\n",
       "local  0.000GB\r\n",
       "test   0.000GB"
      ]
     },
     "execution_count": 1,
     "metadata": {},
     "output_type": "execute_result"
    }
   ],
   "source": [
    "show databases"
   ]
  },
  {
   "cell_type": "markdown",
   "metadata": {},
   "source": [
    "他にのコマンドは`help`や`db.help()`で確認できますが、実際のコマンド操作に入る前に、MongoDBを理解する上で重要な概要について述べます。"
   ]
  },
  {
   "cell_type": "markdown",
   "metadata": {},
   "source": [
    "### 7.2.3 MongoDBの仕組み\n",
    "\n",
    "それでは、具体的なコマンドを説明する前に、MongoDBの動作の基本的な概念および仕組みを学びましょう。\n",
    "\n",
    "* 一つのMongoDBのインスタンスの中には複数の**データベース**を管理することが可能です。ここでいうデータベースとは第5-6章で学んだMySQLと同様にMongoDBにおけるもっとも高レベルなコンテナです。\n",
    "* 各データベースは一般的に複数の**コレクション**からなります。コレクションは従来のテーブルとほぼ共通しているので、この2つを同じものだと思ってもいいでしょう。\n",
    "* 各コレクションは複数の**ドキュメント**からなります。先ほどと同様にドキュメントをMySQLでいう**行**と思って構いません。\n",
    "* 各ドキュメントは1つ以上の**フィールド**からなります。MySQLでいう**列**に近い概念です。\n",
    "* MongoDBの**インデックス**機能はMySQLのものとよく似ており、インデックスを作ることで、検索・ソート性能を向上させることが可能です。\n",
    "* MongoDBの**カーソル**もMySQLのものとよく似ており、検索したデータへのポインタのようなものです。MongoDBからデータ取得しようとするときに返されるのは実際のデータではなく、このカーソルであることをと覚えておいてください。\n",
    "\n",
    "MongoDBでは「テーブル」を「コレクション」と呼ぶなど、一見不必要な新しい用語が登場しますが、これらは実は似て非なるものであることを頭の片隅に入れておいてください。MySQLでは**列**が**テーブル**ごとに定義されるのに対して、MongoDBのようなドキュメント型DBMSでは**フィールド**が**ドキュメント**ごとに定義されている、というのがもっとも根本的な違いです。すなわち、コレクション内の各ドキュメントは独立しており、自由に自身のフィールドを定義することができます。 そのため、**コレクション**は**テーブル**よりシンプルなコンテナでありながら、**ドキュメント**は通常、**行**に比べてより多くの情報を保有します。"
   ]
  },
  {
   "cell_type": "markdown",
   "metadata": {},
   "source": [
    "### 7.2.4 Mongoシェルの基本操作\n",
    "\n",
    "Mongoシェルを立ち上げるときに、デフォルトデータベース（通常`test`）に自動的に接続されます。今回はTwitterデータを扱うので、`twitter`というデータベースを選択しましょう。"
   ]
  },
  {
   "cell_type": "markdown",
   "metadata": {},
   "source": [
    ">#### 使用するデータについて\n",
    "\n",
    ">これから使うデータはすべてTwitterが提供している[Search API](https://dev.twitter.com/rest/public/search)を使って取得したものです。取得したデータは執筆時点で大きななニュースになっている米国のトランプ新大統領関連のツイートです。\n",
    "\n",
    ">本節ではMongoDBの基本操作の説明の観点から、APIから取得した生のデータではなく、一部のフィールドを省略したものを使うことにします。しかし、[7.3.5節](#7.3.5-データの集計)以降ではAPIから取得した生データを扱うことにします。"
   ]
  },
  {
   "cell_type": "code",
   "execution_count": 2,
   "metadata": {
    "collapsed": false
   },
   "outputs": [
    {
     "data": {},
     "metadata": {},
     "output_type": "display_data"
    },
    {
     "data": {},
     "metadata": {},
     "output_type": "display_data"
    },
    {
     "data": {
      "text/plain": [
       "switched to db twitter"
      ]
     },
     "execution_count": 2,
     "metadata": {},
     "output_type": "execute_result"
    }
   ],
   "source": [
    "use twitter"
   ]
  },
  {
   "cell_type": "markdown",
   "metadata": {},
   "source": [
    "厳密にいうと、この時点ではデータベースはまだ存在しないですが、最初のコレクションの最初のドキュメントを挿入するときにデータベースが自動的に作られます。コレクションもデータベースと同様に、事前に作る必要はありません。それでは、最初のドキュメントを`tweets`に入れましょう。"
   ]
  },
  {
   "cell_type": "code",
   "execution_count": 3,
   "metadata": {
    "collapsed": false
   },
   "outputs": [
    {
     "data": {},
     "metadata": {},
     "output_type": "display_data"
    },
    {
     "data": {},
     "metadata": {},
     "output_type": "display_data"
    },
    {
     "data": {
      "text/plain": [
       "{\r\n",
       "\t\"acknowledged\" : true,\r\n",
       "\t\"insertedId\" : ObjectId(\"592a0b3248ffa7f5b51f66f0\")\r\n",
       "}"
      ]
     },
     "execution_count": 3,
     "metadata": {},
     "output_type": "execute_result"
    }
   ],
   "source": [
    "db.tweets.insertOne({\n",
    "  'created_at': 'Sun Feb 05 06:28:27 +0000 2017',\n",
    "  'id': 828128132402073602,\n",
    "  'lang': 'ja',\n",
    "  'text': 'トランプ大統領が招く「憲法の危機」 入国禁止令を停止した裁判官をTwitterで攻撃\\n\\n困ったちゃん https://t.co/BLWVqXOAAw',\n",
    "})"
   ]
  },
  {
   "cell_type": "markdown",
   "metadata": {},
   "source": [
    "上記のコマンドは一つの引数を受け取り`tweets`コレクションに対して一つのドキュメントの挿入（`insertOne`）を行います。ここで挿入しているのは特殊なJSONオブジェクトです（Pythonでいう`dict`と同じようなものです）。MongoDBの内部ではそのJSONデータをBSONに変換して保存しています。また、Mongoシェル上では、`db`は常にその時点で使っているデータベース（すなわち、今回は`twitter`）を指します。"
   ]
  },
  {
   "cell_type": "markdown",
   "metadata": {},
   "source": [
    "先程挿入したドキュメントを読み出すには、コレクションtweetsに対しfindコマンドを使います。<a id='7.2.4-find'></a>"
   ]
  },
  {
   "cell_type": "code",
   "execution_count": 4,
   "metadata": {
    "collapsed": false
   },
   "outputs": [
    {
     "data": {
      "text/html": [
       "<style>a.disclosure:link{text-decoration:none;}a.disclosure:visited{text-decoration:none;}.disclosure{color:#337AB7;font-size:150%;}.syntax{color:grey;}.string{color:#9A334F;}.number{color:#5C9632;}.boolean{color:#AA9739;}.key{color:#403075;}.keyword{color:#AA9739;}.object.syntax{color:#337AB7;}.array.syntax{color:#337AB7;}></style><div id=\"42482649-a566-461c-90f9-2fd37e94019f\"></div>"
      ]
     },
     "metadata": {},
     "output_type": "display_data"
    },
    {
     "data": {
      "application/javascript": [
       "require([\"https://rawgit.com/caldwell/renderjson/master/renderjson.js\"], function() {document.getElementById('42482649-a566-461c-90f9-2fd37e94019f').appendChild(renderjson.set_show_to_level(2)([{\"_id\": {\"$oid\": \"592a0b3248ffa7f5b51f66f0\"}, \"created_at\": \"Sun Feb 05 06:28:27 +0000 2017\", \"id\": 828128132402073600, \"lang\": \"ja\", \"text\": \"\\u30c8\\u30e9\\u30f3\\u30d7\\u5927\\u7d71\\u9818\\u304c\\u62db\\u304f\\u300c\\u61b2\\u6cd5\\u306e\\u5371\\u6a5f\\u300d \\u5165\\u56fd\\u7981\\u6b62\\u4ee4\\u3092\\u505c\\u6b62\\u3057\\u305f\\u88c1\\u5224\\u5b98\\u3092Twitter\\u3067\\u653b\\u6483\\n\\n\\u56f0\\u3063\\u305f\\u3061\\u3083\\u3093 https://t.co/BLWVqXOAAw\"}]))});"
      ]
     },
     "metadata": {},
     "output_type": "display_data"
    },
    {
     "data": {
      "text/plain": [
       "{ \"_id\" : ObjectId(\"592a0b3248ffa7f5b51f66f0\"), \"created_at\" : \"Sun Feb 05 06:28:27 +0000 2017\", \"id\" : 828128132402073600, \"lang\" : \"ja\", \"text\" : \"トランプ大統領が招く「憲法の危機」 入国禁止令を停止した裁判官をTwitterで攻撃\\n\\n困ったちゃん https://t.co/BLWVqXOAAw\" }"
      ]
     },
     "execution_count": 4,
     "metadata": {},
     "output_type": "execute_result"
    }
   ],
   "source": [
    "db.tweets.find()"
   ]
  },
  {
   "cell_type": "markdown",
   "metadata": {},
   "source": [
    "MongoDBのコレクションに固定スキーマがないことの特徴を活かすことで、例えば以下のドキュメントも同じ`tweets`コレクションに挿入することができます。"
   ]
  },
  {
   "cell_type": "code",
   "execution_count": 5,
   "metadata": {
    "collapsed": false
   },
   "outputs": [
    {
     "data": {},
     "metadata": {},
     "output_type": "display_data"
    },
    {
     "data": {},
     "metadata": {},
     "output_type": "display_data"
    },
    {
     "data": {
      "text/plain": [
       "{\r\n",
       "\t\"acknowledged\" : true,\r\n",
       "\t\"insertedId\" : ObjectId(\"592a0b5b48ffa7f5b51f66f1\")\r\n",
       "}"
      ]
     },
     "execution_count": 5,
     "metadata": {},
     "output_type": "execute_result"
    }
   ],
   "source": [
    "db.tweets.insertOne({\n",
    "  'created_at': 'Sun Feb 05 06:48:27 +0000 2017',\n",
    "  'id': 828133165654945792,\n",
    "  'lang': 'en',\n",
    "  'text': \"@GeorgeTakei She's the best! Comedy will help us make it through the Trump shit show\",\n",
    "  'user_mentions': [{'id': 237845487,\n",
    "    'name': 'George Takei',\n",
    "    'screen_name': 'GeorgeTakei'}]\n",
    "})"
   ]
  },
  {
   "cell_type": "markdown",
   "metadata": {},
   "source": [
    "ここで、もう一度`find`を実行すると、違うスキーマを持つ2つのドキュメントが同じコレクションに入っていることを確認できます。"
   ]
  },
  {
   "cell_type": "code",
   "execution_count": 6,
   "metadata": {
    "collapsed": false
   },
   "outputs": [
    {
     "data": {
      "text/html": [
       "<style>a.disclosure:link{text-decoration:none;}a.disclosure:visited{text-decoration:none;}.disclosure{color:#337AB7;font-size:150%;}.syntax{color:grey;}.string{color:#9A334F;}.number{color:#5C9632;}.boolean{color:#AA9739;}.key{color:#403075;}.keyword{color:#AA9739;}.object.syntax{color:#337AB7;}.array.syntax{color:#337AB7;}></style><div id=\"aed41b7e-511b-47f8-955c-8c447dd0916f\"></div>"
      ]
     },
     "metadata": {},
     "output_type": "display_data"
    },
    {
     "data": {
      "application/javascript": [
       "require([\"https://rawgit.com/caldwell/renderjson/master/renderjson.js\"], function() {document.getElementById('aed41b7e-511b-47f8-955c-8c447dd0916f').appendChild(renderjson.set_show_to_level(2)([{\"_id\": {\"$oid\": \"592a0b3248ffa7f5b51f66f0\"}, \"created_at\": \"Sun Feb 05 06:28:27 +0000 2017\", \"id\": 828128132402073600, \"lang\": \"ja\", \"text\": \"\\u30c8\\u30e9\\u30f3\\u30d7\\u5927\\u7d71\\u9818\\u304c\\u62db\\u304f\\u300c\\u61b2\\u6cd5\\u306e\\u5371\\u6a5f\\u300d \\u5165\\u56fd\\u7981\\u6b62\\u4ee4\\u3092\\u505c\\u6b62\\u3057\\u305f\\u88c1\\u5224\\u5b98\\u3092Twitter\\u3067\\u653b\\u6483\\n\\n\\u56f0\\u3063\\u305f\\u3061\\u3083\\u3093 https://t.co/BLWVqXOAAw\"}, {\"_id\": {\"$oid\": \"592a0b5b48ffa7f5b51f66f1\"}, \"created_at\": \"Sun Feb 05 06:48:27 +0000 2017\", \"id\": 828133165654945800, \"lang\": \"en\", \"text\": \"@GeorgeTakei She's the best! Comedy will help us make it through the Trump shit show\", \"user_mentions\": [{\"id\": 237845487, \"name\": \"George Takei\", \"screen_name\": \"GeorgeTakei\"}]}]))});"
      ]
     },
     "metadata": {},
     "output_type": "display_data"
    },
    {
     "data": {
      "text/plain": [
       "{ \"_id\" : ObjectId(\"592a0b3248ffa7f5b51f66f0\"), \"created_at\" : \"Sun Feb 05 06:28:27 +0000 2017\", \"id\" : 828128132402073600, \"lang\" : \"ja\", \"text\" : \"トランプ大統領が招く「憲法の危機」 入国禁止令を停止した裁判官をTwitterで攻撃\\n\\n困ったちゃん https://t.co/BLWVqXOAAw\" }\r\n",
       "{ \"_id\" : ObjectId(\"592a0b5b48ffa7f5b51f66f1\"), \"created_at\" : \"Sun Feb 05 06:48:27 +0000 2017\", \"id\" : 828133165654945800, \"lang\" : \"en\", \"text\" : \"@GeorgeTakei She's the best! Comedy will help us make it through the Trump shit show\", \"user_mentions\" : [ { \"id\" : 237845487, \"name\" : \"George Takei\", \"screen_name\" : \"GeorgeTakei\" } ] }"
      ]
     },
     "execution_count": 6,
     "metadata": {},
     "output_type": "execute_result"
    }
   ],
   "source": [
    "db.tweets.find()"
   ]
  },
  {
   "cell_type": "markdown",
   "metadata": {},
   "source": [
    "### 7.2.5 MongoDBのデータ型"
   ]
  },
  {
   "cell_type": "markdown",
   "metadata": {},
   "source": [
    "前節では複数のフィールドを持つ2つのツイートを挿入したましたが、それぞれのフィールドの各値は特定の型として認識されデータベースに格納されています。RDBMSと同様に、MongoDB/BSONにはいくつかのデータ型が用意されています。先程みたように、ドキュメント挿入時に明示的に型を定義する必要はありませんが、シェル/ドライバが自動的にデータを適当な型に変換してデータベースに格納します。当然ですが、もしシェル/ドライバが解釈できないデータを挿入しようとしたら何らかのエラーが発生します。"
   ]
  },
  {
   "cell_type": "markdown",
   "metadata": {},
   "source": [
    "ここで、最も使われるデータ型<sup id=\"a2\">[2](#f2)</sup>を紹介します\n",
    "\n",
    "<p id=\"table1\" style=\"text-align:center\">**表1**</p>\n",
    "\n",
    "| 型の種類 | 具体例 |\n",
    "| :-----: |:-----------|\n",
    "| 数字     | `{\"x\": 2.71}` | \n",
    "| 文字列   | `{\"x\": 'foo'}` | \n",
    "| 日時     |`{\"x\": new Date()}` | \n",
    "| ブーリアン | `{\"x\" : true}`|\n",
    "| 配列      |`{\"x\": [\"a\", 2, \"c\"]}` |\n",
    "| 埋め込みドキュメント | `{\"x\" : {\"foo\" : \"bar\"}}` | \n",
    "| Object ID | `{\"x\": ObjectId(\"589810d9c75c4997748e77ef\")}`\n",
    "\n"
   ]
  },
  {
   "cell_type": "markdown",
   "metadata": {},
   "source": [
    "<sup id=\"f2\">**[2]** 上記の表のもの以外に、正規表現型やバイナリ型など、MongoDBには様々な型があります。詳しくは[公式ドキュメンテーション](https://docs.mongodb.com/manual/reference/bson-types/)を見てくだい。[↩](#a2)</sup>"
   ]
  },
  {
   "cell_type": "markdown",
   "metadata": {},
   "source": [
    "数字用の型はいくつかあるのですが、シェル上では数字は浮動小数点(`Double` - Pythonでいう`float`)として扱われます。しかし、整数を扱うことも可能で、Pythonドライバを使う場合はPythonの`int`は正しく整数(`Int64`）として扱われます。\n",
    "\n",
    "文字列は任意のUTF-8で符号化されたものを扱うことができます。なお、MongoDB/BSONではUTF-8以外の文字符号化方式を使うことが不可能です。\n",
    "\n",
    "日時はUNIXエポックからのミリ秒の数を表す整数として保存されます。また、時間帯サポートがないので、すべての日付はUTCとして保存されます。マイクロ秒・ナノ秒単位の時間を保存する必要がある場合は違う`Int64`等、違う型を使うことが必要です。\n",
    "\n",
    "ブーリアン型は真実(`true`)か偽(`false`)を保存します。\n",
    "\n",
    "配列では任意の型の複数の値のものを保存するのに使います。MongoDBの大きな特徴の一つはやはり配列を[第一級オブジェクト](https://ja.wikipedia.org/wiki/第一級オブジェクト)(*first-class object*)として扱っていることです。これは非常に便利でRDBMSにはない特徴です。また、MongoDBの配列はPythonでいう`list`と同様に異なる型の値を同じ配列に納めることが可能です（上の表の例を参照）。\n",
    "\n",
    "埋め込みドキュメント(*embedded document*)とは他のドキュメントのキーの値として使われるドキュメントのことです。埋め込みドキュメントを使うことでRDBMSのようにデータ構造をフラットなものに限定する必要がありません。先程データベースに挿入した2つ目のツイートの`user_mentions`フィールドは実は一つの要素の配列の中に一つの埋め込みドキュメントが入っていました。このように、配列や埋込ドキュメントを使うことで、複雑な階層構造のデータをそのまま保存することができます。"
   ]
  },
  {
   "cell_type": "markdown",
   "metadata": {},
   "source": [
    "#### `ObjectID`/`_id`フィールドについて\n",
    "\n",
    "前節で示した[`find`結果](#7.2.4-find)には`_id`フィールドが追加されているのを不思議に思った読者も多いでしょう。実は、MongoDBでは全てのドキュメントには必ずユニークな`_id`フィールドが与えられます。一般的に、MongoDBが自動的にその`ObjectId`を生成しますが、ユーザが明示的に指定することもできます。\n",
    "\n",
    "`ObjectId`の生成方法は複数のマシン・プロセスがが同時に大量のドキュメントを挿入しても問題が起こらないように設計されています。`ObjectId`の最初の4バイトはUNIX時間、次の3バイトはマシンID、次の2バイトはプロセスID、そして最後の3バイトはランダムに初期化されるカウンタです（下記図を参照）。もし、より単純なカウンタのようなものを使っていれば、多くのクライアントから同時にアクセスがあったときに、データベースがカウンタを管理しきれず、重複`ObjectId`が発生しエラーが発生しかねないため、このような設計になっています。また、詳しくは[7.4.1節](#7.4.1-インデックス)で述べますが、`ObjectId`はすべてのコレクションで自動的に作成されるデフォルトインデックスにも使われます。"
   ]
  },
  {
   "cell_type": "markdown",
   "metadata": {},
   "source": [
    "![img](https://docs.google.com/drawings/d/1HBZMNvd8WsnoUKzImPRkpIoKwx-rHOp5AuyomIjA2PQ/pub?w=1200)"
   ]
  },
  {
   "cell_type": "markdown",
   "metadata": {},
   "source": [
    "***"
   ]
  },
  {
   "cell_type": "markdown",
   "metadata": {},
   "source": [
    "## 7.3 MongoDBの基本操作\n",
    "\n",
    "本節ではTwitterデータを使って、MongoDBのいわゆるCRUD操作(create, read, update, delete)および集計操作について学びます。それらの操作はすべて**コレクションに対して**行うものです、各操作に対する代表的なメッソドを以下の表示しています。"
   ]
  },
  {
   "cell_type": "markdown",
   "metadata": {},
   "source": [
    "<p id=\"table2\" style=\"text-align:center\">**表2**</p>\n",
    "\n",
    "| 操作 | 代表的なメソッド |\n",
    "| :-----: |:-----------|\n",
    "| Create  | `db.collection.insertOne(<ドキュメント>, <オプション>)` <br> `db.collection.insertMany(<ドキュメントの配列>, <オプション>)`| \n",
    "| Read    | `db.collection.find(<クエリ>, <プロジェクション>)` | \n",
    "| Update  | `db.collection.updateOne(<フィルタ>, <アップデート>, <オプション>)` <br> `db.collection.updateMany(<フィルタ>, <アップデート>, <オプション>)` <br> `db.collection.replaceOne(<フィルタ>, <新しいドキュメント>, <オプション>)`| \n",
    "| Delete  | `db.collection.deleteOne(<フィルタ>, <オプション>)` <br> `db.collection.deleteMany(<フィルタ>, <オプション>)` <br> `db.collection.drop()`| "
   ]
  },
  {
   "cell_type": "markdown",
   "metadata": {},
   "source": [
    "本節ではそれらを順番に詳しく見ていきます。この表2に何回か言及するので、しっかり覚えておくようにしましょう。\n",
    "\n",
    "その前に、[7.2.4節](#7.2.4-Mongoシェルの基本操作)と同様に、まずは`twitter`データベースを選択し、リセットしましょう。"
   ]
  },
  {
   "cell_type": "code",
   "execution_count": 8,
   "metadata": {
    "collapsed": false
   },
   "outputs": [
    {
     "data": {},
     "metadata": {},
     "output_type": "display_data"
    },
    {
     "data": {},
     "metadata": {},
     "output_type": "display_data"
    },
    {
     "data": {
      "text/plain": [
       "switched to db twitter"
      ]
     },
     "execution_count": 8,
     "metadata": {},
     "output_type": "execute_result"
    }
   ],
   "source": [
    "use twitter"
   ]
  },
  {
   "cell_type": "code",
   "execution_count": 7,
   "metadata": {
    "collapsed": false
   },
   "outputs": [
    {
     "data": {
      "text/html": [
       "<style>a.disclosure:link{text-decoration:none;}a.disclosure:visited{text-decoration:none;}.disclosure{color:#337AB7;font-size:150%;}.syntax{color:grey;}.string{color:#9A334F;}.number{color:#5C9632;}.boolean{color:#AA9739;}.key{color:#403075;}.keyword{color:#AA9739;}.object.syntax{color:#337AB7;}.array.syntax{color:#337AB7;}></style><div id=\"1efd9c96-70f1-4018-8fe2-33743f8ba588\"></div>"
      ]
     },
     "metadata": {},
     "output_type": "display_data"
    },
    {
     "data": {
      "application/javascript": [
       "require([\"https://rawgit.com/caldwell/renderjson/master/renderjson.js\"], function() {document.getElementById('1efd9c96-70f1-4018-8fe2-33743f8ba588').appendChild(renderjson.set_show_to_level(2)({\"dropped\": \"twitter\", \"ok\": 1}))});"
      ]
     },
     "metadata": {},
     "output_type": "display_data"
    },
    {
     "data": {
      "text/plain": [
       "{ \"dropped\" : \"twitter\", \"ok\" : 1 }"
      ]
     },
     "execution_count": 7,
     "metadata": {},
     "output_type": "execute_result"
    }
   ],
   "source": [
    "db.dropDatabase()"
   ]
  },
  {
   "cell_type": "markdown",
   "metadata": {
    "collapsed": true
   },
   "source": [
    "### 7.3.1 データの挿入 (Create)\n",
    "\n"
   ]
  },
  {
   "cell_type": "markdown",
   "metadata": {},
   "source": [
    "[7.2.4節](#7.2.4-Mongoシェルの基本操作)では下記のように`insert`を使って**1つ**のドキュメントを挿入しました。"
   ]
  },
  {
   "cell_type": "code",
   "execution_count": 9,
   "metadata": {
    "collapsed": false
   },
   "outputs": [
    {
     "data": {},
     "metadata": {},
     "output_type": "display_data"
    },
    {
     "data": {},
     "metadata": {},
     "output_type": "display_data"
    },
    {
     "data": {
      "text/plain": [
       "{\r\n",
       "\t\"acknowledged\" : true,\r\n",
       "\t\"insertedId\" : ObjectId(\"592a0ccf48ffa7f5b51f66f2\")\r\n",
       "}"
      ]
     },
     "execution_count": 9,
     "metadata": {},
     "output_type": "execute_result"
    }
   ],
   "source": [
    "db.tweets.insertOne({'created_at': 'Sun Feb 05 06:37:03 +0000 2017',\n",
    "  'hashtags': [{'text': 'AmericaFirst'},\n",
    "   {'text': 'Boeing'},\n",
    "   {'text': 'aircraft'},\n",
    "   {'text': 'アメリカ第一主義'}],\n",
    "  'id': 828130298042974208,\n",
    "  'lang': 'en',\n",
    "  'source': '<a href=\"http://www.facebook.com/twitter\" rel=\"nofollow\">Facebook</a>',\n",
    "  'text': 'The tragic reality of #AmericaFirst. #Boeing #aircraft components come from all over the world. #アメリカ第一主義... https://t.co/FDk5lvtkLb',\n",
    "  'urls': [{'expanded_url': 'http://fb.me/8yFcJ2k7H',\n",
    "    'url': 'https://t.co/FDk5lvtkLb'}],\n",
    "  'user_mentions': []})"
   ]
  },
  {
   "cell_type": "markdown",
   "metadata": {},
   "source": [
    "それ以外に、複数のドキュメントを入れるときはドキュメントを配列にまとめて、`insertMany`を使います。"
   ]
  },
  {
   "cell_type": "code",
   "execution_count": 10,
   "metadata": {
    "collapsed": false
   },
   "outputs": [
    {
     "data": {
      "text/html": [
       "<style>a.disclosure:link{text-decoration:none;}a.disclosure:visited{text-decoration:none;}.disclosure{color:#337AB7;font-size:150%;}.syntax{color:grey;}.string{color:#9A334F;}.number{color:#5C9632;}.boolean{color:#AA9739;}.key{color:#403075;}.keyword{color:#AA9739;}.object.syntax{color:#337AB7;}.array.syntax{color:#337AB7;}></style><div id=\"f869a03b-fff1-4f18-be62-967bf2979f61\"></div>"
      ]
     },
     "metadata": {},
     "output_type": "display_data"
    },
    {
     "data": {
      "application/javascript": [
       "require([\"https://rawgit.com/caldwell/renderjson/master/renderjson.js\"], function() {document.getElementById('f869a03b-fff1-4f18-be62-967bf2979f61').appendChild(renderjson.set_show_to_level(2)([{\"$oid\": \"592a0cd148ffa7f5b51f66f4\"}]))});"
      ]
     },
     "metadata": {},
     "output_type": "display_data"
    },
    {
     "data": {
      "text/plain": [
       "{\r\n",
       "\t\"acknowledged\" : true,\r\n",
       "\t\"insertedIds\" : [\r\n",
       "\t\tObjectId(\"592a0cd148ffa7f5b51f66f3\"),\r\n",
       "\t\tObjectId(\"592a0cd148ffa7f5b51f66f4\")\r\n",
       "\t]\r\n",
       "}"
      ]
     },
     "execution_count": 10,
     "metadata": {},
     "output_type": "execute_result"
    }
   ],
   "source": [
    "db.tweets.insertMany([\n",
    "{'created_at': 'Sun Feb 05 06:35:25 +0000 2017',\n",
    "  'hashtags': [],\n",
    "  'id': 828129887214919680,\n",
    "  'lang': 'en',\n",
    "  'source': '<a href=\"http://twitter.com\" rel=\"nofollow\">Twitter Web Client</a>',\n",
    "  'text': '@mgsiegler its def more like the San Diego Chargers logo https://t.co/iW9qgwKN47',\n",
    "  'urls': [{'expanded_url': 'https://munchies.vice.com/en/articles/kurdistans-hottest-new-restaurant-is-trump-fish',\n",
    "    'url': 'https://t.co/iW9qgwKN47'}],\n",
    "  'user_mentions': [{'id': 652193,\n",
    "    'name': 'M.G. Siegler',\n",
    "    'screen_name': 'mgsiegler'}]},\n",
    " {'created_at': 'Sun Feb 05 06:52:06 +0000 2017',\n",
    "  'hashtags': [],\n",
    "  'id': 828134084291461120,\n",
    "  'lang': 'en',\n",
    "  'text': '.@NYDNOpinions: A college education for Trump on free speech and public safety\\xa0” https://t.co/3XCqnBue2D https://t.co/icNHpcScjL',\n",
    "  'urls': [{'expanded_url': 'http://nydn.us/2kAgod7',\n",
    "    'url': 'https://t.co/3XCqnBue2D'}],\n",
    "  'user_mentions': [{'id': 26496560,\n",
    "    'name': 'NYDN Opinion Team',\n",
    "    'screen_name': 'NYDNOpinions'}]}\n",
    "])"
   ]
  },
  {
   "cell_type": "markdown",
   "metadata": {},
   "source": [
    "また、データを直接入力しなくても、好きなプログラミング言語から様々な方法でデータを挿入できます。MongoシェルはJavascriptがほぼそのまま使えるため、例えば以下のようにファイルからデータを読み込んで挿入することができます。"
   ]
  },
  {
   "cell_type": "code",
   "execution_count": 26,
   "metadata": {
    "collapsed": false
   },
   "outputs": [
    {
     "data": {
      "text/html": [
       "<style>a.disclosure:link{text-decoration:none;}a.disclosure:visited{text-decoration:none;}.disclosure{color:#337AB7;font-size:150%;}.syntax{color:grey;}.string{color:#9A334F;}.number{color:#5C9632;}.boolean{color:#AA9739;}.key{color:#403075;}.keyword{color:#AA9739;}.object.syntax{color:#337AB7;}.array.syntax{color:#337AB7;}></style><div id=\"ae521cd8-1077-481d-a439-643ead1eee8a\"></div>"
      ]
     },
     "metadata": {},
     "output_type": "display_data"
    },
    {
     "data": {
      "application/javascript": [
       "require([\"https://rawgit.com/caldwell/renderjson/master/renderjson.js\"], function() {document.getElementById('ae521cd8-1077-481d-a439-643ead1eee8a').appendChild(renderjson.set_show_to_level(2)([{\"$oid\": \"592a108807fa13bd83166e10\"}]))});"
      ]
     },
     "metadata": {},
     "output_type": "display_data"
    },
    {
     "data": {
      "text/plain": [
       "{\r\n",
       "\t\"acknowledged\" : true,\r\n",
       "\t\"insertedIds\" : [\r\n",
       "\t\tObjectId(\"592a108807fa13bd83166e0a\"),\r\n",
       "\t\tObjectId(\"592a108807fa13bd83166e0b\"),\r\n",
       "\t\tObjectId(\"592a108807fa13bd83166e0c\"),\r\n",
       "\t\tObjectId(\"592a108807fa13bd83166e0d\"),\r\n",
       "\t\tObjectId(\"592a108807fa13bd83166e0e\"),\r\n",
       "\t\tObjectId(\"592a108807fa13bd83166e0f\"),\r\n",
       "\t\tObjectId(\"592a108807fa13bd83166e10\")\r\n",
       "\t]\r\n",
       "}"
      ]
     },
     "execution_count": 26,
     "metadata": {},
     "output_type": "execute_result"
    }
   ],
   "source": [
    "var data = JSON.parse(cat(\"mongo_data/sample_tweets.json\"));\n",
    "db.tweets.insertMany(data)"
   ]
  },
  {
   "cell_type": "markdown",
   "metadata": {},
   "source": [
    "また、[7.4.3節](##7.4.3-データのバックアップ・エクスポート)で紹介するCLIツールを使ってデータを挿入することも可能です。"
   ]
  },
  {
   "cell_type": "markdown",
   "metadata": {},
   "source": [
    ">**注意**: Mongoシェル上では`insertOne`や`insertMany`以外に`insert`というのもありますが、現在のMongo v3.4ではPythonのpymongoをはじめ、多くの言語のドライバでは**非推奨**(deprecated)扱いになっているので、使わない方が無難でしょう。"
   ]
  },
  {
   "cell_type": "markdown",
   "metadata": {},
   "source": [
    "### 7.3.2 データの検索 (Read)\n"
   ]
  },
  {
   "cell_type": "markdown",
   "metadata": {},
   "source": [
    "データを検索するのに`find`メッソドを使いますが、一般的に対象データを指定するために**クエリドキュメント**というパラメータを渡します。**クエリドキュメント**はSQL構文の`where`によく似ており、特定の条件にマッチしたドキュメントのみを取得するのに使います。\n",
    "\n",
    "[7.2.4節](#7.2.4-Mongoシェルの基本操作)で見たように、最も単純なクエリドキュメントはコレクションの全てのドキュメントにマッチする空ドキュメント{}です（何もを渡さないのと同じです）。また、あるフィールドが特定の値になっているドキュメントのみを検索した場合は`{<field>: <value>}`のようなドキュメントを渡せばいいです。例えば、日本語のツイートだけ検索したい場合は、`{'lang': 'ja'}`を使えばいいです。"
   ]
  },
  {
   "cell_type": "code",
   "execution_count": 13,
   "metadata": {
    "collapsed": false
   },
   "outputs": [
    {
     "data": {
      "text/html": [
       "<style>a.disclosure:link{text-decoration:none;}a.disclosure:visited{text-decoration:none;}.disclosure{color:#337AB7;font-size:150%;}.syntax{color:grey;}.string{color:#9A334F;}.number{color:#5C9632;}.boolean{color:#AA9739;}.key{color:#403075;}.keyword{color:#AA9739;}.object.syntax{color:#337AB7;}.array.syntax{color:#337AB7;}></style><div id=\"cf7535f2-6af8-487d-aa44-d82367cc6531\"></div>"
      ]
     },
     "metadata": {},
     "output_type": "display_data"
    },
    {
     "data": {
      "application/javascript": [
       "require([\"https://rawgit.com/caldwell/renderjson/master/renderjson.js\"], function() {document.getElementById('cf7535f2-6af8-487d-aa44-d82367cc6531').appendChild(renderjson.set_show_to_level(2)([{\"_id\": {\"$oid\": \"592a0ccf48ffa7f5b51f66f2\"}, \"created_at\": \"Sun Feb 05 06:37:03 +0000 2017\", \"hashtags\": [{\"text\": \"AmericaFirst\"}, {\"text\": \"Boeing\"}, {\"text\": \"aircraft\"}, {\"text\": \"\\u30a2\\u30e1\\u30ea\\u30ab\\u7b2c\\u4e00\\u4e3b\\u7fa9\"}], \"id\": 828130298042974200, \"lang\": \"en\", \"source\": \"<a href=\\\"http://www.facebook.com/twitter\\\" rel=\\\"nofollow\\\">Facebook</a>\", \"text\": \"The tragic reality of #AmericaFirst. #Boeing #aircraft components come from all over the world. #\\u30a2\\u30e1\\u30ea\\u30ab\\u7b2c\\u4e00\\u4e3b\\u7fa9... https://t.co/FDk5lvtkLb\", \"urls\": [{\"expanded_url\": \"http://fb.me/8yFcJ2k7H\", \"url\": \"https://t.co/FDk5lvtkLb\"}], \"user_mentions\": []}, {\"_id\": {\"$oid\": \"592a0cd148ffa7f5b51f66f3\"}, \"created_at\": \"Sun Feb 05 06:35:25 +0000 2017\", \"hashtags\": [], \"id\": 828129887214919700, \"lang\": \"en\", \"source\": \"<a href=\\\"http://twitter.com\\\" rel=\\\"nofollow\\\">Twitter Web Client</a>\", \"text\": \"@mgsiegler its def more like the San Diego Chargers logo https://t.co/iW9qgwKN47\", \"urls\": [{\"expanded_url\": \"https://munchies.vice.com/en/articles/kurdistans-hottest-new-restaurant-is-trump-fish\", \"url\": \"https://t.co/iW9qgwKN47\"}], \"user_mentions\": [{\"id\": 652193, \"name\": \"M.G. Siegler\", \"screen_name\": \"mgsiegler\"}]}, {\"_id\": {\"$oid\": \"592a0cd148ffa7f5b51f66f4\"}, \"created_at\": \"Sun Feb 05 06:52:06 +0000 2017\", \"hashtags\": [], \"id\": 828134084291461100, \"lang\": \"en\", \"text\": \".@NYDNOpinions: A college education for Trump on free speech and public safety\\u00a0\\u201d https://t.co/3XCqnBue2D https://t.co/icNHpcScjL\", \"urls\": [{\"expanded_url\": \"http://nydn.us/2kAgod7\", \"url\": \"https://t.co/3XCqnBue2D\"}], \"user_mentions\": [{\"id\": 26496560, \"name\": \"NYDN Opinion Team\", \"screen_name\": \"NYDNOpinions\"}]}, {\"_id\": {\"$oid\": \"592a0ceb48ffa7f5b51f66f6\"}, \"created_at\": \"Sun Feb 05 06:48:27 +0000 2017\", \"hashtags\": [], \"id\": 828133165654945800, \"lang\": \"en\", \"source\": \"<a href=\\\"http://twitter.com/download/iphone\\\" rel=\\\"nofollow\\\">Twitter for iPhone</a>\", \"text\": \"@GeorgeTakei She's the best! Comedy will help us make it through the Trump shit show\", \"urls\": [], \"user_mentions\": [{\"id\": 237845487, \"name\": \"George Takei\", \"screen_name\": \"GeorgeTakei\"}]}, {\"_id\": {\"$oid\": \"592a0ceb48ffa7f5b51f66f7\"}, \"created_at\": \"Sun Feb 05 06:45:40 +0000 2017\", \"hashtags\": [], \"id\": 828132464015003600, \"lang\": \"en\", \"source\": \"<a href=\\\"https://dlvrit.com/\\\" rel=\\\"nofollow\\\">dlvr.it</a>\", \"text\": \"William Bradley: Trump Perverts American History Pushing Religious Power Grab: As President\\u2026 https://t.co/0ctbIjz8Qu | @HuffingtonPost\", \"urls\": [{\"expanded_url\": \"http://m.tbnn.it/NHp1Vf\", \"url\": \"https://t.co/0ctbIjz8Qu\"}], \"user_mentions\": [{\"id\": 14511951, \"name\": \"Huffington Post\", \"screen_name\": \"HuffingtonPost\"}]}, {\"_id\": {\"$oid\": \"592a0ceb48ffa7f5b51f66f8\"}, \"created_at\": \"Sun Feb 05 06:31:00 +0000 2017\", \"hashtags\": [{\"text\": \"border\"}, {\"text\": \"tax\"}, {\"text\": \"proposal\"}, {\"text\": \"gasoline\"}, {\"text\": \"price\"}, {\"text\": \"WTI\"}, {\"text\": \"Trump\"}, {\"text\": \"Brent\"}], \"id\": 828128775548260400, \"lang\": \"en\", \"source\": \"<a href=\\\"https://about.twitter.com/products/tweetdeck\\\" rel=\\\"nofollow\\\">TweetDeck</a>\", \"text\": \"The #border adjustment #tax #proposal could rise #gasoline #price by 30 cents. ~via @OilandEnergy https://t.co/3VfUehiR59\\n#WTI #Trump #Brent\", \"urls\": [{\"expanded_url\": \"http://oilprice.com/Energy/Energy-General/Gasoline-Prices-Could-Rise-30-Cents-Because-Of-Border-Tax.html\", \"url\": \"https://t.co/3VfUehiR59\"}], \"user_mentions\": [{\"id\": 87241834, \"name\": \"OilPrice.com\", \"screen_name\": \"OilandEnergy\"}]}, {\"_id\": {\"$oid\": \"592a0ceb48ffa7f5b51f66f9\"}, \"created_at\": \"Sun Feb 05 06:29:30 +0000 2017\", \"hashtags\": [], \"id\": 828128399092699100, \"lang\": \"en\", \"source\": \"<a href=\\\"http://twitter.com/download/android\\\" rel=\\\"nofollow\\\">Twitter for Android</a>\", \"text\": \"Impeach that bastard Trump NOW, He is using you all America, wake-up to yourself's https://t.co/WG6blXDsyg\", \"urls\": [{\"expanded_url\": \"https://twitter.com/Fahrenthold/status/827913149688979456\", \"url\": \"https://t.co/WG6blXDsyg\"}], \"user_mentions\": []}]))});"
      ]
     },
     "metadata": {},
     "output_type": "display_data"
    },
    {
     "data": {
      "text/plain": [
       "{ \"_id\" : ObjectId(\"592a0ccf48ffa7f5b51f66f2\"), \"created_at\" : \"Sun Feb 05 06:37:03 +0000 2017\", \"hashtags\" : [ { \"text\" : \"AmericaFirst\" }, { \"text\" : \"Boeing\" }, { \"text\" : \"aircraft\" }, { \"text\" : \"アメリカ第一主義\" } ], \"id\" : 828130298042974200, \"lang\" : \"en\", \"source\" : \"<a href=\\\"http://www.facebook.com/twitter\\\" rel=\\\"nofollow\\\">Facebook</a>\", \"text\" : \"The tragic reality of #AmericaFirst. #Boeing #aircraft components come from all over the world. #アメリカ第一主義... https://t.co/FDk5lvtkLb\", \"urls\" : [ { \"expanded_url\" : \"http://fb.me/8yFcJ2k7H\", \"url\" : \"https://t.co/FDk5lvtkLb\" } ], \"user_mentions\" : [ ] }\r\n",
       "{ \"_id\" : ObjectId(\"592a0cd148ffa7f5b51f66f3\"), \"created_at\" : \"Sun Feb 05 06:35:25 +0000 2017\", \"hashtags\" : [ ], \"id\" : 828129887214919700, \"lang\" : \"en\", \"source\" : \"<a href=\\\"http://twitter.com\\\" rel=\\\"nofollow\\\">Twitter Web Client</a>\", \"text\" : \"@mgsiegler its def more like the San Diego Chargers logo https://t.co/iW9qgwKN47\", \"urls\" : [ { \"expanded_url\" : \"https://munchies.vice.com/en/articles/kurdistans-hottest-new-restaurant-is-trump-fish\", \"url\" : \"https://t.co/iW9qgwKN47\" } ], \"user_mentions\" : [ { \"id\" : 652193, \"name\" : \"M.G. Siegler\", \"screen_name\" : \"mgsiegler\" } ] }\r\n",
       "{ \"_id\" : ObjectId(\"592a0cd148ffa7f5b51f66f4\"), \"created_at\" : \"Sun Feb 05 06:52:06 +0000 2017\", \"hashtags\" : [ ], \"id\" : 828134084291461100, \"lang\" : \"en\", \"text\" : \".@NYDNOpinions: A college education for Trump on free speech and public safety ” https://t.co/3XCqnBue2D https://t.co/icNHpcScjL\", \"urls\" : [ { \"expanded_url\" : \"http://nydn.us/2kAgod7\", \"url\" : \"https://t.co/3XCqnBue2D\" } ], \"user_mentions\" : [ { \"id\" : 26496560, \"name\" : \"NYDN Opinion Team\", \"screen_name\" : \"NYDNOpinions\" } ] }\r\n",
       "{ \"_id\" : ObjectId(\"592a0ceb48ffa7f5b51f66f6\"), \"created_at\" : \"Sun Feb 05 06:48:27 +0000 2017\", \"hashtags\" : [ ], \"id\" : 828133165654945800, \"lang\" : \"en\", \"source\" : \"<a href=\\\"http://twitter.com/download/iphone\\\" rel=\\\"nofollow\\\">Twitter for iPhone</a>\", \"text\" : \"@GeorgeTakei She's the best! Comedy will help us make it through the Trump shit show\", \"urls\" : [ ], \"user_mentions\" : [ { \"id\" : 237845487, \"name\" : \"George Takei\", \"screen_name\" : \"GeorgeTakei\" } ] }\r\n",
       "{ \"_id\" : ObjectId(\"592a0ceb48ffa7f5b51f66f7\"), \"created_at\" : \"Sun Feb 05 06:45:40 +0000 2017\", \"hashtags\" : [ ], \"id\" : 828132464015003600, \"lang\" : \"en\", \"source\" : \"<a href=\\\"https://dlvrit.com/\\\" rel=\\\"nofollow\\\">dlvr.it</a>\", \"text\" : \"William Bradley: Trump Perverts American History Pushing Religious Power Grab: As President… https://t.co/0ctbIjz8Qu | @HuffingtonPost\", \"urls\" : [ { \"expanded_url\" : \"http://m.tbnn.it/NHp1Vf\", \"url\" : \"https://t.co/0ctbIjz8Qu\" } ], \"user_mentions\" : [ { \"id\" : 14511951, \"name\" : \"Huffington Post\", \"screen_name\" : \"HuffingtonPost\" } ] }\r\n",
       "{ \"_id\" : ObjectId(\"592a0ceb48ffa7f5b51f66f8\"), \"created_at\" : \"Sun Feb 05 06:31:00 +0000 2017\", \"hashtags\" : [ { \"text\" : \"border\" }, { \"text\" : \"tax\" }, { \"text\" : \"proposal\" }, { \"text\" : \"gasoline\" }, { \"text\" : \"price\" }, { \"text\" : \"WTI\" }, { \"text\" : \"Trump\" }, { \"text\" : \"Brent\" } ], \"id\" : 828128775548260400, \"lang\" : \"en\", \"source\" : \"<a href=\\\"https://about.twitter.com/products/tweetdeck\\\" rel=\\\"nofollow\\\">TweetDeck</a>\", \"text\" : \"The #border adjustment #tax #proposal could rise #gasoline #price by 30 cents. ~via @OilandEnergy https://t.co/3VfUehiR59\\n#WTI #Trump #Brent\", \"urls\" : [ { \"expanded_url\" : \"http://oilprice.com/Energy/Energy-General/Gasoline-Prices-Could-Rise-30-Cents-Because-Of-Border-Tax.html\", \"url\" : \"https://t.co/3VfUehiR59\" } ], \"user_mentions\" : [ { \"id\" : 87241834, \"name\" : \"OilPrice.com\", \"screen_name\" : \"OilandEnergy\" } ] }\r\n",
       "{ \"_id\" : ObjectId(\"592a0ceb48ffa7f5b51f66f9\"), \"created_at\" : \"Sun Feb 05 06:29:30 +0000 2017\", \"hashtags\" : [ ], \"id\" : 828128399092699100, \"lang\" : \"en\", \"source\" : \"<a href=\\\"http://twitter.com/download/android\\\" rel=\\\"nofollow\\\">Twitter for Android</a>\", \"text\" : \"Impeach that bastard Trump NOW, He is using you all America, wake-up to yourself's https://t.co/WG6blXDsyg\", \"urls\" : [ { \"expanded_url\" : \"https://twitter.com/Fahrenthold/status/827913149688979456\", \"url\" : \"https://t.co/WG6blXDsyg\" } ], \"user_mentions\" : [ ] }"
      ]
     },
     "execution_count": 13,
     "metadata": {},
     "output_type": "execute_result"
    }
   ],
   "source": [
    "db.tweets.find({'lang': 'en'})"
   ]
  },
  {
   "cell_type": "markdown",
   "metadata": {},
   "source": [
    "#### プロジェクション\n",
    "\n",
    "[表2](#table2)にあるように、`find`には**プロジェクション**というもう一つのパラメータを渡せます。プロジェクションはSQLでいう`SELECT`構文のようなもので、検索クエリでマッチしたドキュメントの取得するフィールドを指定するのに使います。\n",
    "例えば、ツイートの本文**だけ**を取得したい場合は次のようにしてします:"
   ]
  },
  {
   "cell_type": "code",
   "execution_count": 25,
   "metadata": {
    "collapsed": false
   },
   "outputs": [
    {
     "data": {
      "text/html": [
       "<style>a.disclosure:link{text-decoration:none;}a.disclosure:visited{text-decoration:none;}.disclosure{color:#337AB7;font-size:150%;}.syntax{color:grey;}.string{color:#9A334F;}.number{color:#5C9632;}.boolean{color:#AA9739;}.key{color:#403075;}.keyword{color:#AA9739;}.object.syntax{color:#337AB7;}.array.syntax{color:#337AB7;}></style><div id=\"0226bbc2-f530-4530-87c8-ced34b6e6ae2\"></div>"
      ]
     },
     "metadata": {},
     "output_type": "display_data"
    },
    {
     "data": {
      "application/javascript": [
       "require([\"https://rawgit.com/caldwell/renderjson/master/renderjson.js\"], function() {document.getElementById('0226bbc2-f530-4530-87c8-ced34b6e6ae2').appendChild(renderjson.set_show_to_level(2)([{\"_id\": {\"$oid\": \"5928598e003d6923dd6ce7d5\"}, \"text\": \"\\u30c8\\u30e9\\u30f3\\u30d7\\u5927\\u7d71\\u9818\\u304c\\u62db\\u304f\\u300c\\u61b2\\u6cd5\\u306e\\u5371\\u6a5f\\u300d \\u5165\\u56fd\\u7981\\u6b62\\u4ee4\\u3092\\u505c\\u6b62\\u3057\\u305f\\u88c1\\u5224\\u5b98\\u3092Twitter\\u3067\\u653b\\u6483\\n\\n\\u56f0\\u3063\\u305f\\u3061\\u3083\\u3093 https://t.co/BLWVqXOAAw\"}, {\"_id\": {\"$oid\": \"592859e7003d6923dd6ce7d6\"}, \"text\": \"@GeorgeTakei She's the best! Comedy will help us make it through the Trump shit show\"}]))});"
      ]
     },
     "metadata": {},
     "output_type": "display_data"
    },
    {
     "data": {
      "text/plain": [
       "{ \"_id\" : ObjectId(\"5928598e003d6923dd6ce7d5\"), \"text\" : \"トランプ大統領が招く「憲法の危機」 入国禁止令を停止した裁判官をTwitterで攻撃\\n\\n困ったちゃん https://t.co/BLWVqXOAAw\" }\r\n",
       "{ \"_id\" : ObjectId(\"592859e7003d6923dd6ce7d6\"), \"text\" : \"@GeorgeTakei She's the best! Comedy will help us make it through the Trump shit show\" }"
      ]
     },
     "execution_count": 25,
     "metadata": {},
     "output_type": "execute_result"
    }
   ],
   "source": [
    "db.tweets.find({}, {'text': 1})"
   ]
  },
  {
   "cell_type": "markdown",
   "metadata": {},
   "source": [
    "デフォルトで`_id`も返されますが、プロジェクションを下記のようにすると`_id`フィールドを省略できます。"
   ]
  },
  {
   "cell_type": "code",
   "execution_count": null,
   "metadata": {
    "collapsed": true
   },
   "outputs": [],
   "source": [
    "db.tweets.find({}, {'text': 1, '_id': 0})"
   ]
  },
  {
   "cell_type": "markdown",
   "metadata": {},
   "source": [
    "基本的に一つのプロジェクションではフィールドの明示的な選択(`1`)と明示的な排除(`0`)を混ぜることができません（唯一の例外は先程みた`_id`フィールドです）。少し考えればその理由はわかると思いますが、とにかくどちらかを選択する必要があります。したがって、例えば、次のクエリではエラーが発生します。"
   ]
  },
  {
   "cell_type": "code",
   "execution_count": 15,
   "metadata": {
    "collapsed": false
   },
   "outputs": [
    {
     "data": {},
     "metadata": {},
     "output_type": "display_data"
    },
    {
     "data": {},
     "metadata": {},
     "output_type": "display_data"
    },
    {
     "data": {
      "text/plain": [
       "Error: error: {\r\n",
       "\t\"ok\" : 0,\r\n",
       "\t\"errmsg\" : \"Projection cannot have a mix of inclusion and exclusion.\",\r\n",
       "\t\"code\" : 2,\r\n",
       "\t\"codeName\" : \"BadValue\"\r\n",
       "}"
      ]
     },
     "execution_count": 15,
     "metadata": {},
     "output_type": "execute_result"
    }
   ],
   "source": [
    "db.tweets.find({}, {'hashtags': 0, 'text': 1})"
   ]
  },
  {
   "cell_type": "markdown",
   "metadata": {},
   "source": [
    "しかし、明示的なフィールド選択**だけ**なら可能です:"
   ]
  },
  {
   "cell_type": "code",
   "execution_count": null,
   "metadata": {
    "collapsed": true
   },
   "outputs": [],
   "source": [
    "db.tweets.find({}, {'hashtags': 1, 'text': 1});"
   ]
  },
  {
   "cell_type": "markdown",
   "metadata": {},
   "source": [
    "逆に、明示的なフィールドの排除**だけ**なら可能です:"
   ]
  },
  {
   "cell_type": "code",
   "execution_count": null,
   "metadata": {
    "collapsed": true
   },
   "outputs": [],
   "source": [
    "db.tweets.find({}, {'_id': 0, 'urls': 0, 'hashtags': 0, 'source': 0, 'user_mentions': 0})"
   ]
  },
  {
   "cell_type": "markdown",
   "metadata": {
    "collapsed": true
   },
   "source": [
    "#### クエリ演算子\n",
    "\n",
    "MongoDBの大きな特徴としては「`$`」で始まる**演算子**(operator)です。演算子は様々な用途に使われますが、クエリでよく使う演算子には以下のものがあります。"
   ]
  },
  {
   "cell_type": "markdown",
   "metadata": {},
   "source": [
    "<p id=\"table3\" style=\"text-align:center\">**表3**</p>\n",
    "\n",
    "| 演算子 | 説明 |\n",
    "| :-----: |:-----------|\n",
    "| `$eq`   | equal, 等しい|\n",
    "| `$lt`   | less than, 未満|\n",
    "| `$lte`  | less than or equal, 以下     |\n",
    "| `$gt`   | greater than, より大きい    |\n",
    "| `$gte`  | greater than or equal, 以上     |\n",
    "| `$exists`  | フィールドが存在するかどうか     |\n",
    "| `$in`  | 与えられた値が配列に含まれているかどうか     |\n",
    "| `$or`  | 複数のクエリの論理和     |\n",
    "| `$and`  | 複数のクエリの論理積     |\n",
    "| `$not`  | 論理積否定     |\n",
    "| `$regex`  | 正規表現     |\n"
   ]
  },
  {
   "cell_type": "markdown",
   "metadata": {},
   "source": [
    "実は先程紹介した`{<field>: <value>}`は`{<field>: {$eq: <value>}}`を意味するただの[シンタックスシュガー](https://ja.wikipedia.org/wiki/糖衣構文)でした。\n",
    "\n",
    "例えば、言語が英語で、ツイートの`id`が`828130464015003648`より大きいツイートが欲しい場合は上記の`$gt`演算子を使って、下記のように検索できます（プロジェクションも同時に渡しています）。"
   ]
  },
  {
   "cell_type": "code",
   "execution_count": null,
   "metadata": {
    "collapsed": true
   },
   "outputs": [],
   "source": [
    "db.tweets.find({'lang': 'en', 'id': {$gt: 828130464015003648}},\n",
    "               {'_id': 0, 'text': 1, 'id': 1})"
   ]
  },
  {
   "cell_type": "markdown",
   "metadata": {},
   "source": [
    "クエリでもプロジェクションでもそうですが、複数のフィールドを指定することで、それらの論理積（[`AND`](https://ja.wikipedia.org/wiki/論理積)）をとって検索することになります。例えば、先程の検索で使ったクエリドキュメントの場合は`lang`が`en`**かつ**`id`が`828130464015003648`より大きいものみが返されます。"
   ]
  },
  {
   "cell_type": "markdown",
   "metadata": {},
   "source": [
    "他の演算子を使うと、様々な検索ができます。例えば、`$exists`を使うことでフィールドの有無を検索条件にすることもできます:"
   ]
  },
  {
   "cell_type": "code",
   "execution_count": null,
   "metadata": {
    "collapsed": true
   },
   "outputs": [],
   "source": [
    "db.tweets.find({'source': {$exists: false}}, {'_id': 0})"
   ]
  },
  {
   "cell_type": "markdown",
   "metadata": {},
   "source": [
    "`$in`は特定の値が配列の中に含まれているもののみを検索するのに使います。`$in`で使う配列の要素が複数の場合は論理和([`OR`](https://ja.wikipedia.org/wiki/論理和))をとって検索します。"
   ]
  },
  {
   "cell_type": "code",
   "execution_count": 34,
   "metadata": {
    "collapsed": false
   },
   "outputs": [
    {
     "data": {
      "text/html": [
       "<style>a.disclosure:link{text-decoration:none;}a.disclosure:visited{text-decoration:none;}.disclosure{color:#337AB7;font-size:150%;}.syntax{color:grey;}.string{color:#9A334F;}.number{color:#5C9632;}.boolean{color:#AA9739;}.key{color:#403075;}.keyword{color:#AA9739;}.object.syntax{color:#337AB7;}.array.syntax{color:#337AB7;}></style><div id=\"d3955fb5-8ac4-47d4-8ce1-66497e3ab15f\"></div>"
      ]
     },
     "metadata": {},
     "output_type": "display_data"
    },
    {
     "data": {
      "application/javascript": [
       "require([\"https://rawgit.com/caldwell/renderjson/master/renderjson.js\"], function() {document.getElementById('d3955fb5-8ac4-47d4-8ce1-66497e3ab15f').appendChild(renderjson.set_show_to_level(2)({\"text\": \"The #border adjustment #tax #proposal could rise #gasoline #price by 30 cents. ~via @OilandEnergy https://t.co/3VfUehiR59\\n#WTI #Trump #Brent\"}))});"
      ]
     },
     "metadata": {},
     "output_type": "display_data"
    },
    {
     "data": {
      "text/plain": [
       "{ \"text\" : \"The #border adjustment #tax #proposal could rise #gasoline #price by 30 cents. ~via @OilandEnergy https://t.co/3VfUehiR59\\n#WTI #Trump #Brent\" }"
      ]
     },
     "execution_count": 34,
     "metadata": {},
     "output_type": "execute_result"
    }
   ],
   "source": [
    "db.tweets.find({'hashtags.text': {$in: ['AmericaFirst', 'tax']}},\n",
    "                {'_id': 0, 'text': 1})"
   ]
  },
  {
   "cell_type": "markdown",
   "metadata": {},
   "source": [
    "上記の検索では、「`AmericaFirst`」もしくは「`tax`」が含まれているツイートが返されます\n",
    "。ここで、クエリに`hashtags.text`を使うことで、`hashtags`の値に含まれる**埋め込みドキュメント**のフィールドを直接検索することができてしまいます。この機能は便利ですが、その反面、フィールド名に「`.`」を使うことが禁止されています。\n",
    "\n",
    "\n",
    "なお、`$in`の対象フィールド（上記の例で`hashtags`)の値は配列である必要がないので、以下のような検索も有効です:"
   ]
  },
  {
   "cell_type": "code",
   "execution_count": null,
   "metadata": {
    "collapsed": true
   },
   "outputs": [],
   "source": [
    "db.tweets.find({'lang': {$in: ['es', 'ja']}},  {'_id': 0, 'text': 1})"
   ]
  },
  {
   "cell_type": "markdown",
   "metadata": {},
   "source": [
    "また、文字列の検索<sup id=\"a2\">[2](#f2)</sup>をしたい場合は、正規表現演算子の`$regex`を使うと便利です:\n",
    "\n",
    "<sup>**[2]** テキストインデクスを利用することで`$text`演算子でより高度な文字列検索が可能です。詳しくは[7.4.1節](#7.4.1-インデックス)および[公式ドキュメンテーション](https://docs.mongodb.com/manual/text-search/)を見てください[↩](#a2)</sup>"
   ]
  },
  {
   "cell_type": "code",
   "execution_count": null,
   "metadata": {
    "collapsed": true
   },
   "outputs": [],
   "source": [
    "db.tweets.find({'text': {$regex: /america/i}},  {'_id': 0, 'text': 1})"
   ]
  },
  {
   "cell_type": "markdown",
   "metadata": {},
   "source": [
    ">**注意**: Mongoシェルで使う正規表現はいわゆるPerl用のもの(PCRE)でPythonで使うものと少しだけ異なります。なお、Pythonドライバを使う場合はPythonの`re.complie`等を使うことでPythonの正規表現も問題なく使います。"
   ]
  },
  {
   "cell_type": "markdown",
   "metadata": {},
   "source": [
    "ここで紹介したのはよく使う基礎的な演算子ですが、MongoDBには他にたくさんの演算子があります。クエリ用演算子の詳細については[公式ドキュメンテーション](https://docs.mongodb.com/manual/reference/operator/query/#query-selectors)を見てみてください。"
   ]
  },
  {
   "cell_type": "markdown",
   "metadata": {},
   "source": [
    "**<練習問題1>**\n",
    "\n",
    "`hashtags`フィールドが存在し、かつそれがから配列でないツイートを検索せよ。"
   ]
  },
  {
   "cell_type": "code",
   "execution_count": 37,
   "metadata": {
    "collapsed": false
   },
   "outputs": [
    {
     "data": {
      "text/html": [
       "<style>a.disclosure:link{text-decoration:none;}a.disclosure:visited{text-decoration:none;}.disclosure{color:#337AB7;font-size:150%;}.syntax{color:grey;}.string{color:#9A334F;}.number{color:#5C9632;}.boolean{color:#AA9739;}.key{color:#403075;}.keyword{color:#AA9739;}.object.syntax{color:#337AB7;}.array.syntax{color:#337AB7;}></style><div id=\"c1d3a742-06c8-4b1b-b278-e8c8c4a421dc\"></div>"
      ]
     },
     "metadata": {},
     "output_type": "display_data"
    },
    {
     "data": {
      "application/javascript": [
       "require([\"https://rawgit.com/caldwell/renderjson/master/renderjson.js\"], function() {document.getElementById('c1d3a742-06c8-4b1b-b278-e8c8c4a421dc').appendChild(renderjson.set_show_to_level(2)([{\"_id\": {\"$oid\": \"5928598e003d6923dd6ce7d5\"}, \"created_at\": \"Sun Feb 05 06:28:27 +0000 2017\", \"id\": 828128132402073600, \"lang\": \"ja\", \"text\": \"\\u30c8\\u30e9\\u30f3\\u30d7\\u5927\\u7d71\\u9818\\u304c\\u62db\\u304f\\u300c\\u61b2\\u6cd5\\u306e\\u5371\\u6a5f\\u300d \\u5165\\u56fd\\u7981\\u6b62\\u4ee4\\u3092\\u505c\\u6b62\\u3057\\u305f\\u88c1\\u5224\\u5b98\\u3092Twitter\\u3067\\u653b\\u6483\\n\\n\\u56f0\\u3063\\u305f\\u3061\\u3083\\u3093 https://t.co/BLWVqXOAAw\"}, {\"_id\": {\"$oid\": \"592859e7003d6923dd6ce7d6\"}, \"created_at\": \"Sun Feb 05 06:48:27 +0000 2017\", \"id\": 828133165654945800, \"lang\": \"en\", \"text\": \"@GeorgeTakei She's the best! Comedy will help us make it through the Trump shit show\", \"user_mentions\": [{\"id\": 237845487, \"name\": \"George Takei\", \"screen_name\": \"GeorgeTakei\"}]}, {\"_id\": {\"$oid\": \"592a108807fa13bd83166e0d\"}, \"created_at\": \"Sun Feb 05 06:31:00 +0000 2017\", \"hashtags\": [{\"text\": \"border\"}, {\"text\": \"tax\"}, {\"text\": \"proposal\"}, {\"text\": \"gasoline\"}, {\"text\": \"price\"}, {\"text\": \"WTI\"}, {\"text\": \"Trump\"}, {\"text\": \"Brent\"}], \"id\": 828128775548260400, \"lang\": \"en\", \"source\": \"<a href=\\\"https://about.twitter.com/products/tweetdeck\\\" rel=\\\"nofollow\\\">TweetDeck</a>\", \"text\": \"The #border adjustment #tax #proposal could rise #gasoline #price by 30 cents. ~via @OilandEnergy https://t.co/3VfUehiR59\\n#WTI #Trump #Brent\", \"urls\": [{\"expanded_url\": \"http://oilprice.com/Energy/Energy-General/Gasoline-Prices-Could-Rise-30-Cents-Because-Of-Border-Tax.html\", \"url\": \"https://t.co/3VfUehiR59\"}], \"user_mentions\": [{\"id\": 87241834, \"name\": \"OilPrice.com\", \"screen_name\": \"OilandEnergy\"}]}, {\"_id\": {\"$oid\": \"592a108807fa13bd83166e10\"}, \"urls\": [{\"url\": \"https://t.co/VpvVlSzB80\", \"expanded_url\": \"http://huff.to/2kejPF4\"}], \"text\": \"RT @HuffPostJapan: \\u3010 #\\u30c8\\u30e9\\u30f3\\u30d7 \\u5927\\u7d71\\u9818\\u3011\\u30df\\u30b5\\u30a4\\u30eb\\u5b9f\\u9a13\\u3092\\u5b9f\\u884c\\u3057\\u305f #\\u30a4\\u30e9\\u30f3 \\u306b\\u65b0\\u305f\\u306a\\u7d4c\\u6e08\\u5236\\u88c1 \\u3067\\u30821\\u5e74\\u524d\\u306e\\u5236\\u88c1\\u3068\\u5185\\u5bb9\\u307b\\u307c\\u540c\\u3058\\nhttps://t.co/VpvVlSzB80\", \"id\": 828121664869134300, \"lang\": \"ja\", \"created_at\": \"Sun Feb 05 06:02:45 +0000 2017\", \"hashtags\": [{\"text\": \"\\u30c8\\u30e9\\u30f3\\u30d7\"}, {\"text\": \"\\u30a4\\u30e9\\u30f3\"}], \"retweet_count\": 7, \"user_mentions\": [{\"name\": \"\\u30cf\\u30d5\\u30a3\\u30f3\\u30c8\\u30f3\\u30dd\\u30b9\\u30c8\\u65e5\\u672c\\u7248\", \"id\": 543860205, \"screen_name\": \"HuffPostJapan\"}], \"source\": \"<a href=\\\"http://twitter.com/download/iphone\\\" rel=\\\"nofollow\\\">Twitter for iPhone</a>\"}]))});"
      ]
     },
     "metadata": {},
     "output_type": "display_data"
    },
    {
     "data": {
      "text/plain": [
       "{ \"_id\" : ObjectId(\"5928598e003d6923dd6ce7d5\"), \"created_at\" : \"Sun Feb 05 06:28:27 +0000 2017\", \"id\" : 828128132402073600, \"lang\" : \"ja\", \"text\" : \"トランプ大統領が招く「憲法の危機」 入国禁止令を停止した裁判官をTwitterで攻撃\\n\\n困ったちゃん https://t.co/BLWVqXOAAw\" }\r\n",
       "{ \"_id\" : ObjectId(\"592859e7003d6923dd6ce7d6\"), \"created_at\" : \"Sun Feb 05 06:48:27 +0000 2017\", \"id\" : 828133165654945800, \"lang\" : \"en\", \"text\" : \"@GeorgeTakei She's the best! Comedy will help us make it through the Trump shit show\", \"user_mentions\" : [ { \"id\" : 237845487, \"name\" : \"George Takei\", \"screen_name\" : \"GeorgeTakei\" } ] }\r\n",
       "{ \"_id\" : ObjectId(\"592a108807fa13bd83166e0d\"), \"created_at\" : \"Sun Feb 05 06:31:00 +0000 2017\", \"hashtags\" : [ { \"text\" : \"border\" }, { \"text\" : \"tax\" }, { \"text\" : \"proposal\" }, { \"text\" : \"gasoline\" }, { \"text\" : \"price\" }, { \"text\" : \"WTI\" }, { \"text\" : \"Trump\" }, { \"text\" : \"Brent\" } ], \"id\" : 828128775548260400, \"lang\" : \"en\", \"source\" : \"<a href=\\\"https://about.twitter.com/products/tweetdeck\\\" rel=\\\"nofollow\\\">TweetDeck</a>\", \"text\" : \"The #border adjustment #tax #proposal could rise #gasoline #price by 30 cents. ~via @OilandEnergy https://t.co/3VfUehiR59\\n#WTI #Trump #Brent\", \"urls\" : [ { \"expanded_url\" : \"http://oilprice.com/Energy/Energy-General/Gasoline-Prices-Could-Rise-30-Cents-Because-Of-Border-Tax.html\", \"url\" : \"https://t.co/3VfUehiR59\" } ], \"user_mentions\" : [ { \"id\" : 87241834, \"name\" : \"OilPrice.com\", \"screen_name\" : \"OilandEnergy\" } ] }\r\n",
       "{ \"_id\" : ObjectId(\"592a108807fa13bd83166e10\"), \"urls\" : [ { \"url\" : \"https://t.co/VpvVlSzB80\", \"expanded_url\" : \"http://huff.to/2kejPF4\" } ], \"text\" : \"RT @HuffPostJapan: 【 #トランプ 大統領】ミサイル実験を実行した #イラン に新たな経済制裁 でも1年前の制裁と内容ほぼ同じ\\nhttps://t.co/VpvVlSzB80\", \"id\" : 828121664869134300, \"lang\" : \"ja\", \"created_at\" : \"Sun Feb 05 06:02:45 +0000 2017\", \"hashtags\" : [ { \"text\" : \"トランプ\" }, { \"text\" : \"イラン\" } ], \"retweet_count\" : 7, \"user_mentions\" : [ { \"name\" : \"ハフィントンポスト日本版\", \"id\" : 543860205, \"screen_name\" : \"HuffPostJapan\" } ], \"source\" : \"<a href=\\\"http://twitter.com/download/iphone\\\" rel=\\\"nofollow\\\">Twitter for iPhone</a>\" }"
      ]
     },
     "execution_count": 37,
     "metadata": {},
     "output_type": "execute_result"
    }
   ],
   "source": [
    "db.tweets.find({'hashtags':{$ne:[]}})"
   ]
  },
  {
   "cell_type": "markdown",
   "metadata": {},
   "source": [
    "#### 7.3.2.1 カーソル操作\n",
    "\n",
    "[7.2.3節](#7.2.3-MongoDBの仕組み)で述べたように、MongoDBに対して検索コマンドを送るときに返されるのは**カーソル**であると述べました。`find`コマンドはカーソルを返しますが、そのカーソルの実際の実行・データ取得・表示は必要になるまで行われません<sup id=\"a3\">[3](#f3)</sup>。Mongoシェルをではカーソルは即時に実行され、データの一部が表示してされますが、Pythonドライバではカーソルに対して何らかの操作(例えば、`list()`をコールする等）をしないと、実際のデータ取得・表示は行われません。\n",
    "\n",
    "<sup>**[3]** これを[遅延評価](https://ja.wikipedia.org/wiki/遅延評価)(lazy evaluation)といい、関数型言語でよく使用されるテクニックです。[↩](#a3)</sup>\n",
    "\n",
    "これまでは**コレクションに対して**行う操作を紹介してきましたが、ここでは**カーソルに対して**行ういくつかの便利な操作を以下に紹介します。"
   ]
  },
  {
   "cell_type": "markdown",
   "metadata": {},
   "source": [
    "<p id=\"table4\" style=\"text-align:center\">**表4**</p>\n",
    "\n",
    "| メソッド | 説明 |\n",
    "|:-----------|:-----------|\n",
    "| `cursor.sort(<ソート>)` | 検索結果を整列する  |\n",
    "| `cursor.count()` | 検索結果のドキュメントの数を返す　|\n",
    "| `cursor.limit(<数>)` | 返されるドキュメント数を制限する |\n",
    "| `cursor.skip(<数>)` | 返されるを<数>だけスキップする |"
   ]
  },
  {
   "cell_type": "markdown",
   "metadata": {},
   "source": [
    "例えば、各ツイートの`id`だけに注目すると、"
   ]
  },
  {
   "cell_type": "code",
   "execution_count": 38,
   "metadata": {
    "collapsed": false
   },
   "outputs": [
    {
     "data": {
      "text/html": [
       "<style>a.disclosure:link{text-decoration:none;}a.disclosure:visited{text-decoration:none;}.disclosure{color:#337AB7;font-size:150%;}.syntax{color:grey;}.string{color:#9A334F;}.number{color:#5C9632;}.boolean{color:#AA9739;}.key{color:#403075;}.keyword{color:#AA9739;}.object.syntax{color:#337AB7;}.array.syntax{color:#337AB7;}></style><div id=\"c8013744-b360-48ce-84d8-0af890e26e7b\"></div>"
      ]
     },
     "metadata": {},
     "output_type": "display_data"
    },
    {
     "data": {
      "application/javascript": [
       "require([\"https://rawgit.com/caldwell/renderjson/master/renderjson.js\"], function() {document.getElementById('c8013744-b360-48ce-84d8-0af890e26e7b').appendChild(renderjson.set_show_to_level(2)([{\"id\": 828128132402073600}, {\"id\": 828133165654945800}, {\"id\": 828128132402073600}, {\"id\": 828133165654945800}, {\"id\": 828132464015003600}, {\"id\": 828128775548260400}, {\"id\": 828128399092699100}, {\"id\": 828126283049664500}, {\"id\": 828121664869134300}]))});"
      ]
     },
     "metadata": {},
     "output_type": "display_data"
    },
    {
     "data": {
      "text/plain": [
       "{ \"id\" : 828128132402073600 }\r\n",
       "{ \"id\" : 828133165654945800 }\r\n",
       "{ \"id\" : 828128132402073600 }\r\n",
       "{ \"id\" : 828133165654945800 }\r\n",
       "{ \"id\" : 828132464015003600 }\r\n",
       "{ \"id\" : 828128775548260400 }\r\n",
       "{ \"id\" : 828128399092699100 }\r\n",
       "{ \"id\" : 828126283049664500 }\r\n",
       "{ \"id\" : 828121664869134300 }"
      ]
     },
     "execution_count": 38,
     "metadata": {},
     "output_type": "execute_result"
    }
   ],
   "source": [
    "db.tweets.find({}, {'_id': 0, 'id': 1})"
   ]
  },
  {
   "cell_type": "markdown",
   "metadata": {},
   "source": [
    "整列されていないことがわかります。ここで、ソートドキュメントを使って以下のように整列できます:"
   ]
  },
  {
   "cell_type": "code",
   "execution_count": 39,
   "metadata": {
    "collapsed": false
   },
   "outputs": [
    {
     "data": {
      "text/html": [
       "<style>a.disclosure:link{text-decoration:none;}a.disclosure:visited{text-decoration:none;}.disclosure{color:#337AB7;font-size:150%;}.syntax{color:grey;}.string{color:#9A334F;}.number{color:#5C9632;}.boolean{color:#AA9739;}.key{color:#403075;}.keyword{color:#AA9739;}.object.syntax{color:#337AB7;}.array.syntax{color:#337AB7;}></style><div id=\"06493dc0-144d-40f5-9e8a-7978af59cf9c\"></div>"
      ]
     },
     "metadata": {},
     "output_type": "display_data"
    },
    {
     "data": {
      "application/javascript": [
       "require([\"https://rawgit.com/caldwell/renderjson/master/renderjson.js\"], function() {document.getElementById('06493dc0-144d-40f5-9e8a-7978af59cf9c').appendChild(renderjson.set_show_to_level(2)([{\"id\": 828121664869134300}, {\"id\": 828126283049664500}, {\"id\": 828128132402073600}, {\"id\": 828128132402073600}, {\"id\": 828128399092699100}, {\"id\": 828128775548260400}, {\"id\": 828132464015003600}, {\"id\": 828133165654945800}, {\"id\": 828133165654945800}]))});"
      ]
     },
     "metadata": {},
     "output_type": "display_data"
    },
    {
     "data": {
      "text/plain": [
       "{ \"id\" : 828121664869134300 }\r\n",
       "{ \"id\" : 828126283049664500 }\r\n",
       "{ \"id\" : 828128132402073600 }\r\n",
       "{ \"id\" : 828128132402073600 }\r\n",
       "{ \"id\" : 828128399092699100 }\r\n",
       "{ \"id\" : 828128775548260400 }\r\n",
       "{ \"id\" : 828132464015003600 }\r\n",
       "{ \"id\" : 828133165654945800 }\r\n",
       "{ \"id\" : 828133165654945800 }"
      ]
     },
     "execution_count": 39,
     "metadata": {},
     "output_type": "execute_result"
    }
   ],
   "source": [
    "db.tweets.find({}, {'_id': 0, 'id': 1}).sort({'id': 1})"
   ]
  },
  {
   "cell_type": "markdown",
   "metadata": {},
   "source": [
    "ソートドキュメントにおいて、`1`は昇順、`-1`は降順を意味します。複数のフィールドを組み合わせることも可能です:"
   ]
  },
  {
   "cell_type": "code",
   "execution_count": 40,
   "metadata": {
    "collapsed": false
   },
   "outputs": [
    {
     "data": {
      "text/html": [
       "<style>a.disclosure:link{text-decoration:none;}a.disclosure:visited{text-decoration:none;}.disclosure{color:#337AB7;font-size:150%;}.syntax{color:grey;}.string{color:#9A334F;}.number{color:#5C9632;}.boolean{color:#AA9739;}.key{color:#403075;}.keyword{color:#AA9739;}.object.syntax{color:#337AB7;}.array.syntax{color:#337AB7;}></style><div id=\"b8915d92-64dc-466f-8cd0-f6971107673b\"></div>"
      ]
     },
     "metadata": {},
     "output_type": "display_data"
    },
    {
     "data": {
      "application/javascript": [
       "require([\"https://rawgit.com/caldwell/renderjson/master/renderjson.js\"], function() {document.getElementById('b8915d92-64dc-466f-8cd0-f6971107673b').appendChild(renderjson.set_show_to_level(2)([{\"id\": 828121664869134300, \"hashtags\": [{\"text\": \"\\u30c8\\u30e9\\u30f3\\u30d7\"}, {\"text\": \"\\u30a4\\u30e9\\u30f3\"}]}, {\"hashtags\": [{\"text\": \"border\"}, {\"text\": \"tax\"}, {\"text\": \"proposal\"}, {\"text\": \"gasoline\"}, {\"text\": \"price\"}, {\"text\": \"WTI\"}, {\"text\": \"Trump\"}, {\"text\": \"Brent\"}], \"id\": 828128775548260400}, {\"id\": 828128132402073600}, {\"id\": 828133165654945800}, {\"hashtags\": [], \"id\": 828126283049664500}, {\"hashtags\": [], \"id\": 828128132402073600}, {\"hashtags\": [], \"id\": 828128399092699100}, {\"hashtags\": [], \"id\": 828132464015003600}, {\"hashtags\": [], \"id\": 828133165654945800}]))});"
      ]
     },
     "metadata": {},
     "output_type": "display_data"
    },
    {
     "data": {
      "text/plain": [
       "{ \"id\" : 828121664869134300, \"hashtags\" : [ { \"text\" : \"トランプ\" }, { \"text\" : \"イラン\" } ] }\r\n",
       "{ \"hashtags\" : [ { \"text\" : \"border\" }, { \"text\" : \"tax\" }, { \"text\" : \"proposal\" }, { \"text\" : \"gasoline\" }, { \"text\" : \"price\" }, { \"text\" : \"WTI\" }, { \"text\" : \"Trump\" }, { \"text\" : \"Brent\" } ], \"id\" : 828128775548260400 }\r\n",
       "{ \"id\" : 828128132402073600 }\r\n",
       "{ \"id\" : 828133165654945800 }\r\n",
       "{ \"hashtags\" : [ ], \"id\" : 828126283049664500 }\r\n",
       "{ \"hashtags\" : [ ], \"id\" : 828128132402073600 }\r\n",
       "{ \"hashtags\" : [ ], \"id\" : 828128399092699100 }\r\n",
       "{ \"hashtags\" : [ ], \"id\" : 828132464015003600 }\r\n",
       "{ \"hashtags\" : [ ], \"id\" : 828133165654945800 }"
      ]
     },
     "execution_count": 40,
     "metadata": {},
     "output_type": "execute_result"
    }
   ],
   "source": [
    "db.tweets.find({}, {'_id': 0, 'id': 1, 'hashtags': 1}).sort({'hashtags': -1, 'id': 1})"
   ]
  },
  {
   "cell_type": "markdown",
   "metadata": {},
   "source": [
    "上記の検索では`hashtags`に対して降順で整列したのち、さらに`id`で昇順で整列しています。"
   ]
  },
  {
   "cell_type": "markdown",
   "metadata": {},
   "source": [
    "また、上記の検索で、取得されるドキュメント数を制限したい場合は`limit`を使います:"
   ]
  },
  {
   "cell_type": "code",
   "execution_count": 41,
   "metadata": {
    "collapsed": false
   },
   "outputs": [
    {
     "data": {
      "text/html": [
       "<style>a.disclosure:link{text-decoration:none;}a.disclosure:visited{text-decoration:none;}.disclosure{color:#337AB7;font-size:150%;}.syntax{color:grey;}.string{color:#9A334F;}.number{color:#5C9632;}.boolean{color:#AA9739;}.key{color:#403075;}.keyword{color:#AA9739;}.object.syntax{color:#337AB7;}.array.syntax{color:#337AB7;}></style><div id=\"dfbe01ec-1910-42f3-bb9f-c29887ef8d6d\"></div>"
      ]
     },
     "metadata": {},
     "output_type": "display_data"
    },
    {
     "data": {
      "application/javascript": [
       "require([\"https://rawgit.com/caldwell/renderjson/master/renderjson.js\"], function() {document.getElementById('dfbe01ec-1910-42f3-bb9f-c29887ef8d6d').appendChild(renderjson.set_show_to_level(2)([{\"id\": 828121664869134300, \"hashtags\": [{\"text\": \"\\u30c8\\u30e9\\u30f3\\u30d7\"}, {\"text\": \"\\u30a4\\u30e9\\u30f3\"}]}, {\"hashtags\": [{\"text\": \"border\"}, {\"text\": \"tax\"}, {\"text\": \"proposal\"}, {\"text\": \"gasoline\"}, {\"text\": \"price\"}, {\"text\": \"WTI\"}, {\"text\": \"Trump\"}, {\"text\": \"Brent\"}], \"id\": 828128775548260400}, {\"id\": 828128132402073600}, {\"id\": 828133165654945800}, {\"hashtags\": [], \"id\": 828126283049664500}]))});"
      ]
     },
     "metadata": {},
     "output_type": "display_data"
    },
    {
     "data": {
      "text/plain": [
       "{ \"id\" : 828121664869134300, \"hashtags\" : [ { \"text\" : \"トランプ\" }, { \"text\" : \"イラン\" } ] }\r\n",
       "{ \"hashtags\" : [ { \"text\" : \"border\" }, { \"text\" : \"tax\" }, { \"text\" : \"proposal\" }, { \"text\" : \"gasoline\" }, { \"text\" : \"price\" }, { \"text\" : \"WTI\" }, { \"text\" : \"Trump\" }, { \"text\" : \"Brent\" } ], \"id\" : 828128775548260400 }\r\n",
       "{ \"id\" : 828128132402073600 }\r\n",
       "{ \"id\" : 828133165654945800 }\r\n",
       "{ \"hashtags\" : [ ], \"id\" : 828126283049664500 }"
      ]
     },
     "execution_count": 41,
     "metadata": {},
     "output_type": "execute_result"
    }
   ],
   "source": [
    "db.tweets.find({}, {'_id': 0, 'id': 1, 'hashtags': 1})\n",
    "         .sort({'hashtags': -1, 'id': 1})\n",
    "         .limit(5)"
   ]
  },
  {
   "cell_type": "markdown",
   "metadata": {},
   "source": [
    "また、最初のいくつかのドキュメントをスキップしたい場合は`skip`を使えばいいです:"
   ]
  },
  {
   "cell_type": "code",
   "execution_count": null,
   "metadata": {
    "collapsed": true
   },
   "outputs": [],
   "source": [
    "db.tweets.find({}, {'_id': 0, 'id': 1, 'hashtags': 1})\n",
    "         .sort({'hashtags': -1, 'id': 1})\n",
    "         .skip(5)"
   ]
  },
  {
   "cell_type": "markdown",
   "metadata": {},
   "source": [
    "検索結果のドキュメントの個数だけを知りたい場合は`count`を使います:"
   ]
  },
  {
   "cell_type": "code",
   "execution_count": null,
   "metadata": {
    "collapsed": true
   },
   "outputs": [],
   "source": [
    "db.tweets.find({'lang': {$in: ['es', 'ja']}}).count()"
   ]
  },
  {
   "cell_type": "markdown",
   "metadata": {},
   "source": [
    "また、コレクション全体のドキュメント数を知りたい場合は単純に:"
   ]
  },
  {
   "cell_type": "code",
   "execution_count": null,
   "metadata": {
    "collapsed": true
   },
   "outputs": [],
   "source": [
    "db.tweets.find().count()"
   ]
  },
  {
   "cell_type": "markdown",
   "metadata": {},
   "source": [
    "なお、`db.tweets.count()`でも同じ結果が得られます。これもまたただののシンタックスシュガーです。"
   ]
  },
  {
   "cell_type": "markdown",
   "metadata": {},
   "source": [
    "`sort`のようにカーソルに対して行う操作がまたカーソルを返す場合、上記の例のように複数の操作を繋ぎ合わせることができます。しかし、当然ながら`count`のようにカーソルではなく、数値等を返す操作の場合はできません。"
   ]
  },
  {
   "cell_type": "markdown",
   "metadata": {},
   "source": [
    "今回の小さなデータセットの場合はパフォーマンスのことを意識せずにいろんなフィールドに対してソート操作を行いましたが、通常、ソートをするときには**インデックス**が使われます。大きなデータセットをインデックスなしでソートしようとしたら、非常に時間がかかるかエラーが発生します。[7.4.1節](#7.4.1-インデックス)で詳しく述べますが、検索やソートでよく使うフィールドについてはインデックスを作る必要があることを覚えておいてください。"
   ]
  },
  {
   "cell_type": "markdown",
   "metadata": {},
   "source": [
    "### 7.3.3 データの更新 (Update)\n",
    "\n",
    "データの更新を行うとき、1)あるドキュメントを丸ごと他のドキュメントと入れ替える、2)一つもしくは複数のドキュメントの特定のフィールドをに何らかの操作をする、の2つのパターンがあります。1)では`replaceOne`を使い、2)では`updateOne`もしくは`updateMany`を使います。各メソッドのシグネチャは[表2](#table2)を参照してください。"
   ]
  },
  {
   "cell_type": "markdown",
   "metadata": {},
   "source": [
    "#### ドキュメントの入れ替え\n",
    "\n",
    "今回のTwitterデータセットにはスペイン語のツイートが一つだけあります:"
   ]
  },
  {
   "cell_type": "code",
   "execution_count": 42,
   "metadata": {
    "collapsed": false
   },
   "outputs": [
    {
     "data": {
      "text/html": [
       "<style>a.disclosure:link{text-decoration:none;}a.disclosure:visited{text-decoration:none;}.disclosure{color:#337AB7;font-size:150%;}.syntax{color:grey;}.string{color:#9A334F;}.number{color:#5C9632;}.boolean{color:#AA9739;}.key{color:#403075;}.keyword{color:#AA9739;}.object.syntax{color:#337AB7;}.array.syntax{color:#337AB7;}></style><div id=\"f7eb0373-fd8f-45b2-a9e8-e86f00388f65\"></div>"
      ]
     },
     "metadata": {},
     "output_type": "display_data"
    },
    {
     "data": {
      "application/javascript": [
       "require([\"https://rawgit.com/caldwell/renderjson/master/renderjson.js\"], function() {document.getElementById('f7eb0373-fd8f-45b2-a9e8-e86f00388f65').appendChild(renderjson.set_show_to_level(2)({\"text\": \"Me ha gustado un v\\u00eddeo de @YouTube de @thedracergx (https://t.co/L1UwJwXxyu - LORD PE\\u00d1A NIETO (S2): Attack on Trump - Anime\"}))});"
      ]
     },
     "metadata": {},
     "output_type": "display_data"
    },
    {
     "data": {
      "text/plain": [
       "{ \"text\" : \"Me ha gustado un vídeo de @YouTube de @thedracergx (https://t.co/L1UwJwXxyu - LORD PEÑA NIETO (S2): Attack on Trump - Anime\" }"
      ]
     },
     "execution_count": 42,
     "metadata": {},
     "output_type": "execute_result"
    }
   ],
   "source": [
    "db.tweets.find({'lang': 'es'}, {'text': 1, '_id': 0})"
   ]
  },
  {
   "cell_type": "markdown",
   "metadata": {},
   "source": [
    "あまり現実的な例ではないですが、仮にそのスペイン語ツイートを`{'foo': 'bar'}`というドキュメントと入れ替えたい場合、下記のコマンドを実行すればいいです。"
   ]
  },
  {
   "cell_type": "code",
   "execution_count": 43,
   "metadata": {
    "collapsed": false
   },
   "outputs": [
    {
     "data": {
      "text/html": [
       "<style>a.disclosure:link{text-decoration:none;}a.disclosure:visited{text-decoration:none;}.disclosure{color:#337AB7;font-size:150%;}.syntax{color:grey;}.string{color:#9A334F;}.number{color:#5C9632;}.boolean{color:#AA9739;}.key{color:#403075;}.keyword{color:#AA9739;}.object.syntax{color:#337AB7;}.array.syntax{color:#337AB7;}></style><div id=\"284665e0-a012-4f8e-83ea-22d3e85ef5f7\"></div>"
      ]
     },
     "metadata": {},
     "output_type": "display_data"
    },
    {
     "data": {
      "application/javascript": [
       "require([\"https://rawgit.com/caldwell/renderjson/master/renderjson.js\"], function() {document.getElementById('284665e0-a012-4f8e-83ea-22d3e85ef5f7').appendChild(renderjson.set_show_to_level(2)({\"acknowledged\": true, \"matchedCount\": 1, \"modifiedCount\": 1}))});"
      ]
     },
     "metadata": {},
     "output_type": "display_data"
    },
    {
     "data": {
      "text/plain": [
       "{ \"acknowledged\" : true, \"matchedCount\" : 1, \"modifiedCount\" : 1 }"
      ]
     },
     "execution_count": 43,
     "metadata": {},
     "output_type": "execute_result"
    }
   ],
   "source": [
    "db.tweets.replaceOne({'lang': 'es'}, {'foo': 'bar'})"
   ]
  },
  {
   "cell_type": "markdown",
   "metadata": {},
   "source": [
    "先程の`find`コマンドをもう一回実行すると、スペイン語のツイートがなくなっていることが確認できます。一方で、次のコマンドで、新しく先程の`{'foo': 'bar'}`ドキュメントが挿入されたことがわかります。"
   ]
  },
  {
   "cell_type": "code",
   "execution_count": 44,
   "metadata": {
    "collapsed": false
   },
   "outputs": [
    {
     "data": {
      "text/html": [
       "<style>a.disclosure:link{text-decoration:none;}a.disclosure:visited{text-decoration:none;}.disclosure{color:#337AB7;font-size:150%;}.syntax{color:grey;}.string{color:#9A334F;}.number{color:#5C9632;}.boolean{color:#AA9739;}.key{color:#403075;}.keyword{color:#AA9739;}.object.syntax{color:#337AB7;}.array.syntax{color:#337AB7;}></style><div id=\"d5df61a6-9c51-43ca-bff6-9dc97f625433\"></div>"
      ]
     },
     "metadata": {},
     "output_type": "display_data"
    },
    {
     "data": {
      "application/javascript": [
       "require([\"https://rawgit.com/caldwell/renderjson/master/renderjson.js\"], function() {document.getElementById('d5df61a6-9c51-43ca-bff6-9dc97f625433').appendChild(renderjson.set_show_to_level(2)([{\"_id\": {\"$oid\": \"592a108807fa13bd83166e0f\"}, \"foo\": \"bar\"}]))});"
      ]
     },
     "metadata": {},
     "output_type": "display_data"
    },
    {
     "data": {
      "text/plain": [
       "{ \"_id\" : ObjectId(\"592a108807fa13bd83166e0f\"), \"foo\" : \"bar\" }"
      ]
     },
     "execution_count": 44,
     "metadata": {},
     "output_type": "execute_result"
    }
   ],
   "source": [
    "db.tweets.find({'foo': {$exists: true}})"
   ]
  },
  {
   "cell_type": "markdown",
   "metadata": {},
   "source": [
    "このような操作はそもそもなぜ必要なのかと思われるかもしれませんが、実は各ドキュメントに対してMongoDBだけでは対処しきない操作をしたい場面では便利です。例えば、ツイートの本文をGoogle翻訳APIを使って翻訳したい場合はPython等からMongoDBからデータを取得し、翻訳やその他の操作をしてから元のドキュメントと入れ替えたいときには、`replaceOne`を使うと削除操作と挿入操作を同時にできてしまうので一石二鳥です。"
   ]
  },
  {
   "cell_type": "markdown",
   "metadata": {},
   "source": [
    "#### フィールド操作と更新演算子\n",
    "\n",
    "一般的に、ドキュメントを丸ごと入れ替えるより、ドキュメントの特定のフィールドだけを変更することが多いでしょう。Twitterの場合はツイートがリツイートされたら、そのリツイートカウントに関するフィールドだけを変更したい例がわかりやすいでしょう。\n",
    "\n",
    "MongoDBでは、こういった更新操作のための演算子をいくつか用意しています。本節では下記の**表5**にある3つだけを紹介しますが、他にたくさんあるのでぜひ[公式ドキュメンテーション](https://docs.mongodb.com/manual/reference/operator/update/)を見てみてください。"
   ]
  },
  {
   "cell_type": "markdown",
   "metadata": {},
   "source": [
    "<p id=\"table5\" style=\"text-align:center\">**表5**</p>\n",
    "\n",
    "| 演算子 | 説明 |\n",
    "| :-----: |:-----------|\n",
    "| `$set`   | フィールドの値を設定 |\n",
    "| `$inc`   | 数値を増減 |\n",
    "| `$push`  | 配列に値を挿入 |\n"
   ]
  },
  {
   "cell_type": "markdown",
   "metadata": {},
   "source": [
    "- **`$set`**\n",
    "\n",
    "下記のツイートでは日本語のハッシュタグは入っているにもかかわらず、言語が英語(`en`)になっています。"
   ]
  },
  {
   "cell_type": "code",
   "execution_count": 45,
   "metadata": {
    "collapsed": true
   },
   "outputs": [],
   "source": [
    "db.tweets.find({'hashtags.text': {$in : [\"アメリカ第一主義\"]}})"
   ]
  },
  {
   "cell_type": "markdown",
   "metadata": {},
   "source": [
    "もし、このツイートの言語を日本語に変更したい場合は`$set`を下記のように使えばいいです:"
   ]
  },
  {
   "cell_type": "code",
   "execution_count": 46,
   "metadata": {
    "collapsed": false
   },
   "outputs": [
    {
     "data": {
      "text/html": [
       "<style>a.disclosure:link{text-decoration:none;}a.disclosure:visited{text-decoration:none;}.disclosure{color:#337AB7;font-size:150%;}.syntax{color:grey;}.string{color:#9A334F;}.number{color:#5C9632;}.boolean{color:#AA9739;}.key{color:#403075;}.keyword{color:#AA9739;}.object.syntax{color:#337AB7;}.array.syntax{color:#337AB7;}></style><div id=\"55166ad8-83f6-4aac-abea-2f264bec2acf\"></div>"
      ]
     },
     "metadata": {},
     "output_type": "display_data"
    },
    {
     "data": {
      "application/javascript": [
       "require([\"https://rawgit.com/caldwell/renderjson/master/renderjson.js\"], function() {document.getElementById('55166ad8-83f6-4aac-abea-2f264bec2acf').appendChild(renderjson.set_show_to_level(2)({\"acknowledged\": true, \"matchedCount\": 0, \"modifiedCount\": 0}))});"
      ]
     },
     "metadata": {},
     "output_type": "display_data"
    },
    {
     "data": {
      "text/plain": [
       "{ \"acknowledged\" : true, \"matchedCount\" : 0, \"modifiedCount\" : 0 }"
      ]
     },
     "execution_count": 46,
     "metadata": {},
     "output_type": "execute_result"
    }
   ],
   "source": [
    "db.tweets.updateOne({'hashtags.text': {$in : [\"アメリカ第一主義\"]}},\n",
    "                    {$set: {'lang': 'ja'}})"
   ]
  },
  {
   "cell_type": "markdown",
   "metadata": {},
   "source": [
    "もう一回`find`を使うと、確かに言語の値が変更されていることがわかります。また、`_id`が変わっていないので、前と同じドキュメントであることも確認できます。"
   ]
  },
  {
   "cell_type": "code",
   "execution_count": null,
   "metadata": {
    "collapsed": true
   },
   "outputs": [],
   "source": [
    "db.tweets.find({'hashtags.text': {$in : [\"アメリカ第一主義\"]}},\n",
    "                {'text': 1, 'lang': 1})"
   ]
  },
  {
   "cell_type": "markdown",
   "metadata": {},
   "source": [
    "今回は一つだけのフィールドを変更しましたが、複数のフィールドを同時に変更することも可能です。"
   ]
  },
  {
   "cell_type": "markdown",
   "metadata": {},
   "source": [
    "- **`$inc`**\n",
    "\n",
    "先程のリツイートのカウントの変更について述べましたが、具体的には下記のツイートの例を考えましょう:"
   ]
  },
  {
   "cell_type": "code",
   "execution_count": 53,
   "metadata": {
    "collapsed": false
   },
   "outputs": [
    {
     "data": {
      "text/html": [
       "<style>a.disclosure:link{text-decoration:none;}a.disclosure:visited{text-decoration:none;}.disclosure{color:#337AB7;font-size:150%;}.syntax{color:grey;}.string{color:#9A334F;}.number{color:#5C9632;}.boolean{color:#AA9739;}.key{color:#403075;}.keyword{color:#AA9739;}.object.syntax{color:#337AB7;}.array.syntax{color:#337AB7;}></style><div id=\"d13ae1ca-4d17-4842-ac2e-e849a84f46f0\"></div>"
      ]
     },
     "metadata": {},
     "output_type": "display_data"
    },
    {
     "data": {
      "application/javascript": [
       "require([\"https://rawgit.com/caldwell/renderjson/master/renderjson.js\"], function() {document.getElementById('d13ae1ca-4d17-4842-ac2e-e849a84f46f0').appendChild(renderjson.set_show_to_level(2)({\"text\": \"RT @HuffPostJapan: \\u3010 #\\u30c8\\u30e9\\u30f3\\u30d7 \\u5927\\u7d71\\u9818\\u3011\\u30df\\u30b5\\u30a4\\u30eb\\u5b9f\\u9a13\\u3092\\u5b9f\\u884c\\u3057\\u305f #\\u30a4\\u30e9\\u30f3 \\u306b\\u65b0\\u305f\\u306a\\u7d4c\\u6e08\\u5236\\u88c1 \\u3067\\u30821\\u5e74\\u524d\\u306e\\u5236\\u88c1\\u3068\\u5185\\u5bb9\\u307b\\u307c\\u540c\\u3058\\nhttps://t.co/VpvVlSzB80\", \"hashtags\": [{\"text\": \"\\u30c8\\u30e9\\u30f3\\u30d7\"}, {\"text\": \"\\u30a4\\u30e9\\u30f3\"}, {\"text\": \"\\u30df\\u30b5\\u30a4\\u30eb\"}], \"retweet_count\": 8}))});"
      ]
     },
     "metadata": {},
     "output_type": "display_data"
    },
    {
     "data": {
      "text/plain": [
       "{ \"text\" : \"RT @HuffPostJapan: 【 #トランプ 大統領】ミサイル実験を実行した #イラン に新たな経済制裁 でも1年前の制裁と内容ほぼ同じ\\nhttps://t.co/VpvVlSzB80\", \"hashtags\" : [ { \"text\" : \"トランプ\" }, { \"text\" : \"イラン\" }, { \"text\" : \"ミサイル\" } ], \"retweet_count\" : 8 }"
      ]
     },
     "execution_count": 53,
     "metadata": {},
     "output_type": "execute_result"
    }
   ],
   "source": [
    "db.tweets.find({'text': {$regex : 'RT'}},\n",
    "               {'_id': 0, 'text': 1, 'retweet_count': 1, 'hashtags': 1})"
   ]
  },
  {
   "cell_type": "markdown",
   "metadata": {},
   "source": [
    "仮にこのツイートがリツイートされて、`retweet_count`に1を足したい場合は以下のコマンドを実行すればいいです:"
   ]
  },
  {
   "cell_type": "code",
   "execution_count": 50,
   "metadata": {
    "collapsed": false
   },
   "outputs": [
    {
     "data": {
      "text/html": [
       "<style>a.disclosure:link{text-decoration:none;}a.disclosure:visited{text-decoration:none;}.disclosure{color:#337AB7;font-size:150%;}.syntax{color:grey;}.string{color:#9A334F;}.number{color:#5C9632;}.boolean{color:#AA9739;}.key{color:#403075;}.keyword{color:#AA9739;}.object.syntax{color:#337AB7;}.array.syntax{color:#337AB7;}></style><div id=\"2b164817-5366-4b95-8a12-4283918d5ea0\"></div>"
      ]
     },
     "metadata": {},
     "output_type": "display_data"
    },
    {
     "data": {
      "application/javascript": [
       "require([\"https://rawgit.com/caldwell/renderjson/master/renderjson.js\"], function() {document.getElementById('2b164817-5366-4b95-8a12-4283918d5ea0').appendChild(renderjson.set_show_to_level(2)({\"acknowledged\": true, \"matchedCount\": 1, \"modifiedCount\": 1}))});"
      ]
     },
     "metadata": {},
     "output_type": "display_data"
    },
    {
     "data": {
      "text/plain": [
       "{ \"acknowledged\" : true, \"matchedCount\" : 1, \"modifiedCount\" : 1 }"
      ]
     },
     "execution_count": 50,
     "metadata": {},
     "output_type": "execute_result"
    }
   ],
   "source": [
    "db.tweets.updateOne({'text': {$regex : 'RT'}},\n",
    "                    {$inc : {'retweet_count': 1}})"
   ]
  },
  {
   "cell_type": "markdown",
   "metadata": {},
   "source": [
    "先程の`find`コマンドをもう一回実行すると`retweet_count`が増えていることがわかります。\n",
    "\n",
    "このよう場合は`find`で現在の`retweet_count`を取得して、`$set`でそれを変更することも可能ですが、`$inc`の方が一回の操作で済みます。また、`updateMany`で複数のドキュメントを同時に更新するときは`find`+`$set`より遥かに便利であることが想像できるかと思います。"
   ]
  },
  {
   "cell_type": "markdown",
   "metadata": {},
   "source": [
    "- **`$push`**\n",
    "\n",
    "Twitter上でツイート本文を変更することはできないですが、仮にできたとして、先程のツイートの本文をの「ミサイル」という単語が「#ミサイル」というハッシュタグに変更されたとしましょう。その場合は`hashtags`フィールドの配列に`{'text': 'ミサイル'}`を追加することになるのですが、そのような操作は下記のように`$push`コマンドを使います: \n"
   ]
  },
  {
   "cell_type": "code",
   "execution_count": 52,
   "metadata": {
    "collapsed": false
   },
   "outputs": [
    {
     "data": {
      "text/html": [
       "<style>a.disclosure:link{text-decoration:none;}a.disclosure:visited{text-decoration:none;}.disclosure{color:#337AB7;font-size:150%;}.syntax{color:grey;}.string{color:#9A334F;}.number{color:#5C9632;}.boolean{color:#AA9739;}.key{color:#403075;}.keyword{color:#AA9739;}.object.syntax{color:#337AB7;}.array.syntax{color:#337AB7;}></style><div id=\"e16d3250-09bd-487f-9c60-680337c1c0c1\"></div>"
      ]
     },
     "metadata": {},
     "output_type": "display_data"
    },
    {
     "data": {
      "application/javascript": [
       "require([\"https://rawgit.com/caldwell/renderjson/master/renderjson.js\"], function() {document.getElementById('e16d3250-09bd-487f-9c60-680337c1c0c1').appendChild(renderjson.set_show_to_level(2)({\"acknowledged\": true, \"matchedCount\": 1, \"modifiedCount\": 1}))});"
      ]
     },
     "metadata": {},
     "output_type": "display_data"
    },
    {
     "data": {
      "text/plain": [
       "{ \"acknowledged\" : true, \"matchedCount\" : 1, \"modifiedCount\" : 1 }"
      ]
     },
     "execution_count": 52,
     "metadata": {},
     "output_type": "execute_result"
    }
   ],
   "source": [
    "db.tweets.updateOne({'text': {$regex : 'RT'}},\n",
    "                    {$push: {'hashtags': {'text': 'ミサイル'}}})"
   ]
  },
  {
   "cell_type": "markdown",
   "metadata": {},
   "source": [
    "先程の`find`コマンドをもう一回実行すると`hashtags`の配列に新しい要素が追加されたことがわかります。"
   ]
  },
  {
   "cell_type": "markdown",
   "metadata": {},
   "source": [
    "#### Upsert\n",
    "\n",
    "`updateOne`と`updateMany`の3つ目のパラメータはオプション用([表2](#table2)を参照）ですが、最も使うオプションの一つは`upsert`というものです。Upsertとは「update」と「insert」の造語でそれをオンにすると、検索クエリにマッチしたドキュメントがあれば場合はそのドキュメントを更新し、無ければドキュメントを挿入します。\n",
    "\n",
    "これまでツイッターデータを使っていましたが、今回はある会社の社員名簿を扱っているとしましょう。そして、「Taro Mongo」という社員のメールアドレスを設定するため、以下のコマンドを考えます。"
   ]
  },
  {
   "cell_type": "code",
   "execution_count": 54,
   "metadata": {
    "collapsed": false
   },
   "outputs": [
    {
     "data": {
      "text/html": [
       "<style>a.disclosure:link{text-decoration:none;}a.disclosure:visited{text-decoration:none;}.disclosure{color:#337AB7;font-size:150%;}.syntax{color:grey;}.string{color:#9A334F;}.number{color:#5C9632;}.boolean{color:#AA9739;}.key{color:#403075;}.keyword{color:#AA9739;}.object.syntax{color:#337AB7;}.array.syntax{color:#337AB7;}></style><div id=\"cc3b872b-dbcd-447c-acad-35bc9fbff29f\"></div>"
      ]
     },
     "metadata": {},
     "output_type": "display_data"
    },
    {
     "data": {
      "application/javascript": [
       "require([\"https://rawgit.com/caldwell/renderjson/master/renderjson.js\"], function() {document.getElementById('cc3b872b-dbcd-447c-acad-35bc9fbff29f').appendChild(renderjson.set_show_to_level(2)({\"acknowledged\": true, \"matchedCount\": 0, \"modifiedCount\": 0}))});"
      ]
     },
     "metadata": {},
     "output_type": "display_data"
    },
    {
     "data": {
      "text/plain": [
       "{ \"acknowledged\" : true, \"matchedCount\" : 0, \"modifiedCount\" : 0 }"
      ]
     },
     "execution_count": 54,
     "metadata": {},
     "output_type": "execute_result"
    }
   ],
   "source": [
    "db.contacts.updateOne({'name': 'Taro Mongo'},\n",
    "                      {'$set': {'email': 'taro.mongo@mongodb.com'}})"
   ]
  },
  {
   "cell_type": "markdown",
   "metadata": {},
   "source": [
    "ここで、シェルの出力を見ると、フィルタ`{'name': 'Taro Mongo'}`にマッチしたドキュメントがなかったため、更新が行われなかったことがわかります。とろこが、`{'upsert': true}`を使うと:"
   ]
  },
  {
   "cell_type": "code",
   "execution_count": 55,
   "metadata": {
    "collapsed": false
   },
   "outputs": [
    {
     "data": {},
     "metadata": {},
     "output_type": "display_data"
    },
    {
     "data": {},
     "metadata": {},
     "output_type": "display_data"
    },
    {
     "data": {
      "text/plain": [
       "{\r\n",
       "\t\"acknowledged\" : true,\r\n",
       "\t\"matchedCount\" : 0,\r\n",
       "\t\"modifiedCount\" : 0,\r\n",
       "\t\"upsertedId\" : ObjectId(\"592a14b1ba2311f8d6976561\")\r\n",
       "}"
      ]
     },
     "execution_count": 55,
     "metadata": {},
     "output_type": "execute_result"
    }
   ],
   "source": [
    "db.contacts.updateOne({'name': 'Taro Mongo'},\n",
    "                      {'$set': {'email': 'taro.mongo@mongodb.com'}},\n",
    "                      {'upsert': true})"
   ]
  },
  {
   "cell_type": "markdown",
   "metadata": {},
   "source": [
    "ドキュメントが挿入されます。それを確認すると、フィルタとアップデートドキュメントを合成したようなドキュメントになっていることが分かります。"
   ]
  },
  {
   "cell_type": "code",
   "execution_count": 56,
   "metadata": {
    "collapsed": false
   },
   "outputs": [
    {
     "data": {
      "text/html": [
       "<style>a.disclosure:link{text-decoration:none;}a.disclosure:visited{text-decoration:none;}.disclosure{color:#337AB7;font-size:150%;}.syntax{color:grey;}.string{color:#9A334F;}.number{color:#5C9632;}.boolean{color:#AA9739;}.key{color:#403075;}.keyword{color:#AA9739;}.object.syntax{color:#337AB7;}.array.syntax{color:#337AB7;}></style><div id=\"bc4dfb82-03d7-4ef9-bbe7-6b355b764b0b\"></div>"
      ]
     },
     "metadata": {},
     "output_type": "display_data"
    },
    {
     "data": {
      "application/javascript": [
       "require([\"https://rawgit.com/caldwell/renderjson/master/renderjson.js\"], function() {document.getElementById('bc4dfb82-03d7-4ef9-bbe7-6b355b764b0b').appendChild(renderjson.set_show_to_level(2)([{\"_id\": {\"$oid\": \"592a14b1ba2311f8d6976561\"}, \"name\": \"Taro Mongo\", \"email\": \"taro.mongo@mongodb.com\"}]))});"
      ]
     },
     "metadata": {},
     "output_type": "display_data"
    },
    {
     "data": {
      "text/plain": [
       "{ \"_id\" : ObjectId(\"592a14b1ba2311f8d6976561\"), \"name\" : \"Taro Mongo\", \"email\" : \"taro.mongo@mongodb.com\" }"
      ]
     },
     "execution_count": 56,
     "metadata": {},
     "output_type": "execute_result"
    }
   ],
   "source": [
    "db.contacts.find()"
   ]
  },
  {
   "cell_type": "markdown",
   "metadata": {},
   "source": [
    "#### 複数のドキュメントを扱う場合"
   ]
  },
  {
   "cell_type": "markdown",
   "metadata": {},
   "source": [
    "これまでは`updateOne`だけを使って、常に一つだけのドキュメントを更新する例を示してきましたが、`updateMany`は`updateOne`とほぼ全く同じように使います。例えば、Twitterデータセットにすべてのツイートに既読(`read`)フィールドを追加したい場合は以下のようにすればいいです:"
   ]
  },
  {
   "cell_type": "code",
   "execution_count": 58,
   "metadata": {
    "collapsed": false
   },
   "outputs": [
    {
     "data": {
      "text/html": [
       "<style>a.disclosure:link{text-decoration:none;}a.disclosure:visited{text-decoration:none;}.disclosure{color:#337AB7;font-size:150%;}.syntax{color:grey;}.string{color:#9A334F;}.number{color:#5C9632;}.boolean{color:#AA9739;}.key{color:#403075;}.keyword{color:#AA9739;}.object.syntax{color:#337AB7;}.array.syntax{color:#337AB7;}></style><div id=\"dc0c89fd-c50e-4905-a1e8-55bf053ad1fe\"></div>"
      ]
     },
     "metadata": {},
     "output_type": "display_data"
    },
    {
     "data": {
      "application/javascript": [
       "require([\"https://rawgit.com/caldwell/renderjson/master/renderjson.js\"], function() {document.getElementById('dc0c89fd-c50e-4905-a1e8-55bf053ad1fe').appendChild(renderjson.set_show_to_level(2)({\"acknowledged\": true, \"matchedCount\": 1, \"modifiedCount\": 1}))});"
      ]
     },
     "metadata": {},
     "output_type": "display_data"
    },
    {
     "data": {
      "text/plain": [
       "{ \"acknowledged\" : true, \"matchedCount\" : 1, \"modifiedCount\" : 1 }"
      ]
     },
     "execution_count": 58,
     "metadata": {},
     "output_type": "execute_result"
    }
   ],
   "source": [
    "db.tweets.updateOne({}, {$set: {'test': true}})"
   ]
  },
  {
   "cell_type": "markdown",
   "metadata": {},
   "source": [
    ">**注意**: Mongoシェル上では`updateOne`や`updateMany`以外に単に`update`というのもありますが、現在のMongo v3.4ではPythonのpymongoをはじめ、多くの言語のドライバでは**非推奨**(deprecated)扱いになっています。また、使い方によっては`update`が`replaceOne`のように振る舞ってしまう場合があり、紛らわしいので、`insert`と同様に使わない方が無難でしょう。"
   ]
  },
  {
   "cell_type": "markdown",
   "metadata": {},
   "source": [
    "### 7.3.4 データの削除 (Delete)\n",
    "\n",
    "CRUD操作の最後の「delete」ですが、CRUDの4操作の中最も単純なものです。`deleteOne`と`deleteMany`がとるパラメータはフィルタのみです。例えば、全ての日本語のツイートを削除コマンドを実行すると:"
   ]
  },
  {
   "cell_type": "code",
   "execution_count": 60,
   "metadata": {
    "collapsed": false
   },
   "outputs": [
    {
     "data": {
      "text/html": [
       "<style>a.disclosure:link{text-decoration:none;}a.disclosure:visited{text-decoration:none;}.disclosure{color:#337AB7;font-size:150%;}.syntax{color:grey;}.string{color:#9A334F;}.number{color:#5C9632;}.boolean{color:#AA9739;}.key{color:#403075;}.keyword{color:#AA9739;}.object.syntax{color:#337AB7;}.array.syntax{color:#337AB7;}></style><div id=\"4755a190-15f9-42f7-b96d-a20df09d0dcb\"></div>"
      ]
     },
     "metadata": {},
     "output_type": "display_data"
    },
    {
     "data": {
      "application/javascript": [
       "require([\"https://rawgit.com/caldwell/renderjson/master/renderjson.js\"], function() {document.getElementById('4755a190-15f9-42f7-b96d-a20df09d0dcb').appendChild(renderjson.set_show_to_level(2)({\"acknowledged\": true, \"deletedCount\": 3}))});"
      ]
     },
     "metadata": {},
     "output_type": "display_data"
    },
    {
     "data": {
      "text/plain": [
       "{ \"acknowledged\" : true, \"deletedCount\" : 3 }"
      ]
     },
     "execution_count": 60,
     "metadata": {},
     "output_type": "execute_result"
    }
   ],
   "source": [
    "db.tweets.deleteMany({'lang': 'ja'})"
   ]
  },
  {
   "cell_type": "markdown",
   "metadata": {},
   "source": [
    "念のため、日本語ツイートの数を確認すると:"
   ]
  },
  {
   "cell_type": "code",
   "execution_count": 61,
   "metadata": {
    "collapsed": false
   },
   "outputs": [
    {
     "data": {},
     "metadata": {},
     "output_type": "display_data"
    },
    {
     "data": {},
     "metadata": {},
     "output_type": "display_data"
    },
    {
     "data": {
      "text/plain": [
       "0"
      ]
     },
     "execution_count": 61,
     "metadata": {},
     "output_type": "execute_result"
    }
   ],
   "source": [
    "db.tweets.find({'lang': 'ja'}).count()"
   ]
  },
  {
   "cell_type": "markdown",
   "metadata": {},
   "source": [
    "空フィルタで`deleteMany`を実行すれば、そのコレクションのすべてのドキュメントが削除されますが、単にコレクションを丸ごと削除したい場合は実は`drop`というメッソドの方が早いです。[表2](#table2)にあるように、`drop`はパラメータを取らないので、今までのツイートをすべて消すには以下のコマンドを実行します:"
   ]
  },
  {
   "cell_type": "code",
   "execution_count": 62,
   "metadata": {
    "collapsed": false
   },
   "outputs": [
    {
     "data": {
      "text/html": [
       "<style>a.disclosure:link{text-decoration:none;}a.disclosure:visited{text-decoration:none;}.disclosure{color:#337AB7;font-size:150%;}.syntax{color:grey;}.string{color:#9A334F;}.number{color:#5C9632;}.boolean{color:#AA9739;}.key{color:#403075;}.keyword{color:#AA9739;}.object.syntax{color:#337AB7;}.array.syntax{color:#337AB7;}></style><div id=\"911f3ce1-9a31-4b65-8fab-5a2023bbb473\"></div>"
      ]
     },
     "metadata": {},
     "output_type": "display_data"
    },
    {
     "data": {
      "application/javascript": [
       "require([\"https://rawgit.com/caldwell/renderjson/master/renderjson.js\"], function() {document.getElementById('911f3ce1-9a31-4b65-8fab-5a2023bbb473').appendChild(renderjson.set_show_to_level(2)(true))});"
      ]
     },
     "metadata": {},
     "output_type": "display_data"
    },
    {
     "data": {
      "text/plain": [
       "true"
      ]
     },
     "execution_count": 62,
     "metadata": {},
     "output_type": "execute_result"
    }
   ],
   "source": [
    "db.tweets.drop()"
   ]
  },
  {
   "cell_type": "markdown",
   "metadata": {},
   "source": [
    "また、`drop`を使う場合、ドキュメントだけではなく、コレクションに付随されるインデックス等のメタデータもすべて削除されます。"
   ]
  },
  {
   "cell_type": "markdown",
   "metadata": {},
   "source": [
    ">**注意**: Mongoシェル上では`deleteOne`や`deleteMany`以外に単に`remove`というのもありますが、現在のMongo v3.4ではPythonのpymongoをはじめ、多くの言語のドライバでは**非推奨**(deprecated)扱いになっていますので、`insert`と同様に使わない方が無難でしょう。"
   ]
  },
  {
   "cell_type": "markdown",
   "metadata": {},
   "source": [
    "### 7.3.5 データの集計\n",
    "\n",
    "MongoDBで集計処理を行う方法は3つあります。\n",
    "\n",
    "1. **単一目的操作**:\n",
    "これまでみてきたような`db.collection.count()`等の一つのコレクションのみを操作対象とする簡易集計です。便利な方法ですが、その反面、高度な集計操作には向いていません。\n",
    "1. **Aggregationフレームワーク**:\n",
    "UNIXと似たようなパイプラインの概念を用いて、ドキュメントに対して順番にいくつかの操作を行い、最終的に集計ドキュメントを出力します。SQLでいうGROUP BYやWHERE構文に相当します。検索と更新と同じように、特殊な演算子を使って操作します。\n",
    "1. **MapReduce機能**:\n",
    "Map関数およびReduce関数を独自に定義し，集計処理を行う方法です。集計パイプラインではできないような複雑な集計処理を行うために使用されます。直接Javascriptの関数を書く必要があるのと、上級者向けであることから、本節では省略します。\n",
    "\n",
    "本節では集計パイプラインを中心に紹介します。"
   ]
  },
  {
   "cell_type": "markdown",
   "metadata": {},
   "source": [
    "#### データベース再構築\n",
    "\n",
    "[7.3.4節](#7.3.4-データの削除-&#40;Delete&#41;)でTwitterデータセットのデータをすべて削除してしまいましたが、本節ではツイートデータをファイルから挿入します。ターミナルを開いて以下のコマンドを実行してください\n",
    "```\n",
    "$ cd /root/userspace/chapters\n",
    "$ mongoimport --db twitter --collection tweets --file mongo_data/tweets.json --host mongo1\n",
    "```\n",
    "\n",
    "以下のコマンドを実行して、データが正しく挿入されたことを確認してください。結果が**576**であればデータ次に進んでください。"
   ]
  },
  {
   "cell_type": "code",
   "execution_count": 5,
   "metadata": {
    "collapsed": false
   },
   "outputs": [
    {
     "data": {},
     "metadata": {},
     "output_type": "display_data"
    },
    {
     "data": {},
     "metadata": {},
     "output_type": "display_data"
    },
    {
     "data": {
      "text/plain": [
       "switched to db twitter"
      ]
     },
     "execution_count": 5,
     "metadata": {},
     "output_type": "execute_result"
    }
   ],
   "source": [
    "use twitter"
   ]
  },
  {
   "cell_type": "code",
   "execution_count": 6,
   "metadata": {
    "collapsed": false
   },
   "outputs": [
    {
     "data": {
      "text/html": [
       "<style>a.disclosure:link{text-decoration:none;}a.disclosure:visited{text-decoration:none;}.disclosure{color:#337AB7;font-size:150%;}.syntax{color:grey;}.string{color:#9A334F;}.number{color:#5C9632;}.boolean{color:#AA9739;}.key{color:#403075;}.keyword{color:#AA9739;}.object.syntax{color:#337AB7;}.array.syntax{color:#337AB7;}></style><div id=\"74909d82-ef0b-4a91-9212-e7f63c536c10\"></div>"
      ]
     },
     "metadata": {},
     "output_type": "display_data"
    },
    {
     "data": {
      "application/javascript": [
       "require([\"https://rawgit.com/caldwell/renderjson/master/renderjson.js\"], function() {document.getElementById('74909d82-ef0b-4a91-9212-e7f63c536c10').appendChild(renderjson.set_show_to_level(2)(586))});"
      ]
     },
     "metadata": {},
     "output_type": "display_data"
    },
    {
     "data": {
      "text/plain": [
       "586"
      ]
     },
     "execution_count": 6,
     "metadata": {},
     "output_type": "execute_result"
    }
   ],
   "source": [
    "db.tweets.count()"
   ]
  },
  {
   "cell_type": "markdown",
   "metadata": {},
   "source": [
    "なお、MongoDBのバックアップツール等に関しては[7.4.3節](#7.4.3-データのバックアップ・エクスポート)で説明します。\n"
   ]
  },
  {
   "cell_type": "markdown",
   "metadata": {
    "collapsed": true
   },
   "source": [
    "#### 集計パイプラインの概要\n",
    "\n",
    "Aggregationフレームワークでは、コレクション内のドキュメントを変換および結合を繰り返すことで、欲しい集計データを取得します。 フィルタリング、プロジェクション、グループ化、並べ替え、リミット、スキップ等の変換・結合操作をパイプラインのようにつないでいくことで処理を行います。後ほど紹介しますが、これらの変換・結合操作を行うには**Aggregationフレームワーク演算子**を使います。\n",
    "\n",
    "たとえば、Twitterデータセットで最も多く使われた言語を知りたい場合、以下のパイプラインを考えます:\n",
    "1. 各ツイートの言語を取得\n",
    "1. ツイートを言語毎にグループ化して各言語のツイートの数を数える\n",
    "1. ツイートが多い言語の順に並び替える\n",
    "1. 上位5言語のみを表示"
   ]
  },
  {
   "cell_type": "markdown",
   "metadata": {},
   "source": [
    "上記の各操作は集計パイプラインにおける一つの**ステージ**に相当します。各ステージでデータに何らかの変換・結合操作を行い、その結果を次のステージの入力として渡します。各ステージの入力ドキュメント数と出力ドキュメント数は必ずしも一致する必要がないです。一般的にドキュメント数を減らしていきますが、ドキュメント数が増えるステージもありえます。\n",
    "\n",
    "各ステージは一つだけの**ステージ演算子**(stage operator)をフィールドに持ち、そのフィールドの値に**パイプライン表現**と呼ばれる特殊なドキュメントを持ちます。パイプライン表現ではこれまでみてきたようなクエリドキュメントやプロジェクションドキュメントに似たようなドキュメントが使われます。\n",
    "\n",
    "それでは、上記の4ステップの操作をAggregationフレームワークで書くと以下のようになります:"
   ]
  },
  {
   "cell_type": "code",
   "execution_count": 7,
   "metadata": {
    "collapsed": false
   },
   "outputs": [
    {
     "data": {
      "text/html": [
       "<style>a.disclosure:link{text-decoration:none;}a.disclosure:visited{text-decoration:none;}.disclosure{color:#337AB7;font-size:150%;}.syntax{color:grey;}.string{color:#9A334F;}.number{color:#5C9632;}.boolean{color:#AA9739;}.key{color:#403075;}.keyword{color:#AA9739;}.object.syntax{color:#337AB7;}.array.syntax{color:#337AB7;}></style><div id=\"5a49b6da-1940-4d81-a9cf-f2af525a842e\"></div>"
      ]
     },
     "metadata": {},
     "output_type": "display_data"
    },
    {
     "data": {
      "application/javascript": [
       "require([\"https://rawgit.com/caldwell/renderjson/master/renderjson.js\"], function() {document.getElementById('5a49b6da-1940-4d81-a9cf-f2af525a842e').appendChild(renderjson.set_show_to_level(2)([{\"_id\": \"en\", \"count\": 428}, {\"_id\": \"fr\", \"count\": 87}, {\"_id\": \"ja\", \"count\": 57}, {\"_id\": \"es\", \"count\": 4}, {\"_id\": \"und\", \"count\": 3}]))});"
      ]
     },
     "metadata": {},
     "output_type": "display_data"
    },
    {
     "data": {
      "text/plain": [
       "{ \"_id\" : \"en\", \"count\" : 428 }\r\n",
       "{ \"_id\" : \"fr\", \"count\" : 87 }\r\n",
       "{ \"_id\" : \"ja\", \"count\" : 57 }\r\n",
       "{ \"_id\" : \"es\", \"count\" : 4 }\r\n",
       "{ \"_id\" : \"und\", \"count\" : 3 }"
      ]
     },
     "execution_count": 7,
     "metadata": {},
     "output_type": "execute_result"
    }
   ],
   "source": [
    "db.tweets.aggregate([{$project: {\"lang\": 1}},\n",
    "                     {$group: {\"_id\": \"$lang\", \"count\" : {\"$sum\" : 1}}},\n",
    "                     {$sort: {\"count\": -1}},\n",
    "                     {$limit: 5}\n",
    "])"
   ]
  },
  {
   "cell_type": "markdown",
   "metadata": {},
   "source": [
    "これで最も多い言語は英語で421ものツイートがあることがあります。\n",
    "\n",
    "また、例えば、英語のツイートの中でハッシュタグの数毎にツイートをグループ化して、グループ毎の合計ツイート数を求めたい場合は以下のようになります:"
   ]
  },
  {
   "cell_type": "code",
   "execution_count": 10,
   "metadata": {
    "collapsed": false
   },
   "outputs": [
    {
     "data": {
      "text/html": [
       "<style>a.disclosure:link{text-decoration:none;}a.disclosure:visited{text-decoration:none;}.disclosure{color:#337AB7;font-size:150%;}.syntax{color:grey;}.string{color:#9A334F;}.number{color:#5C9632;}.boolean{color:#AA9739;}.key{color:#403075;}.keyword{color:#AA9739;}.object.syntax{color:#337AB7;}.array.syntax{color:#337AB7;}></style><div id=\"bc51dd9f-41d3-4b12-86ed-ca808e855893\"></div>"
      ]
     },
     "metadata": {},
     "output_type": "display_data"
    },
    {
     "data": {
      "application/javascript": [
       "require([\"https://rawgit.com/caldwell/renderjson/master/renderjson.js\"], function() {document.getElementById('bc51dd9f-41d3-4b12-86ed-ca808e855893').appendChild(renderjson.set_show_to_level(2)([{\"_id\": 0, \"count\": 362}, {\"_id\": 1, \"count\": 33}, {\"_id\": 2, \"count\": 9}, {\"_id\": 3, \"count\": 12}, {\"_id\": 4, \"count\": 6}, {\"_id\": 5, \"count\": 4}, {\"_id\": 8, \"count\": 2}]))});"
      ]
     },
     "metadata": {},
     "output_type": "display_data"
    },
    {
     "data": {
      "text/plain": [
       "{ \"_id\" : 0, \"count\" : 362 }\r\n",
       "{ \"_id\" : 1, \"count\" : 33 }\r\n",
       "{ \"_id\" : 2, \"count\" : 9 }\r\n",
       "{ \"_id\" : 3, \"count\" : 12 }\r\n",
       "{ \"_id\" : 4, \"count\" : 6 }\r\n",
       "{ \"_id\" : 5, \"count\" : 4 }\r\n",
       "{ \"_id\" : 8, \"count\" : 2 }"
      ]
     },
     "execution_count": 10,
     "metadata": {},
     "output_type": "execute_result"
    }
   ],
   "source": [
    "db.tweets.aggregate([{$match: {\"lang\": \"en\"}},\n",
    "                     {$project: {\"num_hashtags\": {$size: \"$hashtags\"}}},\n",
    "                     {$group: {\"_id\": \"$num_hashtags\", \"count\" : {$sum : 1}}},\n",
    "                     {$sort: {\"_id\": 1}}\n",
    "                    ])"
   ]
  },
  {
   "cell_type": "markdown",
   "metadata": {},
   "source": [
    "英語のツイートの中でその大半にあたる357ツイートにはハッシュタグが付いていないことがわかります。"
   ]
  },
  {
   "cell_type": "markdown",
   "metadata": {},
   "source": [
    "上記の2つの例でいくつかの新しい演算子が登場したので、順番に説明していきます:\n",
    "\n",
    "- **`$project`**<br>\n",
    "データ検索におけるプロジェクションドキュメントに似ていますが、検索のように単純にフィールドを選ぶだけではなく、フィールドを改名したり、**表現演算子**を使っていくつかの操作を加えたりできます。`$<フィールド名`>という表記を使うことで、入力ドキュメントにおけるそのフィールドの値に対して表現演算子の操作を行うことができます。<br>\n",
    "具体的には上記の1つ目の例では、単純なフィールド選択しかしていませんが、2つ目の例では、`{$project: {\"num_hashtags\": {$size: \"$hashtags\"}}}`で`num_hashtags`という新しいフィールドを作り、その中身を`$hashtags`の配列の長さにしています。他に様々な数字操作や文字列操作が可能です（[⇗公式ドキュメンテーション](https://docs.mongodb.com/manual/reference/operator/aggregation/#expression-operators))。\n",
    "<br><br>\n",
    "- **`$group`**<br>\n",
    "SQLでいう`GROUP BY`に非常に似ており、`_id`フィールドで指定した（一つもしくは複数の）フィールドに対してグループ化を行った上で、定義する他の新フィールドで**アキュムレータ**と呼ばれる種類の演算子を使って、集計操作を行います。上記の2つの例では、`count`という新フィールドを定義し、（ツイート毎に1を足すことで）ツイートの合計数を求めています。他に下記の例で示す配列に操作を行ったり、最大値・最小値等を求めたりなど、様々な操作が可能です。\n",
    "<br><br>\n",
    "- **`$sort`**<br>\n",
    "[7.3.2.1節](#7.3.2.1-カーソル操作)でみた`sort`カーソルメッソドと同じ操作です。`1`で昇順、`-1`で降順にドキュメントを整列します。\n",
    "<br><br>\n",
    "- **`$limit`**<br>\n",
    "[7.3.2.1節](#7.3.2.1-カーソル操作)でみた`limit`カーソルメッソドと同じ操作です。次のステージの渡すドキュメント数を指定した数だけに制限します。\n",
    "<br><br>\n",
    "- **`$match`**<br>\n",
    "データ検索におけるクエリドキュメントとほぼ同じで、クエリで使える演算子もそのまま使えます。上記の2つめの例で、次のステージに渡すドキュメントを言語が英語であるものだけに制限するのに使っています。集計パイプラインにおいて、次のステージで処理するドキュメント数を減らすために、できるだけ早い段階で`$match`を使うことがよいとされています。\n",
    "<br><br>\n",
    "- **`$size`**<br>\n",
    "配列の要素の数を返します。\n",
    "<br><br>\n",
    "- **`$sum`**<br>\n",
    "数値の和を返します。非数値の値は無視されます。"
   ]
  },
  {
   "cell_type": "markdown",
   "metadata": {},
   "source": [
    "上記の2つの例では最終的に数値を求めましたが、Aggregationフレームワークは他に様々な用途に使えます。例えば、ハッシュタグを言語毎にグループ化するのは次のように行います:"
   ]
  },
  {
   "cell_type": "code",
   "execution_count": 11,
   "metadata": {
    "collapsed": false
   },
   "outputs": [
    {
     "data": {
      "text/html": [
       "<style>a.disclosure:link{text-decoration:none;}a.disclosure:visited{text-decoration:none;}.disclosure{color:#337AB7;font-size:150%;}.syntax{color:grey;}.string{color:#9A334F;}.number{color:#5C9632;}.boolean{color:#AA9739;}.key{color:#403075;}.keyword{color:#AA9739;}.object.syntax{color:#337AB7;}.array.syntax{color:#337AB7;}></style><div id=\"bd2a3b06-9ceb-4946-b682-5c71fef21dda\"></div>"
      ]
     },
     "metadata": {},
     "output_type": "display_data"
    },
    {
     "data": {
      "application/javascript": [
       "require([\"https://rawgit.com/caldwell/renderjson/master/renderjson.js\"], function() {document.getElementById('bd2a3b06-9ceb-4946-b682-5c71fef21dda').appendChild(renderjson.set_show_to_level(2)([{\"_id\": \"de\", \"hashtags\": [\"Trump\", \"MarineLyon\"]}, {\"_id\": \"fr\", \"hashtags\": [\"discrimination\", \"Hollande\", \"MarineLePen\", \"LePen\", \"Macron\", \"nichols\", \"Rediff\", \"larry\", \"Louvres\", \"Monde\", \"fraud\", \"voter\", \"Islam\", \"Trump\", \"hillary\", \"AFP\", \"trump\"]}, {\"_id\": \"ja\", \"hashtags\": [\"TRUMP\", \"\\u5357\\u4eac\\u5927\\u8650\\u6bba\", \"\\u30a2\\u30d1\\u30db\\u30c6\\u30eb\", \"\\u30a2\\u30e1\\u30ea\\u30ab\\u5927\\u7d71\\u9818\\u9078\", \"\\u30c8\\u30e9\\u30f3\\u30d7\", \"\\u30a4\\u30e9\\u30f3\", \"LGBT\", \"\\u4e2d\\u56fd\", \"\\u30b4\\u30eb\\u30d5\"]}, {\"_id\": \"en\", \"hashtags\": [\"Zangeneh\", \"Iran\", \"RefugeesWelcome\", \"hungary\", \"SuperBowl\", \"MuslimBanprotest\", \"LGBT\", \"AmericaLast\", \"TrumpFirst\", \"alternativefacts\", \"KellyAnneConway\", \"SCOTUS\", \"tcot\", \"Islam\", \"IsabellaL\\u00f6vin\", \"NeilGorsuch\", \"BREXIT\", \"Trumble\", \"SoCalledPresident\", \"\\u30c8\\u30e9\\u30f3\\u30d7\", \"Australia\", \"auspol\", \"AMJoy\", \"TrumpsAmerica\", \"Nordstrom\", \"MuslimBan\", \"Japan\", \"Merkel\", \"climatechange\", \"proposal\", \"Empire\", \"EDM\", \"WTI\", \"aircraft\", \"Trump\", \"\\u30a2\\u30e1\\u30ea\\u30ab\\u7b2c\\u4e00\\u4e3b\\u7fa9\", \"soros\", \"7News\", \"gasoline\", \"Boeing\", \"PJNET\", \"AmericaFirst\", \"IvankaTrump\", \"PeopleOfTheResistance\", \"border\", \"Brent\", \"POTUS\", \"NGO\", \"cringe\", \"price\", \"tax\", \"trump\", \"DonaldTrump\", \"FUCKUSHIMA\", \"PresidentBannon\", \"FLOTUS\", \"TheResistance\", \"SNL\", \"SeanSpicer\", \"TrumpBan\", \"Stonewall\", \"ExtremeVetting\", \"3Novices\", \"\\u30c8\\u30e9\\u30f3\\u30d7\\u5f53\\u9078\", \"USA\", \"DNCForum\", \"GrabYourWallet\", \"American\", \"Germany\"]}]))});"
      ]
     },
     "metadata": {},
     "output_type": "display_data"
    },
    {
     "data": {
      "text/plain": [
       "{ \"_id\" : \"de\", \"hashtags\" : [ \"Trump\", \"MarineLyon\" ] }\r\n",
       "{ \"_id\" : \"fr\", \"hashtags\" : [ \"discrimination\", \"Hollande\", \"MarineLePen\", \"LePen\", \"Macron\", \"nichols\", \"Rediff\", \"larry\", \"Louvres\", \"Monde\", \"fraud\", \"voter\", \"Islam\", \"Trump\", \"hillary\", \"AFP\", \"trump\" ] }\r\n",
       "{ \"_id\" : \"ja\", \"hashtags\" : [ \"TRUMP\", \"南京大虐殺\", \"アパホテル\", \"アメリカ大統領選\", \"トランプ\", \"イラン\", \"LGBT\", \"中国\", \"ゴルフ\" ] }\r\n",
       "{ \"_id\" : \"en\", \"hashtags\" : [ \"Zangeneh\", \"Iran\", \"RefugeesWelcome\", \"hungary\", \"SuperBowl\", \"MuslimBanprotest\", \"LGBT\", \"AmericaLast\", \"TrumpFirst\", \"alternativefacts\", \"KellyAnneConway\", \"SCOTUS\", \"tcot\", \"Islam\", \"IsabellaLövin\", \"NeilGorsuch\", \"BREXIT\", \"Trumble\", \"SoCalledPresident\", \"トランプ\", \"Australia\", \"auspol\", \"AMJoy\", \"TrumpsAmerica\", \"Nordstrom\", \"MuslimBan\", \"Japan\", \"Merkel\", \"climatechange\", \"proposal\", \"Empire\", \"EDM\", \"WTI\", \"aircraft\", \"Trump\", \"アメリカ第一主義\", \"soros\", \"7News\", \"gasoline\", \"Boeing\", \"PJNET\", \"AmericaFirst\", \"IvankaTrump\", \"PeopleOfTheResistance\", \"border\", \"Brent\", \"POTUS\", \"NGO\", \"cringe\", \"price\", \"tax\", \"trump\", \"DonaldTrump\", \"FUCKUSHIMA\", \"PresidentBannon\", \"FLOTUS\", \"TheResistance\", \"SNL\", \"SeanSpicer\", \"TrumpBan\", \"Stonewall\", \"ExtremeVetting\", \"3Novices\", \"トランプ当選\", \"USA\", \"DNCForum\", \"GrabYourWallet\", \"American\", \"Germany\" ] }"
      ]
     },
     "execution_count": 11,
     "metadata": {},
     "output_type": "execute_result"
    }
   ],
   "source": [
    "db.tweets.aggregate([{$project: {\"hashtag\": \"$hashtags.text\", \"lang\": 1}},\n",
    "                     {$unwind: \"$hashtag\"},                    \n",
    "                     {$group: {\"_id\": \"$lang\", \"hashtags\": {$addToSet: '$hashtag'}}},\n",
    "                    ])"
   ]
  },
  {
   "cell_type": "markdown",
   "metadata": {},
   "source": [
    "上記の例で新しくが登場した演算子を説明します:\n",
    "\n",
    "- **`$unwind`**<br>\n",
    "配列の各ドキュメントを別々のドキュメントに変換します。このステージ操作では一般的に出力ドキュメント数は入力ドキュメント数より多くなる傾向があります。上記の例では、各ツイートの各ハッシュタグを新しいドキュメントに別けるのに使っています。\n",
    "<br><br>\n",
    "- **`$addToSet`**<br>\n",
    "グループ毎に指定したフィールドの値を集合配列にまとめます。数学的な意味での集合なので、重複値は無視され、出力配列における要素の順番をコントロールできます。"
   ]
  },
  {
   "cell_type": "markdown",
   "metadata": {},
   "source": [
    "Aggregationフレームワークを使うにあたって、パイプラインでエラーが出たら、ステージを一つずつ試していくことでデバッグできますので、下記の練習問題で困ったらそのテクニックを利用してみてください。\n",
    "\n",
    "集計用演算子は他にたくさんあるので、必要に応じて[公式ドキュメンテーション](https://docs.mongodb.com/manual/reference/operator/aggregation/)を参考にしてください。これまで紹介したAggregationフレームワーク演算子を以下の表にまとめました。"
   ]
  },
  {
   "cell_type": "markdown",
   "metadata": {},
   "source": [
    "<p id=\"table6\" style=\"text-align:center\">**表6: 本節で紹介したAggregationフレームワーク演算子**</p>\n",
    "\n",
    "| 演算子 | 種類 |\n",
    "| :-----:|:-----------:|\n",
    "|`$project`|ステージ演算子|\n",
    "|`$group`|ステージ演算子|\n",
    "|`$sort`|ステージ演算子|\n",
    "|`$limit`|ステージ演算子|\n",
    "|`$match`|ステージ演算子|\n",
    "|`$size`|表現演算子|\n",
    "|`$sum`|アキュムレータ|\n",
    "|`$unwind`|ステージ演算子|\n",
    "|`$addToSet`|アキュムレータ|\n"
   ]
  },
  {
   "cell_type": "markdown",
   "metadata": {},
   "source": [
    "**<練習問題2>**\n",
    "\n",
    "データセットに登場するすべてのハッシュタグをunwindし、数の多いものの順位に上位20ハッシュタグを求めよ。"
   ]
  },
  {
   "cell_type": "code",
   "execution_count": 34,
   "metadata": {
    "collapsed": false
   },
   "outputs": [
    {
     "data": {
      "text/html": [
       "<style>a.disclosure:link{text-decoration:none;}a.disclosure:visited{text-decoration:none;}.disclosure{color:#337AB7;font-size:150%;}.syntax{color:grey;}.string{color:#9A334F;}.number{color:#5C9632;}.boolean{color:#AA9739;}.key{color:#403075;}.keyword{color:#AA9739;}.object.syntax{color:#337AB7;}.array.syntax{color:#337AB7;}></style><div id=\"1ccc161f-d106-411b-b56d-d78bb45e05e3\"></div>"
      ]
     },
     "metadata": {},
     "output_type": "display_data"
    },
    {
     "data": {
      "application/javascript": [
       "require([\"https://rawgit.com/caldwell/renderjson/master/renderjson.js\"], function() {document.getElementById('1ccc161f-d106-411b-b56d-d78bb45e05e3').appendChild(renderjson.set_show_to_level(2)([{\"_id\": \"Trump\", \"count\": 37}, {\"_id\": \"\\u30c8\\u30e9\\u30f3\\u30d7\", \"count\": 19}, {\"_id\": \"AFP\", \"count\": 12}, {\"_id\": \"MuslimBan\", \"count\": 12}, {\"_id\": \"SNL\", \"count\": 10}, {\"_id\": \"Monde\", \"count\": 8}, {\"_id\": \"\\u30a4\\u30e9\\u30f3\", \"count\": 5}, {\"_id\": \"trump\", \"count\": 4}, {\"_id\": \"TrumpBan\", \"count\": 3}, {\"_id\": \"PresidentBannon\", \"count\": 3}, {\"_id\": \"auspol\", \"count\": 3}, {\"_id\": \"TrumpsAmerica\", \"count\": 3}, {\"_id\": \"POTUS\", \"count\": 3}, {\"_id\": \"MuslimBanprotest\", \"count\": 3}, {\"_id\": \"Rediff\", \"count\": 3}, {\"_id\": \"\\u30b4\\u30eb\\u30d5\", \"count\": 3}, {\"_id\": \"DNCForum\", \"count\": 3}, {\"_id\": \"aircraft\", \"count\": 2}, {\"_id\": \"WTI\", \"count\": 2}, {\"_id\": \"LGBT\", \"count\": 2}]))});"
      ]
     },
     "metadata": {},
     "output_type": "display_data"
    },
    {
     "data": {
      "text/plain": [
       "{ \"_id\" : \"Trump\", \"count\" : 37 }\r\n",
       "{ \"_id\" : \"トランプ\", \"count\" : 19 }\r\n",
       "{ \"_id\" : \"AFP\", \"count\" : 12 }\r\n",
       "{ \"_id\" : \"MuslimBan\", \"count\" : 12 }\r\n",
       "{ \"_id\" : \"SNL\", \"count\" : 10 }\r\n",
       "{ \"_id\" : \"Monde\", \"count\" : 8 }\r\n",
       "{ \"_id\" : \"イラン\", \"count\" : 5 }\r\n",
       "{ \"_id\" : \"trump\", \"count\" : 4 }\r\n",
       "{ \"_id\" : \"TrumpBan\", \"count\" : 3 }\r\n",
       "{ \"_id\" : \"PresidentBannon\", \"count\" : 3 }\r\n",
       "{ \"_id\" : \"auspol\", \"count\" : 3 }\r\n",
       "{ \"_id\" : \"TrumpsAmerica\", \"count\" : 3 }\r\n",
       "{ \"_id\" : \"POTUS\", \"count\" : 3 }\r\n",
       "{ \"_id\" : \"MuslimBanprotest\", \"count\" : 3 }\r\n",
       "{ \"_id\" : \"Rediff\", \"count\" : 3 }\r\n",
       "{ \"_id\" : \"ゴルフ\", \"count\" : 3 }\r\n",
       "{ \"_id\" : \"DNCForum\", \"count\" : 3 }\r\n",
       "{ \"_id\" : \"aircraft\", \"count\" : 2 }\r\n",
       "{ \"_id\" : \"WTI\", \"count\" : 2 }\r\n",
       "{ \"_id\" : \"LGBT\", \"count\" : 2 }"
      ]
     },
     "execution_count": 34,
     "metadata": {},
     "output_type": "execute_result"
    }
   ],
   "source": [
    "db.tweets.aggregate([{$project:{\"hashtag\":\"$hashtags.text\", \"lang\":\"$lang\"}}\n",
    ", {$unwind: \"$hashtag\"}\n",
    ", {$group :{\"_id\":\"$hashtag\", \"count\":{$sum:1}}}\n",
    ", {$sort : {\"count\":-1}}\n",
    ", {$limit : 20}\n",
    "])"
   ]
  },
  {
   "cell_type": "markdown",
   "metadata": {},
   "source": [
    "参考程度に、以下の対照表を載せておきます。"
   ]
  },
  {
   "cell_type": "markdown",
   "metadata": {},
   "source": [
    "\n",
    "<p id=\"table7\" style=\"text-align:center\">**表7: SQL構文/MongoDB演算子の関係**</p>\n",
    "\n",
    "| SQL構文 | MongoDB演算子 |\n",
    "| :----- |:-----------|\n",
    "|`WHERE`\t|`$match`|\n",
    "|`GROUP BY`\t|`$group`|\n",
    "|`HAVING`\t|`$match`|\n",
    "|`SELECT`\t|`$project`|\n",
    "|`ORDER BY`\t|`$sort`|\n",
    "|`LIMIT`\t|`$limit`|\n",
    "|`SUM()`\t|`$sum`|\n",
    "|`COUNT()`\t|`$sum`|\n",
    "|`join`\t\t|`$lookup`|"
   ]
  },
  {
   "cell_type": "markdown",
   "metadata": {},
   "source": [
    "***"
   ]
  },
  {
   "cell_type": "markdown",
   "metadata": {
    "collapsed": true
   },
   "source": [
    "## 7.4 MongoDBのパフォーマンス向上\n",
    "\n",
    "### 7.4.1 インデックス"
   ]
  },
  {
   "cell_type": "markdown",
   "metadata": {},
   "source": [
    "インデックスはMongoDBの検索・ソート等の操作が効率的に行われるための目次・索引のようなものです。 インデックスがなければ、MongoDBはどんなに簡単な検索でも、*colection scan*と呼ばれる操作を行わなければなりません。つまり、コレクション内のすべてのドキュメントをスキャンして、検索に一致するドキュメントのみを選択し、検索結果を返すことになります。 検索に適切なインデックスが存在する場合、MongoDBはそのインデックスを使用して、読み込み対象とするドキュメント数を制限することができます。\n",
    "\n",
    "RDBMSもそうですが、MongoDBではインデックスは内部的に[B-Tree](https://ja.wikipedia.org/wiki/B木)というデータ構造を使っており、探索時間は$O(\\log{}n)$です。単純なcollection scanの探索時間は$O(n)$なので、一般的にインデックスを用いた方が検索時間を圧倒的に早くします。ただし、[インデックスの注意点](#インデックスの注意点)で述べる例外もあるので、注意が必要です。"
   ]
  },
  {
   "cell_type": "markdown",
   "metadata": {},
   "source": [
    "#### インデックスの確認\n",
    "\n",
    "インデックスはコレクション毎に定義されていますが、これまで使ってきた`tweets`コレクション内のインデックスを確認するには[`getIndexes()`](https://docs.mongodb.com/manual/reference/method/db.collection.getIndexes/)を使います。"
   ]
  },
  {
   "cell_type": "code",
   "execution_count": 35,
   "metadata": {
    "collapsed": false
   },
   "outputs": [
    {
     "data": {
      "text/html": [
       "<style>a.disclosure:link{text-decoration:none;}a.disclosure:visited{text-decoration:none;}.disclosure{color:#337AB7;font-size:150%;}.syntax{color:grey;}.string{color:#9A334F;}.number{color:#5C9632;}.boolean{color:#AA9739;}.key{color:#403075;}.keyword{color:#AA9739;}.object.syntax{color:#337AB7;}.array.syntax{color:#337AB7;}></style><div id=\"6e6924ca-746f-4b0b-8066-230a624f14e2\"></div>"
      ]
     },
     "metadata": {},
     "output_type": "display_data"
    },
    {
     "data": {
      "application/javascript": [
       "require([\"https://rawgit.com/caldwell/renderjson/master/renderjson.js\"], function() {document.getElementById('6e6924ca-746f-4b0b-8066-230a624f14e2').appendChild(renderjson.set_show_to_level(2)([{\"v\": 2, \"key\": {\"_id\": 1}, \"name\": \"_id_\", \"ns\": \"twitter.tweets\"}]))});"
      ]
     },
     "metadata": {},
     "output_type": "display_data"
    },
    {
     "data": {
      "text/plain": [
       "[\r\n",
       "\t{\r\n",
       "\t\t\"v\" : 2,\r\n",
       "\t\t\"key\" : {\r\n",
       "\t\t\t\"_id\" : 1\r\n",
       "\t\t},\r\n",
       "\t\t\"name\" : \"_id_\",\r\n",
       "\t\t\"ns\" : \"twitter.tweets\"\r\n",
       "\t}\r\n",
       "]"
      ]
     },
     "execution_count": 35,
     "metadata": {},
     "output_type": "execute_result"
    }
   ],
   "source": [
    "db.tweets.getIndexes()"
   ]
  },
  {
   "cell_type": "markdown",
   "metadata": {},
   "source": [
    "まだ明示的にインデックスを作成していないので、コレクションにあるインデックスは自動的に作成される`_id`に対するインデックスのみです。上記の結果では、`name`はインデクスの名前、`v`はバージョン、`ns`はネームスペース（一般的に`<database>.<collection>`）、`key`はインデクスに含まれるフィールド名を表しています。\n",
    "\n",
    "インデックスはコレクションのデータと一緒に保存されるので、コレクションをdropしたら(`db.collection.drop()`)そのコレクションに付随されるインデックスも一緒に削除されます。また、ドキュメントを挿入・更新・削除したりするたびに、コレクションにあるインデックスも更新されます。コレクションは最大64インデックスまで持つことが可能です。"
   ]
  },
  {
   "cell_type": "markdown",
   "metadata": {},
   "source": [
    "#### 検索処理の詳細\n",
    "\n",
    "検索やソートがどのインデックスをどうやって使っているかを確認するにはきはカーソルメソッドの[`explain()`](https://docs.mongodb.com/manual/reference/method/cursor.explain/)を使います。早速使ってみましょう。"
   ]
  },
  {
   "cell_type": "code",
   "execution_count": null,
   "metadata": {
    "collapsed": true
   },
   "outputs": [],
   "source": [
    "// db.tweets.find({'lang': 'ja'}).explain(\"executionStats\")"
   ]
  },
  {
   "cell_type": "markdown",
   "metadata": {},
   "source": [
    "環境によって実行結果は少し変わるかもしれないので、事前に準備した以下のものを使って説明します（前セルの実行結果と似ているはずです）。"
   ]
  },
  {
   "cell_type": "raw",
   "metadata": {},
   "source": [
    "{\n",
    "\t\"queryPlanner\" : {\n",
    "\t\t\"plannerVersion\" : 1,\n",
    "\t\t\"namespace\" : \"twitter.tweets\",\n",
    "\t\t\"indexFilterSet\" : false,\n",
    "\t\t\"parsedQuery\" : {\n",
    "\t\t\t\"lang\" : {\n",
    "\t\t\t\t\"$eq\" : \"ja\"\n",
    "\t\t\t}\n",
    "\t\t},\n",
    "\t\t\"winningPlan\" : {\n",
    "\t\t\t\"stage\" : \"COLLSCAN\",\n",
    "\t\t\t\"filter\" : {\n",
    "\t\t\t\t\"lang\" : {\n",
    "\t\t\t\t\t\"$eq\" : \"ja\"\n",
    "\t\t\t\t}\n",
    "\t\t\t},\n",
    "\t\t\t\"direction\" : \"forward\"\n",
    "\t\t},\n",
    "\t\t\"rejectedPlans\" : [ ]\n",
    "\t},\n",
    "\t\"executionStats\" : {\n",
    "\t\t\"executionSuccess\" : true,\n",
    "\t\t\"nReturned\" : 55,\n",
    "\t\t\"executionTimeMillis\" : 56,\n",
    "\t\t\"totalKeysExamined\" : 0,\n",
    "\t\t\"totalDocsExamined\" : 576,\n",
    "\t\t\"executionStages\" : {\n",
    "\t\t\t\"stage\" : \"COLLSCAN\",\n",
    "\t\t\t\"filter\" : {\n",
    "\t\t\t\t\"lang\" : {\n",
    "\t\t\t\t\t\"$eq\" : \"ja\"\n",
    "\t\t\t\t}\n",
    "\t\t\t},\n",
    "\t\t\t\"nReturned\" : 55,\n",
    "\t\t\t\"executionTimeMillisEstimate\" : 0,\n",
    "\t\t\t\"works\" : 578,\n",
    "\t\t\t\"advanced\" : 55,\n",
    "\t\t\t\"needTime\" : 522,\n",
    "\t\t\t\"needYield\" : 0,\n",
    "\t\t\t\"saveState\" : 4,\n",
    "\t\t\t\"restoreState\" : 4,\n",
    "\t\t\t\"isEOF\" : 1,\n",
    "\t\t\t\"invalidates\" : 0,\n",
    "\t\t\t\"direction\" : \"forward\",\n",
    "\t\t\t\"docsExamined\" : 576\n",
    "\t\t}\n",
    "\t},\n",
    "\t\"serverInfo\" : {\n",
    "\t\t\"host\" : \"Gustavos-MacBook-Pro.local\",\n",
    "\t\t\"port\" : 27017,\n",
    "\t\t\"version\" : \"3.4.1\",\n",
    "\t\t\"gitVersion\" : \"5e103c4f5583e2566a45d740225dc250baacfbd7\"\n",
    "\t},\n",
    "\t\"ok\" : 1\n",
    "}"
   ]
  },
  {
   "cell_type": "markdown",
   "metadata": {},
   "source": [
    "検索を行うとき、MongoDBはコレクションにあるインデックスを見て、いくつかの検索戦略を立てます（上記ドキュメントの`queryPlanner`）。それらを検証し、最もいい戦略`winningPlan`を選び、実行にします。今回の場合は使えるインデックスがなかったので、最もいい戦略はcollection scan(`COLLSCAN`)を行うことです。\n",
    "\n",
    "実際実行された検索の詳細は`executionStats`にまとめられています。それを見ると、実行時間`executionTimeMillis`が56ミリ秒、スキャンさらたドキュメント数`totalDocsExamined`は576（すなわち、コレクションの全ドキュメント）であることが分かります。\n",
    "\n",
    "今回は取り扱っているのは1MB程度のデータセットなので、インデックスの必要性は低いと言えるかもしれませんが、例えばデータが10GB程度になれば、インデックスなしだと上記の検索が**数十秒**かかると考えられます。MongoDBは固定スキーマがないなど、比較的自由な開発が可能ですが、その反面、インデックスを事前にしっかりとした設計を行わないと期待するパフォーマンスを得ることが難しくなってしまいます。"
   ]
  },
  {
   "cell_type": "markdown",
   "metadata": {},
   "source": [
    ">**注意**: MongoDBは一旦collection scanを行うと、次の操作を高速化するために、スキャンされたドキュメントをメモリ上に残してしまいます。したがって、上記の`find`/`explain`をもう一度実行すれば、実行時間`executionTimeMillis`が0もしくはそれに近い値になると考えられます。パフォーマンスを検証する際は検索対象データが**メモリに載っていない**ことを保障するために、適宜に`mongo`インスタンスを再起動したり、データベースをドロップして再構築したりしてください（[⇗7.3.5節](#データベース再構築)）。"
   ]
  },
  {
   "cell_type": "markdown",
   "metadata": {},
   "source": [
    "#### インデックスの作成\n",
    "\n",
    "それでは先程の検索をより効率的にするために、[`createIndex`](https://docs.mongodb.com/manual/reference/method/db.collection.createIndex/#db.collection.createIndex)でインデックスを作成しましょう。"
   ]
  },
  {
   "cell_type": "code",
   "execution_count": null,
   "metadata": {
    "collapsed": true
   },
   "outputs": [],
   "source": [
    "db.tweets.createIndex({'lang': 1})"
   ]
  },
  {
   "cell_type": "markdown",
   "metadata": {},
   "source": [
    "ここでは、`lang`フィールドに対するSingleインデックスを作成しています。ここでは[ソート](#7.3.2.1-カーソル操作)と同様に`1`は値の順序を表しており、`1`なら昇順、`-1`なら降順となります。\n",
    "\n",
    "インデックスの作成はコレクションに入れる前でも、入れた後でも可能です。しかし、インデックスがあるコレクションに新しいドキュメントを挿入する際には、すべてのインデックスも更新しなかればならないため、インデックスがある分だけ挿入が少し遅くなります。また、今回の`tweets`コレクションは小さいので、瞬時にインデックスが作成されましたが、大きなコレクションのインデックスを作成する場合は時間がかかるため、インデックス作成している間にコレクションを他のスレッド・プロセスからもアクセス可能に保つ必要がある場合は`background`オプションを使うといいでしょう（[⇗公式ドキュメンテーション](https://docs.mongodb.com/manual/reference/method/db.collection.createIndex/#db.collection.createIndex)）。\n",
    "\n",
    "それでは、先程の検索をもう一回実行してみましょう（**注意**: 実行前には先程の注意欄のことを行ってください）。"
   ]
  },
  {
   "cell_type": "code",
   "execution_count": null,
   "metadata": {
    "collapsed": true,
    "scrolled": false
   },
   "outputs": [],
   "source": [
    "// db.tweets.find({'lang': 'ja'}).explain(\"executionStats\")"
   ]
  },
  {
   "cell_type": "markdown",
   "metadata": {},
   "source": [
    "ここでも、環境によって実行結果は少し変わるかもしれないので、事前に準備した以下のものを使って説明します。"
   ]
  },
  {
   "cell_type": "raw",
   "metadata": {},
   "source": [
    "{\n",
    "\t\"queryPlanner\" : {\n",
    "\t\t\"plannerVersion\" : 1,\n",
    "\t\t\"namespace\" : \"twitter.tweets\",\n",
    "\t\t\"indexFilterSet\" : false,\n",
    "\t\t\"parsedQuery\" : {\n",
    "\t\t\t\"lang\" : {\n",
    "\t\t\t\t\"$eq\" : \"ja\"\n",
    "\t\t\t}\n",
    "\t\t},\n",
    "\t\t\"winningPlan\" : {\n",
    "\t\t\t\"stage\" : \"FETCH\",\n",
    "\t\t\t\"inputStage\" : {\n",
    "\t\t\t\t\"stage\" : \"IXSCAN\",\n",
    "\t\t\t\t\"keyPattern\" : {\n",
    "\t\t\t\t\t\"lang\" : 1\n",
    "\t\t\t\t},\n",
    "\t\t\t\t\"indexName\" : \"lang_1\",\n",
    "\t\t\t\t\"isMultiKey\" : false,\n",
    "\t\t\t\t\"multiKeyPaths\" : {\n",
    "\t\t\t\t\t\"lang\" : [ ]\n",
    "\t\t\t\t},\n",
    "\t\t\t\t\"isUnique\" : false,\n",
    "\t\t\t\t\"isSparse\" : false,\n",
    "\t\t\t\t\"isPartial\" : false,\n",
    "\t\t\t\t\"indexVersion\" : 1,\n",
    "\t\t\t\t\"direction\" : \"forward\",\n",
    "\t\t\t\t\"indexBounds\" : {\n",
    "\t\t\t\t\t\"lang\" : [\n",
    "\t\t\t\t\t\t\"[\\\"ja\\\", \\\"ja\\\"]\"\n",
    "\t\t\t\t\t]\n",
    "\t\t\t\t}\n",
    "\t\t\t}\n",
    "\t\t},\n",
    "\t\t\"rejectedPlans\" : [ ]\n",
    "\t},\n",
    "\t\"executionStats\" : {\n",
    "\t\t\"executionSuccess\" : true,\n",
    "\t\t\"nReturned\" : 55,\n",
    "\t\t\"executionTimeMillis\" : 1,\n",
    "\t\t\"totalKeysExamined\" : 55,\n",
    "\t\t\"totalDocsExamined\" : 55,\n",
    "\t\t\"executionStages\" : {\n",
    "\t\t\t\"stage\" : \"FETCH\",\n",
    "\t\t\t\"nReturned\" : 55,\n",
    "\t\t\t\"executionTimeMillisEstimate\" : 0,\n",
    "\t\t\t\"works\" : 56,\n",
    "\t\t\t\"advanced\" : 55,\n",
    "\t\t\t\"needTime\" : 0,\n",
    "\t\t\t\"needYield\" : 0,\n",
    "\t\t\t\"saveState\" : 0,\n",
    "\t\t\t\"restoreState\" : 0,\n",
    "\t\t\t\"isEOF\" : 1,\n",
    "\t\t\t\"invalidates\" : 0,\n",
    "\t\t\t\"docsExamined\" : 55,\n",
    "\t\t\t\"alreadyHasObj\" : 0,\n",
    "\t\t\t\"inputStage\" : {\n",
    "\t\t\t\t\"stage\" : \"IXSCAN\",\n",
    "\t\t\t\t\"nReturned\" : 55,\n",
    "\t\t\t\t\"executionTimeMillisEstimate\" : 0,\n",
    "\t\t\t\t\"works\" : 56,\n",
    "\t\t\t\t\"advanced\" : 55,\n",
    "\t\t\t\t\"needTime\" : 0,\n",
    "\t\t\t\t\"needYield\" : 0,\n",
    "\t\t\t\t\"saveState\" : 0,\n",
    "\t\t\t\t\"restoreState\" : 0,\n",
    "\t\t\t\t\"isEOF\" : 1,\n",
    "\t\t\t\t\"invalidates\" : 0,\n",
    "\t\t\t\t\"keyPattern\" : {\n",
    "\t\t\t\t\t\"lang\" : 1\n",
    "\t\t\t\t},\n",
    "\t\t\t\t\"indexName\" : \"lang_1\",\n",
    "\t\t\t\t\"isMultiKey\" : false,\n",
    "\t\t\t\t\"multiKeyPaths\" : {\n",
    "\t\t\t\t\t\"lang\" : [ ]\n",
    "\t\t\t\t},\n",
    "\t\t\t\t\"isUnique\" : false,\n",
    "\t\t\t\t\"isSparse\" : false,\n",
    "\t\t\t\t\"isPartial\" : false,\n",
    "\t\t\t\t\"indexVersion\" : 1,\n",
    "\t\t\t\t\"direction\" : \"forward\",\n",
    "\t\t\t\t\"indexBounds\" : {\n",
    "\t\t\t\t\t\"lang\" : [\n",
    "\t\t\t\t\t\t\"[\\\"ja\\\", \\\"ja\\\"]\"\n",
    "\t\t\t\t\t]\n",
    "\t\t\t\t},\n",
    "\t\t\t\t\"keysExamined\" : 55,\n",
    "\t\t\t\t\"seeks\" : 1,\n",
    "\t\t\t\t\"dupsTested\" : 0,\n",
    "\t\t\t\t\"dupsDropped\" : 0,\n",
    "\t\t\t\t\"seenInvalidated\" : 0\n",
    "\t\t\t}\n",
    "\t\t}\n",
    "\t},\n",
    "\t\"serverInfo\" : {\n",
    "\t\t\"host\" : \"Gustavos-MacBook-Pro.local\",\n",
    "\t\t\"port\" : 27017,\n",
    "\t\t\"version\" : \"3.4.1\",\n",
    "\t\t\"gitVersion\" : \"5e103c4f5583e2566a45d740225dc250baacfbd7\"\n",
    "\t},\n",
    "\t\"ok\" : 1\n",
    "}"
   ]
  },
  {
   "cell_type": "markdown",
   "metadata": {
    "collapsed": true
   },
   "source": [
    "今回は`queryPlanner`を見てみると、`winningPlan`がいきなり`COLLSCAN`ではなく、`IXSCAN`すなわち、インデックスを使ったスキャンを行っていることがわかります。また、`executionStats`をみると、実行時間が前回の56ミリ秒から1ミリ秒に減っており、またスキャンさらたドキュメント数`totalDocsExamined`は前回の576から55に減っていることが分かります。\n",
    "\n",
    "今回は最も単純なSingleインデックスを使いましたが、MongoDBには以下の6種類のインデックスがあります。"
   ]
  },
  {
   "cell_type": "markdown",
   "metadata": {},
   "source": [
    "<p id=\"table8\" style=\"text-align:center\">**表8: インデックスの種類**</p>\n",
    "\n",
    "| インデックス | 説明 |\n",
    "| :----- |:-----------|\n",
    "|[Single](https://docs.mongodb.com/manual/core/index-single/)|一つのだけのフィールドに対するインデックス。<br>トップレベルだけでなく、埋め込みドキュメント内のフィールドもインデックス可能。|\n",
    "|[Compound](https://docs.mongodb.com/manual/core/index-compound/)|複数のフィールドに対するインデックス。<br>順序があるため、`{a: 1, b: 1}`と`{b: 1, a: 1}`ではインデックスの構造が異なる。|\n",
    "|[Multikey](https://docs.mongodb.com/manual/core/index-multikey/)|配列の要素に対するインデックス。|\n",
    "|[Geospatial](https://docs.mongodb.com/manual/applications/geospatial-indexes/)\t|[GeoJSON](http://geojson.org/)等の地理空間データを含むフィールドに対するインデックス。<br>`$near`等の[地理空間用のクエリ演算子](https://docs.mongodb.com/manual/reference/operator/query-geospatial/)を使った検索のときに使われる。|\n",
    "|[Text](https://docs.mongodb.com/manual/core/index-text/)|自然言語に対する全文検索用インデックス。<br>2017年2月現在は日本語には[対応していません](https://docs.mongodb.com/manual/reference/text-search-languages/#text-search-languages)。|\n",
    "|[Hased](https://docs.mongodb.com/manual/core/index-hashed/)|指定されたフィールドの値のハッシュ値を保存するインデックス。<br>主に[シャーディング](https://docs.mongodb.com/manual/sharding/)環境において、各クラスタの負荷を均一化するために使われています。|"
   ]
  },
  {
   "cell_type": "markdown",
   "metadata": {},
   "source": [
    "ここで、Multikeyインデックスの例として、各ツイート内のハッシュタッグに対するインデックスを作りましょう。"
   ]
  },
  {
   "cell_type": "code",
   "execution_count": null,
   "metadata": {
    "collapsed": true,
    "scrolled": false
   },
   "outputs": [],
   "source": [
    "db.tweets.createIndex({'hashtags.text': 1})"
   ]
  },
  {
   "cell_type": "markdown",
   "metadata": {},
   "source": [
    "上記のインデックスがSingleインデックスに見えるかもしれませんが、各ツイートの`hashtags`フィールドが配列であるため、Multikeyインデックスと分類されます。Singleインデックスでは、コレクション内の各ドキュメントはインデックスされたフィールドの値と1対1の関係にあるのに対し、Multikeyインデックスでは各ドキュメントはインデックスされたフィールドの値と1対$n$の関係にあります。今回のデータセットで説明すると、一つのツイートが同時に日本語と英語(すなわち、`lang`が**同時に**`ja`かつ`en`）であることは不可能ですが、同じツイートが複数のハッシュタグを含むことは可能です。\n",
    "\n",
    "配列要素を含むCompoundインデックス（すなわち、Compound兼Multikeyインデックス）を作成する際、配列に対するフィールドは一つまでと制限されています。それはインデックス自体のエントリー数が爆発的に増えないためです。\n",
    "\n",
    "それでは、`\"Trump\"`というハッシュタッグを含むドイツ語のツイートを検索しましょう。"
   ]
  },
  {
   "cell_type": "code",
   "execution_count": null,
   "metadata": {
    "collapsed": true,
    "scrolled": false
   },
   "outputs": [],
   "source": [
    "db.tweets.find({'hashtags.text': 'Trump', 'lang': 'de'}, {'user': 0})"
   ]
  },
  {
   "cell_type": "markdown",
   "metadata": {},
   "source": [
    "ここでは省略しますが、`explain`を使えば、MongoDBが2つのインデックス(`lang`に対するSingleインデックスと`hashtags.text`に対するMultikeyインデックス）を使う`queryPlan`を立てていることがわかります。また実際実行された検索では、`totalDocsExamined`が2つであることも確認できます。\n",
    "\n",
    ">**注意**: ネット上等でMongoDBは一つの検索・ソートでは基本的に一つのインデックスしか使えないという記述が多く見られますが、v2.6からは複数のインデックスの使用([Index Intersection](https://docs.mongodb.com/manual/core/index-intersection/))が可能になりました。\n"
   ]
  },
  {
   "cell_type": "markdown",
   "metadata": {},
   "source": [
    "**<練習問題3>**\n",
    "\n",
    "上記の検索に対して`explain`を使って、実際どのような検索が行われているかを調べてください。"
   ]
  },
  {
   "cell_type": "code",
   "execution_count": null,
   "metadata": {
    "collapsed": true
   },
   "outputs": [],
   "source": [
    "//ここでコードを書いたり、セルを追加したりしてください"
   ]
  },
  {
   "cell_type": "markdown",
   "metadata": {},
   "source": [
    "#### インデックスの属性\n",
    "\n",
    "インデックス作成時には、インデックスの挙動を変更するためのいくつかのオプションがあります。そららを以下の表にまとめます:"
   ]
  },
  {
   "cell_type": "markdown",
   "metadata": {},
   "source": [
    "<p id=\"table9\" style=\"text-align:center\">**表9: インデックスの属性**</p>\n",
    "\n",
    "| 属性 | 説明 |\n",
    "| :----- |:-----------|\n",
    "|[Unique](https://docs.mongodb.com/manual/core/index-unique/)|フィールドの値のユニーク性を保障。<br>重複値の挿入を不可にする。|\n",
    "|[Sparse](https://docs.mongodb.com/manual/core/index-sparse/) |対象フィールドを持っているドキュメントのみをインデックスする。<br>Uniqueと同時に使用可能で、インデックスの大きさを抑えるメリットがある。|\n",
    "|[Partial](https://docs.mongodb.com/manual/core/index-partial/) |特定のフィールドを持っているドキュメントのみをインデックスする。<br>新しくv3.2に導入され、Sparseインデックスの機能を拡張したもの。<br>現在、SparseよりPartialの使用が推奨される。|\n",
    "|[TTL](https://docs.mongodb.com/manual/core/index-ttl/)|特定の経過時間もしくは時刻にドキュメントを自動的に削除する。<br>ログデータ等の処理に便利。|"
   ]
  },
  {
   "cell_type": "markdown",
   "metadata": {},
   "source": [
    "Uniqueインデックスの例の一つは自動的に作成される`_id`に対するインデックスです。なお、重複の値が存在する状態でUniqueインデックスを作ろうとしたら、エラーが出るので、Uniqueインデックスを使用する際は事前に**挿入前**にインデックスを作ることを勧めます。以前は重複値をドロップすることは可能でしたが、v3.0以降それが不可能になっているので、注意が必要です。"
   ]
  },
  {
   "cell_type": "markdown",
   "metadata": {},
   "source": [
    "**<練習問題4>**\n",
    "\n",
    "すでに存在するドキュメント（ツイート）の`ObjectId`を使った新しいドキュメントを`tweets`コレクションに挿入してみて、`_id`に対するインデックスが確かにUniqueであることを確認してください。"
   ]
  },
  {
   "cell_type": "raw",
   "metadata": {},
   "source": [
    "//ここでコードを書いたり、セルを追加したりしてください"
   ]
  },
  {
   "cell_type": "markdown",
   "metadata": {},
   "source": [
    "#### インデックスの注意点\n",
    "\n",
    "インデックスは、取り扱っているコレクションの小さなサブセットを取得するときに最も効果的です。また、クエリによってはインデックスを使わない方が高速だったりします。一般的に、一つのクエリで取得するコレクションの割合が高ければ高いほど、インデックスの効率が低下します。\n",
    "\n",
    "インデックスを使うということは、2つの参照を行うことを意味します。一つ目はインデックス上のドキュメントへのポインタの参照で、二つ目はそのポインタからドキュメント自体への参照です。例えば、コレクション内のすべてのドキュメントを取得するようなインデックスを使ったクエリを考えましょう。そのクエリ実行にかかる時間は、collection scanに比べて、先程の一つ目の参照の分だけ増えるので、実はインデックスを使わない方が早いです。\n",
    "\n",
    "インデックスが性能向上につながるかどうかはドキュメント数、ドキュメントサイズ、検索の種類等、様々な要因に依存します。経験則から、検索クエリがコレクションの30％以上を返している場合は、collection scanの方が早い可能性は高くなるので、しっかり検索のパフォーマンスを調べるのが大事になってきます。"
   ]
  },
  {
   "cell_type": "markdown",
   "metadata": {},
   "source": [
    "#### インデックスのまとめ\n",
    "\n",
    "インデックスは奥が深く、データベースのパフォーマンスに直結します。また、インデックスの各種類・属性を正しく使うことで、本来クライアントサイドで実装しなければならない機能をデータベースサイドでできてしまったりします（例えば、TTLインデックスを使ったログ収集、Geospatialインデックスを作ったドキュメント間の距離を測定するなど）。\n",
    "\n",
    "小さなデートセットならインデックスのことをあまり心配せずに済むかもしれませんが、大量のデータを扱う場合の検索・ソート性能を向上させるには、自分のデータを理解し、適切なインデックス設計を行うことが大変重要です。"
   ]
  },
  {
   "cell_type": "markdown",
   "metadata": {
    "collapsed": true
   },
   "source": [
    "### 7.4.2 MongoDBの統計・メットリックス"
   ]
  },
  {
   "cell_type": "markdown",
   "metadata": {},
   "source": [
    "MongoDBを使って、たくさんのデータを書き込み・読み出したり、インデックスを作ったりしていると、データベースへの負荷や、コレクション・ドキュメント・インデックスがどれぐらいの容量を使っているかが気になります。\n",
    "\n",
    "そこで、MongoDBにはそれらの情報を調べるためのシェルコマンドやCLIツールがいくつか用意されています。"
   ]
  },
  {
   "cell_type": "markdown",
   "metadata": {},
   "source": [
    "#### シェルコマンド\n",
    "\n",
    "- **`db.serverStatus()`**: MongoDBに関する[多く](https://docs.mongodb.com/manual/reference/command/serverStatus/)のメットリックスをまとめたドキュメントを返します。\n",
    "- **`db.stats()`**: 選択中のデータベースのコレクション数、インデックス数、容量等の基本データを返します。\n",
    "- **`db.collection.stats()`**: 当該コレクションに関する[多く](https://docs.mongodb.com/manual/reference/command/collStats/#output)のメットリックスをまとめたドキュメントを返します。更に、`{'indexDetails': true}`というオプションを使うと、インデックスに関する詳細なデータも返します。\n",
    "\n",
    "試しに`db.stats()`を実行してみると、以下のような結果になります。"
   ]
  },
  {
   "cell_type": "code",
   "execution_count": 36,
   "metadata": {
    "collapsed": false
   },
   "outputs": [
    {
     "data": {
      "text/html": [
       "<style>a.disclosure:link{text-decoration:none;}a.disclosure:visited{text-decoration:none;}.disclosure{color:#337AB7;font-size:150%;}.syntax{color:grey;}.string{color:#9A334F;}.number{color:#5C9632;}.boolean{color:#AA9739;}.key{color:#403075;}.keyword{color:#AA9739;}.object.syntax{color:#337AB7;}.array.syntax{color:#337AB7;}></style><div id=\"932472be-369f-4bf0-8504-4a76c6c1b063\"></div>"
      ]
     },
     "metadata": {},
     "output_type": "display_data"
    },
    {
     "data": {
      "application/javascript": [
       "require([\"https://rawgit.com/caldwell/renderjson/master/renderjson.js\"], function() {document.getElementById('932472be-369f-4bf0-8504-4a76c6c1b063').appendChild(renderjson.set_show_to_level(2)({\"db\": \"twitter\", \"collections\": 1, \"views\": 0, \"objects\": 586, \"avgObjSize\": 2699.184300341297, \"dataSize\": 1581722, \"storageSize\": 753664, \"numExtents\": 0, \"indexes\": 1, \"indexSize\": 40960, \"ok\": 1}))});"
      ]
     },
     "metadata": {},
     "output_type": "display_data"
    },
    {
     "data": {
      "text/plain": [
       "{\r\n",
       "\t\"db\" : \"twitter\",\r\n",
       "\t\"collections\" : 1,\r\n",
       "\t\"views\" : 0,\r\n",
       "\t\"objects\" : 586,\r\n",
       "\t\"avgObjSize\" : 2699.184300341297,\r\n",
       "\t\"dataSize\" : 1581722,\r\n",
       "\t\"storageSize\" : 753664,\r\n",
       "\t\"numExtents\" : 0,\r\n",
       "\t\"indexes\" : 1,\r\n",
       "\t\"indexSize\" : 40960,\r\n",
       "\t\"ok\" : 1\r\n",
       "}"
      ]
     },
     "execution_count": 36,
     "metadata": {},
     "output_type": "execute_result"
    }
   ],
   "source": [
    "db.stats()"
   ]
  },
  {
   "cell_type": "markdown",
   "metadata": {},
   "source": [
    "上記の`storageSize`を見ると、こちらのデータセットが1MB未満の容量しか使っていないことがわかると思います。"
   ]
  },
  {
   "cell_type": "markdown",
   "metadata": {},
   "source": [
    "#### **<練習問題5>**\n",
    "\n",
    "上記に紹介したコマンドを実行し、どのような出力なのかを見てみてください。"
   ]
  },
  {
   "cell_type": "raw",
   "metadata": {},
   "source": [
    "//ここでコードを書いたり、セルを追加したりしてください"
   ]
  },
  {
   "cell_type": "markdown",
   "metadata": {},
   "source": [
    "\n",
    "#### CLIツール\n",
    "シェルで実行するコマンド以外に、`mongostat`と`mongotop`というCLIツールがあります\n",
    "\n",
    "- **`mongostat`**: MongoDBのリアルタイムパフォーマンスデータ（コネクション数、挿入数、検索数等々）を返します。 データベースの負荷が高いと思われるとき等に便利です。 \n",
    "\n",
    "- **`mongotop`**: MongoDBがコレクション毎に各CRUD操作（挿入、検索、更新、削除）に使っている時間を1秒毎に返します。UNIX系OSの`top`や`htop`に似ています。"
   ]
  },
  {
   "cell_type": "markdown",
   "metadata": {},
   "source": [
    "MongoDBのメットリクス等に興味がある読者は[公式ドキュメンテーション](https://docs.mongodb.com/manual/administration/monitoring/)を参考にしてください。"
   ]
  },
  {
   "cell_type": "markdown",
   "metadata": {},
   "source": [
    "### 7.4.3 データのバックアップ・エクスポート"
   ]
  },
  {
   "cell_type": "markdown",
   "metadata": {},
   "source": [
    "[7.3.5節](#7.3.5-データの集計)でも少し触れましたが、MongoDBのデータをファイルにバックアップ・エクスポートするCLIツールは以下のようなものがあります:"
   ]
  },
  {
   "cell_type": "markdown",
   "metadata": {},
   "source": [
    "<p id=\"table9\" style=\"text-align:center\">**表9: バックアップ用CLIツール**</p>\n",
    "\n",
    "| ツール | 説明 |\n",
    "| :----- |:-----------|\n",
    "| [`mongoexport`](https://docs.mongodb.com/manual/reference/program/mongoexport/)| テキスト形式(JSON/CSV)のエクスポート用\n",
    "| [`mongoimport`](https://docs.mongodb.com/manual/reference/program/mongoimport/)| テキスト形式(JSON/CSV)のインポート用\n",
    "| [`mongodump`](https://docs.mongodb.com/manual/reference/program/mongodump/)| バイナリ形式(BSON)のエクスポート用\n",
    "| [`mongorestore`](https://docs.mongodb.com/manual/reference/program/mongorestore/)| バイナリ形式(BSON)のインポート用"
   ]
  },
  {
   "cell_type": "markdown",
   "metadata": {},
   "source": [
    "基本的な使い方は以下の通りです:\n",
    "\n",
    "- バイナリデータエクスポート\n",
    "```\n",
    "mongodump --db <データベース名> --collection <コレクション名> <ディレクトリ>\n",
    "```\n",
    "\n",
    "- バイナリデータインポート\n",
    "```\n",
    "mongorestore --db <データベース名> --collection <コレクション名> <ディレクトリ>\n",
    "```"
   ]
  },
  {
   "cell_type": "markdown",
   "metadata": {},
   "source": [
    "詳しい使い方に関しては表9にリンクを参考にしてください。また、他のバックアップ方法については[公式ドキュメンテーション](https://docs.mongodb.com/manual/core/backups/)を参考にしてください。"
   ]
  }
 ],
 "metadata": {
  "anaconda-cloud": {},
  "kernelspec": {
   "display_name": "IMongo",
   "language": "",
   "name": "imongo"
  },
  "language_info": {
   "codemirror_mode": "shell",
   "file_extension": ".js",
   "mimetype": "text/x-mongodb",
   "name": "javascript"
  }
 },
 "nbformat": 4,
 "nbformat_minor": 1
}

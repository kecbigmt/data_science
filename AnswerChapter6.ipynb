{
 "cells": [
  {
   "cell_type": "markdown",
   "metadata": {},
   "source": [
    "# Chapter 6 練習と総合問題解答"
   ]
  },
  {
   "cell_type": "markdown",
   "metadata": {},
   "source": [
    "## 6.2 高度なSQL処理"
   ]
  },
  {
   "cell_type": "markdown",
   "metadata": {},
   "source": [
    "### 6.2.2 exist文、case文、自己結合の応用"
   ]
  },
  {
   "cell_type": "markdown",
   "metadata": {},
   "source": [
    "#### <練習問題 1>"
   ]
  },
  {
   "cell_type": "markdown",
   "metadata": {},
   "source": [
    "case文を使って部署毎にgender別の人数を集計してみましょう。(特に部署移動等は考慮しなくて良いです。)\n",
    "\n",
    "ヒント：case文をsum関数の中に記述できます。"
   ]
  },
  {
   "cell_type": "code",
   "execution_count": 3,
   "metadata": {
    "collapsed": false,
    "scrolled": false
   },
   "outputs": [
    {
     "name": "stdout",
     "output_type": "stream",
     "text": [
      "use employees; show tables;\n",
      "+---------------------+\r\n",
      "| Tables_in_employees |\r\n",
      "+---------------------+\r\n",
      "| departments         |\r\n",
      "| dept_emp            |\r\n",
      "| dept_manager        |\r\n",
      "| employees           |\r\n",
      "| salaries            |\r\n",
      "| titles              |\r\n",
      "+---------------------+\r\n",
      "6 rows in set (0.00 sec)\r\n",
      "\r\n"
     ]
    }
   ],
   "source": [
    "use employees;\n",
    "show tables;"
   ]
  },
  {
   "cell_type": "code",
   "execution_count": 16,
   "metadata": {
    "collapsed": false
   },
   "outputs": [
    {
     "name": "stdout",
     "output_type": "stream",
     "text": [
      "/*解答*/ select t2.dept_no ,sum(case when t.gender = 'M' then 1 else 0 end) MaleCount ,sum(case when t.gender = 'F' then 1 else 0 end) FemaleCount from employees.employees t left outer join employees.dept_emp t2 on t2.emp_no = t.emp_no group by t2.dept_no;\n",
      "+---------+-----------+-------------+\r\n",
      "| dept_no | MaleCount | FemaleCount |\r\n",
      "+---------+-----------+-------------+\r\n",
      "| d001    |     12174 |        8037 |\r\n",
      "| d002    |     10331 |        7015 |\r\n",
      "| d003    |     10711 |        7075 |\r\n",
      "| d004    |     43936 |       29549 |\r\n",
      "| d005    |     51449 |       34258 |\r\n",
      "| d006    |     12039 |        8078 |\r\n",
      "| d007    |     31391 |       20854 |\r\n",
      "| d008    |     12687 |        8439 |\r\n",
      "| d009    |     14132 |        9448 |\r\n",
      "+---------+-----------+-------------+\r\n",
      "9 rows in set (1.01 sec)\r\n",
      "\r\n"
     ]
    }
   ],
   "source": [
    "/*解答*/\n",
    "select \n",
    "\tt2.dept_no\n",
    "\t,sum(case when t.gender = 'M' then 1 else 0 end) MaleCount\n",
    "\t,sum(case when t.gender = 'F' then 1 else 0 end) FemaleCount\n",
    "from employees.employees t\n",
    "left outer join employees.dept_emp t2\n",
    "on t2.emp_no = t.emp_no\n",
    "group by t2.dept_no"
   ]
  },
  {
   "cell_type": "markdown",
   "metadata": {},
   "source": [
    "#### <練習問題 2>"
   ]
  },
  {
   "cell_type": "markdown",
   "metadata": {},
   "source": [
    "job titleの全ての組み合わせ（重複なし）を表示してみましょう。"
   ]
  },
  {
   "cell_type": "code",
   "execution_count": 28,
   "metadata": {
    "collapsed": false
   },
   "outputs": [
    {
     "name": "stdout",
     "output_type": "stream",
     "text": [
      "/*解答*/ select a.title,b.title from (select title from titles group by title) a, (select title from titles group by title) b where a.title > b.title;\n",
      "+------------------+--------------------+\r\n",
      "| title            | title              |\r\n",
      "+------------------+--------------------+\r\n",
      "| Engineer         | Assistant Engineer |\r\n",
      "| Manager          | Assistant Engineer |\r\n",
      "| Senior Engineer  | Assistant Engineer |\r\n",
      "| Senior Staff     | Assistant Engineer |\r\n",
      "| Staff            | Assistant Engineer |\r\n",
      "| Technique Leader | Assistant Engineer |\r\n",
      "| Manager          | Engineer           |\r\n",
      "| Senior Engineer  | Engineer           |\r\n",
      "| Senior Staff     | Engineer           |\r\n",
      "| Staff            | Engineer           |\r\n",
      "| Technique Leader | Engineer           |\r\n",
      "| Senior Engineer  | Manager            |\r\n",
      "| Senior Staff     | Manager            |\r\n",
      "| Staff            | Manager            |\r\n",
      "| Technique Leader | Manager            |\r\n",
      "| Senior Staff     | Senior Engineer    |\r\n",
      "| Staff            | Senior Engineer    |\r\n",
      "| Technique Leader | Senior Engineer    |\r\n",
      "| Staff            | Senior Staff       |\r\n",
      "| Technique Leader | Senior Staff       |\r\n",
      "| Technique Leader | Staff              |\r\n",
      "+------------------+--------------------+\r\n",
      "21 rows in set (0.87 sec)\r\n",
      "\r\n"
     ]
    }
   ],
   "source": [
    "/*解答*/\n",
    "select a.title,b.title \n",
    "from \n",
    "(select title from titles group by title) a,\n",
    "(select title from titles group by title) b\n",
    "where a.title > b.title"
   ]
  },
  {
   "cell_type": "markdown",
   "metadata": {},
   "source": [
    "21通りになっているのがわかります。"
   ]
  },
  {
   "cell_type": "markdown",
   "metadata": {},
   "source": [
    "#### <練習問題 3>"
   ]
  },
  {
   "cell_type": "markdown",
   "metadata": {},
   "source": [
    "exists文を使って部署毎に現在job titleがStaffである人数を集計してみましょう。なお、現在とは、to_dateが9999-01-01のことを指すとします。"
   ]
  },
  {
   "cell_type": "code",
   "execution_count": 14,
   "metadata": {
    "collapsed": false
   },
   "outputs": [
    {
     "name": "stdout",
     "output_type": "stream",
     "text": [
      "/*解答1*/ select dept_no,count(*) as staff_num from ( select * from (select * from dept_emp where to_date = '9999-01-01') c where exists ( select * from (select a.emp_no from titles a where title = 'staff' and a.to_date = '9999-01-01') b where c.emp_no = b.emp_no ) ) as staff_dept group by dept_no;\n",
      "+---------+-----------+\r\n",
      "| dept_no | staff_num |\r\n",
      "+---------+-----------+\r\n",
      "| d001    |      3551 |\r\n",
      "| d002    |      2891 |\r\n",
      "| d003    |      3073 |\r\n",
      "| d004    |       349 |\r\n",
      "| d005    |       315 |\r\n",
      "| d007    |      8903 |\r\n",
      "| d008    |      2870 |\r\n",
      "| d009    |      3574 |\r\n",
      "+---------+-----------+\r\n",
      "8 rows in set (2.36 sec)\r\n",
      "\r\n"
     ]
    }
   ],
   "source": [
    "/*解答1*/\n",
    "select dept_no,count(*) as staff_num from\n",
    "(\n",
    "select * from (select * from dept_emp where to_date = '9999-01-01') c\n",
    "where exists ( select * from \n",
    "(select a.emp_no from titles a where title = 'staff' and a.to_date = '9999-01-01') b\n",
    "where c.emp_no = b.emp_no )\n",
    ") as staff_dept\n",
    "group by dept_no;"
   ]
  },
  {
   "cell_type": "code",
   "execution_count": 29,
   "metadata": {
    "collapsed": false
   },
   "outputs": [
    {
     "name": "stdout",
     "output_type": "stream",
     "text": [
      "/*別解*/ select t2.dept_no,count(t.emp_no) from (select * from employees.titles where to_date = '9999-01-01' and title ='Staff' ) t left outer join (select * from employees.dept_emp where to_date = '9999-01-01') t2 on t.emp_no = t2.emp_no group by t2.dept_no;\n",
      "+---------+-----------------+\r\n",
      "| dept_no | count(t.emp_no) |\r\n",
      "+---------+-----------------+\r\n",
      "| d001    |            3551 |\r\n",
      "| d002    |            2891 |\r\n",
      "| d003    |            3073 |\r\n",
      "| d004    |             349 |\r\n",
      "| d005    |             315 |\r\n",
      "| d007    |            8903 |\r\n",
      "| d008    |            2870 |\r\n",
      "| d009    |            3574 |\r\n",
      "+---------+-----------------+\r\n",
      "8 rows in set (0.24 sec)\r\n",
      "\r\n"
     ]
    }
   ],
   "source": [
    "/*別解*/\n",
    "select t2.dept_no,count(t.emp_no)\n",
    "from (select * from employees.titles \n",
    "where to_date = '9999-01-01' and title ='Staff'\n",
    ") t\n",
    "left outer join \n",
    "(select * from employees.dept_emp \n",
    "where to_date = '9999-01-01') t2\n",
    "on t.emp_no = t2.emp_no\n",
    "group by t2.dept_no;"
   ]
  },
  {
   "cell_type": "markdown",
   "metadata": {},
   "source": [
    "### 6.2.3 外部結合の応用"
   ]
  },
  {
   "cell_type": "markdown",
   "metadata": {},
   "source": [
    "#### <練習問題 1>"
   ]
  },
  {
   "cell_type": "markdown",
   "metadata": {},
   "source": [
    "各従業員について、最大給料が70,000以下の人、70,000～80,000の人、80,000～90,000の人、90,000より多い人でクロス表を作成してみましょう。"
   ]
  },
  {
   "cell_type": "code",
   "execution_count": 30,
   "metadata": {
    "collapsed": false
   },
   "outputs": [
    {
     "name": "stdout",
     "output_type": "stream",
     "text": [
      "/*解答*/ select t.emp_no,max(t.salary), case when max(t.salary) <= 70000 then 'Yes' else '' end as `under70,000`, case when max(t.salary) >  70000 and max(t.salary) <= 80000 then 'Yes' else '' end as `from_70,000_to_80,000`, case when max(t.salary) >  80000 and max(t.salary) <= 90000 then 'Yes' else '' end as `from_80,000_to_90,000`, case when max(t.salary) >  90000 then 'Yes' else '' end as `over90,000` from employees.salaries t where t.salary group by t.emp_no limit 10;\n",
      "+--------+---------------+-------------+-----------------------+-----------------------+------------+\r\n",
      "| emp_no | max(t.salary) | under70,000 | from_70,000_to_80,000 | from_80,000_to_90,000 | over90,000 |\r\n",
      "+--------+---------------+-------------+-----------------------+-----------------------+------------+\r\n",
      "|  10001 |         88958 |             |                       | Yes                   |            |\r\n",
      "|  10002 |         72527 |             | Yes                   |                       |            |\r\n",
      "|  10003 |         43699 | Yes         |                       |                       |            |\r\n",
      "|  10004 |         74057 |             | Yes                   |                       |            |\r\n",
      "|  10005 |         94692 |             |                       |                       | Yes        |\r\n",
      "|  10006 |         60098 | Yes         |                       |                       |            |\r\n",
      "|  10007 |         88070 |             |                       | Yes                   |            |\r\n",
      "|  10008 |         52668 | Yes         |                       |                       |            |\r\n",
      "|  10009 |         94443 |             |                       |                       | Yes        |\r\n",
      "|  10010 |         80324 |             |                       | Yes                   |            |\r\n",
      "+--------+---------------+-------------+-----------------------+-----------------------+------------+\r\n",
      "10 rows in set (0.00 sec)\r\n",
      "\r\n"
     ]
    }
   ],
   "source": [
    "/*解答*/\n",
    "select t.emp_no,max(t.salary),\n",
    "case when max(t.salary) <= 70000 then 'Yes' else '' end as `under70,000`,\n",
    "case when max(t.salary) >  70000 and max(t.salary) <= 80000 then 'Yes' else '' end as `from_70,000_to_80,000`,\n",
    "case when max(t.salary) >  80000 and max(t.salary) <= 90000 then 'Yes' else '' end as `from_80,000_to_90,000`,\n",
    "case when max(t.salary) >  90000 then 'Yes' else '' end as `over90,000`\n",
    "from employees.salaries t\n",
    "where t.salary \n",
    "group by t.emp_no\n",
    "limit 10;"
   ]
  },
  {
   "cell_type": "markdown",
   "metadata": {},
   "source": [
    "#### <練習問題 2>"
   ]
  },
  {
   "cell_type": "markdown",
   "metadata": {},
   "source": [
    "最大の給料が100,000より多い人のうち、最小の給料が90,000以上の人の数を求めてみましょう。"
   ]
  },
  {
   "cell_type": "code",
   "execution_count": 17,
   "metadata": {
    "collapsed": false
   },
   "outputs": [
    {
     "name": "stdout",
     "output_type": "stream",
     "text": [
      "/*解答*/ select count(a.emp_no) from (select emp_no from employees.salaries t group by emp_no having max(salary) > 100000) a left outer join (select emp_no from employees.salaries t group by emp_no having min(salary) >= 90000) b on a.emp_no = b.emp_no where b.emp_no is not null;\n",
      "+-----------------+\r\n",
      "| count(a.emp_no) |\r\n",
      "+-----------------+\r\n",
      "|            4835 |\r\n",
      "+-----------------+\r\n",
      "1 row in set (2.42 sec)\r\n",
      "\r\n"
     ]
    }
   ],
   "source": [
    "/*解答*/\n",
    "select count(a.emp_no)\n",
    "from \n",
    "(select emp_no from employees.salaries t group by emp_no having max(salary) > 100000) a\n",
    "left outer join \n",
    "(select emp_no from employees.salaries t group by emp_no having min(salary) >= 90000) b\n",
    "on a.emp_no = b.emp_no\n",
    "where b.emp_no is not null"
   ]
  },
  {
   "cell_type": "markdown",
   "metadata": {},
   "source": [
    "## 6.3 ストアドプロシージャとスドアドファンクション\n",
    "ゴール：ストアドプロシージャについて操作できること"
   ]
  },
  {
   "cell_type": "markdown",
   "metadata": {},
   "source": [
    "### 6.3.1 ストアドプロシージャ"
   ]
  },
  {
   "cell_type": "markdown",
   "metadata": {},
   "source": [
    "#### <練習問題 1>"
   ]
  },
  {
   "cell_type": "markdown",
   "metadata": {},
   "source": [
    "次の処理を実行するストアド・プロシージャを作成して実行してみましょう。\n",
    "\n",
    "・meiboテーブルと同じ構造のテーブルmeibo3を作成\n",
    "\n",
    "・meiboテーブルのデータをmeibo3テーブルに挿入\n",
    "\n",
    "・meibo3テーブルにweightカラムを追加\n",
    "\n",
    "・引数で与えられたBMIとhighカラムの身長から体重を逆算してweightカラムに設定する（※BMI=体重(kg)÷(身長(m)×身長(m))\n",
    "\n",
    "・meibo3の内容を出力"
   ]
  },
  {
   "cell_type": "code",
   "execution_count": 1,
   "metadata": {
    "collapsed": false
   },
   "outputs": [
    {
     "name": "stdout",
     "output_type": "stream",
     "text": [
      "/*解答*/ /*データベース選択*/ use test1; /*これから作成するストアドプロシージャと同じ物があれば削除*/ drop procedure if exists practice1;\n",
      "\r\n",
      "Database changed\r\n",
      "Query OK, 0 rows affected, 1 warning (0.00 sec)\r\n",
      "\r\n"
     ]
    }
   ],
   "source": [
    "/*解答*/\n",
    "/*データベース選択*/\n",
    "use TEST1;\n",
    "/*これから作成するストアドプロシージャと同じ物があれば削除*/\n",
    "drop procedure if exists practice1;"
   ]
  },
  {
   "cell_type": "code",
   "execution_count": 2,
   "metadata": {
    "collapsed": false
   },
   "outputs": [
    {
     "name": "stdout",
     "output_type": "stream",
     "text": [
      "delimiter //;\n",
      "\r\n"
     ]
    }
   ],
   "source": [
    "delimiter //"
   ]
  },
  {
   "cell_type": "code",
   "execution_count": 3,
   "metadata": {
    "collapsed": false
   },
   "outputs": [
    {
     "name": "stdout",
     "output_type": "stream",
     "text": [
      "create procedure test1.practice1(in bmi int) begin /*これから作成するmeibo3テーブルが既にアレば削除*/ drop table if exists meibo3; /* meiboテーブルからテーブル構造をコピー*/ create table test1.meibo3 like test1.meibo; /* meiboテーブルからデータをコピー*/ insert into  meibo3 select * from meibo; /* weightカラムを作成*/ alter table test1.meibo3 add weight int null; /*引数で与えたBMIから体重を逆算*/ update test1.meibo3 set weight = pow(high/100,2) * bmi; /*meibo3の内容を出力*/ select * from meibo3; end //;\n",
      "\r\n",
      "Query OK, 0 rows affected (0.00 sec)\r\n",
      "\r\n"
     ]
    }
   ],
   "source": [
    "create procedure TEST1.practice1(in bmi int)\n",
    "begin\n",
    "/*これから作成するmeibo3テーブルが既にアレば削除*/\n",
    "drop table if exists meibo3; \n",
    "/* meiboテーブルからテーブル構造をコピー*/\n",
    "create table TEST1.meibo3 like test1.meibo;\n",
    "/* meiboテーブルからデータをコピー*/\n",
    "insert into  meibo3 select * from meibo;\n",
    "/* weightカラムを作成*/\n",
    "alter table TEST1.meibo3 add weight int null; \n",
    "/*引数で与えたBMIから体重を逆算*/\n",
    "update TEST1.meibo3 set weight = pow(high/100,2) * bmi;\n",
    "/*meibo3の内容を出力*/\n",
    "select * from meibo3;\n",
    "end\n",
    "//"
   ]
  },
  {
   "cell_type": "code",
   "execution_count": 4,
   "metadata": {
    "collapsed": false
   },
   "outputs": [
    {
     "name": "stdout",
     "output_type": "stream",
     "text": [
      "delimiter ;\n",
      "\r\n"
     ]
    }
   ],
   "source": [
    "delimiter ;"
   ]
  },
  {
   "cell_type": "code",
   "execution_count": 5,
   "metadata": {
    "collapsed": false
   },
   "outputs": [
    {
     "name": "stdout",
     "output_type": "stream",
     "text": [
      "call practice1(22);\n",
      "+-----+--------------+-------+------+------+--------+\r\n",
      "| id  | name         | class | age  | high | weight |\r\n",
      "+-----+--------------+-------+------+------+--------+\r\n",
      "|   1 | Yamada       |     1 |   14 |  150 |     50 |\r\n",
      "|   2 | Tanaka       |     2 |   13 |  150 |     50 |\r\n",
      "|   3 | Suzuki       |     1 |   13 |  150 |     50 |\r\n",
      "|   4 | Kato         |     2 |   15 |  150 |     50 |\r\n",
      "|   5 | Ito          |     3 |   12 |  155 |     53 |\r\n",
      "|   6 | Takeuchi     |     2 |   16 |  155 |     53 |\r\n",
      "|   7 | Kimura       |     3 |   11 |  160 |     56 |\r\n",
      "|   8 | Sato         |     7 |   14 |  160 |     56 |\r\n",
      "| 100 | dummy_Yamada |  NULL | NULL |  160 |     56 |\r\n",
      "| 200 | dummy_Tanaka |  NULL | NULL |  160 |     56 |\r\n",
      "| 300 | dummy_Sato   |  NULL | NULL |  160 |     56 |\r\n",
      "+-----+--------------+-------+------+------+--------+\r\n",
      "11 rows in set (0.03 sec)\r\n",
      "\r\n",
      "Query OK, 0 rows affected (0.03 sec)\r\n",
      "\r\n"
     ]
    }
   ],
   "source": [
    "call practice1(22);"
   ]
  },
  {
   "cell_type": "markdown",
   "metadata": {},
   "source": [
    "### 6.3.2 ストアドファンクション"
   ]
  },
  {
   "cell_type": "markdown",
   "metadata": {},
   "source": [
    "#### <練習問題 1>"
   ]
  },
  {
   "cell_type": "markdown",
   "metadata": {},
   "source": [
    "上記の例を参考に、meiboテーブルから平均身長を返す関数を作成して呼んでください。"
   ]
  },
  {
   "cell_type": "code",
   "execution_count": 1,
   "metadata": {
    "collapsed": false
   },
   "outputs": [
    {
     "name": "stdout",
     "output_type": "stream",
     "text": [
      "use test1; drop function if exists fc2;\n",
      "\r\n",
      "Database changed\r\n",
      "Query OK, 0 rows affected (0.00 sec)\r\n",
      "\r\n"
     ]
    }
   ],
   "source": [
    "use TEST1;\n",
    "drop function if exists fc2;"
   ]
  },
  {
   "cell_type": "code",
   "execution_count": 2,
   "metadata": {
    "collapsed": false,
    "scrolled": true
   },
   "outputs": [
    {
     "name": "stdout",
     "output_type": "stream",
     "text": [
      "delimiter //;\n",
      "\r\n"
     ]
    }
   ],
   "source": [
    "delimiter //"
   ]
  },
  {
   "cell_type": "code",
   "execution_count": 3,
   "metadata": {
    "collapsed": false
   },
   "outputs": [
    {
     "name": "stdout",
     "output_type": "stream",
     "text": [
      "create function fc2() returns double begin declare avgHigh double; select avg(high) into avgHigh from meibo; return avgHigh; end //;\n",
      "\r\n",
      "Query OK, 0 rows affected (0.00 sec)\r\n",
      "\r\n"
     ]
    }
   ],
   "source": [
    "create function fc2() returns double\n",
    "begin\n",
    "declare avgHigh double;\n",
    "select avg(high) into avgHigh from meibo;\n",
    "return avgHigh;\n",
    "end\n",
    "//"
   ]
  },
  {
   "cell_type": "code",
   "execution_count": 4,
   "metadata": {
    "collapsed": false
   },
   "outputs": [
    {
     "name": "stdout",
     "output_type": "stream",
     "text": [
      "delimiter ;\n",
      "\r\n"
     ]
    }
   ],
   "source": [
    "delimiter ;"
   ]
  },
  {
   "cell_type": "code",
   "execution_count": 5,
   "metadata": {
    "collapsed": false
   },
   "outputs": [
    {
     "name": "stdout",
     "output_type": "stream",
     "text": [
      "select fc2();\n",
      "+---------------+\r\n",
      "| fc2()         |\r\n",
      "+---------------+\r\n",
      "| 155.454545454 |\r\n",
      "+---------------+\r\n",
      "1 row in set (0.00 sec)\r\n",
      "\r\n"
     ]
    }
   ],
   "source": [
    "select fc2();"
   ]
  },
  {
   "cell_type": "markdown",
   "metadata": {},
   "source": [
    "#### <練習問題 2>"
   ]
  },
  {
   "cell_type": "markdown",
   "metadata": {},
   "source": [
    "MySQLはナノ秒の取扱ができません。時、分、秒、ナノ秒（小数点以下の秒）の4つの引数を与えると \"HH:MM:SS.sssssssss\"形式の文字列(varchar(18))を返す関数を作って実行してみましょう。\n",
    "\n",
    "ヒント：文字列の結合にはconcat関数が利用できます。"
   ]
  },
  {
   "cell_type": "code",
   "execution_count": 2,
   "metadata": {
    "collapsed": false
   },
   "outputs": [
    {
     "name": "stdout",
     "output_type": "stream",
     "text": [
      "use test1; drop function if exists getTime;\n",
      "\r\n",
      "Database changed\r\n",
      "Query OK, 0 rows affected (0.00 sec)\r\n",
      "\r\n"
     ]
    }
   ],
   "source": [
    "use TEST1;\n",
    "drop function if exists getTime;"
   ]
  },
  {
   "cell_type": "code",
   "execution_count": 3,
   "metadata": {
    "collapsed": false
   },
   "outputs": [
    {
     "name": "stdout",
     "output_type": "stream",
     "text": [
      "delimiter //;\n",
      "\r\n"
     ]
    }
   ],
   "source": [
    "delimiter //"
   ]
  },
  {
   "cell_type": "code",
   "execution_count": 4,
   "metadata": {
    "collapsed": false
   },
   "outputs": [
    {
     "name": "stdout",
     "output_type": "stream",
     "text": [
      "create function getTime(hour int,min int,sec int,nano_sec  varchar(9)) returns varchar(18) begin return concat(hour,\":\",min,\":\",sec,\".\",nano_sec); end //;\n",
      "\r\n",
      "Query OK, 0 rows affected (0.00 sec)\r\n",
      "\r\n"
     ]
    }
   ],
   "source": [
    "create function getTime(hour int,min int,sec int,nano_sec  varchar(9)) returns varchar(18)\n",
    "begin\n",
    "    return concat(hour,\":\",min,\":\",sec,\".\",nano_sec);\n",
    "end\n",
    "//"
   ]
  },
  {
   "cell_type": "code",
   "execution_count": 5,
   "metadata": {
    "collapsed": false
   },
   "outputs": [
    {
     "name": "stdout",
     "output_type": "stream",
     "text": [
      "delimiter ;\n",
      "\r\n"
     ]
    }
   ],
   "source": [
    "delimiter ;"
   ]
  },
  {
   "cell_type": "code",
   "execution_count": 6,
   "metadata": {
    "collapsed": false
   },
   "outputs": [
    {
     "name": "stdout",
     "output_type": "stream",
     "text": [
      "select getTime(10,35,25,123);\n",
      "+-----------------------+\r\n",
      "| getTime(10,35,25,123) |\r\n",
      "+-----------------------+\r\n",
      "| 10:35:25.123          |\r\n",
      "+-----------------------+\r\n",
      "1 row in set (0.00 sec)\r\n",
      "\r\n"
     ]
    }
   ],
   "source": [
    "select getTime(10,35,25,123);"
   ]
  },
  {
   "cell_type": "code",
   "execution_count": 7,
   "metadata": {
    "collapsed": false
   },
   "outputs": [
    {
     "name": "stdout",
     "output_type": "stream",
     "text": [
      "select getTime(10,35,25,'012345678');\n",
      "+-------------------------------+\r\n",
      "| getTime(10,35,25,'012345678') |\r\n",
      "+-------------------------------+\r\n",
      "| 10:35:25.012345678            |\r\n",
      "+-------------------------------+\r\n",
      "1 row in set (0.00 sec)\r\n",
      "\r\n"
     ]
    }
   ],
   "source": [
    "select getTime(10,35,25,'012345678');"
   ]
  },
  {
   "cell_type": "markdown",
   "metadata": {},
   "source": [
    "***"
   ]
  },
  {
   "cell_type": "markdown",
   "metadata": {},
   "source": [
    "## 6.4 インデクシングとSQLの高速化"
   ]
  },
  {
   "cell_type": "markdown",
   "metadata": {},
   "source": [
    "### 6.4.1 インデックスの設定\n",
    "キーワード：インデックス"
   ]
  },
  {
   "cell_type": "markdown",
   "metadata": {},
   "source": [
    "#### <練習問題 1>"
   ]
  },
  {
   "cell_type": "markdown",
   "metadata": {},
   "source": [
    "dept_empテーブルのfrom_date、to_dateに複合インデックスを設定してみましょう。"
   ]
  },
  {
   "cell_type": "code",
   "execution_count": 9,
   "metadata": {
    "collapsed": false
   },
   "outputs": [
    {
     "name": "stdout",
     "output_type": "stream",
     "text": [
      "/*データベースの選択とインデックスの確認をします*/ use employees; show index from dept_emp;\n",
      "+----------+------------+----------+--------------+-------------+-----------+-------------+----------+--------+------+------------+---------+---------------+\r\n",
      "| Table    | Non_unique | Key_name | Seq_in_index | Column_name | Collation | Cardinality | Sub_part | Packed | Null | Index_type | Comment | Index_comment |\r\n",
      "+----------+------------+----------+--------------+-------------+-----------+-------------+----------+--------+------+------------+---------+---------------+\r\n",
      "| dept_emp |          0 | PRIMARY  |            1 | emp_no      | A         |      299636 |     NULL | NULL   |      | BTREE      |         |               |\r\n",
      "| dept_emp |          0 | PRIMARY  |            2 | dept_no     | A         |      331143 |     NULL | NULL   |      | BTREE      |         |               |\r\n",
      "| dept_emp |          1 | emp_no   |            1 | emp_no      | A         |      300786 |     NULL | NULL   |      | BTREE      |         |               |\r\n",
      "| dept_emp |          1 | dept_no  |            1 | dept_no     | A         |           8 |     NULL | NULL   |      | BTREE      |         |               |\r\n",
      "+----------+------------+----------+--------------+-------------+-----------+-------------+----------+--------+------+------------+---------+---------------+\r\n",
      "4 rows in set (0.00 sec)\r\n",
      "\r\n"
     ]
    }
   ],
   "source": [
    "/*データベースの選択とインデックスの確認をします*/\n",
    "use employees;\n",
    "show index from dept_emp;"
   ]
  },
  {
   "cell_type": "code",
   "execution_count": null,
   "metadata": {
    "collapsed": true
   },
   "outputs": [],
   "source": [
    "/*解答*/\n",
    "create index from_to_date on dept_emp(from_date, to_date);"
   ]
  },
  {
   "cell_type": "code",
   "execution_count": null,
   "metadata": {
    "collapsed": true
   },
   "outputs": [],
   "source": [
    "/*確認*/\n",
    "show index from dept_emp;"
   ]
  },
  {
   "cell_type": "markdown",
   "metadata": {},
   "source": [
    "## 6.6 総合問題"
   ]
  },
  {
   "cell_type": "markdown",
   "metadata": {},
   "source": [
    "### 6.6.1 総合問題1\n",
    "\n",
    "以下のデータベースを使って、次の問題を考えて実行してみましょう。\n",
    "\n",
    "https://dev.mysql.com/doc/sakila/en/"
   ]
  },
  {
   "cell_type": "markdown",
   "metadata": {},
   "source": [
    "(1) 支払金額の総額が100ドル以上の顧客名と支払総額を表示してください。"
   ]
  },
  {
   "cell_type": "markdown",
   "metadata": {},
   "source": [
    "(2) (1)の結果を新しいテーブルに格納するストアド・プロシージャを作成してください。ただし、支払総額の閾値は引数で指定できるようにしてください。"
   ]
  },
  {
   "cell_type": "code",
   "execution_count": 10,
   "metadata": {
    "collapsed": false
   },
   "outputs": [
    {
     "name": "stdout",
     "output_type": "stream",
     "text": [
      "/*解答(1)*/ select \tconcat(c.first_name,\" \",c.last_name)  customerName, sum(p.amount) sumAmount from sakila.payment p left outer join sakila.customer c on p.customer_id = c.customer_id group by p.customer_id having sum(p.amount) > 100 order by sumAmount desc;\n",
      "+-----------------------+-----------+\r\n",
      "| customerName          | sumAmount |\r\n",
      "+-----------------------+-----------+\r\n",
      "| KARL SEAL             |    221.55 |\r\n",
      "| ELEANOR HUNT          |    216.54 |\r\n",
      "| CLARA SHAW            |    195.58 |\r\n",
      "| MARION SNYDER         |    194.61 |\r\n",
      "| RHONDA KENNEDY        |    194.61 |\r\n",
      "| TOMMY COLLAZO         |    186.62 |\r\n",
      "| WESLEY BULL           |    177.60 |\r\n",
      "| TIM CARY              |    175.61 |\r\n",
      "| MARCIA DEAN           |    175.58 |\r\n",
      "| ANA BRADLEY           |    174.66 |\r\n",
      "| JUNE CARROLL          |    173.63 |\r\n",
      "| LENA JENSEN           |    170.67 |\r\n",
      "| DIANE COLLINS         |    169.65 |\r\n",
      "| ARNOLD HAVENS         |    167.67 |\r\n",
      "| CURTIS IRBY           |    167.62 |\r\n",
      "| MIKE WAY              |    166.65 |\r\n",
      "| DAISY BATES           |    162.62 |\r\n",
      "| TONYA CHAPMAN         |    161.68 |\r\n",
      "| LOUIS LEONE           |    161.65 |\r\n",
      "| GORDON ALLARD         |    160.68 |\r\n",
      "| BRITTANY RILEY        |    159.72 |\r\n",
      "| GUY BROWNLEE          |    159.68 |\r\n",
      "| WARREN SHERROD        |    159.67 |\r\n",
      "| MARGIE WADE           |    159.64 |\r\n",
      "| MAE FLETCHER          |    158.69 |\r\n",
      "| STEVE MACKENZIE       |    158.66 |\r\n",
      "| HARRY ARCE            |    157.65 |\r\n",
      "| PRISCILLA LOWE        |    157.65 |\r\n",
      "| ARTHUR SIMPKINS       |    155.68 |\r\n",
      "| MICHELLE CLARK        |    155.65 |\r\n",
      "| TAMMY SANDERS         |    155.59 |\r\n",
      "| SUE PETERS            |    154.60 |\r\n",
      "| SHERRY MARSHALL       |    153.66 |\r\n",
      "| NEIL RENNER           |    152.68 |\r\n",
      "| SHAWN HEATON          |    152.67 |\r\n",
      "| JESSICA HALL          |    152.66 |\r\n",
      "| LESLIE SEWARD         |    152.65 |\r\n",
      "| NAOMI JENNINGS        |    152.65 |\r\n",
      "| BRANDON HUEY          |    152.63 |\r\n",
      "| ALEX GRESHAM          |    151.67 |\r\n",
      "| MARIA MILLER          |    151.67 |\r\n",
      "| STACEY MONTGOMERY     |    151.66 |\r\n",
      "| ALMA AUSTIN           |    151.65 |\r\n",
      "| ALEXANDER FENNELL     |    151.64 |\r\n",
      "| MARSHA DOUGLAS        |    151.63 |\r\n",
      "| RALPH MADRIGAL        |    150.66 |\r\n",
      "| BILLY POULIN          |    149.65 |\r\n",
      "| DUANE TUBBS           |    148.69 |\r\n",
      "| JACQUELINE LONG       |    148.67 |\r\n",
      "| CHRISTOPHER GRECO     |    147.69 |\r\n",
      "| ROSEMARY SCHMIDT      |    147.65 |\r\n",
      "| GLADYS HAMILTON       |    146.69 |\r\n",
      "| ZACHARY HITE          |    146.69 |\r\n",
      "| ROGER QUINTANILLA     |    146.64 |\r\n",
      "| WANDA PATTERSON       |    145.70 |\r\n",
      "| NICHOLAS BARFIELD     |    145.68 |\r\n",
      "| BERNICE WILLIS        |    145.67 |\r\n",
      "| TROY QUIGLEY          |    144.70 |\r\n",
      "| OLGA JIMENEZ          |    144.68 |\r\n",
      "| TANYA GILBERT         |    144.67 |\r\n",
      "| JANICE WARD           |    144.66 |\r\n",
      "| ELIZABETH BROWN       |    144.62 |\r\n",
      "| ROY WHITING           |    143.71 |\r\n",
      "| JERRY JORDON          |    143.71 |\r\n",
      "| SYLVIA ORTIZ          |    143.68 |\r\n",
      "| VIOLET RODRIQUEZ      |    142.70 |\r\n",
      "| RYAN SALISBURY        |    142.70 |\r\n",
      "| MINNIE ROMERO         |    142.66 |\r\n",
      "| CATHERINE CAMPBELL    |    142.66 |\r\n",
      "| DEBRA NELSON          |    141.71 |\r\n",
      "| GREG ROBINS           |    141.70 |\r\n",
      "| LORI WOOD             |    141.69 |\r\n",
      "| SARA PERRY            |    141.67 |\r\n",
      "| JESSIE MILAM          |    141.67 |\r\n",
      "| CASEY MENA            |    141.66 |\r\n",
      "| ELSIE KELLEY          |    141.63 |\r\n",
      "| RAMON CHOATE          |    140.69 |\r\n",
      "| GLENDA FRAZIER        |    140.68 |\r\n",
      "| ANGELA HERNANDEZ      |    140.64 |\r\n",
      "| ALVIN DELOACH         |    139.71 |\r\n",
      "| JAMIE RICE            |    139.71 |\r\n",
      "| STANLEY SCROGGINS     |    139.70 |\r\n",
      "| ROBERTO VU            |    139.70 |\r\n",
      "| GRACE ELLIS           |    139.67 |\r\n",
      "| MORRIS MCCARTER       |    139.66 |\r\n",
      "| JOE GILLILAND         |    138.71 |\r\n",
      "| MAURICE CRAWLEY       |    138.71 |\r\n",
      "| CHARLES KOWALSKI      |    138.68 |\r\n",
      "| ALICE STEWART         |    138.67 |\r\n",
      "| BRETT CORNWELL        |    138.66 |\r\n",
      "| MARILYN ROSS          |    137.70 |\r\n",
      "| JOHN FARNSWORTH       |    137.69 |\r\n",
      "| ELLA OLIVER           |    137.69 |\r\n",
      "| CRYSTAL FORD          |    137.67 |\r\n",
      "| GERTRUDE CASTILLO     |    137.66 |\r\n",
      "| JEANNE LAWSON         |    136.73 |\r\n",
      "| RUSSELL BRINSON       |    136.64 |\r\n",
      "| MIRIAM MCKINNEY       |    135.74 |\r\n",
      "| LINDA WILLIAMS        |    135.74 |\r\n",
      "| JIMMIE EGGLESTON      |    135.72 |\r\n",
      "| MIGUEL BETANCOURT     |    135.71 |\r\n",
      "| GLORIA COOK           |    135.70 |\r\n",
      "| RAYMOND MCWHORTER     |    135.70 |\r\n",
      "| DIANNE SHELTON        |    135.69 |\r\n",
      "| ETHEL WEBB            |    135.68 |\r\n",
      "| JAVIER ELROD          |    135.68 |\r\n",
      "| REGINA BERRY          |    135.66 |\r\n",
      "| KENT ARSENAULT        |    134.73 |\r\n",
      "| JOSEPH JOY            |    134.70 |\r\n",
      "| HELEN HARRIS          |    134.68 |\r\n",
      "| DAVE GARDINER         |    134.68 |\r\n",
      "| JULIA FLORES          |    134.68 |\r\n",
      "| MITCHELL WESTMORELAND |    134.68 |\r\n",
      "| BARRY LOVELACE        |    134.67 |\r\n",
      "| JORGE OLIVARES        |    134.66 |\r\n",
      "| DON BONE              |    133.75 |\r\n",
      "| CHERYL MURPHY         |    133.73 |\r\n",
      "| TINA SIMMONS          |    133.72 |\r\n",
      "| NATHANIEL ADAM        |    133.72 |\r\n",
      "| DANA HART             |    133.71 |\r\n",
      "| JENNIE TERRY          |    133.71 |\r\n",
      "| ROSA REYNOLDS         |    133.70 |\r\n",
      "| BESSIE MORRISON       |    132.72 |\r\n",
      "| STEVEN CURLEY         |    132.71 |\r\n",
      "| JORDAN ARCHULETA      |    132.70 |\r\n",
      "| TRACY COLE            |    132.70 |\r\n",
      "| RONALD WEINER         |    132.70 |\r\n",
      "| COURTNEY DAY          |    132.68 |\r\n",
      "| KAREN JACKSON         |    131.73 |\r\n",
      "| JAMES GANNON          |    131.70 |\r\n",
      "| GEORGE LINTON         |    131.67 |\r\n",
      "| KATHRYN COLEMAN       |    130.74 |\r\n",
      "| EDUARDO HIATT         |    130.73 |\r\n",
      "| JOYCE EDWARDS         |    130.72 |\r\n",
      "| MICHELE GRANT         |    130.70 |\r\n",
      "| HAROLD MARTINO        |    130.68 |\r\n",
      "| DEBBIE REYES          |    130.68 |\r\n",
      "| GILBERT SLEDGE        |    129.72 |\r\n",
      "| TRACY HERRMANN        |    129.72 |\r\n",
      "| KATHY JAMES           |    129.70 |\r\n",
      "| SALVADOR TEEL         |    129.70 |\r\n",
      "| RAMONA HALE           |    129.70 |\r\n",
      "| CASSANDRA WALTERS     |    129.70 |\r\n",
      "| VIOLA HANSON          |    129.68 |\r\n",
      "| VIRGINIA GREEN        |    129.68 |\r\n",
      "| JUSTIN NGO            |    129.64 |\r\n",
      "| PATRICIA JOHNSON      |    128.73 |\r\n",
      "| EDDIE TOMLIN          |    128.73 |\r\n",
      "| JASON MORRISSEY       |    128.72 |\r\n",
      "| TERESA ROGERS         |    128.71 |\r\n",
      "| MONICA HICKS          |    128.70 |\r\n",
      "| JIM REA               |    128.67 |\r\n",
      "| SHERRI RHODES         |    128.67 |\r\n",
      "| MILTON HOWLAND        |    127.75 |\r\n",
      "| JANET PHILLIPS        |    127.73 |\r\n",
      "| TERRY CARLSON         |    127.71 |\r\n",
      "| AMY LOPEZ             |    127.71 |\r\n",
      "| MICHAEL SILVERMAN     |    127.71 |\r\n",
      "| WALTER PERRYMAN       |    127.70 |\r\n",
      "| FRANK WAGGONER        |    127.68 |\r\n",
      "| MARJORIE TUCKER       |    127.68 |\r\n",
      "| JOANNE ROBERTSON      |    127.66 |\r\n",
      "| MARTHA GONZALEZ       |    127.66 |\r\n",
      "| BRADLEY MOTLEY        |    126.73 |\r\n",
      "| TERRI VASQUEZ         |    126.73 |\r\n",
      "| SONIA GREGORY         |    126.72 |\r\n",
      "| ANDRE RAPP            |    126.72 |\r\n",
      "| JAIME NETTLES         |    126.71 |\r\n",
      "| ISAAC OGLESBY         |    126.71 |\r\n",
      "| FLORENCE WOODS        |    126.70 |\r\n",
      "| SHIRLEY ALLEN         |    126.69 |\r\n",
      "| VERONICA STONE        |    126.68 |\r\n",
      "| THELMA MURRAY         |    126.68 |\r\n",
      "| RUTH MARTINEZ         |    125.76 |\r\n",
      "| ALAN KAHN             |    124.74 |\r\n",
      "| RICK MATTOX           |    124.73 |\r\n",
      "| BRYAN HARDISON        |    124.72 |\r\n",
      "| CRAIG MORRELL         |    124.70 |\r\n",
      "| JOY GEORGE            |    124.67 |\r\n",
      "| CARRIE PORTER         |    124.66 |\r\n",
      "| LYNN PAYNE            |    123.72 |\r\n",
      "| NINA SOTO             |    123.71 |\r\n",
      "| MARC OUTLAW           |    123.70 |\r\n",
      "| MELISSA KING          |    123.66 |\r\n",
      "| BEN EASTER            |    122.74 |\r\n",
      "| ERIC ROBERT           |    122.73 |\r\n",
      "| BRANDY GRAVES         |    122.72 |\r\n",
      "| HILDA HOPKINS         |    122.71 |\r\n",
      "| CATHY SPENCER         |    122.71 |\r\n",
      "| CHRISTY VARGAS        |    122.69 |\r\n",
      "| NATHAN RUNYON         |    122.68 |\r\n",
      "| HEIDI LARSON          |    122.66 |\r\n",
      "| JOHNNIE CHISHOLM      |    121.76 |\r\n",
      "| VALERIE BLACK         |    121.74 |\r\n",
      "| GERALD FULTZ          |    121.70 |\r\n",
      "| JEFFERY PINSON        |    121.69 |\r\n",
      "| PHILIP CAUSEY         |    121.69 |\r\n",
      "| PAUL TROUT            |    120.77 |\r\n",
      "| ARLENE HARVEY         |    120.74 |\r\n",
      "| CHARLIE BESS          |    120.74 |\r\n",
      "| ALFRED CASILLAS       |    120.74 |\r\n",
      "| DAWN SULLIVAN         |    120.74 |\r\n",
      "| BYRON BOX             |    120.71 |\r\n",
      "| SANDRA MARTIN         |    120.71 |\r\n",
      "| VICKIE BREWER         |    120.69 |\r\n",
      "| BEATRICE ARNOLD       |    119.74 |\r\n",
      "| HECTOR POINDEXTER     |    119.74 |\r\n",
      "| LEE HAWKS             |    119.73 |\r\n",
      "| PATSY DAVIDSON        |    119.72 |\r\n",
      "| AUDREY RAY            |    119.71 |\r\n",
      "| JOSHUA MARK           |    119.70 |\r\n",
      "| SARAH LEWIS           |    119.70 |\r\n",
      "| PATRICK NEWSOM        |    119.69 |\r\n",
      "| SALLY PIERCE          |    119.68 |\r\n",
      "| JAMIE WAUGH           |    118.75 |\r\n",
      "| STEPHANIE MITCHELL    |    118.75 |\r\n",
      "| TRACEY BARRETT        |    118.73 |\r\n",
      "| MISTY LAMBERT         |    118.73 |\r\n",
      "| NORA HERRERA          |    118.72 |\r\n",
      "| CLIFTON MALCOLM       |    118.72 |\r\n",
      "| STEPHEN QUALLS        |    118.72 |\r\n",
      "| ERIK GUILLEN          |    118.71 |\r\n",
      "| MARY SMITH            |    118.68 |\r\n",
      "| LEROY BUSTAMANTE      |    118.68 |\r\n",
      "| MARSHALL THORN        |    117.77 |\r\n",
      "| SAM MCDUFFIE          |    117.76 |\r\n",
      "| PERRY SWAFFORD        |    117.76 |\r\n",
      "| FERNANDO CHURCHILL    |    117.75 |\r\n",
      "| MARLENE WELCH         |    117.74 |\r\n",
      "| VELMA LUCAS           |    117.73 |\r\n",
      "| ELLEN SIMPSON         |    117.72 |\r\n",
      "| BETTY WHITE           |    117.72 |\r\n",
      "| TODD TAN              |    117.71 |\r\n",
      "| TED BREAUX            |    117.71 |\r\n",
      "| TERRENCE GUNDERSON    |    117.70 |\r\n",
      "| CAROLYN PEREZ         |    117.70 |\r\n",
      "| KEVIN SCHULER         |    116.78 |\r\n",
      "| EDWIN BURK            |    116.77 |\r\n",
      "| MANUEL MURRELL        |    116.70 |\r\n",
      "| THEODORE CULP         |    116.69 |\r\n",
      "| KRISTIN JOHNSTON      |    116.69 |\r\n",
      "| MAXINE SILVA          |    116.68 |\r\n",
      "| DAVID ROYAL           |    115.74 |\r\n",
      "| CECIL VINES           |    115.74 |\r\n",
      "| JEAN BELL             |    115.73 |\r\n",
      "| REGINALD KINDER       |    115.72 |\r\n",
      "| HERMAN DEVORE         |    115.71 |\r\n",
      "| DEBORAH WALKER        |    115.71 |\r\n",
      "| MARION OCAMPO         |    115.71 |\r\n",
      "| BECKY MILES           |    115.71 |\r\n",
      "| CLYDE TOBIAS          |    115.71 |\r\n",
      "| MARCUS HIDALGO        |    115.70 |\r\n",
      "| SHARON ROBINSON       |    115.70 |\r\n",
      "| HEATHER MORRIS        |    115.70 |\r\n",
      "| ANGEL BARCLAY         |    115.68 |\r\n",
      "| JESUS MCCARTNEY       |    114.76 |\r\n",
      "| DOUGLAS GRAF          |    114.75 |\r\n",
      "| DOLORES WAGNER        |    114.74 |\r\n",
      "| MARIE TURNER          |    114.74 |\r\n",
      "| CHARLENE ALVAREZ      |    114.73 |\r\n",
      "| EDWARD BAUGH          |    114.72 |\r\n",
      "| EVELYN MORGAN         |    114.72 |\r\n",
      "| BILL GAVIN            |    114.72 |\r\n",
      "| DENNIS GILMAN         |    114.72 |\r\n",
      "| MATTHEW MAHAN         |    114.69 |\r\n",
      "| HOLLY FOX             |    114.69 |\r\n",
      "| LAURA RODRIGUEZ       |    113.78 |\r\n",
      "| ANDY VANHORN          |    113.75 |\r\n",
      "| GLEN TALBERT          |    113.74 |\r\n",
      "| SHELLY WATTS          |    113.74 |\r\n",
      "| RENE MCALISTER        |    113.74 |\r\n",
      "| AMBER DIXON           |    113.73 |\r\n",
      "| CINDY FISHER          |    113.71 |\r\n",
      "| CLIFFORD BOWENS       |    113.71 |\r\n",
      "| DARLENE ROSE          |    113.69 |\r\n",
      "| LOIS BUTLER           |    113.65 |\r\n",
      "| BRENT HARKINS         |    112.77 |\r\n",
      "| TYRONE ASHER          |    112.76 |\r\n",
      "| ASHLEY RICHARDSON     |    112.75 |\r\n",
      "| SETH HANNON           |    112.75 |\r\n",
      "| LARRY THRASHER        |    112.74 |\r\n",
      "| DALE RATCLIFF         |    112.73 |\r\n",
      "| MARIO CHEATHAM        |    112.72 |\r\n",
      "| GERALDINE PERKINS     |    112.70 |\r\n",
      "| MABEL HOLLAND         |    112.70 |\r\n",
      "| CALVIN MARTEL         |    111.77 |\r\n",
      "| CLAUDE HERZOG         |    111.75 |\r\n",
      "| CLAUDIA FULLER        |    111.74 |\r\n",
      "| GABRIEL HARDER        |    111.74 |\r\n",
      "| VICTORIA GIBSON       |    111.73 |\r\n",
      "| DARYL LARUE           |    111.73 |\r\n",
      "| EARL SHANKS           |    111.73 |\r\n",
      "| GINA WILLIAMSON       |    111.72 |\r\n",
      "| TERRANCE ROUSH        |    111.71 |\r\n",
      "| CYNTHIA YOUNG         |    111.68 |\r\n",
      "| MYRTLE FLEMING        |    110.76 |\r\n",
      "| AARON SELBY           |    110.76 |\r\n",
      "| TRAVIS ESTEP          |    110.75 |\r\n",
      "| GEORGIA JACOBS        |    110.74 |\r\n",
      "| YOLANDA WEAVER        |    110.73 |\r\n",
      "| AMANDA CARTER         |    110.73 |\r\n",
      "| EVERETT BANDA         |    110.72 |\r\n",
      "| RANDY GAITHER         |    110.72 |\r\n",
      "| RUBY WASHINGTON       |    110.72 |\r\n",
      "| KEN PREWITT           |    110.71 |\r\n",
      "| JUANITA MASON         |    110.70 |\r\n",
      "| KYLE SPURLOCK         |    110.70 |\r\n",
      "| HAZEL WARREN          |    110.66 |\r\n",
      "| DAN PAINE             |    109.78 |\r\n",
      "| KATIE ELLIOTT         |    109.75 |\r\n",
      "| LEON BOSTIC           |    109.75 |\r\n",
      "| RICHARD MCCRARY       |    109.75 |\r\n",
      "| WALLACE SLONE         |    109.75 |\r\n",
      "| GAIL KNIGHT           |    109.75 |\r\n",
      "| JOSEPHINE GOMEZ       |    109.74 |\r\n",
      "| ANDREW PURDY          |    109.73 |\r\n",
      "| DEAN SAUER            |    109.73 |\r\n",
      "| KRISTINA CHAMBERS     |    109.72 |\r\n",
      "| JULIAN VEST           |    109.72 |\r\n",
      "| LEONARD SCHOFIELD     |    109.68 |\r\n",
      "| FRANCES PARKER        |    108.78 |\r\n",
      "| DARREN WINDHAM        |    108.76 |\r\n",
      "| SIDNEY BURLESON       |    108.75 |\r\n",
      "| VICKI FIELDS          |    108.75 |\r\n",
      "| SERGIO STANFIELD      |    108.74 |\r\n",
      "| LUCILLE HOLMES        |    108.72 |\r\n",
      "| CAROLE BARNETT        |    108.70 |\r\n",
      "| DORA MEDINA           |    107.77 |\r\n",
      "| MARIAN MENDOZA        |    107.77 |\r\n",
      "| ELAINE STEVENS        |    107.76 |\r\n",
      "| MAX PITT              |    107.76 |\r\n",
      "| DEANNA BYRD           |    107.74 |\r\n",
      "| KELLY KNOTT           |    107.74 |\r\n",
      "| EDNA WEST             |    107.74 |\r\n",
      "| VIRGIL WOFFORD        |    107.73 |\r\n",
      "| JULIE SANCHEZ         |    107.71 |\r\n",
      "| JEFF EAST             |    107.70 |\r\n",
      "| TOM MILNER            |    107.68 |\r\n",
      "| CARL ARTIS            |    106.77 |\r\n",
      "| PETER MENARD          |    106.77 |\r\n",
      "| CARLOS COUGHLIN       |    106.77 |\r\n",
      "| LISA ANDERSON         |    106.76 |\r\n",
      "| LILLIAN GRIFFIN       |    106.75 |\r\n",
      "| ERIN DUNN             |    106.73 |\r\n",
      "| BOBBY BOUDREAU        |    106.65 |\r\n",
      "| FREDERICK ISBELL      |    105.79 |\r\n",
      "| THOMAS GRIGSBY        |    105.75 |\r\n",
      "| VINCENT RALSTON       |    105.75 |\r\n",
      "| DANIELLE DANIELS      |    105.75 |\r\n",
      "| BRAD MCCURDY          |    105.75 |\r\n",
      "| DIANA ALEXANDER       |    105.73 |\r\n",
      "| JIMMY SCHRADER        |    105.71 |\r\n",
      "| STELLA MORENO         |    104.78 |\r\n",
      "| RODNEY MOELLER        |    104.77 |\r\n",
      "| LEO EBERT             |    104.77 |\r\n",
      "| LEAH CURTIS           |    104.75 |\r\n",
      "| MARK RINEHART         |    104.74 |\r\n",
      "| BRENDA WRIGHT         |    104.74 |\r\n",
      "| FRANCIS SIKES         |    104.74 |\r\n",
      "| CLARENCE GAMEZ        |    104.70 |\r\n",
      "| ROSE HOWARD           |    103.78 |\r\n",
      "| RON DELUCA            |    103.77 |\r\n",
      "| BRUCE SCHWARZ         |    103.77 |\r\n",
      "| PEDRO CHESTNUT        |    103.76 |\r\n",
      "| CLINTON BUFORD        |    103.75 |\r\n",
      "| BETH FRANKLIN         |    103.75 |\r\n",
      "| GARY COY              |    103.75 |\r\n",
      "| CARLA GUTIERREZ       |    103.74 |\r\n",
      "| DENISE KELLY          |    103.73 |\r\n",
      "| JENNY CASTRO          |    103.73 |\r\n",
      "| MARTIN BALES          |    103.73 |\r\n",
      "| NANCY THOMAS          |    103.72 |\r\n",
      "| JEREMY HURTADO        |    103.72 |\r\n",
      "| ROBIN HAYES           |    102.76 |\r\n",
      "| MICHEAL FORMAN        |    102.74 |\r\n",
      "| DWAYNE OLVERA         |    101.78 |\r\n",
      "| ADAM GOOCH            |    101.78 |\r\n",
      "| COREY HAUSER          |    101.78 |\r\n",
      "| BERTHA FERGUSON       |    101.75 |\r\n",
      "| LOUISE JENKINS        |    101.75 |\r\n",
      "| WILLIE MARKHAM        |    101.75 |\r\n",
      "| ERIKA PENA            |    101.74 |\r\n",
      "| PHILLIP HOLM          |    101.74 |\r\n",
      "| JESSE SCHILLING       |    101.74 |\r\n",
      "| WILLIE HOWELL         |    101.74 |\r\n",
      "| RAUL FORTIER          |    100.80 |\r\n",
      "| DORIS REED            |    100.78 |\r\n",
      "| CONNIE WALLACE        |    100.77 |\r\n",
      "| SHANNON FREEMAN       |    100.76 |\r\n",
      "| RONNIE RICKETTS       |    100.75 |\r\n",
      "| WILLIAM SATTERFIELD   |    100.74 |\r\n",
      "| DUSTIN GILLETTE       |    100.74 |\r\n",
      "| JANE BENNETT          |    100.72 |\r\n",
      "| LAWRENCE LAWTON       |    100.69 |\r\n",
      "| JUDITH COX            |    100.67 |\r\n",
      "+-----------------------+-----------+\r\n",
      "395 rows in set (0.06 sec)\r\n",
      "\r\n"
     ]
    }
   ],
   "source": [
    "/*解答(1)*/\n",
    "select \tconcat(c.first_name,\" \",c.last_name)  customerName,\n",
    "\t\tsum(p.amount) sumAmount\n",
    "from sakila.payment p\n",
    "left outer join sakila.customer c\n",
    "on p.customer_id = c.customer_id\n",
    "group by p.customer_id\n",
    "having sum(p.amount) > 100\n",
    "order by sumAmount desc\n"
   ]
  },
  {
   "cell_type": "code",
   "execution_count": 73,
   "metadata": {
    "collapsed": false
   },
   "outputs": [
    {
     "name": "stdout",
     "output_type": "stream",
     "text": [
      "/*解答(2)*/ use sakila; drop procedure if exists practice;\n",
      "\r\n",
      "Database changed\r\n",
      "Query OK, 0 rows affected, 1 warning (0.00 sec)\r\n",
      "\r\n"
     ]
    }
   ],
   "source": [
    "/*解答(2)*/\n",
    "use sakila; \n",
    "drop procedure if exists practice; "
   ]
  },
  {
   "cell_type": "code",
   "execution_count": 11,
   "metadata": {
    "collapsed": false
   },
   "outputs": [
    {
     "name": "stdout",
     "output_type": "stream",
     "text": [
      "delimiter //;\n",
      "\r\n"
     ]
    }
   ],
   "source": [
    "delimiter //"
   ]
  },
  {
   "cell_type": "code",
   "execution_count": 12,
   "metadata": {
    "collapsed": false
   },
   "outputs": [
    {
     "name": "stdout",
     "output_type": "stream",
     "text": [
      "create procedure sakila.practice(in threshold DECIMAL(20,2)) begin drop table if exists newTable; create table sakila.newTable ( `customerName` varchar(91) NOT NULL, `sumPaymentAmount`  DECIMAL(20,2) NOT NULL, `last_update` TIMESTAMP NOT NULL DEFAULT CURRENT_TIMESTAMP ON UPDATE CURRENT_TIMESTAMP, PRIMARY KEY (`customerName`) ); insert into sakila.newTable select \tconcat(c.first_name,\" \",c.last_name)  customerName, sum(p.amount) sumAmount, null from sakila.payment p left outer join sakila.customer c on p.customer_id = c.customer_id group by p.customer_id having sum(p.amount) > threshold; end //;\n",
      "\r\n",
      "Query OK, 0 rows affected (0.00 sec)\r\n",
      "\r\n"
     ]
    }
   ],
   "source": [
    "create procedure sakila.practice(in threshold DECIMAL(20,2))\n",
    "begin\n",
    "drop table if exists newTable;\n",
    "create table sakila.newTable (\n",
    "\t`customerName` varchar(91) NOT NULL,\n",
    "\t`sumPaymentAmount`  DECIMAL(20,2) NOT NULL,\n",
    "\t`last_update` TIMESTAMP NOT NULL DEFAULT CURRENT_TIMESTAMP ON UPDATE CURRENT_TIMESTAMP,\n",
    "\tPRIMARY KEY (`customerName`)\n",
    ");\n",
    "\n",
    "insert into sakila.newTable \n",
    "select \tconcat(c.first_name,\" \",c.last_name)  customerName,\n",
    "\t\t\tsum(p.amount) sumAmount,\n",
    "\t\t\tnull\n",
    "from sakila.payment p\n",
    "left outer join sakila.customer c\n",
    "on p.customer_id = c.customer_id\n",
    "group by p.customer_id\n",
    "having sum(p.amount) > threshold;\n",
    "\n",
    "end\n",
    "//"
   ]
  },
  {
   "cell_type": "code",
   "execution_count": 13,
   "metadata": {
    "collapsed": false,
    "scrolled": true
   },
   "outputs": [
    {
     "name": "stdout",
     "output_type": "stream",
     "text": [
      "delimiter ;\n",
      "\r\n"
     ]
    }
   ],
   "source": [
    "delimiter ;"
   ]
  },
  {
   "cell_type": "code",
   "execution_count": 15,
   "metadata": {
    "collapsed": false
   },
   "outputs": [
    {
     "name": "stdout",
     "output_type": "stream",
     "text": [
      "use sakila;\n",
      "\r\n",
      "Database changed\r\n"
     ]
    }
   ],
   "source": [
    "use sakila;"
   ]
  },
  {
   "cell_type": "code",
   "execution_count": 16,
   "metadata": {
    "collapsed": false
   },
   "outputs": [
    {
     "name": "stdout",
     "output_type": "stream",
     "text": [
      "call practice(120); select * from sakila.newTable order by sumPaymentAmount desc;\n",
      "+-----------------------+------------------+---------------------+\r\n",
      "| customerName          | sumPaymentAmount | last_update         |\r\n",
      "+-----------------------+------------------+---------------------+\r\n",
      "| KARL SEAL             |           221.55 | 2017-04-30 11:25:10 |\r\n",
      "| ELEANOR HUNT          |           216.54 | 2017-04-30 11:25:10 |\r\n",
      "| CLARA SHAW            |           195.58 | 2017-04-30 11:25:10 |\r\n",
      "| MARION SNYDER         |           194.61 | 2017-04-30 11:25:10 |\r\n",
      "| RHONDA KENNEDY        |           194.61 | 2017-04-30 11:25:10 |\r\n",
      "| TOMMY COLLAZO         |           186.62 | 2017-04-30 11:25:10 |\r\n",
      "| WESLEY BULL           |           177.60 | 2017-04-30 11:25:10 |\r\n",
      "| TIM CARY              |           175.61 | 2017-04-30 11:25:10 |\r\n",
      "| MARCIA DEAN           |           175.58 | 2017-04-30 11:25:10 |\r\n",
      "| ANA BRADLEY           |           174.66 | 2017-04-30 11:25:10 |\r\n",
      "| JUNE CARROLL          |           173.63 | 2017-04-30 11:25:10 |\r\n",
      "| LENA JENSEN           |           170.67 | 2017-04-30 11:25:10 |\r\n",
      "| DIANE COLLINS         |           169.65 | 2017-04-30 11:25:10 |\r\n",
      "| ARNOLD HAVENS         |           167.67 | 2017-04-30 11:25:10 |\r\n",
      "| CURTIS IRBY           |           167.62 | 2017-04-30 11:25:10 |\r\n",
      "| MIKE WAY              |           166.65 | 2017-04-30 11:25:10 |\r\n",
      "| DAISY BATES           |           162.62 | 2017-04-30 11:25:10 |\r\n",
      "| TONYA CHAPMAN         |           161.68 | 2017-04-30 11:25:10 |\r\n",
      "| LOUIS LEONE           |           161.65 | 2017-04-30 11:25:10 |\r\n",
      "| GORDON ALLARD         |           160.68 | 2017-04-30 11:25:10 |\r\n",
      "| BRITTANY RILEY        |           159.72 | 2017-04-30 11:25:10 |\r\n",
      "| GUY BROWNLEE          |           159.68 | 2017-04-30 11:25:10 |\r\n",
      "| WARREN SHERROD        |           159.67 | 2017-04-30 11:25:10 |\r\n",
      "| MARGIE WADE           |           159.64 | 2017-04-30 11:25:10 |\r\n",
      "| MAE FLETCHER          |           158.69 | 2017-04-30 11:25:10 |\r\n",
      "| STEVE MACKENZIE       |           158.66 | 2017-04-30 11:25:10 |\r\n",
      "| HARRY ARCE            |           157.65 | 2017-04-30 11:25:10 |\r\n",
      "| PRISCILLA LOWE        |           157.65 | 2017-04-30 11:25:10 |\r\n",
      "| ARTHUR SIMPKINS       |           155.68 | 2017-04-30 11:25:10 |\r\n",
      "| MICHELLE CLARK        |           155.65 | 2017-04-30 11:25:10 |\r\n",
      "| TAMMY SANDERS         |           155.59 | 2017-04-30 11:25:10 |\r\n",
      "| SUE PETERS            |           154.60 | 2017-04-30 11:25:10 |\r\n",
      "| SHERRY MARSHALL       |           153.66 | 2017-04-30 11:25:10 |\r\n",
      "| NEIL RENNER           |           152.68 | 2017-04-30 11:25:10 |\r\n",
      "| SHAWN HEATON          |           152.67 | 2017-04-30 11:25:10 |\r\n",
      "| JESSICA HALL          |           152.66 | 2017-04-30 11:25:10 |\r\n",
      "| LESLIE SEWARD         |           152.65 | 2017-04-30 11:25:10 |\r\n",
      "| NAOMI JENNINGS        |           152.65 | 2017-04-30 11:25:10 |\r\n",
      "| BRANDON HUEY          |           152.63 | 2017-04-30 11:25:10 |\r\n",
      "| ALEX GRESHAM          |           151.67 | 2017-04-30 11:25:10 |\r\n",
      "| MARIA MILLER          |           151.67 | 2017-04-30 11:25:10 |\r\n",
      "| STACEY MONTGOMERY     |           151.66 | 2017-04-30 11:25:10 |\r\n",
      "| ALMA AUSTIN           |           151.65 | 2017-04-30 11:25:10 |\r\n",
      "| ALEXANDER FENNELL     |           151.64 | 2017-04-30 11:25:10 |\r\n",
      "| MARSHA DOUGLAS        |           151.63 | 2017-04-30 11:25:10 |\r\n",
      "| RALPH MADRIGAL        |           150.66 | 2017-04-30 11:25:10 |\r\n",
      "| BILLY POULIN          |           149.65 | 2017-04-30 11:25:10 |\r\n",
      "| DUANE TUBBS           |           148.69 | 2017-04-30 11:25:10 |\r\n",
      "| JACQUELINE LONG       |           148.67 | 2017-04-30 11:25:10 |\r\n",
      "| CHRISTOPHER GRECO     |           147.69 | 2017-04-30 11:25:10 |\r\n",
      "| ROSEMARY SCHMIDT      |           147.65 | 2017-04-30 11:25:10 |\r\n",
      "| GLADYS HAMILTON       |           146.69 | 2017-04-30 11:25:10 |\r\n",
      "| ZACHARY HITE          |           146.69 | 2017-04-30 11:25:10 |\r\n",
      "| ROGER QUINTANILLA     |           146.64 | 2017-04-30 11:25:10 |\r\n",
      "| WANDA PATTERSON       |           145.70 | 2017-04-30 11:25:10 |\r\n",
      "| NICHOLAS BARFIELD     |           145.68 | 2017-04-30 11:25:10 |\r\n",
      "| BERNICE WILLIS        |           145.67 | 2017-04-30 11:25:10 |\r\n",
      "| TROY QUIGLEY          |           144.70 | 2017-04-30 11:25:10 |\r\n",
      "| OLGA JIMENEZ          |           144.68 | 2017-04-30 11:25:10 |\r\n",
      "| TANYA GILBERT         |           144.67 | 2017-04-30 11:25:10 |\r\n",
      "| JANICE WARD           |           144.66 | 2017-04-30 11:25:10 |\r\n",
      "| ELIZABETH BROWN       |           144.62 | 2017-04-30 11:25:10 |\r\n",
      "| JERRY JORDON          |           143.71 | 2017-04-30 11:25:10 |\r\n",
      "| ROY WHITING           |           143.71 | 2017-04-30 11:25:10 |\r\n",
      "| SYLVIA ORTIZ          |           143.68 | 2017-04-30 11:25:10 |\r\n",
      "| RYAN SALISBURY        |           142.70 | 2017-04-30 11:25:10 |\r\n",
      "| VIOLET RODRIQUEZ      |           142.70 | 2017-04-30 11:25:10 |\r\n",
      "| CATHERINE CAMPBELL    |           142.66 | 2017-04-30 11:25:10 |\r\n",
      "| MINNIE ROMERO         |           142.66 | 2017-04-30 11:25:10 |\r\n",
      "| DEBRA NELSON          |           141.71 | 2017-04-30 11:25:10 |\r\n",
      "| GREG ROBINS           |           141.70 | 2017-04-30 11:25:10 |\r\n",
      "| LORI WOOD             |           141.69 | 2017-04-30 11:25:10 |\r\n",
      "| JESSIE MILAM          |           141.67 | 2017-04-30 11:25:10 |\r\n",
      "| SARA PERRY            |           141.67 | 2017-04-30 11:25:10 |\r\n",
      "| CASEY MENA            |           141.66 | 2017-04-30 11:25:10 |\r\n",
      "| ELSIE KELLEY          |           141.63 | 2017-04-30 11:25:10 |\r\n",
      "| RAMON CHOATE          |           140.69 | 2017-04-30 11:25:10 |\r\n",
      "| GLENDA FRAZIER        |           140.68 | 2017-04-30 11:25:10 |\r\n",
      "| ANGELA HERNANDEZ      |           140.64 | 2017-04-30 11:25:10 |\r\n",
      "| ALVIN DELOACH         |           139.71 | 2017-04-30 11:25:10 |\r\n",
      "| JAMIE RICE            |           139.71 | 2017-04-30 11:25:10 |\r\n",
      "| ROBERTO VU            |           139.70 | 2017-04-30 11:25:10 |\r\n",
      "| STANLEY SCROGGINS     |           139.70 | 2017-04-30 11:25:10 |\r\n",
      "| GRACE ELLIS           |           139.67 | 2017-04-30 11:25:10 |\r\n",
      "| MORRIS MCCARTER       |           139.66 | 2017-04-30 11:25:10 |\r\n",
      "| JOE GILLILAND         |           138.71 | 2017-04-30 11:25:10 |\r\n",
      "| MAURICE CRAWLEY       |           138.71 | 2017-04-30 11:25:10 |\r\n",
      "| CHARLES KOWALSKI      |           138.68 | 2017-04-30 11:25:10 |\r\n",
      "| ALICE STEWART         |           138.67 | 2017-04-30 11:25:10 |\r\n",
      "| BRETT CORNWELL        |           138.66 | 2017-04-30 11:25:10 |\r\n",
      "| MARILYN ROSS          |           137.70 | 2017-04-30 11:25:10 |\r\n",
      "| ELLA OLIVER           |           137.69 | 2017-04-30 11:25:10 |\r\n",
      "| JOHN FARNSWORTH       |           137.69 | 2017-04-30 11:25:10 |\r\n",
      "| CRYSTAL FORD          |           137.67 | 2017-04-30 11:25:10 |\r\n",
      "| GERTRUDE CASTILLO     |           137.66 | 2017-04-30 11:25:10 |\r\n",
      "| JEANNE LAWSON         |           136.73 | 2017-04-30 11:25:10 |\r\n",
      "| RUSSELL BRINSON       |           136.64 | 2017-04-30 11:25:10 |\r\n",
      "| LINDA WILLIAMS        |           135.74 | 2017-04-30 11:25:10 |\r\n",
      "| MIRIAM MCKINNEY       |           135.74 | 2017-04-30 11:25:10 |\r\n",
      "| JIMMIE EGGLESTON      |           135.72 | 2017-04-30 11:25:10 |\r\n",
      "| MIGUEL BETANCOURT     |           135.71 | 2017-04-30 11:25:10 |\r\n",
      "| GLORIA COOK           |           135.70 | 2017-04-30 11:25:10 |\r\n",
      "| RAYMOND MCWHORTER     |           135.70 | 2017-04-30 11:25:10 |\r\n",
      "| DIANNE SHELTON        |           135.69 | 2017-04-30 11:25:10 |\r\n",
      "| ETHEL WEBB            |           135.68 | 2017-04-30 11:25:10 |\r\n",
      "| JAVIER ELROD          |           135.68 | 2017-04-30 11:25:10 |\r\n",
      "| REGINA BERRY          |           135.66 | 2017-04-30 11:25:10 |\r\n",
      "| KENT ARSENAULT        |           134.73 | 2017-04-30 11:25:10 |\r\n",
      "| JOSEPH JOY            |           134.70 | 2017-04-30 11:25:10 |\r\n",
      "| DAVE GARDINER         |           134.68 | 2017-04-30 11:25:10 |\r\n",
      "| HELEN HARRIS          |           134.68 | 2017-04-30 11:25:10 |\r\n",
      "| JULIA FLORES          |           134.68 | 2017-04-30 11:25:10 |\r\n",
      "| MITCHELL WESTMORELAND |           134.68 | 2017-04-30 11:25:10 |\r\n",
      "| BARRY LOVELACE        |           134.67 | 2017-04-30 11:25:10 |\r\n",
      "| JORGE OLIVARES        |           134.66 | 2017-04-30 11:25:10 |\r\n",
      "| DON BONE              |           133.75 | 2017-04-30 11:25:10 |\r\n",
      "| CHERYL MURPHY         |           133.73 | 2017-04-30 11:25:10 |\r\n",
      "| NATHANIEL ADAM        |           133.72 | 2017-04-30 11:25:10 |\r\n",
      "| TINA SIMMONS          |           133.72 | 2017-04-30 11:25:10 |\r\n",
      "| DANA HART             |           133.71 | 2017-04-30 11:25:10 |\r\n",
      "| JENNIE TERRY          |           133.71 | 2017-04-30 11:25:10 |\r\n",
      "| ROSA REYNOLDS         |           133.70 | 2017-04-30 11:25:10 |\r\n",
      "| BESSIE MORRISON       |           132.72 | 2017-04-30 11:25:10 |\r\n",
      "| STEVEN CURLEY         |           132.71 | 2017-04-30 11:25:10 |\r\n",
      "| JORDAN ARCHULETA      |           132.70 | 2017-04-30 11:25:10 |\r\n",
      "| RONALD WEINER         |           132.70 | 2017-04-30 11:25:10 |\r\n",
      "| TRACY COLE            |           132.70 | 2017-04-30 11:25:10 |\r\n",
      "| COURTNEY DAY          |           132.68 | 2017-04-30 11:25:10 |\r\n",
      "| KAREN JACKSON         |           131.73 | 2017-04-30 11:25:10 |\r\n",
      "| JAMES GANNON          |           131.70 | 2017-04-30 11:25:10 |\r\n",
      "| GEORGE LINTON         |           131.67 | 2017-04-30 11:25:10 |\r\n",
      "| KATHRYN COLEMAN       |           130.74 | 2017-04-30 11:25:10 |\r\n",
      "| EDUARDO HIATT         |           130.73 | 2017-04-30 11:25:10 |\r\n",
      "| JOYCE EDWARDS         |           130.72 | 2017-04-30 11:25:10 |\r\n",
      "| MICHELE GRANT         |           130.70 | 2017-04-30 11:25:10 |\r\n",
      "| DEBBIE REYES          |           130.68 | 2017-04-30 11:25:10 |\r\n",
      "| HAROLD MARTINO        |           130.68 | 2017-04-30 11:25:10 |\r\n",
      "| GILBERT SLEDGE        |           129.72 | 2017-04-30 11:25:10 |\r\n",
      "| TRACY HERRMANN        |           129.72 | 2017-04-30 11:25:10 |\r\n",
      "| CASSANDRA WALTERS     |           129.70 | 2017-04-30 11:25:10 |\r\n",
      "| KATHY JAMES           |           129.70 | 2017-04-30 11:25:10 |\r\n",
      "| RAMONA HALE           |           129.70 | 2017-04-30 11:25:10 |\r\n",
      "| SALVADOR TEEL         |           129.70 | 2017-04-30 11:25:10 |\r\n",
      "| VIOLA HANSON          |           129.68 | 2017-04-30 11:25:10 |\r\n",
      "| VIRGINIA GREEN        |           129.68 | 2017-04-30 11:25:10 |\r\n",
      "| JUSTIN NGO            |           129.64 | 2017-04-30 11:25:10 |\r\n",
      "| EDDIE TOMLIN          |           128.73 | 2017-04-30 11:25:10 |\r\n",
      "| PATRICIA JOHNSON      |           128.73 | 2017-04-30 11:25:10 |\r\n",
      "| JASON MORRISSEY       |           128.72 | 2017-04-30 11:25:10 |\r\n",
      "| TERESA ROGERS         |           128.71 | 2017-04-30 11:25:10 |\r\n",
      "| MONICA HICKS          |           128.70 | 2017-04-30 11:25:10 |\r\n",
      "| JIM REA               |           128.67 | 2017-04-30 11:25:10 |\r\n",
      "| SHERRI RHODES         |           128.67 | 2017-04-30 11:25:10 |\r\n",
      "| MILTON HOWLAND        |           127.75 | 2017-04-30 11:25:10 |\r\n",
      "| JANET PHILLIPS        |           127.73 | 2017-04-30 11:25:10 |\r\n",
      "| AMY LOPEZ             |           127.71 | 2017-04-30 11:25:10 |\r\n",
      "| MICHAEL SILVERMAN     |           127.71 | 2017-04-30 11:25:10 |\r\n",
      "| TERRY CARLSON         |           127.71 | 2017-04-30 11:25:10 |\r\n",
      "| WALTER PERRYMAN       |           127.70 | 2017-04-30 11:25:10 |\r\n",
      "| FRANK WAGGONER        |           127.68 | 2017-04-30 11:25:10 |\r\n",
      "| MARJORIE TUCKER       |           127.68 | 2017-04-30 11:25:10 |\r\n",
      "| JOANNE ROBERTSON      |           127.66 | 2017-04-30 11:25:10 |\r\n",
      "| MARTHA GONZALEZ       |           127.66 | 2017-04-30 11:25:10 |\r\n",
      "| BRADLEY MOTLEY        |           126.73 | 2017-04-30 11:25:10 |\r\n",
      "| TERRI VASQUEZ         |           126.73 | 2017-04-30 11:25:10 |\r\n",
      "| ANDRE RAPP            |           126.72 | 2017-04-30 11:25:10 |\r\n",
      "| SONIA GREGORY         |           126.72 | 2017-04-30 11:25:10 |\r\n",
      "| ISAAC OGLESBY         |           126.71 | 2017-04-30 11:25:10 |\r\n",
      "| JAIME NETTLES         |           126.71 | 2017-04-30 11:25:10 |\r\n",
      "| FLORENCE WOODS        |           126.70 | 2017-04-30 11:25:10 |\r\n",
      "| SHIRLEY ALLEN         |           126.69 | 2017-04-30 11:25:10 |\r\n",
      "| THELMA MURRAY         |           126.68 | 2017-04-30 11:25:10 |\r\n",
      "| VERONICA STONE        |           126.68 | 2017-04-30 11:25:10 |\r\n",
      "| RUTH MARTINEZ         |           125.76 | 2017-04-30 11:25:10 |\r\n",
      "| ALAN KAHN             |           124.74 | 2017-04-30 11:25:10 |\r\n",
      "| RICK MATTOX           |           124.73 | 2017-04-30 11:25:10 |\r\n",
      "| BRYAN HARDISON        |           124.72 | 2017-04-30 11:25:10 |\r\n",
      "| CRAIG MORRELL         |           124.70 | 2017-04-30 11:25:10 |\r\n",
      "| JOY GEORGE            |           124.67 | 2017-04-30 11:25:10 |\r\n",
      "| CARRIE PORTER         |           124.66 | 2017-04-30 11:25:10 |\r\n",
      "| LYNN PAYNE            |           123.72 | 2017-04-30 11:25:10 |\r\n",
      "| NINA SOTO             |           123.71 | 2017-04-30 11:25:10 |\r\n",
      "| MARC OUTLAW           |           123.70 | 2017-04-30 11:25:10 |\r\n",
      "| MELISSA KING          |           123.66 | 2017-04-30 11:25:10 |\r\n",
      "| BEN EASTER            |           122.74 | 2017-04-30 11:25:10 |\r\n",
      "| ERIC ROBERT           |           122.73 | 2017-04-30 11:25:10 |\r\n",
      "| BRANDY GRAVES         |           122.72 | 2017-04-30 11:25:10 |\r\n",
      "| CATHY SPENCER         |           122.71 | 2017-04-30 11:25:10 |\r\n",
      "| HILDA HOPKINS         |           122.71 | 2017-04-30 11:25:10 |\r\n",
      "| CHRISTY VARGAS        |           122.69 | 2017-04-30 11:25:10 |\r\n",
      "| NATHAN RUNYON         |           122.68 | 2017-04-30 11:25:10 |\r\n",
      "| HEIDI LARSON          |           122.66 | 2017-04-30 11:25:10 |\r\n",
      "| JOHNNIE CHISHOLM      |           121.76 | 2017-04-30 11:25:10 |\r\n",
      "| VALERIE BLACK         |           121.74 | 2017-04-30 11:25:10 |\r\n",
      "| GERALD FULTZ          |           121.70 | 2017-04-30 11:25:10 |\r\n",
      "| JEFFERY PINSON        |           121.69 | 2017-04-30 11:25:10 |\r\n",
      "| PHILIP CAUSEY         |           121.69 | 2017-04-30 11:25:10 |\r\n",
      "| PAUL TROUT            |           120.77 | 2017-04-30 11:25:10 |\r\n",
      "| ALFRED CASILLAS       |           120.74 | 2017-04-30 11:25:10 |\r\n",
      "| ARLENE HARVEY         |           120.74 | 2017-04-30 11:25:10 |\r\n",
      "| CHARLIE BESS          |           120.74 | 2017-04-30 11:25:10 |\r\n",
      "| DAWN SULLIVAN         |           120.74 | 2017-04-30 11:25:10 |\r\n",
      "| BYRON BOX             |           120.71 | 2017-04-30 11:25:10 |\r\n",
      "| SANDRA MARTIN         |           120.71 | 2017-04-30 11:25:10 |\r\n",
      "| VICKIE BREWER         |           120.69 | 2017-04-30 11:25:10 |\r\n",
      "+-----------------------+------------------+---------------------+\r\n",
      "205 rows in set (0.00 sec)\r\n",
      "\r\n"
     ]
    }
   ],
   "source": [
    "call practice(120);\n",
    "select * from sakila.newTable order by sumPaymentAmount desc;"
   ]
  },
  {
   "cell_type": "markdown",
   "metadata": {},
   "source": [
    "### 6.6.2 総合問題2\n",
    "\n",
    "以下のデータベースを使って 後の問に答えてください。\n",
    "\n",
    "https://sites.google.com/a/dlpage.phi-integration.com/pentaho/mondrian/mysql-foodmart-database/foodmart_mysql.tar.gz?attredirects=0\n",
    "\n",
    "解説はこちら\n",
    "\n",
    "https://github.com/julianhyde/foodmart-data-hsqldb\n",
    "\n",
    "http://www.fromdual.ch/foodmart-old"
   ]
  },
  {
   "cell_type": "markdown",
   "metadata": {},
   "source": [
    "(1) 1998年1月の従業員の給料ランキングを10位まで表示してください。"
   ]
  },
  {
   "cell_type": "markdown",
   "metadata": {},
   "source": [
    "(2) sales_fact_1998テーブルの中で、同じ人が同じ時間に買っている商品の2つの組み合わせの中で、購買回数が多い2つの商品はどれとどれでしょうか。TOP5を抽出して、商品名(product_name)でそれぞれ答えてください。なお、商品はproduct_idベースでカウントして、同じ人とはcustomer_idが同じことを意味し、同じ時間とはtime_idが同じことを意味します。なお、これをバスケット分析（同時併売）といい、期間併売で計算することもあります。"
   ]
  },
  {
   "cell_type": "markdown",
   "metadata": {},
   "source": [
    "・準備"
   ]
  },
  {
   "cell_type": "code",
   "execution_count": 22,
   "metadata": {
    "collapsed": false
   },
   "outputs": [
    {
     "name": "stdout",
     "output_type": "stream",
     "text": [
      "drop database if exists foodmart;\n",
      "\r\n",
      "Query OK, 0 rows affected (0.00 sec)\r\n",
      "\r\n"
     ]
    }
   ],
   "source": [
    "drop database if exists foodmart;"
   ]
  },
  {
   "cell_type": "code",
   "execution_count": 23,
   "metadata": {
    "collapsed": false
   },
   "outputs": [
    {
     "name": "stdout",
     "output_type": "stream",
     "text": [
      "create database foodmart;\n",
      "\r\n",
      "Query OK, 1 row affected (0.00 sec)\r\n",
      "\r\n"
     ]
    }
   ],
   "source": [
    "create database foodmart;"
   ]
  },
  {
   "cell_type": "markdown",
   "metadata": {},
   "source": [
    "上記のようにデータベースを用意したあとは、以下を実行。"
   ]
  },
  {
   "cell_type": "markdown",
   "metadata": {},
   "source": [
    "-------------------\n",
    "mkdir foodmart  \n",
    "cd foodmart  \n",
    "wget http://pentaho.dlpage.phi-integration.com/mondrian/mysql-foodmart-database/foodmart_mysql.tar.gz  \n",
    "tar zxf  foodmart_mysql.tar.gz  \n",
    "mysql -h\"db1\" -P\"3306\" -u root -p\"ilect\" foodmart < foodmart_mysql.sql  \n",
    "\n",
    "-------------------"
   ]
  },
  {
   "cell_type": "code",
   "execution_count": 1,
   "metadata": {
    "collapsed": false
   },
   "outputs": [
    {
     "name": "stdout",
     "output_type": "stream",
     "text": [
      "use foodmart;\n",
      "\r\n",
      "Database changed\r\n"
     ]
    }
   ],
   "source": [
    "use foodmart;"
   ]
  },
  {
   "cell_type": "code",
   "execution_count": 2,
   "metadata": {
    "collapsed": false,
    "scrolled": true
   },
   "outputs": [
    {
     "name": "stdout",
     "output_type": "stream",
     "text": [
      "show tables;\n",
      "+-------------------------------+\r\n",
      "| Tables_in_foodmart            |\r\n",
      "+-------------------------------+\r\n",
      "| account                       |\r\n",
      "| agg_c_10_sales_fact_1997      |\r\n",
      "| agg_c_14_sales_fact_1997      |\r\n",
      "| agg_c_special_sales_fact_1997 |\r\n",
      "| agg_g_ms_pcat_sales_fact_1997 |\r\n",
      "| agg_l_03_sales_fact_1997      |\r\n",
      "| agg_l_04_sales_fact_1997      |\r\n",
      "| agg_l_05_sales_fact_1997      |\r\n",
      "| agg_lc_06_sales_fact_1997     |\r\n",
      "| agg_lc_100_sales_fact_1997    |\r\n",
      "| agg_ll_01_sales_fact_1997     |\r\n",
      "| agg_pl_01_sales_fact_1997     |\r\n",
      "| category                      |\r\n",
      "| currency                      |\r\n",
      "| customer                      |\r\n",
      "| days                          |\r\n",
      "| department                    |\r\n",
      "| employee                      |\r\n",
      "| employee_closure              |\r\n",
      "| expense_fact                  |\r\n",
      "| inventory_fact_1997           |\r\n",
      "| inventory_fact_1998           |\r\n",
      "| position                      |\r\n",
      "| product                       |\r\n",
      "| product_class                 |\r\n",
      "| promotion                     |\r\n",
      "| region                        |\r\n",
      "| reserve_employee              |\r\n",
      "| salary                        |\r\n",
      "| sales_fact_1997               |\r\n",
      "| sales_fact_1998               |\r\n",
      "| sales_fact_dec_1998           |\r\n",
      "| store                         |\r\n",
      "| store_ragged                  |\r\n",
      "| time_by_day                   |\r\n",
      "| warehouse                     |\r\n",
      "| warehouse_class               |\r\n",
      "+-------------------------------+\r\n",
      "37 rows in set (0.00 sec)\r\n",
      "\r\n"
     ]
    }
   ],
   "source": [
    "show tables;"
   ]
  },
  {
   "cell_type": "markdown",
   "metadata": {},
   "source": [
    "解答　(1)"
   ]
  },
  {
   "cell_type": "code",
   "execution_count": 3,
   "metadata": {
    "collapsed": false
   },
   "outputs": [
    {
     "name": "stdout",
     "output_type": "stream",
     "text": [
      "/*解答(1)*/ select main.employee_id, main.salary, ( select count(b.pay_date) from foodmart.salary b where main.salary < b.salary_paid and DATE_FORMAT(b.pay_date,'%Y%m') = '199801' ) + 1 as rank from ( select a.employee_id, sum(a.salary_paid) salary from foodmart.salary a where DATE_FORMAT(a.pay_date,'%Y%m') = '199801' group by a.employee_id order by 2 desc ) main order by main.salary desc limit 10;\n",
      "+-------------+----------+------+\r\n",
      "| employee_id | salary   | rank |\r\n",
      "+-------------+----------+------+\r\n",
      "|          14 | 154.5455 |    1 |\r\n",
      "|          16 | 154.5455 |    1 |\r\n",
      "|           9 | 154.5455 |    1 |\r\n",
      "|          13 | 136.3636 |    4 |\r\n",
      "|          11 | 136.3636 |    4 |\r\n",
      "|         748 | 118.1818 |    6 |\r\n",
      "|         946 | 118.1818 |    6 |\r\n",
      "|        1066 | 118.1818 |    6 |\r\n",
      "|         821 | 118.1818 |    6 |\r\n",
      "|         885 | 118.1818 |    6 |\r\n",
      "+-------------+----------+------+\r\n",
      "10 rows in set (0.19 sec)\r\n",
      "\r\n"
     ]
    }
   ],
   "source": [
    "/*解答(1)*/\n",
    "select\n",
    "\tmain.employee_id,\n",
    "\tmain.salary,\n",
    "\t(\n",
    "\t\tselect count(b.pay_date)\n",
    "\t\tfrom foodmart.salary b\n",
    "\t\twhere main.salary < b.salary_paid and DATE_FORMAT(b.pay_date,'%Y%m') = '199801'\n",
    "\t) + 1 as rank\n",
    "from\n",
    "(\n",
    "select\n",
    "\ta.employee_id,\n",
    "\tsum(a.salary_paid) salary\n",
    "from foodmart.salary a\n",
    "where DATE_FORMAT(a.pay_date,'%Y%m') = '199801'\n",
    "group by a.employee_id\n",
    "order by 2 desc\n",
    ") main\n",
    "order by main.salary desc\n",
    "limit 10;"
   ]
  },
  {
   "cell_type": "markdown",
   "metadata": {},
   "source": [
    "解答　(2)"
   ]
  },
  {
   "cell_type": "code",
   "execution_count": 4,
   "metadata": {
    "collapsed": false,
    "scrolled": true
   },
   "outputs": [
    {
     "name": "stdout",
     "output_type": "stream",
     "text": [
      "/*解答(2)*/ select d.product_name as prod_name_1,e.product_name  as prod_name_2,c.cnt from (select a.product_id as prod_1,b.product_id as prod_2,count(*) as cnt from sales_fact_1998 a,sales_fact_1998 b where a.product_id > b.product_id and a.time_id=b.time_id and a.customer_id=b.customer_id group by 1,2 order by 3 desc limit 5) c left outer join product d on c.prod_1 = d.product_id left outer join product e on c.prod_2 = e.product_id ;\n",
      "+---------------------------------+----------------------------+-----+\r\n",
      "| prod_name_1                     | prod_name_2                | cnt |\r\n",
      "+---------------------------------+----------------------------+-----+\r\n",
      "| Big Time Apple Cinnamon Waffles | Carlson Low Fat Sour Cream |  12 |\r\n",
      "| Plato Strawberry Jelly          | Tell Tale New Potatos      |  11 |\r\n",
      "| Great Wheat Bread               | Best Choice Salsa Dip      |  11 |\r\n",
      "| Big Time Frozen Chicken Breast  | Better Fancy Canned Clams  |  10 |\r\n",
      "| Tell Tale Tomatos               | Denny 60 Watt Lightbulb    |  10 |\r\n",
      "+---------------------------------+----------------------------+-----+\r\n",
      "5 rows in set (8.68 sec)\r\n",
      "\r\n"
     ]
    }
   ],
   "source": [
    "/*解答(2)*/\n",
    "select d.product_name as prod_name_1,e.product_name  as prod_name_2,c.cnt\n",
    "from (select a.product_id as prod_1,b.product_id as prod_2,count(*) as cnt\n",
    "from sales_fact_1998 a,sales_fact_1998 b \n",
    "where a.product_id > b.product_id and a.time_id=b.time_id and a.customer_id=b.customer_id \n",
    "group by 1,2 order by 3 desc limit 5) c \n",
    "left outer join product d on c.prod_1 = d.product_id \n",
    "left outer join product e on c.prod_2 = e.product_id ;"
   ]
  }
 ],
 "metadata": {
  "anaconda-cloud": {},
  "kernelspec": {
   "display_name": "mysql",
   "language": "",
   "name": "mysql"
  },
  "language_info": {
   "file_extension": ".sql",
   "mimetype": "text/plain",
   "name": "mysql"
  }
 },
 "nbformat": 4,
 "nbformat_minor": 0
}
